{
 "cells": [
  {
   "cell_type": "markdown",
   "metadata": {},
   "source": [
    "# TP6\n",
    "\n",
    "### `Resolver usando Pandas`\n",
    "\n",
    "Resolver los ejercicios del TP3 utilizando la librería Pandas."
   ]
  },
  {
   "cell_type": "markdown",
   "metadata": {},
   "source": [
    "### Ejercicio 1: Cargar Datos de ventas.\n",
    "\n",
    "El archivo datos.dat contiene el registro de las ventas realizadas.\n",
    "\n",
    "Tiene un formato de ancho fijo:\n",
    "- `fecha`:    10 lugares\n",
    "- `producto`: 30 lugares\n",
    "- `precio`:   10 lugares\n",
    "- `cantidad`:  5 lugares\n",
    "\n",
    "Hacer una funcion que cargue los datos en un DataFrame de Pandas."
   ]
  },
  {
   "cell_type": "code",
   "execution_count": 2,
   "metadata": {},
   "outputs": [
    {
     "name": "stdout",
     "output_type": "stream",
     "text": [
      "         Fecha Descripcion  Stock_Disponible  Precio_Unitario\n",
      "0   2024-08-27     Mirinda              1510             14.0\n",
      "1   2024-08-27     Mirinda              1560             12.0\n",
      "2   2024-08-28     Torasso               940              8.0\n",
      "3   2024-08-29  Pepsi Cola              1210             10.0\n",
      "4   2024-08-30     Mirinda              1520              1.0\n",
      "5   2024-09-01     Mirinda              1550             15.0\n",
      "6   2024-09-01      Sprite               810              4.0\n",
      "7   2024-09-02   Coca Cola              1100              4.0\n",
      "8   2024-09-02  Pepsi Cola              1220             13.0\n",
      "9   2024-09-02     Torasso               910              5.0\n",
      "10  2024-09-02     Torasso               920              3.0\n",
      "11  2024-09-03   Coca Cola              1020              8.0\n",
      "12  2024-09-03     Mirinda              1570              7.0\n",
      "13  2024-09-03     Mirinda              1590              2.0\n",
      "14  2024-09-04  Pepsi Cola              1220             13.0\n",
      "15  2024-09-05     Mirinda              1500              3.0\n",
      "16  2024-09-05  Pepsi Cola              1300              5.0\n",
      "17  2024-09-06   Coca Cola              1080              1.0\n",
      "18  2024-09-06      Sprite               860             12.0\n",
      "19  2024-09-06     Torasso               930              3.0\n",
      "20  2024-09-07   Coca Cola              1080             14.0\n",
      "21  2024-09-07      Sprite               870             13.0\n",
      "22  2024-09-08   Coca Cola              1040             10.0\n",
      "23  2024-09-08     Mirinda              1580              2.0\n",
      "24  2024-09-08  Pepsi Cola              1240              9.0\n",
      "25  2024-09-09     Mirinda              1500              3.0\n",
      "26  2024-09-09      Sprite               850              9.0\n",
      "27  2024-09-10     Mirinda              1590              8.0\n",
      "28  2024-09-10  Pepsi Cola              1250             12.0\n",
      "29  2024-09-11      Sprite               810              6.0\n",
      "30  2024-09-11      Sprite               820             14.0\n",
      "31  2024-09-12   Coca Cola              1080              4.0\n",
      "32  2024-09-13     Mirinda              1580              5.0\n",
      "33  2024-09-13  Pepsi Cola              1250             13.0\n",
      "34  2024-09-14   Coca Cola              1080             15.0\n",
      "35  2024-09-14  Pepsi Cola              1270             14.0\n",
      "36  2024-09-15   Coca Cola              1100              1.0\n",
      "37  2024-09-15     Mirinda              1500             13.0\n",
      "38  2024-09-15      Sprite               870             14.0\n",
      "39  2024-09-15     Torasso               900             13.0\n"
     ]
    }
   ],
   "source": [
    "import pandas as pd;\n",
    "#print(pd.__version__); #Verifico correcta instalacion de la libreria\n",
    "\n",
    "def cargar_datos():\n",
    "    lineas = open(\"datos.dat\", \"r\").readlines()\n",
    "    #almaceno los datos en la lista\n",
    "    lista = []\n",
    "    for item in lineas:\n",
    "        #Recorro cada uno de los campos de la lista\n",
    "        Fecha = item[:10].strip()\n",
    "        Descripcion = item[10:40].strip()\n",
    "        Stock_Disponible = int(item[40:50].strip())  # Convertir a entero\n",
    "        Precio_Unitario = float(item[50:55].strip())  # Convertir a flotante\n",
    "        #Agrego al diccionario los campos\n",
    "        dicc = {\n",
    "            \"Fecha\": Fecha,\n",
    "            \"Descripcion\": Descripcion,\n",
    "            \"Stock_Disponible\": Stock_Disponible,\n",
    "            \"Precio_Unitario\": Precio_Unitario\n",
    "        }\n",
    "        #agrego a la lista el diccionario\n",
    "        lista.append(dicc)\n",
    "        data = pd.DataFrame(lista)  #por medio del DataFrame muestro los datos\n",
    "    return data;\n",
    "datos = cargar_datos()\n",
    "print(datos);"
   ]
  },
  {
   "cell_type": "markdown",
   "metadata": {},
   "source": [
    "### Ejercicio 2: Calcular el total de ventas.\n",
    "Hacer una función que sume los importes vendidos (precio * cantidad) y las cantidades.\n"
   ]
  },
  {
   "cell_type": "code",
   "execution_count": 7,
   "metadata": {},
   "outputs": [
    {
     "name": "stdout",
     "output_type": "stream",
     "text": [
      "Importe 392730.0\n",
      "Contador 313\n"
     ]
    }
   ],
   "source": [
    "def calcular_totales(datos):\n",
    "    #Obtengo el importe calculando el stock * precio y lo acumulo\n",
    "    importe = datos[\"Stock_Disponible\"] * datos[\"Precio_Unitario\"];\n",
    "    importe_total = sum(importe);\n",
    "    #Obtengo la longitud total\n",
    "    cantidad_total = len(datos[\"Descripcion\"].sum());\n",
    "    print(\"Importe\",importe_total);\n",
    "    print(\"Contador\",cantidad_total);\n",
    "calcular_totales(datos);"
   ]
  },
  {
   "cell_type": "markdown",
   "metadata": {},
   "source": [
    "### Ejercicio 3: Listar las unidades vendidas.\n",
    "Listar cuántas unidades se vendieron en total para cada producto\n"
   ]
  },
  {
   "cell_type": "code",
   "execution_count": 11,
   "metadata": {},
   "outputs": [
    {
     "data": {
      "text/html": [
       "<div>\n",
       "<style scoped>\n",
       "    .dataframe tbody tr th:only-of-type {\n",
       "        vertical-align: middle;\n",
       "    }\n",
       "\n",
       "    .dataframe tbody tr th {\n",
       "        vertical-align: top;\n",
       "    }\n",
       "\n",
       "    .dataframe thead th {\n",
       "        text-align: right;\n",
       "    }\n",
       "</style>\n",
       "<table border=\"1\" class=\"dataframe\">\n",
       "  <thead>\n",
       "    <tr style=\"text-align: right;\">\n",
       "      <th></th>\n",
       "      <th>Stock_Disponible</th>\n",
       "    </tr>\n",
       "    <tr>\n",
       "      <th>Descripcion</th>\n",
       "      <th></th>\n",
       "    </tr>\n",
       "  </thead>\n",
       "  <tbody>\n",
       "    <tr>\n",
       "      <th>Coca Cola</th>\n",
       "      <td>8580</td>\n",
       "    </tr>\n",
       "    <tr>\n",
       "      <th>Mirinda</th>\n",
       "      <td>18550</td>\n",
       "    </tr>\n",
       "    <tr>\n",
       "      <th>Pepsi Cola</th>\n",
       "      <td>9960</td>\n",
       "    </tr>\n",
       "    <tr>\n",
       "      <th>Sprite</th>\n",
       "      <td>5890</td>\n",
       "    </tr>\n",
       "    <tr>\n",
       "      <th>Torasso</th>\n",
       "      <td>4600</td>\n",
       "    </tr>\n",
       "  </tbody>\n",
       "</table>\n",
       "</div>"
      ],
      "text/plain": [
       "             Stock_Disponible\n",
       "Descripcion                  \n",
       "Coca Cola                8580\n",
       "Mirinda                 18550\n",
       "Pepsi Cola               9960\n",
       "Sprite                   5890\n",
       "Torasso                  4600"
      ]
     },
     "execution_count": 11,
     "metadata": {},
     "output_type": "execute_result"
    }
   ],
   "source": [
    "def unidades_vendidas(datos):\n",
    "    #Listo el stock que posee el producto y su nombre\n",
    "    unidades_totales = pd.pivot_table(datos, values='Stock_Disponible', index='Descripcion', aggfunc='sum')\n",
    "    return unidades_totales;\n",
    "\n",
    "unidades_vendidas(datos)"
   ]
  },
  {
   "cell_type": "markdown",
   "metadata": {},
   "source": [
    "###  Ejercicio 4: Listar el precio promedio por producto.\n",
    "Hacer un listado del precio promedio por producto.\n"
   ]
  },
  {
   "cell_type": "code",
   "execution_count": 14,
   "metadata": {},
   "outputs": [
    {
     "name": "stdout",
     "output_type": "stream",
     "text": [
      "Coca Cola 7.125\n",
      "Mirinda 7.083333333333333\n",
      "Pepsi Cola 11.125\n",
      "Sprite 10.285714285714286\n",
      "Torasso 6.4\n"
     ]
    }
   ],
   "source": [
    "def precio_promedio(datos):\n",
    "    #Imprimo el precio promedio del producto obtenido por medio del metodo mean con su descripcion\n",
    "    precio = datos.groupby(\"Descripcion\")[\"Precio_Unitario\"].mean();\n",
    "\n",
    "    for prod,pre in precio.items():\n",
    "        print(prod,pre);\n",
    "\n",
    "precio_promedio(datos)"
   ]
  },
  {
   "cell_type": "markdown",
   "metadata": {},
   "source": [
    "### Ejercicio 5: Ranking de productos\n",
    "Realizar un listado de los 3 productos más vendidos ordenados por la cantidad de unidades vendidas (ordenadas de mayor a menor)\n"
   ]
  },
  {
   "cell_type": "code",
   "execution_count": 51,
   "metadata": {},
   "outputs": [
    {
     "name": "stdout",
     "output_type": "stream",
     "text": [
      "  Descripcion  Stock_Disponible\n",
      "1     Mirinda             18550\n",
      "2  Pepsi Cola              9960\n",
      "0   Coca Cola              8580\n"
     ]
    }
   ],
   "source": [
    "def ranking_productos(datos, top=3):\n",
    "    #ordeno los productos teniendo en cuenta el stock ordenandolo de mayor a menor\n",
    "    r = datos.groupby('Descripcion')['Stock_Disponible'].sum().reset_index()\n",
    "    r = r.sort_values(by='Stock_Disponible', ascending=False).head(top)\n",
    "    return r;\n",
    "\n",
    "print(ranking_productos(datos));"
   ]
  },
  {
   "cell_type": "markdown",
   "metadata": {},
   "source": [
    "### Ejercicio 6: Listar las ventas por mes\n",
    "Realizar un listado del total de unidades vendidas por producto separado por mes.\n"
   ]
  },
  {
   "cell_type": "code",
   "execution_count": 64,
   "metadata": {},
   "outputs": [
    {
     "name": "stdout",
     "output_type": "stream",
     "text": [
      "     Fecha Descripcion  Stock_Disponible\n",
      "0  2024-08     Mirinda              4590\n",
      "1  2024-08  Pepsi Cola              1210\n",
      "2  2024-08     Torasso               940\n",
      "3  2024-09   Coca Cola              8580\n",
      "4  2024-09     Mirinda             13960\n",
      "5  2024-09  Pepsi Cola              8750\n",
      "6  2024-09      Sprite              5890\n",
      "7  2024-09     Torasso              3660\n"
     ]
    }
   ],
   "source": [
    "def ventas_por_mes(datos):\n",
    "  #Listo los datos teniendo en cuenta el stock vendido por cada mes.\n",
    "  datos['Fecha'] = pd.to_datetime(datos['Fecha'], format='%m-%Y')\n",
    "  ventas_mensuales = datos.groupby([datos['Fecha'].dt.to_period('M'), 'Descripcion'])['Stock_Disponible'].sum().reset_index()\n",
    "  return ventas_mensuales;\n",
    "\n",
    "print(ventas_por_mes(datos));"
   ]
  },
  {
   "cell_type": "markdown",
   "metadata": {},
   "source": [
    "### Ejercicio 7: Informe general\n",
    "\n",
    "Mostrar un listado de productos ordenados alfabeticamente que contengan el precio promedio, la cantidad de unidades vendidas y el importe total vendido para cada producto"
   ]
  },
  {
   "cell_type": "code",
   "execution_count": 65,
   "metadata": {},
   "outputs": [
    {
     "name": "stdout",
     "output_type": "stream",
     "text": [
      "  Descripcion  precio_promedio  total_unidades\n",
      "0   Coca Cola         7.125000            8580\n",
      "1     Mirinda         7.083333           18550\n",
      "2  Pepsi Cola        11.125000            9960\n",
      "3      Sprite        10.285714            5890\n",
      "4     Torasso         6.400000            4600\n"
     ]
    }
   ],
   "source": [
    "def resumen_ventas(datos):\n",
    "    #Imprimo el precio,stock,ordenados de forma alfabeticamente\n",
    "    informacion = datos.groupby('Descripcion').agg(\n",
    "           precio_promedio=('Precio_Unitario', 'mean'),\n",
    "           total_unidades=('Stock_Disponible', 'sum')\n",
    "       ).reset_index()\n",
    "    informacion = informacion.sort_values(by='Descripcion')\n",
    "    return informacion;\n",
    "\n",
    "print(resumen_ventas(datos))"
   ]
  },
  {
   "cell_type": "markdown",
   "metadata": {},
   "source": [
    "## `Resolver usando NumPy`\n",
    "## Resolver el ejercicio 2 del tp1 usando NumPy"
   ]
  },
  {
   "cell_type": "markdown",
   "metadata": {},
   "source": [
    "### Ejercicio 8\n",
    "\n",
    "Escribe una función en Python que encuentre los valores de `a`, `b`, y `c` para que la función cuadrática `f(x) = a x^2 + b x + c` pase exactamente por los siguientes puntos:\n",
    "\n",
    "| x  | y  |\n",
    "|---:|---:|\n",
    "|  0 |  0 |\n",
    "|  1 |  8 |\n",
    "|  2 | 12 |\n",
    "|  3 | 12 |\n",
    "|  5 |  0 |\n",
    "\n",
    "### Requisitos:\n",
    "- La función debe explorar posibles valores de `a`, `b`, y `c` utilizando un método de prueba y error.\n",
    "- Debe devolver los valores que hagan que la diferencia entre la función `f(x)` y los valores medidos `y` sea exactamente cero para cada punto.\n",
    "\n",
    "> **Pista**: Los valores de `a`, `b`, y `c` son números pequeños.\n",
    "\n",
    "La idea es implementar el mismo algoritmo que se uso en el TP1 pero usando NumPy en lugar de Python puro."
   ]
  },
  {
   "cell_type": "code",
   "execution_count": 66,
   "metadata": {},
   "outputs": [
    {
     "name": "stdout",
     "output_type": "stream",
     "text": [
      "a= -2\n",
      "b= 10\n",
      "c= 0\n"
     ]
    }
   ],
   "source": [
    "import numpy as np\n",
    "def f(x, coeficientes):\n",
    "    a,b,c = coeficientes\n",
    "    return a*x**2 + b*x + c\n",
    "\n",
    "def error(y, y_pred):\n",
    "    return y - y_pred\n",
    "\n",
    "X = np.array([0,1,2,3,5])\n",
    "Y = np.array([0,8,12,12,0])\n",
    "\n",
    "def buscar_coeficientes():\n",
    "    rango = np.arange(-10, 11, 1)\n",
    "    #recorro cada valor del rango y verifico si es igual a Y y si coincide imprimo los coeficientes.\n",
    "    for a in rango:\n",
    "        for b in rango:\n",
    "            for c in rango:\n",
    "                y_pred = f(X, (a, b, c))\n",
    "                if np.all(y_pred == Y):\n",
    "                   print(f\"a= {a}\\nb= {b}\\nc= {c}\")\n",
    "               \n",
    "coeficientes = buscar_coeficientes()\n",
    "#print(coeficientes)"
   ]
  },
  {
   "cell_type": "markdown",
   "metadata": {},
   "source": [
    "### Ejercicio 9: Resolver el ejercicio 3 del TP1 usando NumPy\n",
    "Buscar los coeficientes de la función que minimice la suma de los cuadrados de las diferencias entre los valores medidos y los valores de la función.\n",
    "\n",
    "1. Crear un array con los coeficientes elegidos al azar (usar `randint(-10,10,3)`).\n",
    "2. Calcular el valor de la función y el error correspondiente.\n",
    "3. Mientras que el error sea mayor a 1:\n",
    "    1. Definir nuevos coeficientes agregándoles un pequeño valor al azar a los coeficientes actuales (aprendizaje = 0.001).\n",
    "    2. Si el error para los nuevos coeficientes es menor que el anterior, reemplazar los coeficientes actuales por los nuevos.\n"
   ]
  },
  {
   "cell_type": "code",
   "execution_count": 67,
   "metadata": {},
   "outputs": [
    {
     "name": "stdout",
     "output_type": "stream",
     "text": [
      "[-7  2  2]\n"
     ]
    }
   ],
   "source": [
    "import numpy as np\n",
    "from numpy.random import randint\n",
    "\n",
    "def f(x, coeficientes):\n",
    "    a,b,c = coeficientes\n",
    "    return a*x**2 + b*x + c\n",
    "\n",
    "def error(y, y_pred):\n",
    "    return np.sum((y - y_pred)**2)\n",
    "\n",
    "X = np.array([0, 1, 2, 3, 5])\n",
    "Y = np.array([0, 8,12,11, 1]) # Observar que no son los mismos valores que en el ejemplo anterior\n",
    "\n",
    "def buscar_coeficientes():\n",
    "    #obtengo los coeficientes usando randint \n",
    "    coeficientes = randint(-10, 10, 3)\n",
    "    #obtengo el error y cantidad de repeticiones\n",
    "    err = error(Y, f(X, coeficientes));\n",
    "    repeticiones = 0;\n",
    "    \n",
    "    #mientras el err sea mayor a 1 y las iteraciones sean menor a 10000 almacenara los datos\n",
    "    while err > 1 and repeticiones < 10000:\n",
    "        coeficiente_generados = coeficientes + randint(-1, 2, 3);\n",
    "        nuevo_error = error(Y, f(X, coeficiente_generados));\n",
    "        \n",
    "        # si el nuevo error es menor que el establecido lo almacena en la variable err\n",
    "        if nuevo_error < err:\n",
    "            coeficientes = coeficiente_generados;\n",
    "            err = nuevo_error;\n",
    "        else:\n",
    "            repeticiones+=1;\n",
    "        #caso contrario incrementa acumulador y retorno coeficientes\n",
    "        return coeficientes;\n",
    "coeficientes = buscar_coeficientes()\n",
    "print(coeficientes)"
   ]
  }
 ],
 "metadata": {
  "kernelspec": {
   "display_name": "Python 3",
   "language": "python",
   "name": "python3"
  },
  "language_info": {
   "codemirror_mode": {
    "name": "ipython",
    "version": 3
   },
   "file_extension": ".py",
   "mimetype": "text/x-python",
   "name": "python",
   "nbconvert_exporter": "python",
   "pygments_lexer": "ipython3",
   "version": "3.12.5"
  }
 },
 "nbformat": 4,
 "nbformat_minor": 2
}
