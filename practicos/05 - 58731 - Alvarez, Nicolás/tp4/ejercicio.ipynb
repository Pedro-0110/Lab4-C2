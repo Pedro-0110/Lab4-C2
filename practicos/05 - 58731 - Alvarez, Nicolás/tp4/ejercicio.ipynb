{
 "cells": [
  {
   "cell_type": "markdown",
   "metadata": {},
   "source": [
    "# Simulación del Truco"
   ]
  },
  {
   "cell_type": "markdown",
   "metadata": {},
   "source": [
    "Las **cartas** deben registra el numero, palo y valor de la carta. \n",
    "El valor debe reflejar la jerarquía de las cartas en el juego del truco."
   ]
  },
  {
   "cell_type": "code",
   "execution_count": 4,
   "metadata": {},
   "outputs": [],
   "source": [
    "import random;\n",
    "def calcular_valor(numero, palo):\n",
    "    # Evalua cada posible valor de las cartas.\n",
    "    if numero == 1 and palo == \"espada\":\n",
    "        return 14\n",
    "    if numero == 1 and palo == \"copa\":\n",
    "        return 8;\n",
    "    if numero == 1 and palo == \"oro\":\n",
    "        return 8;\n",
    "    if numero == 1 and palo == \"basto\":\n",
    "        return 13;\n",
    "    if numero == 2 and palo == \"oro\":\n",
    "        return  9;\n",
    "    if numero == 2 and palo == \"copa\":\n",
    "        return 9;\n",
    "    if numero == 2 and palo == \"espada\":\n",
    "        return 9;\n",
    "    if numero == 2 and palo == \"basto\":\n",
    "        return 9;\n",
    "    if numero == 3 and palo == \"oro\":\n",
    "        return 10;\n",
    "    if numero == 3 and palo == \"copa\":\n",
    "        return 10;\n",
    "    if numero == 3 and palo == \"espada\":\n",
    "        return 10;\n",
    "    if numero == 3 and palo == \"basto\":\n",
    "        return 10;\n",
    "    if numero == 4 and palo == \"oro\":\n",
    "        return 1;\n",
    "    if numero == 4 and palo == \"copa\":\n",
    "        return 1; \n",
    "    if numero == 4 and palo == \"espada\":\n",
    "        return 1;\n",
    "    if numero == 4 and palo == \"basto\":\n",
    "        return 1;\n",
    "    if numero == 5 and palo == \"oro\":\n",
    "        return 2;\n",
    "    if numero == 5 and palo == \"copa\":\n",
    "        return 2;\n",
    "    if numero == 5 and palo == \"espada\":\n",
    "        return 2;\n",
    "    if numero == 5 and palo == \"basto\":\n",
    "        return 2;\n",
    "    if numero == 6 and palo == \"oro\":\n",
    "        return 3;\n",
    "    if numero == 6 and palo == \"copa\":\n",
    "        return 3; \n",
    "    if numero == 6 and palo == \"espada\":\n",
    "        return 3;\n",
    "    if numero == 6 and palo == \"basto\":\n",
    "        return 3;\n",
    "    if numero == 7 and palo == \"espada\":\n",
    "        return 12;\n",
    "    if numero == 7 and palo == \"oro\":\n",
    "       return 11;\n",
    "    if numero == 7 and palo == \"copa\":\n",
    "       return 4;\n",
    "    if numero == 7 and palo == \"basto\":\n",
    "       return 4;\n",
    "    if numero == 10 and palo == \"oro\":\n",
    "        return 5;\n",
    "    if numero == 10 and palo == \"copa\":\n",
    "        return 5;\n",
    "    if numero == 10 and palo == \"espada\":\n",
    "        return 5;\n",
    "    if numero == 10 and palo == \"basto\":\n",
    "        return 5;\n",
    "    if numero == 11 and palo == \"oro\":\n",
    "        return 6;\n",
    "    if numero == 11 and palo == \"copa\":\n",
    "        return 6;\n",
    "    if numero == 11 and palo == \"espada\":\n",
    "        return 6;\n",
    "    if numero == 11 and palo == \"basto\":\n",
    "        return 6;\n",
    "    if numero == 12 and palo == \"oro\":\n",
    "        return 7;\n",
    "    if numero == 12 and palo == \"basto\":\n",
    "        return 7;\n",
    "    if numero == 12 and palo == \"copa\":\n",
    "        return 7;\n",
    "    if numero == 12 and palo == \"espada\":\n",
    "        return 7;\n",
    "    \n",
    "#En esta clase inicializo numero,palo,y invoco al metodo creado para validar las cartas y imprimo la informacion\n",
    "class Carta:\n",
    "    def _init_(self, numero, palo):\n",
    "        self.numero = numero\n",
    "        self.palo = palo\n",
    "        self.calculo = calcular_valor(self.numero, self.palo)\n",
    "    \n",
    "    def _str_(self):\n",
    "        return f\"{self.numero} de {self.palo} : {self.calculo}\"\n"
   ]
  },
  {
   "cell_type": "markdown",
   "metadata": {},
   "source": [
    "**Mazo**: Representan las cartas españolas de 1 al 12, en los palos de oro, copa, espada y basto.\n",
    "\n",
    "Debe existir una función que permita barajar las cartas.\n",
    "y otra función que permita repartir las cartas a los jugadores."
   ]
  },
  {
   "cell_type": "code",
   "execution_count": 5,
   "metadata": {},
   "outputs": [
    {
     "name": "stdout",
     "output_type": "stream",
     "text": [
      "None\n"
     ]
    }
   ],
   "source": [
    "#En la clase mazo inicializo el listado de cartas, los valores de las cartas y los palos, luego mezclo esas cartas y las reparto usando el metodo pop\n",
    "class Mazo:\n",
    "    def _init_(self):\n",
    "        self.cartas = []  \n",
    "        valores = [1, 2, 3, 4, 5, 6, 7, 10, 11, 12]\n",
    "        palos = [\"copa\", \"oro\", \"basto\", \"espada\"]\n",
    "        for numero in valores:\n",
    "            for palo in palos:\n",
    "                self.cartas.append(Carta(numero, palo))  \n",
    "    \n",
    "    def mezclar(self):\n",
    "        random.shuffle(self.cartas)\n",
    "        \n",
    "    def repartir(self, cantidad):\n",
    "        repartidas = []\n",
    "        for _ in range(cantidad):\n",
    "            repartidas.append(self.cartas.pop(0)) \n",
    "        return repartidas"
   ]
  },
  {
   "cell_type": "markdown",
   "metadata": {},
   "source": [
    "**Jugador**: Deben tener un nombre y las cartas que tiene en la mano. Debe acumular los puntos ganados.\n",
    "\n",
    "Nota: Para simplificar el problema, el jugador elige la carta a jugar de forma aleatoria."
   ]
  },
  {
   "cell_type": "code",
   "execution_count": 6,
   "metadata": {},
   "outputs": [
    {
     "name": "stdout",
     "output_type": "stream",
     "text": [
      "None\n"
     ]
    }
   ],
   "source": [
    "# En esta clase inicializo la informacion, ademas de recibir las cartas y jugarlas acumulando los puntos y retornando los datos\n",
    "class Jugador:\n",
    "    def _init_(self, nombre):\n",
    "        self.puntos_obtenidos = 0\n",
    "        self.nombre = nombre\n",
    "        self.cartas_obtenidas = []\n",
    " \n",
    "    def recibir_cartas(self, cartas):\n",
    "        self.cartas_obtenidas = cartas\n",
    "   \n",
    "    def jugar_carta(self):\n",
    "        for carta in self.cartas_obtenidas:\n",
    "            self.puntos_obtenidos += carta.calculo\n",
    "        return f\"{self.nombre} tiene las cartas {', '.join(str(c) for c in self.cartas_obtenidas)}y tiene {self.puntos_obtenidos} puntos\"\n"
   ]
  },
  {
   "cell_type": "markdown",
   "metadata": {},
   "source": [
    "**Partida**: Debe tener dos jugadores, un mazo de cartas y un puntaje. Debe permitir jugar una carta por ronda y definir el ganador de la ronda. Debe permitir jugar hasta que se terminen las cartas del mazo."
   ]
  },
  {
   "cell_type": "code",
   "execution_count": null,
   "metadata": {},
   "outputs": [],
   "source": [
    "#En la clase partida inicializa la informacion, y se juega la ronda comparando los puntos obtenidos y determinando el ganador de la ronda\n",
    "#En la funcion jugar valido que no se hayan jugado las 3 vueltas y que ningun jugador llego a 15 puntos e imprimo resultados\n",
    "class Partida:\n",
    "    def _init_(self, primer_competidor, segundo_competidor):\n",
    "        self.primer_competidor = primer_competidor\n",
    "        self.segundo_competidor = segundo_competidor\n",
    "        self.mazo = Mazo()\n",
    "        self.rondas = 0;\n",
    "\n",
    "    def jugar_ronda(self):\n",
    "        self.mazo.mezclar()\n",
    "        self.primer_competidor.recibir_cartas(self.mazo.repartir(3))\n",
    "        self.segundo_competidor.recibir_cartas(self.mazo.repartir(3))\n",
    "        \n",
    "        puntos_jugador1 = self.primer_competidor.jugar_carta()\n",
    "        puntos_jugador2 = self.segundo_competidor.jugar_carta()\n",
    "\n",
    "        if puntos_jugador1 > puntos_jugador2:\n",
    "            print(f\"Gano {self.primer_competidor.nombre} con un puntaje de {puntos_jugador1} puntos\")\n",
    "            self.primer_competidor.puntos_obtenidos += 1  \n",
    "            ganador = self.primer_competidor\n",
    "        elif puntos_jugador1 == puntos_jugador2:\n",
    "            print(f\"Empataron {self.primer_competidor.nombre} y {self.segundo_competidor.nombre} con {puntos_jugador1} puntos\")\n",
    "            ganador = None\n",
    "        else:\n",
    "            print(f\"Gano {self.segundo_competidor.nombre} con un puntaje de {puntos_jugador2} puntos\")\n",
    "            self.segundo_competidor.puntos_obtenidos += 1 \n",
    "            ganador = self.segundo_competidor\n",
    "\n",
    "        return ganador \n",
    "\n",
    "    def jugar(self):\n",
    "        while self.rondas < 3 and (self.primer_competidor.puntos_obtenidos < 15 and self.segundo_competidor.puntos_obtenidos < 15):\n",
    "            ganador = self.jugar_ronda()\n",
    "            self.rondas += 1\n",
    "            print(f\"Rondas jugadas: {self.rondas}\")\n",
    "            print(f\"Puntos de {self.primer_competidor.nombre}: {self.primer_competidor.puntos_obtenidos}\")\n",
    "            print(f\"Puntos de {self.segundo_competidor.nombre}: {self.segundo_competidor.puntos_obtenidos}\")\n",
    "\n",
    "jugador1 = Jugador(\"Nicolas\")\n",
    "jugador2 = Jugador(\"Xiomara\")\n",
    "partida = Partida(jugador1, jugador2)\n",
    "partida.jugar()"
   ]
  }
 ],
 "metadata": {
  "kernelspec": {
   "display_name": "Python 3",
   "language": "python",
   "name": "python3"
  },
  "language_info": {
   "codemirror_mode": {
    "name": "ipython",
    "version": 3
   },
   "file_extension": ".py",
   "mimetype": "text/x-python",
   "name": "python",
   "nbconvert_exporter": "python",
   "pygments_lexer": "ipython3",
   "version": "3.12.5"
  }
 },
 "nbformat": 4,
 "nbformat_minor": 2
}
