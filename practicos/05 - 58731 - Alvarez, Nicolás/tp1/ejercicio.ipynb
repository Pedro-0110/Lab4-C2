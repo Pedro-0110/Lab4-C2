{
 "cells": [
  {
   "cell_type": "markdown",
   "metadata": {},
   "source": [
    "# Trabajo práctico 1\n",
    "\n"
   ]
  },
  {
   "cell_type": "markdown",
   "metadata": {},
   "source": [
    "## Ejercicio 1 \n",
    "\n",
    "Escribe una función en Python que procese una lista de cadenas de texto y realice las siguientes acciones:\n",
    "\n",
    "1. La función debe tomar una lista de frases y convertir cada frase en una lista de palabras.\n",
    "1.  Luego, debe crear una nueva lista que contenga la cantidad de palabras en cada frase.\n",
    "1. Finalmente, la función debe imprimir cada frase original junto con la cantidad de palabras que contiene.\n",
    "Ejemplo de uso:\n",
    "```python\n",
    "    frases = [\n",
    "        \"Python es un lenguaje de programación\",\n",
    "        \"Me gusta resolver problemas con código\",\n",
    "        \"Las listas y los bucles son muy útiles\"\n",
    "    ]\n",
    "\n",
    "    procesar_frases(frases)\n",
    "```\n",
    "Requisitos:\n",
    "La función debe utilizar un bucle for para iterar sobre la lista de frases y contar las palabras en cada una.\n",
    "Debe crear y devolver una nueva lista con los conteos de palabras, y luego imprimir el resultado de forma clara."
   ]
  },
  {
   "cell_type": "code",
   "execution_count": 11,
   "metadata": {},
   "outputs": [
    {
     "name": "stdout",
     "output_type": "stream",
     "text": [
      "La frase Python es un lenguaje de programación tiene 37 caracteres y 6 palabras\n",
      "La frase Me gusta resolver problemas con código tiene 38 caracteres y 6 palabras\n",
      "La frase Las listas y los bucles son muy útiles tiene 38 caracteres y 8 palabras\n",
      "todas las pruebas pasarombn\n"
     ]
    }
   ],
   "source": [
    "frases = [\n",
    "    \"Python es un lenguaje de programación\",\n",
    "    \"Me gusta resolver problemas con código\",\n",
    "    \"Las listas y los bucles son muy útiles\"\n",
    "]\n",
    "\n",
    "def procesar_frases():\n",
    "    #Declaro las listas que almacenaran los valores\n",
    "    palabras = []\n",
    "    caracteres = []\n",
    "    \n",
    "    #Recorro la lista y obtengo la longitud de la frase luego de dividir la lista y la adiciono a su correspondiente lista.\n",
    "    for frase in frases:\n",
    "        cantidad_palabras = len(frase.split())\n",
    "        palabras.append(cantidad_palabras)\n",
    "        cantidad_letras = len(frase)\n",
    "        caracteres.append(cantidad_letras)\n",
    "        # Imprimo la frase con su cantidad de palabras y cantidad de palabras\n",
    "        print(f\"La frase {frase} tiene {cantidad_letras} caracteres y {cantidad_palabras} palabras\")\n",
    "        \n",
    "procesar_frases()\n",
    "\n",
    "print(\"todas las pruebas pasarombn\");"
   ]
  },
  {
   "cell_type": "markdown",
   "metadata": {},
   "source": [
    "## Ejercicio 2\n",
    "\n",
    "Escribe una función en Python que encuentre los valores de `a`, `b`, y `c` para que la función cuadrática `f(x) = a x^2 + b x + c` pase exactamente por los siguientes puntos:\n",
    "\n",
    "| x  | y  |\n",
    "|---:|---:|\n",
    "|  0 |  0 |\n",
    "|  1 |  8 |\n",
    "|  2 | 12 |\n",
    "|  3 | 12 |\n",
    "|  5 |  0 |\n",
    "\n",
    "### Requisitos:\n",
    "- La función debe explorar posibles valores de `a`, `b`, y `c` utilizando un método de prueba y error.\n",
    "- Debe devolver los valores que hagan que la diferencia entre la función `f(x)` y los valores medidos `y` sea exactamente cero para cada punto.\n",
    "\n",
    "> **Pista**: Los valores de `a`, `b`, y `c` son números pequeños."
   ]
  },
  {
   "cell_type": "code",
   "execution_count": 13,
   "metadata": {},
   "outputs": [
    {
     "name": "stdout",
     "output_type": "stream",
     "text": [
      "a= -2\n",
      "b= 10\n",
      "c= 0\n",
      "Todas las pruebas funcionaron\n"
     ]
    }
   ],
   "source": [
    "def buscar_valores():\n",
    "    # Establezco los puntos de paso en una lista de tuplas\n",
    "    punto = [(0, 0), (1, 8), (2, 12), (3, 12), (5, 0)]\n",
    "    # Por medio del metodo range genera una secuencia de numeros\n",
    "    valor_rango = range(-10,11);\n",
    "    #print(valor_rango)\n",
    "    #recorro cada uno de los valores del rango\n",
    "    for valor_a in valor_rango:\n",
    "        #print(valor_a)\n",
    "        for valor_b in valor_rango:\n",
    "            for valor_c in valor_rango:\n",
    "                # Establezco la bandera en un valor inicial y puede ser modificada\n",
    "                bandera = 1  \n",
    "                for coordenada_x, coordenada_y in punto:\n",
    "                    # Recorro cada una de las coordenadas de la lista de tuplas y realizo la validacion\n",
    "                    # de la funcion cuadratica\n",
    "                    if (valor_a * coordenada_x**2 + valor_b * coordenada_x + valor_c) != coordenada_y:\n",
    "                        bandera = 0\n",
    "                        break\n",
    "                # Si la bandera se encuentra en 1 imprimo los valores\n",
    "                if bandera == 1:\n",
    "                    return print(f\"a= {valor_a}\\nb= {valor_b}\\nc= {valor_c}\");\n",
    "                    break;\n",
    "buscar_valores()\n",
    "print(\"Todas las pruebas funcionaron\");"
   ]
  }
 ],
 "metadata": {
  "kernelspec": {
   "display_name": "Python 3",
   "language": "python",
   "name": "python3"
  },
  "language_info": {
   "codemirror_mode": {
    "name": "ipython",
    "version": 3
   },
   "file_extension": ".py",
   "mimetype": "text/x-python",
   "name": "python",
   "nbconvert_exporter": "python",
   "pygments_lexer": "ipython3",
   "version": "3.12.5"
  }
 },
 "nbformat": 4,
 "nbformat_minor": 2
}
