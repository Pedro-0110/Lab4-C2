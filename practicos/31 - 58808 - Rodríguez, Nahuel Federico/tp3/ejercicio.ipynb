{
 "cells": [
  {
   "cell_type": "markdown",
   "metadata": {},
   "source": [
    "#TP3"
   ]
  },
  {
   "cell_type": "markdown",
   "metadata": {},
   "source": [
    "## Ejercicio 1: Cargar Datos de ventas.\n",
    "\n",
    "El archivo datos.dat contiene el registro de las ventas realizadas.\n",
    "\n",
    "Tiene un formato de ancho fijo:\n",
    "- fecha:    10 lugares\n",
    "- producto: 30 lugares\n",
    "- precio:   10 lugares\n",
    "- cantidad:  5 lugares\n",
    "\n",
    "hacer una funcion que carge los en una lista de diccionarios. \n",
    "\n",
    "nota: con \n",
    "```python\n",
    "lineas = open(\"datos.dat\", \"r\").readlines() \n",
    "```\n",
    "puede obtener la lista de string de todos los datos "
   ]
  },
  {
   "cell_type": "code",
   "execution_count": 2,
   "metadata": {},
   "outputs": [
    {
     "name": "stdout",
     "output_type": "stream",
     "text": [
      "[{'fecha': '2024-08-27', 'producto': 'Mirinda', 'precio': 1510.0, 'cantidad': 14}, {'fecha': '2024-08-27', 'producto': 'Mirinda', 'precio': 1560.0, 'cantidad': 12}, {'fecha': '2024-08-28', 'producto': 'Torasso', 'precio': 940.0, 'cantidad': 8}, {'fecha': '2024-08-29', 'producto': 'Pepsi Cola', 'precio': 1210.0, 'cantidad': 10}, {'fecha': '2024-08-30', 'producto': 'Mirinda', 'precio': 1520.0, 'cantidad': 1}, {'fecha': '2024-09-01', 'producto': 'Mirinda', 'precio': 1550.0, 'cantidad': 15}, {'fecha': '2024-09-01', 'producto': 'Sprite', 'precio': 810.0, 'cantidad': 4}, {'fecha': '2024-09-02', 'producto': 'Coca Cola', 'precio': 1100.0, 'cantidad': 4}, {'fecha': '2024-09-02', 'producto': 'Pepsi Cola', 'precio': 1220.0, 'cantidad': 13}, {'fecha': '2024-09-02', 'producto': 'Torasso', 'precio': 910.0, 'cantidad': 5}, {'fecha': '2024-09-02', 'producto': 'Torasso', 'precio': 920.0, 'cantidad': 3}, {'fecha': '2024-09-03', 'producto': 'Coca Cola', 'precio': 1020.0, 'cantidad': 8}, {'fecha': '2024-09-03', 'producto': 'Mirinda', 'precio': 1570.0, 'cantidad': 7}, {'fecha': '2024-09-03', 'producto': 'Mirinda', 'precio': 1590.0, 'cantidad': 2}, {'fecha': '2024-09-04', 'producto': 'Pepsi Cola', 'precio': 1220.0, 'cantidad': 13}, {'fecha': '2024-09-05', 'producto': 'Mirinda', 'precio': 1500.0, 'cantidad': 3}, {'fecha': '2024-09-05', 'producto': 'Pepsi Cola', 'precio': 1300.0, 'cantidad': 5}, {'fecha': '2024-09-06', 'producto': 'Coca Cola', 'precio': 1080.0, 'cantidad': 1}, {'fecha': '2024-09-06', 'producto': 'Sprite', 'precio': 860.0, 'cantidad': 12}, {'fecha': '2024-09-06', 'producto': 'Torasso', 'precio': 930.0, 'cantidad': 3}, {'fecha': '2024-09-07', 'producto': 'Coca Cola', 'precio': 1080.0, 'cantidad': 14}, {'fecha': '2024-09-07', 'producto': 'Sprite', 'precio': 870.0, 'cantidad': 13}, {'fecha': '2024-09-08', 'producto': 'Coca Cola', 'precio': 1040.0, 'cantidad': 10}, {'fecha': '2024-09-08', 'producto': 'Mirinda', 'precio': 1580.0, 'cantidad': 2}, {'fecha': '2024-09-08', 'producto': 'Pepsi Cola', 'precio': 1240.0, 'cantidad': 9}, {'fecha': '2024-09-09', 'producto': 'Mirinda', 'precio': 1500.0, 'cantidad': 3}, {'fecha': '2024-09-09', 'producto': 'Sprite', 'precio': 850.0, 'cantidad': 9}, {'fecha': '2024-09-10', 'producto': 'Mirinda', 'precio': 1590.0, 'cantidad': 8}, {'fecha': '2024-09-10', 'producto': 'Pepsi Cola', 'precio': 1250.0, 'cantidad': 12}, {'fecha': '2024-09-11', 'producto': 'Sprite', 'precio': 810.0, 'cantidad': 6}, {'fecha': '2024-09-11', 'producto': 'Sprite', 'precio': 820.0, 'cantidad': 14}, {'fecha': '2024-09-12', 'producto': 'Coca Cola', 'precio': 1080.0, 'cantidad': 4}, {'fecha': '2024-09-13', 'producto': 'Mirinda', 'precio': 1580.0, 'cantidad': 5}, {'fecha': '2024-09-13', 'producto': 'Pepsi Cola', 'precio': 1250.0, 'cantidad': 13}, {'fecha': '2024-09-14', 'producto': 'Coca Cola', 'precio': 1080.0, 'cantidad': 15}, {'fecha': '2024-09-14', 'producto': 'Pepsi Cola', 'precio': 1270.0, 'cantidad': 14}, {'fecha': '2024-09-15', 'producto': 'Coca Cola', 'precio': 1100.0, 'cantidad': 1}, {'fecha': '2024-09-15', 'producto': 'Mirinda', 'precio': 1500.0, 'cantidad': 13}, {'fecha': '2024-09-15', 'producto': 'Sprite', 'precio': 870.0, 'cantidad': 14}, {'fecha': '2024-09-15', 'producto': 'Torasso', 'precio': 900.0, 'cantidad': 13}]\n"
     ]
    }
   ],
   "source": [
    "class Venta:\n",
    "    def __init__(self, fecha, producto, precio, cantidad):\n",
    "        self.fecha = fecha\n",
    "        self.producto = producto\n",
    "        self.precio = precio\n",
    "        self.cantidad = cantidad\n",
    "\n",
    "    def __str__(self):\n",
    "        return f\"{self.fecha} {self.producto} {self.precio} {self.cantidad}\"\n",
    "\n",
    "    def __dict__(self):\n",
    "        return {\n",
    "            \"fecha\": self.fecha,\n",
    "            \"producto\": self.producto,\n",
    "            \"precio\": self.precio,\n",
    "            \"cantidad\": self.cantidad\n",
    "        }\n",
    "    @property\n",
    "    def calcular_total(self):\n",
    "        return self.precio * self.cantidad\n",
    "\n",
    "def cargar_ventas():\n",
    "            lineas = open(\"datos.dat\", \"r\").readlines()           \n",
    "            \n",
    "            ventas = []           \n",
    "         \n",
    "            for linea in lineas:\n",
    "                # Extraer los valores usando índices basados en el formato de ancho fijo\n",
    "                fecha = linea[0:10].strip()\n",
    "                producto = linea[10:40].strip()\n",
    "                precio = float(linea[40:50])\n",
    "                cantidad = int(linea[50:55])\n",
    "                \n",
    "                # Crear una instancia de Venta con los valores extraídos\n",
    "                venta = Venta(fecha, producto, precio, cantidad)\n",
    "                \n",
    "                # Agregar la instancia a la lista\n",
    "                ventas.append(venta)\n",
    "            \n",
    "            # Devolver la lista de instancias de Venta\n",
    "            return ventas\n",
    "      \n",
    "\n",
    "ventas1 = cargar_ventas()\n",
    "\n",
    "def cargar_datos(ventas):\n",
    "   \n",
    "   datos = []\n",
    "   for venta in ventas:               \n",
    "        datos.append(venta.__dict__())   \n",
    "    \n",
    "   return datos\n",
    "\n",
    "datos = cargar_datos(ventas1)\n",
    "print(datos)"
   ]
  },
  {
   "cell_type": "markdown",
   "metadata": {},
   "source": [
    "## Ejercicio 2: Calcular el total de ventas.\n",
    "\n",
    "Hacer una funcion que sume los importes vendidos (precio * cantidad) y las cantidades"
   ]
  },
  {
   "cell_type": "code",
   "execution_count": 3,
   "metadata": {},
   "outputs": [
    {
     "name": "stdout",
     "output_type": "stream",
     "text": [
      "Las ventas fueron de $392730.00 en 335 unidades\n"
     ]
    }
   ],
   "source": [
    "def calcular_totales(ventas):    \n",
    "    importe = 0\n",
    "    cantidad = 0\n",
    "    for venta in ventas:\n",
    "        importe += venta.calcular_total        \n",
    "        cantidad += venta.cantidad\n",
    "    return importe, cantidad\n",
    "\n",
    "# Llamar a la función con los datos procesados\n",
    "importe, cantidad = calcular_totales(ventas1)\n",
    "\n",
    "# Imprimir los resultados\n",
    "print(f\"Las ventas fueron de ${importe:.2f} en {cantidad} unidades\")"
   ]
  },
  {
   "cell_type": "markdown",
   "metadata": {},
   "source": [
    "## Ejercicio 3: Listar las unidades vendidas.\n",
    "\n",
    "Listar cuantas unidades se vendieron en total para cada producto"
   ]
  },
  {
   "cell_type": "code",
   "execution_count": 4,
   "metadata": {},
   "outputs": [
    {
     "name": "stdout",
     "output_type": "stream",
     "text": [
      "Producto: Mirinda, Cantidad vendida: 85\n",
      "Producto: Torasso, Cantidad vendida: 32\n",
      "Producto: Pepsi Cola, Cantidad vendida: 89\n",
      "Producto: Sprite, Cantidad vendida: 72\n",
      "Producto: Coca Cola, Cantidad vendida: 57\n"
     ]
    }
   ],
   "source": [
    "\n",
    "def unidades_vendidas(ventas):\n",
    "    productos = []\n",
    "    for venta in ventas:\n",
    "        encontrado = False      \n",
    "        for producto in productos:\n",
    "            if producto['producto'] == venta.producto:\n",
    "                producto['cantidad'] += venta.cantidad\n",
    "                encontrado = True\n",
    "                break\n",
    "        if not encontrado:\n",
    "            productos.append({'producto': venta.producto, 'cantidad': venta.cantidad})\n",
    "    return productos        \n",
    "    \n",
    "\n",
    "def listar_ventas(ventas):\n",
    "    for venta in ventas:\n",
    "      print(f\"Producto: {venta['producto']}, Cantidad vendida: {venta['cantidad']}\")\n",
    "    pass\n",
    "\n",
    "ventas = unidades_vendidas(ventas1)\n",
    "listar_ventas(ventas)\n",
    "\n"
   ]
  },
  {
   "cell_type": "markdown",
   "metadata": {},
   "source": [
    "##  Ejercicio 4: Listar el precio promedio por producto.\n",
    "\n",
    "Hacer un listado del precio promedio por productos."
   ]
  },
  {
   "cell_type": "code",
   "execution_count": 5,
   "metadata": {},
   "outputs": [
    {
     "name": "stdout",
     "output_type": "stream",
     "text": [
      "Producto: Mirinda, Precio promedio: 1542.12\n",
      "Producto: Torasso, Precio promedio: 916.25\n",
      "Producto: Pepsi Cola, Precio promedio: 1241.69\n",
      "Producto: Sprite, Precio promedio: 847.78\n",
      "Producto: Coca Cola, Precio promedio: 1066.32\n"
     ]
    }
   ],
   "source": [
    "def precio_promedio(ventas):\n",
    "    precios = []\n",
    "    for venta in ventas:\n",
    "        encontrado = False\n",
    "        for precio in precios:\n",
    "            if precio['producto'] == venta.producto:\n",
    "                precio['total'] += venta.calcular_total\n",
    "                precio['cantidad'] += venta.cantidad\n",
    "                \n",
    "                encontrado = True\n",
    "                break\n",
    "        if not encontrado:\n",
    "            precios.append({'producto': venta.producto, 'total': venta.calcular_total, 'cantidad': venta.cantidad})\n",
    "    return precios\n",
    "\n",
    "def listar_precios(precios):\n",
    "    for precio in precios:\n",
    "        print(f\"Producto: {precio['producto']}, Precio promedio: {precio['total']/precio['cantidad']:.2f}\")\n",
    "    pass \n",
    "\n",
    "precios_prom = precio_promedio(ventas1)\n",
    "listar_precios(precios_prom)"
   ]
  },
  {
   "cell_type": "markdown",
   "metadata": {},
   "source": [
    "### Ejercicio 5: Ranking de productos\n",
    "\n",
    "Realizar un listado de los 3 productos mas vendidos ordenados la cantidad de unidades vendidas (ordenadas de mayor a menor)\n"
   ]
  },
  {
   "cell_type": "code",
   "execution_count": 6,
   "metadata": {},
   "outputs": [
    {
     "name": "stdout",
     "output_type": "stream",
     "text": [
      "1- Producto: Pepsi Cola, Cantidad: 89\n",
      "2- Producto: Mirinda, Cantidad: 85\n",
      "3- Producto: Sprite, Cantidad: 72\n"
     ]
    }
   ],
   "source": [
    "def ranking_productos(ventas, top=3):\n",
    "    ranking = ventas[:]\n",
    "    n = len(ventas)\n",
    "    for i in range(n):\n",
    "        for j in range(0, n-i-1):\n",
    "            if ranking[j]['cantidad'] < ranking[j+1]['cantidad']:\n",
    "                ranking[j], ranking[j+1] = ranking[j+1], ranking[j]             \n",
    "    return ranking[:top]             \n",
    "\n",
    "def listar_ranking(ranking):\n",
    "    for i, venta in enumerate(ranking) :\n",
    "        print(f\"{i+1}- Producto: {venta['producto']}, Cantidad: {venta['cantidad']}\")\n",
    "    \n",
    "\n",
    "ranking = ranking_productos(ventas)\n",
    "listar_ranking(ranking)"
   ]
  },
  {
   "cell_type": "markdown",
   "metadata": {},
   "source": [
    "### Ejercicio 6: Listar las ventas por mes\n",
    "\n",
    "Realizar un listado del total de unidades vendidas por productos separada por mes."
   ]
  },
  {
   "cell_type": "code",
   "execution_count": 7,
   "metadata": {},
   "outputs": [
    {
     "name": "stdout",
     "output_type": "stream",
     "text": [
      "Mes: 08, Producto: Mirinda         Cantidad: 27\n",
      "Mes: 08, Producto: Torasso         Cantidad: 8\n",
      "Mes: 08, Producto: Pepsi Cola      Cantidad: 10\n",
      "Mes: 09, Producto: Mirinda         Cantidad: 58\n",
      "Mes: 09, Producto: Sprite          Cantidad: 72\n",
      "Mes: 09, Producto: Coca Cola       Cantidad: 57\n",
      "Mes: 09, Producto: Pepsi Cola      Cantidad: 79\n",
      "Mes: 09, Producto: Torasso         Cantidad: 24\n"
     ]
    }
   ],
   "source": [
    "def ventas_por_mes(ventas):\n",
    "    ventas_por_mes=[]   \n",
    "        \n",
    "    for venta in ventas:\n",
    "        encontrado = False      \n",
    "        for producto in ventas_por_mes:\n",
    "            if producto['producto'] == venta.producto and producto['mes'] == venta.fecha[5:7]:\n",
    "                producto['cantidad'] += venta.cantidad\n",
    "                encontrado = True\n",
    "                break\n",
    "        if not encontrado:\n",
    "            ventas_por_mes.append({'producto': venta.producto, 'cantidad': venta.cantidad, 'mes': venta.fecha[5:7]})  \n",
    "        \n",
    "    return ventas_por_mes     \n",
    "    \n",
    "venta_mensual = ventas_por_mes(ventas1)\n",
    "def listar_ventas_mensuales(ventas):\n",
    "    for venta in ventas:\n",
    "        print(f\"Mes: {venta['mes']}, Producto: {venta['producto']:15} Cantidad: {venta['cantidad']}\")\n",
    "    pass # Implementar\n",
    "\n",
    "ventas_mensuales = ventas_por_mes(ventas1)\n",
    "listar_ventas_mensuales(ventas_mensuales)"
   ]
  },
  {
   "cell_type": "markdown",
   "metadata": {},
   "source": [
    "### Ejercicio 7: Informe general\n",
    "\n",
    "Mostrar un listado de productos ordenados alfabeticamente que contengan el precio promedio, la cantidad de unidades vendidas y el importe total vendido para cada producto"
   ]
  },
  {
   "cell_type": "code",
   "execution_count": 8,
   "metadata": {},
   "outputs": [
    {
     "name": "stdout",
     "output_type": "stream",
     "text": [
      "producto: Coca Cola   | Precio promedio: 1066.32 | importe total:   60780.00         57\n",
      "producto: Mirinda     | Precio promedio: 1542.12 | importe total:  131080.00         85\n",
      "producto: Pepsi Cola  | Precio promedio: 1241.69 | importe total:  110510.00         89\n",
      "producto: Sprite      | Precio promedio:  847.78 | importe total:   61040.00         72\n",
      "producto: Torasso     | Precio promedio:  916.25 | importe total:   29320.00         32\n"
     ]
    }
   ],
   "source": [
    "def resumen_ventas(datos):\n",
    "    productos = datos[:]\n",
    "    n = len(productos)\n",
    "    for i in range(n):\n",
    "        for j in range(0, n-i-1):\n",
    "            if productos[j]['producto'] > productos[j+1]['producto']:\n",
    "                productos[j], productos[j+1] = productos[j+1], productos[j]\n",
    "    return productos            \n",
    "\n",
    "\n",
    "def informe_ventas(datos):\n",
    "    for venta in datos:\n",
    "        print(f\"producto: {venta['producto']:11} | Precio promedio:{venta['total']/venta['cantidad']:8.2f} | importe total: {venta['total']:10.2f} {venta['cantidad']:10}\")\n",
    "    pass # Implementar\n",
    "\n",
    "resumen = resumen_ventas(precios_prom)\n",
    "informe_ventas(resumen)\n"
   ]
  }
 ],
 "metadata": {
  "kernelspec": {
   "display_name": "Python 3",
   "language": "python",
   "name": "python3"
  },
  "language_info": {
   "codemirror_mode": {
    "name": "ipython",
    "version": 3
   },
   "file_extension": ".py",
   "mimetype": "text/x-python",
   "name": "python",
   "nbconvert_exporter": "python",
   "pygments_lexer": "ipython3",
   "version": "3.11.1"
  }
 },
 "nbformat": 4,
 "nbformat_minor": 2
}
