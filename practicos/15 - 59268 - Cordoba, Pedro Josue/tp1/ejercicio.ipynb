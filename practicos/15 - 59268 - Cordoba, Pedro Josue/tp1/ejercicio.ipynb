{
 "cells": [
  {
   "cell_type": "markdown",
   "metadata": {},
   "source": [
    "# Trabajo práctico 1\n",
    "\n"
   ]
  },
  {
   "cell_type": "code",
   "execution_count": null,
   "metadata": {},
   "outputs": [],
   "source": [
    "#Chocobar Matias Sebastian - Legajo : 59234"
   ]
  },
  {
   "cell_type": "markdown",
   "metadata": {},
   "source": [
    "## Ejercicio 1 \n",
    "\n",
    "Escribe una función en Python que procese una lista de cadenas de texto y realice las siguientes acciones:\n",
    "\n",
    "1. Tomar una lista de frases y convertir cada frase en una lista de palabras.\n",
    "1. Luego, debe crear una nueva lista que contenga la cantidad de palabras en cada frase.\n",
    "1. Tambien debe crear un lista que contenga la cantidad de caracteres en cada frase.\n",
    "1. Finalmente, debe imprimir cada frase original junto con la cantidad de palabras que contiene.\n",
    "Ejemplo de uso:\n",
    "```python\n",
    "    frases = [\n",
    "        \"Python es un lenguaje de programación\",\n",
    "        \"Me gusta resolver problemas con código\",\n",
    "        \"Las listas y los bucles son muy útiles\"\n",
    "    ]\n",
    "\n",
    "    procesar_frases(frases)\n",
    "```\n",
    "\n",
    "ejemplo de salida:\n",
    "```bash\n",
    "    La frase: \"Python es un...\"\n",
    "    tiene 6 palabras y 38 caracteres\n",
    "```\n"
   ]
  },
  {
   "cell_type": "code",
   "execution_count": 1,
   "metadata": {},
   "outputs": [
    {
     "name": "stdout",
     "output_type": "stream",
     "text": [
      "Funcion que procese una lista de cadenas de texto\n",
      "-------------------------------------------------\n",
      "1).\n",
      "     Frase 1 en lista de Palabras = ['Universidad', 'Tecnologica', 'Nacional']\n",
      "\n",
      "     Frase 2 en lista de Palabras = ['Facultad', 'Region', 'Tucuman']\n",
      "\n",
      "     Frase 3 en lista de Palabras = ['Tecnicatura', 'Universitaria', 'en', 'Programacion']\n",
      "\n",
      "2). Lista de Cantidad de palabras de cada frase = [3, 3, 4]\n",
      "\n",
      "     Frase 1 en lista de Caracteres = ['U', 'n', 'i', 'v', 'e', 'r', 's', 'i', 'd', 'a', 'd', ' ', 'T', 'e', 'c', 'n', 'o', 'l', 'o', 'g', 'i', 'c', 'a', ' ', 'N', 'a', 'c', 'i', 'o', 'n', 'a', 'l']\n",
      "\n",
      "     Frase 2 en lista de Caracteres = ['F', 'a', 'c', 'u', 'l', 't', 'a', 'd', ' ', 'R', 'e', 'g', 'i', 'o', 'n', ' ', 'T', 'u', 'c', 'u', 'm', 'a', 'n']\n",
      "\n",
      "     Frase 3 en lista de Caracteres = ['T', 'e', 'c', 'n', 'i', 'c', 'a', 't', 'u', 'r', 'a', ' ', 'U', 'n', 'i', 'v', 'e', 'r', 's', 'i', 't', 'a', 'r', 'i', 'a', ' ', 'e', 'n', ' ', 'P', 'r', 'o', 'g', 'r', 'a', 'm', 'a', 'c', 'i', 'o', 'n']\n",
      "\n",
      "3). Lista de Cantidad de caracteres de cada frase = [32, 23, 41]\n",
      "\n",
      "4).\n",
      "     La Frase 1 = Universidad Tecnologica Nacional tiene 3 palabras y 32 caracteres \n",
      "     La Frase 2 = Facultad Region Tucuman tiene 3 palabras y 23 caracteres \n",
      "     La Frase 3 = Tecnicatura Universitaria en Programacion tiene 4 palabras y 41 caracteres \n"
     ]
    }
   ],
   "source": [
    "# Implementar\n",
    "\n",
    "Estudio_Carrera = [\n",
    "    \"Universidad Tecnologica Nacional\",\n",
    "    \"Facultad Region Tucuman\",\n",
    "    \"Tecnicatura Universitaria en Programacion\"\n",
    "]\n",
    "\n",
    "# Funcion que procese una lista de cadenas de texto\n",
    "print(\"Funcion que procese una lista de cadenas de texto\")\n",
    "print(\"-------------------------------------------------\")\n",
    "\n",
    "def Analisis_Frases (Lista_frases):\n",
    "    #lista de palabras en listas\n",
    "    Lista2 = [ palabras.split() for palabras in Lista_frases]\n",
    "    #separo por lista de frases para mostrar mejor y creo la lista con la cantidad de palabras que tiene cada lista de frase\n",
    "    Cantidad_Palabras = []\n",
    "    num1=0\n",
    "    print(\"1).\")\n",
    "    for frases in Lista2:\n",
    "     num1+=1\n",
    "     Cantidad_Palabras.append(len(frases))\n",
    "     print(f\"     Frase {num1} en lista de Palabras = {frases}\\n\")\n",
    "    print(f\"2). Lista de Cantidad de palabras de cada frase = {Cantidad_Palabras}\\n\")\n",
    "    #Lista de frases separada internamente por lista de cada frase separada en caracteres\n",
    "    Lista_Caracter = list(list(lista) for lista in Lista_frases)\n",
    "    #separo por lista de frases separadas en caracteres para mostrar mejor y creo la lista con la cantidad de caracteres que tiene cada lista de frase\n",
    "    Cantidad_Caracteres = []\n",
    "    b=0\n",
    "    for caracteres in Lista_Caracter:\n",
    "     b+=1\n",
    "     Cantidad_Caracteres.append(len(caracteres))\n",
    "     print(f\"     Frase {b} en lista de Caracteres = {caracteres}\\n\")\n",
    "    print(f\"3). Lista de Cantidad de caracteres de cada frase = {Cantidad_Caracteres}\\n\")\n",
    "    print(\"4).\")\n",
    "    \n",
    "    num2=0\n",
    "#Aqui muestro cada frase con su cnatidad de palabras y de caracteres\n",
    "    for Lista in Lista_frases:\n",
    "    \n",
    "      palabras = Lista.split() #Nuevamente separo en listas de palabras a la frase\n",
    "      cantidadPalabras = len(palabras) #Cuento las posiciones de la lista por cada recorrido hace el conteo de longitud\n",
    "      cantidadCaracteres = len(Lista) #Cuento las posiciones de la lista por cada recorrido hace el conteo de longitud\n",
    "      num2 +=1\n",
    "      print(f\"     La Frase {num2} = {Lista} tiene {cantidadPalabras} palabras y {cantidadCaracteres} caracteres \")\n",
    "    \n",
    "Analisis_Frases(Estudio_Carrera)\n",
    "    "
   ]
  },
  {
   "cell_type": "markdown",
   "metadata": {},
   "source": [
    "## Ejercicio 2\n",
    "\n",
    "Escribe una función en Python que encuentre los valores de `a`, `b`, y `c` para que la función cuadrática `f(x) = aX^2 + bX + c` pase exactamente por los siguientes puntos:\n",
    "\n",
    "| x  | y  |\n",
    "|---:|---:|\n",
    "|  0 |  0 |\n",
    "|  1 |  8 |\n",
    "|  2 | 12 |\n",
    "|  3 | 12 |\n",
    "|  5 |  0 |\n",
    "\n",
    "### Requisitos:\n",
    "- La función debe explorar posibles valores de `a`, `b`, y `c` utilizando un método de prueba y error.\n",
    "- Debe devolver los valores que hagan que la diferencia entre la función `f(x)` y los valores medidos `y` sea exactamente cero para cada punto.\n",
    "\n",
    "> **Pista**: Los valores de `a`, `b`, y `c` son números pequeños."
   ]
  },
  {
   "cell_type": "code",
   "execution_count": 43,
   "metadata": {},
   "outputs": [
    {
     "name": "stdout",
     "output_type": "stream",
     "text": [
      "Coeficientes a = -2, b = 10, c = 0 que pertencen a los puntos de la f(x) = aX^2 + bX + c\n",
      "por lo tanto cumple la condicion de la diferencia entre la funcion y los favores medios es 0 (f(x) - y = 0)\n"
     ]
    }
   ],
   "source": [
    "# Implementar\n",
    "\n",
    "# Datos\n",
    "\n",
    "x = [0,1,2,3,5]\n",
    "y = [0,8,12,12,0]\n",
    "\n",
    "# Coloco los valores x,y en una Lista de puntos (x, y) para pasarle a la función:\n",
    "\n",
    "puntos = [(0, 0),(1, 8),(2, 12),(3, 12),(5, 0)]\n",
    "\n",
    "# f(x) = aX^2 + bX + c => ecuacion para buscar los valores de a.b.c para hacer cumplir la igualdad\n",
    "\n",
    "# Rango numerico que usare para realizar la prueba y error \n",
    "rango = 10\n",
    "\n",
    "# incongnitas del problema a,b,c\n",
    "\n",
    "def Calculo_Valores(punto,limites):\n",
    "    \n",
    "   num1 = num2 = num3 = 0\n",
    "    #comienzo realizando la prueba y error para encontrar los coeficientes de a,b,c con los valores que coloque osccilando del -10 al 10\n",
    "   for a in range(-limites,limites+1):\n",
    "       for b in range(-limites,limites+1):\n",
    "           for c in range(-limites,limites+1):\n",
    "               bandera = True #declaro la bandera de las igualdades de los puntos con los valores de prueba de los coeficientes\n",
    "               for x,y in punto:\n",
    "                f_x= a * (x*x) + b * x + c #declaro funcion cuadratica\n",
    "                if f_x != y:\n",
    "                 bandera = False\n",
    "                 break\n",
    "               if bandera== True: #activo la bandera solo cuando se cumple la igualdad de los puntos y = f(x)\n",
    "                   num1 = a       #esto me indica que los coeficientes que probo son los que correspoden a la igualdad\n",
    "                   num2 = b\n",
    "                   num3 = c                  \n",
    "   return num1, num2, num3 \n",
    "a,b,c = Calculo_Valores(puntos,rango)#asigno los valores a, b, c\n",
    "print(f\"Coeficientes a = {a}, b = {b}, c = {c} que pertencen a los puntos de la f(x) = aX^2 + bX + c\")\n",
    "print(\"por lo tanto cumple la condicion de la diferencia entre la funcion y los favores medios es 0 (f(x) - y = 0)\")\n"
   ]
  },
  {
   "cell_type": "code",
   "execution_count": null,
   "metadata": {},
   "outputs": [],
   "source": []
  }
 ],
 "metadata": {
  "kernelspec": {
   "display_name": "Python 3",
   "language": "python",
   "name": "python3"
  },
  "language_info": {
   "codemirror_mode": {
    "name": "ipython",
    "version": 3
   },
   "file_extension": ".py",
   "mimetype": "text/x-python",
   "name": "python",
   "nbconvert_exporter": "python",
   "pygments_lexer": "ipython3",
   "version": "3.12.5"
  }
 },
 "nbformat": 4,
 "nbformat_minor": 2
}
