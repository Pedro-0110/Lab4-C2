{
 "cells": [
  {
   "cell_type": "markdown",
   "metadata": {},
   "source": [
    "#TP3"
   ]
  },
  {
   "cell_type": "markdown",
   "metadata": {},
   "source": [
    "## Ejercicio 1: Cargar Datos de ventas.\n",
    "\n",
    "El archivo datos.dat contiene el registro de las ventas realizadas.\n",
    "\n",
    "Tiene un formato de ancho fijo:\n",
    "- fecha:    10 lugares\n",
    "- producto: 30 lugares\n",
    "- precio:   10 lugares\n",
    "- cantidad:  5 lugares\n",
    "\n",
    "hacer una funcion que carge los en una lista de diccionarios. \n",
    "\n",
    "nota: con \n",
    "```python\n",
    "lineas = open(\"datos.dat\", \"r\").readlines() \n",
    "```\n",
    "puede obtener la lista de string de todos los datos "
   ]
  },
  {
   "cell_type": "code",
   "execution_count": 1,
   "metadata": {},
   "outputs": [
    {
     "name": "stdout",
     "output_type": "stream",
     "text": [
      "{'fecha': '2024-08-27', 'producto': 'Mirinda', 'precio': 1510, 'cantidad': 14}\n",
      "{'fecha': '2024-08-27', 'producto': 'Mirinda', 'precio': 1560, 'cantidad': 12}\n",
      "{'fecha': '2024-08-28', 'producto': 'Torasso', 'precio': 940, 'cantidad': 8}\n",
      "{'fecha': '2024-08-29', 'producto': 'Pepsi Cola', 'precio': 1210, 'cantidad': 10}\n",
      "{'fecha': '2024-08-30', 'producto': 'Mirinda', 'precio': 1520, 'cantidad': 1}\n",
      "{'fecha': '2024-09-01', 'producto': 'Mirinda', 'precio': 1550, 'cantidad': 15}\n",
      "{'fecha': '2024-09-01', 'producto': 'Sprite', 'precio': 810, 'cantidad': 4}\n",
      "{'fecha': '2024-09-02', 'producto': 'Coca Cola', 'precio': 1100, 'cantidad': 4}\n",
      "{'fecha': '2024-09-02', 'producto': 'Pepsi Cola', 'precio': 1220, 'cantidad': 13}\n",
      "{'fecha': '2024-09-02', 'producto': 'Torasso', 'precio': 910, 'cantidad': 5}\n",
      "{'fecha': '2024-09-02', 'producto': 'Torasso', 'precio': 920, 'cantidad': 3}\n",
      "{'fecha': '2024-09-03', 'producto': 'Coca Cola', 'precio': 1020, 'cantidad': 8}\n",
      "{'fecha': '2024-09-03', 'producto': 'Mirinda', 'precio': 1570, 'cantidad': 7}\n",
      "{'fecha': '2024-09-03', 'producto': 'Mirinda', 'precio': 1590, 'cantidad': 2}\n",
      "{'fecha': '2024-09-04', 'producto': 'Pepsi Cola', 'precio': 1220, 'cantidad': 13}\n",
      "{'fecha': '2024-09-05', 'producto': 'Mirinda', 'precio': 1500, 'cantidad': 3}\n",
      "{'fecha': '2024-09-05', 'producto': 'Pepsi Cola', 'precio': 1300, 'cantidad': 5}\n",
      "{'fecha': '2024-09-06', 'producto': 'Coca Cola', 'precio': 1080, 'cantidad': 1}\n",
      "{'fecha': '2024-09-06', 'producto': 'Sprite', 'precio': 860, 'cantidad': 12}\n",
      "{'fecha': '2024-09-06', 'producto': 'Torasso', 'precio': 930, 'cantidad': 3}\n",
      "{'fecha': '2024-09-07', 'producto': 'Coca Cola', 'precio': 1080, 'cantidad': 14}\n",
      "{'fecha': '2024-09-07', 'producto': 'Sprite', 'precio': 870, 'cantidad': 13}\n",
      "{'fecha': '2024-09-08', 'producto': 'Coca Cola', 'precio': 1040, 'cantidad': 10}\n",
      "{'fecha': '2024-09-08', 'producto': 'Mirinda', 'precio': 1580, 'cantidad': 2}\n",
      "{'fecha': '2024-09-08', 'producto': 'Pepsi Cola', 'precio': 1240, 'cantidad': 9}\n",
      "{'fecha': '2024-09-09', 'producto': 'Mirinda', 'precio': 1500, 'cantidad': 3}\n",
      "{'fecha': '2024-09-09', 'producto': 'Sprite', 'precio': 850, 'cantidad': 9}\n",
      "{'fecha': '2024-09-10', 'producto': 'Mirinda', 'precio': 1590, 'cantidad': 8}\n",
      "{'fecha': '2024-09-10', 'producto': 'Pepsi Cola', 'precio': 1250, 'cantidad': 12}\n",
      "{'fecha': '2024-09-11', 'producto': 'Sprite', 'precio': 810, 'cantidad': 6}\n",
      "{'fecha': '2024-09-11', 'producto': 'Sprite', 'precio': 820, 'cantidad': 14}\n",
      "{'fecha': '2024-09-12', 'producto': 'Coca Cola', 'precio': 1080, 'cantidad': 4}\n",
      "{'fecha': '2024-09-13', 'producto': 'Mirinda', 'precio': 1580, 'cantidad': 5}\n",
      "{'fecha': '2024-09-13', 'producto': 'Pepsi Cola', 'precio': 1250, 'cantidad': 13}\n",
      "{'fecha': '2024-09-14', 'producto': 'Coca Cola', 'precio': 1080, 'cantidad': 15}\n",
      "{'fecha': '2024-09-14', 'producto': 'Pepsi Cola', 'precio': 1270, 'cantidad': 14}\n",
      "{'fecha': '2024-09-15', 'producto': 'Coca Cola', 'precio': 1100, 'cantidad': 1}\n",
      "{'fecha': '2024-09-15', 'producto': 'Mirinda', 'precio': 1500, 'cantidad': 13}\n",
      "{'fecha': '2024-09-15', 'producto': 'Sprite', 'precio': 870, 'cantidad': 14}\n",
      "{'fecha': '2024-09-15', 'producto': 'Torasso', 'precio': 900, 'cantidad': 13}\n"
     ]
    }
   ],
   "source": [
    "def cargar_datos():\n",
    "    lineas = open(\"datos.dat\", \"r\").readlines()\n",
    "    \n",
    "    datos = []\n",
    "\n",
    "    for linea in lineas:\n",
    "        fecha = linea[:10].strip() \n",
    "        producto = linea[10:40].strip()  \n",
    "        precio = int(linea[40:50].strip())  \n",
    "        cantidad = int(linea[50:55].strip())  \n",
    "\n",
    "        registro = {\n",
    "            'fecha': fecha,\n",
    "            'producto': producto,\n",
    "            'precio': precio,\n",
    "            'cantidad': cantidad\n",
    "        }\n",
    "\n",
    "        datos.append(registro)\n",
    "\n",
    "    return datos\n",
    "\n",
    "\n",
    "datos = cargar_datos()\n",
    "\n",
    "\n",
    "for registro in datos:\n",
    "    print(registro)\n"
   ]
  },
  {
   "cell_type": "markdown",
   "metadata": {},
   "source": [
    "## Ejercicio 2: Calcular el total de ventas.\n",
    "\n",
    "Hacer una funcion que sume los importes vendidos (precio * cantidad) y las cantidades"
   ]
  },
  {
   "cell_type": "code",
   "execution_count": 2,
   "metadata": {},
   "outputs": [
    {
     "name": "stdout",
     "output_type": "stream",
     "text": [
      "Las ventas fueron de $392730.00 en 335 unidades\n"
     ]
    }
   ],
   "source": [
    "def calcular_totales(datos):\n",
    "    importe_total = 0\n",
    "    cantidad_total = 0\n",
    "\n",
    "    for venta in datos:\n",
    "        precio = venta['precio']\n",
    "        cantidad = venta['cantidad']\n",
    "\n",
    "        importe_total += precio * cantidad\n",
    "        cantidad_total += cantidad\n",
    "\n",
    "    return importe_total, cantidad_total\n",
    "\n",
    "importe, cantidad = calcular_totales(datos)\n",
    "\n",
    "print(f\"Las ventas fueron de ${importe:.2f} en {cantidad} unidades\")\n"
   ]
  },
  {
   "cell_type": "markdown",
   "metadata": {},
   "source": [
    "## Ejercicio 3: Listar las unidades vendidas.\n",
    "\n",
    "Listar cuantas unidades se vendieron en total para cada producto"
   ]
  },
  {
   "cell_type": "code",
   "execution_count": 3,
   "metadata": {},
   "outputs": [
    {
     "name": "stdout",
     "output_type": "stream",
     "text": [
      "Producto             Unidades Vendidas\n",
      "===================================\n",
      "Mirinda              85             \n",
      "Torasso              32             \n",
      "Pepsi Cola           89             \n",
      "Sprite               72             \n",
      "Coca Cola            57             \n"
     ]
    }
   ],
   "source": [
    "def unidades_vendidas(datos):\n",
    "    ventas_por_producto = {}\n",
    "\n",
    "    for venta in datos:\n",
    "        producto = venta['producto']\n",
    "        cantidad = venta['cantidad']\n",
    "\n",
    "        if producto in ventas_por_producto:\n",
    "            ventas_por_producto[producto] += cantidad\n",
    "        else:\n",
    "            ventas_por_producto[producto] = cantidad\n",
    "\n",
    "    return ventas_por_producto\n",
    "\n",
    "def listar_ventas(ventas):\n",
    "    print(f\"{'Producto':<20} {'Unidades Vendidas':<15}\")\n",
    "    print(\"=\" * 35)\n",
    "\n",
    "    for producto, cantidad in ventas.items():\n",
    "        print(f\"{producto:<20} {cantidad:<15}\")\n",
    "\n",
    "ventas = unidades_vendidas(datos)\n",
    "listar_ventas(ventas)\n"
   ]
  },
  {
   "cell_type": "markdown",
   "metadata": {},
   "source": [
    "##  Ejercicio 4: Listar el precio promedio por producto.\n",
    "\n",
    "Hacer un listado del precio promedio por productos."
   ]
  },
  {
   "cell_type": "code",
   "execution_count": 4,
   "metadata": {},
   "outputs": [
    {
     "name": "stdout",
     "output_type": "stream",
     "text": [
      "Producto             Precio Promedio\n",
      "===================================\n",
      "Mirinda              1545.83        \n",
      "Torasso              920.00         \n",
      "Pepsi Cola           1245.00        \n",
      "Sprite               841.43         \n",
      "Coca Cola            1072.50        \n"
     ]
    }
   ],
   "source": [
    "def precio_promedio(datos):\n",
    "    precios_por_producto = {}\n",
    "\n",
    "    for venta in datos:\n",
    "        producto = venta['producto']\n",
    "        precio = venta['precio']\n",
    "\n",
    "        if producto in precios_por_producto:\n",
    "            precios_por_producto[producto]['total_precio'] += precio\n",
    "            precios_por_producto[producto]['num_ventas'] += 1\n",
    "        else:\n",
    "            precios_por_producto[producto] = {'total_precio': precio, 'num_ventas': 1}\n",
    "\n",
    "    for producto in precios_por_producto:\n",
    "        total_precio = precios_por_producto[producto]['total_precio']\n",
    "        num_ventas = precios_por_producto[producto]['num_ventas']\n",
    "        precios_por_producto[producto]['precio_promedio'] = total_precio / num_ventas\n",
    "\n",
    "    return precios_por_producto\n",
    "\n",
    "def listar_precios(precios):\n",
    "    print(f\"{'Producto':<20} {'Precio Promedio':<15}\")\n",
    "    print(\"=\" * 35)\n",
    "\n",
    "    for producto, info in precios.items():\n",
    "        print(f\"{producto:<20} {info['precio_promedio']:<15.2f}\")\n",
    "\n",
    "precios = precio_promedio(datos)\n",
    "listar_precios(precios)\n"
   ]
  },
  {
   "cell_type": "markdown",
   "metadata": {},
   "source": [
    "### Ejercicio 5: Ranking de productos\n",
    "\n",
    "Realizar un listado de los 3 productos mas vendidos ordenados la cantidad de unidades vendidas (ordenadas de mayor a menor)\n"
   ]
  },
  {
   "cell_type": "code",
   "execution_count": 5,
   "metadata": {},
   "outputs": [
    {
     "name": "stdout",
     "output_type": "stream",
     "text": [
      "Producto             Unidades Vendidas\n",
      "===================================\n",
      "Pepsi Cola           89             \n",
      "Mirinda              85             \n",
      "Sprite               72             \n"
     ]
    }
   ],
   "source": [
    "def ranking_productos(datos, top=3):\n",
    "    ventas_por_producto = {}\n",
    "\n",
    "    for venta in datos:\n",
    "        producto = venta['producto']\n",
    "        cantidad = venta['cantidad']\n",
    "\n",
    "        if producto in ventas_por_producto:\n",
    "            ventas_por_producto[producto] += cantidad\n",
    "        else:\n",
    "            ventas_por_producto[producto] = cantidad\n",
    "\n",
    "    ranking = sorted(ventas_por_producto.items(), key=lambda item: item[1], reverse=True)\n",
    "\n",
    "    return ranking[:top]\n",
    "\n",
    "def listar_ranking(ranking):\n",
    "    print(f\"{'Producto':<20} {'Unidades Vendidas':<15}\")\n",
    "    print(\"=\" * 35)\n",
    "\n",
    "    for producto, cantidad in ranking:\n",
    "        print(f\"{producto:<20} {cantidad:<15}\")\n",
    "        \n",
    "ranking = ranking_productos(datos)\n",
    "listar_ranking(ranking)\n"
   ]
  },
  {
   "cell_type": "markdown",
   "metadata": {},
   "source": [
    "### Ejercicio 6: Listar las ventas por mes\n",
    "\n",
    "Realizar un listado del total de unidades vendidas por productos separada por mes."
   ]
  },
  {
   "cell_type": "code",
   "execution_count": 9,
   "metadata": {},
   "outputs": [
    {
     "name": "stdout",
     "output_type": "stream",
     "text": [
      "Mes: 2024-08\n",
      "------------------------------\n",
      "  Mirinda: 27 unidades\n",
      "------------------------------\n",
      "  Torasso: 8 unidades\n",
      "------------------------------\n",
      "  Pepsi Cola: 10 unidades\n",
      "------------------------------\n",
      "Mes: 2024-09\n",
      "------------------------------\n",
      "  Mirinda: 58 unidades\n",
      "------------------------------\n",
      "  Sprite: 72 unidades\n",
      "------------------------------\n",
      "  Coca Cola: 57 unidades\n",
      "------------------------------\n",
      "  Pepsi Cola: 79 unidades\n",
      "------------------------------\n",
      "  Torasso: 24 unidades\n",
      "------------------------------\n"
     ]
    }
   ],
   "source": [
    "def ventas_por_mes(datos):\n",
    "    ventas_mensuales = defaultdict(lambda: defaultdict(int))\n",
    "    for venta in datos:\n",
    "        mes = venta['fecha'][:7]  # Extraemos 'YYYY-MM'\n",
    "        ventas_mensuales[mes][venta['producto']] += venta['cantidad']\n",
    "    return ventas_mensuales\n",
    "\n",
    "def listar_ventas_mensuales(ventas):\n",
    "    for mes, productos in ventas.items():\n",
    "        print(f\"Mes: {mes}\")\n",
    "        print(\"-\" * 30)\n",
    "        for producto, cantidad in productos.items():\n",
    "            print(f\"  {producto}: {cantidad} unidades\")\n",
    "            print(\"-\" * 30)\n",
    "\n",
    "# Uso:\n",
    "ventas_mensuales = ventas_por_mes(datos)\n",
    "listar_ventas_mensuales(ventas_mensuales)"
   ]
  },
  {
   "cell_type": "markdown",
   "metadata": {},
   "source": [
    "### Ejercicio 7: Informe general\n",
    "\n",
    "Mostrar un listado de productos ordenados alfabeticamente que contengan el precio promedio, la cantidad de unidades vendidas y el importe total vendido para cada producto"
   ]
  },
  {
   "cell_type": "code",
   "execution_count": 12,
   "metadata": {},
   "outputs": [
    {
     "name": "stdout",
     "output_type": "stream",
     "text": [
      "Producto: Coca Cola, Precio promedio: $1066.32, Unidades vendidas: 57, Importe total: $60780.00\n",
      "----------------------------------------------------------------------------------------------------\n",
      "Producto: Mirinda, Precio promedio: $1542.12, Unidades vendidas: 85, Importe total: $131080.00\n",
      "----------------------------------------------------------------------------------------------------\n",
      "Producto: Pepsi Cola, Precio promedio: $1241.69, Unidades vendidas: 89, Importe total: $110510.00\n",
      "----------------------------------------------------------------------------------------------------\n",
      "Producto: Sprite, Precio promedio: $847.78, Unidades vendidas: 72, Importe total: $61040.00\n",
      "----------------------------------------------------------------------------------------------------\n",
      "Producto: Torasso, Precio promedio: $916.25, Unidades vendidas: 32, Importe total: $29320.00\n",
      "----------------------------------------------------------------------------------------------------\n"
     ]
    }
   ],
   "source": [
    "def resumen_ventas(datos):\n",
    "    total_precio = defaultdict(float)\n",
    "    total_cantidad = defaultdict(int)\n",
    "    \n",
    "    for venta in datos:\n",
    "        total_precio[venta['producto']] += venta['precio'] * venta['cantidad']\n",
    "        total_cantidad[venta['producto']] += venta['cantidad']\n",
    "    \n",
    "    resumen = []\n",
    "    for producto in total_precio:\n",
    "        precio_promedio = total_precio[producto] / total_cantidad[producto]\n",
    "        importe_total = total_precio[producto]\n",
    "        cantidad_total = total_cantidad[producto]\n",
    "        resumen.append({\n",
    "            'producto': producto,\n",
    "            'precio_promedio': precio_promedio,\n",
    "            'cantidad_total': cantidad_total,\n",
    "            'importe_total': importe_total\n",
    "        })\n",
    "    return sorted(resumen, key=lambda x: x['producto'])\n",
    "\n",
    "def informe_ventas(resumen):\n",
    "    for r in resumen:\n",
    "        print(f\"Producto: {r['producto']}, Precio promedio: ${r['precio_promedio']:.2f}, \"\n",
    "              f\"Unidades vendidas: {r['cantidad_total']}, Importe total: ${r['importe_total']:.2f}\")\n",
    "        print(\"-\" * 100)\n",
    "\n",
    "# Uso:\n",
    "resumen = resumen_ventas(datos)\n",
    "informe_ventas(resumen)"
   ]
  }
 ],
 "metadata": {
  "kernelspec": {
   "display_name": "Python 3",
   "language": "python",
   "name": "python3"
  },
  "language_info": {
   "codemirror_mode": {
    "name": "ipython",
    "version": 3
   },
   "file_extension": ".py",
   "mimetype": "text/x-python",
   "name": "python",
   "nbconvert_exporter": "python",
   "pygments_lexer": "ipython3",
   "version": "3.12.6"
  }
 },
 "nbformat": 4,
 "nbformat_minor": 2
}
