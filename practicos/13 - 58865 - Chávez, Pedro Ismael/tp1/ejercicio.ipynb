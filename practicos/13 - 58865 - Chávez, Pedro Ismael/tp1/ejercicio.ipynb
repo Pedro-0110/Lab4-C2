{
 "cells": [
  {
   "cell_type": "markdown",
   "metadata": {},
   "source": [
    "# Trabajo práctico 1\n",
    "\n"
   ]
  },
  {
   "cell_type": "markdown",
   "metadata": {},
   "source": [
    "## Ejercicio 1 \n",
    "\n",
    "Escribe una función en Python que procese una lista de cadenas de texto y realice las siguientes acciones:\n",
    "\n",
    "1. Tomar una lista de frases y convertir cada frase en una lista de palabras.\n",
    "1. Luego, debe crear una nueva lista que contenga la cantidad de palabras en cada frase.\n",
    "1. Tambien debe crear un lista que contenga la cantidad de caracteres en cada frase.\n",
    "1. Finalmente, debe imprimir cada frase original junto con la cantidad de palabras que contiene.\n",
    "Ejemplo de uso:\n",
    "```python\n",
    "    frases = [\n",
    "        \"Python es un lenguaje de programación\",\n",
    "        \"Me gusta resolver problemas con código\",\n",
    "        \"Las listas y los bucles son muy útiles\"\n",
    "    ]\n",
    "\n",
    "    procesar_frases(frases)\n",
    "```\n",
    "\n",
    "ejemplo de salida:\n",
    "```bash\n",
    "    La frase: \"Python es un...\"\n",
    "    tiene 6 palabras y 38 caracteres\n",
    "```\n"
   ]
  },
  {
   "cell_type": "code",
   "execution_count": null,
   "metadata": {},
   "outputs": [],
   "source": [
    "\n",
    "frases = ['Aprender python es grandioso', 'Solucionar problemas con código es genial', 'Python es potencia en seguridad informatica']\n",
    "\n",
    "for i in frases:\n",
    "        print(f\"» La Frase: {i}\")\n",
    "        print(f\"● tiene {len(i.split())} palabras y {(len(i))} caracteres\\n\")"
   ]
  },
  {
   "cell_type": "markdown",
   "metadata": {},
   "source": [
    "## Ejercicio 2\n",
    "\n",
    "Escribe una función en Python que encuentre los valores de `a`, `b`, y `c` para que la función cuadrática `f(x) = aX^2 + bX + c` pase exactamente por los siguientes puntos:\n",
    "\n",
    "| x  | y  |\n",
    "|---:|---:|\n",
    "|  0 |  0 |\n",
    "|  1 |  8 |\n",
    "|  2 | 12 |\n",
    "|  3 | 12 |\n",
    "|  5 |  0 |\n",
    "\n",
    "### Requisitos:\n",
    "- La función debe explorar posibles valores de `a`, `b`, y `c` utilizando un método de prueba y error.\n",
    "- Debe devolver los valores que hagan que la diferencia entre la función `f(x)` y los valores medidos `y` sea exactamente cero para cada punto.\n",
    "\n",
    "> **Pista**: Los valores de `a`, `b`, y `c` son números pequeños."
   ]
  },
  {
   "cell_type": "code",
   "execution_count": 1,
   "metadata": {},
   "outputs": [
    {
     "name": "stdout",
     "output_type": "stream",
     "text": [
      "----------------------\n",
      "● Valores de A, B y C:\n",
      " a = -2\n",
      " b = 10\n",
      " c = 0\n",
      "----------------------\n"
     ]
    }
   ],
   "source": [
    "\n",
    "def Funcioncuadratica():\n",
    "    \n",
    "    puntosFuncion = [\n",
    "        (0, 0), \n",
    "        (1, 8), \n",
    "        (2, 12), \n",
    "        (3, 12), \n",
    "        (5, 0)]\n",
    "\n",
    "    valores_a = list(range(-10, 11))\n",
    "    valores_b = list(range(-10, 11))\n",
    "    valores_c = list(range(-10, 11))\n",
    "    \n",
    "    for a in valores_a:\n",
    "        for b in valores_b:\n",
    "            for c in valores_c:\n",
    "\n",
    "                bandera = True\n",
    "                \n",
    "                for x, y in puntosFuncion:\n",
    "                    if(a * x**2 + b * x + c != y):\n",
    "                        bandera = False\n",
    "                        \n",
    "                if (bandera == True):\n",
    "                    return a, b, c  \n",
    "\n",
    "valores = Funcioncuadratica()\n",
    "\n",
    "print(\"----------------------\")\n",
    "print(f\"● Valores de A, B y C:\\n a = {valores[0]}\\n b = {valores[1]}\\n c = {valores[2]}\")\n",
    "print(\"----------------------\")"
   ]
  }
 ],
 "metadata": {
  "kernelspec": {
   "display_name": "Python 3",
   "language": "python",
   "name": "python3"
  },
  "language_info": {
   "codemirror_mode": {
    "name": "ipython",
    "version": 3
   },
   "file_extension": ".py",
   "mimetype": "text/x-python",
   "name": "python",
   "nbconvert_exporter": "python",
   "pygments_lexer": "ipython3",
   "version": "3.10.11"
  }
 },
 "nbformat": 4,
 "nbformat_minor": 2
}
