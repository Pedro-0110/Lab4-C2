{
 "cells": [
  {
   "cell_type": "markdown",
   "metadata": {},
   "source": [
    "# Practica de colecciones y estructura de control"
   ]
  },
  {
   "cell_type": "markdown",
   "metadata": {},
   "source": [
    "## 1. Extraer token\n",
    "\n",
    "Escribe una función en Python que, dado un string que representa una expresión matemática (por ejemplo, \"(1 + 23 * 34 + (15 + 10))\"), convierta la expresión en una lista de sus componentes. La lista debe incluir cada número, operador y paréntesis como elementos separados. Recorre la expresión carácter por carácter utilizando un bucle for y utiliza condicionales if para manejar cada caso (números, operadores, paréntesis y espacios).\n",
    "\n",
    "Por ejemplo, dada la expresión \"(1 + 23 * 34 + (15 + 10))\", la función debe devolver la lista:\n",
    "\n",
    "```python\n",
    "[\"(\", \"1\", \"+\", \"23\", \"*\", \"34\", \"+\", \"(\", \"15\", \"+\", \"10\", \")\", \")\"]\n",
    "```"
   ]
  },
  {
   "cell_type": "code",
   "execution_count": 6,
   "metadata": {},
   "outputs": [
    {
     "name": "stdout",
     "output_type": "stream",
     "text": [
      "¡Todos los casos de prueba pasaron!\n"
     ]
    }
   ],
   "source": [
    "def extraer_token(expresion):\n",
    "    # Define una función llamada extraer_token que toma un parámetro 'expresion'.\n",
    "    resultado = []\n",
    "    # Inicializa una lista vacía llamada 'resultado' para almacenar los componentes de la expresión.\n",
    "    numero = \"\"\n",
    "    # Inicializa una cadena vacía llamada 'numero' para construir números de varios dígitos.\n",
    "    \n",
    "    for char in expresion:\n",
    "        # Inicia un bucle for que recorre cada carácter 'char' en la expresión matemática 'expresion'.\n",
    "        if char.isdigit():\n",
    "            # Verifica si el carácter actual 'char' es un dígito (0-9).\n",
    "            numero += char\n",
    "            # Si el carácter es un dígito, lo agrega a la cadena 'numero'.\n",
    "        elif char in \"+-*/()\":\n",
    "            # Verifica si el carácter actual es uno de los operadores matemáticos (+, -, *, /) o un paréntesis ((), )).\n",
    "            if numero:\n",
    "                # Si 'numero' no está vacío (es decir, si se ha construido un número), ejecuta el bloque de código siguiente.\n",
    "                resultado.append(numero)\n",
    "                # Agrega el número construido a la lista 'resultado'.\n",
    "                numero = \"\"\n",
    "                # Reinicia la cadena 'numero' para que esté lista para construir el siguiente número.\n",
    "            resultado.append(char)\n",
    "            # Agrega el operador o paréntesis actual a la lista 'resultado'.\n",
    "        elif char == \" \":\n",
    "            # Verifica si el carácter actual es un espacio.\n",
    "            continue\n",
    "            # Si el carácter es un espacio, continúa con la siguiente iteración del bucle for.\n",
    "    \n",
    "    if numero:\n",
    "        # Después de salir del bucle for, verifica si 'numero' no está vacío.\n",
    "        resultado.append(numero)\n",
    "        # Agrega el último número construido a la lista 'resultado'.\n",
    "    \n",
    "    return resultado\n",
    "    # Devuelve la lista 'resultado', que contiene todos los componentes de la expresión matemática como elementos separados.\n",
    "\n",
    "\n",
    "\n",
    "\n",
    "\n",
    "# Casos de prueba\n",
    "assert extraer_token(\"3 + 5\") == [\"3\", \"+\", \"5\"]\n",
    "assert extraer_token(\"(1 + 2) * 3\") == [\"(\", \"1\", \"+\", \"2\", \")\", \"*\", \"3\"]\n",
    "assert extraer_token(\"10 / (5 - 3)\") == [\"10\", \"/\", \"(\", \"5\", \"-\", \"3\", \")\"]\n",
    "assert extraer_token(\"4 * (2 + 3) / 5\") == [\"4\", \"*\", \"(\", \"2\", \"+\", \"3\", \")\", \"/\", \"5\"]\n",
    "assert extraer_token(\"7 - 2 * (3 + 4)\") == [\"7\", \"-\", \"2\", \"*\", \"(\", \"3\", \"+\", \"4\", \")\"]\n",
    "assert extraer_token(\"\") == []\n",
    "\n",
    "print(\"¡Todos los casos de prueba pasaron!\")"
   ]
  },
  {
   "cell_type": "markdown",
   "metadata": {},
   "source": [
    "## 2. Comprobar parentesis\n",
    "\n",
    "Enunciado:\n",
    "\n",
    "Escribe una función en Python que verifique si los paréntesis en una lista de tokens están correctamente balanceados. La lista puede contener números, operadores y paréntesis. Unos paréntesis están balanceados si:\n",
    "\n",
    "1. Cada paréntesis de apertura ( tiene un paréntesis de cierre ) correspondiente.\n",
    "1. Los paréntesis de cierre no aparecen antes de haberse abierto.\n",
    "\n",
    "La función debe recorrer la lista utilizando un contador que se incremente al encontrar un paréntesis de apertura y se decremente al encontrar uno de cierre. Si en algún momento el contador es negativo, o si al final no es cero, los paréntesis no están balanceados.\n",
    "\n",
    "Ejemplos:\n",
    "* Para la lista [\"(\", \"1\", \"+\", \"2\", \"+\", \"(\", \"3\", \"*\", \"4\", \")\", \"+\", \"(\", \"5\", \"*\", \"6\", \")\", \")\"], la función debe devolver True (balance correcto).\n",
    "* Para la lista [\"(\", \"(\", \"1\", \"+\", \"2\", \")\", \"+\", \"3\"], la función debe devolver False (falta un paréntesis de cierre).\n",
    "* Para la lista [\"(\", \"1\", \"+\", \"3\", \")\", \"*\", \"4\", \")\"], la función debe devolver False (hay un paréntesis de cierre de más)."
   ]
  },
  {
   "cell_type": "code",
   "execution_count": 22,
   "metadata": {},
   "outputs": [
    {
     "name": "stdout",
     "output_type": "stream",
     "text": [
      "¡Todos los casos de prueba pasaron!\n"
     ]
    }
   ],
   "source": [
    "def verificar_parentesis(tokens):\n",
    "    # Inicializo un contador en 0 para llevar la cuenta de los paréntesis\n",
    "    contador = 0\n",
    "    \n",
    "    # Recorro cada token en la lista de tokens\n",
    "    for i in tokens:\n",
    "        # Si el token es un paréntesis de apertura, incremento el contador\n",
    "        if i == \"(\":\n",
    "            contador += 1\n",
    "        # Si el token es un paréntesis de cierre, decremento el contador\n",
    "        elif i == \")\":\n",
    "            contador += -1\n",
    "            # Si el contador es menor que 0, significa que hay un paréntesis de cierre sin su correspondiente apertura\n",
    "            if contador < 0:\n",
    "                return False\n",
    "\n",
    "    # Al final, si el contador es 0, significa que todos los paréntesis están balanceados\n",
    "    return contador == 0\n",
    "\n",
    "\n",
    "# Casos de prueba\n",
    "\n",
    "assert verificar_parentesis([\"(\", \"1\", \"+\", \"2\", \"+\", \"(\", \"3\", \"*\", \"4\", \")\", \"+\", \"(\", \"5\", \"*\", \"6\", \")\", \")\"]) == True\n",
    "assert verificar_parentesis([\"(\", \"(\", \"1\", \"+\", \"2\", \")\", \"+\", \"3\"]) == False\n",
    "assert verificar_parentesis([\"(\", \"1\", \"+\", \"3\", \")\", \"*\", \"4\", \")\"]) == False\n",
    "assert verificar_parentesis([]) == True\n",
    "assert verificar_parentesis([\"(\", \"(\", \"(\", \"1\", \"+\", \"2\"]) == False\n",
    "assert verificar_parentesis([\")\", \"1\", \"+\", \"2\", \")\"]) == False\n",
    "\n",
    "print(\"¡Todos los casos de prueba pasaron!\")"
   ]
  },
  {
   "cell_type": "markdown",
   "metadata": {},
   "source": [
    "## Ejericio 3: Comprobar expresion valida\n",
    "\n",
    "Escribe una función en Python que verifique si una lista de tokens que representa una expresión matemática simple está correctamente escrita. La expresión puede contener números, operadores aritméticos (+, -, *, /) y paréntesis, y se considera válida si cumple las siguientes reglas:\n",
    "\n",
    "1. Un número por sí solo es una expresión válida.\n",
    "1. Una expresión entre paréntesis es válida si lo que está dentro también es una expresión válida.\n",
    "1. Después de una expresión válida, puede haber un operador (+, -, *, /) seguido de otra expresión válida.\n",
    "1. No puede haber operadores seguidos sin una expresión válida entre ellos.\n",
    "\n",
    "La función debe devolver True si la expresión es válida y False si es incorrecta.\n",
    "\n",
    "#### Pistas:\n",
    "1. Considere que la funcion tiene parentesis corretamente balanceados ya que tenemos una funcion para verificarlo.\n",
    "\n",
    "Ejemplos:\n",
    "\n",
    "- Para la lista [\"(\", \"1\", \"+\", \"2\", \")\", \"*\", \"3\"], la función debe devolver True (expresión válida).\n",
    "- Para la lista [\"1\", \"+\", \"(\", \")\"], la función debe devolver False (los paréntesis están vacíos).\n",
    "- Para la lista [\"1\", \"*\", \"*\", \"2\"], la función debe devolver False (dos operadores seguidos no son válidos).\n",
    "\n"
   ]
  },
  {
   "cell_type": "code",
   "execution_count": 33,
   "metadata": {},
   "outputs": [
    {
     "name": "stdout",
     "output_type": "stream",
     "text": [
      "¡Todos los casos de prueba pasaron!\n"
     ]
    }
   ],
   "source": [
    "def es_expresion_valida(lista):\n",
    "    if not lista:\n",
    "        return False\n",
    "\n",
    "    # Verificar que el primer y último token no sean operadores\n",
    "    if lista[0] in \"+-*/\" or lista[-1] in \"+-*/\":\n",
    "        return False\n",
    "\n",
    "    # Verificar que no haya operadores consecutivos y que no haya paréntesis vacíos\n",
    "    for i in range(1, len(lista)):\n",
    "        if lista[i] in \"+-*/\" and lista[i-1] in \"+-*/\":\n",
    "            return False\n",
    "        if lista[i] == \")\" and lista[i-1] == \"(\":\n",
    "            return False\n",
    "\n",
    "    # Verificar que los paréntesis estén balanceados\n",
    "    contador = 0\n",
    "    for token in lista:\n",
    "        if token == \"(\":\n",
    "            contador += 1\n",
    "        elif token == \")\":\n",
    "            contador -= 1\n",
    "            if contador < 0:\n",
    "                return False\n",
    "\n",
    "    return contador == 0\n",
    "\n",
    "# Casos de prueba\n",
    "assert es_expresion_valida([\"(\", \"1\", \"+\", \"2\", \")\", \"*\", \"3\"]) == True\n",
    "assert es_expresion_valida([\"1\", \"+\", \"(\", \")\"]) == False\n",
    "assert es_expresion_valida([\"1\", \"*\", \"*\", \"2\"]) == False\n",
    "assert es_expresion_valida([\"(\", \"1\", \"+\", \"2\", \")\", \"/\", \"(\", \"3\", \"-\", \"4\", \")\"]) == True\n",
    "assert es_expresion_valida([\"(\", \"1\", \"+\", \"(\", \"2\", \"*\", \"3\", \")\", \"-\", \"4\", \")\"]) == True\n",
    "assert es_expresion_valida([\"1\", \"+\", \"2\", \"*\", \"3\", \"/\", \"4\"]) == True\n",
    "assert es_expresion_valida([\"1\", \"+\", \"+\", \"2\"]) == False\n",
    "assert es_expresion_valida([\"(\", \"1\", \"+\", \"2\", \"*\", \"3\"]) == False\n",
    "assert es_expresion_valida([\"1\", \"+\", \"2\", \")\", \"*\", \"3\"]) == False\n",
    "assert es_expresion_valida([\"(\", \"1\", \"+\", \"2\", \")\", \"*\", \"(\", \"3\", \"/\", \"4\", \")\"]) == True\n",
    "\n",
    "print(\"¡Todos los casos de prueba pasaron!\")"
   ]
  },
  {
   "cell_type": "markdown",
   "metadata": {},
   "source": [
    "## Ejercicio 4: Evaluar una expresión:\n",
    "### Enunciado:\n",
    "\n",
    "Escribe una función en Python que evalúe una expresión matemática representada como una lista de tokens. La expresión puede contener números, operadores de suma (`+`), multiplicación (`*`), y paréntesis (`(` y `)`). La función debe seguir estas reglas:\n",
    "\n",
    "1. **Los paréntesis** se evalúan primero, resolviendo las expresiones más internas antes de continuar.\n",
    "1. **Las multiplicaciones** (`*`) tienen prioridad sobre las sumas (`+`) y se deben resolver antes.\n",
    "1. **Las sumas** (`+`) se resuelven después de las multiplicaciones, siguiendo el orden de izquierda a derecha.\n",
    "\n",
    "#### Pistas:\n",
    "- Puedes crear **funciones separadas** para:\n",
    "  - Evaluar las expresiones dentro de los paréntesis.\n",
    "  - Resolver las multiplicaciones una vez que no queden paréntesis.\n",
    "  - Resolver las sumas una vez que las multiplicaciones estén resueltas.\n",
    "  \n",
    "- **Convierte la lista de tokens a una nueva lista** a medida que evalúas los paréntesis o los operadores, reemplazando las subexpresiones ya resueltas por su valor.\n",
    "\n",
    "#### Pistas adicionales:\n",
    "1. Considere que la lista tiene una expresion bien formada ya que disponemos de una funcion para verificar la misma.\n",
    "1. **Evaluar paréntesis interiores**: Para resolver los paréntesis, recorre la lista de tokens mientras haya paréntesis. Cuando encuentres un paréntesis de apertura `\"(\"`, registra su posición inicial. Cuando encuentres un paréntesis de cierre `\")\"`, registra la posición final. La sublista entre estas posiciones debe pasarse recursivamente a la función `evaluar`. El resultado debe reemplazar la subexpresión dentro de la lista.\n",
    "\n",
    "1. **Evaluar multiplicaciones**: Una vez que hayas resuelto los paréntesis, ya no quedarán paréntesis en la expresión. Al evaluar las multiplicaciones, siempre habrá un número antes y otro después del operador `\"*\"`. Simplemente recorre la lista, reemplaza el token `\"*\"` y los números adyacentes con su producto.\n",
    "\n",
    "1. **Evaluar sumas**: Al evaluar las sumas, la lista solo contendrá números y el operador `\"+\"`. El resultado será el primer número, y luego, cada vez que encuentres un `\"+\"`, suma el siguiente número al resultado. Continúa así avanzando por la lista de dos tokens a la vez (número, operador, número).\n",
    "\n",
    "#### Ejemplos:\n",
    "\n",
    "- Para la lista `[\"(\", \"1\", \"+\", \"2\", \")\", \"*\", \"3\"]`, la función debe devolver `9`.\n",
    "- Para la lista `[\"1\", \"+\", \"(\", \"2\", \"*\", \"3\", \"+\", \"4\", \")\", \"*\", \"5\"]`, la función debe devolver `36`.\n",
    "- Para la lista `[\"(\", \"5\", \"*\", \"6\", \"+\", \"7\", \")\", \"*\", \"(\", \"8\", \"+\", \"9\", \")\"]`, la función debe devolver `204`.\n",
    "\n"
   ]
  },
  {
   "cell_type": "code",
   "execution_count": 21,
   "metadata": {},
   "outputs": [
    {
     "name": "stdout",
     "output_type": "stream",
     "text": [
      "¡Todos los casos de prueba pasaron!\n"
     ]
    }
   ],
   "source": [
    "def evaluar(tokens):\n",
    "    # Paso 1: Resolver los paréntesis primero\n",
    "    tokens = resolver_parentesis(tokens)\n",
    "    \n",
    "    # Paso 2: Resolver las multiplicaciones\n",
    "    tokens = resolver_multiplicaciones(tokens)\n",
    "    \n",
    "    # Paso 3: Resolver las sumas\n",
    "    return resolver_sumas(tokens)\n",
    "\n",
    "def resolver_parentesis(tokens):\n",
    "    while '(' in tokens:\n",
    "        # Encuentra el último paréntesis de apertura\n",
    "        open_index = len(tokens) - 1 - tokens[::-1].index('(')\n",
    "        # Encuentra el primer paréntesis de cierre después del paréntesis de apertura\n",
    "        close_index = tokens.index(')', open_index)\n",
    "        # Evalúa la subexpresión dentro de los paréntesis\n",
    "        sub_result = evaluar(tokens[open_index + 1:close_index])\n",
    "        # Reemplaza la subexpresión con su resultado\n",
    "        tokens = tokens[:open_index] + [str(sub_result)] + tokens[close_index + 1:]\n",
    "    return tokens\n",
    "\n",
    "def resolver_multiplicaciones(tokens):\n",
    "    while '*' in tokens:\n",
    "        # Encuentra el índice del operador de multiplicación\n",
    "        index = tokens.index('*')\n",
    "        # Calcula el producto de los números adyacentes\n",
    "        product = int(tokens[index - 1]) * int(tokens[index + 1])\n",
    "        # Reemplaza la subexpresión con el resultado\n",
    "        tokens = tokens[:index - 1] + [str(product)] + tokens[index + 2:]\n",
    "    return tokens\n",
    "\n",
    "def resolver_sumas(tokens):\n",
    "    # Inicializa el resultado con el primer número\n",
    "    result = int(tokens[0])\n",
    "    # Recorre la lista de tokens y suma los números\n",
    "    for i in range(1, len(tokens), 2):\n",
    "        if tokens[i] == '+':\n",
    "            result += int(tokens[i + 1])\n",
    "    return result\n",
    "\n",
    "# Casos de prueba\n",
    "assert evaluar([\"(\", \"1\", \"+\", \"2\", \")\", \"*\", \"3\"]) == 9\n",
    "assert evaluar([\"1\", \"+\", \"2\", \"*\", \"3\"]) == 7\n",
    "assert evaluar([\"(\", \"1\", \"+\", \"2\", \")\", \"+\", \"(\", \"3\", \"*\", \"4\", \")\"]) == 15\n",
    "assert evaluar([\"10\", \"+\", \"(\", \"5\", \"*\", \"3\", \")\", \"+\", \"2\"]) == 27\n",
    "assert evaluar([\"(\", \"2\", \"+\", \"3\", \")\", \"*\", \"(\", \"4\", \"+\", \"1\", \")\"]) == 25\n",
    "\n",
    "print(\"¡Todos los casos de prueba pasaron!\")"
   ]
  }
 ],
 "metadata": {
  "kernelspec": {
   "display_name": "Python 3",
   "language": "python",
   "name": "python3"
  },
  "language_info": {
   "codemirror_mode": {
    "name": "ipython",
    "version": 3
   },
   "file_extension": ".py",
   "mimetype": "text/x-python",
   "name": "python",
   "nbconvert_exporter": "python",
   "pygments_lexer": "ipython3",
   "version": "3.12.6"
  }
 },
 "nbformat": 4,
 "nbformat_minor": 2
}
