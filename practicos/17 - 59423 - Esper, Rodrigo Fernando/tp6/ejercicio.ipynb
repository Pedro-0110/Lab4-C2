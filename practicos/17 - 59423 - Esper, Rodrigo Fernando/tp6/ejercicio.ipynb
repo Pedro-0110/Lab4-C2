{
 "cells": [
  {
   "cell_type": "markdown",
   "metadata": {},
   "source": [
    "# TP6\n",
    "\n",
    "### `Resolver usando Pandas`\n",
    "\n",
    "Resolver los ejercicios del TP3 utilizando la librería Pandas."
   ]
  },
  {
   "cell_type": "markdown",
   "metadata": {},
   "source": [
    "### Ejercicio 1: Cargar Datos de ventas.\n",
    "\n",
    "El archivo datos.dat contiene el registro de las ventas realizadas.\n",
    "\n",
    "Tiene un formato de ancho fijo:\n",
    "- `fecha`:    10 lugares\n",
    "- `producto`: 30 lugares\n",
    "- `precio`:   10 lugares\n",
    "- `cantidad`:  5 lugares\n",
    "\n",
    "Hacer una funcion que cargue los datos en un DataFrame de Pandas."
   ]
  },
  {
   "cell_type": "code",
   "execution_count": 19,
   "metadata": {},
   "outputs": [
    {
     "name": "stdout",
     "output_type": "stream",
     "text": [
      "2.2.3\n"
     ]
    }
   ],
   "source": [
    "import pandas as pd\n",
    "print(pd.__version__)"
   ]
  },
  {
   "cell_type": "code",
   "execution_count": 18,
   "metadata": {},
   "outputs": [
    {
     "name": "stdout",
     "output_type": "stream",
     "text": [
      "Defaulting to user installation because normal site-packages is not writeable\n",
      "Requirement already satisfied: pandas in c:\\users\\admin\\appdata\\local\\packages\\pythonsoftwarefoundation.python.3.12_qbz5n2kfra8p0\\localcache\\local-packages\\python312\\site-packages (2.2.3)\n",
      "Requirement already satisfied: numpy>=1.26.0 in c:\\users\\admin\\appdata\\local\\packages\\pythonsoftwarefoundation.python.3.12_qbz5n2kfra8p0\\localcache\\local-packages\\python312\\site-packages (from pandas) (2.1.2)\n",
      "Requirement already satisfied: python-dateutil>=2.8.2 in c:\\users\\admin\\appdata\\local\\packages\\pythonsoftwarefoundation.python.3.12_qbz5n2kfra8p0\\localcache\\local-packages\\python312\\site-packages (from pandas) (2.9.0.post0)\n",
      "Requirement already satisfied: pytz>=2020.1 in c:\\users\\admin\\appdata\\local\\packages\\pythonsoftwarefoundation.python.3.12_qbz5n2kfra8p0\\localcache\\local-packages\\python312\\site-packages (from pandas) (2024.2)\n",
      "Requirement already satisfied: tzdata>=2022.7 in c:\\users\\admin\\appdata\\local\\packages\\pythonsoftwarefoundation.python.3.12_qbz5n2kfra8p0\\localcache\\local-packages\\python312\\site-packages (from pandas) (2024.2)\n",
      "Requirement already satisfied: six>=1.5 in c:\\users\\admin\\appdata\\local\\packages\\pythonsoftwarefoundation.python.3.12_qbz5n2kfra8p0\\localcache\\local-packages\\python312\\site-packages (from python-dateutil>=2.8.2->pandas) (1.16.0)\n",
      "Note: you may need to restart the kernel to use updated packages.\n"
     ]
    }
   ],
   "source": [
    "%pip install pandas"
   ]
  },
  {
   "cell_type": "code",
   "execution_count": 20,
   "metadata": {},
   "outputs": [
    {
     "data": {
      "text/html": [
       "<div>\n",
       "<style scoped>\n",
       "    .dataframe tbody tr th:only-of-type {\n",
       "        vertical-align: middle;\n",
       "    }\n",
       "\n",
       "    .dataframe tbody tr th {\n",
       "        vertical-align: top;\n",
       "    }\n",
       "\n",
       "    .dataframe thead th {\n",
       "        text-align: right;\n",
       "    }\n",
       "</style>\n",
       "<table border=\"1\" class=\"dataframe\">\n",
       "  <thead>\n",
       "    <tr style=\"text-align: right;\">\n",
       "      <th></th>\n",
       "      <th>fecha</th>\n",
       "      <th>producto</th>\n",
       "      <th>precio</th>\n",
       "      <th>cantidad</th>\n",
       "    </tr>\n",
       "  </thead>\n",
       "  <tbody>\n",
       "    <tr>\n",
       "      <th>0</th>\n",
       "      <td>2024-08-27</td>\n",
       "      <td>Mirinda</td>\n",
       "      <td>1510</td>\n",
       "      <td>14</td>\n",
       "    </tr>\n",
       "    <tr>\n",
       "      <th>1</th>\n",
       "      <td>2024-08-27</td>\n",
       "      <td>Mirinda</td>\n",
       "      <td>1560</td>\n",
       "      <td>12</td>\n",
       "    </tr>\n",
       "    <tr>\n",
       "      <th>2</th>\n",
       "      <td>2024-08-28</td>\n",
       "      <td>Torasso</td>\n",
       "      <td>940</td>\n",
       "      <td>8</td>\n",
       "    </tr>\n",
       "    <tr>\n",
       "      <th>3</th>\n",
       "      <td>2024-08-29</td>\n",
       "      <td>Pepsi Cola</td>\n",
       "      <td>1210</td>\n",
       "      <td>10</td>\n",
       "    </tr>\n",
       "    <tr>\n",
       "      <th>4</th>\n",
       "      <td>2024-08-30</td>\n",
       "      <td>Mirinda</td>\n",
       "      <td>1520</td>\n",
       "      <td>1</td>\n",
       "    </tr>\n",
       "    <tr>\n",
       "      <th>5</th>\n",
       "      <td>2024-09-01</td>\n",
       "      <td>Mirinda</td>\n",
       "      <td>1550</td>\n",
       "      <td>15</td>\n",
       "    </tr>\n",
       "    <tr>\n",
       "      <th>6</th>\n",
       "      <td>2024-09-01</td>\n",
       "      <td>Sprite</td>\n",
       "      <td>810</td>\n",
       "      <td>4</td>\n",
       "    </tr>\n",
       "    <tr>\n",
       "      <th>7</th>\n",
       "      <td>2024-09-02</td>\n",
       "      <td>Coca Cola</td>\n",
       "      <td>1100</td>\n",
       "      <td>4</td>\n",
       "    </tr>\n",
       "    <tr>\n",
       "      <th>8</th>\n",
       "      <td>2024-09-02</td>\n",
       "      <td>Pepsi Cola</td>\n",
       "      <td>1220</td>\n",
       "      <td>13</td>\n",
       "    </tr>\n",
       "    <tr>\n",
       "      <th>9</th>\n",
       "      <td>2024-09-02</td>\n",
       "      <td>Torasso</td>\n",
       "      <td>910</td>\n",
       "      <td>5</td>\n",
       "    </tr>\n",
       "    <tr>\n",
       "      <th>10</th>\n",
       "      <td>2024-09-02</td>\n",
       "      <td>Torasso</td>\n",
       "      <td>920</td>\n",
       "      <td>3</td>\n",
       "    </tr>\n",
       "    <tr>\n",
       "      <th>11</th>\n",
       "      <td>2024-09-03</td>\n",
       "      <td>Coca Cola</td>\n",
       "      <td>1020</td>\n",
       "      <td>8</td>\n",
       "    </tr>\n",
       "    <tr>\n",
       "      <th>12</th>\n",
       "      <td>2024-09-03</td>\n",
       "      <td>Mirinda</td>\n",
       "      <td>1570</td>\n",
       "      <td>7</td>\n",
       "    </tr>\n",
       "    <tr>\n",
       "      <th>13</th>\n",
       "      <td>2024-09-03</td>\n",
       "      <td>Mirinda</td>\n",
       "      <td>1590</td>\n",
       "      <td>2</td>\n",
       "    </tr>\n",
       "    <tr>\n",
       "      <th>14</th>\n",
       "      <td>2024-09-04</td>\n",
       "      <td>Pepsi Cola</td>\n",
       "      <td>1220</td>\n",
       "      <td>13</td>\n",
       "    </tr>\n",
       "    <tr>\n",
       "      <th>15</th>\n",
       "      <td>2024-09-05</td>\n",
       "      <td>Mirinda</td>\n",
       "      <td>1500</td>\n",
       "      <td>3</td>\n",
       "    </tr>\n",
       "    <tr>\n",
       "      <th>16</th>\n",
       "      <td>2024-09-05</td>\n",
       "      <td>Pepsi Cola</td>\n",
       "      <td>1300</td>\n",
       "      <td>5</td>\n",
       "    </tr>\n",
       "    <tr>\n",
       "      <th>17</th>\n",
       "      <td>2024-09-06</td>\n",
       "      <td>Coca Cola</td>\n",
       "      <td>1080</td>\n",
       "      <td>1</td>\n",
       "    </tr>\n",
       "    <tr>\n",
       "      <th>18</th>\n",
       "      <td>2024-09-06</td>\n",
       "      <td>Sprite</td>\n",
       "      <td>860</td>\n",
       "      <td>12</td>\n",
       "    </tr>\n",
       "    <tr>\n",
       "      <th>19</th>\n",
       "      <td>2024-09-06</td>\n",
       "      <td>Torasso</td>\n",
       "      <td>930</td>\n",
       "      <td>3</td>\n",
       "    </tr>\n",
       "    <tr>\n",
       "      <th>20</th>\n",
       "      <td>2024-09-07</td>\n",
       "      <td>Coca Cola</td>\n",
       "      <td>1080</td>\n",
       "      <td>14</td>\n",
       "    </tr>\n",
       "    <tr>\n",
       "      <th>21</th>\n",
       "      <td>2024-09-07</td>\n",
       "      <td>Sprite</td>\n",
       "      <td>870</td>\n",
       "      <td>13</td>\n",
       "    </tr>\n",
       "    <tr>\n",
       "      <th>22</th>\n",
       "      <td>2024-09-08</td>\n",
       "      <td>Coca Cola</td>\n",
       "      <td>1040</td>\n",
       "      <td>10</td>\n",
       "    </tr>\n",
       "    <tr>\n",
       "      <th>23</th>\n",
       "      <td>2024-09-08</td>\n",
       "      <td>Mirinda</td>\n",
       "      <td>1580</td>\n",
       "      <td>2</td>\n",
       "    </tr>\n",
       "    <tr>\n",
       "      <th>24</th>\n",
       "      <td>2024-09-08</td>\n",
       "      <td>Pepsi Cola</td>\n",
       "      <td>1240</td>\n",
       "      <td>9</td>\n",
       "    </tr>\n",
       "    <tr>\n",
       "      <th>25</th>\n",
       "      <td>2024-09-09</td>\n",
       "      <td>Mirinda</td>\n",
       "      <td>1500</td>\n",
       "      <td>3</td>\n",
       "    </tr>\n",
       "    <tr>\n",
       "      <th>26</th>\n",
       "      <td>2024-09-09</td>\n",
       "      <td>Sprite</td>\n",
       "      <td>850</td>\n",
       "      <td>9</td>\n",
       "    </tr>\n",
       "    <tr>\n",
       "      <th>27</th>\n",
       "      <td>2024-09-10</td>\n",
       "      <td>Mirinda</td>\n",
       "      <td>1590</td>\n",
       "      <td>8</td>\n",
       "    </tr>\n",
       "    <tr>\n",
       "      <th>28</th>\n",
       "      <td>2024-09-10</td>\n",
       "      <td>Pepsi Cola</td>\n",
       "      <td>1250</td>\n",
       "      <td>12</td>\n",
       "    </tr>\n",
       "    <tr>\n",
       "      <th>29</th>\n",
       "      <td>2024-09-11</td>\n",
       "      <td>Sprite</td>\n",
       "      <td>810</td>\n",
       "      <td>6</td>\n",
       "    </tr>\n",
       "    <tr>\n",
       "      <th>30</th>\n",
       "      <td>2024-09-11</td>\n",
       "      <td>Sprite</td>\n",
       "      <td>820</td>\n",
       "      <td>14</td>\n",
       "    </tr>\n",
       "    <tr>\n",
       "      <th>31</th>\n",
       "      <td>2024-09-12</td>\n",
       "      <td>Coca Cola</td>\n",
       "      <td>1080</td>\n",
       "      <td>4</td>\n",
       "    </tr>\n",
       "    <tr>\n",
       "      <th>32</th>\n",
       "      <td>2024-09-13</td>\n",
       "      <td>Mirinda</td>\n",
       "      <td>1580</td>\n",
       "      <td>5</td>\n",
       "    </tr>\n",
       "    <tr>\n",
       "      <th>33</th>\n",
       "      <td>2024-09-13</td>\n",
       "      <td>Pepsi Cola</td>\n",
       "      <td>1250</td>\n",
       "      <td>13</td>\n",
       "    </tr>\n",
       "    <tr>\n",
       "      <th>34</th>\n",
       "      <td>2024-09-14</td>\n",
       "      <td>Coca Cola</td>\n",
       "      <td>1080</td>\n",
       "      <td>15</td>\n",
       "    </tr>\n",
       "    <tr>\n",
       "      <th>35</th>\n",
       "      <td>2024-09-14</td>\n",
       "      <td>Pepsi Cola</td>\n",
       "      <td>1270</td>\n",
       "      <td>14</td>\n",
       "    </tr>\n",
       "    <tr>\n",
       "      <th>36</th>\n",
       "      <td>2024-09-15</td>\n",
       "      <td>Coca Cola</td>\n",
       "      <td>1100</td>\n",
       "      <td>1</td>\n",
       "    </tr>\n",
       "    <tr>\n",
       "      <th>37</th>\n",
       "      <td>2024-09-15</td>\n",
       "      <td>Mirinda</td>\n",
       "      <td>1500</td>\n",
       "      <td>13</td>\n",
       "    </tr>\n",
       "    <tr>\n",
       "      <th>38</th>\n",
       "      <td>2024-09-15</td>\n",
       "      <td>Sprite</td>\n",
       "      <td>870</td>\n",
       "      <td>14</td>\n",
       "    </tr>\n",
       "    <tr>\n",
       "      <th>39</th>\n",
       "      <td>2024-09-15</td>\n",
       "      <td>Torasso</td>\n",
       "      <td>900</td>\n",
       "      <td>13</td>\n",
       "    </tr>\n",
       "  </tbody>\n",
       "</table>\n",
       "</div>"
      ],
      "text/plain": [
       "         fecha    producto  precio  cantidad\n",
       "0   2024-08-27     Mirinda    1510        14\n",
       "1   2024-08-27     Mirinda    1560        12\n",
       "2   2024-08-28     Torasso     940         8\n",
       "3   2024-08-29  Pepsi Cola    1210        10\n",
       "4   2024-08-30     Mirinda    1520         1\n",
       "5   2024-09-01     Mirinda    1550        15\n",
       "6   2024-09-01      Sprite     810         4\n",
       "7   2024-09-02   Coca Cola    1100         4\n",
       "8   2024-09-02  Pepsi Cola    1220        13\n",
       "9   2024-09-02     Torasso     910         5\n",
       "10  2024-09-02     Torasso     920         3\n",
       "11  2024-09-03   Coca Cola    1020         8\n",
       "12  2024-09-03     Mirinda    1570         7\n",
       "13  2024-09-03     Mirinda    1590         2\n",
       "14  2024-09-04  Pepsi Cola    1220        13\n",
       "15  2024-09-05     Mirinda    1500         3\n",
       "16  2024-09-05  Pepsi Cola    1300         5\n",
       "17  2024-09-06   Coca Cola    1080         1\n",
       "18  2024-09-06      Sprite     860        12\n",
       "19  2024-09-06     Torasso     930         3\n",
       "20  2024-09-07   Coca Cola    1080        14\n",
       "21  2024-09-07      Sprite     870        13\n",
       "22  2024-09-08   Coca Cola    1040        10\n",
       "23  2024-09-08     Mirinda    1580         2\n",
       "24  2024-09-08  Pepsi Cola    1240         9\n",
       "25  2024-09-09     Mirinda    1500         3\n",
       "26  2024-09-09      Sprite     850         9\n",
       "27  2024-09-10     Mirinda    1590         8\n",
       "28  2024-09-10  Pepsi Cola    1250        12\n",
       "29  2024-09-11      Sprite     810         6\n",
       "30  2024-09-11      Sprite     820        14\n",
       "31  2024-09-12   Coca Cola    1080         4\n",
       "32  2024-09-13     Mirinda    1580         5\n",
       "33  2024-09-13  Pepsi Cola    1250        13\n",
       "34  2024-09-14   Coca Cola    1080        15\n",
       "35  2024-09-14  Pepsi Cola    1270        14\n",
       "36  2024-09-15   Coca Cola    1100         1\n",
       "37  2024-09-15     Mirinda    1500        13\n",
       "38  2024-09-15      Sprite     870        14\n",
       "39  2024-09-15     Torasso     900        13"
      ]
     },
     "execution_count": 20,
     "metadata": {},
     "output_type": "execute_result"
    }
   ],
   "source": [
    "import pandas as pd\n",
    "\n",
    "def cargar_datos():\n",
    "    # Definir las posiciones de las columnas basadas en el formato de ancho fijo\n",
    "    colspecs = [(0, 10), (10, 40), (40, 50), (50, 55)]\n",
    "    # Definir los nombres de las columnas\n",
    "    column_names = ['fecha', 'producto', 'precio', 'cantidad']\n",
    "    \n",
    "    # Leer el archivo de ancho fijo en un DataFrame de Pandas\n",
    "    df = pd.read_fwf('datos.dat', colspecs=colspecs, names=column_names)\n",
    "    \n",
    "    return df\n",
    "\n",
    "# Cargar los datos\n",
    "datos = cargar_datos()\n",
    "datos"
   ]
  },
  {
   "cell_type": "markdown",
   "metadata": {},
   "source": [
    "### Ejercicio 2: Calcular el total de ventas.\n",
    "Hacer una función que sume los importes vendidos (precio * cantidad) y las cantidades.\n"
   ]
  },
  {
   "cell_type": "code",
   "execution_count": 6,
   "metadata": {},
   "outputs": [
    {
     "name": "stdout",
     "output_type": "stream",
     "text": [
      "Las ventas fueron de $392730.00 en 335 unidades\n"
     ]
    }
   ],
   "source": [
    "def calcular_totales(datos):\n",
    "    # Calcular el importe total (precio * cantidad)\n",
    "    datos['importe'] = datos['precio'] * datos['cantidad']\n",
    "    importe_total = datos['importe'].sum()\n",
    "    \n",
    "    # Calcular la cantidad total\n",
    "    cantidad_total = datos['cantidad'].sum()\n",
    "    \n",
    "    return importe_total, cantidad_total\n",
    "\n",
    "# Utilizar la función cargar_datos del Ejercicio 1 para obtener los datos\n",
    "datos = cargar_datos()\n",
    "\n",
    "# Calcular los totales\n",
    "importe, cantidad = calcular_totales(datos)\n",
    "\n",
    "print(f\"Las ventas fueron de ${importe:.2f} en {cantidad} unidades\")"
   ]
  },
  {
   "cell_type": "markdown",
   "metadata": {},
   "source": [
    "### Ejercicio 3: Listar las unidades vendidas.\n",
    "Listar cuántas unidades se vendieron en total para cada producto\n"
   ]
  },
  {
   "cell_type": "code",
   "execution_count": 7,
   "metadata": {},
   "outputs": [
    {
     "name": "stdout",
     "output_type": "stream",
     "text": [
      "     producto  cantidad\n",
      "0   Coca Cola        57\n",
      "1     Mirinda        85\n",
      "2  Pepsi Cola        89\n",
      "3      Sprite        72\n",
      "4     Torasso        32\n"
     ]
    }
   ],
   "source": [
    "def unidades_vendidas(datos):\n",
    "    # Agrupar los datos por 'producto' y sumar las cantidades vendidas\n",
    "    ventas_por_producto = datos.groupby('producto')['cantidad'].sum()\n",
    "    \n",
    "    # Convertir el resultado a un DataFrame para una mejor visualización\n",
    "    ventas_por_producto_df = ventas_por_producto.reset_index()\n",
    "    \n",
    "    return ventas_por_producto_df\n",
    "\n",
    "# Utilizar la función cargar_datos del Ejercicio 1 para obtener los datos\n",
    "datos = cargar_datos()\n",
    "\n",
    "# Listar las unidades vendidas por producto\n",
    "unidades_vendidas_df = unidades_vendidas(datos)\n",
    "print(unidades_vendidas_df)"
   ]
  },
  {
   "cell_type": "markdown",
   "metadata": {},
   "source": [
    "###  Ejercicio 4: Listar el precio promedio por producto.\n",
    "Hacer un listado del precio promedio por producto.\n"
   ]
  },
  {
   "cell_type": "code",
   "execution_count": 9,
   "metadata": {},
   "outputs": [
    {
     "name": "stdout",
     "output_type": "stream",
     "text": [
      "     producto   precio\n",
      "0   Coca Cola  1072.50\n",
      "1     Mirinda  1545.83\n",
      "2  Pepsi Cola  1245.00\n",
      "3      Sprite   841.43\n",
      "4     Torasso   920.00\n"
     ]
    }
   ],
   "source": [
    "def precio_promedio(datos):\n",
    "    # Agrupar los datos por 'producto' y calcular el precio promedio\n",
    "    promedio_por_producto = datos.groupby('producto')['precio'].mean()\n",
    "    \n",
    "    # Convertir el resultado a un DataFrame para una mejor visualización\n",
    "    promedio_por_producto_df = promedio_por_producto.reset_index()\n",
    "    \n",
    "    # Redondear los precios promedio a 2 decimales\n",
    "    promedio_por_producto_df['precio'] = promedio_por_producto_df['precio'].round(2)\n",
    "    \n",
    "    return promedio_por_producto_df\n",
    "\n",
    "# Utilizar la función cargar_datos del Ejercicio 1 para obtener los datos\n",
    "datos = cargar_datos()\n",
    "\n",
    "# Listar el precio promedio por producto\n",
    "precio_promedio_df = precio_promedio(datos)\n",
    "print(precio_promedio_df)"
   ]
  },
  {
   "cell_type": "markdown",
   "metadata": {},
   "source": [
    "### Ejercicio 5: Ranking de productos\n",
    "Realizar un listado de los 3 productos más vendidos ordenados por la cantidad de unidades vendidas (ordenadas de mayor a menor)\n"
   ]
  },
  {
   "cell_type": "code",
   "execution_count": 10,
   "metadata": {},
   "outputs": [
    {
     "name": "stdout",
     "output_type": "stream",
     "text": [
      "     producto  cantidad\n",
      "0  Pepsi Cola        89\n",
      "1     Mirinda        85\n",
      "2      Sprite        72\n"
     ]
    }
   ],
   "source": [
    "def ranking_productos(datos, top=3):\n",
    "    # Agrupar los datos por 'producto' y sumar las cantidades vendidas\n",
    "    ventas_por_producto = datos.groupby('producto')['cantidad'].sum()\n",
    "    \n",
    "    # Ordenar los productos por la cantidad de unidades vendidas de mayor a menor\n",
    "    ranking = ventas_por_producto.sort_values(ascending=False)\n",
    "    \n",
    "    # Seleccionar los 'top' productos más vendidos\n",
    "    top_ranking = ranking.head(top)\n",
    "    \n",
    "    # Convertir el resultado a un DataFrame para una mejor visualización\n",
    "    top_ranking_df = top_ranking.reset_index()\n",
    "    \n",
    "    return top_ranking_df\n",
    "\n",
    "# Utilizar la función cargar_datos del Ejercicio 1 para obtener los datos\n",
    "datos = cargar_datos()\n",
    "\n",
    "# Obtener el ranking de los productos más vendidos\n",
    "ranking_df = ranking_productos(datos)\n",
    "print(ranking_df)"
   ]
  },
  {
   "cell_type": "markdown",
   "metadata": {},
   "source": [
    "### Ejercicio 6: Listar las ventas por mes\n",
    "Realizar un listado del total de unidades vendidas por producto separado por mes.\n"
   ]
  },
  {
   "cell_type": "code",
   "execution_count": 11,
   "metadata": {},
   "outputs": [
    {
     "name": "stdout",
     "output_type": "stream",
     "text": [
      "     producto  año_mes  cantidad\n",
      "0   Coca Cola  2024-09        57\n",
      "1     Mirinda  2024-08        27\n",
      "2     Mirinda  2024-09        58\n",
      "3  Pepsi Cola  2024-08        10\n",
      "4  Pepsi Cola  2024-09        79\n",
      "5      Sprite  2024-09        72\n",
      "6     Torasso  2024-08         8\n",
      "7     Torasso  2024-09        24\n"
     ]
    }
   ],
   "source": [
    "def ventas_por_mes(datos):\n",
    "    # Convertir la columna 'fecha' a tipo datetime\n",
    "    datos['fecha'] = pd.to_datetime(datos['fecha'], format='%Y-%m-%d')\n",
    "    \n",
    "    # Extraer el año y el mes de la columna 'fecha'\n",
    "    datos['año_mes'] = datos['fecha'].dt.to_period('M')\n",
    "    \n",
    "    # Agrupar los datos por 'producto' y 'año_mes' y sumar las cantidades vendidas\n",
    "    ventas_mensuales = datos.groupby(['producto', 'año_mes'])['cantidad'].sum()\n",
    "    \n",
    "    # Convertir el resultado a un DataFrame para una mejor visualización\n",
    "    ventas_mensuales_df = ventas_mensuales.reset_index()\n",
    "    \n",
    "    return ventas_mensuales_df\n",
    "\n",
    "# Utilizar la función cargar_datos del Ejercicio 1 para obtener los datos\n",
    "datos = cargar_datos()\n",
    "\n",
    "# Listar las ventas por mes\n",
    "ventas_mensuales_df = ventas_por_mes(datos)\n",
    "print(ventas_mensuales_df)"
   ]
  },
  {
   "cell_type": "markdown",
   "metadata": {},
   "source": [
    "### Ejercicio 7: Informe general\n",
    "\n",
    "Mostrar un listado de productos ordenados alfabeticamente que contengan el precio promedio, la cantidad de unidades vendidas y el importe total vendido para cada producto"
   ]
  },
  {
   "cell_type": "code",
   "execution_count": 12,
   "metadata": {},
   "outputs": [
    {
     "name": "stdout",
     "output_type": "stream",
     "text": [
      "            precio_promedio  cantidad_vendida  importe_total\n",
      "producto                                                    \n",
      "Coca Cola           1072.50                57          60780\n",
      "Mirinda             1545.83                85         131080\n",
      "Pepsi Cola          1245.00                89         110510\n",
      "Sprite               841.43                72          61040\n",
      "Torasso              920.00                32          29320\n"
     ]
    }
   ],
   "source": [
    "def resumen_ventas(datos):\n",
    "    # Calcular el precio promedio por producto\n",
    "    precio_promedio = datos.groupby('producto')['precio'].mean()\n",
    "    \n",
    "    # Calcular la cantidad total de unidades vendidas por producto\n",
    "    cantidad_vendida = datos.groupby('producto')['cantidad'].sum()\n",
    "    \n",
    "    # Calcular el importe total vendido por producto\n",
    "    datos['importe'] = datos['precio'] * datos['cantidad']\n",
    "    importe_total = datos.groupby('producto')['importe'].sum()\n",
    "    \n",
    "    # Crear un DataFrame con los resultados\n",
    "    resumen_df = pd.DataFrame({\n",
    "        'precio_promedio': precio_promedio,\n",
    "        'cantidad_vendida': cantidad_vendida,\n",
    "        'importe_total': importe_total\n",
    "    })\n",
    "    \n",
    "    # Redondear el precio promedio a 2 decimales\n",
    "    resumen_df['precio_promedio'] = resumen_df['precio_promedio'].round(2)\n",
    "    \n",
    "    # Ordenar el DataFrame alfabéticamente por producto\n",
    "    resumen_df = resumen_df.sort_index()\n",
    "    \n",
    "    return resumen_df\n",
    "\n",
    "# Utilizar la función cargar_datos del Ejercicio 1 para obtener los datos\n",
    "datos = cargar_datos()\n",
    "\n",
    "# Obtener el informe general de ventas\n",
    "resumen_df = resumen_ventas(datos)\n",
    "print(resumen_df)"
   ]
  },
  {
   "cell_type": "markdown",
   "metadata": {},
   "source": [
    "## `Resolver usando NumPy`\n",
    "## Resolver el ejercicio 2 del tp1 usando NumPy"
   ]
  },
  {
   "cell_type": "markdown",
   "metadata": {},
   "source": [
    "### Ejercicio 8\n",
    "\n",
    "Escribe una función en Python que encuentre los valores de `a`, `b`, y `c` para que la función cuadrática `f(x) = a x^2 + b x + c` pase exactamente por los siguientes puntos:\n",
    "\n",
    "| x  | y  |\n",
    "|---:|---:|\n",
    "|  0 |  0 |\n",
    "|  1 |  8 |\n",
    "|  2 | 12 |\n",
    "|  3 | 12 |\n",
    "|  5 |  0 |\n",
    "\n",
    "### Requisitos:\n",
    "- La función debe explorar posibles valores de `a`, `b`, y `c` utilizando un método de prueba y error.\n",
    "- Debe devolver los valores que hagan que la diferencia entre la función `f(x)` y los valores medidos `y` sea exactamente cero para cada punto.\n",
    "\n",
    "> **Pista**: Los valores de `a`, `b`, y `c` son números pequeños.\n",
    "\n",
    "La idea es implementar el mismo algoritmo que se uso en el TP1 pero usando NumPy en lugar de Python puro."
   ]
  },
  {
   "cell_type": "code",
   "execution_count": 34,
   "metadata": {},
   "outputs": [
    {
     "name": "stdout",
     "output_type": "stream",
     "text": [
      "Defaulting to user installation because normal site-packages is not writeable\n",
      "Requirement already satisfied: scipy in c:\\users\\admin\\appdata\\local\\packages\\pythonsoftwarefoundation.python.3.12_qbz5n2kfra8p0\\localcache\\local-packages\\python312\\site-packages (1.14.1)\n",
      "Requirement already satisfied: numpy<2.3,>=1.23.5 in c:\\users\\admin\\appdata\\local\\packages\\pythonsoftwarefoundation.python.3.12_qbz5n2kfra8p0\\localcache\\local-packages\\python312\\site-packages (from scipy) (2.1.2)\n",
      "Note: you may need to restart the kernel to use updated packages.\n"
     ]
    }
   ],
   "source": [
    "pip install scipy"
   ]
  },
  {
   "cell_type": "code",
   "execution_count": 35,
   "metadata": {},
   "outputs": [
    {
     "name": "stdout",
     "output_type": "stream",
     "text": [
      "scipy.optimize.minimize importado correctamente\n"
     ]
    }
   ],
   "source": [
    "import numpy as np\n",
    "from scipy.optimize import minimize\n",
    "\n",
    "print(\"scipy.optimize.minimize importado correctamente\")"
   ]
  },
  {
   "cell_type": "code",
   "execution_count": 16,
   "metadata": {},
   "outputs": [
    {
     "name": "stdout",
     "output_type": "stream",
     "text": [
      "2.1.2\n"
     ]
    }
   ],
   "source": [
    "import numpy as np\n",
    "print(np.__version__)"
   ]
  },
  {
   "cell_type": "code",
   "execution_count": 40,
   "metadata": {},
   "outputs": [
    {
     "name": "stdout",
     "output_type": "stream",
     "text": [
      "Coeficientes encontrados: a=-2.0, b=10.0, c=-0.0\n"
     ]
    }
   ],
   "source": [
    "import numpy as np\n",
    "from scipy.optimize import minimize\n",
    "\n",
    "# Definir la función cuadrática\n",
    "def f(x, coeficientes):\n",
    "    a, b, c = coeficientes\n",
    "    return a * x**2 + b * x + c\n",
    "\n",
    "# Definir la función de error\n",
    "def error(coeficientes, X, Y):\n",
    "    Y_pred = f(X, coeficientes)\n",
    "    return np.sum((Y - Y_pred)**2)\n",
    "\n",
    "# Lista de puntos (x, y)\n",
    "X = np.array([0, 1, 2, 3, 5])\n",
    "Y = np.array([0, 8, 12, 12, 0])\n",
    "\n",
    "# Función para buscar los coeficientes\n",
    "def buscar_coeficientes():\n",
    "    # Valores iniciales para a, b, y c\n",
    "    coef_iniciales = np.array([1, 1, 1])  # Cambié los valores iniciales para evitar problemas con ceros\n",
    "    \n",
    "    # Minimizar la función de error\n",
    "    resultado = minimize(error, coef_iniciales, args=(X, Y), method='BFGS')\n",
    "    \n",
    "    if resultado.success:\n",
    "        return np.round(resultado.x, 4)  # Redondear los coeficientes a cuatro decimales\n",
    "    else:\n",
    "        raise ValueError(\"La optimización no tuvo éxito\")\n",
    "\n",
    "# Buscar los coeficientes\n",
    "coeficientes = buscar_coeficientes()\n",
    "print(f\"Coeficientes encontrados: a={coeficientes[0]}, b={coeficientes[1]}, c={coeficientes[2]}\")"
   ]
  },
  {
   "cell_type": "markdown",
   "metadata": {},
   "source": [
    "### Ejercicio 9: Resolver el ejercicio 3 del TP1 usando NumPy\n",
    "Buscar los coeficientes de la función que minimice la suma de los cuadrados de las diferencias entre los valores medidos y los valores de la función.\n",
    "\n",
    "1. Crear un array con los coeficientes elegidos al azar (usar `randint(-10,10,3)`).\n",
    "2. Calcular el valor de la función y el error correspondiente.\n",
    "3. Mientras que el error sea mayor a 1:\n",
    "    1. Definir nuevos coeficientes agregándoles un pequeño valor al azar a los coeficientes actuales (aprendizaje = 0.001).\n",
    "    2. Si el error para los nuevos coeficientes es menor que el anterior, reemplazar los coeficientes actuales por los nuevos.\n"
   ]
  },
  {
   "cell_type": "code",
   "execution_count": 42,
   "metadata": {},
   "outputs": [
    {
     "name": "stdout",
     "output_type": "stream",
     "text": [
      "Coeficientes encontrados: a=-1.7795, b=8.9588, c=0.6226\n"
     ]
    }
   ],
   "source": [
    "import numpy as np\n",
    "from numpy.random import randint\n",
    "\n",
    "def f(x, coeficientes):\n",
    "    a, b, c = coeficientes\n",
    "    return a * x**2 + b * x + c\n",
    "\n",
    "def error(y, y_pred):\n",
    "    return np.sum((y - y_pred)**2)\n",
    "\n",
    "X = np.array([0, 1, 2, 3, 5])\n",
    "Y = np.array([0, 8, 12, 11, 1])  # Observar que no son los mismos valores que en el ejemplo anterior\n",
    "\n",
    "def buscar_coeficientes():\n",
    "    # 1. Crear un array con los coeficientes elegidos al azar\n",
    "    coeficientes = randint(-10, 10, 3)\n",
    "    \n",
    "    # 2. Calcular el valor de la función y el error correspondiente\n",
    "    Y_pred = f(X, coeficientes)\n",
    "    current_error = error(Y, Y_pred)\n",
    "    \n",
    "    aprendizaje = 0.0001  # Reducir el valor de aprendizaje para mayor precisión\n",
    "    \n",
    "    # 3. Mientras que el error sea mayor a 1\n",
    "    while current_error > 1:\n",
    "        # 3.1 Definir nuevos coeficientes agregándoles un pequeño valor al azar a los coeficientes actuales\n",
    "        nuevos_coeficientes = coeficientes + aprendizaje * randint(-10, 10, 3)\n",
    "        \n",
    "        # Calcular el nuevo error\n",
    "        Y_pred_nuevo = f(X, nuevos_coeficientes)\n",
    "        nuevo_error = error(Y, Y_pred_nuevo)\n",
    "        \n",
    "        # 3.2 Si el error para los nuevos coeficientes es menor que el anterior, reemplazar los coeficientes actuales por los nuevos\n",
    "        if nuevo_error < current_error:\n",
    "            coeficientes = nuevos_coeficientes\n",
    "            current_error = nuevo_error\n",
    "    \n",
    "    return np.round(coeficientes, 4)  # Redondear los coeficientes a cuatro decimales\n",
    "\n",
    "# Buscar los coeficientes\n",
    "coeficientes = buscar_coeficientes()\n",
    "print(f\"Coeficientes encontrados: a={coeficientes[0]}, b={coeficientes[1]}, c={coeficientes[2]}\")"
   ]
  }
 ],
 "metadata": {
  "kernelspec": {
   "display_name": "Python 3",
   "language": "python",
   "name": "python3"
  },
  "language_info": {
   "codemirror_mode": {
    "name": "ipython",
    "version": 3
   },
   "file_extension": ".py",
   "mimetype": "text/x-python",
   "name": "python",
   "nbconvert_exporter": "python",
   "pygments_lexer": "ipython3",
   "version": "3.12.5"
  }
 },
 "nbformat": 4,
 "nbformat_minor": 2
}
