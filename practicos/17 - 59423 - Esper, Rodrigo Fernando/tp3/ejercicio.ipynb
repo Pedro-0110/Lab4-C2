{
 "cells": [
  {
   "cell_type": "markdown",
   "metadata": {},
   "source": [
    "#TP3"
   ]
  },
  {
   "cell_type": "markdown",
   "metadata": {},
   "source": [
    "## Ejercicio 1: Cargar Datos de ventas.\n",
    "\n",
    "El archivo datos.dat contiene el registro de las ventas realizadas.\n",
    "\n",
    "Tiene un formato de ancho fijo:\n",
    "- fecha:    10 lugares\n",
    "- producto: 30 lugares\n",
    "- precio:   10 lugares\n",
    "- cantidad:  5 lugares\n",
    "\n",
    "hacer una funcion que carge los en una lista de diccionarios. \n",
    "\n",
    "nota: con \n",
    "```python\n",
    "lineas = open(\"datos.dat\", \"r\").readlines() \n",
    "```\n",
    "puede obtener la lista de string de todos los datos "
   ]
  },
  {
   "cell_type": "code",
   "execution_count": 10,
   "metadata": {},
   "outputs": [
    {
     "name": "stdout",
     "output_type": "stream",
     "text": [
      "{'fecha': '2024-08-27', 'producto': 'Mirinda', 'precio': 1510.0, 'cantidad': 14}\n",
      "{'fecha': '2024-08-27', 'producto': 'Mirinda', 'precio': 1560.0, 'cantidad': 12}\n",
      "{'fecha': '2024-08-28', 'producto': 'Torasso', 'precio': 940.0, 'cantidad': 8}\n",
      "{'fecha': '2024-08-29', 'producto': 'Pepsi Cola', 'precio': 1210.0, 'cantidad': 10}\n",
      "{'fecha': '2024-08-30', 'producto': 'Mirinda', 'precio': 1520.0, 'cantidad': 1}\n",
      "{'fecha': '2024-09-01', 'producto': 'Mirinda', 'precio': 1550.0, 'cantidad': 15}\n",
      "{'fecha': '2024-09-01', 'producto': 'Sprite', 'precio': 810.0, 'cantidad': 4}\n",
      "{'fecha': '2024-09-02', 'producto': 'Coca Cola', 'precio': 1100.0, 'cantidad': 4}\n",
      "{'fecha': '2024-09-02', 'producto': 'Pepsi Cola', 'precio': 1220.0, 'cantidad': 13}\n",
      "{'fecha': '2024-09-02', 'producto': 'Torasso', 'precio': 910.0, 'cantidad': 5}\n",
      "{'fecha': '2024-09-02', 'producto': 'Torasso', 'precio': 920.0, 'cantidad': 3}\n",
      "{'fecha': '2024-09-03', 'producto': 'Coca Cola', 'precio': 1020.0, 'cantidad': 8}\n",
      "{'fecha': '2024-09-03', 'producto': 'Mirinda', 'precio': 1570.0, 'cantidad': 7}\n",
      "{'fecha': '2024-09-03', 'producto': 'Mirinda', 'precio': 1590.0, 'cantidad': 2}\n",
      "{'fecha': '2024-09-04', 'producto': 'Pepsi Cola', 'precio': 1220.0, 'cantidad': 13}\n",
      "{'fecha': '2024-09-05', 'producto': 'Mirinda', 'precio': 1500.0, 'cantidad': 3}\n",
      "{'fecha': '2024-09-05', 'producto': 'Pepsi Cola', 'precio': 1300.0, 'cantidad': 5}\n",
      "{'fecha': '2024-09-06', 'producto': 'Coca Cola', 'precio': 1080.0, 'cantidad': 1}\n",
      "{'fecha': '2024-09-06', 'producto': 'Sprite', 'precio': 860.0, 'cantidad': 12}\n",
      "{'fecha': '2024-09-06', 'producto': 'Torasso', 'precio': 930.0, 'cantidad': 3}\n",
      "{'fecha': '2024-09-07', 'producto': 'Coca Cola', 'precio': 1080.0, 'cantidad': 14}\n",
      "{'fecha': '2024-09-07', 'producto': 'Sprite', 'precio': 870.0, 'cantidad': 13}\n",
      "{'fecha': '2024-09-08', 'producto': 'Coca Cola', 'precio': 1040.0, 'cantidad': 10}\n",
      "{'fecha': '2024-09-08', 'producto': 'Mirinda', 'precio': 1580.0, 'cantidad': 2}\n",
      "{'fecha': '2024-09-08', 'producto': 'Pepsi Cola', 'precio': 1240.0, 'cantidad': 9}\n",
      "{'fecha': '2024-09-09', 'producto': 'Mirinda', 'precio': 1500.0, 'cantidad': 3}\n",
      "{'fecha': '2024-09-09', 'producto': 'Sprite', 'precio': 850.0, 'cantidad': 9}\n",
      "{'fecha': '2024-09-10', 'producto': 'Mirinda', 'precio': 1590.0, 'cantidad': 8}\n",
      "{'fecha': '2024-09-10', 'producto': 'Pepsi Cola', 'precio': 1250.0, 'cantidad': 12}\n",
      "{'fecha': '2024-09-11', 'producto': 'Sprite', 'precio': 810.0, 'cantidad': 6}\n",
      "{'fecha': '2024-09-11', 'producto': 'Sprite', 'precio': 820.0, 'cantidad': 14}\n",
      "{'fecha': '2024-09-12', 'producto': 'Coca Cola', 'precio': 1080.0, 'cantidad': 4}\n",
      "{'fecha': '2024-09-13', 'producto': 'Mirinda', 'precio': 1580.0, 'cantidad': 5}\n",
      "{'fecha': '2024-09-13', 'producto': 'Pepsi Cola', 'precio': 1250.0, 'cantidad': 13}\n",
      "{'fecha': '2024-09-14', 'producto': 'Coca Cola', 'precio': 1080.0, 'cantidad': 15}\n",
      "{'fecha': '2024-09-14', 'producto': 'Pepsi Cola', 'precio': 1270.0, 'cantidad': 14}\n",
      "{'fecha': '2024-09-15', 'producto': 'Coca Cola', 'precio': 1100.0, 'cantidad': 1}\n",
      "{'fecha': '2024-09-15', 'producto': 'Mirinda', 'precio': 1500.0, 'cantidad': 13}\n",
      "{'fecha': '2024-09-15', 'producto': 'Sprite', 'precio': 870.0, 'cantidad': 14}\n",
      "{'fecha': '2024-09-15', 'producto': 'Torasso', 'precio': 900.0, 'cantidad': 13}\n"
     ]
    }
   ],
   "source": [
    "def cargar_datos():\n",
    "    # Abrir el archivo y leer todas las líneas\n",
    "    with open(\"datos.dat\", \"r\") as archivo:\n",
    "        lineas = archivo.readlines()\n",
    "    \n",
    "    # Lista para almacenar los registros\n",
    "    registros = []\n",
    "    \n",
    "    # Procesar cada línea\n",
    "    for linea in lineas:\n",
    "        # Extraer los campos usando los índices de ancho fijo\n",
    "        fecha = linea[:10].strip()\n",
    "        producto = linea[10:40].strip()\n",
    "        precio = float(linea[40:50].strip())\n",
    "        cantidad = int(linea[50:55].strip())\n",
    "        \n",
    "        # Crear un diccionario con los campos extraídos\n",
    "        registro = {\n",
    "            \"fecha\": fecha,\n",
    "            \"producto\": producto,\n",
    "            \"precio\": precio,\n",
    "            \"cantidad\": cantidad\n",
    "        }\n",
    "        # Agregar el diccionario a la lista de registros\n",
    "        registros.append(registro)\n",
    "        print(registro)\n",
    "\n",
    "    return registros\n",
    "\n",
    "datos = cargar_datos()\n",
    "\n"
   ]
  },
  {
   "cell_type": "markdown",
   "metadata": {},
   "source": [
    "## Ejercicio 2: Calcular el total de ventas.\n",
    "\n",
    "Hacer una funcion que sume los importes vendidos (precio * cantidad) y las cantidades"
   ]
  },
  {
   "cell_type": "code",
   "execution_count": 21,
   "metadata": {},
   "outputs": [
    {
     "name": "stdout",
     "output_type": "stream",
     "text": [
      "Las ventas fueron de $392730.00 en 335 unidades\n"
     ]
    }
   ],
   "source": [
    "def calcular_totales(datos):        \n",
    "    suma_importes = 0\n",
    "    suma_cantidades = 0\n",
    "    for registro in datos:\n",
    "        importe = registro[\"precio\"] * registro[\"cantidad\"]\n",
    "        suma_importes += importe\n",
    "        suma_cantidades += registro[\"cantidad\"]\n",
    "        \n",
    "    return suma_importes, suma_cantidades\n",
    "\n",
    "importe, cantidad = calcular_totales(datos)\n",
    "\n",
    "# Mostrar los resultados en una sola línea\n",
    "print(f\"Las ventas fueron de ${importe:.2f} en {cantidad} unidades\")"
   ]
  },
  {
   "cell_type": "markdown",
   "metadata": {},
   "source": [
    "## Ejercicio 3: Listar las unidades vendidas.\n",
    "\n",
    "Listar cuantas unidades se vendieron en total para cada producto"
   ]
  },
  {
   "cell_type": "code",
   "execution_count": 24,
   "metadata": {},
   "outputs": [
    {
     "ename": "NameError",
     "evalue": "name 'cargar_datos' is not defined",
     "output_type": "error",
     "traceback": [
      "\u001b[1;31m---------------------------------------------------------------------------\u001b[0m",
      "\u001b[1;31mNameError\u001b[0m                                 Traceback (most recent call last)",
      "Cell \u001b[1;32mIn[24], line 23\u001b[0m\n\u001b[0;32m     21\u001b[0m     \u001b[38;5;28;01mfor\u001b[39;00m producto, cantidad \u001b[38;5;129;01min\u001b[39;00m ventas\u001b[38;5;241m.\u001b[39mitems():\n\u001b[0;32m     22\u001b[0m         \u001b[38;5;28mprint\u001b[39m(\u001b[38;5;124mf\u001b[39m\u001b[38;5;124m\"\u001b[39m\u001b[38;5;132;01m{\u001b[39;00mproducto\u001b[38;5;132;01m}\u001b[39;00m\u001b[38;5;124m, U. vendidas: \u001b[39m\u001b[38;5;132;01m{\u001b[39;00mcantidad\u001b[38;5;132;01m}\u001b[39;00m\u001b[38;5;124m\"\u001b[39m)\n\u001b[1;32m---> 23\u001b[0m datos \u001b[38;5;241m=\u001b[39m \u001b[43mcargar_datos\u001b[49m()\n\u001b[0;32m     25\u001b[0m \u001b[38;5;66;03m# Obtener las unidades vendidas por producto\u001b[39;00m\n\u001b[0;32m     26\u001b[0m ventas \u001b[38;5;241m=\u001b[39m unidades_vendidas(datos)\n",
      "\u001b[1;31mNameError\u001b[0m: name 'cargar_datos' is not defined"
     ]
    }
   ],
   "source": [
    "def unidades_vendidas(datos):\n",
    "    # Crear un diccionario para almacenar las unidades vendidas por producto\n",
    "    ventas_por_producto = {}\n",
    "    \n",
    "    # Iterar sobre cada registro\n",
    "    for registro in datos:\n",
    "        producto = registro[\"producto\"]\n",
    "        cantidad = registro[\"cantidad\"]\n",
    "        \n",
    "        # Sumar la cantidad al total del producto en el diccionario\n",
    "        if producto in ventas_por_producto:\n",
    "            ventas_por_producto[producto] += cantidad\n",
    "        else:\n",
    "            ventas_por_producto[producto] = cantidad\n",
    "    \n",
    "    # Devolver el diccionario con las ventas por producto\n",
    "    return ventas_por_producto\n",
    "\n",
    "def listar_ventas(ventas):\n",
    "    # Iterar sobre el diccionario de ventas y listar las unidades vendidas por producto\n",
    "    for producto, cantidad in ventas.items():\n",
    "        print(f\"{producto}, U. vendidas: {cantidad}\")\n",
    "\n",
    "\n",
    "# Obtener las unidades vendidas por producto\n",
    "ventas = unidades_vendidas(datos)\n",
    "\n",
    "# Listar las ventas\n",
    "listar_ventas(ventas)"
   ]
  },
  {
   "cell_type": "markdown",
   "metadata": {},
   "source": [
    "##  Ejercicio 4: Listar el precio promedio por producto.\n",
    "\n",
    "Hacer un listado del precio promedio por productos."
   ]
  },
  {
   "cell_type": "code",
   "execution_count": 30,
   "metadata": {},
   "outputs": [
    {
     "name": "stdout",
     "output_type": "stream",
     "text": [
      "Mirinda, Precio promedio: $1545.83\n",
      "Torasso, Precio promedio: $920.00\n",
      "Pepsi Cola, Precio promedio: $1245.00\n",
      "Sprite, Precio promedio: $841.43\n",
      "Coca Cola, Precio promedio: $1072.50\n"
     ]
    }
   ],
   "source": [
    "def precio_promedio(datos):\n",
    "    # Crear un diccionario para almacenar la suma de precios y la cantidad de ventas por producto\n",
    "    suma_precios_por_producto = {}\n",
    "    cantidad_por_producto = {}\n",
    "    \n",
    "    # Iterar sobre cada registro\n",
    "    for registro in datos:\n",
    "        producto = registro[\"producto\"]\n",
    "        precio = registro[\"precio\"]\n",
    "        \n",
    "        # Sumar el precio al total del producto en el diccionario\n",
    "        if producto in suma_precios_por_producto:\n",
    "            suma_precios_por_producto[producto] += precio\n",
    "            cantidad_por_producto[producto] += 1\n",
    "        else:\n",
    "            suma_precios_por_producto[producto] = precio\n",
    "            cantidad_por_producto[producto] = 1\n",
    "    \n",
    "    # Crear un diccionario para almacenar el precio promedio por producto\n",
    "    precio_promedio_por_producto = {}\n",
    "    \n",
    "    # Calcular el precio promedio por producto\n",
    "    for producto in suma_precios_por_producto:\n",
    "        precio_promedio_por_producto[producto] = suma_precios_por_producto[producto] / cantidad_por_producto[producto]\n",
    "    \n",
    "    # Devolver el diccionario con el precio promedio por producto\n",
    "    return precio_promedio_por_producto\n",
    "\n",
    "def listar_precios(precios):\n",
    "    # Iterar sobre el diccionario de precios promedio y listar los precios promedio por producto\n",
    "    for producto, precio in precios.items():\n",
    "        print(f\"{producto}, Precio promedio: ${precio:.2f}\")\n",
    "\n",
    "# Obtener el precio promedio por producto\n",
    "precios = precio_promedio(datos)\n",
    "\n",
    "# Listar los precios promedio\n",
    "listar_precios(precios)"
   ]
  },
  {
   "cell_type": "markdown",
   "metadata": {},
   "source": [
    "### Ejercicio 5: Ranking de productos\n",
    "\n",
    "Realizar un listado de los 3 productos mas vendidos ordenados la cantidad de unidades vendidas (ordenadas de mayor a menor)\n"
   ]
  },
  {
   "cell_type": "code",
   "execution_count": 27,
   "metadata": {},
   "outputs": [
    {
     "name": "stdout",
     "output_type": "stream",
     "text": [
      "Producto: Pepsi Cola, Unidades vendidas: 89\n",
      "Producto: Mirinda, Unidades vendidas: 85\n",
      "Producto: Sprite, Unidades vendidas: 72\n"
     ]
    }
   ],
   "source": [
    "def cargar_datos():\n",
    "    # Abrir el archivo y leer todas las líneas\n",
    "    with open(\"datos.dat\", \"r\") as archivo:\n",
    "        lineas = archivo.readlines()\n",
    "    \n",
    "    # Lista para almacenar los registros\n",
    "    registros = []\n",
    "    \n",
    "    # Procesar cada línea\n",
    "    for linea in lineas:\n",
    "        # Extraer los campos usando los índices de ancho fijo\n",
    "        fecha = linea[:10].strip()\n",
    "        producto = linea[10:40].strip()\n",
    "        precio = float(linea[40:50].strip())\n",
    "        cantidad = int(linea[50:55].strip())\n",
    "        \n",
    "        # Crear un diccionario con los campos extraídos\n",
    "        registro = {\n",
    "            \"fecha\": fecha,\n",
    "            \"producto\": producto,\n",
    "            \"precio\": precio,\n",
    "            \"cantidad\": cantidad\n",
    "        }\n",
    "        # Agregar el diccionario a la lista de registros\n",
    "        registros.append(registro)\n",
    "    \n",
    "    return registros\n",
    "\n",
    "def ranking_productos(datos, top=3):\n",
    "    # Crear un diccionario para almacenar las unidades vendidas por producto\n",
    "    ventas_por_producto = {}\n",
    "    \n",
    "    # Iterar sobre cada registro\n",
    "    for registro in datos:\n",
    "        producto = registro[\"producto\"]\n",
    "        cantidad = registro[\"cantidad\"]\n",
    "        \n",
    "        # Sumar la cantidad al total del producto en el diccionario\n",
    "        if producto in ventas_por_producto:\n",
    "            ventas_por_producto[producto] += cantidad\n",
    "        else:\n",
    "            ventas_por_producto[producto] = cantidad\n",
    "    \n",
    "    # Ordenar los productos por la cantidad de unidades vendidas de mayor a menor\n",
    "    productos_ordenados = sorted(ventas_por_producto.items(), key=lambda x: x[1], reverse=True)\n",
    "    \n",
    "    # Devolver los top productos más vendidos\n",
    "    return productos_ordenados[:top]\n",
    "\n",
    "def listar_ranking(ranking):\n",
    "    # Iterar sobre la lista de productos más vendidos y listar los productos\n",
    "    for producto, cantidad in ranking:\n",
    "        print(f\"Producto: {producto}, Unidades vendidas: {cantidad}\")\n",
    "\n",
    "# Cargar los datos desde el archivo\n",
    "datos = cargar_datos()\n",
    "\n",
    "# Obtener el ranking de los productos más vendidos\n",
    "ranking = ranking_productos(datos)\n",
    "\n",
    "# Listar el ranking de los productos más vendidos\n",
    "listar_ranking(ranking)"
   ]
  },
  {
   "cell_type": "markdown",
   "metadata": {},
   "source": [
    "### Ejercicio 6: Listar las ventas por mes\n",
    "\n",
    "Realizar un listado del total de unidades vendidas por productos separada por mes."
   ]
  },
  {
   "cell_type": "code",
   "execution_count": 28,
   "metadata": {},
   "outputs": [
    {
     "name": "stdout",
     "output_type": "stream",
     "text": [
      "Mes: 2024-08\n",
      "  Producto: Mirinda, Unidades vendidas: 27\n",
      "  Producto: Torasso, Unidades vendidas: 8\n",
      "  Producto: Pepsi Cola, Unidades vendidas: 10\n",
      "Mes: 2024-09\n",
      "  Producto: Mirinda, Unidades vendidas: 58\n",
      "  Producto: Sprite, Unidades vendidas: 72\n",
      "  Producto: Coca Cola, Unidades vendidas: 57\n",
      "  Producto: Pepsi Cola, Unidades vendidas: 79\n",
      "  Producto: Torasso, Unidades vendidas: 24\n"
     ]
    }
   ],
   "source": [
    "from collections import defaultdict\n",
    "from datetime import datetime\n",
    "\n",
    "def ventas_por_mes(datos):\n",
    "    # Crear un diccionario para almacenar las unidades vendidas por producto y mes\n",
    "    ventas_mensuales = defaultdict(lambda: defaultdict(int))\n",
    "    \n",
    "    # Iterar sobre cada registro\n",
    "    for registro in datos:\n",
    "        fecha = registro[\"fecha\"]\n",
    "        producto = registro[\"producto\"]\n",
    "        cantidad = registro[\"cantidad\"]\n",
    "        \n",
    "        # Extraer el mes y el año de la fecha\n",
    "        mes_anio = datetime.strptime(fecha, \"%Y-%m-%d\").strftime(\"%Y-%m\")\n",
    "        \n",
    "        # Sumar la cantidad al total del producto en el mes correspondiente\n",
    "        ventas_mensuales[mes_anio][producto] += cantidad\n",
    "    \n",
    "    # Devolver el diccionario con las ventas mensuales\n",
    "    return ventas_mensuales\n",
    "\n",
    "def listar_ventas_mensuales(ventas):\n",
    "    # Iterar sobre el diccionario de ventas mensuales y listar las unidades vendidas por producto y mes\n",
    "    for mes_anio, productos in ventas.items():\n",
    "        print(f\"Mes: {mes_anio}\")\n",
    "        for producto, cantidad in productos.items():\n",
    "            print(f\"  Producto: {producto}, Unidades vendidas: {cantidad}\")\n",
    "\n",
    "# Asumimos que la variable `datos` ya está definida y contiene los datos necesarios\n",
    "# datos = cargar_datos()  # Esta línea no es necesaria ya que `datos` ya está definido\n",
    "\n",
    "# Obtener las ventas por mes\n",
    "ventas = ventas_por_mes(datos)\n",
    "\n",
    "# Listar las ventas mensuales\n",
    "listar_ventas_mensuales(ventas)"
   ]
  },
  {
   "cell_type": "markdown",
   "metadata": {},
   "source": [
    "### Ejercicio 7: Informe general\n",
    "\n",
    "Mostrar un listado de productos ordenados alfabeticamente que contengan el precio promedio, la cantidad de unidades vendidas y el importe total vendido para cada producto"
   ]
  },
  {
   "cell_type": "code",
   "execution_count": null,
   "metadata": {},
   "outputs": [],
   "source": [
    "def resumen_ventas(datos):\n",
    "    # Crear diccionarios para almacenar la información requerida\n",
    "    suma_precios_por_producto = {}\n",
    "    cantidad_por_producto = {}\n",
    "    importe_total_por_producto = {}\n",
    "    \n",
    "    # Iterar sobre cada registro\n",
    "    for registro in datos:\n",
    "        producto = registro[\"producto\"]\n",
    "        precio = registro[\"precio\"]\n",
    "        cantidad = registro[\"cantidad\"]\n",
    "        importe = precio * cantidad\n",
    "        \n",
    "        # Sumar el precio al total del producto\n",
    "        if producto in suma_precios_por_producto:\n",
    "            suma_precios_por_producto[producto] += precio\n",
    "            cantidad_por_producto[producto] += cantidad\n",
    "            importe_total_por_producto[producto] += importe\n",
    "        else:\n",
    "            suma_precios_por_producto[producto] = precio\n",
    "            cantidad_por_producto[producto] = cantidad\n",
    "            importe_total_por_producto[producto] = importe\n",
    "    \n",
    "    # Crear un diccionario para almacenar el resumen de ventas\n",
    "    resumen = {}\n",
    "    \n",
    "    # Calcular el precio promedio y almacenar la información en el diccionario del resumen\n",
    "    for producto in suma_precios_por_producto:\n",
    "        precio_promedio = suma_precios_por_producto[producto] / cantidad_por_producto[producto]\n",
    "        resumen[producto] = {\n",
    "            \"precio_promedio\": precio_promedio,\n",
    "            \"cantidad_vendida\": cantidad_por_producto[producto],\n",
    "            \"importe_total\": importe_total_por_producto[producto]\n",
    "        }\n",
    "    \n",
    "    # Devolver el diccionario con el resumen de ventas\n",
    "    return resumen\n",
    "\n",
    "def informe_ventas(resumen):\n",
    "    # Ordenar los productos alfabéticamente\n",
    "    productos_ordenados = sorted(resumen.keys())\n",
    "    \n",
    "    # Iterar sobre los productos ordenados y listar la información requerida\n",
    "    for producto in productos_ordenados:\n",
    "        info"
   ]
  }
 ],
 "metadata": {
  "kernelspec": {
   "display_name": "Python 3",
   "language": "python",
   "name": "python3"
  },
  "language_info": {
   "codemirror_mode": {
    "name": "ipython",
    "version": 3
   },
   "file_extension": ".py",
   "mimetype": "text/x-python",
   "name": "python",
   "nbconvert_exporter": "python",
   "pygments_lexer": "ipython3",
   "version": "3.12.6"
  }
 },
 "nbformat": 4,
 "nbformat_minor": 2
}
