{
 "cells": [
  {
   "cell_type": "markdown",
   "metadata": {},
   "source": [
    "#TP3"
   ]
  },
  {
   "cell_type": "markdown",
   "metadata": {},
   "source": [
    "## Ejercicio 1: Cargar Datos de ventas.\n",
    "\n",
    "El archivo datos.dat contiene el registro de las ventas realizadas.\n",
    "\n",
    "Tiene un formato de ancho fijo:\n",
    "- fecha:    10 lugares\n",
    "- producto: 30 lugares\n",
    "- precio:   10 lugares\n",
    "- cantidad:  5 lugares\n",
    "\n",
    "hacer una funcion que carge los en una lista de diccionarios. \n",
    "\n",
    "nota: con \n",
    "```python\n",
    "lineas = open(\"datos.dat\", \"r\").readlines() \n",
    "```\n",
    "puede obtener la lista de string de todos los datos "
   ]
  },
  {
   "cell_type": "code",
   "execution_count": 1,
   "metadata": {},
   "outputs": [],
   "source": [
    "def cargar_datos(): # Implementar la función cargar_datos\n",
    "    ventas = []\n",
    "    lineas = open(\"datos.dat\",\"r\").readlines()\n",
    "    for linea in lineas:\n",
    "        fecha = linea[:10].strip()\n",
    "        producto = linea[10:40].strip()\n",
    "        precio = float(linea[40:50].strip())\n",
    "        cantidad = int(linea [50:55].strip())\n",
    "        venta = {\n",
    "        'fecha': fecha,\n",
    "        'producto' : producto,\n",
    "        'precio' : precio,\n",
    "        'cantidad': cantidad\n",
    "        }\n",
    "        ventas.append(venta)\n",
    "    return ventas\n",
    "\n",
    "datos = cargar_datos()"
   ]
  },
  {
   "cell_type": "markdown",
   "metadata": {},
   "source": [
    "## Ejercicio 2: Calcular el total de ventas.\n",
    "\n",
    "Hacer una funcion que sume los importes vendidos (precio * cantidad) y las cantidades"
   ]
  },
  {
   "cell_type": "code",
   "execution_count": 2,
   "metadata": {},
   "outputs": [
    {
     "name": "stdout",
     "output_type": "stream",
     "text": [
      "[{'producto': 'Mirinda',\n",
      "  'cantidad_total': 85,\n",
      "  'importe_total': 131080.0,\n",
      "  'importe_promedio': 1542.1176470588234},\n",
      " {'producto': 'Torasso',\n",
      "  'cantidad_total': 32,\n",
      "  'importe_total': 29320.0,\n",
      "  'importe_promedio': 916.25},\n",
      " {'producto': 'Pepsi Cola',\n",
      "  'cantidad_total': 89,\n",
      "  'importe_total': 110510.0,\n",
      "  'importe_promedio': 1241.685393258427},\n",
      " {'producto': 'Sprite',\n",
      "  'cantidad_total': 72,\n",
      "  'importe_total': 61040.0,\n",
      "  'importe_promedio': 847.7777777777778},\n",
      " {'producto': 'Coca Cola',\n",
      "  'cantidad_total': 57,\n",
      "  'importe_total': 60780.0,\n",
      "  'importe_promedio': 1066.3157894736842}]\n"
     ]
    }
   ],
   "source": [
    "import pprint\n",
    "\n",
    "def calcular_totalVentas(datos):\n",
    "    resultado_cantidades = {}\n",
    "    resultado_importes = {}\n",
    "    resultado = []\n",
    "    for dato in datos:\n",
    "        if dato['producto'] in resultado_cantidades:\n",
    "            resultado_cantidades[dato['producto']] += dato['cantidad']\n",
    "            resultado_importes[dato['producto']] += dato['precio'] * dato['cantidad']\n",
    "        else:\n",
    "            resultado_cantidades[dato['producto']] = dato['cantidad']\n",
    "            resultado_importes[dato['producto']] = dato['cantidad'] * dato['precio']\n",
    "    for nombre_producto in resultado_cantidades:\n",
    "        producto = {\n",
    "            'producto' : nombre_producto,\n",
    "            'cantidad_total' : resultado_cantidades[nombre_producto],\n",
    "            'importe_total' : resultado_importes[nombre_producto],\n",
    "            'importe_promedio' : resultado_importes[nombre_producto]/resultado_cantidades[nombre_producto]\n",
    "        }\n",
    "        resultado.append(producto)\n",
    "    return resultado\n",
    "            \n",
    "\n",
    "ventas = calcular_totalVentas(datos)\n",
    "\n",
    "\n",
    "pprint.pp(ventas)"
   ]
  },
  {
   "cell_type": "markdown",
   "metadata": {},
   "source": [
    "## Ejercicio 3: Listar las unidades vendidas.\n",
    "\n",
    "Listar cuantas unidades se vendieron en total para cada producto"
   ]
  },
  {
   "cell_type": "code",
   "execution_count": 4,
   "metadata": {},
   "outputs": [
    {
     "name": "stdout",
     "output_type": "stream",
     "text": [
      "lista de unidades vendidas en total \n",
      "Mirinda 85\n",
      "Torasso 32\n",
      "Pepsi Cola 89\n",
      "Sprite 72\n",
      "Coca Cola 57\n"
     ]
    }
   ],
   "source": [
    "print(\"lista de unidades vendidas en total \")\n",
    "for venta in ventas:\n",
    "    print(venta['producto'] + \" \" + str(venta['cantidad_total']))\n"
   ]
  },
  {
   "cell_type": "markdown",
   "metadata": {},
   "source": [
    "##  Ejercicio 4: Listar el precio promedio por producto.\n",
    "\n",
    "Hacer un listado del precio promedio por productos."
   ]
  },
  {
   "cell_type": "code",
   "execution_count": 6,
   "metadata": {},
   "outputs": [
    {
     "name": "stdout",
     "output_type": "stream",
     "text": [
      "lista de precios promedio por producto:\n",
      "Mirinda 1542.1176470588234\n",
      "Torasso 916.25\n",
      "Pepsi Cola 1241.685393258427\n",
      "Sprite 847.7777777777778\n",
      "Coca Cola 1066.3157894736842\n"
     ]
    }
   ],
   "source": [
    "print(\"lista de precios promedio por producto:\")\n",
    "for venta in ventas:\n",
    "    print(venta['producto'] + \" \" + str(venta['importe_promedio']))"
   ]
  },
  {
   "cell_type": "markdown",
   "metadata": {},
   "source": [
    "### Ejercicio 5: Ranking de productos\n",
    "\n",
    "Realizar un listado de los 3 productos mas vendidos ordenados la cantidad de unidades vendidas (ordenadas de mayor a menor)\n"
   ]
  },
  {
   "cell_type": "code",
   "execution_count": 8,
   "metadata": {},
   "outputs": [
    {
     "name": "stdout",
     "output_type": "stream",
     "text": [
      "Ranking de productos\n",
      "[{'producto': 'Pepsi Cola',\n",
      "  'cantidad_total': 89,\n",
      "  'importe_total': 110510.0,\n",
      "  'importe_promedio': 1241.685393258427},\n",
      " {'producto': 'Mirinda',\n",
      "  'cantidad_total': 85,\n",
      "  'importe_total': 131080.0,\n",
      "  'importe_promedio': 1542.1176470588234},\n",
      " {'producto': 'Sprite',\n",
      "  'cantidad_total': 72,\n",
      "  'importe_total': 61040.0,\n",
      "  'importe_promedio': 847.7777777777778}]\n"
     ]
    }
   ],
   "source": [
    "def funcionComparadora(venta):\n",
    "    return venta['cantidad_total']\n",
    "\n",
    "def ranking_productos(datos, top=3):# Implementar\n",
    "    print(\"Ranking de productos\")\n",
    "    resultado = sorted(datos, reverse=True, key=funcionComparadora)\n",
    "    return resultado[:top]\n",
    "\n",
    "def listar_ranking(ranking):# Implementar\n",
    "    pprint.pp(ranking)\n",
    "\n",
    "ranking = ranking_productos(ventas)\n",
    "listar_ranking(ranking)"
   ]
  },
  {
   "cell_type": "markdown",
   "metadata": {},
   "source": [
    "### Ejercicio 6: Listar las ventas por mes\n",
    "\n",
    "Realizar un listado del total de unidades vendidas por productos separada por mes."
   ]
  },
  {
   "cell_type": "code",
   "execution_count": 43,
   "metadata": {},
   "outputs": [
    {
     "name": "stdout",
     "output_type": "stream",
     "text": [
      "[{'producto': 'Mirinda 2024-08',\n",
      "  'cantidad_total': 27,\n",
      "  'importe_total': 41380.0,\n",
      "  'importe_promedio': 1532.5925925925926},\n",
      " {'producto': 'Torasso 2024-08',\n",
      "  'cantidad_total': 8,\n",
      "  'importe_total': 7520.0,\n",
      "  'importe_promedio': 940.0},\n",
      " {'producto': 'Pepsi Cola 2024-08',\n",
      "  'cantidad_total': 10,\n",
      "  'importe_total': 12100.0,\n",
      "  'importe_promedio': 1210.0},\n",
      " {'producto': 'Mirinda 2024-09',\n",
      "  'cantidad_total': 58,\n",
      "  'importe_total': 89700.0,\n",
      "  'importe_promedio': 1546.551724137931},\n",
      " {'producto': 'Sprite 2024-09',\n",
      "  'cantidad_total': 72,\n",
      "  'importe_total': 61040.0,\n",
      "  'importe_promedio': 847.7777777777778},\n",
      " {'producto': 'Coca Cola 2024-09',\n",
      "  'cantidad_total': 57,\n",
      "  'importe_total': 60780.0,\n",
      "  'importe_promedio': 1066.3157894736842},\n",
      " {'producto': 'Pepsi Cola 2024-09',\n",
      "  'cantidad_total': 79,\n",
      "  'importe_total': 98410.0,\n",
      "  'importe_promedio': 1245.6962025316457},\n",
      " {'producto': 'Torasso 2024-09',\n",
      "  'cantidad_total': 24,\n",
      "  'importe_total': 21800.0,\n",
      "  'importe_promedio': 908.3333333333334}]\n"
     ]
    }
   ],
   "source": [
    "def ventas_por_mes(datos): # Implementar\n",
    "    resultado_cantidades = {}\n",
    "    resultado_importes = {}\n",
    "    resultado = []\n",
    "    for dato in datos:\n",
    "        clave = dato['producto'] + ' ' + dato['fecha'][:7]\n",
    "        if clave in resultado_cantidades:\n",
    "            resultado_cantidades[clave] += dato['cantidad']\n",
    "            resultado_importes[clave] += dato['precio'] * dato['cantidad']\n",
    "        else:\n",
    "            resultado_cantidades[clave] = dato['cantidad']\n",
    "            resultado_importes[clave] = dato['cantidad'] * dato['precio']\n",
    "    for nombre_producto in resultado_cantidades:\n",
    "        producto = {\n",
    "            'producto' : nombre_producto,\n",
    "            'cantidad_total' : resultado_cantidades[nombre_producto],\n",
    "            'importe_total' : resultado_importes[nombre_producto],\n",
    "            'importe_promedio' : resultado_importes[nombre_producto]/resultado_cantidades[nombre_producto]\n",
    "        }\n",
    "        resultado.append(producto)\n",
    "    return resultado\n",
    "\n",
    "def listar_ventas_mensuales(ventas): # Implementar\n",
    "    pprint.pp(ventas)\n",
    "    \n",
    "ventas_mensuales = ventas_por_mes(datos)\n",
    "listar_ventas_mensuales(ventas_mensuales)"
   ]
  },
  {
   "cell_type": "markdown",
   "metadata": {},
   "source": [
    "### Ejercicio 7: Informe general\n",
    "\n",
    "Mostrar un listado de productos ordenados alfabeticamente que contengan el precio promedio, la cantidad de unidades vendidas y el importe total vendido para cada producto"
   ]
  },
  {
   "cell_type": "code",
   "execution_count": 44,
   "metadata": {},
   "outputs": [
    {
     "name": "stdout",
     "output_type": "stream",
     "text": [
      "[{'producto': 'Coca Cola',\n",
      "  'cantidad_total': 57,\n",
      "  'importe_total': 60780.0,\n",
      "  'importe_promedio': 1066.3157894736842},\n",
      " {'producto': 'Mirinda',\n",
      "  'cantidad_total': 85,\n",
      "  'importe_total': 131080.0,\n",
      "  'importe_promedio': 1542.1176470588234},\n",
      " {'producto': 'Pepsi Cola',\n",
      "  'cantidad_total': 89,\n",
      "  'importe_total': 110510.0,\n",
      "  'importe_promedio': 1241.685393258427},\n",
      " {'producto': 'Sprite',\n",
      "  'cantidad_total': 72,\n",
      "  'importe_total': 61040.0,\n",
      "  'importe_promedio': 847.7777777777778},\n",
      " {'producto': 'Torasso',\n",
      "  'cantidad_total': 32,\n",
      "  'importe_total': 29320.0,\n",
      "  'importe_promedio': 916.25}]\n"
     ]
    }
   ],
   "source": [
    "def funcionComparadora2(venta):\n",
    "    return venta['producto']\n",
    "\n",
    "def resumen_ventas(datos):\n",
    "    print(\"Resumen de ventas :)\")\n",
    "    return sorted(datos,key=funcionComparadora2)\n",
    "    \n",
    "def informe_ventas(datos):\n",
    "    print(\"Informe de ventas :) \")\n",
    "    pprint.pp(datos)\n",
    "\n",
    "resumen = resumen_ventas(ventas)\n",
    "informe_ventas(resumen)\n"
   ]
  }
 ],
 "metadata": {
  "kernelspec": {
   "display_name": "Python 3",
   "language": "python",
   "name": "python3"
  },
  "language_info": {
   "codemirror_mode": {
    "name": "ipython",
    "version": 3
   },
   "file_extension": ".py",
   "mimetype": "text/x-python",
   "name": "python",
   "nbconvert_exporter": "python",
   "pygments_lexer": "ipython3",
   "version": "3.10.12"
  }
 },
 "nbformat": 4,
 "nbformat_minor": 2
}
