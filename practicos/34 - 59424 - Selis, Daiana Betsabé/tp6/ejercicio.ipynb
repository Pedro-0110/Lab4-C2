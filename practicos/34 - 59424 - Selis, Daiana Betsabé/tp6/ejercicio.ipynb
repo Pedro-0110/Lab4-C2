{
 "cells": [
  {
   "cell_type": "markdown",
   "metadata": {},
   "source": [
    "# TP6\n",
    "\n",
    "### `Resolver usando Pandas`\n",
    "\n",
    "Resolver los ejercicios del TP3 utilizando la librería Pandas."
   ]
  },
  {
   "cell_type": "markdown",
   "metadata": {},
   "source": [
    "### Ejercicio 1: Cargar Datos de ventas.\n",
    "\n",
    "El archivo datos.dat contiene el registro de las ventas realizadas.\n",
    "\n",
    "Tiene un formato de ancho fijo:\n",
    "- `fecha`:    10 lugares\n",
    "- `producto`: 30 lugares\n",
    "- `precio`:   10 lugares\n",
    "- `cantidad`:  5 lugares\n",
    "\n",
    "Hacer una funcion que cargue los datos en un DataFrame de Pandas."
   ]
  },
  {
   "cell_type": "code",
   "execution_count": 95,
   "metadata": {},
   "outputs": [
    {
     "name": "stdout",
     "output_type": "stream",
     "text": [
      "         fecha    producto  precio  cantidad\n",
      "0   2024-08-27     Mirinda    1510        14\n",
      "1   2024-08-27     Mirinda    1560        12\n",
      "2   2024-08-28     Torasso     940         8\n",
      "3   2024-08-29  Pepsi Cola    1210        10\n",
      "4   2024-08-30     Mirinda    1520         1\n",
      "5   2024-09-01     Mirinda    1550        15\n",
      "6   2024-09-01      Sprite     810         4\n",
      "7   2024-09-02   Coca Cola    1100         4\n",
      "8   2024-09-02  Pepsi Cola    1220        13\n",
      "9   2024-09-02     Torasso     910         5\n",
      "10  2024-09-02     Torasso     920         3\n",
      "11  2024-09-03   Coca Cola    1020         8\n",
      "12  2024-09-03     Mirinda    1570         7\n",
      "13  2024-09-03     Mirinda    1590         2\n",
      "14  2024-09-04  Pepsi Cola    1220        13\n",
      "15  2024-09-05     Mirinda    1500         3\n",
      "16  2024-09-05  Pepsi Cola    1300         5\n",
      "17  2024-09-06   Coca Cola    1080         1\n",
      "18  2024-09-06      Sprite     860        12\n",
      "19  2024-09-06     Torasso     930         3\n",
      "20  2024-09-07   Coca Cola    1080        14\n",
      "21  2024-09-07      Sprite     870        13\n",
      "22  2024-09-08   Coca Cola    1040        10\n",
      "23  2024-09-08     Mirinda    1580         2\n",
      "24  2024-09-08  Pepsi Cola    1240         9\n",
      "25  2024-09-09     Mirinda    1500         3\n",
      "26  2024-09-09      Sprite     850         9\n",
      "27  2024-09-10     Mirinda    1590         8\n",
      "28  2024-09-10  Pepsi Cola    1250        12\n",
      "29  2024-09-11      Sprite     810         6\n",
      "30  2024-09-11      Sprite     820        14\n",
      "31  2024-09-12   Coca Cola    1080         4\n",
      "32  2024-09-13     Mirinda    1580         5\n",
      "33  2024-09-13  Pepsi Cola    1250        13\n",
      "34  2024-09-14   Coca Cola    1080        15\n",
      "35  2024-09-14  Pepsi Cola    1270        14\n",
      "36  2024-09-15   Coca Cola    1100         1\n",
      "37  2024-09-15     Mirinda    1500        13\n",
      "38  2024-09-15      Sprite     870        14\n",
      "39  2024-09-15     Torasso     900        13\n"
     ]
    }
   ],
   "source": [
    "import pandas as pd\n",
    "\n",
    "def cargar_datos():# Implementar la función cargar_datos\n",
    "    ventas = []\n",
    "    with open(\"datos.dat\",\"r\") as archivo:\n",
    "        lineas = archivo.readlines()\n",
    "        for linea in lineas:\n",
    "            fecha   = linea[:10].strip()\n",
    "            producto = linea[10:40].strip()\n",
    "            precio = int(linea[40:50].strip())\n",
    "            cantidad = int(linea[50:55].strip())\n",
    "\n",
    "            venta = {\n",
    "                'fecha' : fecha,\n",
    "                'producto': producto,\n",
    "                'precio': precio,\n",
    "                'cantidad': cantidad\n",
    "            }\n",
    "            ventas.append(venta)\n",
    "    data_frame = pd.DataFrame(ventas)\n",
    "    return data_frame\n",
    "\n",
    "datos = cargar_datos()\n",
    "print(datos) "
   ]
  },
  {
   "cell_type": "markdown",
   "metadata": {},
   "source": [
    "### Ejercicio 2: Calcular el total de ventas.\n",
    "Hacer una función que sume los importes vendidos (precio * cantidad) y las cantidades.\n"
   ]
  },
  {
   "cell_type": "code",
   "execution_count": 96,
   "metadata": {},
   "outputs": [
    {
     "name": "stdout",
     "output_type": "stream",
     "text": [
      "Las ventas fueron de $392730.00 en 335 unidades\n"
     ]
    }
   ],
   "source": [
    "\n",
    "def calcular_totales(datos):# implementar\n",
    "    total_importe_general = 0\n",
    "    total_cantidad_general = 0\n",
    "\n",
    "    for _, dato in datos.iterrows():\n",
    "        producto = dato['producto']\n",
    "        precio = dato['precio']\n",
    "        cantidad = dato['cantidad']\n",
    "\n",
    "        total_importe_general += precio * cantidad\n",
    "        total_cantidad_general += cantidad\n",
    "    return total_importe_general , total_cantidad_general\n",
    "\n",
    "importe, cantidad = calcular_totales(datos)\n",
    "\n",
    "print(f\"Las ventas fueron de ${importe:.2f} en {cantidad} unidades\")"
   ]
  },
  {
   "cell_type": "markdown",
   "metadata": {},
   "source": [
    "### Ejercicio 3: Listar las unidades vendidas.\n",
    "Listar cuántas unidades se vendieron en total para cada producto\n"
   ]
  },
  {
   "cell_type": "code",
   "execution_count": 97,
   "metadata": {},
   "outputs": [
    {
     "name": "stdout",
     "output_type": "stream",
     "text": [
      "Mirinda: 85\n",
      "Torasso: 32\n",
      "Pepsi Cola: 89\n",
      "Sprite: 72\n",
      "Coca Cola: 57\n"
     ]
    }
   ],
   "source": [
    "def unidades_vendidas(datos):\n",
    "    total_unidades = {}\n",
    "\n",
    "    for _, dato in datos.iterrows():\n",
    "        producto = dato['producto']\n",
    "        cantidad = dato['cantidad']\n",
    "\n",
    "        if producto in total_unidades:\n",
    "            total_unidades[producto] += cantidad\n",
    "        else:\n",
    "            total_unidades[producto] = cantidad\n",
    "\n",
    "    return total_unidades\n",
    "\n",
    "unidades = unidades_vendidas(datos)\n",
    "for producto in unidades:\n",
    "    cantidad_total = unidades[producto]  # Obtener la cantidad total\n",
    "    print(f\"{producto}: {cantidad_total}\") "
   ]
  },
  {
   "cell_type": "markdown",
   "metadata": {},
   "source": [
    "###  Ejercicio 4: Listar el precio promedio por producto.\n",
    "Hacer un listado del precio promedio por producto.\n"
   ]
  },
  {
   "cell_type": "code",
   "execution_count": 98,
   "metadata": {},
   "outputs": [
    {
     "name": "stdout",
     "output_type": "stream",
     "text": [
      "Listado del precio promedio por producto c:\n",
      "Mirinda: $1542.12\n",
      "Torasso: $916.25\n",
      "Pepsi Cola: $1241.69\n",
      "Sprite: $847.78\n",
      "Coca Cola: $1066.32\n"
     ]
    }
   ],
   "source": [
    "def precio_promedio(datos):# Implementar\n",
    "    precios_totales = {}\n",
    "    cantidades_totales = {}\n",
    "\n",
    "    for _, dato in datos.iterrows():\n",
    "        producto = dato['producto']\n",
    "        precio = dato['precio']\n",
    "        cantidad = dato['cantidad']\n",
    "\n",
    "        if producto in precios_totales:\n",
    "            precios_totales[producto] += precio * cantidad\n",
    "            cantidades_totales[producto] += cantidad\n",
    "        else:\n",
    "            precios_totales[producto] = precio * cantidad\n",
    "            cantidades_totales[producto] = cantidad\n",
    "\n",
    "    precios_promedio =  {}\n",
    "\n",
    "    for producto in precios_totales:\n",
    "        precios_promedio[producto] = precios_totales[producto] / cantidades_totales[producto]\n",
    "\n",
    "    return precios_promedio\n",
    "\n",
    "promedios = precio_promedio(datos)\n",
    "\n",
    "print(\"Listado del precio promedio por producto c:\")\n",
    "for producto in promedios:\n",
    "    print(f\"{producto}: ${promedios[producto]:.2f}\")"
   ]
  },
  {
   "cell_type": "markdown",
   "metadata": {},
   "source": [
    "### Ejercicio 5: Ranking de productos\n",
    "Realizar un listado de los 3 productos más vendidos ordenados por la cantidad de unidades vendidas (ordenadas de mayor a menor)\n"
   ]
  },
  {
   "cell_type": "code",
   "execution_count": 99,
   "metadata": {},
   "outputs": [
    {
     "name": "stdout",
     "output_type": "stream",
     "text": [
      "Ranking 3 de los productos\n",
      "Pepsi Cola: 89 unidades\n",
      "Mirinda: 85 unidades\n",
      "Sprite: 72 unidades\n"
     ]
    }
   ],
   "source": [
    "def funcionComparadora(venta):# Implementar\n",
    "    return venta['cantidad']\n",
    "\n",
    "def ranking_productos(datos, top=3): \n",
    "    total_vendido = datos.groupby('producto')['cantidad'].sum().reset_index()\n",
    "    total_vendido = total_vendido.sort_values(by='cantidad', ascending = False)\n",
    "    return total_vendido.head(top)\n",
    "\n",
    "def listar_ranking(ranking):\n",
    "    print(\"Ranking 3 de los productos\")\n",
    "    for _,row in ranking.iterrows():\n",
    "        print(f\"{row['producto']}: {row['cantidad']} unidades\") \n",
    "\n",
    "ranking = ranking_productos(datos)\n",
    "listar_ranking(ranking)"
   ]
  },
  {
   "cell_type": "markdown",
   "metadata": {},
   "source": [
    "### Ejercicio 6: Listar las ventas por mes\n",
    "Realizar un listado del total de unidades vendidas por producto separado por mes.\n"
   ]
  },
  {
   "cell_type": "code",
   "execution_count": 100,
   "metadata": {},
   "outputs": [
    {
     "name": "stdout",
     "output_type": "stream",
     "text": [
      "             producto  cantidad_total  importe_total  importe_promedio\n",
      "0     Mirinda 2024-08            27.0        41380.0       1532.592593\n",
      "1     Torasso 2024-08             8.0         7520.0        940.000000\n",
      "2  Pepsi Cola 2024-08            10.0        12100.0       1210.000000\n",
      "3     Mirinda 2024-09            58.0        89700.0       1546.551724\n",
      "4      Sprite 2024-09            72.0        61040.0        847.777778\n",
      "5   Coca Cola 2024-09            57.0        60780.0       1066.315789\n",
      "6  Pepsi Cola 2024-09            79.0        98410.0       1245.696203\n",
      "7     Torasso 2024-09            24.0        21800.0        908.333333\n"
     ]
    }
   ],
   "source": [
    "import pandas as pd\n",
    "\n",
    "def ventas_por_mes(datos): \n",
    "    resultado_cantidades = {}\n",
    "    resultado_importes = {}\n",
    "    resultado = pd.DataFrame({\n",
    "        'producto': [],\n",
    "        'cantidad_total': [],\n",
    "        'importe_total': [],\n",
    "        'importe_promedio': []\n",
    "    })\n",
    "\n",
    "    for index, dato in datos.iterrows():\n",
    "        identificador = dato['producto'] + ' ' + dato['fecha'][:7]\n",
    "        \n",
    "        if identificador in resultado_cantidades:\n",
    "            resultado_cantidades[identificador] += dato['cantidad']\n",
    "            resultado_importes[identificador] += dato['precio'] * dato['cantidad']\n",
    "        else:\n",
    "            resultado_cantidades[identificador] = dato['cantidad']\n",
    "            resultado_importes[identificador] = dato['precio'] * dato['cantidad']\n",
    "    \n",
    "    for nombre_producto in resultado_cantidades:\n",
    "        df = pd.DataFrame({\n",
    "            'producto': [nombre_producto],\n",
    "            'cantidad_total': [resultado_cantidades[nombre_producto]],\n",
    "            'importe_total': [resultado_importes[nombre_producto]],\n",
    "            'importe_promedio': [resultado_importes[nombre_producto] / resultado_cantidades[nombre_producto]]\n",
    "        })\n",
    "        resultado = pd.concat([resultado, df], ignore_index=True)\n",
    "    \n",
    "    return resultado\n",
    "\n",
    "def listar_ventas_mensuales(ventas):\n",
    "    print(ventas)\n",
    "\n",
    "\n",
    "\n",
    "ventas_mensuales = ventas_por_mes(datos)\n",
    "listar_ventas_mensuales(ventas_mensuales)\n"
   ]
  },
  {
   "cell_type": "markdown",
   "metadata": {},
   "source": [
    "### Ejercicio 7: Informe general\n",
    "\n",
    "Mostrar un listado de productos ordenados alfabeticamente que contengan el precio promedio, la cantidad de unidades vendidas y el importe total vendido para cada producto"
   ]
  },
  {
   "cell_type": "code",
   "execution_count": 101,
   "metadata": {},
   "outputs": [
    {
     "name": "stdout",
     "output_type": "stream",
     "text": [
      "     producto  cantidad_total  importe_total  importe_promedio\n",
      "0   Coca Cola              57          60780       1066.315789\n",
      "1     Mirinda              85         131080       1542.117647\n",
      "2  Pepsi Cola              89         110510       1241.685393\n",
      "3      Sprite              72          61040        847.777778\n",
      "4     Torasso              32          29320        916.250000\n"
     ]
    }
   ],
   "source": [
    "def resumen_ventas(datos):#Implementar\n",
    "    resumen = datos.groupby('producto').agg(\n",
    "        cantidad_total=('cantidad', 'sum'),\n",
    "        importe_total=('precio', lambda x: (x * datos.loc[x.index, 'cantidad']).sum())\n",
    "    ).reset_index()\n",
    "    \n",
    "    resumen['importe_promedio'] = resumen['importe_total'] / resumen['cantidad_total']\n",
    "    \n",
    "    resumen = resumen.sort_values(by='producto')\n",
    "    \n",
    "    return resumen\n",
    "    \n",
    "\n",
    "resumen = resumen_ventas(datos)\n",
    "print(resumen)"
   ]
  },
  {
   "cell_type": "markdown",
   "metadata": {},
   "source": [
    "## `Resolver usando NumPy`\n",
    "## Resolver el ejercicio 2 del tp1 usando NumPy"
   ]
  },
  {
   "cell_type": "markdown",
   "metadata": {},
   "source": [
    "### Ejercicio 8\n",
    "\n",
    "Escribe una función en Python que encuentre los valores de `a`, `b`, y `c` para que la función cuadrática `f(x) = a x^2 + b x + c` pase exactamente por los siguientes puntos:\n",
    "\n",
    "| x  | y  |\n",
    "|---:|---:|\n",
    "|  0 |  0 |\n",
    "|  1 |  8 |\n",
    "|  2 | 12 |\n",
    "|  3 | 12 |\n",
    "|  5 |  0 |\n",
    "\n",
    "### Requisitos:\n",
    "- La función debe explorar posibles valores de `a`, `b`, y `c` utilizando un método de prueba y error.\n",
    "- Debe devolver los valores que hagan que la diferencia entre la función `f(x)` y los valores medidos `y` sea exactamente cero para cada punto.\n",
    "\n",
    "> **Pista**: Los valores de `a`, `b`, y `c` son números pequeños.\n",
    "\n",
    "La idea es implementar el mismo algoritmo que se uso en el TP1 pero usando NumPy en lugar de Python puro."
   ]
  },
  {
   "cell_type": "code",
   "execution_count": 102,
   "metadata": {},
   "outputs": [
    {
     "name": "stdout",
     "output_type": "stream",
     "text": [
      "Valores encontrados: valor a = -2 valor b = 10 valor = 0\n"
     ]
    },
    {
     "data": {
      "text/plain": [
       "array([-2, 10,  0])"
      ]
     },
     "execution_count": 102,
     "metadata": {},
     "output_type": "execute_result"
    }
   ],
   "source": [
    "import numpy as np\n",
    "\n",
    "def f(x, coeficientes):\n",
    "    a,b,c = coeficientes\n",
    "    return a*x**2 + b*x + c\n",
    "\n",
    "def error(y, y_pred):\n",
    "    return y - y_pred\n",
    "\n",
    "X = np.array([0,1,2,3,5])\n",
    "Y = np.array([0,8,12,12,0])\n",
    "\n",
    "def buscar_coeficientes():# Implementar\n",
    "     rango = range(-10,11)\n",
    "     for a in rango:\n",
    "         for b in rango:\n",
    "             for c in rango:\n",
    "                 y = f(X,(a,b,c))\n",
    "                 if np.all(error(Y, y)==0):\n",
    "                     return np.array([a, b, c])\n",
    "     return None\n",
    "\n",
    "coeficientes = buscar_coeficientes()\n",
    "\n",
    "a,b,c = coeficientes\n",
    "print(f\"Valores encontrados: valor a = {a} valor b = {b} valor = {c}\") \n",
    "coeficientes"
   ]
  },
  {
   "cell_type": "markdown",
   "metadata": {},
   "source": [
    "### Ejercicio 9: Resolver el ejercicio 3 del TP1 usando NumPy\n",
    "Buscar los coeficientes de la función que minimice la suma de los cuadrados de las diferencias entre los valores medidos y los valores de la función.\n",
    "\n",
    "1. Crear un array con los coeficientes elegidos al azar (usar `randint(-10,10,3)`).\n",
    "2. Calcular el valor de la función y el error correspondiente.\n",
    "3. Mientras que el error sea mayor a 1:\n",
    "    1. Definir nuevos coeficientes agregándoles un pequeño valor al azar a los coeficientes actuales (aprendizaje = 0.001).\n",
    "    2. Si el error para los nuevos coeficientes es menor que el anterior, reemplazar los coeficientes actuales por los nuevos.\n"
   ]
  },
  {
   "cell_type": "code",
   "execution_count": 106,
   "metadata": {},
   "outputs": [
    {
     "name": "stdout",
     "output_type": "stream",
     "text": [
      "Valores encontrados: valor a = -1.8269999999996904 valor b = 9.323000000000492 valor = -0.017999999998993155\n"
     ]
    },
    {
     "data": {
      "text/plain": [
       "array([-1.827,  9.323, -0.018])"
      ]
     },
     "execution_count": 106,
     "metadata": {},
     "output_type": "execute_result"
    }
   ],
   "source": [
    "import numpy as np\n",
    "from numpy.random import randint\n",
    "\n",
    "aprendizaje = 0.001\n",
    "\n",
    "def f(x, coeficientes):\n",
    "    a,b,c = coeficientes\n",
    "    return a*x**2 + b*x + c\n",
    "\n",
    "def error(y, y_pred):\n",
    "    return np.sum((y - y_pred)**2)\n",
    "\n",
    "X = np.array([0, 1, 2, 3, 5])\n",
    "Y = np.array([0, 8,12,11, 1]) # Observar que no son los mismos valores que en el ejemplo anterior\n",
    "\n",
    "def buscar_coeficientes():# Implementar\n",
    "    coeficientes = randint(-10, 10, 3)\n",
    "    y_pred = f(X,coeficientes)\n",
    "    e = error(Y, y_pred)\n",
    "    while e > 1:\n",
    "        nuevos_coeficientes = coeficientes + randint(-1, 2, 3) * aprendizaje\n",
    "        y_pred = f(X,nuevos_coeficientes)\n",
    "        nuevo_error = error(Y, y_pred)\n",
    "        if nuevo_error < e:\n",
    "            e = nuevo_error\n",
    "            coeficientes = nuevos_coeficientes\n",
    "    return coeficientes\n",
    "\n",
    "coeficientes = buscar_coeficientes()\n",
    "a,b,c = coeficientes\n",
    "print(f\"Valores encontrados: valor a = {a} valor b = {b} valor = {c}\") \n",
    "coeficientes"
   ]
  }
 ],
 "metadata": {
  "kernelspec": {
   "display_name": "Python 3",
   "language": "python",
   "name": "python3"
  },
  "language_info": {
   "codemirror_mode": {
    "name": "ipython",
    "version": 3
   },
   "file_extension": ".py",
   "mimetype": "text/x-python",
   "name": "python",
   "nbconvert_exporter": "python",
   "pygments_lexer": "ipython3",
   "version": "3.10.12"
  }
 },
 "nbformat": 4,
 "nbformat_minor": 2
}
