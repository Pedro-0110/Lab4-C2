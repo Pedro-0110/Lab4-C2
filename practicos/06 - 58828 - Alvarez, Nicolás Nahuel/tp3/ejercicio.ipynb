{
 "cells": [
  {
   "cell_type": "markdown",
   "metadata": {},
   "source": [
    "#TP3"
   ]
  },
  {
   "cell_type": "markdown",
   "metadata": {},
   "source": [
    "## Ejercicio 1: Cargar Datos de ventas.\n",
    "\n",
    "El archivo datos.dat contiene el registro de las ventas realizadas.\n",
    "\n",
    "Tiene un formato de ancho fijo:\n",
    "- fecha:    10 lugares\n",
    "- producto: 30 lugares\n",
    "- precio:   10 lugares\n",
    "- cantidad:  5 lugares\n",
    "\n",
    "hacer una funcion que carge los en una lista de diccionarios. \n",
    "\n",
    "nota: con \n",
    "```python\n",
    "lineas = open(\"datos.dat\", \"r\").readlines() \n",
    "```\n",
    "puede obtener la lista de string de todos los datos "
   ]
  },
  {
   "cell_type": "code",
   "execution_count": 1,
   "metadata": {},
   "outputs": [
    {
     "name": "stdout",
     "output_type": "stream",
     "text": [
      "{'fecha': '2024-08-27', 'producto': 'Mirinda', 'precio': 1510, 'cantidad': 14}\n",
      "{'fecha': '2024-08-27', 'producto': 'Mirinda', 'precio': 1560, 'cantidad': 12}\n",
      "{'fecha': '2024-08-28', 'producto': 'Torasso', 'precio': 940, 'cantidad': 8}\n",
      "{'fecha': '2024-08-29', 'producto': 'Pepsi Cola', 'precio': 1210, 'cantidad': 10}\n",
      "{'fecha': '2024-08-30', 'producto': 'Mirinda', 'precio': 1520, 'cantidad': 1}\n"
     ]
    }
   ],
   "source": [
    "def cargar_datos_ventas(archivo):\n",
    "    lineas = open(archivo, \"r\").readlines()\n",
    "    ventas = []\n",
    "    \n",
    "    for linea in lineas:\n",
    "        fecha = linea[0:10].strip()\n",
    "        producto = linea[10:40].strip()\n",
    "        precio = float(linea[40:50].strip())\n",
    "        cantidad = int(linea[50:55].strip())\n",
    "        \n",
    "        ventas.append({\n",
    "            'fecha': fecha,\n",
    "            'producto': producto,\n",
    "            'precio': precio,\n",
    "            'cantidad': cantidad\n",
    "        })\n",
    "    \n",
    "    return ventas\n",
    "\n",
    "ventas = cargar_datos_ventas(\"datos.dat\")\n",
    "for venta in ventas:\n",
    "    print(venta)"
   ]
  },
  {
   "cell_type": "markdown",
   "metadata": {},
   "source": [
    "## Ejercicio 2: Calcular el total de ventas.\n",
    "\n",
    "Hacer una funcion que sume los importes vendidos (precio * cantidad) y las cantidades"
   ]
  },
  {
   "cell_type": "code",
   "execution_count": 33,
   "metadata": {},
   "outputs": [
    {
     "name": "stdout",
     "output_type": "stream",
     "text": [
      "Las ventas fueron de $392730.00 en 335 unidades\n"
     ]
    }
   ],
   "source": [
    "def calcular_totales(datos):\n",
    "    importe_final = 0  \n",
    "    cantidad_final = 0  \n",
    "\n",
    "    for venta in datos:\n",
    "        \n",
    "        importe = venta[\"precio\"] * venta[\"cantidad\"]\n",
    "        importe_final += importe\n",
    "        cantidad_final += venta[\"cantidad\"]\n",
    "\n",
    "    return importe_final, cantidad_final\n",
    "\n",
    "datos = cargar_datos()\n",
    "\n",
    "importe, cantidad = calcular_totales(datos)\n",
    "\n",
    "print(f\"Las ventas fueron de ${importe:.2f} en {cantidad} unidades\")"
   ]
  },
  {
   "cell_type": "markdown",
   "metadata": {},
   "source": [
    "## Ejercicio 3: Listar las unidades vendidas.\n",
    "\n",
    "Listar cuantas unidades se vendieron en total para cada producto"
   ]
  },
  {
   "cell_type": "code",
   "execution_count": 44,
   "metadata": {},
   "outputs": [
    {
     "name": "stdout",
     "output_type": "stream",
     "text": [
      "Producto: Mirinda, Unidades vendidas: 85\n",
      "Producto: Torasso, Unidades vendidas: 32\n",
      "Producto: Pepsi Cola, Unidades vendidas: 89\n",
      "Producto: Sprite, Unidades vendidas: 72\n",
      "Producto: Coca Cola, Unidades vendidas: 57\n"
     ]
    }
   ],
   "source": [
    "from collections import defaultdict\n",
    "\n",
    "def unidades_vendidas(datos):\n",
    "    \n",
    "    ventas_por_producto = defaultdict(int)\n",
    "\n",
    "    for venta in datos:\n",
    "        producto = venta[\"producto\"]\n",
    "        cantidad = venta[\"cantidad\"]\n",
    "        ventas_por_producto[producto] += cantidad\n",
    "\n",
    "    return dict(ventas_por_producto)  \n",
    "\n",
    "def listar_ventas(ventas):\n",
    "    for producto, cantidad in ventas.items():\n",
    "        print(f\"Producto: {producto}, Unidades vendidas: {cantidad}\")\n",
    "\n",
    "\n",
    "datos = cargar_datos()  \n",
    "ventas = unidades_vendidas(datos)\n",
    "listar_ventas(ventas)\n"
   ]
  },
  {
   "cell_type": "markdown",
   "metadata": {},
   "source": [
    "##  Ejercicio 4: Listar el precio promedio por producto.\n",
    "\n",
    "Hacer un listado del precio promedio por productos."
   ]
  },
  {
   "cell_type": "code",
   "execution_count": 45,
   "metadata": {},
   "outputs": [
    {
     "name": "stdout",
     "output_type": "stream",
     "text": [
      "Producto: Mirinda, Precio promedio: $1542.12\n",
      "Producto: Torasso, Precio promedio: $916.25\n",
      "Producto: Pepsi Cola, Precio promedio: $1241.69\n",
      "Producto: Sprite, Precio promedio: $847.78\n",
      "Producto: Coca Cola, Precio promedio: $1066.32\n"
     ]
    }
   ],
   "source": [
    "def precio_promedio(datos):\n",
    "    precios_acumulados = {}\n",
    "    cantidades_acumuladas = {}\n",
    "\n",
    "    for venta in datos:\n",
    "        producto = venta[\"producto\"]\n",
    "        precio = venta[\"precio\"]\n",
    "        cantidad = venta[\"cantidad\"]\n",
    "\n",
    "        \n",
    "        if producto in precios_acumulados:\n",
    "            precios_acumulados[producto] += precio * cantidad\n",
    "            cantidades_acumuladas[producto] += cantidad\n",
    "        else:\n",
    "            precios_acumulados[producto] = precio * cantidad\n",
    "            cantidades_acumuladas[producto] = cantidad\n",
    "\n",
    "    \n",
    "    promedios = {}\n",
    "    for producto in precios_acumulados:\n",
    "        promedios[producto] = precios_acumulados[producto] / cantidades_acumuladas[producto]\n",
    "\n",
    "    return promedios\n",
    "\n",
    "def listar_precios_promedio(promedios):\n",
    "    for producto, promedio in promedios.items():\n",
    "        print(f\"Producto: {producto}, Precio promedio: ${promedio:.2f}\")\n",
    "\n",
    "\n",
    "datos = cargar_datos()\n",
    "promedios = precio_promedio(datos)\n",
    "listar_precios_promedio(promedios)"
   ]
  },
  {
   "cell_type": "markdown",
   "metadata": {},
   "source": [
    "### Ejercicio 5: Ranking de productos\n",
    "\n",
    "Realizar un listado de los 3 productos mas vendidos ordenados la cantidad de unidades vendidas (ordenadas de mayor a menor)\n"
   ]
  },
  {
   "cell_type": "code",
   "execution_count": 49,
   "metadata": {},
   "outputs": [
    {
     "name": "stdout",
     "output_type": "stream",
     "text": [
      "Ranking de los 3 productos más vendidos:\n",
      "Producto: Pepsi Cola, Unidades vendidas: 89\n",
      "Producto: Mirinda, Unidades vendidas: 85\n",
      "Producto: Sprite, Unidades vendidas: 72\n"
     ]
    }
   ],
   "source": [
    "def cargar_datos_ventas(archivo):\n",
    "    lineas = open(archivo, \"r\").readlines()\n",
    "    ventas = []\n",
    "    \n",
    "    for linea in lineas:\n",
    "        fecha = linea[0:10].strip()\n",
    "        producto = linea[10:40].strip()\n",
    "        precio = float(linea[40:50].strip())\n",
    "        cantidad = int(linea[50:55].strip())\n",
    "        \n",
    "        ventas.append({\n",
    "            'fecha': fecha,\n",
    "            'producto': producto,\n",
    "            'precio': precio,\n",
    "            'cantidad': cantidad\n",
    "        })\n",
    "    \n",
    "    return ventas\n",
    "\n",
    "def ranking_productos(ventas):\n",
    "    productos_vendidos = {}\n",
    "\n",
    "    for venta in ventas:\n",
    "        producto = venta['producto']\n",
    "        cantidad = venta['cantidad']\n",
    "        if producto in productos_vendidos:\n",
    "            productos_vendidos[producto] += cantidad\n",
    "        else:\n",
    "            productos_vendidos[producto] = cantidad\n",
    "\n",
    "    ranking = sorted(productos_vendidos.items(), key=lambda x: x[1], reverse=True)\n",
    "    ranking_top_3 = ranking[:3]\n",
    "\n",
    "    print(\"Ranking de los 3 productos más vendidos:\")\n",
    "    for producto, cantidad in ranking_top_3:\n",
    "        print(f\"Producto: {producto}, Unidades vendidas: {cantidad}\")\n",
    "\n",
    "ventas = cargar_datos_ventas(\"datos.dat\")\n",
    "ranking_productos(ventas)"
   ]
  },
  {
   "cell_type": "markdown",
   "metadata": {},
   "source": [
    "### Ejercicio 6: Listar las ventas por mes\n",
    "\n",
    "Realizar un listado del total de unidades vendidas por productos separada por mes."
   ]
  },
  {
   "cell_type": "code",
   "execution_count": 56,
   "metadata": {},
   "outputs": [
    {
     "name": "stdout",
     "output_type": "stream",
     "text": [
      "Ventas en el mes 2024-08:\n",
      "  Producto: Mirinda, Unidades vendidas: 27\n",
      "  Producto: Torasso, Unidades vendidas: 8\n",
      "  Producto: Pepsi Cola, Unidades vendidas: 10\n",
      "Ventas en el mes 2024-09:\n",
      "  Producto: Mirinda, Unidades vendidas: 58\n",
      "  Producto: Sprite, Unidades vendidas: 72\n",
      "  Producto: Coca Cola, Unidades vendidas: 57\n",
      "  Producto: Pepsi Cola, Unidades vendidas: 79\n",
      "  Producto: Torasso, Unidades vendidas: 24\n"
     ]
    }
   ],
   "source": [
    "def cargar_datos_ventas(archivo):\n",
    "    lineas = open(archivo, \"r\").readlines()\n",
    "    ventas = []\n",
    "    \n",
    "    for linea in lineas:\n",
    "        fecha = linea[0:10].strip()\n",
    "        producto = linea[10:40].strip()\n",
    "        precio = float(linea[40:50].strip())\n",
    "        cantidad = int(linea[50:55].strip())\n",
    "        \n",
    "        ventas.append({\n",
    "            'fecha': fecha,\n",
    "            'producto': producto,\n",
    "            'precio': precio,\n",
    "            'cantidad': cantidad\n",
    "        })\n",
    "    \n",
    "    return ventas\n",
    "\n",
    "def listar_ventas_por_mes(ventas):\n",
    "    ventas_por_mes = {}\n",
    "\n",
    "    for venta in ventas:\n",
    "        fecha = venta['fecha']\n",
    "        producto = venta['producto']\n",
    "        cantidad = venta['cantidad']\n",
    "\n",
    "        mes = fecha[:7] \n",
    "\n",
    "        if mes not in ventas_por_mes:\n",
    "            ventas_por_mes[mes] = {}\n",
    "\n",
    "        if producto not in ventas_por_mes[mes]:\n",
    "            ventas_por_mes[mes][producto] = 0\n",
    "\n",
    "        ventas_por_mes[mes][producto] += cantidad\n",
    "\n",
    "    for mes, productos in ventas_por_mes.items():\n",
    "        print(f\"Ventas en el mes {mes}:\")\n",
    "        for producto, cantidad in productos.items():\n",
    "            print(f\"  Producto: {producto}, Unidades vendidas: {cantidad}\")\n",
    "\n",
    "ventas = cargar_datos_ventas(\"datos.dat\")\n",
    "listar_ventas_por_mes(ventas)"
   ]
  },
  {
   "cell_type": "markdown",
   "metadata": {},
   "source": [
    "### Ejercicio 7: Informe general\n",
    "\n",
    "Mostrar un listado de productos ordenados alfabeticamente que contengan el precio promedio, la cantidad de unidades vendidas y el importe total vendido para cada producto"
   ]
  },
  {
   "cell_type": "code",
   "execution_count": 57,
   "metadata": {},
   "outputs": [
    {
     "name": "stdout",
     "output_type": "stream",
     "text": [
      "Informe general de productos:\n",
      "Producto: Coca Cola, Precio promedio: 1066.32, Unidades vendidas: 57, Importe total vendido: 60780.00\n",
      "Producto: Mirinda, Precio promedio: 1542.12, Unidades vendidas: 85, Importe total vendido: 131080.00\n",
      "Producto: Pepsi Cola, Precio promedio: 1241.69, Unidades vendidas: 89, Importe total vendido: 110510.00\n",
      "Producto: Sprite, Precio promedio: 847.78, Unidades vendidas: 72, Importe total vendido: 61040.00\n",
      "Producto: Torasso, Precio promedio: 916.25, Unidades vendidas: 32, Importe total vendido: 29320.00\n"
     ]
    }
   ],
   "source": [
    "def informe_general(ventas):\n",
    "    datos_productos = {}\n",
    "\n",
    "    for venta in ventas:\n",
    "        producto = venta['producto']\n",
    "        precio = venta['precio']\n",
    "        cantidad = venta['cantidad']\n",
    "        importe = precio * cantidad\n",
    "\n",
    "        if producto not in datos_productos:\n",
    "            datos_productos[producto] = {\n",
    "                'total_cantidad': 0,\n",
    "                'total_importe': 0.0,\n",
    "                'precio_total': 0.0\n",
    "            }\n",
    "        \n",
    "        datos_productos[producto]['total_cantidad'] += cantidad\n",
    "        datos_productos[producto]['total_importe'] += importe\n",
    "        datos_productos[producto]['precio_total'] += precio * cantidad\n",
    "\n",
    "    informe = []\n",
    "    for producto, datos in datos_productos.items():\n",
    "        precio_promedio = datos['precio_total'] / datos['total_cantidad'] if datos['total_cantidad'] > 0 else 0\n",
    "        informe.append({\n",
    "            'producto': producto,\n",
    "            'precio_promedio': precio_promedio,\n",
    "            'total_cantidad': datos['total_cantidad'],\n",
    "            'total_importe': datos['total_importe']\n",
    "        })\n",
    "\n",
    "    informe.sort(key=lambda x: x['producto'])\n",
    "\n",
    "    print(\"Informe general de productos:\")\n",
    "    for item in informe:\n",
    "        print(f\"Producto: {item['producto']}, Precio promedio: {item['precio_promedio']:.2f}, \"\n",
    "              f\"Unidades vendidas: {item['total_cantidad']}, Importe total vendido: {item['total_importe']:.2f}\")\n",
    "\n",
    "ventas = cargar_datos_ventas(\"datos.dat\")\n",
    "informe_general(ventas)\n"
   ]
  }
 ],
 "metadata": {
  "kernelspec": {
   "display_name": "Python 3",
   "language": "python",
   "name": "python3"
  },
  "language_info": {
   "codemirror_mode": {
    "name": "ipython",
    "version": 3
   },
   "file_extension": ".py",
   "mimetype": "text/x-python",
   "name": "python",
   "nbconvert_exporter": "python",
   "pygments_lexer": "ipython3",
   "version": "3.12.5"
  }
 },
 "nbformat": 4,
 "nbformat_minor": 2
}
