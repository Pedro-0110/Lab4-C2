{
 "cells": [
  {
   "cell_type": "markdown",
   "metadata": {},
   "source": [
    "#TP3"
   ]
  },
  {
   "cell_type": "markdown",
   "metadata": {},
   "source": [
    "## Ejercicio 1: Cargar Datos de ventas.\n",
    "\n",
    "El archivo datos.dat contiene el registro de las ventas realizadas.\n",
    "\n",
    "Tiene un formato de ancho fijo:\n",
    "- fecha:    10 lugares\n",
    "- producto: 30 lugares\n",
    "- precio:   10 lugares\n",
    "- cantidad:  5 lugares\n",
    "\n",
    "hacer una funcion que carge los en una lista de diccionarios. \n",
    "\n",
    "nota: con \n",
    "```python\n",
    "lineas = open(\"datos.dat\", \"r\").readlines() \n",
    "```\n",
    "puede obtener la lista de string de todos los datos "
   ]
  },
  {
   "cell_type": "code",
   "execution_count": 1,
   "metadata": {},
   "outputs": [
    {
     "name": "stdout",
     "output_type": "stream",
     "text": [
      "2024-08-27Mirinda                             1510   14\n",
      "2024-08-27Mirinda                             1560   12\n",
      "2024-08-28Torasso                              940    8\n",
      "2024-08-29Pepsi Cola                          1210   10\n",
      "2024-08-30Mirinda                             1520    1\n",
      "2024-09-01Mirinda                             1550   15\n",
      "2024-09-01Sprite                               810    4\n",
      "2024-09-02Coca Cola                           1100    4\n",
      "2024-09-02Pepsi Cola                          1220   13\n",
      "2024-09-02Torasso                              910    5\n",
      "2024-09-02Torasso                              920    3\n",
      "2024-09-03Coca Cola                           1020    8\n",
      "2024-09-03Mirinda                             1570    7\n",
      "2024-09-03Mirinda                             1590    2\n",
      "2024-09-04Pepsi Cola                          1220   13\n",
      "2024-09-05Mirinda                             1500    3\n",
      "2024-09-05Pepsi Cola                          1300    5\n",
      "2024-09-06Coca Cola                           1080    1\n",
      "2024-09-06Sprite                               860   12\n",
      "2024-09-06Torasso                              930    3\n",
      "2024-09-07Coca Cola                           1080   14\n",
      "2024-09-07Sprite                               870   13\n",
      "2024-09-08Coca Cola                           1040   10\n",
      "2024-09-08Mirinda                             1580    2\n",
      "2024-09-08Pepsi Cola                          1240    9\n",
      "2024-09-09Mirinda                             1500    3\n",
      "2024-09-09Sprite                               850    9\n",
      "2024-09-10Mirinda                             1590    8\n",
      "2024-09-10Pepsi Cola                          1250   12\n",
      "2024-09-11Sprite                               810    6\n",
      "2024-09-11Sprite                               820   14\n",
      "2024-09-12Coca Cola                           1080    4\n",
      "2024-09-13Mirinda                             1580    5\n",
      "2024-09-13Pepsi Cola                          1250   13\n",
      "2024-09-14Coca Cola                           1080   15\n",
      "2024-09-14Pepsi Cola                          1270   14\n",
      "2024-09-15Coca Cola                           1100    1\n",
      "2024-09-15Mirinda                             1500   13\n",
      "2024-09-15Sprite                               870   14\n",
      "2024-09-15Torasso                              900   13\n"
     ]
    }
   ],
   "source": [
    "with open('datos.dat', 'r') as archivo:\n",
    "    \n",
    "    lista_strings = archivo.readlines()\n",
    "    \n",
    "    lista_strings = [linea.strip() for linea in lista_strings]    \n",
    "    \n",
    "    for string in lista_strings:\n",
    "        print(string)\n"
   ]
  },
  {
   "cell_type": "markdown",
   "metadata": {},
   "source": [
    "## Ejercicio 2: Calcular el total de ventas.\n",
    "\n",
    "Hacer una funcion que sume los importes vendidos (precio * cantidad) y las cantidades"
   ]
  },
  {
   "cell_type": "code",
   "execution_count": 1,
   "metadata": {},
   "outputs": [
    {
     "name": "stdout",
     "output_type": "stream",
     "text": [
      "Total de importe vendido: 392730\n",
      "Total de cantidades vendidas: 335\n"
     ]
    }
   ],
   "source": [
    "def calcular_total_ventas(data):\n",
    "    \n",
    "    total_importe = 0\n",
    "    \n",
    "    total_cantidad = 0\n",
    "\n",
    "    for linea in data:\n",
    "    \n",
    "        try:\n",
    "            \n",
    "            precio = int(linea[40:50].strip())  \n",
    "            cantidad = int(linea[50:55].strip())  \n",
    "\n",
    "            total_importe += precio * cantidad\n",
    "\n",
    "            \n",
    "            total_cantidad += cantidad\n",
    "        except ValueError:\n",
    "            print(f\"Error procesando la línea: {linea}\")\n",
    "            \n",
    "\n",
    "    return total_importe, total_cantidad\n",
    "\n",
    "def leer_archivo(archivo):\n",
    "    \n",
    "    with open(archivo, 'r') as file:\n",
    "    \n",
    "        data = file.readlines()\n",
    "    \n",
    "    return data\n",
    "\n",
    "data = leer_archivo('datos.dat')\n",
    "\n",
    "total_importe, total_cantidad = calcular_total_ventas(data)\n",
    "\n",
    "print(f\"Total de importe vendido: {total_importe}\")\n",
    "\n",
    "print(f\"Total de cantidades vendidas: {total_cantidad}\")\n"
   ]
  },
  {
   "cell_type": "markdown",
   "metadata": {},
   "source": [
    "## Ejercicio 3: Listar las unidades vendidas.\n",
    "\n",
    "Listar cuantas unidades se vendieron en total para cada producto"
   ]
  },
  {
   "cell_type": "code",
   "execution_count": 3,
   "metadata": {},
   "outputs": [
    {
     "name": "stdout",
     "output_type": "stream",
     "text": [
      "Producto: Mirinda, Unidades vendidas: 85\n",
      "Producto: Torasso, Unidades vendidas: 32\n",
      "Producto: Pepsi Cola, Unidades vendidas: 89\n",
      "Producto: Sprite, Unidades vendidas: 72\n",
      "Producto: Coca Cola, Unidades vendidas: 57\n"
     ]
    }
   ],
   "source": [
    "def leer_archivo(archivo):\n",
    "    \n",
    "    with open(archivo, 'r') as file:\n",
    "    \n",
    "        data = file.readlines()\n",
    "    \n",
    "    return data\n",
    "\n",
    "def unidades_vendidas(datos):\n",
    "    ventas_por_producto = {}\n",
    "    \n",
    "    for linea in datos:        \n",
    "         producto = linea[10:40].strip()  \n",
    "         cantidad_str = linea[50:55].strip()  \n",
    "            \n",
    "            \n",
    "         if cantidad_str.isdigit():\n",
    "                \n",
    "            cantidad = int(cantidad_str)\n",
    "                \n",
    "            if producto in ventas_por_producto:\n",
    "                    \n",
    "                ventas_por_producto[producto] += cantidad\n",
    "\n",
    "            else:\n",
    "                ventas_por_producto[producto] = cantidad\n",
    "              \n",
    "\n",
    "    return ventas_por_producto\n",
    "\n",
    "def listar_ventas(datos):\n",
    "    \n",
    "    for producto, cantidad in ventas.items():\n",
    "        print(f\"Producto: {producto}, Unidades vendidas: {cantidad}\")\n",
    "\n",
    "data = leer_archivo('datos.dat')\n",
    "\n",
    "ventas = unidades_vendidas(data)\n",
    "listar_ventas(ventas)\n"
   ]
  },
  {
   "cell_type": "markdown",
   "metadata": {},
   "source": [
    "##  Ejercicio 4: Listar el precio promedio por producto.\n",
    "\n",
    "Hacer un listado del precio promedio por productos."
   ]
  },
  {
   "cell_type": "code",
   "execution_count": 4,
   "metadata": {},
   "outputs": [
    {
     "name": "stdout",
     "output_type": "stream",
     "text": [
      "Producto: Mirinda, Precio promedio: 1545.83\n",
      "Producto: Torasso, Precio promedio: 920.00\n",
      "Producto: Pepsi Cola, Precio promedio: 1245.00\n",
      "Producto: Sprite, Precio promedio: 841.43\n",
      "Producto: Coca Cola, Precio promedio: 1072.50\n"
     ]
    }
   ],
   "source": [
    "def leer_archivo(archivo):\n",
    "    \n",
    "    with open(archivo, 'r') as file:\n",
    "    \n",
    "        data = file.readlines()\n",
    "    \n",
    "    return data\n",
    "\n",
    "def precio_promedio(datos):\n",
    "    \n",
    "    precios_por_producto = {}\n",
    "    \n",
    "    for linea in datos:\n",
    "            \n",
    "            producto = linea[10:40].strip()  \n",
    "            \n",
    "            precio_str = linea[40:50].strip()  \n",
    "             \n",
    "            if precio_str.isdigit():\n",
    "                \n",
    "                precio = int(precio_str)\n",
    "                \n",
    "                \n",
    "                if producto in precios_por_producto:\n",
    "\n",
    "                    precios_por_producto[producto]['total_precio'] += precio\n",
    "\n",
    "                    precios_por_producto[producto]['num_ventas'] += 1\n",
    "\n",
    "                else:\n",
    "                    precios_por_producto[producto] = {'total_precio': precio, 'num_ventas': 1}  \n",
    "\n",
    "    promedio_por_producto = {}\n",
    "\n",
    "    for producto, data in precios_por_producto.items():\n",
    "\n",
    "        promedio_por_producto[producto] = data['total_precio'] / data['num_ventas']\n",
    "    \n",
    "    return promedio_por_producto\n",
    "\n",
    "def listar_precios(datos):\n",
    "\n",
    "    for producto, precio_promedio in precios.items():\n",
    "        \n",
    "        print(f\"Producto: {producto}, Precio promedio: {precio_promedio:.2f}\")\n",
    "\n",
    "data = leer_archivo('datos.dat')\n",
    "\n",
    "precios = precio_promedio(data)\n",
    "listar_precios(precios)"
   ]
  },
  {
   "cell_type": "markdown",
   "metadata": {},
   "source": [
    "### Ejercicio 5: Ranking de productos\n",
    "\n",
    "Realizar un listado de los 3 productos mas vendidos ordenados la cantidad de unidades vendidas (ordenadas de mayor a menor)\n"
   ]
  },
  {
   "cell_type": "code",
   "execution_count": 5,
   "metadata": {},
   "outputs": [
    {
     "name": "stdout",
     "output_type": "stream",
     "text": [
      "Ranking de los productos más vendidos:\n",
      "1. Producto: Pepsi Cola, Unidades vendidas: 89\n",
      "2. Producto: Mirinda, Unidades vendidas: 85\n",
      "3. Producto: Sprite, Unidades vendidas: 72\n"
     ]
    }
   ],
   "source": [
    "def leer_archivo(archivo):\n",
    "    \n",
    "    with open(archivo, 'r') as file:\n",
    "    \n",
    "        data = file.readlines()\n",
    "    \n",
    "    return data\n",
    "\n",
    "def ranking_productos(datos, top=3):\n",
    "    ventas_por_producto = {}\n",
    "    \n",
    "    for linea in datos:\n",
    "            \n",
    "            producto = linea[10:40].strip()  \n",
    "            cantidad_str = linea[50:55].strip()  \n",
    "            \n",
    "            \n",
    "            if cantidad_str.isdigit():\n",
    "                cantidad = int(cantidad_str)\n",
    "                \n",
    "                \n",
    "                if producto in ventas_por_producto:\n",
    "                    ventas_por_producto[producto] += cantidad\n",
    "                else:\n",
    "                    ventas_por_producto[producto] = cantidad\n",
    "       \n",
    "    ranking = sorted(ventas_por_producto.items(), key=lambda x: x[1], reverse=True)\n",
    "    \n",
    "    return ranking[:top]\n",
    "\n",
    "def listar_ranking(ranking):\n",
    "    \n",
    "    print(\"Ranking de los productos más vendidos:\")\n",
    "    \n",
    "    for idx, (producto, cantidad) in enumerate(ranking, 1):\n",
    "    \n",
    "        print(f\"{idx}. Producto: {producto}, Unidades vendidas: {cantidad}\")\n",
    "\n",
    "ranking = ranking_productos(data)\n",
    "listar_ranking(ranking)"
   ]
  },
  {
   "cell_type": "markdown",
   "metadata": {},
   "source": [
    "### Ejercicio 6: Listar las ventas por mes\n",
    "\n",
    "Realizar un listado del total de unidades vendidas por productos separada por mes."
   ]
  },
  {
   "cell_type": "code",
   "execution_count": 4,
   "metadata": {},
   "outputs": [
    {
     "name": "stdout",
     "output_type": "stream",
     "text": [
      "Mes: 2024-08\n",
      "  Producto: Mirinda, Unidades vendidas: 27\n",
      "  Producto: Torasso, Unidades vendidas: 8\n",
      "  Producto: Pepsi Cola, Unidades vendidas: 10\n",
      "\n",
      "Mes: 2024-09\n",
      "  Producto: Mirinda, Unidades vendidas: 58\n",
      "  Producto: Sprite, Unidades vendidas: 72\n",
      "  Producto: Coca Cola, Unidades vendidas: 57\n",
      "  Producto: Pepsi Cola, Unidades vendidas: 79\n",
      "  Producto: Torasso, Unidades vendidas: 24\n",
      "\n"
     ]
    }
   ],
   "source": [
    "def leer_archivo(archivo):\n",
    "    \n",
    "    with open(archivo, 'r') as file:\n",
    "    \n",
    "        data = file.readlines()\n",
    "    \n",
    "    return data\n",
    "\n",
    "def ventas_por_mes(datos):\n",
    "    ventas_mensuales = {}\n",
    "\n",
    "    for linea in datos:\n",
    "            \n",
    "            fecha = linea[:10].strip()  \n",
    "            producto = linea[10:40].strip()  \n",
    "            cantidad_str = linea[50:55].strip()  \n",
    "            \n",
    "            if cantidad_str.isdigit():\n",
    "                \n",
    "                cantidad = int(cantidad_str)\n",
    "                \n",
    "                mes = fecha[:7]  \n",
    "                \n",
    "                if mes not in ventas_mensuales:\n",
    "                    ventas_mensuales[mes] = {}\n",
    "                \n",
    "                if producto not in ventas_mensuales[mes]:\n",
    "                    ventas_mensuales[mes][producto] = 0\n",
    "                \n",
    "                ventas_mensuales[mes][producto] += cantidad\n",
    "\n",
    "    return ventas_mensuales\n",
    "\n",
    "def listar_ventas_mensuales(ventas):\n",
    "    \n",
    "    for mes, productos in ventas.items():\n",
    "        \n",
    "        print(f\"Mes: {mes}\")\n",
    "       \n",
    "        for producto, cantidad in productos.items():\n",
    "        \n",
    "            print(f\"  Producto: {producto}, Unidades vendidas: {cantidad}\")\n",
    "        \n",
    "        print()  \n",
    "\n",
    "data = leer_archivo('datos.dat')\n",
    "\n",
    "ventas = ventas_por_mes(data)\n",
    "listar_ventas_mensuales(ventas)"
   ]
  },
  {
   "cell_type": "markdown",
   "metadata": {},
   "source": [
    "### Ejercicio 7: Informe general\n",
    "\n",
    "Mostrar un listado de productos ordenados alfabeticamente que contengan el precio promedio, la cantidad de unidades vendidas y el importe total vendido para cada producto"
   ]
  },
  {
   "cell_type": "code",
   "execution_count": 6,
   "metadata": {},
   "outputs": [
    {
     "name": "stdout",
     "output_type": "stream",
     "text": [
      "Producto                       Precio Promedio Unidades Vendidas    Total Vendido\n",
      "================================================================================\n",
      "Coca Cola                      1072.50         57                   60780.00\n",
      "Mirinda                        1545.83         85                   131080.00\n",
      "Pepsi Cola                     1245.00         89                   110510.00\n",
      "Sprite                         841.43          72                   61040.00\n",
      "Torasso                        920.00          32                   29320.00\n"
     ]
    }
   ],
   "source": [
    "def leer_archivo(archivo):\n",
    "    \n",
    "    with open(archivo, 'r') as file:\n",
    "    \n",
    "        data = file.readlines()\n",
    "    \n",
    "    return data\n",
    "\n",
    "def resumen_ventas(datos):\n",
    "    ventas_info = {}\n",
    "\n",
    "    for linea in datos:\n",
    "            \n",
    "            fecha = linea[:10].strip()\n",
    "\n",
    "            producto = linea[10:40].strip()  \n",
    "            \n",
    "            precio_str = linea[40:50].strip()  \n",
    "            \n",
    "            cantidad_str = linea[50:55].strip()  \n",
    "             \n",
    "            if precio_str.isdigit() and cantidad_str.isdigit():\n",
    "                precio = int(precio_str)\n",
    "                cantidad = int(cantidad_str)\n",
    "                \n",
    "                if producto not in ventas_info:\n",
    "\n",
    "                    ventas_info[producto] = {\n",
    "                    \n",
    "                        \"total_precio\": 0,\n",
    "                    \n",
    "                        \"total_cantidad\": 0,\n",
    "                    \n",
    "                        \"total_importe\": 0,\n",
    "                    \n",
    "                        \"num_transacciones\": 0\n",
    "                    }\n",
    "\n",
    "                ventas_info[producto][\"total_precio\"] += precio\n",
    "                ventas_info[producto][\"total_cantidad\"] += cantidad\n",
    "                ventas_info[producto][\"total_importe\"] += precio * cantidad\n",
    "                ventas_info[producto][\"num_transacciones\"] += 1\n",
    "\n",
    "    \n",
    "    for producto, info in ventas_info.items():\n",
    "        info[\"precio_promedio\"] = info[\"total_precio\"] / info[\"num_transacciones\"]\n",
    "\n",
    "    return ventas_info\n",
    "\n",
    "def informe_ventas(datos):\n",
    "    productos_ordenados = sorted(datos.keys())\n",
    "\n",
    "    print(f\"{'Producto':<30} {'Precio Promedio':<15} {'Unidades Vendidas':<20} {'Total Vendido'}\")\n",
    "    print(\"=\" * 80)\n",
    "\n",
    "    for producto in productos_ordenados:\n",
    "        info = datos[producto]\n",
    "        precio_promedio = info[\"precio_promedio\"]\n",
    "        total_cantidad = info[\"total_cantidad\"]\n",
    "        total_importe = info[\"total_importe\"]\n",
    "        print(f\"{producto:<30} {precio_promedio:<15.2f} {total_cantidad:<20} {total_importe:.2f}\")\n",
    "\n",
    "data = leer_archivo('datos.dat')\n",
    "\n",
    "resumen = resumen_ventas(data)\n",
    "informe_ventas(resumen)\n"
   ]
  }
 ],
 "metadata": {
  "kernelspec": {
   "display_name": "Python 3",
   "language": "python",
   "name": "python3"
  },
  "language_info": {
   "codemirror_mode": {
    "name": "ipython",
    "version": 3
   },
   "file_extension": ".py",
   "mimetype": "text/x-python",
   "name": "python",
   "nbconvert_exporter": "python",
   "pygments_lexer": "ipython3",
   "version": "3.12.6"
  }
 },
 "nbformat": 4,
 "nbformat_minor": 2
}
