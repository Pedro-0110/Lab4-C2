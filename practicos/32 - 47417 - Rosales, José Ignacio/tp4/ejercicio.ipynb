{
 "cells": [
  {
   "cell_type": "markdown",
   "metadata": {},
   "source": [
    "# Simulación del Truco"
   ]
  },
  {
   "cell_type": "markdown",
   "metadata": {},
   "source": [
    "Las **cartas** deben registra el numero, palo y valor de la carta. \n",
    "El valor debe reflejar la jerarquía de las cartas en el juego del truco."
   ]
  },
  {
   "cell_type": "code",
   "execution_count": 6,
   "metadata": {},
   "outputs": [
    {
     "name": "stdout",
     "output_type": "stream",
     "text": [
      "1 de espada (valor: 14)\n"
     ]
    }
   ],
   "source": [
    "def calcular_valor(numero, palo):\n",
    "    jerarquia = {\n",
    "        (1, 'espada'): 14,\n",
    "        (1, 'basto'): 13,\n",
    "        (7, 'espada'): 12,\n",
    "        (7, 'oro'): 11,\n",
    "        (3, 'oro'): 10,\n",
    "        (3, 'copa'): 10,\n",
    "        (3, 'espada'): 10,\n",
    "        (3, 'basto'): 10,\n",
    "        (2, 'oro'): 9,\n",
    "        (2, 'copa'): 9,\n",
    "        (2, 'espada'): 9,\n",
    "        (2, 'basto'): 9,\n",
    "        (1, 'oro'): 8,\n",
    "        (1, 'copa'): 8,\n",
    "        (12, 'oro'): 7,\n",
    "        (12, 'copa'): 7,\n",
    "        (12, 'espada'): 7,\n",
    "        (12, 'basto'): 7,\n",
    "        (11, 'oro'): 6,\n",
    "        (11, 'copa'): 6,\n",
    "        (11, 'espada'): 6,\n",
    "        (11, 'basto'): 6,\n",
    "        (10, 'oro'): 5,\n",
    "        (10, 'copa'): 5,\n",
    "        (10, 'espada'): 5,\n",
    "        (10, 'basto'): 5,\n",
    "        (7, 'copa'): 4,\n",
    "        (7, 'basto'): 4,\n",
    "        (6, 'oro'): 3,\n",
    "        (6, 'copa'): 3,\n",
    "        (6, 'espada'): 3,\n",
    "        (6, 'basto'): 3,\n",
    "        (5, 'oro'): 2,\n",
    "        (5, 'copa'): 2,\n",
    "        (5, 'espada'): 2,\n",
    "        (5, 'basto'): 2,\n",
    "        (4, 'oro'): 1,\n",
    "        (4, 'copa'): 1,\n",
    "        (4, 'espada'): 1,\n",
    "        (4, 'basto'): 1\n",
    "    }\n",
    "    return jerarquia.get((numero, palo), 0)  \n",
    "\n",
    "class Carta:\n",
    "    def __init__(self, numero, palo):\n",
    "        self.numero = numero\n",
    "        self.palo = palo\n",
    "        self.valor = calcular_valor(numero, palo)\n",
    "    \n",
    "    def __str__(self):\n",
    "        return f\"{self.numero} de {self.palo} (valor: {self.valor})\"\n",
    "\n",
    "\n",
    "print(Carta(1, \"espada\"))  \n"
   ]
  },
  {
   "cell_type": "markdown",
   "metadata": {},
   "source": [
    "**Mazo**: Representan las cartas españolas de 1 al 12, en los palos de oro, copa, espada y basto.\n",
    "\n",
    "Debe existir una función que permita barajar las cartas.\n",
    "y otra función que permita repartir las cartas a los jugadores."
   ]
  },
  {
   "cell_type": "code",
   "execution_count": 38,
   "metadata": {},
   "outputs": [
    {
     "name": "stdout",
     "output_type": "stream",
     "text": [
      "10 de basto (valor: 5)\n",
      "2 de espada (valor: 9)\n",
      "12 de basto (valor: 7)\n"
     ]
    }
   ],
   "source": [
    "import random\n",
    "\n",
    "class Mazo:\n",
    "    def __init__(self):\n",
    "        # Crea una lista de cartas, excluyendo 8 y 9 como en el truco\n",
    "        self.cartas = [Carta(numero, palo) for numero in range(1, 13) if numero != 8 and numero != 9\n",
    "                       for palo in ['oro', 'copa', 'espada', 'basto']]\n",
    "    \n",
    "    def mezclar(self):\n",
    "        # Mezcla las cartas\n",
    "        random.shuffle(self.cartas)\n",
    "    \n",
    "    def repartir(self, cantidad):\n",
    "        # Reparte una cantidad de cartas, siempre y cuando queden suficientes cartas en el mazo\n",
    "        if len(self.cartas) >= cantidad:\n",
    "            return [self.cartas.pop() for _ in range(cantidad)]\n",
    "        else:\n",
    "            return None\n",
    "\n",
    "# Uso de la clase Mazo\n",
    "m = Mazo()\n",
    "m.mezclar()\n",
    "\n",
    "# Imprimir las 3 cartas repartidas\n",
    "cartas_repartidas = m.repartir(3)\n",
    "if cartas_repartidas:\n",
    "    for carta in cartas_repartidas:\n",
    "        print(carta)\n",
    "else:\n",
    "    print(\"No hay suficientes cartas para repartir.\")"
   ]
  },
  {
   "cell_type": "markdown",
   "metadata": {},
   "source": [
    "**Jugador**: Deben tener un nombre y las cartas que tiene en la mano. Debe acumular los puntos ganados.\n",
    "\n",
    "Nota: Para simplificar el problema, el jugador elige la carta a jugar de forma aleatoria."
   ]
  },
  {
   "cell_type": "code",
   "execution_count": 37,
   "metadata": {},
   "outputs": [
    {
     "name": "stdout",
     "output_type": "stream",
     "text": [
      "None\n"
     ]
    }
   ],
   "source": [
    "class Jugador:\n",
    "    def __init__(self, nombre):\n",
    "        self.nombre = nombre\n",
    "        self.cartas = []\n",
    "        self.puntos = 0\n",
    "    \n",
    "    def recibir_cartas(self, cartas):\n",
    "        self.cartas = cartas\n",
    "    \n",
    "    def jugar_carta(self):\n",
    "        if self.cartas:\n",
    "            return self.cartas.pop(random.randint(0, len(self.cartas) - 1))\n",
    "        return None\n",
    "    \n",
    "    def __str__(self):\n",
    "        return f\"{self.nombre} (puntos: {self.puntos})\"\n",
    "\n",
    "j = Jugador(\"Chapita\")\n",
    "j.recibir_cartas(m.repartir(3))\n",
    "print(j.jugar_carta())"
   ]
  },
  {
   "cell_type": "markdown",
   "metadata": {},
   "source": [
    "**Partida**: Debe tener dos jugadores, un mazo de cartas y un puntaje. Debe permitir jugar una carta por ronda y definir el ganador de la ronda. Debe permitir jugar hasta que se terminen las cartas del mazo."
   ]
  },
  {
   "cell_type": "code",
   "execution_count": 23,
   "metadata": {},
   "outputs": [
    {
     "name": "stdout",
     "output_type": "stream",
     "text": [
      "Juan juega: 11 de espada (valor: 6)\n",
      "Pedro juega: 3 de oro (valor: 10)\n",
      "Gana la ronda Pedro\n",
      "Juan juega: 2 de copa (valor: 9)\n",
      "Pedro juega: 4 de oro (valor: 1)\n",
      "Gana la ronda Juan\n",
      "Juan juega: 2 de oro (valor: 9)\n",
      "Pedro juega: 4 de basto (valor: 1)\n",
      "Gana la ronda Juan\n",
      "Puntos: Juan: 2, Pedro: 1\n",
      "Juan juega: 6 de basto (valor: 3)\n",
      "Pedro juega: 12 de espada (valor: 7)\n",
      "Gana la ronda Pedro\n",
      "Juan juega: 2 de basto (valor: 9)\n",
      "Pedro juega: 11 de oro (valor: 6)\n",
      "Gana la ronda Juan\n",
      "Juan juega: 6 de copa (valor: 3)\n",
      "Pedro juega: 11 de basto (valor: 6)\n",
      "Gana la ronda Pedro\n",
      "Puntos: Juan: 3, Pedro: 3\n",
      "Juan juega: 7 de copa (valor: 4)\n",
      "Pedro juega: 1 de basto (valor: 13)\n",
      "Gana la ronda Pedro\n",
      "Juan juega: 12 de copa (valor: 7)\n",
      "Pedro juega: 2 de espada (valor: 9)\n",
      "Gana la ronda Pedro\n",
      "Juan juega: 5 de copa (valor: 2)\n",
      "Pedro juega: 10 de basto (valor: 5)\n",
      "Gana la ronda Pedro\n",
      "Puntos: Juan: 3, Pedro: 6\n",
      "Juan juega: 10 de copa (valor: 5)\n",
      "Pedro juega: 7 de oro (valor: 11)\n",
      "Gana la ronda Pedro\n",
      "Juan juega: 11 de copa (valor: 6)\n",
      "Pedro juega: 1 de espada (valor: 14)\n",
      "Gana la ronda Pedro\n",
      "Juan juega: 6 de oro (valor: 3)\n",
      "Pedro juega: 10 de oro (valor: 5)\n",
      "Gana la ronda Pedro\n",
      "Puntos: Juan: 3, Pedro: 9\n",
      "Juan juega: 3 de espada (valor: 10)\n",
      "Pedro juega: 7 de espada (valor: 12)\n",
      "Gana la ronda Pedro\n",
      "Juan juega: 1 de oro (valor: 8)\n",
      "Pedro juega: 5 de basto (valor: 2)\n",
      "Gana la ronda Juan\n",
      "Juan juega: 12 de oro (valor: 7)\n",
      "Pedro juega: 5 de espada (valor: 2)\n",
      "Gana la ronda Juan\n",
      "Puntos: Juan: 5, Pedro: 10\n",
      "Juan juega: 3 de basto (valor: 10)\n",
      "Pedro juega: 5 de oro (valor: 2)\n",
      "Gana la ronda Juan\n",
      "Juan juega: 7 de basto (valor: 4)\n",
      "Pedro juega: 4 de espada (valor: 1)\n",
      "Gana la ronda Juan\n",
      "Juan juega: 3 de copa (valor: 10)\n",
      "Pedro juega: 4 de copa (valor: 1)\n",
      "Gana la ronda Juan\n",
      "Puntos: Juan: 8, Pedro: 10\n",
      "Juan juega: 10 de espada (valor: 5)\n",
      "Pedro juega: None\n"
     ]
    },
    {
     "ename": "AttributeError",
     "evalue": "'NoneType' object has no attribute 'valor'",
     "output_type": "error",
     "traceback": [
      "\u001b[1;31m---------------------------------------------------------------------------\u001b[0m",
      "\u001b[1;31mAttributeError\u001b[0m                            Traceback (most recent call last)",
      "Cell \u001b[1;32mIn[23], line 42\u001b[0m\n\u001b[0;32m     39\u001b[0m             \u001b[38;5;28mprint\u001b[39m(\u001b[38;5;124mf\u001b[39m\u001b[38;5;124m\"\u001b[39m\u001b[38;5;124m¡\u001b[39m\u001b[38;5;132;01m{\u001b[39;00m\u001b[38;5;28mself\u001b[39m\u001b[38;5;241m.\u001b[39mjugador2\u001b[38;5;241m.\u001b[39mnombre\u001b[38;5;132;01m}\u001b[39;00m\u001b[38;5;124m gana la partida!\u001b[39m\u001b[38;5;124m\"\u001b[39m)\n\u001b[0;32m     41\u001b[0m p \u001b[38;5;241m=\u001b[39m Partida(Jugador(\u001b[38;5;124m\"\u001b[39m\u001b[38;5;124mJuan\u001b[39m\u001b[38;5;124m\"\u001b[39m), Jugador(\u001b[38;5;124m\"\u001b[39m\u001b[38;5;124mPedro\u001b[39m\u001b[38;5;124m\"\u001b[39m))\n\u001b[1;32m---> 42\u001b[0m \u001b[43mp\u001b[49m\u001b[38;5;241;43m.\u001b[39;49m\u001b[43mjugar\u001b[49m\u001b[43m(\u001b[49m\u001b[43m)\u001b[49m\n",
      "Cell \u001b[1;32mIn[23], line 32\u001b[0m, in \u001b[0;36mPartida.jugar\u001b[1;34m(self)\u001b[0m\n\u001b[0;32m     29\u001b[0m     \u001b[38;5;28mself\u001b[39m\u001b[38;5;241m.\u001b[39mjugador2\u001b[38;5;241m.\u001b[39mrecibir_cartas(\u001b[38;5;28mself\u001b[39m\u001b[38;5;241m.\u001b[39mmazo\u001b[38;5;241m.\u001b[39mrepartir(\u001b[38;5;241m3\u001b[39m))\n\u001b[0;32m     31\u001b[0m     \u001b[38;5;28;01mfor\u001b[39;00m _ \u001b[38;5;129;01min\u001b[39;00m \u001b[38;5;28mrange\u001b[39m(\u001b[38;5;241m3\u001b[39m):\n\u001b[1;32m---> 32\u001b[0m         \u001b[38;5;28;43mself\u001b[39;49m\u001b[38;5;241;43m.\u001b[39;49m\u001b[43mjugar_ronda\u001b[49m\u001b[43m(\u001b[49m\u001b[43m)\u001b[49m\n\u001b[0;32m     34\u001b[0m     \u001b[38;5;28mprint\u001b[39m(\u001b[38;5;124mf\u001b[39m\u001b[38;5;124m\"\u001b[39m\u001b[38;5;124mPuntos: \u001b[39m\u001b[38;5;132;01m{\u001b[39;00m\u001b[38;5;28mself\u001b[39m\u001b[38;5;241m.\u001b[39mjugador1\u001b[38;5;241m.\u001b[39mnombre\u001b[38;5;132;01m}\u001b[39;00m\u001b[38;5;124m: \u001b[39m\u001b[38;5;132;01m{\u001b[39;00m\u001b[38;5;28mself\u001b[39m\u001b[38;5;241m.\u001b[39mjugador1\u001b[38;5;241m.\u001b[39mpuntos\u001b[38;5;132;01m}\u001b[39;00m\u001b[38;5;124m, \u001b[39m\u001b[38;5;132;01m{\u001b[39;00m\u001b[38;5;28mself\u001b[39m\u001b[38;5;241m.\u001b[39mjugador2\u001b[38;5;241m.\u001b[39mnombre\u001b[38;5;132;01m}\u001b[39;00m\u001b[38;5;124m: \u001b[39m\u001b[38;5;132;01m{\u001b[39;00m\u001b[38;5;28mself\u001b[39m\u001b[38;5;241m.\u001b[39mjugador2\u001b[38;5;241m.\u001b[39mpuntos\u001b[38;5;132;01m}\u001b[39;00m\u001b[38;5;124m\"\u001b[39m)\n\u001b[0;32m     36\u001b[0m \u001b[38;5;28;01mif\u001b[39;00m \u001b[38;5;28mself\u001b[39m\u001b[38;5;241m.\u001b[39mjugador1\u001b[38;5;241m.\u001b[39mpuntos \u001b[38;5;241m>\u001b[39m\u001b[38;5;241m=\u001b[39m \u001b[38;5;241m15\u001b[39m:\n",
      "Cell \u001b[1;32mIn[23], line 16\u001b[0m, in \u001b[0;36mPartida.jugar_ronda\u001b[1;34m(self)\u001b[0m\n\u001b[0;32m     13\u001b[0m \u001b[38;5;28mprint\u001b[39m(\u001b[38;5;124mf\u001b[39m\u001b[38;5;124m\"\u001b[39m\u001b[38;5;132;01m{\u001b[39;00m\u001b[38;5;28mself\u001b[39m\u001b[38;5;241m.\u001b[39mjugador1\u001b[38;5;241m.\u001b[39mnombre\u001b[38;5;132;01m}\u001b[39;00m\u001b[38;5;124m juega: \u001b[39m\u001b[38;5;132;01m{\u001b[39;00mcarta1\u001b[38;5;132;01m}\u001b[39;00m\u001b[38;5;124m\"\u001b[39m)\n\u001b[0;32m     14\u001b[0m \u001b[38;5;28mprint\u001b[39m(\u001b[38;5;124mf\u001b[39m\u001b[38;5;124m\"\u001b[39m\u001b[38;5;132;01m{\u001b[39;00m\u001b[38;5;28mself\u001b[39m\u001b[38;5;241m.\u001b[39mjugador2\u001b[38;5;241m.\u001b[39mnombre\u001b[38;5;132;01m}\u001b[39;00m\u001b[38;5;124m juega: \u001b[39m\u001b[38;5;132;01m{\u001b[39;00mcarta2\u001b[38;5;132;01m}\u001b[39;00m\u001b[38;5;124m\"\u001b[39m)\n\u001b[1;32m---> 16\u001b[0m \u001b[38;5;28;01mif\u001b[39;00m carta1\u001b[38;5;241m.\u001b[39mvalor \u001b[38;5;241m>\u001b[39m \u001b[43mcarta2\u001b[49m\u001b[38;5;241;43m.\u001b[39;49m\u001b[43mvalor\u001b[49m:\n\u001b[0;32m     17\u001b[0m     \u001b[38;5;28mprint\u001b[39m(\u001b[38;5;124mf\u001b[39m\u001b[38;5;124m\"\u001b[39m\u001b[38;5;124mGana la ronda \u001b[39m\u001b[38;5;132;01m{\u001b[39;00m\u001b[38;5;28mself\u001b[39m\u001b[38;5;241m.\u001b[39mjugador1\u001b[38;5;241m.\u001b[39mnombre\u001b[38;5;132;01m}\u001b[39;00m\u001b[38;5;124m\"\u001b[39m)\n\u001b[0;32m     18\u001b[0m     \u001b[38;5;28mself\u001b[39m\u001b[38;5;241m.\u001b[39mjugador1\u001b[38;5;241m.\u001b[39mpuntos \u001b[38;5;241m+\u001b[39m\u001b[38;5;241m=\u001b[39m \u001b[38;5;241m1\u001b[39m\n",
      "\u001b[1;31mAttributeError\u001b[0m: 'NoneType' object has no attribute 'valor'"
     ]
    }
   ],
   "source": [
    "class Partida:\n",
    "    def __init__(self, jugador1, jugador2):\n",
    "        self.jugador1 = jugador1\n",
    "        self.jugador2 = jugador2\n",
    "        self.mazo = Mazo()\n",
    "        self.puntos_jugador1 = 0\n",
    "        self.puntos_jugador2 = 0\n",
    "    \n",
    "    def jugar_ronda(self):\n",
    "        carta1 = self.jugador1.jugar_carta()\n",
    "        carta2 = self.jugador2.jugar_carta()\n",
    "        \n",
    "        print(f\"{self.jugador1.nombre} juega: {carta1}\")\n",
    "        print(f\"{self.jugador2.nombre} juega: {carta2}\")\n",
    "        \n",
    "        if carta1.valor > carta2.valor:\n",
    "            print(f\"Gana la ronda {self.jugador1.nombre}\")\n",
    "            self.jugador1.puntos += 1\n",
    "        elif carta1.valor < carta2.valor:\n",
    "            print(f\"Gana la ronda {self.jugador2.nombre}\")\n",
    "            self.jugador2.puntos += 1\n",
    "        else:\n",
    "            print(\"Empate\")\n",
    "    \n",
    "    def jugar(self):\n",
    "        while self.jugador1.puntos < 15 and self.jugador2.puntos < 15:\n",
    "            self.mazo.mezclar()\n",
    "            self.jugador1.recibir_cartas(self.mazo.repartir(3))\n",
    "            self.jugador2.recibir_cartas(self.mazo.repartir(3))\n",
    "            \n",
    "            for _ in range(3):\n",
    "                self.jugar_ronda()\n",
    "            \n",
    "            print(f\"Puntos: {self.jugador1.nombre}: {self.jugador1.puntos}, {self.jugador2.nombre}: {self.jugador2.puntos}\")\n",
    "        \n",
    "        if self.jugador1.puntos >= 15:\n",
    "            print(f\"¡{self.jugador1.nombre} gana la partida!\")\n",
    "        else:\n",
    "            print(f\"¡{self.jugador2.nombre} gana la partida!\")\n",
    "\n",
    "p = Partida(Jugador(\"Juan\"), Jugador(\"Pedro\"))\n",
    "p.jugar()"
   ]
  }
 ],
 "metadata": {
  "kernelspec": {
   "display_name": "Python 3",
   "language": "python",
   "name": "python3"
  },
  "language_info": {
   "codemirror_mode": {
    "name": "ipython",
    "version": 3
   },
   "file_extension": ".py",
   "mimetype": "text/x-python",
   "name": "python",
   "nbconvert_exporter": "python",
   "pygments_lexer": "ipython3",
   "version": "3.12.6"
  }
 },
 "nbformat": 4,
 "nbformat_minor": 2
}
