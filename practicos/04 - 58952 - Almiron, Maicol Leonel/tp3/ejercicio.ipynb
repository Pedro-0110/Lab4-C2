{
 "cells": [
  {
   "cell_type": "markdown",
   "metadata": {},
   "source": [
    "#TP3"
   ]
  },
  {
   "cell_type": "markdown",
   "metadata": {},
   "source": [
    "## Ejercicio 1: Cargar Datos de ventas.\n",
    "\n",
    "El archivo datos.dat contiene el registro de las ventas realizadas.\n",
    "\n",
    "Tiene un formato de ancho fijo:\n",
    "- fecha:    10 lugares\n",
    "- producto: 30 lugares\n",
    "- precio:   10 lugares\n",
    "- cantidad:  5 lugares\n",
    "\n",
    "hacer una funcion que carge los en una lista de diccionarios. \n",
    "\n",
    "nota: con \n",
    "```python\n",
    "lineas = open(\"datos.dat\", \"r\").readlines() \n",
    "```\n",
    "puede obtener la lista de string de todos los datos "
   ]
  },
  {
   "cell_type": "code",
   "execution_count": null,
   "metadata": {},
   "outputs": [],
   "source": [
    "def cargar_datos():\n",
    "    lineas = open(\"datos.dat\", \"r\").readlines()\n",
    "    \n",
    "    datos = []\n",
    "    \n",
    "    for linea in lineas:\n",
    "        fecha = linea[0:10].strip()       \n",
    "        producto = linea[10:40].strip()   \n",
    "        precio = float(linea[40:50].strip())  \n",
    "        cantidad = int(linea[50:55].strip())  \n",
    "\n",
    "    \n",
    "        registro = {\n",
    "            \"fecha\": fecha,\n",
    "            \"producto\": producto,\n",
    "            \"precio\": precio,\n",
    "            \"cantidad\": cantidad\n",
    "        }\n",
    "        \n",
    "        \n",
    "        datos.append(registro)\n",
    "    \n",
    "    return datos\n",
    "\n",
    "datos = cargar_datos()\n",
    "for registro in datos:\n",
    "    print(registro)\n"
   ]
  },
  {
   "cell_type": "markdown",
   "metadata": {},
   "source": [
    "## Ejercicio 2: Calcular el total de ventas.\n",
    "\n",
    "Hacer una funcion que sume los importes vendidos (precio * cantidad) y las cantidades"
   ]
  },
  {
   "cell_type": "code",
   "execution_count": null,
   "metadata": {},
   "outputs": [],
   "source": [
    "def calcular_totales(datos):\n",
    "    total_importe = 0.0\n",
    "    total_cantidad = 0\n",
    "    \n",
    "    for venta in datos:\n",
    "        # Calcular el importe de cada venta\n",
    "        total_importe += venta[\"precio\"] * venta[\"cantidad\"]\n",
    "        # Sumar la cantidad de unidades vendidas\n",
    "        total_cantidad += venta[\"cantidad\"]\n",
    "    \n",
    "    return total_importe, total_cantidad\n",
    "\n",
    "# Ejemplo de uso:\n",
    "importe, cantidad = calcular_totales(datos)\n",
    "\n",
    "print(f\"Las ventas fueron de ${importe:.2f} en {cantidad} unidades\")\n"
   ]
  },
  {
   "cell_type": "markdown",
   "metadata": {},
   "source": [
    "## Ejercicio 3: Listar las unidades vendidas.\n",
    "\n",
    "Listar cuantas unidades se vendieron en total para cada producto"
   ]
  },
  {
   "cell_type": "code",
   "execution_count": null,
   "metadata": {},
   "outputs": [],
   "source": [
    "def unidades_vendidas(datos):\n",
    "    ventas_por_producto = {}\n",
    "    \n",
    "    for venta in datos:\n",
    "        producto = venta[\"producto\"]\n",
    "        cantidad = venta[\"cantidad\"]\n",
    "        \n",
    "   \n",
    "        if producto in ventas_por_producto:\n",
    "            ventas_por_producto[producto] += cantidad\n",
    "        else:\n",
    "            ventas_por_producto[producto] = cantidad\n",
    "    \n",
    "    return ventas_por_producto\n",
    "\n",
    "def listar_ventas(ventas):\n",
    "    for producto, cantidad in ventas.items():\n",
    "        print(f\"Producto: {producto}, Unidades vendidas: {cantidad}\")\n",
    "\n",
    "ventas = unidades_vendidas(datos)\n",
    "listar_ventas(ventas)\n"
   ]
  },
  {
   "cell_type": "markdown",
   "metadata": {},
   "source": [
    "##  Ejercicio 4: Listar el precio promedio por producto.\n",
    "\n",
    "Hacer un listado del precio promedio por productos."
   ]
  },
  {
   "cell_type": "code",
   "execution_count": null,
   "metadata": {},
   "outputs": [],
   "source": [
    "def precio_promedio(datos):\n",
    "    precios_por_producto = {}\n",
    "    cantidades_por_producto = {}\n",
    "    \n",
    "    for venta in datos:\n",
    "        producto = venta[\"producto\"]\n",
    "        precio = venta[\"precio\"]\n",
    "        cantidad = venta[\"cantidad\"]\n",
    "        \n",
    "        if producto in precios_por_producto:\n",
    "            precios_por_producto[producto] += precio * cantidad\n",
    "            cantidades_por_producto[producto] += cantidad\n",
    "        else:\n",
    "            precios_por_producto[producto] = precio * cantidad\n",
    "            cantidades_por_producto[producto] = cantidad\n",
    "    \n",
    "    promedio_por_producto = {}\n",
    "    for producto in precios_por_producto:\n",
    "        promedio_por_producto[producto] = precios_por_producto[producto] / cantidades_por_producto[producto]\n",
    "    \n",
    "    return promedio_por_producto\n",
    "\n",
    "def listar_precios(precios):\n",
    "    for producto, precio in precios.items():\n",
    "        print(f\"Producto: {producto}, Precio promedio: ${precio:.2f}\")\n",
    "\n",
    "precios = precio_promedio(datos)\n",
    "listar_precios(precios)\n"
   ]
  },
  {
   "cell_type": "markdown",
   "metadata": {},
   "source": [
    "### Ejercicio 5: Ranking de productos\n",
    "\n",
    "Realizar un listado de los 3 productos mas vendidos ordenados la cantidad de unidades vendidas (ordenadas de mayor a menor)\n"
   ]
  },
  {
   "cell_type": "code",
   "execution_count": null,
   "metadata": {},
   "outputs": [],
   "source": [
    "def ranking_productos(datos, top=3):\n",
    "    ventas_por_producto = {}\n",
    "    \n",
    "    for venta in datos:\n",
    "        producto = venta[\"producto\"]\n",
    "        cantidad = venta[\"cantidad\"]\n",
    "        \n",
    "        if producto in ventas_por_producto:\n",
    "            ventas_por_producto[producto] += cantidad\n",
    "        else:\n",
    "            ventas_por_producto[producto] = cantidad\n",
    "    \n",
    "    \n",
    "    ranking = []\n",
    "    for producto in ventas_por_producto:\n",
    "        ranking.append([producto, ventas_por_producto[producto]])\n",
    "    \n",
    "  \n",
    "    for i in range(len(ranking)):\n",
    "        for j in range(i + 1, len(ranking)):\n",
    "            if ranking[j][1] > ranking[i][1]:\n",
    "                ranking[i], ranking[j] = ranking[j], ranking[i]\n",
    "    \n",
    "    \n",
    "    return ranking[:top]\n",
    "\n",
    "def listar_ranking(ranking):\n",
    "    posicion = 1\n",
    "    for producto, cantidad in ranking:\n",
    "        print(f\"{posicion}. Producto: {producto}, Unidades vendidas: {cantidad}\")\n",
    "        posicion += 1\n",
    "\n",
    "\n",
    "ranking = ranking_productos(datos)\n",
    "listar_ranking(ranking)\n"
   ]
  },
  {
   "cell_type": "markdown",
   "metadata": {},
   "source": [
    "### Ejercicio 6: Listar las ventas por mes\n",
    "\n",
    "Realizar un listado del total de unidades vendidas por productos separada por mes."
   ]
  },
  {
   "cell_type": "code",
   "execution_count": null,
   "metadata": {},
   "outputs": [],
   "source": [
    "def ventas_por_mes(datos):\n",
    "    ventas_mensuales = {}\n",
    "    \n",
    "    for venta in datos:\n",
    "        fecha = venta[\"fecha\"]\n",
    "        mes = fecha[0:7] \n",
    "        cantidad = venta[\"cantidad\"]\n",
    "        \n",
    "        if mes in ventas_mensuales:\n",
    "            ventas_mensuales[mes] += cantidad\n",
    "        else:\n",
    "            ventas_mensuales[mes] = cantidad\n",
    "    \n",
    "    return ventas_mensuales\n",
    "\n",
    "def listar_ventas_mensuales(ventas):\n",
    "    for mes, cantidad in ventas.items():\n",
    "        print(f\"Mes: {mes}, Unidades vendidas: {cantidad}\")\n",
    "\n",
    "\n",
    "ventas = ventas_por_mes(datos)\n",
    "listar_ventas_mensuales(ventas)\n"
   ]
  },
  {
   "cell_type": "markdown",
   "metadata": {},
   "source": [
    "### Ejercicio 7: Informe general\n",
    "\n",
    "Mostrar un listado de productos ordenados alfabeticamente que contengan el precio promedio, la cantidad de unidades vendidas y el importe total vendido para cada producto"
   ]
  },
  {
   "cell_type": "code",
   "execution_count": null,
   "metadata": {},
   "outputs": [],
   "source": [
    "def resumen_ventas(datos):\n",
    "    resumen = {\n",
    "        \"total_importe\": 0.0,\n",
    "        \"total_cantidad\": 0,\n",
    "        \"ventas_por_producto\": {},\n",
    "        \"ventas_por_mes\": {}\n",
    "    }\n",
    "    \n",
    "    for venta in datos:\n",
    "        producto = venta[\"producto\"]\n",
    "        cantidad = venta[\"cantidad\"]\n",
    "        precio = venta[\"precio\"]\n",
    "        fecha = venta[\"fecha\"]\n",
    "        mes = fecha[0:7] \n",
    "        \n",
    "        \n",
    "        resumen[\"total_importe\"] += precio * cantidad\n",
    "        resumen[\"total_cantidad\"] += cantidad\n",
    "        \n",
    "        \n",
    "        if producto in resumen[\"ventas_por_producto\"]:\n",
    "            resumen[\"ventas_por_producto\"][producto] += cantidad\n",
    "        else:\n",
    "            resumen[\"ventas_por_producto\"][producto] = cantidad\n",
    "        \n",
    "        \n",
    "        if mes in resumen[\"ventas_por_mes\"]:\n",
    "            resumen[\"ventas_por_mes\"][mes] += cantidad\n",
    "        else:\n",
    "            resumen[\"ventas_por_mes\"][mes] = cantidad\n",
    "    \n",
    "    return resumen\n",
    "\n",
    "def informe_ventas(resumen):\n",
    "    print(f\"Total de ventas: ${resumen['total_importe']:.2f}\")\n",
    "    print(f\"Total de unidades vendidas: {resumen['total_cantidad']}\\n\")\n",
    "    \n",
    "    print(\"Ventas por producto:\")\n",
    "    for producto, cantidad in resumen[\"ventas_por_producto\"].items():\n",
    "        print(f\"  {producto}: {cantidad} unidades\")\n",
    "    \n",
    "    print(\"\\nVentas por mes:\")\n",
    "    for mes, cantidad in resumen[\"ventas_por_mes\"].items():\n",
    "        print(f\"  {mes}: {cantidad} unidades\")\n",
    "\n",
    "\n",
    "resumen = resumen_ventas(datos)\n",
    "informe_ventas(resumen)\n"
   ]
  }
 ],
 "metadata": {
  "kernelspec": {
   "display_name": "Python 3",
   "language": "python",
   "name": "python3"
  },
  "language_info": {
   "codemirror_mode": {
    "name": "ipython",
    "version": 3
   },
   "file_extension": ".py",
   "mimetype": "text/x-python",
   "name": "python",
   "nbconvert_exporter": "python",
   "pygments_lexer": "ipython3",
   "version": "3.12.5"
  }
 },
 "nbformat": 4,
 "nbformat_minor": 2
}
