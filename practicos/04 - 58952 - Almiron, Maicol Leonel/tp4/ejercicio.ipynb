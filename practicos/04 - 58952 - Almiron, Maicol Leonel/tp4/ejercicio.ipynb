{
 "cells": [
  {
   "cell_type": "markdown",
   "metadata": {},
   "source": [
    "# Simulación del Truco"
   ]
  },
  {
   "cell_type": "markdown",
   "metadata": {},
   "source": [
    "Las **cartas** deben registra el numero, palo y valor de la carta. \n",
    "El valor debe reflejar la jerarquía de las cartas en el juego del truco."
   ]
  },
  {
   "cell_type": "code",
   "execution_count": 3,
   "metadata": {},
   "outputs": [
    {
     "name": "stdout",
     "output_type": "stream",
     "text": [
      "Carta(1 de Oro, Valor: 8)\n"
     ]
    }
   ],
   "source": [
    "\n",
    "def calcular_valor(numero, palo):\n",
    "    jerarquia_truco = {\n",
    "        (1, 'Espada'): 14,\n",
    "        (1, 'Basto'): 13,\n",
    "        (7, 'Espada'): 12,\n",
    "        (7, 'Oro'): 11,\n",
    "        (3, 'Espada'): 10, (3, 'Basto'): 10, (3, 'Oro'): 10, (3, 'Copa'): 10,\n",
    "        (2, 'Espada'): 9, (2, 'Basto'): 9, (2, 'Oro'): 9, (2, 'Copa'): 9,\n",
    "        (1, 'Oro'): 8, (1, 'Copa'): 8,\n",
    "        (12, 'Espada'): 7, (12, 'Basto'): 7, (12, 'Oro'): 7, (12, 'Copa'): 7,\n",
    "        (11, 'Espada'): 6, (11, 'Basto'): 6, (11, 'Oro'): 6, (11, 'Copa'): 6,\n",
    "        (10, 'Espada'): 5, (10, 'Basto'): 5, (10, 'Oro'): 5, (10, 'Copa'): 5,\n",
    "        (7, 'Copa'): 4, (7, 'Basto'): 4,\n",
    "        (6, 'Espada'): 3, (6, 'Basto'): 3, (6, 'Oro'): 3, (6, 'Copa'): 3,\n",
    "        (5, 'Espada'): 2, (5, 'Basto'): 2, (5, 'Oro'): 2, (5, 'Copa'): 2,\n",
    "        (4, 'Espada'): 1, (4, 'Basto'): 1, (4, 'Oro'): 1, (4, 'Copa'): 1\n",
    "    }\n",
    "    return jerarquia_truco.get((numero, palo), 0) \n",
    "\n",
    "class Carta:\n",
    "    def __init__(self, numero, palo):\n",
    "        self.numero = numero\n",
    "        self.palo = palo\n",
    "        self.valor = calcular_valor(numero, palo)\n",
    "\n",
    "    def __repr__(self):\n",
    "        return f\"Carta({self.numero} de {self.palo}, Valor: {self.valor})\"\n",
    "\n",
    "\n",
    "c = Carta(1, \"Oro\")\n",
    "print(c) \n"
   ]
  },
  {
   "cell_type": "markdown",
   "metadata": {},
   "source": [
    "**Mazo**: Representan las cartas españolas de 1 al 12, en los palos de oro, copa, espada y basto.\n",
    "\n",
    "Debe existir una función que permita barajar las cartas.\n",
    "y otra función que permita repartir las cartas a los jugadores."
   ]
  },
  {
   "cell_type": "code",
   "execution_count": 4,
   "metadata": {},
   "outputs": [
    {
     "name": "stdout",
     "output_type": "stream",
     "text": [
      "[Carta(1 de Basto, Valor: 13), Carta(3 de Oro, Valor: 10), Carta(2 de Basto, Valor: 9)]\n"
     ]
    }
   ],
   "source": [
    "import random\n",
    "\n",
    "class Carta:\n",
    "    def __init__(self, numero, palo):\n",
    "        self.numero = numero\n",
    "        self.palo = palo\n",
    "        self.valor = calcular_valor(numero, palo)\n",
    "\n",
    "    def __repr__(self):\n",
    "        return f\"Carta({self.numero} de {self.palo}, Valor: {self.valor})\"\n",
    "\n",
    "def calcular_valor(numero, palo):\n",
    "    jerarquia_truco = {\n",
    "        (1, 'Espada'): 14,\n",
    "        (1, 'Basto'): 13,\n",
    "        (7, 'Espada'): 12,\n",
    "        (7, 'Oro'): 11,\n",
    "        (3, 'Espada'): 10, (3, 'Basto'): 10, (3, 'Oro'): 10, (3, 'Copa'): 10,\n",
    "        (2, 'Espada'): 9, (2, 'Basto'): 9, (2, 'Oro'): 9, (2, 'Copa'): 9,\n",
    "        (1, 'Oro'): 8, (1, 'Copa'): 8,\n",
    "        (12, 'Espada'): 7, (12, 'Basto'): 7, (12, 'Oro'): 7, (12, 'Copa'): 7,\n",
    "        (11, 'Espada'): 6, (11, 'Basto'): 6, (11, 'Oro'): 6, (11, 'Copa'): 6,\n",
    "        (10, 'Espada'): 5, (10, 'Basto'): 5, (10, 'Oro'): 5, (10, 'Copa'): 5,\n",
    "        (7, 'Copa'): 4, (7, 'Basto'): 4,\n",
    "        (6, 'Espada'): 3, (6, 'Basto'): 3, (6, 'Oro'): 3, (6, 'Copa'): 3,\n",
    "        (5, 'Espada'): 2, (5, 'Basto'): 2, (5, 'Oro'): 2, (5, 'Copa'): 2,\n",
    "        (4, 'Espada'): 1, (4, 'Basto'): 1, (4, 'Oro'): 1, (4, 'Copa'): 1\n",
    "    }\n",
    "    return jerarquia_truco.get((numero, palo), 0)\n",
    "\n",
    "class Mazo:\n",
    "    def __init__(self):\n",
    "        palos = ['Espada', 'Basto', 'Oro', 'Copa']\n",
    "        numeros = [1, 2, 3, 4, 5, 6, 7, 10, 11, 12]\n",
    "\n",
    "        self.cartas = [Carta(numero, palo) for palo in palos for numero in numeros]\n",
    "\n",
    "    def mezclar(self):\n",
    "        random.shuffle(self.cartas)\n",
    "\n",
    "    def repartir(self, cantidad):\n",
    "        if cantidad <= len(self.cartas):\n",
    "            mano = self.cartas[:cantidad]\n",
    "            self.cartas = self.cartas[cantidad:]\n",
    "            return mano\n",
    "        else:\n",
    "            return [] \n",
    "\n",
    "\n",
    "m = Mazo()\n",
    "m.mezclar()\n",
    "print(m.repartir(3)) \n"
   ]
  },
  {
   "cell_type": "markdown",
   "metadata": {},
   "source": [
    "**Jugador**: Deben tener un nombre y las cartas que tiene en la mano. Debe acumular los puntos ganados.\n",
    "\n",
    "Nota: Para simplificar el problema, el jugador elige la carta a jugar de forma aleatoria."
   ]
  },
  {
   "cell_type": "code",
   "execution_count": 5,
   "metadata": {},
   "outputs": [
    {
     "name": "stdout",
     "output_type": "stream",
     "text": [
      "Carta(11 de Oro, Valor: 6)\n",
      "[Carta(5 de Espada, Valor: 2), Carta(11 de Basto, Valor: 6)]\n"
     ]
    }
   ],
   "source": [
    "class Jugador:\n",
    "    def __init__(self, nombre):\n",
    "        self.nombre = nombre\n",
    "        self.mano = []\n",
    "\n",
    "    def recibir_cartas(self, cartas):\n",
    "        self.mano.extend(cartas)\n",
    "\n",
    "    def jugar_carta(self):\n",
    "        if self.mano:\n",
    "            return self.mano.pop(0)\n",
    "        else:\n",
    "            return None\n",
    "\n",
    "j = Jugador(\"Juan\")\n",
    "j.recibir_cartas(m.repartir(3))\n",
    "print(j.jugar_carta())\n",
    "print(j.mano)\n"
   ]
  },
  {
   "cell_type": "markdown",
   "metadata": {},
   "source": [
    "**Partida**: Debe tener dos jugadores, un mazo de cartas y un puntaje. Debe permitir jugar una carta por ronda y definir el ganador de la ronda. Debe permitir jugar hasta que se terminen las cartas del mazo."
   ]
  },
  {
   "cell_type": "code",
   "execution_count": 13,
   "metadata": {},
   "outputs": [
    {
     "name": "stdout",
     "output_type": "stream",
     "text": [
      "\n",
      "Nueva ronda:\n",
      "Juan juega: 10 de Basto\n",
      "Pedro juega: 11 de Copa\n",
      "Gana Pedro en esta ronda.\n",
      "Juan juega: 2 de Oro\n",
      "Pedro juega: 5 de Basto\n",
      "Gana Juan en esta ronda.\n",
      "Juan juega: 12 de Copa\n",
      "Pedro juega: 12 de Espada\n",
      "Empate en esta ronda.\n",
      "Puntuación actual: Juan: 1, Pedro: 1\n",
      "\n",
      "Nueva ronda:\n",
      "Juan juega: 3 de Oro\n",
      "Pedro juega: 12 de Basto\n",
      "Gana Juan en esta ronda.\n",
      "Juan juega: 11 de Oro\n",
      "Pedro juega: 12 de Oro\n",
      "Gana Pedro en esta ronda.\n",
      "Juan juega: 5 de Oro\n",
      "Pedro juega: 3 de Basto\n",
      "Gana Pedro en esta ronda.\n",
      "Puntuación actual: Juan: 2, Pedro: 3\n",
      "\n",
      "Nueva ronda:\n",
      "Juan juega: 7 de Basto\n",
      "Pedro juega: 5 de Espada\n",
      "Gana Juan en esta ronda.\n",
      "Juan juega: 10 de Oro\n",
      "Pedro juega: 7 de Espada\n",
      "Gana Pedro en esta ronda.\n",
      "Juan juega: 1 de Copa\n",
      "Pedro juega: 11 de Basto\n",
      "Gana Juan en esta ronda.\n",
      "Puntuación actual: Juan: 4, Pedro: 4\n",
      "\n",
      "Nueva ronda:\n",
      "Juan juega: 11 de Espada\n",
      "Pedro juega: 1 de Oro\n",
      "Gana Pedro en esta ronda.\n",
      "Juan juega: 2 de Copa\n",
      "Pedro juega: 6 de Oro\n",
      "Gana Juan en esta ronda.\n",
      "Juan juega: 5 de Copa\n",
      "Pedro juega: 4 de Copa\n",
      "Gana Juan en esta ronda.\n",
      "Puntuación actual: Juan: 6, Pedro: 5\n",
      "\n",
      "Nueva ronda:\n",
      "Juan juega: 1 de Basto\n",
      "Pedro juega: 7 de Copa\n",
      "Gana Juan en esta ronda.\n",
      "Juan juega: 4 de Espada\n",
      "Pedro juega: 10 de Copa\n",
      "Gana Pedro en esta ronda.\n",
      "Juan juega: 4 de Oro\n",
      "Pedro juega: 3 de Copa\n",
      "Gana Pedro en esta ronda.\n",
      "Puntuación actual: Juan: 7, Pedro: 7\n",
      "\n",
      "Nueva ronda:\n",
      "Juan juega: 6 de Basto\n",
      "Pedro juega: 3 de Espada\n",
      "Gana Pedro en esta ronda.\n",
      "Juan juega: 2 de Espada\n",
      "Pedro juega: 10 de Espada\n",
      "Gana Juan en esta ronda.\n",
      "Juan juega: 1 de Espada\n",
      "Pedro juega: 7 de Oro\n",
      "Gana Juan en esta ronda.\n",
      "Puntuación actual: Juan: 9, Pedro: 8\n",
      "\n",
      "Juan ganó la partida con 9 puntos\n"
     ]
    }
   ],
   "source": [
    "class Partida:\n",
    "    def __init__(self, jugador1, jugador2):\n",
    "        self.jugador1 = jugador1\n",
    "        self.jugador2 = jugador2\n",
    "        self.mazo = Mazo()\n",
    "        self.puntos_jugador1 = 0\n",
    "        self.puntos_jugador2 = 0\n",
    "\n",
    "    def jugar_ronda(self):\n",
    "        carta_jugador1 = self.jugador1.jugar_carta()\n",
    "        carta_jugador2 = self.jugador2.jugar_carta()\n",
    "\n",
    "        if carta_jugador1 is None or carta_jugador2 is None:\n",
    "            raise ValueError(\"Uno de los jugadores no tiene cartas para jugar.\")\n",
    "\n",
    "        print(f\"{self.jugador1.nombre} juega: {carta_jugador1.numero} de {carta_jugador1.palo}\")\n",
    "        print(f\"{self.jugador2.nombre} juega: {carta_jugador2.numero} de {carta_jugador2.palo}\")\n",
    "\n",
    "        if carta_jugador1.valor > carta_jugador2.valor:\n",
    "            print(f\"Gana {self.jugador1.nombre} en esta ronda.\")\n",
    "            return 1  # Gana el jugador 1\n",
    "        elif carta_jugador1.valor < carta_jugador2.valor:\n",
    "            print(f\"Gana {self.jugador2.nombre} en esta ronda.\")\n",
    "            return 2  # Gana el jugador 2\n",
    "        else:\n",
    "            print(\"Empate en esta ronda.\")\n",
    "            return 0  # Empate\n",
    "\n",
    "    def jugar(self):\n",
    "        self.mazo.mezclar()\n",
    "        total_cartas = len(self.mazo.cartas)\n",
    "\n",
    "        while total_cartas >= 6:\n",
    "            self.jugador1.recibir_cartas(self.mazo.repartir(3))\n",
    "            self.jugador2.recibir_cartas(self.mazo.repartir(3))\n",
    "            total_cartas -= 6\n",
    "\n",
    "            print(\"\\nNueva ronda:\")\n",
    "            for _ in range(3):\n",
    "                ganador_ronda = self.jugar_ronda()\n",
    "                if ganador_ronda == 1:\n",
    "                    self.puntos_jugador1 += 1\n",
    "                elif ganador_ronda == 2:\n",
    "                    self.puntos_jugador2 += 1\n",
    "\n",
    "            print(f\"Puntuación actual: {self.jugador1.nombre}: {self.puntos_jugador1}, {self.jugador2.nombre}: {self.puntos_jugador2}\")\n",
    "\n",
    "        if self.puntos_jugador1 > self.puntos_jugador2:\n",
    "            return f\"\\n{self.jugador1.nombre} ganó la partida con {self.puntos_jugador1} puntos\"\n",
    "        elif self.puntos_jugador2 > self.puntos_jugador1:\n",
    "            return f\"\\n{self.jugador2.nombre} ganó la partida con {self.puntos_jugador2} puntos\"\n",
    "        else:\n",
    "            return \"\\nLa partida terminó en empate\"\n",
    "\n",
    "# Ejemplo de uso\n",
    "p = Partida(Jugador(\"Juan\"), Jugador(\"Pedro\"))\n",
    "print(p.jugar())\n"
   ]
  }
 ],
 "metadata": {
  "kernelspec": {
   "display_name": "Python 3",
   "language": "python",
   "name": "python3"
  },
  "language_info": {
   "codemirror_mode": {
    "name": "ipython",
    "version": 3
   },
   "file_extension": ".py",
   "mimetype": "text/x-python",
   "name": "python",
   "nbconvert_exporter": "python",
   "pygments_lexer": "ipython3",
   "version": "3.12.5"
  }
 },
 "nbformat": 4,
 "nbformat_minor": 2
}
