{
 "cells": [
  {
   "cell_type": "markdown",
   "metadata": {},
   "source": [
    "# Simulación del Truco"
   ]
  },
  {
   "cell_type": "markdown",
   "metadata": {},
   "source": [
    "Las **cartas** deben registra el numero, palo y valor de la carta. \n",
    "El valor debe reflejar la jerarquía de las cartas en el juego del truco."
   ]
  },
  {
   "cell_type": "code",
   "execution_count": 2,
   "metadata": {},
   "outputs": [],
   "source": [
    "import random\n",
    "\n",
    "def calcular_valor(numero, palo):\n",
    "    jerarquia = {\n",
    "        (1, 'espada'): 14, (1, 'basto'): 13,\n",
    "        (7, 'espada'): 12, (7, 'oro'): 11,\n",
    "        (3, 'oro'): 10, (3, 'copa'): 10, (3, 'espada'): 10, (3, 'basto'): 10,\n",
    "        (2, 'oro'): 9, (2, 'copa'): 9, (2, 'espada'): 9, (2, 'basto'): 9,\n",
    "        (1, 'oro'): 8, (1, 'copa'): 8,\n",
    "        (12, 'oro'): 7, (12, 'copa'): 7, (12, 'espada'): 7, (12, 'basto'): 7,\n",
    "        (11, 'oro'): 6, (11, 'copa'): 6, (11, 'espada'): 6, (11, 'basto'): 6,\n",
    "        (10, 'oro'): 5, (10, 'copa'): 5, (10, 'espada'): 5, (10, 'basto'): 5,\n",
    "        (7, 'copa'): 4, (7, 'basto'): 4,\n",
    "        (6, 'oro'): 3, (6, 'copa'): 3, (6, 'espada'): 3, (6, 'basto'): 3,\n",
    "        (5, 'oro'): 2, (5, 'copa'): 2, (5, 'espada'): 2, (5, 'basto'): 2,\n",
    "        (4, 'oro'): 1, (4, 'copa'): 1, (4, 'espada'): 1, (4, 'basto'): 1\n",
    "    }\n",
    "    return jerarquia.get((numero, palo), 0)\n",
    "\n",
    "class Carta:\n",
    "    def __init__(self, numero, palo):\n",
    "        self.numero = numero\n",
    "        self.palo = palo\n",
    "        self.valor = calcular_valor(numero, palo)\n",
    "\n",
    "    def __repr__(self):\n",
    "        return f\"{self.numero} de {self.palo} (valor: {self.valor})\"\n",
    "\n",
    "c = Carta(1, \"oro\")\n"
   ]
  },
  {
   "cell_type": "markdown",
   "metadata": {},
   "source": [
    "**Mazo**: Representan las cartas españolas de 1 al 12, en los palos de oro, copa, espada y basto.\n",
    "\n",
    "Debe existir una función que permita barajar las cartas.\n",
    "y otra función que permita repartir las cartas a los jugadores."
   ]
  },
  {
   "cell_type": "code",
   "execution_count": 10,
   "metadata": {},
   "outputs": [
    {
     "name": "stdout",
     "output_type": "stream",
     "text": [
      "[3 de basto (valor: 10), 1 de oro (valor: 8), 2 de oro (valor: 9)]\n"
     ]
    }
   ],
   "source": [
    "import random\n",
    "\n",
    "class Mazo:\n",
    "    def __init__(self):\n",
    "        palos = ['oro', 'copa', 'espada', 'basto']\n",
    "        numeros = range(1, 13)\n",
    "        self.cartas = [Carta(numero, palo) for palo in palos for numero in numeros]\n",
    "\n",
    "    def mezclar(self):\n",
    "        random.shuffle(self.cartas)\n",
    "    def repartir(self, cantidad):\n",
    "        return [self.cartas.pop() for _ in range(cantidad)] if len(self.cartas) >= cantidad else None\n",
    "\n",
    "m = Mazo()\n",
    "m.mezclar()\n",
    "print(m.repartir(3))"
   ]
  },
  {
   "cell_type": "markdown",
   "metadata": {},
   "source": [
    "**Jugador**: Deben tener un nombre y las cartas que tiene en la mano. Debe acumular los puntos ganados.\n",
    "\n",
    "Nota: Para simplificar el problema, el jugador elige la carta a jugar de forma aleatoria."
   ]
  },
  {
   "cell_type": "code",
   "execution_count": 16,
   "metadata": {},
   "outputs": [
    {
     "name": "stdout",
     "output_type": "stream",
     "text": [
      "10 de oro (valor: 5)\n"
     ]
    }
   ],
   "source": [
    "class Jugador:\n",
    "    def __init__(self, nombre):\n",
    "        self.nombre = nombre\n",
    "        self.cartas = []\n",
    "        self.puntos = 0\n",
    "\n",
    "    def recibir_cartas(self, cartas):\n",
    "        self.cartas = cartas\n",
    "    \n",
    "    def jugar_carta(self):\n",
    "        if self.cartas:\n",
    "            return self.cartas.pop(random.randint(0, len(self.cartas) - 1))\n",
    "        return None\n",
    "    \n",
    "j = Jugador(\"Juan\")\n",
    "j.recibir_cartas(m.repartir(3))\n",
    "print(j.jugar_carta())"
   ]
  },
  {
   "cell_type": "markdown",
   "metadata": {},
   "source": [
    "**Partida**: Debe tener dos jugadores, un mazo de cartas y un puntaje. Debe permitir jugar una carta por ronda y definir el ganador de la ronda. Debe permitir jugar hasta que se terminen las cartas del mazo."
   ]
  },
  {
   "cell_type": "code",
   "execution_count": 17,
   "metadata": {},
   "outputs": [
    {
     "name": "stdout",
     "output_type": "stream",
     "text": [
      "Juan juega 12 de espada (valor: 7)\n",
      "Pedro juega 2 de espada (valor: 9)\n",
      "Pedro gana la ronda\n",
      "Juan juega 5 de copa (valor: 2)\n",
      "Pedro juega 2 de basto (valor: 9)\n",
      "Pedro gana la ronda\n",
      "Juan juega 9 de basto (valor: 0)\n",
      "Pedro juega 6 de basto (valor: 3)\n",
      "Pedro gana la ronda\n",
      "Juan juega 9 de oro (valor: 0)\n",
      "Pedro juega 10 de copa (valor: 5)\n",
      "Pedro gana la ronda\n",
      "Juan juega 1 de copa (valor: 8)\n",
      "Pedro juega 11 de copa (valor: 6)\n",
      "Juan gana la ronda\n",
      "Juan juega 6 de espada (valor: 3)\n",
      "Pedro juega 4 de espada (valor: 1)\n",
      "Juan gana la ronda\n",
      "Juan juega 11 de espada (valor: 6)\n",
      "Pedro juega 7 de espada (valor: 12)\n",
      "Pedro gana la ronda\n",
      "Juan juega 3 de espada (valor: 10)\n",
      "Pedro juega 8 de copa (valor: 0)\n",
      "Juan gana la ronda\n",
      "Juan juega 8 de oro (valor: 0)\n",
      "Pedro juega 9 de copa (valor: 0)\n",
      "Empate en la ronda\n",
      "Juan juega 2 de oro (valor: 9)\n",
      "Pedro juega 9 de espada (valor: 0)\n",
      "Juan gana la ronda\n",
      "Juan juega 12 de copa (valor: 7)\n",
      "Pedro juega 5 de espada (valor: 2)\n",
      "Juan gana la ronda\n",
      "Juan juega 3 de basto (valor: 10)\n",
      "Pedro juega 4 de oro (valor: 1)\n",
      "Juan gana la ronda\n",
      "Juan juega 6 de oro (valor: 3)\n",
      "Pedro juega 7 de oro (valor: 11)\n",
      "Pedro gana la ronda\n",
      "Juan juega 7 de basto (valor: 4)\n",
      "Pedro juega 11 de oro (valor: 6)\n",
      "Pedro gana la ronda\n",
      "Juan juega 10 de basto (valor: 5)\n",
      "Pedro juega 5 de oro (valor: 2)\n",
      "Juan gana la ronda\n",
      "Juan juega 7 de copa (valor: 4)\n",
      "Pedro juega 6 de copa (valor: 3)\n",
      "Juan gana la ronda\n",
      "Juan juega 1 de oro (valor: 8)\n",
      "Pedro juega 4 de basto (valor: 1)\n",
      "Juan gana la ronda\n",
      "Juan juega 12 de basto (valor: 7)\n",
      "Pedro juega 12 de oro (valor: 7)\n",
      "Empate en la ronda\n",
      "Juan juega 8 de basto (valor: 0)\n",
      "Pedro juega 10 de espada (valor: 5)\n",
      "Pedro gana la ronda\n",
      "Juan juega 3 de oro (valor: 10)\n",
      "Pedro juega 5 de basto (valor: 2)\n",
      "Juan gana la ronda\n",
      "Juan juega 3 de copa (valor: 10)\n",
      "Pedro juega 11 de basto (valor: 6)\n",
      "Juan gana la ronda\n",
      "Juan juega 4 de copa (valor: 1)\n",
      "Pedro juega 1 de espada (valor: 14)\n",
      "Pedro gana la ronda\n",
      "Juan juega 1 de basto (valor: 13)\n",
      "Pedro juega 10 de oro (valor: 5)\n",
      "Juan gana la ronda\n",
      "Juan juega 8 de espada (valor: 0)\n",
      "Pedro juega 2 de copa (valor: 9)\n",
      "Pedro gana la ronda\n",
      "Juan gana la partida\n"
     ]
    }
   ],
   "source": [
    "class Partida:\n",
    "    def __init__(self, jugador1, jugador2):\n",
    "        self.jugador1 = jugador1\n",
    "        self.jugador2 = jugador2\n",
    "        self.mazo = Mazo()\n",
    "    \n",
    "    def jugar_ronda(self):\n",
    "        carta_j1 = self.jugador1.jugar_carta()\n",
    "        carta_j2 = self.jugador2.jugar_carta()\n",
    "        print(f\"{self.jugador1.nombre} juega {carta_j1}\")\n",
    "        print(f\"{self.jugador2.nombre} juega {carta_j2}\")\n",
    "        \n",
    "        if carta_j1.valor > carta_j2.valor:\n",
    "            print(f\"{self.jugador1.nombre} gana la ronda\")\n",
    "            self.jugador1.puntos += 1\n",
    "        elif carta_j2.valor > carta_j1.valor:\n",
    "            print(f\"{self.jugador2.nombre} gana la ronda\")\n",
    "            self.jugador2.puntos += 1\n",
    "        else:\n",
    "            print(\"Empate en la ronda\")\n",
    "    \n",
    "    def jugar(self):\n",
    "        self.mazo.mezclar()\n",
    "        while self.jugador1.puntos < 15 and self.jugador2.puntos < 15 and len(self.mazo.cartas) >= 6:\n",
    "            self.jugador1.recibir_cartas(self.mazo.repartir(3))\n",
    "            self.jugador2.recibir_cartas(self.mazo.repartir(3))\n",
    "            \n",
    "            for _ in range(3):\n",
    "                self.jugar_ronda()\n",
    "        \n",
    "        if self.jugador1.puntos > self.jugador2.puntos:\n",
    "            print(f\"{self.jugador1.nombre} gana la partida\")\n",
    "        else:\n",
    "            print(f\"{self.jugador2.nombre} gana la partida\")\n",
    "\n",
    "\n",
    "p = Partida(Jugador(\"Juan\"), Jugador(\"Pedro\"))\n",
    "p.jugar()"
   ]
  }
 ],
 "metadata": {
  "kernelspec": {
   "display_name": "Python 3",
   "language": "python",
   "name": "python3"
  },
  "language_info": {
   "codemirror_mode": {
    "name": "ipython",
    "version": 3
   },
   "file_extension": ".py",
   "mimetype": "text/x-python",
   "name": "python",
   "nbconvert_exporter": "python",
   "pygments_lexer": "ipython3",
   "version": "3.12.5"
  }
 },
 "nbformat": 4,
 "nbformat_minor": 2
}
