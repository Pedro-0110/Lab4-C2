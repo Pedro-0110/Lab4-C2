{
 "cells": [
  {
   "cell_type": "markdown",
   "metadata": {},
   "source": [
    "# TP6\n",
    "\n",
    "### `Resolver usando Pandas`\n",
    "\n",
    "Resolver los ejercicios del TP3 utilizando la librería Pandas."
   ]
  },
  {
   "cell_type": "markdown",
   "metadata": {},
   "source": [
    "### Ejercicio 1: Cargar Datos de ventas.\n",
    "\n",
    "El archivo datos.dat contiene el registro de las ventas realizadas.\n",
    "\n",
    "Tiene un formato de ancho fijo:\n",
    "- `fecha`:    10 lugares\n",
    "- `producto`: 30 lugares\n",
    "- `precio`:   10 lugares\n",
    "- `cantidad`:  5 lugares\n",
    "\n",
    "Hacer una funcion que cargue los datos en un DataFrame de Pandas."
   ]
  },
  {
   "cell_type": "code",
   "execution_count": 1,
   "metadata": {},
   "outputs": [
    {
     "name": "stdout",
     "output_type": "stream",
     "text": [
      "         fecha    producto  precio  cantidad\n",
      "0   2024-08-27     Mirinda    1510        14\n",
      "1   2024-08-27     Mirinda    1560        12\n",
      "2   2024-08-28     Torasso     940         8\n",
      "3   2024-08-29  Pepsi Cola    1210        10\n",
      "4   2024-08-30     Mirinda    1520         1\n",
      "5   2024-09-01     Mirinda    1550        15\n",
      "6   2024-09-01      Sprite     810         4\n",
      "7   2024-09-02   Coca Cola    1100         4\n",
      "8   2024-09-02  Pepsi Cola    1220        13\n",
      "9   2024-09-02     Torasso     910         5\n",
      "10  2024-09-02     Torasso     920         3\n",
      "11  2024-09-03   Coca Cola    1020         8\n",
      "12  2024-09-03     Mirinda    1570         7\n",
      "13  2024-09-03     Mirinda    1590         2\n",
      "14  2024-09-04  Pepsi Cola    1220        13\n",
      "15  2024-09-05     Mirinda    1500         3\n",
      "16  2024-09-05  Pepsi Cola    1300         5\n",
      "17  2024-09-06   Coca Cola    1080         1\n",
      "18  2024-09-06      Sprite     860        12\n",
      "19  2024-09-06     Torasso     930         3\n",
      "20  2024-09-07   Coca Cola    1080        14\n",
      "21  2024-09-07      Sprite     870        13\n",
      "22  2024-09-08   Coca Cola    1040        10\n",
      "23  2024-09-08     Mirinda    1580         2\n",
      "24  2024-09-08  Pepsi Cola    1240         9\n",
      "25  2024-09-09     Mirinda    1500         3\n",
      "26  2024-09-09      Sprite     850         9\n",
      "27  2024-09-10     Mirinda    1590         8\n",
      "28  2024-09-10  Pepsi Cola    1250        12\n",
      "29  2024-09-11      Sprite     810         6\n",
      "30  2024-09-11      Sprite     820        14\n",
      "31  2024-09-12   Coca Cola    1080         4\n",
      "32  2024-09-13     Mirinda    1580         5\n",
      "33  2024-09-13  Pepsi Cola    1250        13\n",
      "34  2024-09-14   Coca Cola    1080        15\n",
      "35  2024-09-14  Pepsi Cola    1270        14\n",
      "36  2024-09-15   Coca Cola    1100         1\n",
      "37  2024-09-15     Mirinda    1500        13\n",
      "38  2024-09-15      Sprite     870        14\n",
      "39  2024-09-15     Torasso     900        13\n"
     ]
    }
   ],
   "source": [
    "import pandas as pd\n",
    "\n",
    "def cargar_datos(ruta = \"datos.dat\"):\n",
    "    colspecs = [(0, 10), (10,40), (40,50), (50,55)]\n",
    "    nombres = ['fecha', 'producto', 'precio', 'cantidad']\n",
    "\n",
    "    df = pd.read_fwf(ruta, colspecs=colspecs, names=nombres)\n",
    "\n",
    "    df['precio'] = pd.to_numeric(df['precio'], errors='coerce')\n",
    "    df['cantidad'] = pd.to_numeric(df['cantidad'], errors='coerce')\n",
    "\n",
    "    return df\n",
    "\n",
    "datos = cargar_datos()\n",
    "print(datos) "
   ]
  },
  {
   "cell_type": "markdown",
   "metadata": {},
   "source": [
    "### Ejercicio 2: Calcular el total de ventas.\n",
    "Hacer una función que sume los importes vendidos (precio * cantidad) y las cantidades.\n"
   ]
  },
  {
   "cell_type": "code",
   "execution_count": 6,
   "metadata": {},
   "outputs": [
    {
     "name": "stdout",
     "output_type": "stream",
     "text": [
      "Las ventas fueron de $0.00 en 335 unidades\n"
     ]
    }
   ],
   "source": [
    "def calcular_totales(datos):\n",
    "    \n",
    "    importe = (datos['precio'] * datos)['cantidad'].sum()\n",
    "\n",
    "    cantidad = datos['cantidad'].sum()\n",
    "\n",
    "    return importe, cantidad\n",
    "\n",
    "importe, cantidad = calcular_totales(datos)\n",
    "\n",
    "print(f\"Las ventas fueron de ${importe:.2f} en {cantidad} unidades\")"
   ]
  },
  {
   "cell_type": "markdown",
   "metadata": {},
   "source": [
    "### Ejercicio 3: Listar las unidades vendidas.\n",
    "Listar cuántas unidades se vendieron en total para cada producto\n"
   ]
  },
  {
   "cell_type": "code",
   "execution_count": 7,
   "metadata": {},
   "outputs": [
    {
     "name": "stdout",
     "output_type": "stream",
     "text": [
      "Unidades vendidas por producto:\n",
      "producto\n",
      "Coca Cola     57\n",
      "Mirinda       85\n",
      "Pepsi Cola    89\n",
      "Sprite        72\n",
      "Torasso       32\n",
      "Name: cantidad, dtype: int64\n"
     ]
    }
   ],
   "source": [
    "def unidades_vendidas(datos):\n",
    "    ventas_por_producto = datos.groupby('producto')['cantidad'].sum()\n",
    "\n",
    "    print(\"Unidades vendidas por producto:\")\n",
    "    print(ventas_por_producto)\n",
    "\n",
    "unidades_vendidas(datos)"
   ]
  },
  {
   "cell_type": "markdown",
   "metadata": {},
   "source": [
    "###  Ejercicio 4: Listar el precio promedio por producto.\n",
    "Hacer un listado del precio promedio por producto.\n"
   ]
  },
  {
   "cell_type": "code",
   "execution_count": 8,
   "metadata": {},
   "outputs": [
    {
     "name": "stdout",
     "output_type": "stream",
     "text": [
      "Precio promedio por producto:\n",
      "producto\n",
      "Coca Cola     1072.500000\n",
      "Mirinda       1545.833333\n",
      "Pepsi Cola    1245.000000\n",
      "Sprite         841.428571\n",
      "Torasso        920.000000\n",
      "Name: precio, dtype: float64\n"
     ]
    }
   ],
   "source": [
    "def precio_promedio(datos):\n",
    "    promedio_por_producto = datos.groupby('producto')['precio'].mean()\n",
    "\n",
    "    print(\"Precio promedio por producto:\")\n",
    "    print(promedio_por_producto)\n",
    "\n",
    "precio_promedio(datos)"
   ]
  },
  {
   "cell_type": "markdown",
   "metadata": {},
   "source": [
    "### Ejercicio 5: Ranking de productos\n",
    "Realizar un listado de los 3 productos más vendidos ordenados por la cantidad de unidades vendidas (ordenadas de mayor a menor)\n"
   ]
  },
  {
   "cell_type": "code",
   "execution_count": 9,
   "metadata": {},
   "outputs": [
    {
     "name": "stdout",
     "output_type": "stream",
     "text": [
      "Top 3 productos más vendidos:\n",
      "producto\n",
      "Pepsi Cola    89\n",
      "Mirinda       85\n",
      "Sprite        72\n",
      "Name: cantidad, dtype: int64\n"
     ]
    }
   ],
   "source": [
    "def ranking_productos(datos, top=3):\n",
    "    ventas_por_producto = datos.groupby('producto')['cantidad'].sum()\n",
    "\n",
    "    ranking = ventas_por_producto.sort_values(ascending = False).head(top)\n",
    "\n",
    "    print(f\"Top {top} productos más vendidos:\")\n",
    "    print(ranking)\n",
    "\n",
    "ranking_productos(datos)"
   ]
  },
  {
   "cell_type": "markdown",
   "metadata": {},
   "source": [
    "### Ejercicio 6: Listar las ventas por mes\n",
    "Realizar un listado del total de unidades vendidas por producto separado por mes.\n"
   ]
  },
  {
   "cell_type": "code",
   "execution_count": 10,
   "metadata": {},
   "outputs": [
    {
     "name": "stdout",
     "output_type": "stream",
     "text": [
      "Ventas por mes:\n",
      "mes      producto  \n",
      "2024-08  Mirinda       27\n",
      "         Pepsi Cola    10\n",
      "         Torasso        8\n",
      "2024-09  Coca Cola     57\n",
      "         Mirinda       58\n",
      "         Pepsi Cola    79\n",
      "         Sprite        72\n",
      "         Torasso       24\n",
      "Name: cantidad, dtype: int64\n"
     ]
    }
   ],
   "source": [
    "def ventas_por_mes(datos):\n",
    "    datos['fecha'] = pd.to_datetime(datos['fecha'], errors='coerce')\n",
    "\n",
    "    datos['mes'] = datos['fecha'].dt.to_period('M')\n",
    "\n",
    "    ventas_mensuales = datos.groupby(['mes', 'producto'])['cantidad'].sum()\n",
    "\n",
    "    print(\"Ventas por mes:\")\n",
    "    print(ventas_mensuales)\n",
    "\n",
    "ventas_por_mes(datos)"
   ]
  },
  {
   "cell_type": "markdown",
   "metadata": {},
   "source": [
    "### Ejercicio 7: Informe general\n",
    "\n",
    "Mostrar un listado de productos ordenados alfabeticamente que contengan el precio promedio, la cantidad de unidades vendidas y el importe total vendido para cada producto"
   ]
  },
  {
   "cell_type": "code",
   "execution_count": 11,
   "metadata": {},
   "outputs": [
    {
     "name": "stdout",
     "output_type": "stream",
     "text": [
      "Informe general de ventas:\n",
      "            Precio promedio  Unidades vendidas  Importe total\n",
      "producto                                                     \n",
      "Coca Cola       1072.500000                 57          60780\n",
      "Mirinda         1545.833333                 85         131080\n",
      "Pepsi Cola      1245.000000                 89         110510\n",
      "Sprite           841.428571                 72          61040\n",
      "Torasso          920.000000                 32          29320\n"
     ]
    }
   ],
   "source": [
    "def resumen_ventas(datos):\n",
    "    precio_promedio = datos.groupby('producto')['precio'].mean()\n",
    "\n",
    "    unidades_vendidas = datos.groupby('producto')['cantidad'].sum()\n",
    "\n",
    "    importe_total = (datos['precio'] * datos['cantidad']).groupby(datos['producto']).sum()\n",
    "\n",
    "    resumen = pd.DataFrame({\n",
    "        'Precio promedio': precio_promedio,\n",
    "        'Unidades vendidas': unidades_vendidas,\n",
    "        'Importe total': importe_total\n",
    "    }).sort_index()\n",
    "\n",
    "    print(\"Informe general de ventas:\")\n",
    "    print(resumen)\n",
    "\n",
    "resumen_ventas(datos)"
   ]
  },
  {
   "cell_type": "markdown",
   "metadata": {},
   "source": [
    "## `Resolver usando NumPy`\n",
    "## Resolver el ejercicio 2 del tp1 usando NumPy"
   ]
  },
  {
   "cell_type": "markdown",
   "metadata": {},
   "source": [
    "### Ejercicio 8\n",
    "\n",
    "Escribe una función en Python que encuentre los valores de `a`, `b`, y `c` para que la función cuadrática `f(x) = a x^2 + b x + c` pase exactamente por los siguientes puntos:\n",
    "\n",
    "| x  | y  |\n",
    "|---:|---:|\n",
    "|  0 |  0 |\n",
    "|  1 |  8 |\n",
    "|  2 | 12 |\n",
    "|  3 | 12 |\n",
    "|  5 |  0 |\n",
    "\n",
    "### Requisitos:\n",
    "- La función debe explorar posibles valores de `a`, `b`, y `c` utilizando un método de prueba y error.\n",
    "- Debe devolver los valores que hagan que la diferencia entre la función `f(x)` y los valores medidos `y` sea exactamente cero para cada punto.\n",
    "\n",
    "> **Pista**: Los valores de `a`, `b`, y `c` son números pequeños.\n",
    "\n",
    "La idea es implementar el mismo algoritmo que se uso en el TP1 pero usando NumPy en lugar de Python puro."
   ]
  },
  {
   "cell_type": "code",
   "execution_count": 16,
   "metadata": {},
   "outputs": [
    {
     "name": "stdout",
     "output_type": "stream",
     "text": [
      "Coeficientes encontrados: a=-2.0, b=10.0, c=-0.10101010101010033\n"
     ]
    }
   ],
   "source": [
    "import numpy as np\n",
    "def f(x, coeficientes):\n",
    "    a,b,c = coeficientes\n",
    "    return a*x**2 + b*x + c\n",
    "\n",
    "def error(y, y_pred):\n",
    "    return np.sum(np.abs(y - y_pred))\n",
    "\n",
    "X = np.array([0,1,2,3,5])\n",
    "Y = np.array([0,8,12,12,0])\n",
    "\n",
    "def buscar_coeficientes():\n",
    "    mejor_error = float('inf')\n",
    "    mejores_coef = None\n",
    "\n",
    "    for a in np.linspace(-2, 2, 100):\n",
    "        for b in np.linspace(-10, 10, 100):\n",
    "            for c in np.linspace(-10, 10, 100):\n",
    "                y_pred = f(X, (a,b,c))\n",
    "                e = error(Y, y_pred)\n",
    "\n",
    "                if e < mejor_error:\n",
    "                    mejor_error = e\n",
    "                    mejores_coef = (a,b,c)\n",
    "                \n",
    "                if e == 0:\n",
    "                    return mejores_coef\n",
    "    \n",
    "    return mejores_coef\n",
    "\n",
    "coeficientes = buscar_coeficientes()\n",
    "print(f\"Coeficientes encontrados: a={coeficientes[0]}, b={coeficientes[1]}, c={coeficientes[2]}\")"
   ]
  },
  {
   "cell_type": "markdown",
   "metadata": {},
   "source": [
    "### Ejercicio 9: Resolver el ejercicio 3 del TP1 usando NumPy\n",
    "Buscar los coeficientes de la función que minimice la suma de los cuadrados de las diferencias entre los valores medidos y los valores de la función.\n",
    "\n",
    "1. Crear un array con los coeficientes elegidos al azar (usar `randint(-10,10,3)`).\n",
    "2. Calcular el valor de la función y el error correspondiente.\n",
    "3. Mientras que el error sea mayor a 1:\n",
    "    1. Definir nuevos coeficientes agregándoles un pequeño valor al azar a los coeficientes actuales (aprendizaje = 0.001).\n",
    "    2. Si el error para los nuevos coeficientes es menor que el anterior, reemplazar los coeficientes actuales por los nuevos.\n"
   ]
  },
  {
   "cell_type": "code",
   "execution_count": 19,
   "metadata": {},
   "outputs": [
    {
     "name": "stdout",
     "output_type": "stream",
     "text": [
      "Coeficientes encontrados: a = -1.7799, b = 8.9618, c = 0.6258\n"
     ]
    }
   ],
   "source": [
    "import numpy as np\n",
    "from numpy.random import randint\n",
    "\n",
    "def f(x, coeficientes):\n",
    "    a,b,c = coeficientes\n",
    "    return a*x**2 + b*x + c\n",
    "\n",
    "def error(y, y_pred):\n",
    "    return np.sum((y - y_pred)**2)\n",
    "\n",
    "X = np.array([0, 1, 2, 3, 5])\n",
    "Y = np.array([0, 8,12,11, 1]) # Observar que no son los mismos valores que en el ejemplo anterior\n",
    "\n",
    "def buscar_coeficientes():\n",
    "    coeficientes = randint(-10,10,3)\n",
    "    mejor_error = error(Y, f(X, coeficientes))\n",
    "\n",
    "    aprendizaje = 0.001\n",
    "\n",
    "    while mejor_error > 1:\n",
    "        nuevos_coef = coeficientes + aprendizaje * np.random.randn(3)\n",
    "\n",
    "        nuevos_error = error(Y, f(X, nuevos_coef))\n",
    "\n",
    "        if nuevos_error < mejor_error:\n",
    "            coeficientes = nuevos_coef\n",
    "            mejor_error = nuevos_error\n",
    "    \n",
    "    return coeficientes\n",
    "\n",
    "\n",
    "coeficientes = buscar_coeficientes()\n",
    "print(f\"Coeficientes encontrados: a = {coeficientes[0]:.4f}, b = {coeficientes[1]:.4f}, c = {coeficientes[2]:.4f}\")"
   ]
  }
 ],
 "metadata": {
  "kernelspec": {
   "display_name": "Python 3",
   "language": "python",
   "name": "python3"
  },
  "language_info": {
   "codemirror_mode": {
    "name": "ipython",
    "version": 3
   },
   "file_extension": ".py",
   "mimetype": "text/x-python",
   "name": "python",
   "nbconvert_exporter": "python",
   "pygments_lexer": "ipython3",
   "version": "3.12.5"
  }
 },
 "nbformat": 4,
 "nbformat_minor": 2
}
