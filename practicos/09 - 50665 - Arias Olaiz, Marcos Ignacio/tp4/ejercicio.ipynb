{
 "cells": [
  {
   "cell_type": "markdown",
   "metadata": {},
   "source": [
    "# Simulación del Truco"
   ]
  },
  {
   "cell_type": "markdown",
   "metadata": {},
   "source": [
    "Las **cartas** deben registra el numero, palo y valor de la carta. \n",
    "El valor debe reflejar la jerarquía de las cartas en el juego del truco."
   ]
  },
  {
   "cell_type": "code",
   "execution_count": 1,
   "metadata": {},
   "outputs": [
    {
     "name": "stdout",
     "output_type": "stream",
     "text": [
      "El 1 de espada tiene un valor de: 14\n"
     ]
    }
   ],
   "source": [
    "def calcular_valor(numero, palo):\n",
    "    jerarquia = {\n",
    "        ('1', 'espada'): 14, ('1', 'basto'): 13, ('7', 'espada'): 12, ('7', 'oro'): 11,\n",
    "        ('3', 'oro'): 10, ('3', 'copa'): 10, ('3', 'espada'): 10, ('3', 'basto'): 10,\n",
    "        ('2', 'oro'): 9, ('2', 'copa'): 9, ('2', 'espada'): 9, ('2', 'basto'): 9,\n",
    "        ('1', 'oro'): 8, ('1', 'copa'): 8,\n",
    "        ('12', 'oro'): 7, ('12', 'copa'): 7, ('12', 'espada'): 7, ('12', 'basto'): 7,\n",
    "        ('11', 'oro'): 6, ('11', 'copa'): 6, ('11', 'espada'): 6, ('11', 'basto'): 6,\n",
    "        ('10', 'oro'): 5, ('10', 'copa'): 5, ('10', 'espada'): 5, ('10', 'basto'): 5,\n",
    "        ('7', 'copa'): 4, ('7', 'basto'): 4,\n",
    "        ('6', 'oro'): 3, ('6', 'copa'): 3, ('6', 'espada'): 3, ('6', 'basto'): 3,\n",
    "        ('5', 'oro'): 2, ('5', 'copa'): 2, ('5', 'espada'): 2, ('5', 'basto'): 2,\n",
    "        ('4', 'oro'): 1, ('4', 'copa'): 1, ('4', 'espada'): 1, ('4', 'basto'): 1\n",
    "    }\n",
    "    return jerarquia.get((str(numero), palo), 0)\n",
    "\n",
    "class Carta:\n",
    "    def __init__(self, numero, palo):\n",
    "        self.numero = numero\n",
    "        self.palo = palo\n",
    "        self.valor = calcular_valor(numero, palo)\n",
    "\n",
    "    def __repr__(self):\n",
    "        return f\"{self.numero} de {self.palo} (valor: {self.valor})\"\n",
    "\n",
    "c = Carta(1, \"espada\")\n",
    "print(f\"El {c.numero} de {c.palo} tiene un valor de: {c.valor}\")"
   ]
  },
  {
   "cell_type": "markdown",
   "metadata": {},
   "source": [
    "**Mazo**: Representan las cartas españolas de 1 al 12, en los palos de oro, copa, espada y basto.\n",
    "\n",
    "Debe existir una función que permita barajar las cartas.\n",
    "y otra función que permita repartir las cartas a los jugadores."
   ]
  },
  {
   "cell_type": "code",
   "execution_count": 2,
   "metadata": {},
   "outputs": [
    {
     "name": "stdout",
     "output_type": "stream",
     "text": [
      "[5 de oro (valor: 2), 2 de copa (valor: 9), 12 de copa (valor: 7)]\n"
     ]
    }
   ],
   "source": [
    "import random\n",
    "\n",
    "class Mazo:\n",
    "    def __init__(self):\n",
    "        self.cartas = [Carta(numero, palo) \n",
    "                       for numero in list(range(1, 8)) + list(range(10, 13)) \n",
    "                       for palo in ['oro', 'copa', 'espada', 'basto']]\n",
    "    \n",
    "    def mezclar(self):\n",
    "        random.shuffle(self.cartas)\n",
    "    \n",
    "    def repartir(self, cantidad):\n",
    "        return [self.cartas.pop() for _ in range(cantidad)]\n",
    "\n",
    "m = Mazo()\n",
    "m.mezclar()\n",
    "print(m.repartir(3))  "
   ]
  },
  {
   "cell_type": "markdown",
   "metadata": {},
   "source": [
    "**Jugador**: Deben tener un nombre y las cartas que tiene en la mano. Debe acumular los puntos ganados.\n",
    "\n",
    "Nota: Para simplificar el problema, el jugador elige la carta a jugar de forma aleatoria."
   ]
  },
  {
   "cell_type": "code",
   "execution_count": 46,
   "metadata": {},
   "outputs": [
    {
     "name": "stdout",
     "output_type": "stream",
     "text": [
      "Juan recibió las cartas [12 de basto (valor: 7), 12 de espada (valor: 7), 12 de copa (valor: 7)] y tiene 21 puntos en total\n"
     ]
    }
   ],
   "source": [
    "import random\n",
    "\n",
    "class Jugador:\n",
    "    \n",
    "    def __init__(self, nombre):\n",
    "        self.nombre = nombre\n",
    "        self.puntos = 0\n",
    "        self.cartas = []\n",
    "        \n",
    "    def recibir_cartas(self, cartas):\n",
    "        self.cartas = cartas\n",
    "        puntos = 0\n",
    "        for carta in cartas:\n",
    "            puntos += carta.valor\n",
    "        print(f\"{self.nombre} recibió las cartas {cartas} y tiene {puntos} puntos en total\")\n",
    "\n",
    "    def jugar_carta(self):\n",
    "        return self.cartas.pop()\n",
    "\n",
    "c = Carta(1, \"espada\")\n",
    "m = Mazo()\n",
    "j = Jugador(\"Juan\")\n",
    "j.recibir_cartas(m.repartir(3))"
   ]
  },
  {
   "cell_type": "markdown",
   "metadata": {},
   "source": [
    "**Partida**: Debe tener dos jugadores, un mazo de cartas y un puntaje. Debe permitir jugar una carta por ronda y definir el ganador de la ronda. Debe permitir jugar hasta que se terminen las cartas del mazo."
   ]
  },
  {
   "cell_type": "code",
   "execution_count": 47,
   "metadata": {},
   "outputs": [
    {
     "name": "stdout",
     "output_type": "stream",
     "text": [
      "Juan recibió las cartas [2 de copa (valor: 9), 11 de oro (valor: 6), 6 de espada (valor: 3)] y tiene 18 puntos en total\n",
      "Pedro recibió las cartas [5 de espada (valor: 2), 1 de copa (valor: 8), 11 de basto (valor: 6)] y tiene 16 puntos en total\n",
      "Juan jugó 6 de espada (valor: 3), Pedro jugó 11 de basto (valor: 6)\n",
      "El ganador de la ronda es Pedro\n",
      "Rondas jugadas: 1\n",
      "Puntos de Juan: 0\n",
      "Puntos de Pedro: 1\n",
      "Juan recibió las cartas [2 de basto (valor: 9), 6 de copa (valor: 3), 1 de basto (valor: 13)] y tiene 25 puntos en total\n",
      "Pedro recibió las cartas [5 de basto (valor: 2), 7 de copa (valor: 4), 1 de oro (valor: 8)] y tiene 14 puntos en total\n",
      "Juan jugó 1 de basto (valor: 13), Pedro jugó 1 de oro (valor: 8)\n",
      "El ganador de la ronda es Juan\n",
      "Rondas jugadas: 2\n",
      "Puntos de Juan: 1\n",
      "Puntos de Pedro: 1\n",
      "Juan recibió las cartas [7 de oro (valor: 11), 4 de copa (valor: 1), 12 de oro (valor: 7)] y tiene 19 puntos en total\n",
      "Pedro recibió las cartas [2 de espada (valor: 9), 12 de basto (valor: 7), 11 de espada (valor: 6)] y tiene 22 puntos en total\n",
      "Juan jugó 12 de oro (valor: 7), Pedro jugó 11 de espada (valor: 6)\n",
      "El ganador de la ronda es Juan\n",
      "Rondas jugadas: 3\n",
      "Puntos de Juan: 2\n",
      "Puntos de Pedro: 1\n",
      "La partida ha terminado sin un ganador claro.\n"
     ]
    }
   ],
   "source": [
    "class Partida:\n",
    "    def __init__(self, jugador1, jugador2):\n",
    "        self.jugador1 = jugador1\n",
    "        self.jugador2 = jugador2\n",
    "        self.mazo = Mazo()  # Mazo de cartas\n",
    "        self.rondas = 0\n",
    "    \n",
    "    def jugar_ronda(self):\n",
    "        carta_jugador1 = self.jugador1.jugar_carta()\n",
    "        carta_jugador2 = self.jugador2.jugar_carta()\n",
    "\n",
    "        if not carta_jugador1 or not carta_jugador2:\n",
    "            print(\"No hay más cartas para jugar.\")\n",
    "            return None\n",
    "\n",
    "        print(f\"{self.jugador1.nombre} jugó {carta_jugador1}, {self.jugador2.nombre} jugó {carta_jugador2}\")\n",
    "\n",
    "        if carta_jugador1.valor > carta_jugador2.valor:\n",
    "            return self.jugador1\n",
    "        elif carta_jugador2.valor > carta_jugador1.valor:\n",
    "            return self.jugador2\n",
    "        else:\n",
    "            return None\n",
    "    \n",
    "    def jugar(self):\n",
    "        self.mazo.mezclar()  # Mezclar el mazo antes de comenzar\n",
    "\n",
    "        while self.rondas < 3 and all([self.jugador1.puntos < 15, self.jugador2.puntos < 15]):\n",
    "            # Repartir 3 cartas a cada jugador\n",
    "            self.jugador1.recibir_cartas(self.mazo.repartir(3))\n",
    "            self.jugador2.recibir_cartas(self.mazo.repartir(3))\n",
    "            \n",
    "            # Jugar la ronda\n",
    "            ganador = self.jugar_ronda()\n",
    "\n",
    "            if ganador:\n",
    "                ganador.puntos += 1\n",
    "                print(f\"El ganador de la ronda es {ganador.nombre}\")\n",
    "            else:\n",
    "                print(\"Empate\")\n",
    "            \n",
    "            self.rondas += 1\n",
    "            print(f\"Rondas jugadas: {self.rondas}\")\n",
    "            print(f\"Puntos de {self.jugador1.nombre}: {self.jugador1.puntos}\")\n",
    "            print(f\"Puntos de {self.jugador2.nombre}: {self.jugador2.puntos}\")\n",
    "        \n",
    "        if self.jugador1.puntos >= 15:\n",
    "            print(f\"{self.jugador1.nombre} ha ganado la partida con {self.jugador1.puntos} puntos.\")\n",
    "        elif self.jugador2.puntos >= 15:\n",
    "            print(f\"{self.jugador2.nombre} ha ganado la partida con {self.jugador2.puntos} puntos.\")\n",
    "        else:\n",
    "            print(\"La partida ha terminado sin un ganador claro.\")\n",
    "\n",
    "# Ejemplo de uso\n",
    "p = Partida(Jugador(\"Juan\"), Jugador(\"Pedro\"))\n",
    "p.jugar()"
   ]
  }
 ],
 "metadata": {
  "kernelspec": {
   "display_name": "Python 3",
   "language": "python",
   "name": "python3"
  },
  "language_info": {
   "codemirror_mode": {
    "name": "ipython",
    "version": 3
   },
   "file_extension": ".py",
   "mimetype": "text/x-python",
   "name": "python",
   "nbconvert_exporter": "python",
   "pygments_lexer": "ipython3",
   "version": "3.12.5"
  }
 },
 "nbformat": 4,
 "nbformat_minor": 2
}
