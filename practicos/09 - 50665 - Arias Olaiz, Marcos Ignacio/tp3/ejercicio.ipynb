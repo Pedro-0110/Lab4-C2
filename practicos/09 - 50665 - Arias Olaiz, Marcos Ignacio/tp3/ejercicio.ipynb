{
 "cells": [
  {
   "cell_type": "markdown",
   "metadata": {},
   "source": [
    "#TP3"
   ]
  },
  {
   "cell_type": "markdown",
   "metadata": {},
   "source": [
    "## Ejercicio 1: Cargar Datos de ventas.\n",
    "\n",
    "El archivo datos.dat contiene el registro de las ventas realizadas.\n",
    "\n",
    "Tiene un formato de ancho fijo:\n",
    "- fecha:    10 lugares\n",
    "- producto: 30 lugares\n",
    "- precio:   10 lugares\n",
    "- cantidad:  5 lugares\n",
    "\n",
    "hacer una funcion que carge los en una lista de diccionarios. \n",
    "\n",
    "nota: con \n",
    "```python\n",
    "lineas = open(\"datos.dat\", \"r\").readlines() \n",
    "```\n",
    "puede obtener la lista de string de todos los datos "
   ]
  },
  {
   "cell_type": "code",
   "execution_count": 1,
   "metadata": {},
   "outputs": [],
   "source": [
    "def cargar_datos():\n",
    "    lineas = open(\"datos.dat\", \"r\").readlines()\n",
    "    \n",
    "    datos = []\n",
    "    \n",
    "    for linea in lineas:\n",
    "        fecha = linea[0:10].strip()  \n",
    "        producto = linea[10:40].strip()  \n",
    "        precio = float(linea[40:50].strip()) \n",
    "        cantidad = int(linea[50:55].strip()) \n",
    "\n",
    "        registro = {\n",
    "            \"fecha\": fecha,\n",
    "            \"producto\": producto,\n",
    "            \"precio\": precio,\n",
    "            \"cantidad\": cantidad\n",
    "        }\n",
    "        \n",
    "        datos.append(registro)\n",
    "    \n",
    "    return datos"
   ]
  },
  {
   "cell_type": "markdown",
   "metadata": {},
   "source": [
    "## Ejercicio 2: Calcular el total de ventas.\n",
    "\n",
    "Hacer una funcion que sume los importes vendidos (precio * cantidad) y las cantidades"
   ]
  },
  {
   "cell_type": "code",
   "execution_count": 2,
   "metadata": {},
   "outputs": [
    {
     "name": "stdout",
     "output_type": "stream",
     "text": [
      "Las ventas fueron de $392730.00 en 335 unidades\n"
     ]
    }
   ],
   "source": [
    "def calcular_totales(datos):\n",
    "    total_importe = 0\n",
    "    total_cantidad = 0\n",
    "    \n",
    "    for registro in datos:\n",
    "        importe = registro['precio'] * registro['cantidad']\n",
    "        total_importe += importe\n",
    "        total_cantidad += registro['cantidad']\n",
    "    \n",
    "    return total_importe, total_cantidad\n",
    "  \n",
    "  \n",
    "datos = cargar_datos()\n",
    "\n",
    "  \n",
    "importe, cantidad = calcular_totales(datos)\n",
    "\n",
    "print(f\"Las ventas fueron de ${importe:.2f} en {cantidad} unidades\")\n"
   ]
  },
  {
   "cell_type": "markdown",
   "metadata": {},
   "source": [
    "## Ejercicio 3: Listar las unidades vendidas.\n",
    "\n",
    "Listar cuantas unidades se vendieron en total para cada producto"
   ]
  },
  {
   "cell_type": "code",
   "execution_count": 3,
   "metadata": {},
   "outputs": [
    {
     "name": "stdout",
     "output_type": "stream",
     "text": [
      "Producto: Mirinda, Unidades vendidas: 85\n",
      "Producto: Torasso, Unidades vendidas: 32\n",
      "Producto: Pepsi Cola, Unidades vendidas: 89\n",
      "Producto: Sprite, Unidades vendidas: 72\n",
      "Producto: Coca Cola, Unidades vendidas: 57\n"
     ]
    }
   ],
   "source": [
    "def unidades_vendidas(datos):\n",
    "    ventas_por_producto = {}\n",
    "    \n",
    "    for registro in datos:\n",
    "        producto = registro['producto']\n",
    "        cantidad = registro['cantidad']\n",
    "        \n",
    "        if producto in ventas_por_producto:\n",
    "            ventas_por_producto[producto] += cantidad\n",
    "        else:\n",
    "            ventas_por_producto[producto] = cantidad\n",
    "    \n",
    "    return ventas_por_producto\n",
    "\n",
    "def listar_ventas(ventas):\n",
    "    for producto, cantidad in ventas.items():\n",
    "        print(f\"Producto: {producto}, Unidades vendidas: {cantidad}\")\n",
    "\n",
    "datos = cargar_datos()\n",
    "ventas = unidades_vendidas(datos)\n",
    "listar_ventas(ventas)"
   ]
  },
  {
   "cell_type": "markdown",
   "metadata": {},
   "source": [
    "##  Ejercicio 4: Listar el precio promedio por producto.\n",
    "\n",
    "Hacer un listado del precio promedio por productos."
   ]
  },
  {
   "cell_type": "code",
   "execution_count": 4,
   "metadata": {},
   "outputs": [
    {
     "name": "stdout",
     "output_type": "stream",
     "text": [
      "Producto: Mirinda, Precio promedio: $1545.83\n",
      "Producto: Torasso, Precio promedio: $920.00\n",
      "Producto: Pepsi Cola, Precio promedio: $1245.00\n",
      "Producto: Sprite, Precio promedio: $841.43\n",
      "Producto: Coca Cola, Precio promedio: $1072.50\n"
     ]
    }
   ],
   "source": [
    "def precio_promedio(datos):\n",
    "    precios_por_producto = {}\n",
    "    \n",
    "    for registro in datos:\n",
    "        producto = registro['producto']\n",
    "        precio = registro['precio']\n",
    "        \n",
    "        if producto in precios_por_producto:\n",
    "            precios_por_producto[producto]['suma_precios'] += precio\n",
    "            precios_por_producto[producto]['conteo'] += 1\n",
    "        else:\n",
    "            precios_por_producto[producto] = {'suma_precios': precio, 'conteo': 1}\n",
    "    \n",
    "    promedio_por_producto = {producto: info['suma_precios'] / info['conteo'] \n",
    "                             for producto, info in precios_por_producto.items()}\n",
    "    \n",
    "    return promedio_por_producto\n",
    "\n",
    "def listar_precios(precios):\n",
    "    for producto, promedio in precios.items():\n",
    "        print(f\"Producto: {producto}, Precio promedio: ${promedio:.2f}\")\n",
    "\n",
    "datos = cargar_datos()\n",
    "precios = precio_promedio(datos)\n",
    "listar_precios(precios)"
   ]
  },
  {
   "cell_type": "markdown",
   "metadata": {},
   "source": [
    "### Ejercicio 5: Ranking de productos\n",
    "\n",
    "Realizar un listado de los 3 productos mas vendidos ordenados la cantidad de unidades vendidas (ordenadas de mayor a menor)\n"
   ]
  },
  {
   "cell_type": "code",
   "execution_count": 5,
   "metadata": {},
   "outputs": [
    {
     "name": "stdout",
     "output_type": "stream",
     "text": [
      "1. Producto: Pepsi Cola, Unidades vendidas: 89\n",
      "2. Producto: Mirinda, Unidades vendidas: 85\n",
      "3. Producto: Sprite, Unidades vendidas: 72\n"
     ]
    }
   ],
   "source": [
    "def ranking_productos(datos, top):\n",
    "    ventas_por_producto = unidades_vendidas(datos)\n",
    "    \n",
    "    ranking = sorted(ventas_por_producto.items(), key=lambda item: item[1], reverse=True)\n",
    "    \n",
    "    return ranking[:top]\n",
    "\n",
    "def listar_ranking(ranking):\n",
    "    for idx, (producto, cantidad) in enumerate(ranking, start=1):\n",
    "        print(f\"{idx}. Producto: {producto}, Unidades vendidas: {cantidad}\")\n",
    "\n",
    "ranking = ranking_productos(datos, 3)\n",
    "listar_ranking(ranking)"
   ]
  },
  {
   "cell_type": "markdown",
   "metadata": {},
   "source": [
    "### Ejercicio 6: Listar las ventas por mes\n",
    "\n",
    "Realizar un listado del total de unidades vendidas por productos separada por mes."
   ]
  },
  {
   "cell_type": "code",
   "execution_count": 6,
   "metadata": {},
   "outputs": [
    {
     "name": "stdout",
     "output_type": "stream",
     "text": [
      "Ventas mensuales:\n",
      "Mes 2024-08: 45 unidades\n",
      "Mes 2024-09: 290 unidades\n"
     ]
    }
   ],
   "source": [
    "def ventas_por_mes(datos):\n",
    "    ventas_por_mes = {}\n",
    "    \n",
    "    # Recorremos cada venta en los datos\n",
    "    for venta in datos:\n",
    "        # Extraemos el mes en formato 'YYYY-MM'\n",
    "        mes = venta['fecha'][:7]  # Extrae los primeros 7 caracteres (YYYY-MM)\n",
    "\n",
    "        # Si el mes ya está en el diccionario, actualizamos la cantidad de ventas\n",
    "        if mes in ventas_por_mes:\n",
    "            ventas_por_mes[mes] += venta['cantidad']\n",
    "        else:\n",
    "            # Si el mes no está en el diccionario, lo inicializamos con la cantidad actual\n",
    "            ventas_por_mes[mes] = venta['cantidad']\n",
    "    \n",
    "    return ventas_por_mes\n",
    "\n",
    "def listar_ventas_mensuales(ventas):\n",
    "    print(\"Ventas mensuales:\")\n",
    "    # Iteramos sobre los items del diccionario\n",
    "    for mes, cantidad in sorted(ventas.items()):\n",
    "        print(f\"Mes {mes}: {cantidad} unidades\")\n",
    "\n",
    "# Ejemplo de uso\n",
    "datos = cargar_datos()  # Asegúrate de que esta función esté definida\n",
    "ventas = ventas_por_mes(datos)\n",
    "listar_ventas_mensuales(ventas)"
   ]
  },
  {
   "cell_type": "markdown",
   "metadata": {},
   "source": [
    "### Ejercicio 7: Informe general\n",
    "\n",
    "Mostrar un listado de productos ordenados alfabeticamente que contengan el precio promedio, la cantidad de unidades vendidas y el importe total vendido para cada producto"
   ]
  },
  {
   "cell_type": "code",
   "execution_count": 8,
   "metadata": {},
   "outputs": [
    {
     "name": "stdout",
     "output_type": "stream",
     "text": [
      "Producto: Coca Cola\n",
      "  Precio promedio: $1072.50\n",
      "  Unidades vendidas: 57\n",
      "  Importe total: $60780.00\n",
      "\n",
      "Producto: Mirinda\n",
      "  Precio promedio: $1545.83\n",
      "  Unidades vendidas: 85\n",
      "  Importe total: $131080.00\n",
      "\n",
      "Producto: Pepsi Cola\n",
      "  Precio promedio: $1245.00\n",
      "  Unidades vendidas: 89\n",
      "  Importe total: $110510.00\n",
      "\n",
      "Producto: Sprite\n",
      "  Precio promedio: $841.43\n",
      "  Unidades vendidas: 72\n",
      "  Importe total: $61040.00\n",
      "\n",
      "Producto: Torasso\n",
      "  Precio promedio: $920.00\n",
      "  Unidades vendidas: 32\n",
      "  Importe total: $29320.00\n",
      "\n"
     ]
    }
   ],
   "source": [
    "def resumen_ventas(datos):\n",
    "    # Obtener las unidades vendidas por producto\n",
    "    unidades_por_producto = unidades_vendidas(datos)  # Asegúrate de que esta función esté definida\n",
    "    \n",
    "    # Obtener los precios promedio por producto\n",
    "    precios_promedio = precio_promedio(datos)  # Asegúrate de que esta función esté definida\n",
    "    \n",
    "    # Obtener el importe total vendido por producto\n",
    "    importe_por_producto = {}\n",
    "    for venta in datos:\n",
    "        producto = venta['producto']\n",
    "        precio = venta['precio']\n",
    "        cantidad = venta['cantidad']\n",
    "        importe_total = precio * cantidad\n",
    "        \n",
    "        if producto in importe_por_producto:\n",
    "            importe_por_producto[producto] += importe_total\n",
    "        else:\n",
    "            importe_por_producto[producto] = importe_total\n",
    "\n",
    "    # Preparar la lista de productos ordenados alfabéticamente\n",
    "    productos_ordenados = sorted(unidades_por_producto.keys())\n",
    "\n",
    "    # Crear el informe\n",
    "    informe = []\n",
    "    for producto in productos_ordenados:\n",
    "        informe.append({\n",
    "            'producto': producto,\n",
    "            'precio_promedio': precios_promedio[producto],\n",
    "            'unidades_vendidas': unidades_por_producto[producto],\n",
    "            'importe_total': importe_por_producto[producto]\n",
    "        })\n",
    "\n",
    "    return informe\n",
    "\n",
    "def informe_ventas(resumen):\n",
    "    # Mostrar el informe general\n",
    "    for item in resumen:\n",
    "        print(f\"Producto: {item['producto']}\")\n",
    "        print(f\"  Precio promedio: ${item['precio_promedio']:.2f}\")\n",
    "        print(f\"  Unidades vendidas: {item['unidades_vendidas']}\")\n",
    "        print(f\"  Importe total: ${item['importe_total']:.2f}\")\n",
    "        print()\n",
    "\n",
    "# Ejemplo de uso reutilizando las funciones previas\n",
    "datos = cargar_datos()  # Asegúrate de que esta función esté definida\n",
    "resumen = resumen_ventas(datos)\n",
    "informe_ventas(resumen)\n"
   ]
  }
 ],
 "metadata": {
  "kernelspec": {
   "display_name": "Python 3",
   "language": "python",
   "name": "python3"
  },
  "language_info": {
   "codemirror_mode": {
    "name": "ipython",
    "version": 3
   },
   "file_extension": ".py",
   "mimetype": "text/x-python",
   "name": "python",
   "nbconvert_exporter": "python",
   "pygments_lexer": "ipython3",
   "version": "3.12.5"
  }
 },
 "nbformat": 4,
 "nbformat_minor": 2
}
