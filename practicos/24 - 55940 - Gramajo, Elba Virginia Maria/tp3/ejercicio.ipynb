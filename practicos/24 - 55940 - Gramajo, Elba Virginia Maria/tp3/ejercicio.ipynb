{
 "cells": [
  {
   "cell_type": "markdown",
   "metadata": {},
   "source": [
    "#TP3"
   ]
  },
  {
   "cell_type": "markdown",
   "metadata": {},
   "source": [
    "## Ejercicio 1: Cargar Datos de ventas.\n",
    "\n",
    "El archivo datos.dat contiene el registro de las ventas realizadas.\n",
    "\n",
    "Tiene un formato de ancho fijo:\n",
    "- fecha:    10 lugares\n",
    "- producto: 30 lugares\n",
    "- precio:   10 lugares\n",
    "- cantidad:  5 lugares\n",
    "\n",
    "hacer una funcion que carge los en una lista de diccionarios. \n",
    "\n",
    "nota: con \n",
    "```python\n",
    "lineas = open(\"datos.dat\", \"r\").readlines() \n",
    "```\n",
    "puede obtener la lista de string de todos los datos "
   ]
  },
  {
   "cell_type": "code",
   "execution_count": null,
   "metadata": {},
   "outputs": [],
   "source": [
    "def cargar_datos():\n",
    "    lineas = open(\"datos.dat\", \"r\").readlines()\n",
    "    ventas = []\n",
    "\n",
    "    for linea in lineas:\n",
    "       \n",
    "        fecha = linea[0:10].strip()       \n",
    "        producto = linea[10:40].strip()      \n",
    "        precio = float(linea[40:50].strip()) \n",
    "        cantidad = int(linea[50:55].strip())\n",
    "\n",
    "       \n",
    "        venta = {\n",
    "            \"fecha\": fecha,\n",
    "            \"producto\": producto,\n",
    "            \"precio\": precio,\n",
    "            \"cantidad\": cantidad\n",
    "        }\n",
    "\n",
    "        ventas.append(venta)\n",
    "\n",
    "    return ventas"
   ]
  },
  {
   "cell_type": "markdown",
   "metadata": {},
   "source": [
    "## Ejercicio 2: Calcular el total de ventas.\n",
    "\n",
    "Hacer una funcion que sume los importes vendidos (precio * cantidad) y las cantidades"
   ]
  },
  {
   "cell_type": "code",
   "execution_count": null,
   "metadata": {},
   "outputs": [],
   "source": [
    "def calcular_totales(datos):\n",
    "    total_importe = 0.0\n",
    "    total_cantidad = 0\n",
    "\n",
    "    for venta in datos:\n",
    "        importe = venta[\"precio\"] * venta[\"cantidad\"]\n",
    "        total_importe += importe\n",
    "        total_cantidad += venta[\"cantidad\"]\n",
    "\n",
    "    return total_importe, total_cantidad\n",
    "\n",
    "# Calcular y mostrar totales\n",
    "importe, cantidad = calcular_totales(datos)\n",
    "print(f\"Las ventas fueron de ${importe:.2f} en {cantidad} unidades\")\n"
   ]
  },
  {
   "cell_type": "markdown",
   "metadata": {},
   "source": [
    "## Ejercicio 3: Listar las unidades vendidas.\n",
    "\n",
    "Listar cuantas unidades se vendieron en total para cada producto"
   ]
  },
  {
   "cell_type": "code",
   "execution_count": null,
   "metadata": {},
   "outputs": [],
   "source": [
    "\n",
    "def unidades_vendidas(datos):\n",
    "    # Crear un diccionario para acumular las cantidades vendidas por producto\n",
    "    ventas_por_producto = {}\n",
    "\n",
    "    for venta in datos:\n",
    "        producto = venta[\"producto\"]\n",
    "        cantidad = venta[\"cantidad\"]\n",
    "\n",
    "        if producto in ventas_por_producto:\n",
    "            ventas_por_producto[producto] += cantidad\n",
    "        else:\n",
    "            ventas_por_producto[producto] = cantidad\n",
    "\n",
    "    return ventas_por_producto\n",
    "\n",
    "def listar_ventas(ventas):\n",
    "    print(\"Unidades vendidas por producto:\")\n",
    "    for producto, cantidad in ventas.items():\n",
    "        print(f\"{producto}: {cantidad} unidades\")\n",
    "\n",
    "# Listar unidades vendidas\n",
    "ventas = unidades_vendidas(datos)\n",
    "listar_ventas(ventas)\n"
   ]
  },
  {
   "cell_type": "markdown",
   "metadata": {},
   "source": [
    "##  Ejercicio 4: Listar el precio promedio por producto.\n",
    "\n",
    "Hacer un listado del precio promedio por productos."
   ]
  },
  {
   "cell_type": "code",
   "execution_count": null,
   "metadata": {},
   "outputs": [],
   "source": [
    "def precio_promedio(datos):\n",
    "    precios_por_producto = {}\n",
    "\n",
    "    for venta in datos:\n",
    "        producto = venta[\"producto\"]\n",
    "        precio = venta[\"precio\"]\n",
    "\n",
    "        if producto in precios_por_producto:\n",
    "            precios_por_producto[producto].append(precio)\n",
    "        else:\n",
    "            precios_por_producto[producto] = [precio]\n",
    "\n",
    "    # Calcular el precio promedio\n",
    "    promedio_por_producto = {}\n",
    "    for producto, precios in precios_por_producto.items():\n",
    "        promedio_por_producto[producto] = sum(precios) / len(precios)\n",
    "\n",
    "    return promedio_por_producto\n",
    "\n",
    "def listar_precios(precios):\n",
    "    print(\"Precio promedio por producto:\")\n",
    "    for producto, precio in precios.items():\n",
    "        print(f\"{producto}: ${precio:.2f}\")\n",
    "\n",
    "# Listar precios promedio\n",
    "precios = precio_promedio(datos)\n",
    "listar_precios(precios)\n"
   ]
  },
  {
   "cell_type": "markdown",
   "metadata": {},
   "source": [
    "### Ejercicio 5: Ranking de productos\n",
    "\n",
    "Realizar un listado de los 3 productos mas vendidos ordenados la cantidad de unidades vendidas (ordenadas de mayor a menor)\n"
   ]
  },
  {
   "cell_type": "code",
   "execution_count": null,
   "metadata": {},
   "outputs": [],
   "source": [
    "def ranking_productos(datos, top=3):\n",
    "    unidades_por_producto = {}\n",
    "\n",
    "    for venta in datos:\n",
    "        producto = venta[\"producto\"]\n",
    "        cantidad = venta[\"cantidad\"]\n",
    "\n",
    "        if producto in unidades_por_producto:\n",
    "            unidades_por_producto[producto] += cantidad\n",
    "        else:\n",
    "            unidades_por_producto[producto] = cantidad\n",
    "\n",
    "  \n",
    "    ranking = sorted(unidades_por_producto.items(), key=lambda item: item[1], reverse=True)\n",
    "\n",
    "    return ranking[:top]\n",
    "\n",
    "def listar_ranking(ranking):\n",
    "    print(\"Ranking de productos más vendidos:\")\n",
    "    for i, (producto, cantidad) in enumerate(ranking, start=1):\n",
    "        print(f\"{i}. {producto}: {cantidad} unidades\")\n",
    "\n",
    "\n",
    "ranking = ranking_productos(datos)\n",
    "listar_ranking(ranking)\n"
   ]
  },
  {
   "cell_type": "markdown",
   "metadata": {},
   "source": [
    "### Ejercicio 6: Listar las ventas por mes\n",
    "\n",
    "Realizar un listado del total de unidades vendidas por productos separada por mes."
   ]
  },
  {
   "cell_type": "code",
   "execution_count": null,
   "metadata": {},
   "outputs": [],
   "source": [
    "from collections import defaultdict\n",
    "from datetime import datetime\n",
    "\n",
    "def ventas_por_mes(datos):\n",
    "    ventas_mensuales = defaultdict(lambda: defaultdict(int))\n",
    "\n",
    "    for venta in datos:\n",
    "        fecha = venta[\"fecha\"].strip()\n",
    "        producto = venta[\"producto\"].strip()\n",
    "        cantidad = venta[\"cantidad\"]\n",
    "        \n",
    "        mes_anio = datetime.strptime(fecha, \"%Y-%m-%d\").strftime(\"%Y-%m\")\n",
    "\n",
    "        # Acumular las unidades vendidas\n",
    "        ventas_mensuales[mes_anio][producto] += cantidad\n",
    "\n",
    "    return dict(ventas_mensuales)\n",
    "\n",
    "def listar_ventas_mensuales(ventas):\n",
    "    print(\"Ventas por mes:\")\n",
    "    for mes, productos in sorted(ventas.items()):\n",
    "        print(f\"Mes: {mes}\")\n",
    "        for producto, cantidad in productos.items():\n",
    "            print(f\"  - {producto}: {cantidad} unidades\")\n",
    "        print()  # Línea en blanco para separar meses\n",
    "\n",
    "# Listar ventas por mes\n",
    "ventas_mensuales = ventas_por_mes(datos)\n",
    "listar_ventas_mensuales(ventas_mensuales)\n"
   ]
  },
  {
   "cell_type": "markdown",
   "metadata": {},
   "source": [
    "### Ejercicio 7: Informe general\n",
    "\n",
    "Mostrar un listado de productos ordenados alfabeticamente que contengan el precio promedio, la cantidad de unidades vendidas y el importe total vendido para cada producto"
   ]
  },
  {
   "cell_type": "code",
   "execution_count": null,
   "metadata": {},
   "outputs": [],
   "source": [
    "def resumen_ventas(datos):\n",
    "    total_vendido = {}\n",
    "    total_cantidad = {}\n",
    "\n",
    "    for venta in datos:\n",
    "        producto = venta[\"producto\"].strip()\n",
    "        precio = venta[\"precio\"]\n",
    "        cantidad = venta[\"cantidad\"]\n",
    "\n",
    "        total_cantidad[producto] = total_cantidad.get(producto, 0) + cantidad\n",
    "        total_vendido[producto] = total_vendido.get(producto, 0) + (precio * cantidad)\n",
    "\n",
    "    resumen = {}\n",
    "    for producto in total_cantidad:\n",
    "        promedio = total_vendido[producto] / total_cantidad[producto] if total_cantidad[producto] > 0 else 0\n",
    "        resumen[producto] = {\n",
    "            'precio_promedio': promedio,\n",
    "            'cantidad_vendida': total_cantidad[producto],\n",
    "            'importe_total': total_vendido[producto]\n",
    "        }\n",
    "\n",
    "    return resumen\n",
    "\n",
    "def informe_ventas(resumen):\n",
    "    print(\"Informe General de Ventas:\")\n",
    "    for producto in sorted(resumen.keys()):\n",
    "        info = resumen[producto]\n",
    "        print(f\"Producto: {producto}\")\n",
    "        print(f\"  Precio Promedio: ${info['precio_promedio']:.2f}\")\n",
    "        print(f\"  Cantidad Vendida: {info['cantidad_vendida']} unidades\")\n",
    "        print(f\"  Importe Total Vendido: ${info['importe_total']:.2f}\\n\")\n",
    "\n",
    "# Resumen general de ventas\n",
    "resumen = resumen_ventas(datos)\n",
    "informe_ventas(resumen)"
   ]
  }
 ],
 "metadata": {
  "kernelspec": {
   "display_name": "Python 3",
   "language": "python",
   "name": "python3"
  },
  "language_info": {
   "codemirror_mode": {
    "name": "ipython",
    "version": 3
   },
   "file_extension": ".py",
   "mimetype": "text/x-python",
   "name": "python",
   "nbconvert_exporter": "python",
   "pygments_lexer": "ipython3",
   "version": "3.12.5"
  }
 },
 "nbformat": 4,
 "nbformat_minor": 2
}
