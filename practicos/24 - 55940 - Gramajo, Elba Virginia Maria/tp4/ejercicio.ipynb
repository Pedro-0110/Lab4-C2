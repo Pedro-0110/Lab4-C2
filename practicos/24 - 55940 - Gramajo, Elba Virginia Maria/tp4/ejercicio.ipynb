{
 "cells": [
  {
   "cell_type": "markdown",
   "metadata": {},
   "source": [
    "# Simulación del Truco"
   ]
  },
  {
   "cell_type": "markdown",
   "metadata": {},
   "source": [
    "Las **cartas** deben registra el numero, palo y valor de la carta. \n",
    "El valor debe reflejar la jerarquía de las cartas en el juego del truco."
   ]
  },
  {
   "cell_type": "code",
   "execution_count": 4,
   "metadata": {},
   "outputs": [],
   "source": [
    "VALORES_TRUCO = {\n",
    "    (1, 'espada'): 14, \n",
    "    (1, 'basto'): 13,   \n",
    "    (1, 'oro'): 12,     \n",
    "    (1, 'copa'): 11,    \n",
    "    (12, 'espada'): 10, \n",
    "    (12, 'basto'): 9,   \n",
    "    (12, 'copa'): 7,    \n",
    "    (11, 'espada'): 6,  \n",
    "    (11, 'basto'): 5,   \n",
    "    (11, 'oro'): 4,     \n",
    "    (11, 'copa'): 3,    \n",
    "    (10, 'espada'): 2,  \n",
    "    (10, 'basto'): 1,   \n",
    "    (10, 'oro'): 0,     \n",
    "    (10, 'copa'): -1,  \n",
    "    (2, 'espada'): 0,   \n",
    "    (2, 'basto'): 0,    \n",
    "    (2, 'oro'): 0,      \n",
    "    (2, 'copa'): 0,     \n",
    "    (3, 'espada'): 0,   \n",
    "    (3, 'basto'): 0,    \n",
    "    (3, 'oro'): 0,      \n",
    "    (3, 'copa'): 0,     \n",
    "    (4, 'espada'): 0,   \n",
    "    (4, 'basto'): 0,    \n",
    "    (4, 'oro'): 0,      \n",
    "    (4, 'copa'): 0,     \n",
    "    (5, 'espada'): 0,   \n",
    "    (5, 'basto'): 0,    \n",
    "    (5, 'oro'): 0,      \n",
    "    (5, 'copa'): 0,     \n",
    "    (6, 'espada'): 0,   \n",
    "    (6, 'basto'): 0,    \n",
    "    (6, 'oro'): 0,      \n",
    "    (6, 'copa'): 0,     \n",
    "    (7, 'espada'): 0,   \n",
    "    (7, 'basto'): 0,    \n",
    "    (7, 'oro'): 0,      \n",
    "    (7, 'copa'): 0,     \n",
    "    (8, 'espada'): 0,  \n",
    "    (8, 'basto'): 0,    \n",
    "    (8, 'oro'): 0,      \n",
    "    (8, 'copa'): 0,    \n",
    "    (9, 'espada'): 0,   \n",
    "    (9, 'basto'): 0,    \n",
    "    (9, 'oro'): 0,     \n",
    "    (9, 'copa'): 0,     \n",
    "    (10, 'espada'): 0,  \n",
    "    (10, 'basto'): 0,   \n",
    "    (10, 'oro'): 0,    \n",
    "    (10, 'copa'): 0,    \n",
    "}\n",
    "\n",
    "def calcular_valor(numero, palo):\n",
    "    return VALORES_TRUCO.get((numero, palo), -1)  \n",
    "\n",
    "class Carta:\n",
    "    def __init__(self, numero, palo):\n",
    "        self.numero = numero\n",
    "        self.palo = palo\n",
    "        self.valor = calcular_valor(numero, palo)\n",
    "\n",
    "    def __repr__(self):\n",
    "        return f\"Carta(numero={self.numero}, palo='{self.palo}', valor={self.valor})\"\n",
    "\n",
    "\n",
    "c = Carta(1, \"oro\")\n",
    "print(c)\n"
   ]
  },
  {
   "cell_type": "markdown",
   "metadata": {},
   "source": [
    "**Mazo**: Representan las cartas españolas de 1 al 12, en los palos de oro, copa, espada y basto.\n",
    "\n",
    "Debe existir una función que permita barajar las cartas.\n",
    "y otra función que permita repartir las cartas a los jugadores."
   ]
  },
  {
   "cell_type": "code",
   "execution_count": 5,
   "metadata": {},
   "outputs": [
    {
     "name": "stdout",
     "output_type": "stream",
     "text": [
      "None\n"
     ]
    }
   ],
   "source": [
    "import random\n",
    "\n",
    "class Mazo:\n",
    "    def __init__(self):\n",
    "        self.cartas = self.crear_mazo()  \n",
    "\n",
    "    def crear_mazo(self):\n",
    "        palos = [\"oro\", \"copa\", \"espada\", \"basto\"]\n",
    "        return [Carta(numero, palo) for palo in palos for numero in range(1, 13)]\n",
    "\n",
    "    def mezclar(self):\n",
    "        random.shuffle(self.cartas)  \n",
    "\n",
    "    def repartir(self, cantidad):\n",
    "        if cantidad > len(self.cartas):\n",
    "            raise ValueError(\"No hay suficientes cartas en el mazo para repartir.\")\n",
    "        return [self.cartas.pop() for _ in range(cantidad)]  \n",
    "\n",
    "    def __repr__(self):\n",
    "        return f\"Mazo con {len(self.cartas)} cartas.\"\n",
    "\n",
    "# Ejemplo de uso\n",
    "m = Mazo()\n",
    "print(\"Mazo inicial:\", m)\n",
    "m.mezclar()\n",
    "print(\"Mazo mezclado:\", m)\n",
    "cartas_repartidas = m.repartir(3)\n",
    "print(\"Cartas repartidas:\", cartas_repartidas)\n",
    "print(\"Mazo después de repartir:\", m)\n"
   ]
  },
  {
   "cell_type": "markdown",
   "metadata": {},
   "source": [
    "**Jugador**: Deben tener un nombre y las cartas que tiene en la mano. Debe acumular los puntos ganados.\n",
    "\n",
    "Nota: Para simplificar el problema, el jugador elige la carta a jugar de forma aleatoria."
   ]
  },
  {
   "cell_type": "code",
   "execution_count": 6,
   "metadata": {},
   "outputs": [
    {
     "name": "stdout",
     "output_type": "stream",
     "text": [
      "None\n"
     ]
    }
   ],
   "source": [
    "import random\n",
    "\n",
    "class Jugador:\n",
    "    def __init__(self, nombre):\n",
    "        self.nombre = nombre\n",
    "        self.cartas = []  \n",
    "        self.puntos = 0   \n",
    "\n",
    "    def recibir_cartas(self, cartas):\n",
    "        self.cartas.extend(cartas)  \n",
    "\n",
    "    def jugar_carta(self):\n",
    "        if not self.cartas:\n",
    "            raise ValueError(\"No hay cartas en la mano para jugar.\")\n",
    "        carta_jugada = random.choice(self.cartas) \n",
    "        self.cartas.remove(carta_jugada)  \n",
    "        return carta_jugada\n",
    "\n",
    "    def __repr__(self):\n",
    "        return f\"Jugador(nombre='{self.nombre}', cartas={self.cartas}, puntos={self.puntos})\"\n",
    "\n",
    "\n",
    "m = Mazo()\n",
    "m.mezclar()\n",
    "\n",
    "j = Jugador(\"Juan\")\n",
    "j.recibir_cartas(m.repartir(3))\n",
    "\n",
    "print(\"Mano del jugador:\", j)\n",
    "carta_jugada = j.jugar_carta()\n",
    "print(\"Carta jugada:\", carta_jugada)\n",
    "print(\"Mano del jugador después de jugar:\", j)\n"
   ]
  },
  {
   "cell_type": "markdown",
   "metadata": {},
   "source": [
    "**Partida**: Debe tener dos jugadores, un mazo de cartas y un puntaje. Debe permitir jugar una carta por ronda y definir el ganador de la ronda. Debe permitir jugar hasta que se terminen las cartas del mazo."
   ]
  },
  {
   "cell_type": "code",
   "execution_count": null,
   "metadata": {},
   "outputs": [],
   "source": [
    "import random\n",
    "\n",
    "class Partida:\n",
    "    def __init__(self, jugador1, jugador2):\n",
    "        self.jugador1 = jugador1\n",
    "        self.jugador2 = jugador2\n",
    "        self.mazo = Mazo()\n",
    "        self.puntos_jugador1 = 0\n",
    "        self.puntos_jugador2 = 0\n",
    "\n",
    "    def jugar_ronda(self):\n",
    "        carta_jugador1 = self.jugador1.jugar_carta()\n",
    "        carta_jugador2 = self.jugador2.jugar_carta()\n",
    "        \n",
    "        print(f\"{self.jugador1.nombre} juega: {carta_jugador1}\")\n",
    "        print(f\"{self.jugador2.nombre} juega: {carta_jugador2}\")\n",
    "\n",
    "        if carta_jugador1.valor > carta_jugador2.valor:\n",
    "            print(f\"{self.jugador1.nombre} gana la ronda.\")\n",
    "            self.puntos_jugador1 += 1\n",
    "        elif carta_jugador1.valor < carta_jugador2.valor:\n",
    "            print(f\"{self.jugador2.nombre} gana la ronda.\")\n",
    "            self.puntos_jugador2 += 1\n",
    "        else:\n",
    "            print(\"La ronda es un empate.\")\n",
    "\n",
    "    def jugar(self):\n",
    "        while self.puntos_jugador1 < 15 and self.puntos_jugador2 < 15:\n",
    "            self.mazo.mezclar()\n",
    "            self.jugador1.recibir_cartas(self.mazo.repartir(3))\n",
    "            self.jugador2.recibir_cartas(self.mazo.repartir(3))\n",
    "\n",
    "            while self.jugador1.cartas and self.jugador2.cartas:\n",
    "                self.jugar_ronda()\n",
    "                print(f\"Puntos - {self.jugador1.nombre}: {self.puntos_jugador1}, {self.jugador2.nombre}: {self.puntos_jugador2}\")\n",
    "            print(\"Fin de la partida por falta de cartas.\")\n",
    "            break \n",
    "\n",
    "        # Anunciar el ganador final\n",
    "        if self.puntos_jugador1 >= 15:\n",
    "            print(f\"{self.jugador1.nombre} gana la partida con {self.puntos_jugador1} puntos.\")\n",
    "        elif self.puntos_jugador2 >= 15:\n",
    "            print(f\"{self.jugador2.nombre} gana la partida con {self.puntos_jugador2} puntos.\")\n",
    "\n",
    "p = Partida(Jugador(\"Juan\"), Jugador(\"Pedro\"))\n",
    "p.jugar()\n"
   ]
  }
 ],
 "metadata": {
  "kernelspec": {
   "display_name": "Python 3",
   "language": "python",
   "name": "python3"
  },
  "language_info": {
   "codemirror_mode": {
    "name": "ipython",
    "version": 3
   },
   "file_extension": ".py",
   "mimetype": "text/x-python",
   "name": "python",
   "nbconvert_exporter": "python",
   "pygments_lexer": "ipython3",
   "version": "3.12.5"
  }
 },
 "nbformat": 4,
 "nbformat_minor": 2
}
