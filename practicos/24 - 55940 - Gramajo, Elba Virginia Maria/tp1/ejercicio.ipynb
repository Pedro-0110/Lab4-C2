{
 "cells": [
  {
   "cell_type": "markdown",
   "metadata": {},
   "source": [
    "# Trabajo práctico 1\n",
    "\n"
   ]
  },
  {
   "cell_type": "markdown",
   "metadata": {},
   "source": [
    "## Ejercicio 1 \n",
    "\n",
    "Escribe una función en Python que procese una lista de cadenas de texto y realice las siguientes acciones:\n",
    "\n",
    "1. Tomar una lista de frases y convertir cada frase en una lista de palabras.\n",
    "1. Luego, debe crear una nueva lista que contenga la cantidad de palabras en cada frase.\n",
    "1. Tambien debe crear un lista que contenga la cantidad de caracteres en cada frase.\n",
    "1. Finalmente, debe imprimir cada frase original junto con la cantidad de palabras que contiene.\n",
    "Ejemplo de uso:\n",
    "```python\n",
    "    frases = [\n",
    "        \"Python es un lenguaje de programación\",\n",
    "        \"Me gusta resolver problemas con código\",\n",
    "        \"Las listas y los bucles son muy útiles\"\n",
    "    ]\n",
    "\n",
    "    procesar_frases(frases)\n",
    "```\n",
    "\n",
    "ejemplo de salida:\n",
    "```bash\n",
    "    La frase: \"Python es un...\"\n",
    "    tiene 6 palabras y 38 caracteres\n",
    "```\n"
   ]
  },
  {
   "cell_type": "code",
   "execution_count": null,
   "metadata": {},
   "outputs": [],
   "source": [
    "def procesar_frases(frases):\n",
    "    lista_palabras = [frase.split() for frase in frases]\n",
    "    cantidad_palabras = [len(palabras) for palabras in lista_palabras]\n",
    "    cantidad_caracteres = [len(frase) for frase in frases]\n",
    "    \n",
    "    for frase, num_palabras, num_caracteres in zip(frases, cantidad_palabras, cantidad_caracteres):\n",
    "        print(f\"Frase: '{frase}' - Cantidad de palabras: {num_palabras}, Cantidad de caracteres: {num_caracteres}\")\n",
    "\n",
    "# Ejemplo de uso\n",
    "frases = [\n",
    "    \"Hola mundo\",\n",
    "    \"El dia esta nublado \",\n",
    "    \"Hoy es viernes\",\n",
    "    \"Esto es un ejercicio practico\"\n",
    "]\n",
    "\n",
    "procesar_frases(frases)"
   ]
  },
  {
   "cell_type": "markdown",
   "metadata": {},
   "source": [
    "## Ejercicio 2\n",
    "\n",
    "Escribe una función en Python que encuentre los valores de `a`, `b`, y `c` para que la función cuadrática `f(x) = aX^2 + bX + c` pase exactamente por los siguientes puntos:\n",
    "\n",
    "| x  | y  |\n",
    "|---:|---:|\n",
    "|  0 |  0 |\n",
    "|  1 |  8 |\n",
    "|  2 | 12 |\n",
    "|  3 | 12 |\n",
    "|  5 |  0 |\n",
    "\n",
    "### Requisitos:\n",
    "- La función debe explorar posibles valores de `a`, `b`, y `c` utilizando un método de prueba y error.\n",
    "- Debe devolver los valores que hagan que la diferencia entre la función `f(x)` y los valores medidos `y` sea exactamente cero para cada punto.\n",
    "\n",
    "> **Pista**: Los valores de `a`, `b`, y `c` son números pequeños."
   ]
  },
  {
   "cell_type": "code",
   "execution_count": null,
   "metadata": {},
   "outputs": [],
   "source": [
    "def encontrar_coeficientes():\n",
    "    puntos = [(0, 0), (1, 8), (2, 12), (3, 12), (5, 0)]\n",
    "    \n",
    "    for a in range(-10, 11):  # Probar valores de a entre -10 y 10\n",
    "        for b in range(-10, 11):  # Probar valores de b entre -10 y 10\n",
    "            for c in range(-10, 11):  # Probar valores de c entre -10 y 10\n",
    "                # Comprobar si la función f(x) = ax^2 + bx + c coincide con los puntos\n",
    "                if all(f(a, b, c, x) == y for x, y in puntos):\n",
    "                    return a, b, c\n",
    "    return None  # Si no se encuentra ninguna solución\n",
    "\n",
    "def f(a, b, c, x):\n",
    "    return a * x**2 + b * x + c\n",
    "\n",
    "# Ejemplo de uso\n",
    "coeficientes = encontrar_coeficientes()\n",
    "if coeficientes:\n",
    "    a, b, c = coeficientes\n",
    "    print(f\"Coeficientes encontrados: a = {a}, b = {b}, c = {c}\")\n",
    "else:\n",
    "    print(\"No se encontraron coeficientes que cumplan con los puntos dados.\")"
   ]
  }
 ],
 "metadata": {
  "language_info": {
   "name": "python"
  }
 },
 "nbformat": 4,
 "nbformat_minor": 2
}
