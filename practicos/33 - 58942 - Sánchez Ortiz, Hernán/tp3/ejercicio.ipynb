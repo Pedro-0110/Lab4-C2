{
 "cells": [
  {
   "cell_type": "markdown",
   "metadata": {},
   "source": [
    "#TP3"
   ]
  },
  {
   "cell_type": "markdown",
   "metadata": {},
   "source": [
    "## Ejercicio 1: Cargar Datos de ventas.\n",
    "\n",
    "El archivo datos.dat contiene el registro de las ventas realizadas.\n",
    "\n",
    "Tiene un formato de ancho fijo:\n",
    "- fecha:    10 lugares\n",
    "- producto: 30 lugares\n",
    "- precio:   10 lugares\n",
    "- cantidad:  5 lugares\n",
    "\n",
    "hacer una funcion que carge los en una lista de diccionarios. \n",
    "\n",
    "nota: con \n",
    "```python\n",
    "lineas = open(\"datos.dat\", \"r\").readlines() \n",
    "```\n",
    "puede obtener la lista de string de todos los datos "
   ]
  },
  {
   "cell_type": "code",
   "execution_count": 14,
   "metadata": {},
   "outputs": [],
   "source": [
    "def cargar_datos():\n",
    "    lineas = open(\"datos.dat\", \"r\").readlines()\n",
    "    datos = list()\n",
    "    for linea in lineas:\n",
    "        fecha = linea[0:10].strip()\n",
    "        producto = linea[10:40].strip()\n",
    "        precio = linea[40:50].strip()\n",
    "        cantidad = linea[50:55].strip()\n",
    "        datosLinea = {\"fecha\": fecha, \"producto\": producto, \"precio\": int(precio), \"cantidad\": int(cantidad)}\n",
    "        datos.append(datosLinea)\n",
    "    return datos\n",
    "datos = cargar_datos()"
   ]
  },
  {
   "cell_type": "markdown",
   "metadata": {},
   "source": [
    "## Ejercicio 2: Calcular el total de ventas.\n",
    "\n",
    "Hacer una funcion que sume los importes vendidos (precio * cantidad) y las cantidades"
   ]
  },
  {
   "cell_type": "code",
   "execution_count": 9,
   "metadata": {},
   "outputs": [
    {
     "name": "stdout",
     "output_type": "stream",
     "text": [
      "Las ventas fueron de $392730.00 en 335 unidades\n"
     ]
    }
   ],
   "source": [
    "def calcular_totales(datos):\n",
    "    totalImporte, totalCantidad = 0, 0\n",
    "    for item in datos:\n",
    "        totalImporte += item[\"precio\"] * item[\"cantidad\"]\n",
    "        totalCantidad += item[\"cantidad\"]\n",
    "    return totalImporte, totalCantidad\n",
    "\n",
    "importe, cantidad = calcular_totales(datos)\n",
    "\n",
    "print(f\"Las ventas fueron de ${importe:.2f} en {cantidad} unidades\")"
   ]
  },
  {
   "cell_type": "markdown",
   "metadata": {},
   "source": [
    "## Ejercicio 3: Listar las unidades vendidas.\n",
    "\n",
    "Listar cuantas unidades se vendieron en total para cada producto"
   ]
  },
  {
   "cell_type": "code",
   "execution_count": 10,
   "metadata": {},
   "outputs": [
    {
     "name": "stdout",
     "output_type": "stream",
     "text": [
      "Producto: Mirinda, Unidades vendidas: 85\n",
      "Producto: Torasso, Unidades vendidas: 32\n",
      "Producto: Pepsi Cola, Unidades vendidas: 89\n",
      "Producto: Sprite, Unidades vendidas: 72\n",
      "Producto: Coca Cola, Unidades vendidas: 57\n"
     ]
    }
   ],
   "source": [
    "def unidades_vendidas(datos):\n",
    "    ventasPorProducto = {}\n",
    "    for item in datos:\n",
    "        producto = item[\"producto\"]\n",
    "        cantidad = item[\"cantidad\"]\n",
    "        if producto in ventasPorProducto:\n",
    "            ventasPorProducto[producto] += cantidad\n",
    "        else:\n",
    "            ventasPorProducto[producto] = cantidad\n",
    "    return ventasPorProducto\n",
    "\n",
    "def listar_ventas(datos):\n",
    "    for producto, cantidad in ventas.items():\n",
    "        print(f\"Producto: {producto}, Unidades vendidas: {cantidad}\")\n",
    "\n",
    "ventas = unidades_vendidas(datos)\n",
    "listar_ventas(ventas)\n"
   ]
  },
  {
   "cell_type": "markdown",
   "metadata": {},
   "source": [
    "##  Ejercicio 4: Listar el precio promedio por producto.\n",
    "\n",
    "Hacer un listado del precio promedio por productos."
   ]
  },
  {
   "cell_type": "code",
   "execution_count": 11,
   "metadata": {},
   "outputs": [
    {
     "name": "stdout",
     "output_type": "stream",
     "text": [
      "Producto: Mirinda, Precio promedio: $1542.12\n",
      "Producto: Torasso, Precio promedio: $916.25\n",
      "Producto: Pepsi Cola, Precio promedio: $1241.69\n",
      "Producto: Sprite, Precio promedio: $847.78\n",
      "Producto: Coca Cola, Precio promedio: $1066.32\n"
     ]
    }
   ],
   "source": [
    "def precio_promedio(datos):\n",
    "    preciosProducto = {}\n",
    "    cantidadesProducto = {}\n",
    "    for item in datos:\n",
    "        producto = item[\"producto\"]\n",
    "        precio = item[\"precio\"]\n",
    "        cantidad = item[\"cantidad\"]\n",
    "        if producto in preciosProducto:\n",
    "            preciosProducto[producto] += precio * cantidad\n",
    "            cantidadesProducto[producto] += cantidad\n",
    "        else:\n",
    "            preciosProducto[producto] = precio * cantidad\n",
    "            cantidadesProducto[producto] = cantidad\n",
    "    preciosPromedio = {producto: preciosProducto[producto] / cantidadesProducto[producto] for producto in preciosProducto}\n",
    "    return preciosPromedio\n",
    "\n",
    "def listar_precios(datos):\n",
    "    for producto, precio in datos.items():\n",
    "        print(f\"Producto: {producto}, Precio promedio: ${precio:.2f}\")\n",
    "\n",
    "precios = precio_promedio(datos)\n",
    "listar_precios(precios)"
   ]
  },
  {
   "cell_type": "markdown",
   "metadata": {},
   "source": [
    "### Ejercicio 5: Ranking de productos\n",
    "\n",
    "Realizar un listado de los 3 productos mas vendidos ordenados la cantidad de unidades vendidas (ordenadas de mayor a menor)\n"
   ]
  },
  {
   "cell_type": "code",
   "execution_count": 12,
   "metadata": {},
   "outputs": [
    {
     "name": "stdout",
     "output_type": "stream",
     "text": [
      "Ranking de productos más vendidos:\n",
      "1. Producto: Pepsi Cola, unidades vendidas: 89\n",
      "2. Producto: Mirinda, unidades vendidas: 85\n",
      "3. Producto: Sprite, unidades vendidas: 72\n"
     ]
    }
   ],
   "source": [
    "def ranking_productos(datos, top=3):\n",
    "    ventasPorProducto = {}\n",
    "    for item in datos:\n",
    "        producto = item[\"producto\"]\n",
    "        cantidad = item[\"cantidad\"]\n",
    "        if producto in ventasPorProducto:\n",
    "            ventasPorProducto[producto] += cantidad\n",
    "        else: \n",
    "            ventasPorProducto[producto] = cantidad\n",
    "    ranking = sorted(ventasPorProducto.items(), key=lambda x: x[1], reverse=True)\n",
    "    return ranking[:top]\n",
    "\n",
    "def listar_ranking(ranking):\n",
    "    print(\"Ranking de productos más vendidos:\")\n",
    "    for i, (producto, cantidad) in enumerate(ranking, start=1):\n",
    "        print(f\"{i}. Producto: {producto}, unidades vendidas: {cantidad}\")\n",
    "        \n",
    "\n",
    "ranking = ranking_productos(datos)\n",
    "listar_ranking(ranking)"
   ]
  },
  {
   "cell_type": "markdown",
   "metadata": {},
   "source": [
    "### Ejercicio 6: Listar las ventas por mes\n",
    "\n",
    "Realizar un listado del total de unidades vendidas por productos separada por mes."
   ]
  },
  {
   "cell_type": "code",
   "execution_count": 16,
   "metadata": {},
   "outputs": [
    {
     "name": "stdout",
     "output_type": "stream",
     "text": [
      "Ventas totales por mes y productos:\n",
      "Mes: 2024-08, Producto: Mirinda, Unidades vendidas: 27\n",
      "Mes: 2024-08, Producto: Torasso, Unidades vendidas: 8\n",
      "Mes: 2024-08, Producto: Pepsi Cola, Unidades vendidas: 10\n",
      "Mes: 2024-09, Producto: Mirinda, Unidades vendidas: 58\n",
      "Mes: 2024-09, Producto: Sprite, Unidades vendidas: 72\n",
      "Mes: 2024-09, Producto: Coca Cola, Unidades vendidas: 57\n",
      "Mes: 2024-09, Producto: Pepsi Cola, Unidades vendidas: 79\n",
      "Mes: 2024-09, Producto: Torasso, Unidades vendidas: 24\n"
     ]
    }
   ],
   "source": [
    "def ventas_por_mes(datos):\n",
    "    ventasMensuales = {}\n",
    "    for item in datos:\n",
    "        fecha = item[\"fecha\"]\n",
    "        producto = item[\"producto\"]\n",
    "        cantidad = item[\"cantidad\"]\n",
    "        mes = fecha[:7]\n",
    "        key = f\"{mes},{producto}\"\n",
    "        if key in ventasMensuales:\n",
    "            ventasMensuales[key] += cantidad\n",
    "        else:\n",
    "            ventasMensuales[key] = cantidad\n",
    "    return ventasMensuales\n",
    "\n",
    "def listar_ventas_mensuales(ventas):\n",
    "    print(\"Ventas totales por mes y productos:\")\n",
    "    for key, cantidad in ventas.items():\n",
    "        mes, producto = key.split(',')\n",
    "        print(f\"Mes: {mes}, Producto: {producto}, Unidades vendidas: {cantidad}\")\n",
    "\n",
    "ventas = ventas_por_mes(datos)\n",
    "listar_ventas_mensuales(ventas)"
   ]
  },
  {
   "cell_type": "markdown",
   "metadata": {},
   "source": [
    "### Ejercicio 7: Informe general\n",
    "\n",
    "Mostrar un listado de productos ordenados alfabeticamente que contengan el precio promedio, la cantidad de unidades vendidas y el importe total vendido para cada producto"
   ]
  },
  {
   "cell_type": "code",
   "execution_count": 17,
   "metadata": {},
   "outputs": [
    {
     "name": "stdout",
     "output_type": "stream",
     "text": [
      "Resumen de ventas por producto:\n",
      "Producto: Coca Cola, Precio promedio: $1066.32, Unidades vendidas: 57, Importe total vendido: $60780.00\n",
      "Producto: Mirinda, Precio promedio: $1542.12, Unidades vendidas: 85, Importe total vendido: $131080.00\n",
      "Producto: Pepsi Cola, Precio promedio: $1241.69, Unidades vendidas: 89, Importe total vendido: $110510.00\n",
      "Producto: Sprite, Precio promedio: $847.78, Unidades vendidas: 72, Importe total vendido: $61040.00\n",
      "Producto: Torasso, Precio promedio: $916.25, Unidades vendidas: 32, Importe total vendido: $29320.00\n"
     ]
    }
   ],
   "source": [
    "def resumen_ventas(datos):\n",
    "    resumen = {}\n",
    "    for item in datos:\n",
    "        producto = item[\"producto\"]\n",
    "        precio = item[\"precio\"]\n",
    "        cantidad = item[\"cantidad\"]\n",
    "        importe = precio * cantidad\n",
    "        if producto not in resumen:\n",
    "            resumen[producto] = {\n",
    "                'totalUnidades': 0,\n",
    "                'totalImporte': 0,\n",
    "                'precioPromedio': 0,\n",
    "                'numeroVentas': 0\n",
    "            }\n",
    "        resumen[producto]['totalUnidades'] += cantidad\n",
    "        resumen[producto]['totalImporte'] += importe\n",
    "        resumen[producto]['numeroVentas'] += 1\n",
    "        resumen[producto]['precioPromedio'] = resumen[producto]['totalImporte'] / resumen[producto]['totalUnidades']\n",
    "    return resumen\n",
    "\n",
    "def informe_ventas(datos):\n",
    "    print(\"Resumen de ventas por producto:\")\n",
    "    for producto in sorted(resumen.keys()):\n",
    "        datosProducto = resumen[producto]\n",
    "        print(f\"Producto: {producto}, Precio promedio: ${datosProducto['precioPromedio']:.2f}, \"\n",
    "              f\"Unidades vendidas: {datosProducto['totalUnidades']}, \"\n",
    "              f\"Importe total vendido: ${datosProducto['totalImporte']:.2f}\")\n",
    "\n",
    "resumen = resumen_ventas(datos)\n",
    "informe_ventas(resumen)\n"
   ]
  }
 ],
 "metadata": {
  "kernelspec": {
   "display_name": "Python 3",
   "language": "python",
   "name": "python3"
  },
  "language_info": {
   "codemirror_mode": {
    "name": "ipython",
    "version": 3
   },
   "file_extension": ".py",
   "mimetype": "text/x-python",
   "name": "python",
   "nbconvert_exporter": "python",
   "pygments_lexer": "ipython3",
   "version": "3.12.5"
  }
 },
 "nbformat": 4,
 "nbformat_minor": 2
}
