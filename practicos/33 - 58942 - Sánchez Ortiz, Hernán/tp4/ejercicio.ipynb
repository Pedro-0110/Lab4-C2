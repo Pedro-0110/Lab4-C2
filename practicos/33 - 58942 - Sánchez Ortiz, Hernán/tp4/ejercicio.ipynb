{
 "cells": [
  {
   "cell_type": "markdown",
   "metadata": {},
   "source": [
    "# Simulación del Truco"
   ]
  },
  {
   "cell_type": "markdown",
   "metadata": {},
   "source": [
    "Las **cartas** deben registra el numero, palo y valor de la carta. \n",
    "El valor debe reflejar la jerarquía de las cartas en el juego del truco."
   ]
  },
  {
   "cell_type": "code",
   "execution_count": 2,
   "metadata": {},
   "outputs": [
    {
     "name": "stdout",
     "output_type": "stream",
     "text": [
      "1 de oro (Valor: 8)\n"
     ]
    }
   ],
   "source": [
    "def calcular_valor(numero, palo):\n",
    "    jerarquia = {\n",
    "        (1, \"espada\"): 14,\n",
    "        (1, \"basto\"): 13,\n",
    "        (7, \"espada\"): 12,\n",
    "        (7, \"oro\"): 11,\n",
    "        (3, \"espada\"): 10,\n",
    "        (3, \"basto\"): 10,\n",
    "        (3, \"copa\"): 10,\n",
    "        (3, \"oro\"): 10,\n",
    "        (2, \"espada\"): 9,\n",
    "        (2, \"basto\"): 9,\n",
    "        (2, \"copa\"): 9,\n",
    "        (2, \"oro\"): 9,\n",
    "        (1, \"copa\"): 8,\n",
    "        (1, \"oro\"): 8,\n",
    "        (12, \"espada\"): 7,\n",
    "        (12, \"basto\"): 7,\n",
    "        (12, \"copa\"): 7,\n",
    "        (12, \"oro\"): 7,\n",
    "        (11, \"espada\"): 6,\n",
    "        (11, \"basto\"): 6,\n",
    "        (11, \"copa\"): 6,\n",
    "        (11, \"oro\"): 6,\n",
    "        (10, \"espada\"): 5,\n",
    "        (10, \"basto\"): 5,\n",
    "        (10, \"copa\"): 5,\n",
    "        (10, \"oro\"): 5,\n",
    "        (7, \"copa\"): 4,\n",
    "        (7, \"basto\"): 4,\n",
    "        (6, \"espada\"): 3,\n",
    "        (6, \"basto\"): 3,\n",
    "        (6, \"copa\"): 3,\n",
    "        (6, \"oro\"): 3,\n",
    "        (5, \"espada\"): 2,\n",
    "        (5, \"basto\"): 2,\n",
    "        (5, \"copa\"): 2,\n",
    "        (5, \"oro\"): 2,\n",
    "        (4, \"espada\"): 1,\n",
    "        (4, \"basto\"): 1,\n",
    "        (4, \"copa\"): 1,\n",
    "        (4, \"oro\"): 1\n",
    "    } \n",
    "    return jerarquia.get((numero, palo), 0)\n",
    "class Carta:\n",
    "    def __init__(self, numero, palo):\n",
    "        self.numero = numero\n",
    "        self.palo = palo\n",
    "        self.valor = calcular_valor(numero, palo)\n",
    "    def __str__(self):\n",
    "        return f\"{self.numero} de {self.palo} (Valor: {self.valor})\"\n",
    "\n",
    "c = Carta(1, \"oro\")\n",
    "print(c)"
   ]
  },
  {
   "cell_type": "markdown",
   "metadata": {},
   "source": [
    "**Mazo**: Representan las cartas españolas de 1 al 12, en los palos de oro, copa, espada y basto.\n",
    "\n",
    "Debe existir una función que permita barajar las cartas.\n",
    "y otra función que permita repartir las cartas a los jugadores."
   ]
  },
  {
   "cell_type": "code",
   "execution_count": 3,
   "metadata": {},
   "outputs": [
    {
     "name": "stdout",
     "output_type": "stream",
     "text": [
      "12 de espada (Valor: 7)\n",
      "2 de basto (Valor: 9)\n",
      "11 de basto (Valor: 6)\n"
     ]
    }
   ],
   "source": [
    "import random\n",
    "\n",
    "class Mazo:\n",
    "    def __init__(self):\n",
    "        self.cartas = [Carta(numero, palo) for numero in range(1, 13) for palo in [\"oro\", \"copa\", \"espada\", \"basto\"] if numero != 8 and numero != 9]\n",
    "    def mezclar(self):\n",
    "        random.shuffle(self.cartas)\n",
    "    def repartir(self, cantidad):\n",
    "        mano = self.cartas[:cantidad]\n",
    "        self.cartas = self.cartas[cantidad:]\n",
    "        return mano\n",
    "\n",
    "m = Mazo()\n",
    "m.mezclar()\n",
    "cartasRepartidas = m.repartir(3)\n",
    "\n",
    "for carta in cartasRepartidas:\n",
    "    print(carta)"
   ]
  },
  {
   "cell_type": "markdown",
   "metadata": {},
   "source": [
    "**Jugador**: Deben tener un nombre y las cartas que tiene en la mano. Debe acumular los puntos ganados.\n",
    "\n",
    "Nota: Para simplificar el problema, el jugador elige la carta a jugar de forma aleatoria."
   ]
  },
  {
   "cell_type": "code",
   "execution_count": 4,
   "metadata": {},
   "outputs": [
    {
     "name": "stdout",
     "output_type": "stream",
     "text": [
      "Cartas de Juan:\n",
      "7 de espada (Valor: 12)\n",
      "3 de oro (Valor: 10)\n",
      "3 de espada (Valor: 10)\n",
      "\n",
      "Juan juega: 3 de espada (Valor: 10)\n",
      "\n",
      "Cartas restantes de Juan:\n",
      "7 de espada (Valor: 12)\n",
      "3 de oro (Valor: 10)\n"
     ]
    }
   ],
   "source": [
    "class Jugador:\n",
    "    pass\n",
    "    def __init__(self, nombre):\n",
    "        self.nombre = nombre\n",
    "        self.mano = []\n",
    "        self.puntos = 0\n",
    "    \n",
    "    def recibir_cartas(self, cartas):\n",
    "        self.mano = cartas\n",
    "    \n",
    "    def jugar_carta(self):\n",
    "        if self.mano:\n",
    "            cartaPorJugar = random.choice(self.mano)\n",
    "            self.mano.remove(cartaPorJugar)\n",
    "            return cartaPorJugar\n",
    "        return None\n",
    "    \n",
    "    def acumular_puntos(self, puntos):\n",
    "        self.puntos += puntos\n",
    "\n",
    "j = Jugador(\"Juan\")\n",
    "m = Mazo()\n",
    "m.mezclar()\n",
    "j.recibir_cartas(m.repartir(3))\n",
    "\n",
    "print(f\"Cartas de {j.nombre}:\")\n",
    "for carta in j.mano:\n",
    "    print(carta)\n",
    "\n",
    "print(f\"\\n{j.nombre} juega: {j.jugar_carta()}\")\n",
    "\n",
    "print(f\"\\nCartas restantes de {j.nombre}:\")\n",
    "for carta in j.mano:\n",
    "    print(carta)"
   ]
  },
  {
   "cell_type": "markdown",
   "metadata": {},
   "source": [
    "**Partida**: Debe tener dos jugadores, un mazo de cartas y un puntaje. Debe permitir jugar una carta por ronda y definir el ganador de la ronda. Debe permitir jugar hasta que se terminen las cartas del mazo."
   ]
  },
  {
   "cell_type": "code",
   "execution_count": 11,
   "metadata": {},
   "outputs": [
    {
     "name": "stdout",
     "output_type": "stream",
     "text": [
      "Juan juega: 11 de copa (Valor: 6)\n",
      "Pedro juega: 1 de espada (Valor: 14)\n",
      "Pedro gana la ronda.\n",
      "Juan juega: 5 de oro (Valor: 2)\n",
      "Pedro juega: 6 de espada (Valor: 3)\n",
      "Pedro gana la ronda.\n",
      "Juan juega: 11 de basto (Valor: 6)\n",
      "Pedro juega: 1 de oro (Valor: 8)\n",
      "Pedro gana la ronda.\n",
      "Puntaje: \n",
      "Juan: 0\n",
      "Pedro: 3\n",
      "Juan juega: 4 de copa (Valor: 1)\n",
      "Pedro juega: 11 de espada (Valor: 6)\n",
      "Pedro gana la ronda.\n",
      "Juan juega: 12 de oro (Valor: 7)\n",
      "Pedro juega: 6 de oro (Valor: 3)\n",
      "Juan gana la ronda.\n",
      "Juan juega: 7 de oro (Valor: 11)\n",
      "Pedro juega: 3 de oro (Valor: 10)\n",
      "Juan gana la ronda.\n",
      "Puntaje: \n",
      "Juan: 2\n",
      "Pedro: 4\n",
      "Juan juega: 1 de copa (Valor: 8)\n",
      "Pedro juega: 4 de basto (Valor: 1)\n",
      "Juan gana la ronda.\n",
      "Juan juega: 10 de copa (Valor: 5)\n",
      "Pedro juega: 7 de espada (Valor: 12)\n",
      "Pedro gana la ronda.\n",
      "Juan juega: 5 de espada (Valor: 2)\n",
      "Pedro juega: 3 de espada (Valor: 10)\n",
      "Pedro gana la ronda.\n",
      "Puntaje: \n",
      "Juan: 3\n",
      "Pedro: 6\n",
      "Pedro ganó la partida con 6 puntos!\n"
     ]
    }
   ],
   "source": [
    "class Partida:\n",
    "    def __init__(self, jugador1, jugador2):\n",
    "        self.jugador1 = jugador1\n",
    "        self.jugador2 = jugador2\n",
    "        self.mazo = Mazo()\n",
    "        self.puntosMaximos = 5\n",
    "\n",
    "    def jugar_ronda(self):\n",
    "        cartaJ1 = self.jugador1.jugar_carta()\n",
    "        cartaJ2 = self.jugador2.jugar_carta()\n",
    "        print(f\"{self.jugador1.nombre} juega: {cartaJ1}\\n{self.jugador2.nombre} juega: {cartaJ2}\")\n",
    "        if cartaJ1.valor > cartaJ2.valor:\n",
    "            print(f\"{self.jugador1.nombre} gana la ronda.\")\n",
    "            self.jugador1.acumular_puntos(1)\n",
    "        elif cartaJ2.valor > cartaJ1.valor:\n",
    "            print(f\"{self.jugador2.nombre} gana la ronda.\")\n",
    "            self.jugador2.acumular_puntos(1)\n",
    "        else:\n",
    "            print(\"Ronda empatada.\")\n",
    "\n",
    "    def jugar(self):\n",
    "        # Mientras que ningun jugador acumule 15 puntos.abs\n",
    "        while self.jugador1.puntos < self.puntosMaximos and self.jugador2.puntos < self.puntosMaximos:\n",
    "            # Mezclar el mazo\n",
    "            self.mazo.mezclar()\n",
    "            # Repartir 3 cartas a cada jugador\n",
    "            self.jugador1.recibir_cartas(self.mazo.repartir(3))\n",
    "            self.jugador2.recibir_cartas(self.mazo.repartir(3))\n",
    "            # Jugar ronda\n",
    "            # Revisar quien gano la ronda\n",
    "            while self.jugador1.mano and self.jugador2.mano:\n",
    "                self.jugar_ronda()\n",
    "            # Sumar puntos\n",
    "            print(f\"Puntaje: \\n{self.jugador1.nombre}: {self.jugador1.puntos}\\n{self.jugador2.nombre}: {self.jugador2.puntos}\")\n",
    "        if self.jugador1.puntos >= self.puntosMaximos:\n",
    "            print(f\"{self.jugador1.nombre} ganó la partida con {self.jugador1.puntos} puntos!\")\n",
    "        else:\n",
    "            print(f\"{self.jugador2.nombre} ganó la partida con {self.jugador2.puntos} puntos!\") \n",
    "\n",
    "p = Partida(Jugador(\"Juan\"), Jugador(\"Pedro\"))\n",
    "p.jugar()"
   ]
  }
 ],
 "metadata": {
  "kernelspec": {
   "display_name": "Python 3",
   "language": "python",
   "name": "python3"
  },
  "language_info": {
   "codemirror_mode": {
    "name": "ipython",
    "version": 3
   },
   "file_extension": ".py",
   "mimetype": "text/x-python",
   "name": "python",
   "nbconvert_exporter": "python",
   "pygments_lexer": "ipython3",
   "version": "3.12.5"
  }
 },
 "nbformat": 4,
 "nbformat_minor": 2
}
