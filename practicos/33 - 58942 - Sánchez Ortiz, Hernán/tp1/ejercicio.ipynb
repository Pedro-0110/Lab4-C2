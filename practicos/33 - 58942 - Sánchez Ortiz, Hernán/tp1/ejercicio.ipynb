{
 "cells": [
  {
   "cell_type": "markdown",
   "metadata": {},
   "source": [
    "# Trabajo práctico 1\n"
   ]
  },
  {
   "cell_type": "markdown",
   "metadata": {},
   "source": [
    "## Ejercicio 1\n",
    "\n",
    "Escribe una función en Python que procese una lista de cadenas de texto y realice las siguientes acciones:\n",
    "\n",
    "1. Tomar una lista de frases y convertir cada frase en una lista de palabras.\n",
    "1. Luego, debe crear una nueva lista que contenga la cantidad de palabras en cada frase.\n",
    "1. Tambien debe crear un lista que contenga la cantidad de caracteres en cada frase.\n",
    "1. Finalmente, debe imprimir cada frase original junto con la cantidad de palabras que contiene.\n",
    "   Ejemplo de uso:\n",
    "\n",
    "```python\n",
    "    frases = [\n",
    "        \"Python es un lenguaje de programación\",\n",
    "        \"Me gusta resolver problemas con código\",\n",
    "        \"Las listas y los bucles son muy útiles\"\n",
    "    ]\n",
    "\n",
    "    procesar_frases(frases)\n",
    "```\n",
    "\n",
    "ejemplo de salida:\n",
    "\n",
    "```bash\n",
    "    La frase: \"Python es un...\"\n",
    "    tiene 6 palabras y 38 caracteres\n",
    "```\n"
   ]
  },
  {
   "cell_type": "code",
   "execution_count": 16,
   "metadata": {},
   "outputs": [
    {
     "name": "stdout",
     "output_type": "stream",
     "text": [
      "La frase: Python es un lenguaje de programación \n",
      " Tiene 6 palabras y 37 caracteres.\n",
      "\n",
      "La frase: Me gusta resolver problemas con código \n",
      " Tiene 6 palabras y 38 caracteres.\n",
      "\n",
      "La frase: Las listas y los bucles son muy útiles \n",
      " Tiene 8 palabras y 38 caracteres.\n",
      "\n"
     ]
    }
   ],
   "source": [
    "frases = [\n",
    "    \"Python es un lenguaje de programación\",\n",
    "    \"Me gusta resolver problemas con código\",\n",
    "    \"Las listas y los bucles son muy útiles\"\n",
    "]\n",
    "\n",
    "def procesar_frases(a):\n",
    "    for i in range(len(a)):\n",
    "        frase = a[i]\n",
    "        palabras = frase.split()\n",
    "        caracteres = list(frase)\n",
    "        print(f\"La frase: {frase} \\n Tiene {len(palabras)} palabras y {len(caracteres)} caracteres.\\n\")\n",
    "        \n",
    "procesar_frases(frases)"
   ]
  },
  {
   "cell_type": "markdown",
   "metadata": {},
   "source": [
    "## Ejercicio 2\n",
    "\n",
    "Escribe una función en Python que encuentre los valores de `a`, `b`, y `c` para que la función cuadrática `f(x) = aX^2 + bX + c` pase exactamente por los siguientes puntos:\n",
    "\n",
    "|   x |   y |\n",
    "| --: | --: |\n",
    "|   0 |   0 |\n",
    "|   1 |   8 |\n",
    "|   2 |  12 |\n",
    "|   3 |  12 |\n",
    "|   5 |   0 |\n",
    "\n",
    "### Requisitos:\n",
    "\n",
    "- La función debe explorar posibles valores de `a`, `b`, y `c` utilizando un método de prueba y error.\n",
    "- Debe devolver los valores que hagan que la diferencia entre la función `f(x)` y los valores medidos `y` sea exactamente cero para cada punto.\n",
    "\n",
    "> **Pista**: Los valores de `a`, `b`, y `c` son números pequeños.\n"
   ]
  },
  {
   "cell_type": "code",
   "execution_count": 2,
   "metadata": {},
   "outputs": [
    {
     "name": "stdout",
     "output_type": "stream",
     "text": [
      "Los valores necesarios para que la función pase por los puntos dados son los siguientes:\n",
      "a = -2\n",
      "b = 10\n",
      "c = 0\n"
     ]
    }
   ],
   "source": [
    "puntos = [{\"x\": 0, \"y\": 0}, {\"x\": 1, \"y\": 8}, {\"x\": 2, \"y\": 12}, {\"x\": 3, \"y\": 12}, {\"x\": 5, \"y\": 0}]\n",
    "\n",
    "def cuadratica(x, a, b, c):\n",
    "    return a*(x*x) + b*x + c\n",
    "\n",
    "def comprobar():\n",
    "    for a in range(-10, 11):\n",
    "        for b in range(-10, 11):\n",
    "            for c in range(-10, 11):\n",
    "                coincide = True\n",
    "                for punto in puntos:\n",
    "                    x = punto[\"x\"]\n",
    "                    y = punto[\"y\"]\n",
    "                    if cuadratica(x, a, b, c) != y:\n",
    "                        coincide = False\n",
    "                        break\n",
    "                if coincide == True:\n",
    "                        print(f\"Los valores necesarios para que la función pase por los puntos dados son los siguientes:\\na = {a}\\nb = {b}\\nc = {c}\")\n",
    "\n",
    "comprobar()"
   ]
  }
 ],
 "metadata": {
  "kernelspec": {
   "display_name": "Python 3",
   "language": "python",
   "name": "python3"
  },
  "language_info": {
   "codemirror_mode": {
    "name": "ipython",
    "version": 3
   },
   "file_extension": ".py",
   "mimetype": "text/x-python",
   "name": "python",
   "nbconvert_exporter": "python",
   "pygments_lexer": "ipython3",
   "version": "3.12.5"
  }
 },
 "nbformat": 4,
 "nbformat_minor": 2
}
