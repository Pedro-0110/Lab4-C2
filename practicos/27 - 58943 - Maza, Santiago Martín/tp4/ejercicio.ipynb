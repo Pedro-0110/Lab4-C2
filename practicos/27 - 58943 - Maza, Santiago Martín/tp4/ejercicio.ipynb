{
 "cells": [
  {
   "cell_type": "markdown",
   "metadata": {},
   "source": [
    "# Simulación del Truco"
   ]
  },
  {
   "cell_type": "markdown",
   "metadata": {},
   "source": [
    "Las **cartas** deben registra el numero, palo y valor de la carta. \n",
    "El valor debe reflejar la jerarquía de las cartas en el juego del truco."
   ]
  },
  {
   "cell_type": "code",
   "execution_count": 7,
   "metadata": {},
   "outputs": [
    {
     "name": "stdout",
     "output_type": "stream",
     "text": [
      "3 de Copa\n"
     ]
    }
   ],
   "source": [
    "def calcular_valor(numero, palo):\n",
    "    cartas = {\n",
    "            (1, \"Espada\"): 14,\n",
    "            (1, \"Basto\"): 13,\n",
    "            (7, \"Espada\"): 12,\n",
    "            (7, \"Oro\"): 11,\n",
    "            (3, ): 10,\n",
    "            (2, ): 9,\n",
    "            (1, ): 8,\n",
    "            (12, ): 7,\n",
    "            (11, ): 6,\n",
    "            (10, ): 5,\n",
    "            (7, ): 4,\n",
    "            (6, ): 3,\n",
    "            (5, ): 2,\n",
    "            (4, ): 1\n",
    "    }\n",
    "    return cartas.get((numero, palo), cartas.get((numero, ), 0))\n",
    "    \n",
    "class Carta:\n",
    "    def __init__(self, numero, palo):\n",
    "        self.numero = numero\n",
    "        self.palo = palo\n",
    "        self.valor = calcular_valor(numero, palo)\n",
    "    def __repr__(self):\n",
    "        return f\"{self.numero} de {self.palo}\"\n",
    "    \n",
    "c = Carta(3, \"Copa\")\n",
    "print(c)"
   ]
  },
  {
   "cell_type": "markdown",
   "metadata": {},
   "source": [
    "**Mazo**: Representan las cartas españolas de 1 al 12, en los palos de oro, copa, espada y basto.\n",
    "\n",
    "Debe existir una función que permita barajar las cartas.\n",
    "y otra función que permita repartir las cartas a los jugadores."
   ]
  },
  {
   "cell_type": "code",
   "execution_count": 24,
   "metadata": {},
   "outputs": [
    {
     "name": "stdout",
     "output_type": "stream",
     "text": [
      "[7 de Oro, 10 de Oro, 4 de Basto]\n"
     ]
    }
   ],
   "source": [
    "import random\n",
    "valores = [1,2,3,4,5,6,7,10,11,12]\n",
    "palos = [\"Espada\", \"Basto\", \"Oro\", \"Copa\"]\n",
    "\n",
    "class Mazo:\n",
    "    def __init__(self):\n",
    "        self.cartas = [Carta(valor, palo) for valor in valores for palo in palos]        \n",
    "    def mezclar(self):\n",
    "        random.shuffle(self.cartas)\n",
    "    def repartir(self, cantidad):\n",
    "        return [self.cartas.pop() for _ in range(cantidad)]\n",
    "    \n",
    "m = Mazo()\n",
    "m.mezclar()\n",
    "print(m.repartir(3))"
   ]
  },
  {
   "cell_type": "markdown",
   "metadata": {},
   "source": [
    "**Jugador**: Deben tener un nombre y las cartas que tiene en la mano. Debe acumular los puntos ganados.\n",
    "\n",
    "Nota: Para simplificar el problema, el jugador elige la carta a jugar de forma aleatoria."
   ]
  },
  {
   "cell_type": "code",
   "execution_count": 10,
   "metadata": {},
   "outputs": [
    {
     "name": "stdout",
     "output_type": "stream",
     "text": [
      "El jugador Santiago recibió [6 de Copa, 4 de Copa, 5 de Espada] y obtuvo 6 puntos\n"
     ]
    }
   ],
   "source": [
    "class Jugador:\n",
    "    def __init__(self, nombre):\n",
    "        self.nombre = nombre\n",
    "        self.puntos = 0\n",
    "        self.cartas = []\n",
    "    def recibir_cartas(self, cartas):\n",
    "        self.cartas = cartas\n",
    "    def jugar_carta(self):\n",
    "        for carta in self.cartas:\n",
    "            self.puntos += carta.valor\n",
    "        return f\"El jugador {self.nombre} recibió {self.cartas} y obtuvo {self.puntos} puntos\"\n",
    "j = Jugador(\"Santiago\")\n",
    "j.recibir_cartas(m.repartir(3))\n",
    "print(j.jugar_carta())"
   ]
  },
  {
   "cell_type": "markdown",
   "metadata": {},
   "source": [
    "**Partida**: Debe tener dos jugadores, un mazo de cartas y un puntaje. Debe permitir jugar una carta por ronda y definir el ganador de la ronda. Debe permitir jugar hasta que se terminen las cartas del mazo."
   ]
  },
  {
   "cell_type": "code",
   "execution_count": 84,
   "metadata": {},
   "outputs": [
    {
     "name": "stdout",
     "output_type": "stream",
     "text": [
      "- Cartas de Juan: [2 de Copa, 6 de Espada, 5 de Copa]. Obtuvo un puntaje de 14 puntos\n",
      "- Cartas de Pedro: [4 de Espada, 3 de Copa, 10 de Oro]. Obtuvo un puntaje de 16 puntos \n",
      "\n",
      "\u001b[1mPedro gana la ronda 1\u001b[0m \n",
      "\n",
      "- Puntaje de Juan: 0\n",
      "- Puntaje de Pedro: 1 \n",
      "\n",
      "\u001b[1mRondas jugadas: 1\u001b[0m \n",
      "\n",
      "- Cartas de Juan: [2 de Espada, 12 de Espada, 12 de Copa]. Obtuvo un puntaje de 23 puntos\n",
      "- Cartas de Pedro: [11 de Espada, 1 de Oro, 10 de Copa]. Obtuvo un puntaje de 19 puntos \n",
      "\n",
      "\u001b[1mJuan gana la ronda 2\u001b[0m \n",
      "\n",
      "- Puntaje de Juan: 1\n",
      "- Puntaje de Pedro: 1 \n",
      "\n",
      "\u001b[1mRondas jugadas: 2\u001b[0m \n",
      "\n",
      "- Cartas de Juan: [11 de Basto, 3 de Espada, 6 de Copa]. Obtuvo un puntaje de 19 puntos\n",
      "- Cartas de Pedro: [1 de Espada, 12 de Basto, 1 de Copa]. Obtuvo un puntaje de 29 puntos \n",
      "\n",
      "\u001b[1mPedro gana la ronda 3\u001b[0m \n",
      "\n",
      "- Puntaje de Juan: 1\n",
      "- Puntaje de Pedro: 2 \n",
      "\n",
      "\u001b[1mRondas jugadas: 3\u001b[0m \n",
      "\n",
      "El ganador es: \u001b[1mPedro\u001b[0m\n"
     ]
    }
   ],
   "source": [
    "class Partida:\n",
    "    def __init__(self, jugador1, jugador2):\n",
    "        self.jugador1 = jugador1\n",
    "        self.jugador2 = jugador2\n",
    "        self.mazo = Mazo()\n",
    "\n",
    "    def jugar_ronda(self):\n",
    "        self.mazo.mezclar()\n",
    "        self.jugador1.recibir_cartas(self.mazo.repartir(3))\n",
    "        self.jugador2.recibir_cartas(self.mazo.repartir(3))\n",
    "        \n",
    "        puntaje_jugador_1 = sum(carta.valor for carta in self.jugador1.cartas)\n",
    "        puntaje_jugador_2 = sum(carta.valor for carta in self.jugador2.cartas)\n",
    "\n",
    "        print(f\"- Cartas de {self.jugador1.nombre}: {self.jugador1.cartas}. Obtuvo un puntaje de {puntaje_jugador_1} puntos\")\n",
    "        print(f\"- Cartas de {self.jugador2.nombre}: {self.jugador2.cartas}. Obtuvo un puntaje de {puntaje_jugador_2} puntos \\n\")\n",
    "\n",
    "        if puntaje_jugador_1 > puntaje_jugador_2:\n",
    "            return self.jugador1\n",
    "        elif puntaje_jugador_2 > puntaje_jugador_1:\n",
    "            return self.jugador2\n",
    "        else:\n",
    "            return None\n",
    "        \n",
    "    def jugar(self):\n",
    "        rondas = 0\n",
    "\n",
    "        while rondas < 3 and (self.jugador1.puntos < 15 and self.jugador2.puntos < 15):\n",
    "            ganador = self.jugar_ronda()\n",
    "            if ganador:\n",
    "                ganador.puntos += 1\n",
    "                print(f\"\\033[1m{ganador.nombre} gana la ronda {rondas + 1}\\033[0m \\n\")\n",
    "            else:\n",
    "                print(\"Empate en la ronda\", rondas + 1, \"\\n\") \n",
    "\n",
    "            print(f\"- Puntaje de {self.jugador1.nombre}: {self.jugador1.puntos}\")\n",
    "            print(f\"- Puntaje de {self.jugador2.nombre}: {self.jugador2.puntos} \\n\")\n",
    "            rondas += 1\n",
    "            print(f\"\\033[1mRondas jugadas: {rondas}\\033[0m \\n\")\n",
    "\n",
    "        if rondas >= 3 and self.jugador1.puntos > self.jugador2.puntos:\n",
    "            print(f\"El ganador es: \\033[1m{self.jugador1.nombre}\\033[0m\")\n",
    "        elif rondas >= 3 and self.jugador1.puntos < self.jugador2.puntos:\n",
    "            print(f\"El ganador es: \\033[1m{self.jugador2.nombre}\\033[0m\")\n",
    "        else:\n",
    "            print(\"\\033[1mHubo un empate\\033[0m\")\n",
    "\n",
    "p = Partida(Jugador(\"Juan\"), Jugador(\"Pedro\"))\n",
    "p.jugar()"
   ]
  }
 ],
 "metadata": {
  "kernelspec": {
   "display_name": "Python 3",
   "language": "python",
   "name": "python3"
  },
  "language_info": {
   "codemirror_mode": {
    "name": "ipython",
    "version": 3
   },
   "file_extension": ".py",
   "mimetype": "text/x-python",
   "name": "python",
   "nbconvert_exporter": "python",
   "pygments_lexer": "ipython3",
   "version": "3.12.5"
  }
 },
 "nbformat": 4,
 "nbformat_minor": 2
}
