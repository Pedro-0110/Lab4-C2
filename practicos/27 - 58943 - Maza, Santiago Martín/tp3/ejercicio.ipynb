{
 "cells": [
  {
   "cell_type": "markdown",
   "metadata": {},
   "source": [
    "#TP3"
   ]
  },
  {
   "cell_type": "markdown",
   "metadata": {},
   "source": [
    "## Ejercicio 1: Cargar Datos de ventas.\n",
    "\n",
    "El archivo datos.dat contiene el registro de las ventas realizadas.\n",
    "\n",
    "Tiene un formato de ancho fijo:\n",
    "- fecha:    10 lugares\n",
    "- producto: 30 lugares\n",
    "- precio:   10 lugares\n",
    "- cantidad:  5 lugares\n",
    "\n",
    "hacer una funcion que carge los en una lista de diccionarios. \n",
    "\n",
    "nota: con \n",
    "```python\n",
    "lineas = open(\"datos.dat\", \"r\").readlines() \n",
    "```\n",
    "puede obtener la lista de string de todos los datos "
   ]
  },
  {
   "cell_type": "code",
   "execution_count": 8,
   "metadata": {},
   "outputs": [
    {
     "name": "stdout",
     "output_type": "stream",
     "text": [
      "[{'Producto': 'Mirinda', 'Precio': 1510.0, 'Cantidad': 14, 'Fecha': '2024-08-27'}, {'Producto': 'Mirinda', 'Precio': 1560.0, 'Cantidad': 12, 'Fecha': '2024-08-27'}, {'Producto': 'Torasso', 'Precio': 940.0, 'Cantidad': 8, 'Fecha': '2024-08-28'}, {'Producto': 'Pepsi Cola', 'Precio': 1210.0, 'Cantidad': 10, 'Fecha': '2024-08-29'}, {'Producto': 'Mirinda', 'Precio': 1520.0, 'Cantidad': 1, 'Fecha': '2024-08-30'}, {'Producto': 'Mirinda', 'Precio': 1550.0, 'Cantidad': 15, 'Fecha': '2024-09-01'}, {'Producto': 'Sprite', 'Precio': 810.0, 'Cantidad': 4, 'Fecha': '2024-09-01'}, {'Producto': 'Coca Cola', 'Precio': 1100.0, 'Cantidad': 4, 'Fecha': '2024-09-02'}, {'Producto': 'Pepsi Cola', 'Precio': 1220.0, 'Cantidad': 13, 'Fecha': '2024-09-02'}, {'Producto': 'Torasso', 'Precio': 910.0, 'Cantidad': 5, 'Fecha': '2024-09-02'}, {'Producto': 'Torasso', 'Precio': 920.0, 'Cantidad': 3, 'Fecha': '2024-09-02'}, {'Producto': 'Coca Cola', 'Precio': 1020.0, 'Cantidad': 8, 'Fecha': '2024-09-03'}, {'Producto': 'Mirinda', 'Precio': 1570.0, 'Cantidad': 7, 'Fecha': '2024-09-03'}, {'Producto': 'Mirinda', 'Precio': 1590.0, 'Cantidad': 2, 'Fecha': '2024-09-03'}, {'Producto': 'Pepsi Cola', 'Precio': 1220.0, 'Cantidad': 13, 'Fecha': '2024-09-04'}, {'Producto': 'Mirinda', 'Precio': 1500.0, 'Cantidad': 3, 'Fecha': '2024-09-05'}, {'Producto': 'Pepsi Cola', 'Precio': 1300.0, 'Cantidad': 5, 'Fecha': '2024-09-05'}, {'Producto': 'Coca Cola', 'Precio': 1080.0, 'Cantidad': 1, 'Fecha': '2024-09-06'}, {'Producto': 'Sprite', 'Precio': 860.0, 'Cantidad': 12, 'Fecha': '2024-09-06'}, {'Producto': 'Torasso', 'Precio': 930.0, 'Cantidad': 3, 'Fecha': '2024-09-06'}, {'Producto': 'Coca Cola', 'Precio': 1080.0, 'Cantidad': 14, 'Fecha': '2024-09-07'}, {'Producto': 'Sprite', 'Precio': 870.0, 'Cantidad': 13, 'Fecha': '2024-09-07'}, {'Producto': 'Coca Cola', 'Precio': 1040.0, 'Cantidad': 10, 'Fecha': '2024-09-08'}, {'Producto': 'Mirinda', 'Precio': 1580.0, 'Cantidad': 2, 'Fecha': '2024-09-08'}, {'Producto': 'Pepsi Cola', 'Precio': 1240.0, 'Cantidad': 9, 'Fecha': '2024-09-08'}, {'Producto': 'Mirinda', 'Precio': 1500.0, 'Cantidad': 3, 'Fecha': '2024-09-09'}, {'Producto': 'Sprite', 'Precio': 850.0, 'Cantidad': 9, 'Fecha': '2024-09-09'}, {'Producto': 'Mirinda', 'Precio': 1590.0, 'Cantidad': 8, 'Fecha': '2024-09-10'}, {'Producto': 'Pepsi Cola', 'Precio': 1250.0, 'Cantidad': 12, 'Fecha': '2024-09-10'}, {'Producto': 'Sprite', 'Precio': 810.0, 'Cantidad': 6, 'Fecha': '2024-09-11'}, {'Producto': 'Sprite', 'Precio': 820.0, 'Cantidad': 14, 'Fecha': '2024-09-11'}, {'Producto': 'Coca Cola', 'Precio': 1080.0, 'Cantidad': 4, 'Fecha': '2024-09-12'}, {'Producto': 'Mirinda', 'Precio': 1580.0, 'Cantidad': 5, 'Fecha': '2024-09-13'}, {'Producto': 'Pepsi Cola', 'Precio': 1250.0, 'Cantidad': 13, 'Fecha': '2024-09-13'}, {'Producto': 'Coca Cola', 'Precio': 1080.0, 'Cantidad': 15, 'Fecha': '2024-09-14'}, {'Producto': 'Pepsi Cola', 'Precio': 1270.0, 'Cantidad': 14, 'Fecha': '2024-09-14'}, {'Producto': 'Coca Cola', 'Precio': 1100.0, 'Cantidad': 1, 'Fecha': '2024-09-15'}, {'Producto': 'Mirinda', 'Precio': 1500.0, 'Cantidad': 13, 'Fecha': '2024-09-15'}, {'Producto': 'Sprite', 'Precio': 870.0, 'Cantidad': 14, 'Fecha': '2024-09-15'}, {'Producto': 'Torasso', 'Precio': 900.0, 'Cantidad': 13, 'Fecha': '2024-09-15'}]\n"
     ]
    }
   ],
   "source": [
    "def cargar_datos():\n",
    "    datos = open(\"datos.dat\", \"r\").readlines()\n",
    "    datosFichero = []\n",
    "    \n",
    "    for dato in datos:\n",
    "        fecha = dato[0:10].strip()\n",
    "        producto = dato[10:40].strip()\n",
    "        precio = float(dato[40:50].strip())\n",
    "        cantidad = int(dato[50:55].strip())\n",
    "    \n",
    "        dictData = {\"Producto\": producto, \"Precio\": precio, \"Cantidad\": cantidad, \"Fecha\": fecha}\n",
    "        datosFichero.append(dictData)\n",
    "\n",
    "    return datosFichero\n",
    "datos = cargar_datos()\n",
    "\n",
    "print(datos)"
   ]
  },
  {
   "cell_type": "markdown",
   "metadata": {},
   "source": [
    "## Ejercicio 2: Calcular el total de ventas.\n",
    "\n",
    "Hacer una funcion que sume los importes vendidos (precio * cantidad) y las cantidades"
   ]
  },
  {
   "cell_type": "code",
   "execution_count": 7,
   "metadata": {},
   "outputs": [
    {
     "name": "stdout",
     "output_type": "stream",
     "text": [
      "Las ventas fueron de $392730.0 en 335 unidades\n"
     ]
    }
   ],
   "source": [
    "datos = open(\"datos.dat\", \"r\").readlines()\n",
    "def calcular_totales(datos):\n",
    "    datosFichero = []\n",
    "    importe = 0\n",
    "    totalCant = 0\n",
    "    \n",
    "    for dato in datos:\n",
    "        producto = dato[10:40].strip()\n",
    "        precio = float(dato[40:50].strip())\n",
    "        cantidad = int(dato[50:55].strip())\n",
    "    \n",
    "        dictData = {\"Producto\": producto, \"Precio\": precio, \"Cantidad\": cantidad}\n",
    "        datosFichero.append(dictData)\n",
    "    \n",
    "    for producto in datosFichero:\n",
    "        price = producto['Precio']\n",
    "        quantity = producto['Cantidad']\n",
    "\n",
    "        importe += price * quantity\n",
    "        totalCant += quantity\n",
    "\n",
    "    return importe, totalCant\n",
    "\n",
    "importe, cantidad = calcular_totales(datos)\n",
    "\n",
    "print(f\"Las ventas fueron de ${importe} en {cantidad} unidades\")"
   ]
  },
  {
   "cell_type": "markdown",
   "metadata": {},
   "source": [
    "## Ejercicio 3: Listar las unidades vendidas.\n",
    "\n",
    "Listar cuantas unidades se vendieron en total para cada producto"
   ]
  },
  {
   "cell_type": "code",
   "execution_count": 127,
   "metadata": {},
   "outputs": [
    {
     "name": "stdout",
     "output_type": "stream",
     "text": [
      "Cantidad vendida de cada producto:\n",
      "Mirinda: 85 unidades\n",
      "Torasso: 32 unidades\n",
      "Pepsi Cola: 89 unidades\n",
      "Sprite: 72 unidades\n",
      "Coca Cola: 57 unidades\n",
      "\n",
      "{'Mirinda': 85, 'Torasso': 32, 'Pepsi Cola': 89, 'Sprite': 72, 'Coca Cola': 57}\n"
     ]
    }
   ],
   "source": [
    "def unidades_vendidas(datos):\n",
    "    diccionario = {}\n",
    "    for dato in datos:\n",
    "        producto = dato[10:40].strip()\n",
    "        cantidad = int(dato[50:55].strip())\n",
    "\n",
    "        if producto in diccionario:\n",
    "            diccionario[producto] += cantidad\n",
    "        else:\n",
    "            diccionario[producto] = cantidad\n",
    "    \n",
    "    return diccionario\n",
    "\n",
    "def listar_ventas(datos):\n",
    "    print(\"Cantidad vendida de cada producto:\")\n",
    "    for producto, cantidad in datos.items():\n",
    "        print(f\"{producto}: {cantidad} unidades\")\n",
    "    print()\n",
    "ventas = unidades_vendidas(datos)\n",
    "listar_ventas(ventas)\n",
    "\n",
    "print(ventas)"
   ]
  },
  {
   "cell_type": "markdown",
   "metadata": {},
   "source": [
    "##  Ejercicio 4: Listar el precio promedio por producto.\n",
    "\n",
    "Hacer un listado del precio promedio por productos."
   ]
  },
  {
   "cell_type": "code",
   "execution_count": 379,
   "metadata": {},
   "outputs": [
    {
     "name": "stdout",
     "output_type": "stream",
     "text": [
      "Mirinda: $1545.83\n",
      "Torasso: $920.0\n",
      "Pepsi Cola: $1245.0\n",
      "Sprite: $841.43\n",
      "Coca Cola: $1072.5\n",
      "\n",
      "{'Mirinda': 1545.83, 'Torasso': 920.0, 'Pepsi Cola': 1245.0, 'Sprite': 841.43, 'Coca Cola': 1072.5}\n"
     ]
    }
   ],
   "source": [
    "def precio_promedio(datos):\n",
    "    listaProd = []\n",
    "    precios_por_producto = {}\n",
    "    promediosProd = {}\n",
    "\n",
    "    for datum in datos:\n",
    "        producto = datum[10:40].strip()\n",
    "        precio = float(datum[40:50].strip())\n",
    "\n",
    "        dictData = {\"Producto\": producto, \"Precio\": precio}\n",
    "        listaProd.append(dictData)\n",
    "\n",
    "    for prodInd in listaProd:\n",
    "        prod = prodInd[\"Producto\"]\n",
    "        price = prodInd[\"Precio\"]\n",
    "\n",
    "        if prod not in precios_por_producto:\n",
    "            precios_por_producto[prod] = []\n",
    "        \n",
    "        precios_por_producto[prod].append(price)\n",
    "\n",
    "    for producto, precios in precios_por_producto.items():\n",
    "        average = sum(precios) / len(precios)\n",
    "        promediosProd[producto] = round(average,2)\n",
    "\n",
    "    return promediosProd\n",
    "\n",
    "def listar_precios(datos):\n",
    "    for prod in datos:\n",
    "        print(f\"{prod}: ${datos[prod]}\")\n",
    "    print()\n",
    "\n",
    "precios = precio_promedio(datos)\n",
    "listar_precios(precios)\n",
    "\n",
    "print(precios)"
   ]
  },
  {
   "cell_type": "markdown",
   "metadata": {},
   "source": [
    "### Ejercicio 5: Ranking de productos\n",
    "\n",
    "Realizar un listado de los 3 productos mas vendidos ordenados la cantidad de unidades vendidas (ordenadas de mayor a menor)\n"
   ]
  },
  {
   "cell_type": "code",
   "execution_count": 367,
   "metadata": {},
   "outputs": [
    {
     "name": "stdout",
     "output_type": "stream",
     "text": [
      "Ranking de ventas: \n",
      "1: Pepsi Cola\n",
      "2: Mirinda\n",
      "3: Sprite\n",
      "\n",
      "{'Pepsi Cola': 89, 'Mirinda': 85, 'Sprite': 72}\n"
     ]
    }
   ],
   "source": [
    "def ranking_productos(datos, top=3):\n",
    "    cantVendida = {}\n",
    "\n",
    "    for datum in datos:\n",
    "        producto = datum[10:40].strip()\n",
    "        cantidad = int(datum[50:55].strip())\n",
    "\n",
    "        if producto in cantVendida:\n",
    "            cantVendida[producto] += cantidad\n",
    "        else:\n",
    "            cantVendida[producto] = cantidad\n",
    "    \n",
    "    sorted_Dict = sorted(cantVendida.items(), key=lambda item: item[1], reverse=True)\n",
    "    rank_ventas = dict(sorted_Dict[0:top])\n",
    "\n",
    "    return rank_ventas\n",
    "    \n",
    "def listar_ranking(ranking):\n",
    "    print(\"Ranking de ventas: \")\n",
    "    for i, prod in enumerate(ranking):\n",
    "        print(f\"{i + 1}: {prod}\")\n",
    "    print()\n",
    "\n",
    "ranking = ranking_productos(datos)\n",
    "listar_ranking(ranking)\n",
    "\n",
    "print(ranking)"
   ]
  },
  {
   "cell_type": "markdown",
   "metadata": {},
   "source": [
    "### Ejercicio 6: Listar las ventas por mes\n",
    "\n",
    "Realizar un listado del total de unidades vendidas por productos separada por mes."
   ]
  },
  {
   "cell_type": "code",
   "execution_count": 366,
   "metadata": {},
   "outputs": [
    {
     "name": "stdout",
     "output_type": "stream",
     "text": [
      "Mes: Agosto\n",
      "Mirinda: 27 unidades\n",
      "Torasso: 8 unidades\n",
      "Pepsi Cola: 10 unidades\n",
      "\n",
      "Mes: Septiembre\n",
      "Mirinda: 58 unidades\n",
      "Sprite: 72 unidades\n",
      "Coca Cola: 57 unidades\n",
      "Pepsi Cola: 79 unidades\n",
      "Torasso: 24 unidades\n",
      "\n",
      "{'Agosto': {'Mirinda': 27, 'Torasso': 8, 'Pepsi Cola': 10}, 'Septiembre': {'Mirinda': 58, 'Sprite': 72, 'Coca Cola': 57, 'Pepsi Cola': 79, 'Torasso': 24}}\n"
     ]
    }
   ],
   "source": [
    "def ventas_por_mes(datos):\n",
    "    ventasMensuales = {}\n",
    "    meses = {\n",
    "    '01': 'Enero', '02': 'Febrero', '03': 'Marzo', '04': 'Abril',\n",
    "    '05': 'Mayo', '06': 'Junio', '07': 'Julio', '08': 'Agosto',\n",
    "    '09': 'Septiembre', '10': 'Octubre', '11': 'Noviembre', '12': 'Diciembre'\n",
    "}\n",
    "\n",
    "    for dato in datos:\n",
    "        producto = dato[10:40].strip()\n",
    "        cantidad = int(dato[50:55].strip())\n",
    "        fecha = dato[5:7].strip()\n",
    "\n",
    "        mes = meses.get(fecha)\n",
    "\n",
    "        if mes not in ventasMensuales:\n",
    "            ventasMensuales[mes] = {}\n",
    "\n",
    "        if producto not in ventasMensuales[mes]:\n",
    "            ventasMensuales[mes][producto] = cantidad\n",
    "        else:\n",
    "            ventasMensuales[mes][producto] += cantidad\n",
    "\n",
    "    return ventasMensuales\n",
    "def listar_ventas_mensuales(ventas):\n",
    "    for mes in ventas:\n",
    "        print(f\"Mes: {mes}\")\n",
    "        for producto, cantidad in ventas[mes].items():\n",
    "            print(f\"{producto}: {cantidad} unidades\")\n",
    "        print()\n",
    "        \n",
    "ventas = ventas_por_mes(datos)\n",
    "listar_ventas_mensuales(ventas)\n",
    "\n",
    "print(ventas)"
   ]
  },
  {
   "cell_type": "markdown",
   "metadata": {},
   "source": [
    "### Ejercicio 7: Informe general\n",
    "\n",
    "Mostrar un listado de productos ordenados alfabeticamente que contengan el precio promedio, la cantidad de unidades vendidas y el importe total vendido para cada producto"
   ]
  },
  {
   "cell_type": "code",
   "execution_count": 330,
   "metadata": {},
   "outputs": [
    {
     "name": "stdout",
     "output_type": "stream",
     "text": [
      "Producto        Precio        Cantidad         Importe          Precio Promedio\n",
      "--------------------------------------------------------------------------------\n",
      "Coca Cola       $8580.0          57           $489060.0             $150.53         \n",
      "Mirinda         $18550.0         85           $1576750.0            $218.24         \n",
      "Pepsi Cola      $9960.0          89           $886440.0             $111.91         \n",
      "Sprite          $5890.0          72           $424080.0             $81.81          \n",
      "Torasso         $4600.0          32           $147200.0             $143.75         \n",
      "\n",
      "{'Mirinda': {'Precio': 18550.0, 'Cantidad': 85, 'Importe': 1576750.0, 'Precio_Promedio': 218.24}, 'Torasso': {'Precio': 4600.0, 'Cantidad': 32, 'Importe': 147200.0, 'Precio_Promedio': 143.75}, 'Pepsi Cola': {'Precio': 9960.0, 'Cantidad': 89, 'Importe': 886440.0, 'Precio_Promedio': 111.91}, 'Sprite': {'Precio': 5890.0, 'Cantidad': 72, 'Importe': 424080.0, 'Precio_Promedio': 81.81}, 'Coca Cola': {'Precio': 8580.0, 'Cantidad': 57, 'Importe': 489060.0, 'Precio_Promedio': 150.53}}\n"
     ]
    }
   ],
   "source": [
    "def resumen_ventas(datos):\n",
    "    ventas = {}\n",
    "\n",
    "    for dato in datos:\n",
    "        producto = dato[10:40].strip()\n",
    "        precio_unitario = float(dato[40:50].strip())\n",
    "        cantidad = int(dato[50:55].strip())\n",
    "\n",
    "        if producto not in ventas:\n",
    "            ventas[producto] = {\"Precio\": 0, \"Cantidad\": 0, \"Importe\": 0}\n",
    "        \n",
    "        ventas[producto][\"Precio\"] += precio_unitario\n",
    "        ventas[producto][\"Cantidad\"] += cantidad\n",
    "        ventas[producto][\"Importe\"] = ventas[producto][\"Precio\"] * ventas[producto][\"Cantidad\"] \n",
    "\n",
    "        cantidad_total = ventas[producto][\"Cantidad\"]\n",
    "        precio_total = ventas[producto][\"Precio\"]\n",
    "\n",
    "        if cantidad_total > 0:\n",
    "            ventas[producto][\"Precio_Promedio\"] = round((precio_total / cantidad_total),2)\n",
    "    \n",
    "    return ventas\n",
    "\n",
    "def informe_ventas(datos):\n",
    "    ventas_ordenadas = sorted(datos.items())\n",
    "    \n",
    "    print(f\"{'Producto':<15} {'Precio':<13} {'Cantidad':<16} {'Importe':<16} {'Precio Promedio':<15}\")\n",
    "    print(\"-\" * 80)\n",
    "\n",
    "    for producto, detalles in ventas_ordenadas:\n",
    "        precio = detalles[\"Precio\"]\n",
    "        cantidad = detalles[\"Cantidad\"]\n",
    "        importe = detalles[\"Importe\"]\n",
    "        precio_promedio = detalles[\"Precio_Promedio\"]\n",
    "\n",
    "        print(f\"{producto:<15} ${precio:<15} {cantidad:<12} ${importe:<20} ${precio_promedio:<15}\")\n",
    "    print()\n",
    "resumen = resumen_ventas(datos)\n",
    "informe_ventas(resumen)\n",
    "\n",
    "print(resumen)"
   ]
  }
 ],
 "metadata": {
  "kernelspec": {
   "display_name": "Python 3",
   "language": "python",
   "name": "python3"
  },
  "language_info": {
   "codemirror_mode": {
    "name": "ipython",
    "version": 3
   },
   "file_extension": ".py",
   "mimetype": "text/x-python",
   "name": "python",
   "nbconvert_exporter": "python",
   "pygments_lexer": "ipython3",
   "version": "3.12.5"
  }
 },
 "nbformat": 4,
 "nbformat_minor": 2
}
