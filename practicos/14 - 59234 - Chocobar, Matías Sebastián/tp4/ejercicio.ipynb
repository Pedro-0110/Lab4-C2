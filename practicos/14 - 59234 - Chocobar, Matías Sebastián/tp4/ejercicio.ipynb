{
 "cells": [
  {
   "cell_type": "markdown",
   "metadata": {},
   "source": [
    "# Simulación del Truco"
   ]
  },
  {
   "cell_type": "markdown",
   "metadata": {},
   "source": [
    "Las **cartas** deben registra el numero, palo y valor de la carta. \n",
    "El valor debe reflejar la jerarquía de las cartas en el juego del truco."
   ]
  },
  {
   "cell_type": "code",
   "execution_count": 57,
   "metadata": {},
   "outputs": [
    {
     "name": "stdout",
     "output_type": "stream",
     "text": [
      "1) - Definicion de la clase Carta\n",
      "     ----------------------------\n",
      "La Carta 1 de oro tiene un valor = 8\n"
     ]
    }
   ],
   "source": [
    "def calcular_valor(numero, palo):\n",
    "    # defino un diccionario con la jerarquia de las cartas\n",
    "    jerarquia = {\n",
    "        (1,\"espada\"):14,\n",
    "        (1,\"basto\"):13,\n",
    "        (7,\"oro\"):12,\n",
    "        (7,\"copa\"):11,\n",
    "        (3,\"copa\"):10,(3,\"basto\"):10,(3,\"oro\"):10,(3,\"espada\"):10,\n",
    "        (2,\"copa\"):9,(2,\"basto\"):9,(2,\"oro\"):9,(2,\"espada\"):9,\n",
    "        (1,\"copa\"):8,(1,\"oro\"):8,\n",
    "        (12,\"copa\"):7,(12,\"basto\"):7,(12,\"oro\"):7,(12,\"espada\"):7,\n",
    "        (11,\"copa\"):6,(11,\"basto\"):6,(11,\"oro\"):6,(11,\"espada\"):6,\n",
    "        (10,\"copa\"):5,(10,\"basto\"):5,(10,\"oro\"):5,(10,\"espada\"):5,\n",
    "        (7,\"copa\"):4,(7,\"basto\"):4,\n",
    "        (6,\"copa\"):3,(6,\"basto\"):3,(6,\"oro\"):3,(6,\"espada\"):3,\n",
    "        (5,\"copa\"):2,(5,\"basto\"):2,(5,\"oro\"):2,(5,\"espada\"):2,\n",
    "        (4,\"copa\"):1,(4,\"basto\"):1,(4,\"oro\"):1,(4,\"espada\"):1\n",
    "    }\n",
    "    # devuelvo el valor de la carta con el palo correspondiente en caso de no estar en el diccionario devuelvo 0\n",
    "    return jerarquia.get((numero, palo),0)\n",
    "class Carta:\n",
    "    def __init__(self, numero, palo):\n",
    "        self.numero = numero\n",
    "        self.palo = palo\n",
    "        self.valor = calcular_valor(numero,palo)\n",
    "    # defino el metodo __str__ para que al imprimir un objeto de la clase Carta muestre el numero y el palo\n",
    "    \n",
    "    def __str__(self):\n",
    "        return f\"{self.numero} de {self.palo}\"\n",
    "\n",
    "c = Carta(1, \"oro\")\n",
    "print(\"1) - Definicion de la clase Carta\")\n",
    "print(\"     ----------------------------\")\n",
    "print(f\"La Carta {c} tiene un valor = {c.valor}\")"
   ]
  },
  {
   "cell_type": "markdown",
   "metadata": {},
   "source": [
    "**Mazo**: Representan las cartas españolas de 1 al 12, en los palos de oro, copa, espada y basto.\n",
    "\n",
    "Debe existir una función que permita barajar las cartas.\n",
    "y otra función que permita repartir las cartas a los jugadores."
   ]
  },
  {
   "cell_type": "code",
   "execution_count": 59,
   "metadata": {},
   "outputs": [
    {
     "name": "stdout",
     "output_type": "stream",
     "text": [
      "Las cartas repartidas son : [('3 de basto', 10), ('4 de basto', 1), ('10 de espada', 5)]\n"
     ]
    }
   ],
   "source": [
    "import random\n",
    "\n",
    "\n",
    "# defino la clase Mazo\n",
    "class Mazo:\n",
    "    def __init__(self): # defino el constructor de la clase\n",
    "        numeros = [1,2,3,4,5,6,7,10,11,12]\n",
    "        palos = [\"espada\",\"basto\",\"oro\",\"copa\"]\n",
    "        # creo una lista de objetos de la clase Carta  \n",
    "        self.cartas = [Carta(numero, palo) for numero in numeros for palo in palos]\n",
    "        \n",
    "    def mezclar(self):\n",
    "        \n",
    "        random.shuffle(self.cartas)# mezclo las cartas del mazo\n",
    "                    \n",
    "    def repartir(self, cantidad):\n",
    "        \n",
    "        # si la cantidad de cartas a repartir es mayor a la cantidad de cartas en el mazo devuelvo un mensaje\n",
    "        if cantidad > len(self.cartas):\n",
    "            return \"No hay suficientes cartas\"\n",
    "        repartidas = self.cartas[:cantidad] # reparto la cantidad de cartas solicitadas\n",
    "        self.cartas = self.cartas[cantidad:]# actualizo el mazo con las cartas restantes\n",
    "        return [(str(carta), carta.valor) for carta in repartidas] # devuelvo una lista con las cartas repartidas y su valor\n",
    "\n",
    "m = Mazo()\n",
    "m.mezclar()\n",
    "print(f\"Las cartas repartidas son : {m.repartir(3)}\")"
   ]
  },
  {
   "cell_type": "markdown",
   "metadata": {},
   "source": [
    "**Jugador**: Deben tener un nombre y las cartas que tiene en la mano. Debe acumular los puntos ganados.\n",
    "\n",
    "Nota: Para simplificar el problema, el jugador elige la carta a jugar de forma aleatoria."
   ]
  },
  {
   "cell_type": "code",
   "execution_count": 61,
   "metadata": {},
   "outputs": [
    {
     "name": "stdout",
     "output_type": "stream",
     "text": [
      "Juan recibe las siguientes cartas: ['4 de oro', '2 de espada', '6 de oro'] y tiene 13 puntos\n",
      "Juan juega 4 de oro\n"
     ]
    }
   ],
   "source": [
    "class Jugador:\n",
    "    # defino el constructor de la clase Jugador\n",
    "    def __init__(self, nombre):\n",
    "        self.nombre = nombre # defino el atributo nombre\n",
    "        self.cartas = [] # defino el atributo cartas como una lista vacia\n",
    "        self.puntos = 0 # defino el atributo puntos en 0\n",
    "        # defino el metodo recibir_cartas que recibe una lista de cartas\n",
    "    def recibir_cartas(self, cartas):\n",
    "        # recorro la lista de cartas y las agrego a la lista de cartas del jugador\n",
    "        self.cartas = [carta_str for carta_str, _ in cartas]\n",
    "        self.puntos = sum(carta_valor for _ , carta_valor in cartas)\n",
    "        print(f\"{self.nombre} recibe las siguientes cartas: {self.cartas} y tiene {self.puntos} puntos\")\n",
    "    # defino el metodo jugar_carta que devuelve un mensaje con la carta jugada\n",
    "    def jugar_carta(self):\n",
    "        # si el jugador tiene cartas en la lista de cartas\n",
    "        if self.cartas:\n",
    "            # saco la primera carta de la lista de cartas\n",
    "            carta_jugada = self.cartas.pop(0)\n",
    "            # devuelvo un mensaje con la carta jugada\n",
    "            return f\"{self.nombre} juega {carta_jugada}\"\n",
    "        else:# si el jugador no tiene cartas en la lista de cartas devuelvo un mensaje\n",
    "            # con el nombre del jugador y que no tiene mas cartas\n",
    "            return f\"{self.nombre} No tengo mas cartas\"\n",
    "\n",
    "\n",
    "m = Mazo()\n",
    "m.mezclar()\n",
    "j = Jugador(\"Juan\")\n",
    "j.recibir_cartas(m.repartir(3))\n",
    "print(j.jugar_carta())"
   ]
  },
  {
   "cell_type": "markdown",
   "metadata": {},
   "source": []
  },
  {
   "cell_type": "markdown",
   "metadata": {},
   "source": [
    "**Partida**: Debe tener dos jugadores, un mazo de cartas y un puntaje. Debe permitir jugar una carta por ronda y definir el ganador de la ronda. Debe permitir jugar hasta que se terminen las cartas del mazo."
   ]
  },
  {
   "cell_type": "code",
   "execution_count": 70,
   "metadata": {},
   "outputs": [
    {
     "name": "stdout",
     "output_type": "stream",
     "text": [
      "Juan recibe las siguientes cartas: ['1 de espada', '1 de basto', '1 de oro'] y tiene 35 puntos\n",
      "Pedro recibe las siguientes cartas: ['1 de copa', '2 de espada', '2 de basto'] y tiene 26 puntos\n",
      "Juan recibe las siguientes cartas: ['4 de oro', '11 de basto', '3 de copa'] y tiene 17 puntos\n",
      "Pedro recibe las siguientes cartas: ['7 de espada', '3 de espada', '6 de oro'] y tiene 13 puntos\n",
      "Juan recibe las siguientes cartas: ['10 de copa', '4 de copa', '7 de oro'] y tiene 18 puntos\n",
      "Pedro recibe las siguientes cartas: ['11 de oro', '11 de espada', '10 de basto'] y tiene 17 puntos\n",
      "Juan recibe las siguientes cartas: ['2 de copa', '5 de copa', '11 de copa'] y tiene 17 puntos\n",
      "Pedro recibe las siguientes cartas: ['4 de espada', '2 de oro', '10 de espada'] y tiene 15 puntos\n",
      "Juan recibe las siguientes cartas: ['3 de basto', '10 de oro', '12 de copa'] y tiene 22 puntos\n",
      "Pedro recibe las siguientes cartas: ['5 de oro', '7 de copa', '4 de basto'] y tiene 7 puntos\n",
      "Juan recibe las siguientes cartas: ['5 de espada', '7 de basto', '6 de espada'] y tiene 9 puntos\n",
      "Pedro recibe las siguientes cartas: ['5 de basto', '3 de oro', '12 de oro'] y tiene 19 puntos\n",
      "Fin del juego no hay ganador\n"
     ]
    }
   ],
   "source": [
    "class Partida:\n",
    "    def __init__(self, jugador1, jugador2):\n",
    "     self.jugador1 = jugador1 # defino el atributo jugador1\n",
    "     self.jugador2 = jugador2 # defino el atributo jugador2\n",
    "     self.mazo = Mazo() # defino el atributo mazo\n",
    "     self.puntaje_jugador1 = 0 # defino el atributo puntaje_jugador1 en 0\n",
    "     self.puntaje_jugador2 = 0 # defino el atributo puntaje_jugador2 en 0\n",
    "\n",
    "    def jugar_ronda(self):\n",
    "        # defino el metodo jugar_ronda\n",
    "        carta_j1 = self.jugador1.jugar_carta()\n",
    "        carta_j2 = self.jugador2.jugar_carta()\n",
    "        # si las cartas jugadas por los jugadores no son None\n",
    "        if carta_j1 and carta_j2:\n",
    "            print(f\"{self.jugador1.nombre} juega {carta_j1}\")\n",
    "            print(f\"{self.jugador2.nombre} juega {carta_j2}\")\n",
    "# si la carta jugada por el jugador 1 tiene un valor mayor a la carta jugada por el jugador 2\n",
    "            if carta_j1.numero > carta_j2.numero:\n",
    "              self.puntaje_jugador1 +=1\n",
    "              print(f\"{self.jugador1.nombre} gana la ronda\")\n",
    "              # si la carta jugada por el jugador 1 tiene un valor menor a la carta jugada por el jugador 2\n",
    "            elif carta_j1.numero < carta_j2.numero:\n",
    "              self.puntaje_jugador2 +=1\n",
    "              print(f\"{self.jugador2.nombre} gano la ronda\")\n",
    "              \n",
    "            else:\n",
    "              print(\"Empate en la ronda\")\n",
    "            \n",
    "    def jugar(self):\n",
    "        while self.puntaje_jugador1 < 15 and self.puntaje_jugador2 < 15 and len(self.mazo.cartas) >= 6:\n",
    "            \n",
    "            self.jugador1.recibir_cartas(self.mazo.repartir(3))\n",
    "            self.jugador2.recibir_cartas(self.mazo.repartir(3))\n",
    "            self.mazo.mezclar()\n",
    "        \n",
    "        if self.puntaje_jugador1 >= 15:\n",
    "            print(f\"{self.jugador1.nombre} gano la partida\")\n",
    "        elif self.puntaje_jugador2 >= 15:\n",
    "            print(f\"{self.jugador2.nombre} gano la partida\")\n",
    "        else:\n",
    "            print(\"Fin del juego no hay ganador\")\n",
    "        \n",
    "\n",
    "p = Partida(Jugador(\"Juan\"), Jugador(\"Pedro\"))\n",
    "p.jugar()"
   ]
  },
  {
   "cell_type": "code",
   "execution_count": null,
   "metadata": {},
   "outputs": [],
   "source": []
  }
 ],
 "metadata": {
  "kernelspec": {
   "display_name": "Python 3",
   "language": "python",
   "name": "python3"
  },
  "language_info": {
   "codemirror_mode": {
    "name": "ipython",
    "version": 3
   },
   "file_extension": ".py",
   "mimetype": "text/x-python",
   "name": "python",
   "nbconvert_exporter": "python",
   "pygments_lexer": "ipython3",
   "version": "3.12.5"
  }
 },
 "nbformat": 4,
 "nbformat_minor": 2
}
