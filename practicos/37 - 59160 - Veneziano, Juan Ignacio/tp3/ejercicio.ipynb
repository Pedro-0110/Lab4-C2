{
 "cells": [
  {
   "cell_type": "markdown",
   "metadata": {},
   "source": [
    "#TP3"
   ]
  },
  {
   "cell_type": "markdown",
   "metadata": {},
   "source": [
    "## Ejercicio 1: Cargar Datos de ventas.\n",
    "\n",
    "El archivo datos.dat contiene el registro de las ventas realizadas.\n",
    "\n",
    "Tiene un formato de ancho fijo:\n",
    "- fecha:    10 lugares\n",
    "- producto: 30 lugares\n",
    "- precio:   10 lugares\n",
    "- cantidad:  5 lugares\n",
    "\n",
    "hacer una funcion que carge los en una lista de diccionarios. \n",
    "\n",
    "nota: con \n",
    "```python\n",
    "lineas = open(\"datos.dat\", \"r\").readlines() \n",
    "```\n",
    "puede obtener la lista de string de todos los datos "
   ]
  },
  {
   "cell_type": "code",
   "execution_count": null,
   "metadata": {},
   "outputs": [],
   "source": [
    "def cargar_datos():\n",
    "    lineas = open(\"datos.dat\", \"r\").readlines()  \n",
    "    datos = []\n",
    "    \n",
    "    for linea in lineas:\n",
    "     \n",
    "        fecha = linea[0:10].strip()         \n",
    "        producto = linea[10:40].strip()      \n",
    "        precio = float(linea[40:50].strip()) \n",
    "        cantidad = int(linea[50:55].strip()) \n",
    "    \n",
    "        registro = {\n",
    "            \"fecha\": fecha,\n",
    "            \"producto\": producto,\n",
    "            \"precio\": precio,\n",
    "            \"cantidad\": cantidad\n",
    "        }\n",
    "        datos.append(registro)\n",
    "\n",
    "    return datos\n",
    "lista_datos = cargar_datos()\n",
    "\n",
    "for registro in lista_datos:\n",
    "    print(registro)\n"
   ]
  },
  {
   "cell_type": "markdown",
   "metadata": {},
   "source": [
    "## Ejercicio 2: Calcular el total de ventas.\n",
    "\n",
    "Hacer una funcion que sume los importes vendidos (precio * cantidad) y las cantidades"
   ]
  },
  {
   "cell_type": "code",
   "execution_count": null,
   "metadata": {},
   "outputs": [],
   "source": [
    "def calcular_totales_archivo(file_name):\n",
    "    total_importe = 0.0\n",
    "    total_cantidad = 0\n",
    "    lineas = open(file_name, \"r\").readlines()\n",
    "\n",
    "    for linea in lineas:\n",
    "        \n",
    "        fecha = linea[:10].strip()  \n",
    "        producto = linea[10:40].strip()  \n",
    "        precio = float(linea[40:50].strip())  \n",
    "        cantidad = int(linea[50:55].strip())  \n",
    "   \n",
    "        importe = precio * cantidad\n",
    "        total_importe += importe\n",
    "        total_cantidad += cantidad\n",
    "\n",
    "    return total_importe, total_cantidad\n",
    "\n",
    "file_name = 'datos.dat'\n",
    "total_importe, total_cantidad = calcular_totales_archivo(file_name)\n",
    "\n",
    "print(f'Total importe vendido: {total_importe}')\n",
    "print(f'Total cantidad vendida: {total_cantidad}')\n"
   ]
  },
  {
   "cell_type": "markdown",
   "metadata": {},
   "source": [
    "## Ejercicio 3: Listar las unidades vendidas.\n",
    "\n",
    "Listar cuantas unidades se vendieron en total para cada producto"
   ]
  },
  {
   "cell_type": "code",
   "execution_count": null,
   "metadata": {},
   "outputs": [],
   "source": [
    "def unidades_vendidas(datos):\n",
    "    ventas_por_producto = {}\n",
    "\n",
    "    for linea in datos:\n",
    "        producto = linea[10:40].strip()  \n",
    "        cantidad = int(linea[50:55].strip())  \n",
    "\n",
    "        if producto in ventas_por_producto:\n",
    "            ventas_por_producto[producto] += cantidad\n",
    "        else:\n",
    "            ventas_por_producto[producto] = cantidad\n",
    "    return ventas_por_producto\n",
    "\n",
    "def listar_ventas(ventas):\n",
    "    for producto, cantidad in ventas.items():\n",
    "        print(f'Producto: {producto}, Unidades vendidas: {cantidad}')\n",
    "\n",
    "\n",
    "datos = open(\"datos.dat\", \"r\").readlines()\n",
    "ventas = unidades_vendidas(datos)\n",
    "listar_ventas(ventas)"
   ]
  },
  {
   "cell_type": "markdown",
   "metadata": {},
   "source": [
    "##  Ejercicio 4: Listar el precio promedio por producto.\n",
    "\n",
    "Hacer un listado del precio promedio por productos."
   ]
  },
  {
   "cell_type": "code",
   "execution_count": null,
   "metadata": {},
   "outputs": [],
   "source": [
    "def precio_promedio(datos):\n",
    "    suma_precios = {}\n",
    "    suma_cantidades = {}\n",
    "\n",
    "    for linea in datos:\n",
    "        producto = linea[10:40].strip()  \n",
    "        precio = float(linea[40:50].strip())  \n",
    "        cantidad = int(linea[50:55].strip())  \n",
    "\n",
    "        if producto in suma_precios:\n",
    "            suma_precios[producto] += precio * cantidad\n",
    "            suma_cantidades[producto] += cantidad\n",
    "        else:\n",
    "            suma_precios[producto] = precio * cantidad\n",
    "            suma_cantidades[producto] = cantidad\n",
    "\n",
    "    precios_promedio = {}\n",
    "    for producto in suma_precios:\n",
    "        precios_promedio[producto] = suma_precios[producto] / suma_cantidades[producto]\n",
    "\n",
    "    return precios_promedio\n",
    "\n",
    "def listar_precios(precios):\n",
    "    for producto, promedio in precios.items():\n",
    "        print(f'Producto: {producto}, Precio promedio: {promedio:.2f}')\n",
    "\n",
    "datos = open(\"datos.dat\", \"r\").readlines()\n",
    "\n",
    "precios = precio_promedio(datos)\n",
    "\n",
    "listar_precios(precios)\n"
   ]
  },
  {
   "cell_type": "markdown",
   "metadata": {},
   "source": [
    "### Ejercicio 5: Ranking de productos\n",
    "\n",
    "Realizar un listado de los 3 productos mas vendidos ordenados la cantidad de unidades vendidas (ordenadas de mayor a menor)\n"
   ]
  },
  {
   "cell_type": "code",
   "execution_count": null,
   "metadata": {},
   "outputs": [],
   "source": [
    "def ranking_productos(datos, top=3):\n",
    "    ventas_por_producto = {}\n",
    "    for linea in datos:\n",
    "        producto = linea[10:40].strip()  \n",
    "        cantidad = int(linea[50:55].strip())  \n",
    "\n",
    "        if producto in ventas_por_producto:\n",
    "            ventas_por_producto[producto] += cantidad\n",
    "        else:\n",
    "            ventas_por_producto[producto] = cantidad\n",
    "\n",
    "    ranking = sorted(ventas_por_producto.items(), key=lambda x: x[1], reverse=True)\n",
    "\n",
    "    return ranking[:top]\n",
    "\n",
    "def listar_ranking(ranking):\n",
    "    print(\"Ranking de productos más vendidos:\")\n",
    "    for i, (producto, cantidad) in enumerate(ranking, start=1):\n",
    "        print(f\"{i}. Producto: {producto}, Unidades vendidas: {cantidad}\")\n",
    "\n",
    "datos = open(\"datos.dat\", \"r\").readlines()\n",
    "\n",
    "ranking = ranking_productos(datos)\n",
    "\n",
    "listar_ranking(ranking)"
   ]
  },
  {
   "cell_type": "markdown",
   "metadata": {},
   "source": [
    "### Ejercicio 6: Listar las ventas por mes\n",
    "\n",
    "Realizar un listado del total de unidades vendidas por productos separada por mes."
   ]
  },
  {
   "cell_type": "code",
   "execution_count": null,
   "metadata": {},
   "outputs": [],
   "source": [
    "def ventas_por_mes(datos):\n",
    "    ventas_mensuales = {}\n",
    "    for linea in datos:\n",
    "        fecha = linea[:10].strip() \n",
    "        mes = fecha[:7]  \n",
    "        producto = linea[10:40].strip()  \n",
    "        cantidad = int(linea[50:55].strip())\n",
    "\n",
    "        if mes not in ventas_mensuales:\n",
    "            ventas_mensuales[mes] = {}\n",
    "        if producto not in ventas_mensuales[mes]:\n",
    "            ventas_mensuales[mes][producto] = 0\n",
    "            \n",
    "        ventas_mensuales[mes][producto] += cantidad\n",
    "    return ventas_mensuales\n",
    "\n",
    "def listar_ventas_mensuales(ventas):\n",
    "    for mes, productos in ventas.items():\n",
    "        print(f\"Mes: {mes}\")\n",
    "        for producto, cantidad in productos.items():\n",
    "            print(f\"  Producto: {producto}, Unidades vendidas: {cantidad}\")\n",
    "\n",
    "datos = open(\"datos.dat\", \"r\").readlines()\n",
    "ventas = ventas_por_mes(datos)\n",
    "listar_ventas_mensuales(ventas)\n"
   ]
  },
  {
   "cell_type": "markdown",
   "metadata": {},
   "source": [
    "### Ejercicio 7: Informe general\n",
    "\n",
    "Mostrar un listado de productos ordenados alfabeticamente que contengan el precio promedio, la cantidad de unidades vendidas y el importe total vendido para cada producto"
   ]
  },
  {
   "cell_type": "code",
   "execution_count": null,
   "metadata": {},
   "outputs": [],
   "source": [
    "def resumen_ventas(datos):\n",
    "    ventas_resumen = {}\n",
    "    for linea in datos:\n",
    "        producto = linea[10:40].strip()  \n",
    "        precio = float(linea[40:50].strip())  \n",
    "        cantidad = int(linea[50:55].strip()) \n",
    "        importe_total = precio * cantidad \n",
    "\n",
    "\n",
    "        if producto not in ventas_resumen:\n",
    "            ventas_resumen[producto] = {\n",
    "                'total_precio': 0.0,\n",
    "                'total_cantidad': 0,\n",
    "                'total_importe': 0.0,\n",
    "                'num_ventas': 0\n",
    "            }\n",
    "\n",
    "        ventas_resumen[producto]['total_precio'] += precio\n",
    "        ventas_resumen[producto]['total_cantidad'] += cantidad\n",
    "        ventas_resumen[producto]['total_importe'] += importe_total\n",
    "        ventas_resumen[producto]['num_ventas'] += 1\n",
    "\n",
    "    for producto, datos in ventas_resumen.items():\n",
    "        datos['precio_promedio'] = datos['total_precio'] / datos['num_ventas']\n",
    "    return ventas_resumen\n",
    "\n",
    "def informe_ventas(resumen):\n",
    "    productos_ordenados = sorted(resumen.keys())\n",
    "\n",
    "    print(f\"{'Producto':<30} {'Precio Promedio':<15} {'Unidades Vendidas':<18} {'Importe Total'}\")\n",
    "    print(\"=\" * 75)\n",
    "\n",
    "    for producto in productos_ordenados:\n",
    "        datos = resumen[producto]\n",
    "        print(f\"{producto:<30} {datos['precio_promedio']:<15.2f} {datos['total_cantidad']:<18} {datos['total_importe']:.2f}\")\n",
    "\n",
    "datos = open(\"datos.dat\", \"r\").readlines()\n",
    "resumen = resumen_ventas(datos)\n",
    "informe_ventas(resumen)\n"
   ]
  }
 ],
 "metadata": {
  "kernelspec": {
   "display_name": "Python 3",
   "language": "python",
   "name": "python3"
  },
  "language_info": {
   "codemirror_mode": {
    "name": "ipython",
    "version": 3
   },
   "file_extension": ".py",
   "mimetype": "text/x-python",
   "name": "python",
   "nbconvert_exporter": "python",
   "pygments_lexer": "ipython3",
   "version": "3.12.5"
  }
 },
 "nbformat": 4,
 "nbformat_minor": 2
}
