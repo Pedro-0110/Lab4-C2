{
 "cells": [
  {
   "cell_type": "markdown",
   "metadata": {},
   "source": [
    "# Simulación del Truco"
   ]
  },
  {
   "cell_type": "markdown",
   "metadata": {},
   "source": [
    "Las **cartas** deben registra el numero, palo y valor de la carta. \n",
    "El valor debe reflejar la jerarquía de las cartas en el juego del truco."
   ]
  },
  {
   "cell_type": "code",
   "execution_count": 4,
   "metadata": {},
   "outputs": [],
   "source": [
    "def asignar_valor(carta_numero, carta_palo):\n",
    "    rango_cartas = {\n",
    "        (1, \"espada\"): 14,\n",
    "        (1, \"basto\"): 13,\n",
    "        (7, \"espada\"): 12,\n",
    "        (7, \"oro\"): 11,\n",
    "        (3, \"espada\"): 10,\n",
    "        (3, \"basto\"): 10,\n",
    "        (3, \"copa\"): 10,\n",
    "        (3, \"oro\"): 10,\n",
    "        (2, \"espada\"): 9,\n",
    "        (2, \"basto\"): 9,\n",
    "        (2, \"copa\"): 9,\n",
    "        (2, \"oro\"): 9,\n",
    "        (1, \"copa\"): 8,\n",
    "        (1, \"oro\"): 8,\n",
    "        (12, \"espada\"): 7,\n",
    "        (12, \"basto\"): 7,\n",
    "        (12, \"copa\"): 7,\n",
    "        (12, \"oro\"): 7,\n",
    "        (11, \"espada\"): 6,\n",
    "        (11, \"basto\"): 6,\n",
    "        (11, \"copa\"): 6,\n",
    "        (11, \"oro\"): 6,\n",
    "        (10, \"espada\"): 5,\n",
    "        (10, \"basto\"): 5,\n",
    "        (10, \"copa\"): 5,\n",
    "        (10, \"oro\"): 5,\n",
    "        (7, \"copa\"): 4,\n",
    "        (7, \"basto\"): 4,\n",
    "        (6, \"espada\"): 3,\n",
    "        (6, \"basto\"): 3,\n",
    "        (6, \"copa\"): 3,\n",
    "        (6, \"oro\"): 3,\n",
    "        (5, \"espada\"): 2,\n",
    "        (5, \"basto\"): 2,\n",
    "        (5, \"copa\"): 2,\n",
    "        (5, \"oro\"): 2,\n",
    "        (4, \"espada\"): 1,\n",
    "        (4, \"basto\"): 1,\n",
    "        (4, \"copa\"): 1,\n",
    "        (4, \"oro\"): 1\n",
    "    }\n",
    "    return rango_cartas.get((carta_numero, carta_palo), 0)"
   ]
  },
  {
   "cell_type": "markdown",
   "metadata": {},
   "source": [
    "**Mazo**: Representan las cartas españolas de 1 al 12, en los palos de oro, copa, espada y basto.\n",
    "\n",
    "Debe existir una función que permita barajar las cartas.\n",
    "y otra función que permita repartir las cartas a los jugadores."
   ]
  },
  {
   "cell_type": "code",
   "execution_count": 5,
   "metadata": {},
   "outputs": [
    {
     "name": "stdout",
     "output_type": "stream",
     "text": [
      "None\n"
     ]
    }
   ],
   "source": [
    "import random\n",
    "class Naipe:\n",
    "    def __init__(self, numero, palo):\n",
    "        self.numero = numero\n",
    "        self.palo = palo\n",
    "        self.valor = asignar_valor(numero, palo)\n",
    "\n",
    "    def __str__(self):\n",
    "        return f\"{self.numero} de {self.palo} (Valor: {self.valor})\"\n",
    "\n",
    "class Baraja:\n",
    "    def __init__(self):\n",
    "        self.naipes = [Naipe(numero, palo) for numero in range(1, 13) for palo in [\"oro\", \"copa\", \"espada\", \"basto\"] if numero != 8 and numero != 9]\n",
    "\n",
    "    def revolver(self):\n",
    "        random.shuffle(self.naipes)\n",
    "\n",
    "    def distribuir(self, cantidad):\n",
    "        mano = self.naipes[:cantidad]\n",
    "        self.naipes = self.naipes[cantidad:]\n",
    "        return mano"
   ]
  },
  {
   "cell_type": "markdown",
   "metadata": {},
   "source": [
    "**Jugador**: Deben tener un nombre y las cartas que tiene en la mano. Debe acumular los puntos ganados.\n",
    "\n",
    "Nota: Para simplificar el problema, el jugador elige la carta a jugar de forma aleatoria."
   ]
  },
  {
   "cell_type": "code",
   "execution_count": 6,
   "metadata": {},
   "outputs": [
    {
     "name": "stdout",
     "output_type": "stream",
     "text": [
      "None\n"
     ]
    }
   ],
   "source": [
    "import random\n",
    "class Participante:\n",
    "    def __init__(self, nombre):\n",
    "        self.nombre = nombre\n",
    "        self.mano = []\n",
    "        self.puntuacion = 0\n",
    "\n",
    "    def recibir_naipes(self, naipes):\n",
    "        self.mano = naipes\n",
    "\n",
    "    def jugar_naipes(self):\n",
    "        if self.mano:\n",
    "            carta_elegida = random.choice(self.mano)\n",
    "            self.mano.remove(carta_elegida)\n",
    "            return carta_elegida\n",
    "        return None\n",
    "\n",
    "    def sumar_puntos(self, puntos):\n",
    "        self.puntuacion += puntos\n"
   ]
  },
  {
   "cell_type": "markdown",
   "metadata": {},
   "source": [
    "**Partida**: Debe tener dos jugadores, un mazo de cartas y un puntaje. Debe permitir jugar una carta por ronda y definir el ganador de la ronda. Debe permitir jugar hasta que se terminen las cartas del mazo."
   ]
  },
  {
   "cell_type": "code",
   "execution_count": null,
   "metadata": {},
   "outputs": [],
   "source": [
    "class Juego:\n",
    "    def __init__(self, jugadorA, jugadorB):\n",
    "        self.jugadorA = jugadorA\n",
    "        self.jugadorB = jugadorB\n",
    "        self.baraja = Baraja()\n",
    "        self.puntuacion_maxima = 5\n",
    "\n",
    "    def jugar_una_ronda(self):\n",
    "        cartaA = self.jugadorA.jugar_naipes()\n",
    "        cartaB = self.jugadorB.jugar_naipes()\n",
    "        print(f\"{self.jugadorA.nombre} juega: {cartaA}\\n{self.jugadorB.nombre} juega: {cartaB}\")\n",
    "        if cartaA.valor > cartaB.valor:\n",
    "            print(f\"{self.jugadorA.nombre} gana la ronda.\")\n",
    "            self.jugadorA.sumar_puntos(1)\n",
    "        elif cartaB.valor > cartaA.valor:\n",
    "            print(f\"{self.jugadorB.nombre} gana la ronda.\")\n",
    "            self.jugadorB.sumar_puntos(1)\n",
    "        else:\n",
    "            print(\"Ronda empatada.\")\n",
    "\n",
    "    def iniciar_partida(self):\n",
    "        self.baraja.revolver()\n",
    "        self.jugadorA.recibir_naipes(self.baraja.distribuir(3))\n",
    "        self.jugadorB.recibir_naipes(self.baraja.distribuir(3))\n",
    "\n",
    "        while self.jugadorA.puntuacion < self.puntuacion_maxima and self.jugadorB.puntuacion < self.puntuacion_maxima:\n",
    "            self.jugar_una_ronda()\n",
    "\n",
    "        print(f\"Resultado final: {self.jugadorA.nombre}: {self.jugadorA.puntuacion}, {self.jugadorB.nombre}: {self.jugadorB.puntuacion}\")\n",
    "        if self.jugadorA.puntuacion > self.jugadorB.puntuacion:\n",
    "            print(f\"{self.jugadorA.nombre} ganó la partida!\")\n",
    "        else:\n",
    "            print(f\"{self.jugadorB.nombre} ganó la partida!\")\n",
    "\n",
    "# Ejemplo de uso:\n",
    "jugadorA = Participante(\"Juan\")\n",
    "jugadorB = Participante(\"Pedro\")\n",
    "partida = Juego(jugadorA, jugadorB)\n",
    "partida.iniciar_partida()"
   ]
  }
 ],
 "metadata": {
  "kernelspec": {
   "display_name": "Python 3",
   "language": "python",
   "name": "python3"
  },
  "language_info": {
   "codemirror_mode": {
    "name": "ipython",
    "version": 3
   },
   "file_extension": ".py",
   "mimetype": "text/x-python",
   "name": "python",
   "nbconvert_exporter": "python",
   "pygments_lexer": "ipython3",
   "version": "3.12.5"
  }
 },
 "nbformat": 4,
 "nbformat_minor": 2
}
