{
 "cells": [
  {
   "cell_type": "markdown",
   "metadata": {},
   "source": [
    "# TP6\n",
    "\n",
    "### `Resolver usando Pandas`\n",
    "\n",
    "Resolver los ejercicios del TP3 utilizando la librería Pandas."
   ]
  },
  {
   "cell_type": "markdown",
   "metadata": {},
   "source": [
    "### Ejercicio 1: Cargar Datos de ventas.\n",
    "\n",
    "El archivo datos.dat contiene el registro de las ventas realizadas.\n",
    "\n",
    "Tiene un formato de ancho fijo:\n",
    "- `fecha`:    10 lugares\n",
    "- `producto`: 30 lugares\n",
    "- `precio`:   10 lugares\n",
    "- `cantidad`:  5 lugares\n",
    "\n",
    "Hacer una funcion que cargue los datos en un DataFrame de Pandas."
   ]
  },
  {
   "cell_type": "code",
   "execution_count": 1,
   "metadata": {},
   "outputs": [
    {
     "ename": "ModuleNotFoundError",
     "evalue": "No module named 'pandas'",
     "output_type": "error",
     "traceback": [
      "\u001b[1;31m---------------------------------------------------------------------------\u001b[0m",
      "\u001b[1;31mModuleNotFoundError\u001b[0m                       Traceback (most recent call last)",
      "Cell \u001b[1;32mIn[1], line 1\u001b[0m\n\u001b[1;32m----> 1\u001b[0m \u001b[38;5;28;01mimport\u001b[39;00m \u001b[38;5;21;01mpandas\u001b[39;00m \u001b[38;5;28;01mas\u001b[39;00m \u001b[38;5;21;01mpd\u001b[39;00m\n\u001b[0;32m      2\u001b[0m \u001b[38;5;28;01mdef\u001b[39;00m \u001b[38;5;21mcargar_datos\u001b[39m():\n\u001b[0;32m      3\u001b[0m \n\u001b[0;32m      4\u001b[0m \n\u001b[0;32m      5\u001b[0m \n\u001b[0;32m      6\u001b[0m     \u001b[38;5;66;03m# Definir las especificaciones de columnas para la lectura del archivo\u001b[39;00m\n\u001b[0;32m      7\u001b[0m     colspecs \u001b[38;5;241m=\u001b[39m [(\u001b[38;5;241m0\u001b[39m, \u001b[38;5;241m10\u001b[39m), (\u001b[38;5;241m10\u001b[39m, \u001b[38;5;241m40\u001b[39m), (\u001b[38;5;241m40\u001b[39m, \u001b[38;5;241m50\u001b[39m), (\u001b[38;5;241m50\u001b[39m, \u001b[38;5;241m55\u001b[39m)]\n",
      "\u001b[1;31mModuleNotFoundError\u001b[0m: No module named 'pandas'"
     ]
    }
   ],
   "source": [
    "import pandas as pd\n",
    "\n",
    "def cargar_datos():\n",
    "\n",
    "    colspecs = [(0, 10), (10, 40), (40, 50), (50, 55)]\n",
    "    column_names = ['fecha', 'producto', 'precio', 'cantidad']\n",
    "    df = pd.read_fwf('datos.dat', colspecs=colspecs, names=column_names)\n",
    "\n",
    "    return df\n",
    "\n",
    "\n",
    "datos = cargar_datos()\n",
    "datos\n"
   ]
  },
  {
   "cell_type": "markdown",
   "metadata": {},
   "source": [
    "### Ejercicio 2: Calcular el total de ventas.\n",
    "Hacer una función que sume los importes vendidos (precio * cantidad) y las cantidades.\n"
   ]
  },
  {
   "cell_type": "code",
   "execution_count": null,
   "metadata": {},
   "outputs": [],
   "source": [
    "def calcular_totales(datos):\n",
    "    datos['precio'] = datos['precio'].astype(float)\n",
    "    datos['cantidad'] = datos['cantidad'].astype(int)\n",
    "    importe_total = (datos['precio'] * datos['cantidad']).sum()\n",
    "    cantidad_total = datos['cantidad'].sum()\n",
    "    return importe_total, cantidad_total\n",
    "\n",
    "importe, cantidad = calcular_totales(datos)\n",
    "print(f\"Las ventas fueron de ${importe:.2f} en {cantidad} unidades\")\n"
   ]
  },
  {
   "cell_type": "markdown",
   "metadata": {},
   "source": [
    "### Ejercicio 3: Listar las unidades vendidas.\n",
    "Listar cuántas unidades se vendieron en total para cada producto\n"
   ]
  },
  {
   "cell_type": "code",
   "execution_count": null,
   "metadata": {},
   "outputs": [],
   "source": [
    "def unidades_vendidas(datos):\n",
    "    datos['cantidad'] = datos['cantidad'].astype(int)\n",
    "    unidades_por_producto = datos.groupby('producto')['cantidad'].sum().reset_index()\n",
    "    unidades_por_producto.columns = ['producto', 'unidades_vendidas']\n",
    "    return unidades_por_producto\n",
    "\n",
    "unidades_vendidas(datos)\n"
   ]
  },
  {
   "cell_type": "markdown",
   "metadata": {},
   "source": [
    "###  Ejercicio 4: Listar el precio promedio por producto.\n",
    "Hacer un listado del precio promedio por producto.\n"
   ]
  },
  {
   "cell_type": "code",
   "execution_count": null,
   "metadata": {},
   "outputs": [],
   "source": [
    "def precio_promedio(datos):\n",
    "    datos['precio'] = datos['precio'].astype(float)\n",
    "    precio_promedio_por_producto = datos.groupby('producto')['precio'].mean().reset_index()\n",
    "    precio_promedio_por_producto.columns = ['producto', 'precio_promedio']\n",
    "    return precio_promedio_por_producto\n",
    "\n",
    "precio_promedio(datos)\n"
   ]
  },
  {
   "cell_type": "markdown",
   "metadata": {},
   "source": [
    "### Ejercicio 5: Ranking de productos\n",
    "Realizar un listado de los 3 productos más vendidos ordenados por la cantidad de unidades vendidas (ordenadas de mayor a menor)\n"
   ]
  },
  {
   "cell_type": "code",
   "execution_count": null,
   "metadata": {},
   "outputs": [],
   "source": [
    "def ranking_productos(datos, top=3):\n",
    "    datos['cantidad'] = datos['cantidad'].astype(int)\n",
    "    unidades_por_producto = datos.groupby('producto')['cantidad'].sum().reset_index()\n",
    "    unidades_por_producto = unidades_por_producto.sort_values(by='cantidad', ascending=False)\n",
    "    top_productos = unidades_por_producto.head(top)\n",
    "    return top_productos\n",
    "\n",
    "ranking_productos(datos)\n"
   ]
  },
  {
   "cell_type": "markdown",
   "metadata": {},
   "source": [
    "### Ejercicio 6: Listar las ventas por mes\n",
    "Realizar un listado del total de unidades vendidas por producto separado por mes.\n"
   ]
  },
  {
   "cell_type": "code",
   "execution_count": null,
   "metadata": {},
   "outputs": [],
   "source": [
    "def ventas_por_mes(datos):\n",
    "    datos['fecha'] = pd.to_datetime(datos['fecha'], format='%Y-%m-%d')  \n",
    "    datos['año'] = datos['fecha'].dt.year\n",
    "    datos['mes'] = datos['fecha'].dt.month   \n",
    "    datos['cantidad'] = datos['cantidad'].astype(int)\n",
    "    ventas_mensuales = datos.groupby(['producto', 'año', 'mes'])['cantidad'].sum().reset_index()\n",
    "    return ventas_mensuales\n",
    "\n",
    "ventas_por_mes(datos)\n"
   ]
  },
  {
   "cell_type": "markdown",
   "metadata": {},
   "source": [
    "### Ejercicio 7: Informe general\n",
    "\n",
    "Mostrar un listado de productos ordenados alfabeticamente que contengan el precio promedio, la cantidad de unidades vendidas y el importe total vendido para cada producto"
   ]
  },
  {
   "cell_type": "code",
   "execution_count": null,
   "metadata": {},
   "outputs": [],
   "source": [
    "def resumen_ventas(datos):\n",
    "    datos['precio'] = datos['precio'].astype(float)\n",
    "    datos['cantidad'] = datos['cantidad'].astype(int)\n",
    "    precio_promedio_por_producto = datos.groupby('producto')['precio'].mean().reset_index()\n",
    "    unidades_vendidas_por_producto = datos.groupby('producto')['cantidad'].sum().reset_index()\n",
    "    datos['importe'] = datos['precio'] * datos['cantidad']\n",
    "    importe_total_por_producto = datos.groupby('producto')['importe'].sum().reset_index()\n",
    "    resumen = pd.merge(precio_promedio_por_producto, unidades_vendidas_por_producto, on='producto')\n",
    "    resumen = pd.merge(resumen, importe_total_por_producto, on='producto')\n",
    "    resumen.columns = ['producto', 'precio_promedio', 'unidades_vendidas', 'importe_total']\n",
    "    resumen = resumen.sort_values(by='producto')\n",
    "    return resumen\n",
    "\n",
    "resumen_ventas(datos)\n"
   ]
  },
  {
   "cell_type": "markdown",
   "metadata": {},
   "source": [
    "## `Resolver usando NumPy`\n",
    "## Resolver el ejercicio 2 del tp1 usando NumPy"
   ]
  },
  {
   "cell_type": "markdown",
   "metadata": {},
   "source": [
    "### Ejercicio 8\n",
    "\n",
    "Escribe una función en Python que encuentre los valores de `a`, `b`, y `c` para que la función cuadrática `f(x) = a x^2 + b x + c` pase exactamente por los siguientes puntos:\n",
    "\n",
    "| x  | y  |\n",
    "|---:|---:|\n",
    "|  0 |  0 |\n",
    "|  1 |  8 |\n",
    "|  2 | 12 |\n",
    "|  3 | 12 |\n",
    "|  5 |  0 |\n",
    "\n",
    "### Requisitos:\n",
    "- La función debe explorar posibles valores de `a`, `b`, y `c` utilizando un método de prueba y error.\n",
    "- Debe devolver los valores que hagan que la diferencia entre la función `f(x)` y los valores medidos `y` sea exactamente cero para cada punto.\n",
    "\n",
    "> **Pista**: Los valores de `a`, `b`, y `c` son números pequeños.\n",
    "\n",
    "La idea es implementar el mismo algoritmo que se uso en el TP1 pero usando NumPy en lugar de Python puro."
   ]
  },
  {
   "cell_type": "code",
   "execution_count": 4,
   "metadata": {},
   "outputs": [
    {
     "data": {
      "text/plain": [
       "(-2, 10, 0)"
      ]
     },
     "execution_count": 4,
     "metadata": {},
     "output_type": "execute_result"
    }
   ],
   "source": [
    "import numpy as np\n",
    "def f(x, coeficientes):\n",
    "    a, b, c = coeficientes\n",
    "    return a * x**2 + b * x + c\n",
    "\n",
    "def error(y, y_pred):\n",
    "    return y - y_pred\n",
    "\n",
    "X = np.array([0, 1, 2, 3, 5])\n",
    "Y = np.array([0, 8, 12, 12, 0])\n",
    "\n",
    "def buscar_coeficientes():\n",
    "    mejor_error = np.inf\n",
    "    mejores_coeficientes = (0, 0, 0)\n",
    "    \n",
    "    for a in range(-10, 11):\n",
    "        for b in range(-10, 11):\n",
    "            for c in range(-10, 11):\n",
    "                y_pred = f(X, (a, b, c))\n",
    "                error_total = np.sum(np.abs(error(Y, y_pred)))\n",
    "                \n",
    "                if error_total == 0:\n",
    "                    return a, b, c\n",
    "                \n",
    "                if error_total < mejor_error:\n",
    "                    mejor_error = error_total\n",
    "                    mejores_coeficientes = (a, b, c)\n",
    "    \n",
    "    return mejores_coeficientes\n",
    "\n",
    "coeficientes = buscar_coeficientes()\n",
    "coeficientes\n"
   ]
  },
  {
   "cell_type": "markdown",
   "metadata": {},
   "source": [
    "### Ejercicio 9: Resolver el ejercicio 3 del TP1 usando NumPy\n",
    "Buscar los coeficientes de la función que minimice la suma de los cuadrados de las diferencias entre los valores medidos y los valores de la función.\n",
    "\n",
    "1. Crear un array con los coeficientes elegidos al azar (usar `randint(-10,10,3)`).\n",
    "2. Calcular el valor de la función y el error correspondiente.\n",
    "3. Mientras que el error sea mayor a 1:\n",
    "    1. Definir nuevos coeficientes agregándoles un pequeño valor al azar a los coeficientes actuales (aprendizaje = 0.001).\n",
    "    2. Si el error para los nuevos coeficientes es menor que el anterior, reemplazar los coeficientes actuales por los nuevos.\n"
   ]
  },
  {
   "cell_type": "code",
   "execution_count": 121,
   "metadata": {},
   "outputs": [
    {
     "name": "stdout",
     "output_type": "stream",
     "text": [
      "Los coeficientes son [-1.781  8.961  0.615] y el error es 0.9958049999998968\n"
     ]
    },
    {
     "data": {
      "text/plain": [
       "array([-1.781,  8.961,  0.615])"
      ]
     },
     "execution_count": 121,
     "metadata": {},
     "output_type": "execute_result"
    }
   ],
   "source": [
    "from numpy.random import randint\n",
    "import numpy as np\n",
    "\n",
    "def f(x, coeficientes):\n",
    "    a, b, c = coeficientes\n",
    "    return a * x**2 + b * x + c\n",
    "\n",
    "def error(y, y_pred):\n",
    "    return np.sum((y - y_pred)**2)\n",
    "\n",
    "X = np.array([0, 1, 2, 3, 5])\n",
    "Y = np.array([0, 8, 12, 11, 1])  \n",
    "\n",
    "def buscar_coeficientes():\n",
    "    coeficientes = randint(-10, 10, 3)\n",
    "    y_pred = f(X, coeficientes)\n",
    "    err = error(Y, y_pred)\n",
    "    \n",
    "    aprendizaje = 0.001\n",
    "    \n",
    "    while err > 1:\n",
    "        nuevos_coeficientes = coeficientes + aprendizaje * randint(-10, 10, 3)\n",
    "        nuevo_y_pred = f(X, nuevos_coeficientes)\n",
    "        nuevo_err = error(Y, nuevo_y_pred)\n",
    "        \n",
    "        if nuevo_err < err:\n",
    "            coeficientes = nuevos_coeficientes\n",
    "            err = nuevo_err\n",
    "    \n",
    "    return coeficientes\n",
    "\n",
    "coeficientes = buscar_coeficientes()\n",
    "coeficientes\n"
   ]
  }
 ],
 "metadata": {
  "kernelspec": {
   "display_name": "Python 3",
   "language": "python",
   "name": "python3"
  },
  "language_info": {
   "codemirror_mode": {
    "name": "ipython",
    "version": 3
   },
   "file_extension": ".py",
   "mimetype": "text/x-python",
   "name": "python",
   "nbconvert_exporter": "python",
   "pygments_lexer": "ipython3",
   "version": "3.12.5"
  }
 },
 "nbformat": 4,
 "nbformat_minor": 2
}
