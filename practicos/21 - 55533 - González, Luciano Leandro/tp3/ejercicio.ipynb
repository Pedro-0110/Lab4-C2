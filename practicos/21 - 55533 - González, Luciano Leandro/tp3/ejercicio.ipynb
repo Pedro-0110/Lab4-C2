{
 "cells": [
  {
   "cell_type": "markdown",
   "metadata": {},
   "source": [
    "#TP3"
   ]
  },
  {
   "cell_type": "markdown",
   "metadata": {},
   "source": [
    "## Ejercicio 1: Cargar Datos de ventas.\n",
    "\n",
    "El archivo datos.dat contiene el registro de las ventas realizadas.\n",
    "\n",
    "Tiene un formato de ancho fijo:\n",
    "- fecha:    10 lugares\n",
    "- producto: 30 lugares\n",
    "- precio:   10 lugares\n",
    "- cantidad:  5 lugares\n",
    "\n",
    "hacer una funcion que carge los en una lista de diccionarios. \n",
    "\n",
    "nota: con \n",
    "```python\n",
    "lineas = open(\"datos.dat\", \"r\").readlines() \n",
    "```\n",
    "puede obtener la lista de string de todos los datos "
   ]
  },
  {
   "cell_type": "code",
   "execution_count": 10,
   "metadata": {},
   "outputs": [
    {
     "name": "stdout",
     "output_type": "stream",
     "text": [
      "[{'fecha': '2024-08-27', 'producto': 'Mirinda', 'precio': 1510, 'cantidad': 14}, {'fecha': '2024-08-27', 'producto': 'Mirinda', 'precio': 1560, 'cantidad': 12}, {'fecha': '2024-08-28', 'producto': 'Torasso', 'precio': 940, 'cantidad': 8}, {'fecha': '2024-08-29', 'producto': 'Pepsi Cola', 'precio': 1210, 'cantidad': 10}, {'fecha': '2024-08-30', 'producto': 'Mirinda', 'precio': 1520, 'cantidad': 1}, {'fecha': '2024-09-01', 'producto': 'Mirinda', 'precio': 1550, 'cantidad': 15}, {'fecha': '2024-09-01', 'producto': 'Sprite', 'precio': 810, 'cantidad': 4}, {'fecha': '2024-09-02', 'producto': 'Coca Cola', 'precio': 1100, 'cantidad': 4}, {'fecha': '2024-09-02', 'producto': 'Pepsi Cola', 'precio': 1220, 'cantidad': 13}, {'fecha': '2024-09-02', 'producto': 'Torasso', 'precio': 910, 'cantidad': 5}, {'fecha': '2024-09-02', 'producto': 'Torasso', 'precio': 920, 'cantidad': 3}, {'fecha': '2024-09-03', 'producto': 'Coca Cola', 'precio': 1020, 'cantidad': 8}, {'fecha': '2024-09-03', 'producto': 'Mirinda', 'precio': 1570, 'cantidad': 7}, {'fecha': '2024-09-03', 'producto': 'Mirinda', 'precio': 1590, 'cantidad': 2}, {'fecha': '2024-09-04', 'producto': 'Pepsi Cola', 'precio': 1220, 'cantidad': 13}, {'fecha': '2024-09-05', 'producto': 'Mirinda', 'precio': 1500, 'cantidad': 3}, {'fecha': '2024-09-05', 'producto': 'Pepsi Cola', 'precio': 1300, 'cantidad': 5}, {'fecha': '2024-09-06', 'producto': 'Coca Cola', 'precio': 1080, 'cantidad': 1}, {'fecha': '2024-09-06', 'producto': 'Sprite', 'precio': 860, 'cantidad': 12}, {'fecha': '2024-09-06', 'producto': 'Torasso', 'precio': 930, 'cantidad': 3}, {'fecha': '2024-09-07', 'producto': 'Coca Cola', 'precio': 1080, 'cantidad': 14}, {'fecha': '2024-09-07', 'producto': 'Sprite', 'precio': 870, 'cantidad': 13}, {'fecha': '2024-09-08', 'producto': 'Coca Cola', 'precio': 1040, 'cantidad': 10}, {'fecha': '2024-09-08', 'producto': 'Mirinda', 'precio': 1580, 'cantidad': 2}, {'fecha': '2024-09-08', 'producto': 'Pepsi Cola', 'precio': 1240, 'cantidad': 9}, {'fecha': '2024-09-09', 'producto': 'Mirinda', 'precio': 1500, 'cantidad': 3}, {'fecha': '2024-09-09', 'producto': 'Sprite', 'precio': 850, 'cantidad': 9}, {'fecha': '2024-09-10', 'producto': 'Mirinda', 'precio': 1590, 'cantidad': 8}, {'fecha': '2024-09-10', 'producto': 'Pepsi Cola', 'precio': 1250, 'cantidad': 12}, {'fecha': '2024-09-11', 'producto': 'Sprite', 'precio': 810, 'cantidad': 6}, {'fecha': '2024-09-11', 'producto': 'Sprite', 'precio': 820, 'cantidad': 14}, {'fecha': '2024-09-12', 'producto': 'Coca Cola', 'precio': 1080, 'cantidad': 4}, {'fecha': '2024-09-13', 'producto': 'Mirinda', 'precio': 1580, 'cantidad': 5}, {'fecha': '2024-09-13', 'producto': 'Pepsi Cola', 'precio': 1250, 'cantidad': 13}, {'fecha': '2024-09-14', 'producto': 'Coca Cola', 'precio': 1080, 'cantidad': 15}, {'fecha': '2024-09-14', 'producto': 'Pepsi Cola', 'precio': 1270, 'cantidad': 14}, {'fecha': '2024-09-15', 'producto': 'Coca Cola', 'precio': 1100, 'cantidad': 1}, {'fecha': '2024-09-15', 'producto': 'Mirinda', 'precio': 1500, 'cantidad': 13}, {'fecha': '2024-09-15', 'producto': 'Sprite', 'precio': 870, 'cantidad': 14}, {'fecha': '2024-09-15', 'producto': 'Torasso', 'precio': 900, 'cantidad': 13}]\n"
     ]
    }
   ],
   "source": [
    "def cargar_datos():\n",
    "    lineas = open(\"datos.dat\", \"r\").readlines()\n",
    "    ListaDic = []\n",
    "\n",
    "    for i in lineas:\n",
    "        fecha = i[0:10].strip()\n",
    "        producto = i[10:30].strip()\n",
    "        precio = int(i[40:50].strip())\n",
    "        cantidad = int(i[51:55].strip())\n",
    "\n",
    "        stock = {\"fecha\": fecha, \"producto\": producto, \"precio\": precio, \"cantidad\": cantidad}\n",
    "\n",
    "        ListaDic.append(stock)\n",
    "        \n",
    "    return ListaDic\n",
    "\n",
    "\n",
    "datos = cargar_datos()\n",
    "\n",
    "print(datos)"
   ]
  },
  {
   "cell_type": "markdown",
   "metadata": {},
   "source": [
    "## Ejercicio 2: Calcular el total de ventas.\n",
    "\n",
    "Hacer una funcion que sume los importes vendidos (precio * cantidad) y las cantidades"
   ]
  },
  {
   "cell_type": "code",
   "execution_count": 12,
   "metadata": {},
   "outputs": [
    {
     "name": "stdout",
     "output_type": "stream",
     "text": [
      "Las ventas fueron de $392730 en 335 unidades\n"
     ]
    }
   ],
   "source": [
    "def calcular_totales(datos):\n",
    "    totalImporte = 0\n",
    "    totalCantidad = 0\n",
    "\n",
    "    for producto in datos:\n",
    "        totalImporte += int(producto[\"precio\"]) * int(producto[\"cantidad\"])\n",
    "        totalCantidad += int(producto[\"cantidad\"])\n",
    "\n",
    "    return totalImporte,totalCantidad\n",
    "\n",
    "\n",
    "importe, cantidad = calcular_totales(datos)\n",
    "\n",
    "print(f\"Las ventas fueron de ${importe} en {cantidad} unidades\")"
   ]
  },
  {
   "cell_type": "markdown",
   "metadata": {},
   "source": [
    "## Ejercicio 3: Listar las unidades vendidas.\n",
    "\n",
    "Listar cuantas unidades se vendieron en total para cada producto"
   ]
  },
  {
   "cell_type": "code",
   "execution_count": 13,
   "metadata": {},
   "outputs": [
    {
     "name": "stdout",
     "output_type": "stream",
     "text": [
      "Producto: Mirinda, Unidades vendidas: 85\n",
      "Producto: Torasso, Unidades vendidas: 32\n",
      "Producto: Pepsi Cola, Unidades vendidas: 89\n",
      "Producto: Sprite, Unidades vendidas: 72\n",
      "Producto: Coca Cola, Unidades vendidas: 57\n"
     ]
    }
   ],
   "source": [
    "def unidades_vendidas(datos):\n",
    "    totalVentas = {}\n",
    "\n",
    "    for dato in datos:\n",
    "        producto = dato[\"producto\"]\n",
    "        cantidad = dato[\"cantidad\"]\n",
    "        \n",
    "        if producto in totalVentas:\n",
    "            totalVentas[producto] += cantidad\n",
    "        else:\n",
    "            totalVentas[producto] = cantidad\n",
    "    \n",
    "    return totalVentas        \n",
    "    \n",
    "def listar_ventas(datos):\n",
    "        for producto, cantidad in datos.items():\n",
    "            print(f\"Producto: {producto}, Unidades vendidas: {cantidad}\")\n",
    "            \n",
    "\n",
    "ventas = unidades_vendidas(datos)\n",
    "listar_ventas(ventas)\n"
   ]
  },
  {
   "cell_type": "markdown",
   "metadata": {},
   "source": [
    "##  Ejercicio 4: Listar el precio promedio por producto.\n",
    "\n",
    "Hacer un listado del precio promedio por productos."
   ]
  },
  {
   "cell_type": "code",
   "execution_count": 14,
   "metadata": {},
   "outputs": [
    {
     "name": "stdout",
     "output_type": "stream",
     "text": [
      "Producto: Mirinda, Precio Promedio: 1542.12\n",
      "Producto: Torasso, Precio Promedio: 916.25\n",
      "Producto: Pepsi Cola, Precio Promedio: 1241.69\n",
      "Producto: Sprite, Precio Promedio: 847.78\n",
      "Producto: Coca Cola, Precio Promedio: 1066.32\n"
     ]
    }
   ],
   "source": [
    "def precio_promedio(datos):\n",
    "    acumulador = {}\n",
    "    \n",
    "    for venta in datos:\n",
    "        producto = venta[\"producto\"]\n",
    "        precio = venta[\"precio\"]\n",
    "        cantidad = venta[\"cantidad\"]\n",
    "        \n",
    "        if producto not in acumulador:\n",
    "            acumulador[producto] = {\"total_precio\": 0, \"total_cantidad\": 0}\n",
    "        \n",
    "        acumulador[producto][\"total_precio\"] += precio * cantidad\n",
    "        acumulador[producto][\"total_cantidad\"] += cantidad\n",
    "    \n",
    "    promedios = {}\n",
    "    for producto, valores in acumulador.items():\n",
    "        total_precio = valores[\"total_precio\"]\n",
    "        total_cantidad = valores[\"total_cantidad\"]\n",
    "        promedios[producto] = total_precio / total_cantidad\n",
    "    \n",
    "    return promedios\n",
    "\n",
    "def listar_precios(precios):\n",
    "    for producto, promedio in precios.items():\n",
    "        print(f\"Producto: {producto}, Precio Promedio: {promedio:.2f}\")\n",
    "\n",
    "\n",
    "precios = precio_promedio(datos)\n",
    "listar_precios(precios)\n"
   ]
  },
  {
   "cell_type": "markdown",
   "metadata": {},
   "source": [
    "### Ejercicio 5: Ranking de productos\n",
    "\n",
    "Realizar un listado de los 3 productos mas vendidos ordenados la cantidad de unidades vendidas (ordenadas de mayor a menor)\n"
   ]
  },
  {
   "cell_type": "code",
   "execution_count": 19,
   "metadata": {},
   "outputs": [
    {
     "name": "stdout",
     "output_type": "stream",
     "text": [
      "1. Producto: Pepsi Cola, Unidades vendidas: 89\n",
      "2. Producto: Mirinda, Unidades vendidas: 85\n",
      "3. Producto: Sprite, Unidades vendidas: 72\n"
     ]
    }
   ],
   "source": [
    "def ranking_productos(datos, top=3):\n",
    "    ventasTotales = {}\n",
    "\n",
    "    for dato in datos:\n",
    "        producto = dato[\"producto\"]\n",
    "        cantidad = dato[\"cantidad\"]\n",
    "\n",
    "        if producto in ventasTotales:\n",
    "            ventasTotales[producto] += cantidad\n",
    "        else:\n",
    "            ventasTotales[producto] = cantidad\n",
    "\n",
    "    listaVentas = list(ventasTotales.items())\n",
    "\n",
    "    for x in range(len(listaVentas)):\n",
    "        for y in range(0,len(listaVentas)- x - 1):\n",
    "            if listaVentas[y][1] < listaVentas[y+1][1]:\n",
    "                listaVentas[y], listaVentas[y+1] = listaVentas[y +1], listaVentas[y]\n",
    "        \n",
    "    return listaVentas[:3]\n",
    "\n",
    "def listar_ranking(ranking):\n",
    "    for i, (producto, cantidad) in enumerate(ranking,1):\n",
    "        print(f\"{i}. Producto: {producto}, Unidades vendidas: {cantidad}\")\n",
    "\n",
    "ranking = ranking_productos(datos)\n",
    "listar_ranking(ranking)"
   ]
  },
  {
   "cell_type": "markdown",
   "metadata": {},
   "source": [
    "### Ejercicio 6: Listar las ventas por mes\n",
    "\n",
    "Realizar un listado del total de unidades vendidas por productos separada por mes."
   ]
  },
  {
   "cell_type": "code",
   "execution_count": 22,
   "metadata": {},
   "outputs": [
    {
     "name": "stdout",
     "output_type": "stream",
     "text": [
      "Mes: 08\n",
      "Producto: Mirinda, Unidades vendidad: 27\n",
      "Producto: Torasso, Unidades vendidad: 8\n",
      "Producto: Pepsi Cola, Unidades vendidad: 10\n",
      "Mes: 09\n",
      "Producto: Mirinda, Unidades vendidad: 58\n",
      "Producto: Sprite, Unidades vendidad: 72\n",
      "Producto: Coca Cola, Unidades vendidad: 57\n",
      "Producto: Pepsi Cola, Unidades vendidad: 79\n",
      "Producto: Torasso, Unidades vendidad: 24\n"
     ]
    }
   ],
   "source": [
    "def ventas_por_mes(datos):\n",
    "    ventasMensuales = {}\n",
    "\n",
    "    for venta in datos:\n",
    "        producto = venta[\"producto\"]\n",
    "        cantidad = venta[\"cantidad\"]\n",
    "        fecha = venta[\"fecha\"]\n",
    "        mes = fecha[5:7]\n",
    "\n",
    "        if mes not in ventasMensuales:\n",
    "            ventasMensuales[mes] = {}\n",
    "\n",
    "        if producto not in ventasMensuales[mes]:\n",
    "            ventasMensuales[mes][producto] = 0\n",
    "\n",
    "        ventasMensuales[mes][producto] += cantidad\n",
    "\n",
    "    return ventasMensuales\n",
    "\n",
    "def listar_ventas_mensuales(ventas):\n",
    "    \n",
    "    for mes, productos in ventas.items():\n",
    "        print(f\"Mes: {mes}\")\n",
    "        for producto, cantidad in productos.items():\n",
    "            print(f\"Producto: {producto}, Unidades vendidad: {cantidad}\")\n",
    "\n",
    "ventas = ventas_por_mes(datos)\n",
    "listar_ventas_mensuales(ventas)"
   ]
  },
  {
   "cell_type": "markdown",
   "metadata": {},
   "source": [
    "### Ejercicio 7: Informe general\n",
    "\n",
    "Mostrar un listado de productos ordenados alfabeticamente que contengan el precio promedio, la cantidad de unidades vendidas y el importe total vendido para cada producto"
   ]
  },
  {
   "cell_type": "code",
   "execution_count": 32,
   "metadata": {},
   "outputs": [
    {
     "name": "stdout",
     "output_type": "stream",
     "text": [
      "Informe General\n",
      "Producto: Coca Cola\n",
      "Precio Promedio: 1066.32\n",
      "Unidades Vendidas: 57\n",
      "Importe Total Vendido: 60780.00\n",
      "\n",
      "Producto: Mirinda\n",
      "Precio Promedio: 1542.12\n",
      "Unidades Vendidas: 85\n",
      "Importe Total Vendido: 131080.00\n",
      "\n",
      "Producto: Pepsi Cola\n",
      "Precio Promedio: 1241.69\n",
      "Unidades Vendidas: 89\n",
      "Importe Total Vendido: 110510.00\n",
      "\n",
      "Producto: Sprite\n",
      "Precio Promedio: 847.78\n",
      "Unidades Vendidas: 72\n",
      "Importe Total Vendido: 61040.00\n",
      "\n",
      "Producto: Torasso\n",
      "Precio Promedio: 916.25\n",
      "Unidades Vendidas: 32\n",
      "Importe Total Vendido: 29320.00\n",
      "\n"
     ]
    }
   ],
   "source": [
    "def resumen_ventas(datos):\n",
    "    resumen = {}\n",
    "\n",
    "    for venta in datos:\n",
    "        producto = venta[\"producto\"]\n",
    "        precio = venta[\"precio\"]\n",
    "        cantidad = venta[\"cantidad\"]\n",
    "\n",
    "        if producto not in resumen:\n",
    "            resumen[producto] = {\"totalCantidad\":0, \"totalImporte\": 0, \"totalPrecio\": 0}\n",
    "\n",
    "        resumen[producto][\"totalPrecio\"] += precio * cantidad\n",
    "        resumen[producto][\"totalCantidad\"] += cantidad\n",
    "        resumen[producto][\"totalImporte\"] += precio * cantidad\n",
    "\n",
    "    for producto, valores in resumen.items():\n",
    "        valores[\"precioPromedio\"] = valores[\"totalPrecio\"] / valores[\"totalCantidad\"]\n",
    "\n",
    "    return resumen\n",
    "\n",
    "def informe_ventas(resumen):\n",
    "    productos = list(resumen.keys())\n",
    "\n",
    "    for i in range(len(productos)):\n",
    "        for y in range(0, len(productos) - i - 1):\n",
    "            if productos[y] > productos[y + 1]:\n",
    "                productos[y], productos[y + 1] = productos[y + 1], productos[y]\n",
    "\n",
    "    print(\"Informe General\")\n",
    "    for producto in productos:\n",
    "        info = resumen[producto]\n",
    "        print(f\"Producto: {producto}\")\n",
    "        print(f\"Precio Promedio: {info['precioPromedio']:.2f}\")\n",
    "        print(f\"Unidades Vendidas: {info['totalCantidad']}\")\n",
    "        print(f\"Importe Total Vendido: {info['totalImporte']:.2f}\")\n",
    "        print()\n",
    "\n",
    "resumen = resumen_ventas(datos)\n",
    "informe_ventas(resumen)\n"
   ]
  }
 ],
 "metadata": {
  "kernelspec": {
   "display_name": "Python 3",
   "language": "python",
   "name": "python3"
  },
  "language_info": {
   "codemirror_mode": {
    "name": "ipython",
    "version": 3
   },
   "file_extension": ".py",
   "mimetype": "text/x-python",
   "name": "python",
   "nbconvert_exporter": "python",
   "pygments_lexer": "ipython3",
   "version": "3.12.5"
  }
 },
 "nbformat": 4,
 "nbformat_minor": 2
}
