{
 "cells": [
  {
   "cell_type": "markdown",
   "metadata": {},
   "source": [
    "# Trabajo práctico 1\n",
    "\n"
   ]
  },
  {
   "cell_type": "markdown",
   "metadata": {},
   "source": [
    "## Ejercicio 1 \n",
    "\n",
    "Escribe una función en Python que procese una lista de cadenas de texto y realice las siguientes acciones:\n",
    "\n",
    "1. Tomar una lista de frases y convertir cada frase en una lista de palabras.\n",
    "1. Luego, debe crear una nueva lista que contenga la cantidad de palabras en cada frase.\n",
    "1. Tambien debe crear un lista que contenga la cantidad de caracteres en cada frase.\n",
    "1. Finalmente, debe imprimir cada frase original junto con la cantidad de palabras que contiene.\n",
    "Ejemplo de uso:\n",
    "```python\n",
    "    frases = [\n",
    "        \"Python es un lenguaje de programación\",\n",
    "        \"Me gusta resolver problemas con código\",\n",
    "        \"Las listas y los bucles son muy útiles\"\n",
    "    ]\n",
    "\n",
    "    procesar_frases(frases)\n",
    "```\n",
    "\n",
    "ejemplo de salida:\n",
    "```bash\n",
    "    La frase: \"Python es un...\"\n",
    "    tiene 6 palabras y 38 caracteres\n",
    "```\n"
   ]
  },
  {
   "cell_type": "code",
   "execution_count": 38,
   "metadata": {},
   "outputs": [
    {
     "name": "stdout",
     "output_type": "stream",
     "text": [
      "La frase: Python es un lenguaje de programacion \n",
      "tiene 6  palabras y  37 caracteres \n",
      "\n",
      "La frase: Me gusta resolver problemas con codigo \n",
      "tiene 6  palabras y  38 caracteres \n",
      "\n",
      "La frase: Las listas y los bucles son muy utiles \n",
      "tiene 8  palabras y  38 caracteres \n",
      "\n"
     ]
    }
   ],
   "source": [
    "ListaFrases = [\"Python es un lenguaje de programacion\", \"Me gusta resolver problemas con codigo\", \"Las listas y los bucles son muy utiles\"]\n",
    "\n",
    "def procesar_frases(frases):\n",
    "    for i in frases:\n",
    "        ListaPalabras = i.split()\n",
    "        CantidadPalabras = [len(ListaPalabras)]\n",
    "        CantidadCaracteres = [len(i)]\n",
    "\n",
    "        print(\"La frase:\", i ,\"\\ntiene\", CantidadPalabras[0],\" palabras y \", CantidadCaracteres[0],\"caracteres \\n\")\n",
    "\n",
    "procesar_frases(ListaFrases)\n"
   ]
  },
  {
   "cell_type": "markdown",
   "metadata": {},
   "source": [
    "## Ejercicio 2\n",
    "\n",
    "Escribe una función en Python que encuentre los valores de `a`, `b`, y `c` para que la función cuadrática `f(x) = aX^2 + bX + c` pase exactamente por los siguientes puntos:\n",
    "\n",
    "| x  | y  |\n",
    "|---:|---:|\n",
    "|  0 |  0 |\n",
    "|  1 |  8 |\n",
    "|  2 | 12 |\n",
    "|  3 | 12 |\n",
    "|  5 |  0 |\n",
    "\n",
    "### Requisitos:\n",
    "- La función debe explorar posibles valores de `a`, `b`, y `c` utilizando un método de prueba y error.\n",
    "- Debe devolver los valores que hagan que la diferencia entre la función `f(x)` y los valores medidos `y` sea exactamente cero para cada punto.\n",
    "\n",
    "> **Pista**: Los valores de `a`, `b`, y `c` son números pequeños."
   ]
  },
  {
   "cell_type": "code",
   "execution_count": 1,
   "metadata": {},
   "outputs": [
    {
     "name": "stdout",
     "output_type": "stream",
     "text": [
      "Los valores son: a= -2 b = 10, c = 0\n"
     ]
    }
   ],
   "source": [
    "def EncontrarValores():\n",
    "    Puntos = [(0,0), (1,8), (2,12), (3,12), (5,0)]\n",
    "    for a in range(-10, 11):\n",
    "        for b in range(-10, 11):\n",
    "            for c in range(-10, 11):\n",
    "                Verdadero = True\n",
    "                for x, y in Puntos:\n",
    "                    Verdadero = Verdadero and ((a * x*x + b * x + c) == y)\n",
    "                if Verdadero:\n",
    "                    print(f\"Los valores son: a= {a} b = {b}, c = {c}\")\n",
    "                \n",
    "            \n",
    "EncontrarValores()"
   ]
  }
 ],
 "metadata": {
  "kernelspec": {
   "display_name": "Python 3",
   "language": "python",
   "name": "python3"
  },
  "language_info": {
   "codemirror_mode": {
    "name": "ipython",
    "version": 3
   },
   "file_extension": ".py",
   "mimetype": "text/x-python",
   "name": "python",
   "nbconvert_exporter": "python",
   "pygments_lexer": "ipython3",
   "version": "3.12.5"
  }
 },
 "nbformat": 4,
 "nbformat_minor": 2
}
