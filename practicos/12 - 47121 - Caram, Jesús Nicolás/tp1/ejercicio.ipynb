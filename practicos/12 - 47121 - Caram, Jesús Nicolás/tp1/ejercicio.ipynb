{
 "cells": [
  {
   "cell_type": "markdown",
   "metadata": {},
   "source": [
    "# Trabajo práctico 1\n",
    "\n"
   ]
  },
  {
   "cell_type": "markdown",
   "metadata": {},
   "source": [
    "## Ejercicio 1 \n",
    "\n",
    "Escribe una función en Python que procese una lista de cadenas de texto y realice las siguientes acciones:\n",
    "\n",
    "1. Tomar una lista de frases y convertir cada frase en una lista de palabras.\n",
    "1. Luego, debe crear una nueva lista que contenga la cantidad de palabras en cada frase.\n",
    "1. Tambien debe crear un lista que contenga la cantidad de caracteres en cada frase.\n",
    "1. Finalmente, debe imprimir cada frase original junto con la cantidad de palabras que contiene.\n",
    "Ejemplo de uso:\n",
    "```python\n",
    "    frases = [\n",
    "        \"Python es un lenguaje de programación\",\n",
    "        \"Me gusta resolver problemas con código\",\n",
    "        \"Las listas y los bucles son muy útiles\"\n",
    "    ]\n",
    "\n",
    "    procesar_frases(frases)\n",
    "```\n",
    "\n",
    "ejemplo de salida:\n",
    "```bash\n",
    "    La frase: \"Python es un...\"\n",
    "    tiene 6 palabras y 38 caracteres\n",
    "```\n"
   ]
  },
  {
   "cell_type": "code",
   "execution_count": 1,
   "metadata": {},
   "outputs": [
    {
     "name": "stdout",
     "output_type": "stream",
     "text": [
      " 1. Tomar una lista de frases y convertir cada frase en una lista de palabras:\n",
      "[['Python', 'es', 'un', 'lenguaje', 'de', 'programación'], ['Me', 'gusta', 'resolver', 'problemas', 'con', 'código'], ['Las', 'listas', 'y', 'los', 'bucles', 'son', 'muy', 'útiles']]\n",
      "\n",
      " 2. Luego, debe crear una nueva lista que contenga la cantidad de palabras en cada frase\n",
      "[6, 6, 8]\n",
      "\n",
      " 3. Tambien debe crear una lista que contenga la cantidad de caracteres en cada frase\n",
      "[37, 38, 38]\n",
      "\n",
      " 4. Debe imprimir cada frase original junto con la cantidad de palabras que contiene\n",
      "La frase: 'Python es un lenguaje de programación' - Cantidad de palabras: 6 - Cantidad de caracteres: 37\n",
      "La frase: 'Me gusta resolver problemas con código' - Cantidad de palabras: 6 - Cantidad de caracteres: 38\n",
      "La frase: 'Las listas y los bucles son muy útiles' - Cantidad de palabras: 8 - Cantidad de caracteres: 38\n"
     ]
    }
   ],
   "source": [
    "# Implementar\n",
    "# 1. Tomar una lista de frases y convertir cada frase en una lista de palabras:\n",
    "frases = [\"Python es un lenguaje de programación\",\n",
    "          \"Me gusta resolver problemas con código\",\n",
    "          \"Las listas y los bucles son muy útiles\"]\n",
    "\n",
    "listPalabras = list(map(str.split , frases))\n",
    "print(\" 1. Tomar una lista de frases y convertir cada frase en una lista de palabras:\")\n",
    "print(listPalabras)\n",
    "print(\"\")\n",
    "\n",
    "# 2.Luego, debe crear una nueva lista que contenga la cantidad de palabras en cada frase\n",
    "listCantidad = [len(listPalabras[0]), len(listPalabras[1]), len(listPalabras[2])]\n",
    "# listCantidad2 = [len(i) for i in listPalabras]\n",
    "\n",
    "print(\" 2. Luego, debe crear una nueva lista que contenga la cantidad de palabras en cada frase\")\n",
    "print(listCantidad)\n",
    "print(\"\")\n",
    "# print(listCantidad2)\n",
    "\n",
    "# 3.Tambien debe crear una lista que contenga la cantidad de caracteres en cada frase\n",
    "listCaracteres = [len(list(frases[0])), len(list(frases[1])), len(list(frases[2]))]\n",
    "# listCaracteres = [len(i) for i in frases]\n",
    "\n",
    "print(\" 3. Tambien debe crear una lista que contenga la cantidad de caracteres en cada frase\")\n",
    "print(listCaracteres)\n",
    "print(\"\")\n",
    "\n",
    "# 4.Debe imprimir cada frase original junto con la cantidad de palabras que contiene\n",
    "def procesar_frases(frases):\n",
    "    for i in frases:\n",
    "        palabras = i.split()\n",
    "        cantidadPalabras = len(palabras)\n",
    "        cantidadCaracteres = len(i)\n",
    "        print(f\"La frase: '{i}' - Cantidad de palabras: {cantidadPalabras} - Cantidad de caracteres: {cantidadCaracteres}\")\n",
    "    \n",
    "print(\" 4. Debe imprimir cada frase original junto con la cantidad de palabras que contiene\")\n",
    "procesar_frases(frases)"
   ]
  },
  {
   "cell_type": "markdown",
   "metadata": {},
   "source": [
    "## Ejercicio 2\n",
    "\n",
    "Escribe una función en Python que encuentre los valores de `a`, `b`, y `c` para que la función cuadrática `f(x) = aX^2 + bX + c` pase exactamente por los siguientes puntos:\n",
    "\n",
    "| x  | y  |\n",
    "|---:|---:|\n",
    "|  0 |  0 |\n",
    "|  1 |  8 |\n",
    "|  2 | 12 |\n",
    "|  3 | 12 |\n",
    "|  5 |  0 |\n",
    "\n",
    "### Requisitos:\n",
    "- La función debe explorar posibles valores de `a`, `b`, y `c` utilizando un método de prueba y error.\n",
    "- Debe devolver los valores que hagan que la diferencia entre la función `f(x)` y los valores medidos `y` sea exactamente cero para cada punto.\n",
    "\n",
    "> **Pista**: Los valores de `a`, `b`, y `c` son números pequeños."
   ]
  },
  {
   "cell_type": "code",
   "execution_count": 2,
   "metadata": {},
   "outputs": [
    {
     "name": "stdout",
     "output_type": "stream",
     "text": [
      "Los valores encontrados son: a = -2, b = 10, c = 0\n"
     ]
    }
   ],
   "source": [
    "# Implementar\n",
    "\n",
    "def funcionCuadratica(x, a, b, c):\n",
    "    return a * x**2 + b * x + c\n",
    "\n",
    "puntos = [(0, 0), (1, 8), (2, 12), (3, 12), (5, 0)]\n",
    "\n",
    "valores = range(-10, 11)\n",
    "\n",
    "def buscarCoincidencia(puntos, valores):\n",
    "    for a in valores:\n",
    "        for b in valores:\n",
    "            for c in valores:\n",
    "            \n",
    "                coincide = True\n",
    "                for x, y in puntos:\n",
    "                    if funcionCuadratica(x, a, b, c) != y:\n",
    "                     coincide = False\n",
    "                     \n",
    "                if coincide:\n",
    "                    return print(f\"Los valores encontrados son: a = {a}, b = {b}, c = {c}\")\n",
    "                \n",
    "                    \n",
    "buscarCoincidencia(puntos, valores)"
   ]
  }
 ],
 "metadata": {
  "kernelspec": {
   "display_name": "Python 3",
   "language": "python",
   "name": "python3"
  },
  "language_info": {
   "codemirror_mode": {
    "name": "ipython",
    "version": 3
   },
   "file_extension": ".py",
   "mimetype": "text/x-python",
   "name": "python",
   "nbconvert_exporter": "python",
   "pygments_lexer": "ipython3",
   "version": "3.12.5"
  }
 },
 "nbformat": 4,
 "nbformat_minor": 2
}
