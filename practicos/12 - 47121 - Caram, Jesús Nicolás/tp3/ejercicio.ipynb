{
 "cells": [
  {
   "cell_type": "markdown",
   "metadata": {},
   "source": [
    "#TP3"
   ]
  },
  {
   "cell_type": "markdown",
   "metadata": {},
   "source": [
    "## Ejercicio 1: Cargar Datos de ventas.\n",
    "\n",
    "El archivo datos.dat contiene el registro de las ventas realizadas.\n",
    "\n",
    "Tiene un formato de ancho fijo:\n",
    "- fecha:    10 lugares\n",
    "- producto: 30 lugares\n",
    "- precio:   10 lugares\n",
    "- cantidad:  5 lugares\n",
    "\n",
    "hacer una funcion que carge los en una lista de diccionarios. \n",
    "\n",
    "nota: con \n",
    "```python\n",
    "lineas = open(\"datos.dat\", \"r\").readlines() \n",
    "```\n",
    "puede obtener la lista de string de todos los datos "
   ]
  },
  {
   "cell_type": "code",
   "execution_count": 16,
   "metadata": {},
   "outputs": [
    {
     "name": "stdout",
     "output_type": "stream",
     "text": [
      "Fecha: 2024-08-27, Producto: Mirinda, Precio: 1510, Cantidad: 14\n",
      "Fecha: 2024-08-27, Producto: Mirinda, Precio: 1560, Cantidad: 12\n",
      "Fecha: 2024-08-28, Producto: Torasso, Precio: 940, Cantidad: 8\n",
      "Fecha: 2024-08-29, Producto: Pepsi Cola, Precio: 1210, Cantidad: 10\n",
      "Fecha: 2024-08-30, Producto: Mirinda, Precio: 1520, Cantidad: 1\n",
      "Fecha: 2024-09-01, Producto: Mirinda, Precio: 1550, Cantidad: 15\n",
      "Fecha: 2024-09-01, Producto: Sprite, Precio: 810, Cantidad: 4\n",
      "Fecha: 2024-09-02, Producto: Coca Cola, Precio: 1100, Cantidad: 4\n",
      "Fecha: 2024-09-02, Producto: Pepsi Cola, Precio: 1220, Cantidad: 13\n",
      "Fecha: 2024-09-02, Producto: Torasso, Precio: 910, Cantidad: 5\n",
      "Fecha: 2024-09-02, Producto: Torasso, Precio: 920, Cantidad: 3\n",
      "Fecha: 2024-09-03, Producto: Coca Cola, Precio: 1020, Cantidad: 8\n",
      "Fecha: 2024-09-03, Producto: Mirinda, Precio: 1570, Cantidad: 7\n",
      "Fecha: 2024-09-03, Producto: Mirinda, Precio: 1590, Cantidad: 2\n",
      "Fecha: 2024-09-04, Producto: Pepsi Cola, Precio: 1220, Cantidad: 13\n",
      "Fecha: 2024-09-05, Producto: Mirinda, Precio: 1500, Cantidad: 3\n",
      "Fecha: 2024-09-05, Producto: Pepsi Cola, Precio: 1300, Cantidad: 5\n",
      "Fecha: 2024-09-06, Producto: Coca Cola, Precio: 1080, Cantidad: 1\n",
      "Fecha: 2024-09-06, Producto: Sprite, Precio: 860, Cantidad: 12\n",
      "Fecha: 2024-09-06, Producto: Torasso, Precio: 930, Cantidad: 3\n",
      "Fecha: 2024-09-07, Producto: Coca Cola, Precio: 1080, Cantidad: 14\n",
      "Fecha: 2024-09-07, Producto: Sprite, Precio: 870, Cantidad: 13\n",
      "Fecha: 2024-09-08, Producto: Coca Cola, Precio: 1040, Cantidad: 10\n",
      "Fecha: 2024-09-08, Producto: Mirinda, Precio: 1580, Cantidad: 2\n",
      "Fecha: 2024-09-08, Producto: Pepsi Cola, Precio: 1240, Cantidad: 9\n",
      "Fecha: 2024-09-09, Producto: Mirinda, Precio: 1500, Cantidad: 3\n",
      "Fecha: 2024-09-09, Producto: Sprite, Precio: 850, Cantidad: 9\n",
      "Fecha: 2024-09-10, Producto: Mirinda, Precio: 1590, Cantidad: 8\n",
      "Fecha: 2024-09-10, Producto: Pepsi Cola, Precio: 1250, Cantidad: 12\n",
      "Fecha: 2024-09-11, Producto: Sprite, Precio: 810, Cantidad: 6\n",
      "Fecha: 2024-09-11, Producto: Sprite, Precio: 820, Cantidad: 14\n",
      "Fecha: 2024-09-12, Producto: Coca Cola, Precio: 1080, Cantidad: 4\n",
      "Fecha: 2024-09-13, Producto: Mirinda, Precio: 1580, Cantidad: 5\n",
      "Fecha: 2024-09-13, Producto: Pepsi Cola, Precio: 1250, Cantidad: 13\n",
      "Fecha: 2024-09-14, Producto: Coca Cola, Precio: 1080, Cantidad: 15\n",
      "Fecha: 2024-09-14, Producto: Pepsi Cola, Precio: 1270, Cantidad: 14\n",
      "Fecha: 2024-09-15, Producto: Coca Cola, Precio: 1100, Cantidad: 1\n",
      "Fecha: 2024-09-15, Producto: Mirinda, Precio: 1500, Cantidad: 13\n",
      "Fecha: 2024-09-15, Producto: Sprite, Precio: 870, Cantidad: 14\n",
      "Fecha: 2024-09-15, Producto: Torasso, Precio: 900, Cantidad: 13\n"
     ]
    }
   ],
   "source": [
    "def cargar_datos():\n",
    "    ruta_archivo = \"datos.dat\"\n",
    "    with open(ruta_archivo, \"r\") as archivo:\n",
    "        lineas = archivo.readlines()\n",
    "\n",
    "    ventas = []\n",
    "    for linea in lineas:\n",
    "        fecha = linea[0:10].strip()\n",
    "        producto = linea[10:40].strip()\n",
    "        precio = int(linea[40:50].strip())\n",
    "        cantidad = int(linea[50:55].strip())\n",
    "\n",
    "        venta = {\n",
    "            \"fecha\": fecha,\n",
    "            \"producto\": producto,\n",
    "            \"precio\": precio,\n",
    "            \"cantidad\": cantidad\n",
    "        }\n",
    "        ventas.append(venta)\n",
    "\n",
    "    return ventas\n",
    "\n",
    "datos = cargar_datos()\n",
    "\n",
    "for venta in datos:\n",
    "    # print(venta)\n",
    "    print(f\"Fecha: {venta['fecha']}, Producto: {venta['producto']}, Precio: {venta['precio']}, Cantidad: {venta['cantidad']}\")\n"
   ]
  },
  {
   "cell_type": "markdown",
   "metadata": {},
   "source": [
    "## Ejercicio 2: Calcular el total de ventas.\n",
    "\n",
    "Hacer una funcion que sume los importes vendidos (precio * cantidad) y las cantidades"
   ]
  },
  {
   "cell_type": "code",
   "execution_count": 19,
   "metadata": {},
   "outputs": [
    {
     "name": "stdout",
     "output_type": "stream",
     "text": [
      "Las ventas fueron de $392730.00 en 335 unidades\n"
     ]
    }
   ],
   "source": [
    "def calcular_totales(datos):\n",
    "    total_importe = 0\n",
    "    total_cantidad = 0\n",
    "    \n",
    "    for venta in datos:\n",
    "        total_importe += venta['precio'] * venta['cantidad']\n",
    "        total_cantidad += venta['cantidad']\n",
    "    \n",
    "    return total_importe, total_cantidad\n",
    "\n",
    "importe, cantidad = calcular_totales(datos)\n",
    "\n",
    "print(f\"Las ventas fueron de ${importe:.2f} en {cantidad} unidades\")\n"
   ]
  },
  {
   "cell_type": "markdown",
   "metadata": {},
   "source": [
    "## Ejercicio 3: Listar las unidades vendidas.\n",
    "\n",
    "Listar cuantas unidades se vendieron en total para cada producto"
   ]
  },
  {
   "cell_type": "code",
   "execution_count": 20,
   "metadata": {},
   "outputs": [
    {
     "name": "stdout",
     "output_type": "stream",
     "text": [
      "Mirinda: 85 unidades\n",
      "Torasso: 32 unidades\n",
      "Pepsi Cola: 89 unidades\n",
      "Sprite: 72 unidades\n",
      "Coca Cola: 57 unidades\n"
     ]
    }
   ],
   "source": [
    "def unidades_vendidas(datos):  \n",
    "\n",
    "    unidades = {}\n",
    "    \n",
    "    for venta in datos:\n",
    "\n",
    "        producto = venta['producto']\n",
    "        cantidad = venta['cantidad']\n",
    "        \n",
    "        if producto in unidades:\n",
    "            unidades[producto] += cantidad\n",
    "            \n",
    "        else:\n",
    "            unidades[producto] = cantidad\n",
    "    \n",
    "    return unidades\n",
    "\n",
    "def listar_ventas(unidades):\n",
    "\n",
    "    for producto, cantidad in unidades.items():\n",
    "\n",
    "        print(f\"{producto}: {cantidad} unidades\")\n",
    "\n",
    "\n",
    "ventas = unidades_vendidas(datos)\n",
    "\n",
    "listar_ventas(ventas)\n"
   ]
  },
  {
   "cell_type": "markdown",
   "metadata": {},
   "source": [
    "##  Ejercicio 4: Listar el precio promedio por producto.\n",
    "\n",
    "Hacer un listado del precio promedio por productos."
   ]
  },
  {
   "cell_type": "code",
   "execution_count": 21,
   "metadata": {},
   "outputs": [
    {
     "name": "stdout",
     "output_type": "stream",
     "text": [
      "Mirinda: $1545.83\n",
      "Torasso: $920.00\n",
      "Pepsi Cola: $1245.00\n",
      "Sprite: $841.43\n",
      "Coca Cola: $1072.50\n"
     ]
    }
   ],
   "source": [
    "def precio_promedio(datos):\n",
    "\n",
    "    totales = {}\n",
    "    \n",
    "    for venta in datos:\n",
    "\n",
    "        producto = venta['producto']\n",
    "        precio = venta['precio']\n",
    "        \n",
    "        if producto in totales:            \n",
    "            totales[producto]['total_precio'] += precio\n",
    "            totales[producto]['cantidad'] += 1\n",
    "\n",
    "        else:\n",
    "            totales[producto] = {'total_precio': precio, 'cantidad': 1}\n",
    "    \n",
    "    \n",
    "    precios_promedio = {producto: total['total_precio'] / total['cantidad'] for producto, total in totales.items()}\n",
    "    \n",
    "    return precios_promedio\n",
    "\n",
    "def listar_precios(precios):\n",
    "    \n",
    "    for producto, precio in precios.items():\n",
    "        print(f\"{producto}: ${precio:.2f}\")\n",
    "\n",
    "precios = precio_promedio(datos)\n",
    "\n",
    "listar_precios(precios)\n"
   ]
  },
  {
   "cell_type": "markdown",
   "metadata": {},
   "source": [
    "### Ejercicio 5: Ranking de productos\n",
    "\n",
    "Realizar un listado de los 3 productos mas vendidos ordenados la cantidad de unidades vendidas (ordenadas de mayor a menor)\n"
   ]
  },
  {
   "cell_type": "code",
   "execution_count": 23,
   "metadata": {},
   "outputs": [
    {
     "name": "stdout",
     "output_type": "stream",
     "text": [
      "Ranking de productos más vendidos:\n",
      "Pepsi Cola: 89 unidades\n",
      "Mirinda: 85 unidades\n",
      "Sprite: 72 unidades\n"
     ]
    }
   ],
   "source": [
    "def ranking_productos(datos, top=3):\n",
    "    \n",
    "    unidades_vendidas = {}\n",
    "    \n",
    "    for venta in datos:\n",
    "\n",
    "        producto = venta['producto']\n",
    "        cantidad = venta['cantidad']\n",
    "        \n",
    "        if producto in unidades_vendidas:\n",
    "            unidades_vendidas[producto] += cantidad\n",
    "\n",
    "        else:\n",
    "            unidades_vendidas[producto] = cantidad    \n",
    "    \n",
    "    ranking = sorted(unidades_vendidas.items(), key=lambda x: x[1], reverse=True)    \n",
    "    \n",
    "    return ranking[:top]\n",
    "\n",
    "def listar_ranking(ranking):\n",
    "    \n",
    "    print(\"Ranking de productos más vendidos:\")\n",
    "\n",
    "    for producto, cantidad in ranking:\n",
    "        print(f\"{producto}: {cantidad} unidades\")\n",
    "\n",
    "\n",
    "ranking = ranking_productos(datos)\n",
    "\n",
    "listar_ranking(ranking)\n"
   ]
  },
  {
   "cell_type": "markdown",
   "metadata": {},
   "source": [
    "### Ejercicio 6: Listar las ventas por mes\n",
    "\n",
    "Realizar un listado del total de unidades vendidas por productos separada por mes."
   ]
  },
  {
   "cell_type": "code",
   "execution_count": 25,
   "metadata": {},
   "outputs": [
    {
     "name": "stdout",
     "output_type": "stream",
     "text": [
      "Ventas para Mirinda:\n",
      "  2024-08: 27 unidades\n",
      "  2024-09: 58 unidades\n",
      "\n",
      "Ventas para Torasso:\n",
      "  2024-08: 8 unidades\n",
      "  2024-09: 24 unidades\n",
      "\n",
      "Ventas para Pepsi Cola:\n",
      "  2024-08: 10 unidades\n",
      "  2024-09: 79 unidades\n",
      "\n",
      "Ventas para Sprite:\n",
      "  2024-09: 72 unidades\n",
      "\n",
      "Ventas para Coca Cola:\n",
      "  2024-09: 57 unidades\n",
      "\n"
     ]
    }
   ],
   "source": [
    "def ventas_por_mes(datos):\n",
    "    ventas_mensuales = {}\n",
    "    \n",
    "    for venta in datos:\n",
    "\n",
    "        fecha = venta['fecha']\n",
    "\n",
    "        producto = venta['producto']\n",
    "\n",
    "        cantidad = venta['cantidad']\n",
    "        \n",
    "        mes = fecha[:7]\n",
    "\n",
    "        if producto not in ventas_mensuales:\n",
    "            ventas_mensuales[producto] = {}\n",
    "            \n",
    "        if mes not in ventas_mensuales[producto]:\n",
    "            ventas_mensuales[producto][mes] = 0\n",
    "            \n",
    "        ventas_mensuales[producto][mes] += cantidad\n",
    "        \n",
    "    return ventas_mensuales\n",
    "\n",
    "def listar_ventas_mensuales(ventas):\n",
    "\n",
    "    for producto, meses in ventas.items():\n",
    "        print(f\"Ventas para {producto}:\")\n",
    "        \n",
    "        for mes, total in meses.items():\n",
    "            print(f\"  {mes}: {total} unidades\")\n",
    "        print()\n",
    "        \n",
    "\n",
    "ventas = ventas_por_mes(datos)\n",
    "\n",
    "listar_ventas_mensuales(ventas)\n"
   ]
  },
  {
   "cell_type": "markdown",
   "metadata": {},
   "source": [
    "### Ejercicio 7: Informe general\n",
    "\n",
    "Mostrar un listado de productos ordenados alfabeticamente que contengan el precio promedio, la cantidad de unidades vendidas y el importe total vendido para cada producto"
   ]
  },
  {
   "cell_type": "code",
   "execution_count": 59,
   "metadata": {},
   "outputs": [
    {
     "name": "stdout",
     "output_type": "stream",
     "text": [
      "PRODUCTO      | Precio promedio | Unidades vendidas | Importe total vendido\n",
      "----------------------------------------------------------------------------\n",
      "Coca Cola            150.53          57              $ 60780.00       \n",
      "Mirinda              218.24          85              $ 131080.00      \n",
      "Pepsi Cola           111.91          89              $ 110510.00      \n",
      "Sprite               81.81           72              $ 61040.00       \n",
      "Torasso              143.75          32              $ 29320.00       \n"
     ]
    }
   ],
   "source": [
    "def resumen_ventas(datos):\n",
    "    resumen = {}\n",
    "    \n",
    "    for venta in datos:\n",
    "\n",
    "        producto = venta['producto']\n",
    "        precio = venta['precio']\n",
    "        cantidad = venta['cantidad']\n",
    "        importe = precio * cantidad\n",
    "        \n",
    "        if producto not in resumen:\n",
    "            resumen[producto] = {\n",
    "                'total_precio': 0,\n",
    "                'total_cantidad': 0,\n",
    "                'importe_total': 0\n",
    "            }\n",
    "        \n",
    "        \n",
    "        resumen[producto]['total_precio'] += precio\n",
    "        resumen[producto]['total_cantidad'] += cantidad\n",
    "        resumen[producto]['importe_total'] += importe\n",
    "        \n",
    "\n",
    "    for producto in resumen:\n",
    "        total_precio = resumen[producto]['total_precio']\n",
    "        total_cantidad = resumen[producto]['total_cantidad']\n",
    "        \n",
    "        promedio_precio = total_precio / total_cantidad if total_cantidad > 0 else 0\n",
    "        resumen[producto]['promedio_precio'] = promedio_precio\n",
    "    \n",
    "    return resumen\n",
    "\n",
    "def informe_ventas(resumen):\n",
    "    \n",
    "    productos_ordenados = sorted(resumen.keys())\n",
    "    \n",
    "    print(f\"{'PRODUCTO      |'} {'Precio promedio |':<15} {'Unidades vendidas |':<15} {'Importe total vendido':<15}\")\n",
    "    print(\"-\" * 76)\n",
    "    \n",
    "    for producto in productos_ordenados:\n",
    "        promedio_precio = resumen[producto]['promedio_precio']\n",
    "        total_cantidad = resumen[producto]['total_cantidad']\n",
    "        importe_total = resumen[producto]['importe_total']\n",
    "        print(f\"{producto:<20} {promedio_precio:<15.2f} {total_cantidad:<15} $ {importe_total:<15.2f}\")\n",
    "        \n",
    "\n",
    "resumen = resumen_ventas(datos)\n",
    "informe_ventas(resumen)\n"
   ]
  }
 ],
 "metadata": {
  "kernelspec": {
   "display_name": "Python 3",
   "language": "python",
   "name": "python3"
  },
  "language_info": {
   "codemirror_mode": {
    "name": "ipython",
    "version": 3
   },
   "file_extension": ".py",
   "mimetype": "text/x-python",
   "name": "python",
   "nbconvert_exporter": "python",
   "pygments_lexer": "ipython3",
   "version": "3.12.5"
  }
 },
 "nbformat": 4,
 "nbformat_minor": 2
}
