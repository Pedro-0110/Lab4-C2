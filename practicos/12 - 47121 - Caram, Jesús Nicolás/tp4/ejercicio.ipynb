{
 "cells": [
  {
   "cell_type": "markdown",
   "metadata": {},
   "source": [
    "# Simulación del Truco"
   ]
  },
  {
   "cell_type": "markdown",
   "metadata": {},
   "source": [
    "Las **cartas** deben registra el numero, palo y valor de la carta. \n",
    "El valor debe reflejar la jerarquía de las cartas en el juego del truco."
   ]
  },
  {
   "cell_type": "code",
   "execution_count": 49,
   "metadata": {},
   "outputs": [
    {
     "name": "stdout",
     "output_type": "stream",
     "text": [
      "La carta tiene como valor: 13\n"
     ]
    }
   ],
   "source": [
    "def calcular_valor(numero, palo):\n",
    "    if numero == 1 and palo == \"espada\": return 13\n",
    "    if numero == 1 and palo == \"basto\": return 12\n",
    "    if numero == 7 and palo == \"espada\": return 11\n",
    "    if numero == 7 and palo == \"oro\": return 10\n",
    "    if numero == 3: return 9\n",
    "    if numero == 2: return 8\n",
    "    if numero == 1 and palo == \"copa\": return 7\n",
    "    if numero == 1 and palo == \"oro\": return 7\n",
    "    if numero == 12: return 6\n",
    "    if numero == 11: return 5\n",
    "    if numero == 10: return 4\n",
    "    if numero == 7 and palo == \"copa\": return 3\n",
    "    if numero == 7 and palo == \"basto\": return 3\n",
    "    if numero == 6: return 2\n",
    "    if numero == 5: return 1\n",
    "    if numero == 4: return 0\n",
    "\n",
    "c = calcular_valor(1, \"espada\")\n",
    "\n",
    "print(\"La carta tiene como valor:\", c)"
   ]
  },
  {
   "cell_type": "markdown",
   "metadata": {},
   "source": [
    "**Mazo**: Representan las cartas españolas de 1 al 12, en los palos de oro, copa, espada y basto.\n",
    "\n",
    "Debe existir una función que permita barajar las cartas.\n",
    "y otra función que permita repartir las cartas a los jugadores."
   ]
  },
  {
   "cell_type": "code",
   "execution_count": 59,
   "metadata": {},
   "outputs": [
    {
     "name": "stdout",
     "output_type": "stream",
     "text": [
      "12 de basto\n",
      "12 de oro\n",
      "3 de espada\n"
     ]
    }
   ],
   "source": [
    "import random\n",
    "\n",
    "class Carta:\n",
    "    def __init__(self, numero, palo):\n",
    "        self.numero = numero\n",
    "        self.palo = palo\n",
    "\n",
    "    def __str__(self):\n",
    "        return f\"{self.numero} de {self.palo}\"\n",
    "\n",
    "class Mazo:\n",
    "\n",
    "    def __init__(self):\n",
    "        palos = ['espada', 'basto', 'oro', 'copa']\n",
    "        numeros = [1, 2, 3, 4, 5, 6, 7, 10, 11, 12]        \n",
    "        self.cartas = [Carta(numero, palo) for palo in palos for numero in numeros]\n",
    "\n",
    "    def mezclar(self):\n",
    "        random.shuffle(self.cartas)\n",
    "\n",
    "    def repartir(self, cantidad):\n",
    "        mano = self.cartas[:cantidad]\n",
    "        self.cartas = self.cartas[cantidad:]\n",
    "        return mano\n",
    "    \n",
    "\n",
    "deck = Mazo()\n",
    "\n",
    "deck.mezclar()\n",
    "\n",
    "cartasEnMano = deck.repartir(3)\n",
    "\n",
    "for carta in cartasEnMano:\n",
    "    print(carta)"
   ]
  },
  {
   "cell_type": "markdown",
   "metadata": {},
   "source": [
    "**Jugador**: Deben tener un nombre y las cartas que tiene en la mano. Debe acumular los puntos ganados.\n",
    "\n",
    "Nota: Para simplificar el problema, el jugador elige la carta a jugar de forma aleatoria."
   ]
  },
  {
   "cell_type": "code",
   "execution_count": 66,
   "metadata": {},
   "outputs": [
    {
     "name": "stdout",
     "output_type": "stream",
     "text": [
      "Jesus jugó 2 de oro\n"
     ]
    }
   ],
   "source": [
    "class Jugador:\n",
    "    def __init__(self, nombre):\n",
    "        self.nombre = nombre\n",
    "        self.mano = []\n",
    "        self.puntos = 0 \n",
    "\n",
    "    def recibir_cartas(self, cartas):\n",
    "        self.mano.extend(cartas)\n",
    "\n",
    "    def jugar_carta(self):\n",
    "        if self.mano:\n",
    "            carta_jugada = random.choice(self.mano)\n",
    "            self.mano.remove(carta_jugada)\n",
    "            return carta_jugada\n",
    "        else:\n",
    "            return None\n",
    "\n",
    "m = Mazo()\n",
    "m.mezclar()\n",
    "\n",
    "j = Jugador(\"Jesus\")\n",
    "j.recibir_cartas(m.repartir(3))\n",
    "\n",
    "carta_jugada = j.jugar_carta()\n",
    "\n",
    "if carta_jugada:\n",
    "    print(f\"{j.nombre} jugó {carta_jugada}\")\n",
    "else:\n",
    "    print(f\"{j.nombre} no tiene cartas para jugar.\")"
   ]
  },
  {
   "cell_type": "markdown",
   "metadata": {},
   "source": [
    "**Partida**: Debe tener dos jugadores, un mazo de cartas y un puntaje. Debe permitir jugar una carta por ronda y definir el ganador de la ronda. Debe permitir jugar hasta que se terminen las cartas del mazo."
   ]
  },
  {
   "cell_type": "code",
   "execution_count": 157,
   "metadata": {},
   "outputs": [
    {
     "name": "stdout",
     "output_type": "stream",
     "text": [
      "Jesus jugó 7 de copa\n",
      "Maquina jugó 11 de basto\n",
      "Maquina gana la ronda!\n",
      "Puntaje - Jesus: 0, Maquina: 1\n",
      "\n",
      "Jesus jugó 7 de espada\n",
      "Maquina jugó 4 de oro\n",
      "Jesus gana la ronda!\n",
      "Puntaje - Jesus: 1, Maquina: 1\n",
      "\n",
      "Jesus jugó 10 de basto\n",
      "Maquina jugó 12 de oro\n",
      "Maquina gana la ronda!\n",
      "Puntaje - Jesus: 1, Maquina: 2\n",
      "\n",
      "Jesus jugó 3 de oro\n",
      "Maquina jugó 7 de basto\n",
      "Jesus gana la ronda!\n",
      "Puntaje - Jesus: 2, Maquina: 2\n",
      "\n",
      "Jesus jugó 6 de copa\n",
      "Maquina jugó 2 de copa\n",
      "Maquina gana la ronda!\n",
      "Puntaje - Jesus: 2, Maquina: 3\n",
      "\n",
      "Jesus jugó 2 de basto\n",
      "Maquina jugó 1 de espada\n",
      "Maquina gana la ronda!\n",
      "Puntaje - Jesus: 2, Maquina: 4\n",
      "\n",
      "El mazo se ha quedado sin cartas.\n",
      "Maquina ha ganado la partida!\n"
     ]
    }
   ],
   "source": [
    "class Partida:\n",
    "    def __init__(self, jugador1, jugador2):\n",
    "        self.jugador1 = jugador1\n",
    "        self.jugador2 = jugador2\n",
    "        self.mazo = Mazo()\n",
    "        self.puntos_jugador1 = 0\n",
    "        self.puntos_jugador2 = 0\n",
    "\n",
    "    def jugar_ronda(self):\n",
    "        carta_jugador1 = self.jugador1.jugar_carta()\n",
    "        carta_jugador2 = self.jugador2.jugar_carta()\n",
    "\n",
    "        if carta_jugador1 is None and carta_jugador2 is None:\n",
    "            print(\"Ambos jugadores no tienen cartas para jugar.\")\n",
    "            return False\n",
    "\n",
    "        if carta_jugador1 is None:\n",
    "            print(f\"{self.jugador1.nombre} no tiene cartas para jugar.\")\n",
    "            print(f\"{self.jugador2.nombre} gana la ronda por no tener oponente.\")\n",
    "            self.puntos_jugador2 += 1\n",
    "            return True\n",
    "\n",
    "        if carta_jugador2 is None:\n",
    "            print(f\"{self.jugador2.nombre} no tiene cartas para jugar.\")\n",
    "            print(f\"{self.jugador1.nombre} gana la ronda por no tener oponente.\")\n",
    "            self.puntos_jugador1 += 1\n",
    "            return True\n",
    "\n",
    "        print(f\"{self.jugador1.nombre} jugó {carta_jugador1}\")\n",
    "        print(f\"{self.jugador2.nombre} jugó {carta_jugador2}\")\n",
    "        \n",
    "        valor_jugador1 = calcular_valor(carta_jugador1.numero, carta_jugador1.palo)\n",
    "        valor_jugador2 = calcular_valor(carta_jugador2.numero, carta_jugador2.palo)\n",
    "\n",
    "        if valor_jugador1 > valor_jugador2:\n",
    "            self.puntos_jugador1 += 1\n",
    "            print(f\"{self.jugador1.nombre} gana la ronda!\")\n",
    "        elif valor_jugador1 < valor_jugador2:\n",
    "            self.puntos_jugador2 += 1\n",
    "            print(f\"{self.jugador2.nombre} gana la ronda!\")\n",
    "        else:\n",
    "            print(\"¡Es un empate!\")\n",
    "        \n",
    "        return True\n",
    "\n",
    "    def jugar(self):\n",
    "        while self.puntos_jugador1 < 15 and self.puntos_jugador2 < 15:\n",
    "            if len(self.mazo.cartas) < 6:\n",
    "                print(\"El mazo se ha quedado sin cartas.\")\n",
    "                break\n",
    "\n",
    "            self.mazo.mezclar()\n",
    "\n",
    "            self.jugador1.recibir_cartas(self.mazo.repartir(3))\n",
    "            self.jugador2.recibir_cartas(self.mazo.repartir(3))\n",
    "\n",
    "\n",
    "            if not self.jugar_ronda():\n",
    "                break\n",
    "            \n",
    "            \n",
    "            print(f\"Puntaje - {self.jugador1.nombre}: {self.puntos_jugador1}, {self.jugador2.nombre}: {self.puntos_jugador2}\\n\")\n",
    "\n",
    "\n",
    "        if self.puntos_jugador1 >= 15:\n",
    "            print(f\"{self.jugador1.nombre} ha ganado la partida!\")\n",
    "        elif self.puntos_jugador2 >= 15:\n",
    "            print(f\"{self.jugador2.nombre} ha ganado la partida!\")\n",
    "        else:            \n",
    "            if self.puntos_jugador1 > self.puntos_jugador2:\n",
    "                print(f\"{self.jugador1.nombre} ha ganado la partida!\")\n",
    "            elif self.puntos_jugador1 < self.puntos_jugador2:\n",
    "                print(f\"{self.jugador2.nombre} ha ganado la partida!\")\n",
    "            else:\n",
    "                print(\"La partida terminó en empate!\")\n",
    "                \n",
    "\n",
    "p = Partida(Jugador(\"Jesus\"), Jugador(\"Maquina\"))\n",
    "p.jugar()\n"
   ]
  }
 ],
 "metadata": {
  "kernelspec": {
   "display_name": "Python 3",
   "language": "python",
   "name": "python3"
  },
  "language_info": {
   "codemirror_mode": {
    "name": "ipython",
    "version": 3
   },
   "file_extension": ".py",
   "mimetype": "text/x-python",
   "name": "python",
   "nbconvert_exporter": "python",
   "pygments_lexer": "ipython3",
   "version": "3.12.5"
  }
 },
 "nbformat": 4,
 "nbformat_minor": 2
}
