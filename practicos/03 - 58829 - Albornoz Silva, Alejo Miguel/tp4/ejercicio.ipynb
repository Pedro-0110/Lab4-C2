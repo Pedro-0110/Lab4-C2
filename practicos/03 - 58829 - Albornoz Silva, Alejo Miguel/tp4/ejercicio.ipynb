{
 "cells": [
  {
   "cell_type": "markdown",
   "metadata": {},
   "source": [
    "# Simulación del Truco"
   ]
  },
  {
   "cell_type": "markdown",
   "metadata": {},
   "source": [
    "Las **cartas** deben registra el numero, palo y valor de la carta. \n",
    "El valor debe reflejar la jerarquía de las cartas en el juego del truco."
   ]
  },
  {
   "cell_type": "code",
   "execution_count": 103,
   "metadata": {},
   "outputs": [
    {
     "name": "stdout",
     "output_type": "stream",
     "text": [
      "El 1 de espada vale: 14\n"
     ]
    }
   ],
   "source": [
    "def calcular_valor(numero, palo):\n",
    "    valores = {\n",
    "        (1, \"espada\"): 14,\n",
    "        (1, \"basto\"): 13,\n",
    "        (7, \"espada\"): 12,\n",
    "        (7, \"oro\"): 11,\n",
    "        (3, ): 10,\n",
    "        (2, ): 9,\n",
    "        (1, ): 8,\n",
    "        (12, ): 7,\n",
    "        (11, ): 6,\n",
    "        (10, ): 5,\n",
    "        (7, ): 4,\n",
    "        (6, ): 3,\n",
    "        (5, ): 2,\n",
    "        (4, ): 1\n",
    "    }\n",
    "    return valores.get((numero, palo)) or valores.get((numero,)) \n",
    "\n",
    "class Carta:\n",
    "    def __init__(self, numero, palo):\n",
    "        self.numero = numero\n",
    "        self.palo = palo\n",
    "        self.valor = calcular_valor(numero, palo)\n",
    "\n",
    "    def __str__(self):\n",
    "        return f\"El {self.numero} de {self.palo} vale: {self.valor}\"\n",
    "    \n",
    "c = Carta(1, \"espada\")\n",
    "\n",
    "print(c)"
   ]
  },
  {
   "cell_type": "markdown",
   "metadata": {},
   "source": [
    "**Mazo**: Representan las cartas españolas de 1 al 12, en los palos de oro, copa, espada y basto.\n",
    "\n",
    "Debe existir una función que permita barajar las cartas.\n",
    "y otra función que permita repartir las cartas a los jugadores."
   ]
  },
  {
   "cell_type": "code",
   "execution_count": 108,
   "metadata": {},
   "outputs": [],
   "source": [
    "import random\n",
    "numeros = [1, 2, 3, 4, 5, 6, 7, 10, 11, 12]\n",
    "palos = [\"espada\", \"basto\", \"oro\", \"copa\"]\n",
    "\n",
    "class Mazo:\n",
    "    def __init__(self):\n",
    "        self.cartas = [Carta(numero,palo) for numero in numeros for palo in palos]\n",
    "    \n",
    "    def reiniciar(self):\n",
    "        self.cartas = [Carta(numero,palo) for numero in numeros for palo in palos]\n",
    "        self.mezclar()  \n",
    "\n",
    "    def mezclar(self):\n",
    "        random.shuffle(self.cartas)\n",
    "\n",
    "    def repartir(self, cantidad):\n",
    "        return [self.cartas.pop() for _ in range(cantidad)]\n",
    "\n",
    " \n",
    "\n",
    "m = Mazo()\n",
    "m.mezclar()\n",
    "cartas_repartidas= m.repartir(3)\n"
   ]
  },
  {
   "cell_type": "markdown",
   "metadata": {},
   "source": [
    "**Jugador**: Deben tener un nombre y las cartas que tiene en la mano. Debe acumular los puntos ganados.\n",
    "\n",
    "Nota: Para simplificar el problema, el jugador elige la carta a jugar de forma aleatoria."
   ]
  },
  {
   "cell_type": "code",
   "execution_count": 106,
   "metadata": {},
   "outputs": [
    {
     "name": "stdout",
     "output_type": "stream",
     "text": [
      "El jugador Juan tiene las cartas: ['El 10 de basto vale: 5', 'El 2 de basto vale: 9', 'El 2 de espada vale: 9']\n"
     ]
    }
   ],
   "source": [
    "class Jugador:\n",
    "\n",
    "    def __init__(self, nombre):\n",
    "        self.nombre = nombre\n",
    "    def recibir_cartas(self, cartas):\n",
    "        self.cartas = cartas\n",
    "    def jugar_carta(self):\n",
    "        return self.cartas.pop()\n",
    "    def __str__(self):\n",
    "        return f\"El jugador {self.nombre} tiene las cartas: {[str(carta) for carta in self.cartas]}\"\n",
    "    \n",
    "j = Jugador(\"Juan\")\n",
    "j.recibir_cartas(m.repartir(3))\n",
    "# print(j.jugar_carta())\n",
    "print(j)"
   ]
  },
  {
   "cell_type": "markdown",
   "metadata": {},
   "source": [
    "**Partida**: Debe tener dos jugadores, un mazo de cartas y un puntaje. Debe permitir jugar una carta por ronda y definir el ganador de la ronda. Debe permitir jugar hasta que se terminen las cartas del mazo."
   ]
  },
  {
   "cell_type": "code",
   "execution_count": 111,
   "metadata": {},
   "outputs": [
    {
     "name": "stdout",
     "output_type": "stream",
     "text": [
      "El jugador 1 jugo: El 4 de oro vale: 1\n",
      "El jugador 2 jugo: El 11 de copa vale: 6\n",
      "Gano el jugador 2\n",
      "El jugador 1 jugo: El 7 de copa vale: 4\n",
      "El jugador 2 jugo: El 10 de basto vale: 5\n",
      "Gano el jugador 2\n",
      "Puntaje : Jugador 1: 0, Jugador 2: 2\n",
      "El jugador 1 jugo: El 4 de oro vale: 1\n",
      "El jugador 2 jugo: El 4 de basto vale: 1\n",
      "Empate\n",
      "Puntaje : Jugador 1: 0, Jugador 2: 2\n",
      "El jugador 1 jugo: El 7 de basto vale: 4\n",
      "El jugador 2 jugo: El 6 de oro vale: 3\n",
      "Gano el jugador 1\n",
      "Puntaje : Jugador 1: 1, Jugador 2: 2\n",
      "El jugador 1 jugo: El 11 de espada vale: 6\n",
      "El jugador 2 jugo: El 1 de basto vale: 13\n",
      "Gano el jugador 2\n",
      "Puntaje : Jugador 1: 1, Jugador 2: 3\n",
      "El jugador 1 jugo: El 5 de oro vale: 2\n",
      "El jugador 2 jugo: El 5 de basto vale: 2\n",
      "Empate\n",
      "Puntaje : Jugador 1: 1, Jugador 2: 3\n",
      "El jugador 1 jugo: El 4 de copa vale: 1\n",
      "El jugador 2 jugo: El 7 de copa vale: 4\n",
      "Gano el jugador 2\n",
      "Puntaje : Jugador 1: 1, Jugador 2: 4\n",
      "El jugador 1 jugo: El 3 de basto vale: 10\n",
      "El jugador 2 jugo: El 1 de espada vale: 14\n",
      "Gano el jugador 2\n",
      "Puntaje : Jugador 1: 1, Jugador 2: 5\n",
      "El jugador 1 jugo: El 11 de oro vale: 6\n",
      "El jugador 2 jugo: El 3 de espada vale: 10\n",
      "Gano el jugador 2\n",
      "Puntaje : Jugador 1: 1, Jugador 2: 6\n",
      "El jugador 1 jugo: El 2 de copa vale: 9\n",
      "El jugador 2 jugo: El 12 de copa vale: 7\n",
      "Gano el jugador 1\n",
      "Puntaje : Jugador 1: 2, Jugador 2: 6\n",
      "El jugador 1 jugo: El 3 de espada vale: 10\n",
      "El jugador 2 jugo: El 4 de oro vale: 1\n",
      "Gano el jugador 1\n",
      "Puntaje : Jugador 1: 3, Jugador 2: 6\n",
      "El jugador 1 jugo: El 3 de oro vale: 10\n",
      "El jugador 2 jugo: El 6 de oro vale: 3\n",
      "Gano el jugador 1\n",
      "Puntaje : Jugador 1: 4, Jugador 2: 6\n",
      "El jugador 1 jugo: El 11 de espada vale: 6\n",
      "El jugador 2 jugo: El 7 de oro vale: 11\n",
      "Gano el jugador 2\n",
      "Puntaje : Jugador 1: 4, Jugador 2: 7\n",
      "El jugador 1 jugo: El 10 de basto vale: 5\n",
      "El jugador 2 jugo: El 7 de basto vale: 4\n",
      "Gano el jugador 1\n",
      "Puntaje : Jugador 1: 5, Jugador 2: 7\n",
      "El jugador 1 jugo: El 10 de oro vale: 5\n",
      "El jugador 2 jugo: El 7 de oro vale: 11\n",
      "Gano el jugador 2\n",
      "Puntaje : Jugador 1: 5, Jugador 2: 8\n",
      "El jugador 1 jugo: El 7 de espada vale: 12\n",
      "El jugador 2 jugo: El 5 de espada vale: 2\n",
      "Gano el jugador 1\n",
      "Puntaje : Jugador 1: 6, Jugador 2: 8\n",
      "El jugador 1 jugo: El 4 de espada vale: 1\n",
      "El jugador 2 jugo: El 12 de espada vale: 7\n",
      "Gano el jugador 2\n",
      "Puntaje : Jugador 1: 6, Jugador 2: 9\n",
      "El jugador 1 jugo: El 12 de basto vale: 7\n",
      "El jugador 2 jugo: El 7 de oro vale: 11\n",
      "Gano el jugador 2\n",
      "Puntaje : Jugador 1: 6, Jugador 2: 10\n",
      "El jugador 1 jugo: El 7 de basto vale: 4\n",
      "El jugador 2 jugo: El 3 de espada vale: 10\n",
      "Gano el jugador 2\n",
      "Puntaje : Jugador 1: 6, Jugador 2: 11\n",
      "El jugador 1 jugo: El 7 de copa vale: 4\n",
      "El jugador 2 jugo: El 3 de oro vale: 10\n",
      "Gano el jugador 2\n",
      "Puntaje : Jugador 1: 6, Jugador 2: 12\n",
      "El jugador 1 jugo: El 5 de copa vale: 2\n",
      "El jugador 2 jugo: El 5 de espada vale: 2\n",
      "Empate\n",
      "Puntaje : Jugador 1: 6, Jugador 2: 12\n",
      "El jugador 1 jugo: El 12 de espada vale: 7\n",
      "El jugador 2 jugo: El 1 de copa vale: 8\n",
      "Gano el jugador 2\n",
      "Puntaje : Jugador 1: 6, Jugador 2: 13\n",
      "El jugador 1 jugo: El 6 de oro vale: 3\n",
      "El jugador 2 jugo: El 4 de copa vale: 1\n",
      "Gano el jugador 1\n",
      "Puntaje : Jugador 1: 7, Jugador 2: 13\n",
      "El jugador 1 jugo: El 3 de oro vale: 10\n",
      "El jugador 2 jugo: El 12 de copa vale: 7\n",
      "Gano el jugador 1\n",
      "Puntaje : Jugador 1: 8, Jugador 2: 13\n",
      "El jugador 1 jugo: El 4 de espada vale: 1\n",
      "El jugador 2 jugo: El 10 de oro vale: 5\n",
      "Gano el jugador 2\n",
      "Puntaje : Jugador 1: 8, Jugador 2: 14\n",
      "El jugador 1 jugo: El 5 de basto vale: 2\n",
      "El jugador 2 jugo: El 3 de oro vale: 10\n",
      "Gano el jugador 2\n",
      "Puntaje : Jugador 1: 8, Jugador 2: 15\n",
      "El jugador 2 gana la partida!\n"
     ]
    }
   ],
   "source": [
    "class Partida:\n",
    "       \n",
    "    def __init__(self, jugador1, jugador2):\n",
    "        self.jugador1 = jugador1\n",
    "        self.jugador2 = jugador2\n",
    "        self.mazo = Mazo()\n",
    "        self.mazo.mezclar()\n",
    "        jugador1.recibir_cartas(self.mazo.repartir(3))\n",
    "        jugador2.recibir_cartas(self.mazo.repartir(3))\n",
    "        self.contador_j1 = 0\n",
    "        self.contador_j2=0 \n",
    "    def jugar_ronda(self):\n",
    "        carta_j1 = self.jugador1.jugar_carta()\n",
    "        carta_j2 = self.jugador2.jugar_carta()\n",
    "        print(f\"El jugador 1 jugo: {carta_j1}\")\n",
    "        print(f\"El jugador 2 jugo: {carta_j2}\")\n",
    "        if carta_j1.valor > carta_j2.valor:\n",
    "            self.contador_j1 += 1\n",
    "            print(\"Gano el jugador 1\")\n",
    "        elif carta_j1.valor < carta_j2.valor:\n",
    "            self.contador_j2 += 1\n",
    "            print(\"Gano el jugador 2\")\n",
    "        else:\n",
    "            self.contador_j1 += 0\n",
    "            self.contador_j2 += 0\n",
    "            print(\"Empate\")        \n",
    "\n",
    "    def jugar(self):\n",
    "        while self.contador_j1 < 15 and self.contador_j2 < 15:\n",
    "            self.mazo.reiniciar()\n",
    "            self.jugador1.recibir_cartas(self.mazo.repartir(3))\n",
    "            self.jugador2.recibir_cartas(self.mazo.repartir(3))\n",
    "            self.jugar_ronda()\n",
    "            print(f\"Puntaje : Jugador 1: {self.contador_j1}, Jugador 2: {self.contador_j2}\")\n",
    "        if self.contador_j1 >= 15:\n",
    "            print(\"El jugador 1 gana la partida!\")\n",
    "        else:\n",
    "            print(\"El jugador 2 gana la partida!\")\n",
    "\n",
    "p = Partida(Jugador(\"Juan\"), Jugador(\"Pedro\"))\n",
    "p.jugar_ronda()\n",
    "p.jugar()"
   ]
  },
  {
   "cell_type": "code",
   "execution_count": null,
   "metadata": {},
   "outputs": [],
   "source": []
  }
 ],
 "metadata": {
  "kernelspec": {
   "display_name": "Python 3",
   "language": "python",
   "name": "python3"
  },
  "language_info": {
   "codemirror_mode": {
    "name": "ipython",
    "version": 3
   },
   "file_extension": ".py",
   "mimetype": "text/x-python",
   "name": "python",
   "nbconvert_exporter": "python",
   "pygments_lexer": "ipython3",
   "version": "3.12.5"
  }
 },
 "nbformat": 4,
 "nbformat_minor": 2
}
