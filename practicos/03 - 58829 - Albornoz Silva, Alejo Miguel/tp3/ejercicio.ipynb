{
 "cells": [
  {
   "cell_type": "markdown",
   "metadata": {},
   "source": [
    "#TP3"
   ]
  },
  {
   "cell_type": "markdown",
   "metadata": {},
   "source": [
    "## Ejercicio 1: Cargar Datos de ventas.\n",
    "\n",
    "El archivo datos.dat contiene el registro de las ventas realizadas.\n",
    "\n",
    "Tiene un formato de ancho fijo:\n",
    "- fecha:    10 lugares\n",
    "- producto: 30 lugares\n",
    "- precio:   10 lugares\n",
    "- cantidad:  5 lugares\n",
    "\n",
    "hacer una funcion que carge los en una lista de diccionarios. \n",
    "\n",
    "nota: con \n",
    "```python\n",
    "lineas = open(\"datos.dat\", \"r\").readlines() \n",
    "```\n",
    "puede obtener la lista de string de todos los datos "
   ]
  },
  {
   "cell_type": "code",
   "execution_count": 56,
   "metadata": {},
   "outputs": [
    {
     "name": "stdout",
     "output_type": "stream",
     "text": [
      "[{'fecha': '2024-08-27', 'producto': 'Mirinda', 'precio': '1510', 'cantidad': '14'}, {'fecha': '2024-08-27', 'producto': 'Mirinda', 'precio': '1560', 'cantidad': '12'}, {'fecha': '2024-08-28', 'producto': 'Torasso', 'precio': '940', 'cantidad': '8'}, {'fecha': '2024-08-29', 'producto': 'Pepsi Cola', 'precio': '1210', 'cantidad': '10'}, {'fecha': '2024-08-30', 'producto': 'Mirinda', 'precio': '1520', 'cantidad': '1'}, {'fecha': '2024-09-01', 'producto': 'Mirinda', 'precio': '1550', 'cantidad': '15'}, {'fecha': '2024-09-01', 'producto': 'Sprite', 'precio': '810', 'cantidad': '4'}, {'fecha': '2024-09-02', 'producto': 'Coca Cola', 'precio': '1100', 'cantidad': '4'}, {'fecha': '2024-09-02', 'producto': 'Pepsi Cola', 'precio': '1220', 'cantidad': '13'}, {'fecha': '2024-09-02', 'producto': 'Torasso', 'precio': '910', 'cantidad': '5'}, {'fecha': '2024-09-02', 'producto': 'Torasso', 'precio': '920', 'cantidad': '3'}, {'fecha': '2024-09-03', 'producto': 'Coca Cola', 'precio': '1020', 'cantidad': '8'}, {'fecha': '2024-09-03', 'producto': 'Mirinda', 'precio': '1570', 'cantidad': '7'}, {'fecha': '2024-09-03', 'producto': 'Mirinda', 'precio': '1590', 'cantidad': '2'}, {'fecha': '2024-09-04', 'producto': 'Pepsi Cola', 'precio': '1220', 'cantidad': '13'}, {'fecha': '2024-09-05', 'producto': 'Mirinda', 'precio': '1500', 'cantidad': '3'}, {'fecha': '2024-09-05', 'producto': 'Pepsi Cola', 'precio': '1300', 'cantidad': '5'}, {'fecha': '2024-09-06', 'producto': 'Coca Cola', 'precio': '1080', 'cantidad': '1'}, {'fecha': '2024-09-06', 'producto': 'Sprite', 'precio': '860', 'cantidad': '12'}, {'fecha': '2024-09-06', 'producto': 'Torasso', 'precio': '930', 'cantidad': '3'}, {'fecha': '2024-09-07', 'producto': 'Coca Cola', 'precio': '1080', 'cantidad': '14'}, {'fecha': '2024-09-07', 'producto': 'Sprite', 'precio': '870', 'cantidad': '13'}, {'fecha': '2024-09-08', 'producto': 'Coca Cola', 'precio': '1040', 'cantidad': '10'}, {'fecha': '2024-09-08', 'producto': 'Mirinda', 'precio': '1580', 'cantidad': '2'}, {'fecha': '2024-09-08', 'producto': 'Pepsi Cola', 'precio': '1240', 'cantidad': '9'}, {'fecha': '2024-09-09', 'producto': 'Mirinda', 'precio': '1500', 'cantidad': '3'}, {'fecha': '2024-09-09', 'producto': 'Sprite', 'precio': '850', 'cantidad': '9'}, {'fecha': '2024-09-10', 'producto': 'Mirinda', 'precio': '1590', 'cantidad': '8'}, {'fecha': '2024-09-10', 'producto': 'Pepsi Cola', 'precio': '1250', 'cantidad': '12'}, {'fecha': '2024-09-11', 'producto': 'Sprite', 'precio': '810', 'cantidad': '6'}, {'fecha': '2024-09-11', 'producto': 'Sprite', 'precio': '820', 'cantidad': '14'}, {'fecha': '2024-09-12', 'producto': 'Coca Cola', 'precio': '1080', 'cantidad': '4'}, {'fecha': '2024-09-13', 'producto': 'Mirinda', 'precio': '1580', 'cantidad': '5'}, {'fecha': '2024-09-13', 'producto': 'Pepsi Cola', 'precio': '1250', 'cantidad': '13'}, {'fecha': '2024-09-14', 'producto': 'Coca Cola', 'precio': '1080', 'cantidad': '15'}, {'fecha': '2024-09-14', 'producto': 'Pepsi Cola', 'precio': '1270', 'cantidad': '14'}, {'fecha': '2024-09-15', 'producto': 'Coca Cola', 'precio': '1100', 'cantidad': '1'}, {'fecha': '2024-09-15', 'producto': 'Mirinda', 'precio': '1500', 'cantidad': '13'}, {'fecha': '2024-09-15', 'producto': 'Sprite', 'precio': '870', 'cantidad': '14'}, {'fecha': '2024-09-15', 'producto': 'Torasso', 'precio': '900', 'cantidad': '13'}]\n"
     ]
    }
   ],
   "source": [
    "def cargar_datos():\n",
    "    lineas = open(\"datos.dat\", \"r\").readlines()\n",
    "    datos = []\n",
    "\n",
    "    for linea in lineas:\n",
    "        fecha = linea[0:10].strip()  \n",
    "        producto = linea[10:40].strip() \n",
    "        precio = linea[40:50].strip() \n",
    "        cantidad = linea[50:55].strip()  \n",
    "\n",
    "        diccionario = {\n",
    "            \"fecha\": fecha,\n",
    "            \"producto\": producto,\n",
    "            \"precio\": precio,\n",
    "            \"cantidad\": cantidad\n",
    "        }\n",
    "        datos.append(diccionario)\n",
    "\n",
    "    return datos\n",
    "\n",
    "\n",
    "lista_de_diccionarios = cargar_datos()\n",
    "\n",
    "\n",
    "print(lista_de_diccionarios)"
   ]
  },
  {
   "cell_type": "markdown",
   "metadata": {},
   "source": [
    "## Ejercicio 2: Calcular el total de ventas.\n",
    "\n",
    "Hacer una funcion que sume los importes vendidos (precio * cantidad) y las cantidades"
   ]
  },
  {
   "cell_type": "code",
   "execution_count": 59,
   "metadata": {},
   "outputs": [
    {
     "name": "stdout",
     "output_type": "stream",
     "text": [
      "Las ventas fueron de $392730.00 en 335 unidades\n"
     ]
    }
   ],
   "source": [
    "def calcular_totales(datos):\n",
    "    total_importe = 0\n",
    "    total_cantidad = 0\n",
    "\n",
    "    for diccionario in datos:\n",
    "        precio = float(diccionario[\"precio\"])\n",
    "        cantidad = int(diccionario[\"cantidad\"])\n",
    "\n",
    "        total_importe += precio * cantidad\n",
    "        total_cantidad += cantidad\n",
    "\n",
    "    return total_importe, total_cantidad\n",
    "\n",
    "importe, cantidad = calcular_totales(lista_de_diccionarios)\n",
    "\n",
    "print(f\"Las ventas fueron de ${importe:.2f} en {cantidad} unidades\")"
   ]
  },
  {
   "cell_type": "markdown",
   "metadata": {},
   "source": [
    "## Ejercicio 3: Listar las unidades vendidas.\n",
    "\n",
    "Listar cuantas unidades se vendieron en total para cada producto"
   ]
  },
  {
   "cell_type": "code",
   "execution_count": 61,
   "metadata": {},
   "outputs": [
    {
     "name": "stdout",
     "output_type": "stream",
     "text": [
      "El producto Mirinda vendió 85 unidades\n",
      "El producto Torasso vendió 32 unidades\n",
      "El producto Pepsi Cola vendió 89 unidades\n",
      "El producto Sprite vendió 72 unidades\n",
      "El producto Coca Cola vendió 57 unidades\n"
     ]
    }
   ],
   "source": [
    "def unidades_vendidas(datos):\n",
    "    ventas = {}\n",
    "\n",
    "    for diccionario in datos:\n",
    "        producto = diccionario[\"producto\"]\n",
    "        cantidad = int(diccionario[\"cantidad\"])\n",
    "\n",
    "        if producto in ventas:\n",
    "            ventas[producto] += cantidad\n",
    "        else:\n",
    "            ventas[producto] = cantidad\n",
    "\n",
    "    return ventas\n",
    "\n",
    "def listar_ventas(datos):\n",
    "    for producto, cantidad in datos.items():\n",
    "        print(f\"El producto {producto} vendió {cantidad} unidades\")\n",
    "\n",
    "ventas = unidades_vendidas(lista_de_diccionarios)\n",
    "listar_ventas(ventas)\n"
   ]
  },
  {
   "cell_type": "markdown",
   "metadata": {},
   "source": [
    "##  Ejercicio 4: Listar el precio promedio por producto.\n",
    "\n",
    "Hacer un listado del precio promedio por productos."
   ]
  },
  {
   "cell_type": "code",
   "execution_count": 62,
   "metadata": {},
   "outputs": [
    {
     "name": "stdout",
     "output_type": "stream",
     "text": [
      "El producto Mirinda tiene un precio promedio de $1545.83\n",
      "El producto Torasso tiene un precio promedio de $920.00\n",
      "El producto Pepsi Cola tiene un precio promedio de $1245.00\n",
      "El producto Sprite tiene un precio promedio de $841.43\n",
      "El producto Coca Cola tiene un precio promedio de $1072.50\n"
     ]
    }
   ],
   "source": [
    "def precio_promedio(datos):\n",
    "    precios = {}\n",
    "\n",
    "    for diccionario in datos:\n",
    "        producto = diccionario[\"producto\"]\n",
    "        precio = float(diccionario[\"precio\"])\n",
    "\n",
    "        if producto in precios:\n",
    "            precios[producto].append(precio)\n",
    "        else:\n",
    "            precios[producto] = [precio]\n",
    "\n",
    "    for producto, lista_precios in precios.items():\n",
    "        precios[producto] = sum(lista_precios) / len(lista_precios)\n",
    "\n",
    "    return precios\n",
    "def listar_precios(datos):\n",
    "    for producto, precio in datos.items():\n",
    "        print(f\"El producto {producto} tiene un precio promedio de ${precio:.2f}\")\n",
    "\n",
    "\n",
    "precios = precio_promedio(lista_de_diccionarios)\n",
    "listar_precios(precios)"
   ]
  },
  {
   "cell_type": "markdown",
   "metadata": {},
   "source": [
    "### Ejercicio 5: Ranking de productos\n",
    "\n",
    "Realizar un listado de los 3 productos mas vendidos ordenados la cantidad de unidades vendidas (ordenadas de mayor a menor)\n"
   ]
  },
  {
   "cell_type": "code",
   "execution_count": 64,
   "metadata": {},
   "outputs": [
    {
     "name": "stdout",
     "output_type": "stream",
     "text": [
      "1. Pepsi Cola vendió 89 unidades\n",
      "2. Mirinda vendió 85 unidades\n",
      "3. Sprite vendió 72 unidades\n"
     ]
    }
   ],
   "source": [
    "def ranking_productos(datos, top=3):\n",
    "    ventas = unidades_vendidas(datos)\n",
    "    ranking = sorted(ventas.items(), key=lambda x: x[1], reverse=True)\n",
    "\n",
    "    return ranking[:top]\n",
    "\n",
    "def listar_ranking(ranking):\n",
    "    for i, (producto, cantidad) in enumerate(ranking):\n",
    "        print(f\"{i + 1}. {producto} vendió {cantidad} unidades\")\n",
    "        \n",
    "ranking = ranking_productos(lista_de_diccionarios)\n",
    "listar_ranking(ranking)"
   ]
  },
  {
   "cell_type": "markdown",
   "metadata": {},
   "source": [
    "### Ejercicio 6: Listar las ventas por mes\n",
    "\n",
    "Realizar un listado del total de unidades vendidas por productos separada por mes."
   ]
  },
  {
   "cell_type": "code",
   "execution_count": 69,
   "metadata": {},
   "outputs": [
    {
     "name": "stdout",
     "output_type": "stream",
     "text": [
      "En el mes 01 se vendieron 0 unidades\n",
      "En el mes 02 se vendieron 0 unidades\n",
      "En el mes 03 se vendieron 0 unidades\n",
      "En el mes 04 se vendieron 0 unidades\n",
      "En el mes 05 se vendieron 0 unidades\n",
      "En el mes 06 se vendieron 0 unidades\n",
      "En el mes 07 se vendieron 0 unidades\n",
      "En el mes 08 se vendieron 45 unidades\n",
      "En el mes 09 se vendieron 290 unidades\n",
      "En el mes 10 se vendieron 0 unidades\n",
      "En el mes 11 se vendieron 0 unidades\n",
      "En el mes 12 se vendieron 0 unidades\n"
     ]
    }
   ],
   "source": [
    "def ventas_por_mes(datos):\n",
    "    ventas = {}\n",
    "    for mes in range(1, 13):\n",
    "        mes_str = str(mes) if mes >= 10 else '0' + str(mes)\n",
    "        ventas[mes_str] = 0\n",
    "\n",
    "    for diccionario in datos:\n",
    "        fecha = diccionario[\"fecha\"]\n",
    "        cantidad = int(diccionario[\"cantidad\"])\n",
    "\n",
    "        mes = fecha[5:7]\n",
    "\n",
    "        if mes in ventas:\n",
    "            ventas[mes] += cantidad\n",
    "    return ventas\n",
    "\n",
    "def listar_ventas_mensuales(ventas):\n",
    "    for mes, cantidad in ventas.items():\n",
    "        print(f\"En el mes {mes} se vendieron {cantidad} unidades\")\n",
    "\n",
    "ventas = ventas_por_mes(lista_de_diccionarios)\n",
    "listar_ventas_mensuales(ventas)"
   ]
  },
  {
   "cell_type": "markdown",
   "metadata": {},
   "source": [
    "### Ejercicio 7: Informe general\n",
    "\n",
    "Mostrar un listado de productos ordenados alfabeticamente que contengan el precio promedio, la cantidad de unidades vendidas y el importe total vendido para cada producto"
   ]
  },
  {
   "cell_type": "code",
   "execution_count": 70,
   "metadata": {},
   "outputs": [
    {
     "name": "stdout",
     "output_type": "stream",
     "text": [
      "Las ventas fueron de $392730.00 en 335 unidades\n",
      "\n",
      "Ventas por producto:\n",
      "El producto Mirinda vendió 85 unidades\n",
      "El producto Torasso vendió 32 unidades\n",
      "El producto Pepsi Cola vendió 89 unidades\n",
      "El producto Sprite vendió 72 unidades\n",
      "El producto Coca Cola vendió 57 unidades\n",
      "\n",
      "Precios promedio:\n",
      "El producto Mirinda tiene un precio promedio de $1545.83\n",
      "El producto Torasso tiene un precio promedio de $920.00\n",
      "El producto Pepsi Cola tiene un precio promedio de $1245.00\n",
      "El producto Sprite tiene un precio promedio de $841.43\n",
      "El producto Coca Cola tiene un precio promedio de $1072.50\n",
      "\n",
      "Ranking de productos:\n",
      "1. Pepsi Cola vendió 89 unidades\n",
      "2. Mirinda vendió 85 unidades\n",
      "3. Sprite vendió 72 unidades\n",
      "\n",
      "Ventas mensuales:\n",
      "En el mes 01 se vendieron 0 unidades\n",
      "En el mes 02 se vendieron 0 unidades\n",
      "En el mes 03 se vendieron 0 unidades\n",
      "En el mes 04 se vendieron 0 unidades\n",
      "En el mes 05 se vendieron 0 unidades\n",
      "En el mes 06 se vendieron 0 unidades\n",
      "En el mes 07 se vendieron 0 unidades\n",
      "En el mes 08 se vendieron 45 unidades\n",
      "En el mes 09 se vendieron 290 unidades\n",
      "En el mes 10 se vendieron 0 unidades\n",
      "En el mes 11 se vendieron 0 unidades\n",
      "En el mes 12 se vendieron 0 unidades\n"
     ]
    }
   ],
   "source": [
    "def resumen_ventas(datos):\n",
    "    totales = calcular_totales(datos)\n",
    "    ventas = unidades_vendidas(datos)\n",
    "    precios = precio_promedio(datos)\n",
    "    ranking = ranking_productos(datos)\n",
    "    ventas_mensuales = ventas_por_mes(datos)\n",
    "\n",
    "    return {\n",
    "        \"totales\": totales,\n",
    "        \"ventas\": ventas,\n",
    "        \"precios\": precios,\n",
    "        \"ranking\": ranking,\n",
    "        \"ventas_mensuales\": ventas_mensuales\n",
    "    }\n",
    "def informe_ventas(datos):\n",
    "    totales = datos[\"totales\"]\n",
    "    ventas = datos[\"ventas\"]\n",
    "    precios = datos[\"precios\"]\n",
    "    ranking = datos[\"ranking\"]\n",
    "    ventas_mensuales = datos[\"ventas_mensuales\"]\n",
    "\n",
    "    print(f\"Las ventas fueron de ${totales[0]:.2f} en {totales[1]} unidades\\n\")\n",
    "\n",
    "    print(\"Ventas por producto:\")\n",
    "    listar_ventas(ventas)\n",
    "    print()\n",
    "\n",
    "    print(\"Precios promedio:\")\n",
    "    listar_precios(precios)\n",
    "    print()\n",
    "\n",
    "    print(\"Ranking de productos:\")\n",
    "    listar_ranking(ranking)\n",
    "    print()\n",
    "\n",
    "    print(\"Ventas mensuales:\")\n",
    "    listar_ventas_mensuales(ventas_mensuales)\n",
    "\n",
    "\n",
    "resumen = resumen_ventas(lista_de_diccionarios)\n",
    "informe_ventas(resumen)\n"
   ]
  }
 ],
 "metadata": {
  "kernelspec": {
   "display_name": "Python 3",
   "language": "python",
   "name": "python3"
  },
  "language_info": {
   "codemirror_mode": {
    "name": "ipython",
    "version": 3
   },
   "file_extension": ".py",
   "mimetype": "text/x-python",
   "name": "python",
   "nbconvert_exporter": "python",
   "pygments_lexer": "ipython3",
   "version": "3.12.5"
  }
 },
 "nbformat": 4,
 "nbformat_minor": 2
}
