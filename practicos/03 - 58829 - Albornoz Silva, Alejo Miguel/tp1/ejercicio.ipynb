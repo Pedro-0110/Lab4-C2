{
 "cells": [
  {
   "cell_type": "markdown",
   "metadata": {},
   "source": [
    "# Trabajo práctico 1\n",
    "\n"
   ]
  },
  {
   "cell_type": "markdown",
   "metadata": {},
   "source": [
    "## Ejercicio 1 \n",
    "\n",
    "Escribe una función en Python que procese una lista de cadenas de texto y realice las siguientes acciones:\n",
    "\n",
    "1. Tomar una lista de frases y convertir cada frase en una lista de palabras.\n",
    "1. Luego, debe crear una nueva lista que contenga la cantidad de palabras en cada frase.\n",
    "1. Tambien debe crear un lista que contenga la cantidad de caracteres en cada frase.\n",
    "1. Finalmente, debe imprimir cada frase original junto con la cantidad de palabras que contiene.\n",
    "Ejemplo de uso:\n",
    "```python\n",
    "    frases = [\n",
    "        \"Python es un lenguaje de programación\",\n",
    "        \"Me gusta resolver problemas con código\",\n",
    "        \"Las listas y los bucles son muy útiles\"\n",
    "    ]\n",
    "\n",
    "    procesar_frases(frases)\n",
    "```\n",
    "\n",
    "ejemplo de salida:\n",
    "```bash\n",
    "    La frase: \"Python es un...\"\n",
    "    tiene 6 palabras y 38 caracteres\n",
    "```\n"
   ]
  },
  {
   "cell_type": "code",
   "execution_count": 4,
   "metadata": {},
   "outputs": [
    {
     "name": "stdout",
     "output_type": "stream",
     "text": [
      "1) La frase ['Python', 'es', 'un', 'lenguaje', 'de', 'programación'] tiene 6 palabras que a su vez tiene 37 letras. \n",
      "2) La frase ['Me', 'gusta', 'resolver', 'problemas', 'con', 'código'] tiene 6 palabras que a su vez tiene 38 letras. \n",
      "3) La frase ['Las', 'listas', 'y', 'los', 'bucles', 'son', 'muy', 'útiles'] tiene 8 palabras que a su vez tiene 38 letras. \n",
      " \n"
     ]
    }
   ],
   "source": [
    "# Implementar\n",
    "frases = [ \"Python es un lenguaje de programación\",\n",
    "        \"Me gusta resolver problemas con código\",\n",
    "        \"Las listas y los bucles son muy útiles\"]\n",
    "\n",
    "def procesar_frases(frases):\n",
    "\n",
    "    listaFrases = [] \n",
    "\n",
    "    for i in range(len(frases)):\n",
    "        listaFrases.append(frases[i].split())\n",
    "    \n",
    "    cantidadPalabras = []\n",
    "\n",
    "    for i in range(len(listaFrases)):\n",
    "        cantidadPalabras.append(len(listaFrases[i]))\n",
    "\n",
    "\n",
    "    cantidadLetras = []\n",
    "    for i in range(len(frases)):\n",
    "        cantidadLetras.append(len(frases[i]))\n",
    "\n",
    "    print((f\"1) La frase {listaFrases[0]} tiene {cantidadPalabras[0]} palabras que a su vez tiene {cantidadLetras[0]} letras. \\n2) La frase {listaFrases[1]} tiene {cantidadPalabras[1]} palabras que a su vez tiene {cantidadLetras[1]} letras. \\n3) La frase {listaFrases[2]} tiene {cantidadPalabras[2]} palabras que a su vez tiene {cantidadLetras[2]} letras. \\n \" ))\n",
    "\n",
    "\n",
    "procesar_frases(frases)\n",
    "\n",
    "for frase in frases:\n",
    "    print(f\"La frase '{frase}' tiene {len(frase.split())} palabras y {len(frase)} letras\")"
   ]
  },
  {
   "cell_type": "markdown",
   "metadata": {},
   "source": [
    "## Ejercicio 2\n",
    "\n",
    "Escribe una función en Python que encuentre los valores de `a`, `b`, y `c` para que la función cuadrática `f(x) = aX^2 + bX + c` pase exactamente por los siguientes puntos:\n",
    "\n",
    "| x  | y  |\n",
    "|---:|---:|\n",
    "|  0 |  0 |\n",
    "|  1 |  8 |\n",
    "|  2 | 12 |\n",
    "|  3 | 12 |\n",
    "|  5 |  0 |\n",
    "\n",
    "### Requisitos:\n",
    "- La función debe explorar posibles valores de `a`, `b`, y `c` utilizando un método de prueba y error.\n",
    "- Debe devolver los valores que hagan que la diferencia entre la función `f(x)` y los valores medidos `y` sea exactamente cero para cada punto.\n",
    "\n",
    "> **Pista**: Los valores de `a`, `b`, y `c` son números pequeños."
   ]
  },
  {
   "cell_type": "code",
   "execution_count": 44,
   "metadata": {},
   "outputs": [
    {
     "name": "stdout",
     "output_type": "stream",
     "text": [
      "Los valores son: a = -2, b = 10, c = 0\n"
     ]
    }
   ],
   "source": [
    "\n",
    "def valores():\n",
    "\n",
    "    puntos = [(0, 0), (1, 8), (2, 12), (3, 12), (5, 0)]\n",
    "  \n",
    "    rango = range(-10, 11)\n",
    "\n",
    "    for a in rango:\n",
    "        for b in rango:\n",
    "            for c in rango:\n",
    "                for x, y in puntos:\n",
    "                    f_x = a * x**2 + b * x + c\n",
    "                    if f_x != y:\n",
    "                        break\n",
    "                else:\n",
    "                    return [a, b, c]\n",
    "\n",
    "\n",
    "resultado = valores()\n",
    "print(f\"Los valores son: a = {resultado[0]}, b = {resultado[1]}, c = {resultado[2]}\")\n"
   ]
  },
  {
   "cell_type": "code",
   "execution_count": null,
   "metadata": {},
   "outputs": [],
   "source": []
  }
 ],
 "metadata": {
  "kernelspec": {
   "display_name": "Python 3",
   "language": "python",
   "name": "python3"
  },
  "language_info": {
   "codemirror_mode": {
    "name": "ipython",
    "version": 3
   },
   "file_extension": ".py",
   "mimetype": "text/x-python",
   "name": "python",
   "nbconvert_exporter": "python",
   "pygments_lexer": "ipython3",
   "version": "3.12.5"
  }
 },
 "nbformat": 4,
 "nbformat_minor": 2
}
