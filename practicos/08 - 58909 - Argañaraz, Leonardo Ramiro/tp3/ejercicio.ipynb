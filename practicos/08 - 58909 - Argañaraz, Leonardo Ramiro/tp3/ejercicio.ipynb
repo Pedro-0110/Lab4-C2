{
 "cells": [
  {
   "cell_type": "markdown",
   "metadata": {},
   "source": [
    "#TP3"
   ]
  },
  {
   "cell_type": "markdown",
   "metadata": {},
   "source": [
    "## Ejercicio 1: Cargar Datos de ventas.\n",
    "\n",
    "El archivo datos.dat contiene el registro de las ventas realizadas.\n",
    "\n",
    "Tiene un formato de ancho fijo:\n",
    "- fecha:    10 lugares\n",
    "- producto: 30 lugares\n",
    "- precio:   10 lugares\n",
    "- cantidad:  5 lugares\n",
    "\n",
    "hacer una funcion que carge los en una lista de diccionarios. \n",
    "\n",
    "nota: con \n",
    "```python\n",
    "lineas = open(\"datos.dat\", \"r\").readlines() \n",
    "```\n",
    "puede obtener la lista de string de todos los datos "
   ]
  },
  {
   "cell_type": "code",
   "execution_count": null,
   "metadata": {},
   "outputs": [],
   "source": [
    "def cargar_datos():\n",
    "        datos = []\n",
    "        lineas = open(\"datos.dat\", \"r\").readlines()\n",
    "    \n",
    "        datos = cargar_datos()\n",
    "        for linea in lineas:\n",
    "            fecha = linea[:10].strip()\n",
    "            producto = linea[10:40].strip()\n",
    "            precio = float(linea[40:50])\n",
    "            cantidad = int(linea[50:55])\n",
    "    \n",
    "            diccionario = {\n",
    "                \"fecha\": fecha,\n",
    "                \"producto\": producto,\n",
    "                \"precio\": precio,\n",
    "                \"cantidad\": cantidad\n",
    "            }\n",
    "    \n",
    "        datos.append(diccionario)  \n",
    "        return datos\n",
    "    \n",
    "datos = cargar_datos()\n",
    "print(datos)"
   ]
  },
  {
   "cell_type": "markdown",
   "metadata": {},
   "source": [
    "## Ejercicio 2: Calcular el total de ventas.\n",
    "\n",
    "Hacer una funcion que sume los importes vendidos (precio * cantidad) y las cantidades"
   ]
  },
  {
   "cell_type": "code",
   "execution_count": null,
   "metadata": {},
   "outputs": [],
   "source": [
    "def calculo_totales(datos):\n",
    "        lineas = open(datos.dat, \"r\").readlines()       \n",
    "        importe = 0\n",
    "        cantidad_total = 0\n",
    "    \n",
    "        for linea in lineas:\n",
    "            precio = int(linea[40:50].strip())\n",
    "            cantidad = int(linea[50:].strip())  \n",
    "            importe += precio * cantidad\n",
    "            cantidad_total += cantidad\n",
    "    \n",
    "        return importe, cantidad_total\n",
    "    \n",
    "        importe, cantidad_total = calculo_totales(datos)\n",
    "    \n",
    "print(f\"Las ventas fueron de ${importe:.2f} en {cantidad_total} unidades\")"
   ]
  },
  {
   "cell_type": "markdown",
   "metadata": {},
   "source": [
    "## Ejercicio 3: Listar las unidades vendidas.\n",
    "\n",
    "Listar cuantas unidades se vendieron en total para cada producto"
   ]
  },
  {
   "cell_type": "code",
   "execution_count": null,
   "metadata": {},
   "outputs": [],
   "source": [
    "def unidades_vendidas(datos):\n",
    "    diccionario = {}\n",
    "    for dato in datos:\n",
    "        producto = dato[10:40].strip()\n",
    "        cantidad = int(dato[50:55].strip())\n",
    "        \n",
    "    if producto in diccionario:\n",
    "             diccionario[producto] += cantidad\n",
    "    else:\n",
    "            diccionario[producto] = cantidad\n",
    "        \n",
    "    return diccionario\n",
    "    \n",
    "    def listar_ventas(datos):\n",
    "        print(\"Cantidad vendida de cada producto:\")\n",
    "        for producto, cantidad in datos.items():\n",
    "            print(f\"{producto}: {cantidad} unidades\")\n",
    "        print()\n",
    "    ventas = unidades_vendidas(datos)\n",
    "    listar_ventas(ventas)\n",
    "    \n",
    "    print(ventas)"
   ]
  },
  {
   "cell_type": "markdown",
   "metadata": {},
   "source": [
    "##  Ejercicio 4: Listar el precio promedio por producto.\n",
    "\n",
    "Hacer un listado del precio promedio por productos."
   ]
  },
  {
   "cell_type": "code",
   "execution_count": null,
   "metadata": {},
   "outputs": [],
   "source": [
    "def precio_promedio(datos):\n",
    "        listaProd = []\n",
    "        precios_por_producto = {}\n",
    "        promediosProd = {}\n",
    "    \n",
    "        for dato in datos:\n",
    "            producto = dato[10:40].strip()\n",
    "            precio = float(dato[40:50].strip())\n",
    "    \n",
    "            dictData = {\"Producto\": producto, \"Precio\": precio}\n",
    "            listaProd.append(dictData)\n",
    "    \n",
    "        for prodInd in listaProd:\n",
    "            prod = prodInd[\"Producto\"]\n",
    "            price = prodInd[\"Precio\"]\n",
    "    \n",
    "            if prod not in precios_por_producto:\n",
    "                precios_por_producto[prod] = []\n",
    "            \n",
    "            precios_por_producto[prod].append(price)\n",
    "    \n",
    "        for producto, precios in precios_por_producto.items():\n",
    "            average = sum(precios) / len(precios)\n",
    "            promediosProd[producto] = round(average,2)\n",
    "   \n",
    "        return promediosProd\n",
    "    \n",
    "def listar_precios(datos):\n",
    "        \n",
    "        for prod in datos:\n",
    "            print(f\"{prod}: ${datos[prod]}\")\n",
    "        print()\n",
    "precios = precio_promedio(datos)\n",
    "listar_precios(precios)\n",
    "print(precios)"
   ]
  },
  {
   "cell_type": "markdown",
   "metadata": {},
   "source": [
    "### Ejercicio 5: Ranking de productos\n",
    "\n",
    "Realizar un listado de los 3 productos mas vendidos ordenados la cantidad de unidades vendidas (ordenadas de mayor a menor)\n"
   ]
  },
  {
   "cell_type": "code",
   "execution_count": null,
   "metadata": {},
   "outputs": [],
   "source": [
    "def ranking_productos(datos, top=3):\n",
    "        unidades = {}  \n",
    "        for dato in datos:\n",
    "            producto = dato[producto]\n",
    "            cantidad = dato[cantidad]\n",
    "    \n",
    "            if producto in unidades:\n",
    "                unidades[producto] += cantidad\n",
    "            else:\n",
    "                unidades[producto] = cantidad\n",
    "    \n",
    "        unidades_ordenadas = list(unidades.items())\n",
    "    \n",
    "        n = len(unidades_ordenadas) \n",
    "        for i in range(n):\n",
    "            mayor = i\n",
    "            for j in range(i + 1, n):\n",
    "                if unidades_ordenadas[j][1] > unidades_ordenadas[mayor][1]: \n",
    "                    mayor = j\n",
    "            unidades_ordenadas[i], unidades_ordenadas[mayor] = unidades_ordenadas[mayor], unidades_ordenadas[i]\n",
    "        return unidades_ordenadas[:top]\n",
    "    "
   ]
  },
  {
   "cell_type": "markdown",
   "metadata": {},
   "source": [
    "### Ejercicio 6: Listar las ventas por mes\n",
    "\n",
    "Realizar un listado del total de unidades vendidas por productos separada por mes."
   ]
  },
  {
   "cell_type": "code",
   "execution_count": null,
   "metadata": {},
   "outputs": [],
   "source": [
    "def ventas_por_mes(datos):\n",
    "        ventas = {}\n",
    "        for dato in datos:\n",
    "            fecha = dato[fecha]\n",
    "            producto = dato[producto]\n",
    "            cantidad = dato[cantidad]\n",
    "    \n",
    "            separar_fecha = fecha.split(\"-\")\n",
    "            mes = separar_fecha[1]\n",
    "    \n",
    "            if mes not in ventas:\n",
    "                ventas[mes] = {}\n",
    "    \n",
    "            if producto in ventas[mes]:\n",
    "                ventas[mes][producto] += cantidad\n",
    "            else:\n",
    "                ventas[mes][producto] = cantidad\n",
    "                \n",
    "        return ventas\n",
    "    \n",
    "def listar_ventas_mensuales(ventas):\n",
    "        for mes in ventas:\n",
    "            print(f\"Mes: {mes}\")\n",
    "            for producto in ventas[mes].keys():\n",
    "                cantidad = ventas[mes][producto]\n",
    "                print(f\"{producto}: {cantidad} unidades\")\n",
    "            print()\n",
    "ventas = ventas_por_mes(datos)\n",
    "listar_ventas_mensuales(ventas)"
   ]
  },
  {
   "cell_type": "markdown",
   "metadata": {},
   "source": [
    "### Ejercicio 7: Informe general\n",
    "\n",
    "Mostrar un listado de productos ordenados alfabeticamente que contengan el precio promedio, la cantidad de unidades vendidas y el importe total vendido para cada producto"
   ]
  },
  {
   "cell_type": "code",
   "execution_count": null,
   "metadata": {},
   "outputs": [],
   "source": [
    "def resumen_ventas(datos):\n",
    "        resumen = {}\n",
    "    \n",
    "        for venta in datos:\n",
    "            producto = venta[\"producto\"]\n",
    "            precio = venta[\"precio\"]\n",
    "            cantidad = venta[\"cantidad\"]\n",
    "    \n",
    "            if producto not in resumen:\n",
    "                resumen[producto] = {\"totalCantidad\":0, \"totalImporte\": 0, \"totalPrecio\": 0}\n",
    "    \n",
    "            resumen[producto][\"totalPrecio\"] += precio * cantidad\n",
    "            resumen[producto][\"totalCantidad\"] += cantidad\n",
    "            resumen[producto][\"totalImporte\"] += precio * cantidad\n",
    "    \n",
    "        for producto, valores in resumen.items():\n",
    "            valores[\"precioPromedio\"] = valores[\"totalPrecio\"] / valores[\"totalCantidad\"]\n",
    "    \n",
    "        return resumen\n",
    "    \n",
    "def informe_ventas(resumen):\n",
    "        productos = list(resumen.keys())\n",
    "    \n",
    "        for i in range(len(productos)):\n",
    "            for y in range(0, len(productos) - i - 1):\n",
    "                if productos[y] > productos[y + 1]:\n",
    "                    productos[y], productos[y + 1] = productos[y + 1], productos[y]\n",
    "        print(\"Informe General\")\n",
    "        for producto in productos:\n",
    "            info = resumen[producto]\n",
    "            print(f\"Producto: {producto}\")\n",
    "            print(f\"Precio Promedio: {info['precioPromedio']:.2f}\")\n",
    "            print(f\"Unidades Vendidas: {info['totalCantidad']}\")\n",
    "            print(f\"Importe Total Vendido: {info['totalImporte']:.2f}\")\n"
   ]
  }
 ],
 "metadata": {
  "kernelspec": {
   "display_name": "Python 3",
   "language": "python",
   "name": "python3"
  },
  "language_info": {
   "codemirror_mode": {
    "name": "ipython",
    "version": 3
   },
   "file_extension": ".py",
   "mimetype": "text/x-python",
   "name": "python",
   "nbconvert_exporter": "python",
   "pygments_lexer": "ipython3",
   "version": "3.12.5"
  }
 },
 "nbformat": 4,
 "nbformat_minor": 2
}
