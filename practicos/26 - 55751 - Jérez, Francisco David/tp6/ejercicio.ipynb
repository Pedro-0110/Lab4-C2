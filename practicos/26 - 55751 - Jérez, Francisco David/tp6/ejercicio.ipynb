{
 "cells": [
  {
   "cell_type": "markdown",
   "metadata": {},
   "source": [
    "# TP6\n",
    "\n",
    "### `Resolver usando Pandas`\n",
    "\n",
    "Resolver los ejercicios del TP3 utilizando la librería Pandas."
   ]
  },
  {
   "cell_type": "markdown",
   "metadata": {},
   "source": [
    "### Ejercicio 1: Cargar Datos de ventas.\n",
    "\n",
    "El archivo datos.dat contiene el registro de las ventas realizadas.\n",
    "\n",
    "Tiene un formato de ancho fijo:\n",
    "- `fecha`:    10 lugares\n",
    "- `producto`: 30 lugares\n",
    "- `precio`:   10 lugares\n",
    "- `cantidad`:  5 lugares\n",
    "\n",
    "Hacer una funcion que cargue los datos en un DataFrame de Pandas."
   ]
  },
  {
   "cell_type": "code",
   "execution_count": 2,
   "metadata": {},
   "outputs": [
    {
     "name": "stdout",
     "output_type": "stream",
     "text": [
      "         fecha    producto  precio  cantidad\n",
      "0   2024-08-27     Mirinda    1510        14\n",
      "1   2024-08-27     Mirinda    1560        12\n",
      "2   2024-08-28     Torasso     940         8\n",
      "3   2024-08-29  Pepsi Cola    1210        10\n",
      "4   2024-08-30     Mirinda    1520         1\n",
      "5   2024-09-01     Mirinda    1550        15\n",
      "6   2024-09-01      Sprite     810         4\n",
      "7   2024-09-02   Coca Cola    1100         4\n",
      "8   2024-09-02  Pepsi Cola    1220        13\n",
      "9   2024-09-02     Torasso     910         5\n",
      "10  2024-09-02     Torasso     920         3\n",
      "11  2024-09-03   Coca Cola    1020         8\n",
      "12  2024-09-03     Mirinda    1570         7\n",
      "13  2024-09-03     Mirinda    1590         2\n",
      "14  2024-09-04  Pepsi Cola    1220        13\n",
      "15  2024-09-05     Mirinda    1500         3\n",
      "16  2024-09-05  Pepsi Cola    1300         5\n",
      "17  2024-09-06   Coca Cola    1080         1\n",
      "18  2024-09-06      Sprite     860        12\n",
      "19  2024-09-06     Torasso     930         3\n",
      "20  2024-09-07   Coca Cola    1080        14\n",
      "21  2024-09-07      Sprite     870        13\n",
      "22  2024-09-08   Coca Cola    1040        10\n",
      "23  2024-09-08     Mirinda    1580         2\n",
      "24  2024-09-08  Pepsi Cola    1240         9\n",
      "25  2024-09-09     Mirinda    1500         3\n",
      "26  2024-09-09      Sprite     850         9\n",
      "27  2024-09-10     Mirinda    1590         8\n",
      "28  2024-09-10  Pepsi Cola    1250        12\n",
      "29  2024-09-11      Sprite     810         6\n",
      "30  2024-09-11      Sprite     820        14\n",
      "31  2024-09-12   Coca Cola    1080         4\n",
      "32  2024-09-13     Mirinda    1580         5\n",
      "33  2024-09-13  Pepsi Cola    1250        13\n",
      "34  2024-09-14   Coca Cola    1080        15\n",
      "35  2024-09-14  Pepsi Cola    1270        14\n",
      "36  2024-09-15   Coca Cola    1100         1\n",
      "37  2024-09-15     Mirinda    1500        13\n",
      "38  2024-09-15      Sprite     870        14\n",
      "39  2024-09-15     Torasso     900        13\n"
     ]
    }
   ],
   "source": [
    "import pandas as pd\n",
    "\n",
    "def cargar_datos():\n",
    "    # Leer las líneas del archivo\n",
    "    with open(\"datos.dat\", \"r\") as file:\n",
    "        lineas = file.readlines()\n",
    "\n",
    "    # Procesar las líneas en una lista de diccionarios\n",
    "    data = []\n",
    "    for linea in lineas:\n",
    "        fecha = linea[:10].strip()\n",
    "        producto = linea[10:40].strip()\n",
    "        precio = int(linea[40:50].strip())\n",
    "        cantidad = int(linea[50:].strip())\n",
    "        data.append({\n",
    "            'fecha': fecha,\n",
    "            'producto': producto,\n",
    "            'precio': precio,\n",
    "            'cantidad': cantidad\n",
    "        })\n",
    "\n",
    "    # Convertir la lista de diccionarios en un DataFrame de pandas\n",
    "    df = pd.DataFrame(data)\n",
    "    return df\n",
    "\n",
    "# Llamar a la función para cargar los datos\n",
    "df = cargar_datos()\n",
    "print(df)\n"
   ]
  },
  {
   "cell_type": "markdown",
   "metadata": {},
   "source": [
    "### Ejercicio 2: Calcular el total de ventas.\n",
    "Hacer una función que sume los importes vendidos (precio * cantidad) y las cantidades.\n"
   ]
  },
  {
   "cell_type": "code",
   "execution_count": 3,
   "metadata": {},
   "outputs": [
    {
     "name": "stdout",
     "output_type": "stream",
     "text": [
      "Total de importes vendidos: 392730\n",
      "Total de cantidades vendidas: 335\n"
     ]
    }
   ],
   "source": [
    "import pandas as pd\n",
    "\n",
    "# Función para cargar datos en un DataFrame (Reutilizamos la función del ejercicio 1)\n",
    "def cargar_datos():\n",
    "    # Leer las líneas del archivo\n",
    "    with open(\"datos.dat\", \"r\") as file:\n",
    "        lineas = file.readlines()\n",
    "\n",
    "    # Procesar las líneas en una lista de diccionarios\n",
    "    data = []\n",
    "    for linea in lineas:\n",
    "        fecha = linea[:10].strip()\n",
    "        producto = linea[10:40].strip()\n",
    "        precio = int(linea[40:50].strip())\n",
    "        cantidad = int(linea[50:].strip())\n",
    "        data.append({\n",
    "            'fecha': fecha,\n",
    "            'producto': producto,\n",
    "            'precio': precio,\n",
    "            'cantidad': cantidad\n",
    "        })\n",
    "\n",
    "    # Convertir la lista de diccionarios en un DataFrame de pandas\n",
    "    df = pd.DataFrame(data)\n",
    "    return df\n",
    "\n",
    "# Función para calcular el total de ventas\n",
    "def calcular_total_ventas(df):\n",
    "    # Calcular el importe total vendido\n",
    "    df['importe'] = df['precio'] * df['cantidad']\n",
    "    total_importes = df['importe'].sum()\n",
    "\n",
    "    # Calcular la cantidad total vendida\n",
    "    total_cantidades = df['cantidad'].sum()\n",
    "\n",
    "    return total_importes, total_cantidades\n",
    "\n",
    "# Cargar los datos y calcular los totales\n",
    "df = cargar_datos()\n",
    "total_importes, total_cantidades = calcular_total_ventas(df)\n",
    "\n",
    "print(f\"Total de importes vendidos: {total_importes}\")\n",
    "print(f\"Total de cantidades vendidas: {total_cantidades}\")"
   ]
  },
  {
   "cell_type": "markdown",
   "metadata": {},
   "source": [
    "### Ejercicio 3: Listar las unidades vendidas.\n",
    "Listar cuántas unidades se vendieron en total para cada producto\n"
   ]
  },
  {
   "cell_type": "code",
   "execution_count": 4,
   "metadata": {},
   "outputs": [
    {
     "name": "stdout",
     "output_type": "stream",
     "text": [
      "     producto  cantidad\n",
      "0   Coca Cola        57\n",
      "1     Mirinda        85\n",
      "2  Pepsi Cola        89\n",
      "3      Sprite        72\n",
      "4     Torasso        32\n"
     ]
    }
   ],
   "source": [
    "import pandas as pd\n",
    "\n",
    "def cargar_datos():\n",
    "    # Leer las líneas del archivo\n",
    "    with open(\"datos.dat\", \"r\") as file:\n",
    "        lineas = file.readlines()\n",
    "\n",
    "    # Procesar las líneas en una lista de diccionarios\n",
    "    data = []\n",
    "    for linea in lineas:\n",
    "        fecha = linea[:10].strip()\n",
    "        producto = linea[10:40].strip()\n",
    "        precio = int(linea[40:50].strip())\n",
    "        cantidad = int(linea[50:].strip())\n",
    "        data.append({\n",
    "            'fecha': fecha,\n",
    "            'producto': producto,\n",
    "            'precio': precio,\n",
    "            'cantidad': cantidad\n",
    "        })\n",
    "\n",
    "    # Convertir la lista de diccionarios en un DataFrame de pandas\n",
    "    df = pd.DataFrame(data)\n",
    "    return df\n",
    "\n",
    "def listar_unidades_vendidas(df):\n",
    "    # Agrupar por producto y sumar las cantidades vendidas\n",
    "    total_unidades = df.groupby('producto')['cantidad'].sum().reset_index()\n",
    "    return total_unidades\n",
    "\n",
    "# Cargar los datos y listar las unidades vendidas\n",
    "df = cargar_datos()\n",
    "total_unidades = listar_unidades_vendidas(df)\n",
    "\n",
    "print(total_unidades)\n",
    "\n"
   ]
  },
  {
   "cell_type": "markdown",
   "metadata": {},
   "source": [
    "###  Ejercicio 4: Listar el precio promedio por producto.\n",
    "Hacer un listado del precio promedio por producto.\n"
   ]
  },
  {
   "cell_type": "code",
   "execution_count": 5,
   "metadata": {},
   "outputs": [
    {
     "name": "stdout",
     "output_type": "stream",
     "text": [
      "     producto       precio\n",
      "0   Coca Cola  1072.500000\n",
      "1     Mirinda  1545.833333\n",
      "2  Pepsi Cola  1245.000000\n",
      "3      Sprite   841.428571\n",
      "4     Torasso   920.000000\n"
     ]
    }
   ],
   "source": [
    "\n",
    "\n",
    "import pandas as pd\n",
    "\n",
    "def cargar_datos():\n",
    "    # Leer las líneas del archivo\n",
    "    with open(\"datos.dat\", \"r\") as file:\n",
    "        lineas = file.readlines()\n",
    "\n",
    "    # Procesar las líneas en una lista de diccionarios\n",
    "    data = []\n",
    "    for linea in lineas:\n",
    "        fecha = linea[:10].strip()\n",
    "        producto = linea[10:40].strip()\n",
    "        precio = int(linea[40:50].strip())\n",
    "        cantidad = int(linea[50:].strip())\n",
    "        data.append({\n",
    "            'fecha': fecha,\n",
    "            'producto': producto,\n",
    "            'precio': precio,\n",
    "            'cantidad': cantidad\n",
    "        })\n",
    "\n",
    "    # Convertir la lista de diccionarios en un DataFrame de pandas\n",
    "    df = pd.DataFrame(data)\n",
    "    return df\n",
    "\n",
    "def listar_precio_promedio(df):\n",
    "    # Agrupar por producto y calcular el precio promedio\n",
    "    precio_promedio = df.groupby('producto')['precio'].mean().reset_index()\n",
    "    return precio_promedio\n",
    "\n",
    "# Cargar los datos y listar el precio promedio por producto\n",
    "df = cargar_datos()\n",
    "precio_promedio = listar_precio_promedio(df)\n",
    "\n",
    "print(precio_promedio)"
   ]
  },
  {
   "cell_type": "markdown",
   "metadata": {},
   "source": [
    "### Ejercicio 5: Ranking de productos\n",
    "Realizar un listado de los 3 productos más vendidos ordenados por la cantidad de unidades vendidas (ordenadas de mayor a menor)\n"
   ]
  },
  {
   "cell_type": "code",
   "execution_count": 6,
   "metadata": {},
   "outputs": [
    {
     "name": "stdout",
     "output_type": "stream",
     "text": [
      "     producto  cantidad\n",
      "2  Pepsi Cola        89\n",
      "1     Mirinda        85\n",
      "3      Sprite        72\n"
     ]
    }
   ],
   "source": [
    "import pandas as pd\n",
    "\n",
    "def cargar_datos():\n",
    "    # Leer las líneas del archivo\n",
    "    with open(\"datos.dat\", \"r\") as file:\n",
    "        lineas = file.readlines()\n",
    "\n",
    "    # Procesar las líneas en una lista de diccionarios\n",
    "    data = []\n",
    "    for linea in lineas:\n",
    "        fecha = linea[:10].strip()\n",
    "        producto = linea[10:40].strip()\n",
    "        precio = int(linea[40:50].strip())\n",
    "        cantidad = int(linea[50:].strip())\n",
    "        data.append({\n",
    "            'fecha': fecha,\n",
    "            'producto': producto,\n",
    "            'precio': precio,\n",
    "            'cantidad': cantidad\n",
    "        })\n",
    "\n",
    "    # Convertir la lista de diccionarios en un DataFrame de pandas\n",
    "    df = pd.DataFrame(data)\n",
    "    return df\n",
    "\n",
    "def ranking_productos(df, top_n=3):\n",
    "    # Agrupar por producto y sumar las cantidades vendidas\n",
    "    total_unidades = df.groupby('producto')['cantidad'].sum().reset_index()\n",
    "    # Ordenar por cantidad de unidades vendidas de mayor a menor\n",
    "    total_unidades = total_unidades.sort_values(by='cantidad', ascending=False)\n",
    "    # Obtener los top_n productos más vendidos\n",
    "    top_productos = total_unidades.head(top_n)\n",
    "    return top_productos\n",
    "\n",
    "# Cargar los datos y obtener el ranking de productos\n",
    "df = cargar_datos()\n",
    "top_productos = ranking_productos(df)\n",
    "\n",
    "print(top_productos)\n",
    "\n"
   ]
  },
  {
   "cell_type": "markdown",
   "metadata": {},
   "source": [
    "### Ejercicio 6: Listar las ventas por mes\n",
    "Realizar un listado del total de unidades vendidas por producto separado por mes.\n"
   ]
  },
  {
   "cell_type": "code",
   "execution_count": 7,
   "metadata": {},
   "outputs": [
    {
     "name": "stdout",
     "output_type": "stream",
     "text": [
      "       mes    producto  cantidad\n",
      "0  2024-08     Mirinda        27\n",
      "1  2024-08  Pepsi Cola        10\n",
      "2  2024-08     Torasso         8\n",
      "3  2024-09   Coca Cola        57\n",
      "4  2024-09     Mirinda        58\n",
      "5  2024-09  Pepsi Cola        79\n",
      "6  2024-09      Sprite        72\n",
      "7  2024-09     Torasso        24\n"
     ]
    }
   ],
   "source": [
    "import pandas as pd\n",
    "\n",
    "def cargar_datos():\n",
    "    # Leer las líneas del archivo\n",
    "    with open(\"datos.dat\", \"r\") as file:\n",
    "        lineas = file.readlines()\n",
    "\n",
    "    # Procesar las líneas en una lista de diccionarios\n",
    "    data = []\n",
    "    for linea in lineas:\n",
    "        fecha = linea[:10].strip()\n",
    "        producto = linea[10:40].strip()\n",
    "        precio = int(linea[40:50].strip())\n",
    "        cantidad = int(linea[50:].strip())\n",
    "        data.append({\n",
    "            'fecha': fecha,\n",
    "            'producto': producto,\n",
    "            'precio': precio,\n",
    "            'cantidad': cantidad\n",
    "        })\n",
    "\n",
    "    # Convertir la lista de diccionarios en un DataFrame de pandas\n",
    "    df = pd.DataFrame(data)\n",
    "    \n",
    "    # Convertir la columna 'fecha' a tipo datetime\n",
    "    df['fecha'] = pd.to_datetime(df['fecha'], format='%Y-%m-%d')\n",
    "    \n",
    "    # Extraer el mes de la columna 'fecha'\n",
    "    df['mes'] = df['fecha'].dt.to_period('M')\n",
    "\n",
    "    return df\n",
    "\n",
    "def listar_ventas_por_mes(df):\n",
    "    # Agrupar por mes y producto, y sumar las cantidades vendidas\n",
    "    ventas_por_mes = df.groupby(['mes', 'producto'])['cantidad'].sum().reset_index()\n",
    "    return ventas_por_mes\n",
    "\n",
    "# Cargar los datos y listar las ventas por mes\n",
    "df = cargar_datos()\n",
    "ventas_por_mes = listar_ventas_por_mes(df)\n",
    "\n",
    "print(ventas_por_mes)\n"
   ]
  },
  {
   "cell_type": "markdown",
   "metadata": {},
   "source": [
    "### Ejercicio 7: Informe general\n",
    "\n",
    "Mostrar un listado de productos ordenados alfabeticamente que contengan el precio promedio, la cantidad de unidades vendidas y el importe total vendido para cada producto"
   ]
  },
  {
   "cell_type": "code",
   "execution_count": 8,
   "metadata": {},
   "outputs": [
    {
     "name": "stdout",
     "output_type": "stream",
     "text": [
      "     Producto  Precio Promedio  Cantidad Vendida  Importe Total\n",
      "0   Coca Cola      1072.500000                57          60780\n",
      "1     Mirinda      1545.833333                85         131080\n",
      "2  Pepsi Cola      1245.000000                89         110510\n",
      "3      Sprite       841.428571                72          61040\n",
      "4     Torasso       920.000000                32          29320\n"
     ]
    }
   ],
   "source": [
    "import pandas as pd\n",
    "\n",
    "def cargar_datos():\n",
    "    # Leer las líneas del archivo\n",
    "    with open(\"datos.dat\", \"r\") as file:\n",
    "        lineas = file.readlines()\n",
    "\n",
    "    # Procesar las líneas en una lista de diccionarios\n",
    "    data = []\n",
    "    for linea in lineas:\n",
    "        fecha = linea[:10].strip()\n",
    "        producto = linea[10:40].strip()\n",
    "        precio = int(linea[40:50].strip())\n",
    "        cantidad = int(linea[50:].strip())\n",
    "        data.append({\n",
    "            'fecha': fecha,\n",
    "            'producto': producto,\n",
    "            'precio': precio,\n",
    "            'cantidad': cantidad\n",
    "        })\n",
    "\n",
    "    # Convertir la lista de diccionarios en un DataFrame de pandas\n",
    "    df = pd.DataFrame(data)\n",
    "    return df\n",
    "\n",
    "def informe_general(df):\n",
    "    # Calcular el precio promedio por producto\n",
    "    precio_promedio = df.groupby('producto')['precio'].mean().reset_index()\n",
    "\n",
    "    # Calcular la cantidad de unidades vendidas por producto\n",
    "    cantidad_vendida = df.groupby('producto')['cantidad'].sum().reset_index()\n",
    "\n",
    "    # Calcular el importe total vendido por producto\n",
    "    df['importe'] = df['precio'] * df['cantidad']\n",
    "    importe_total = df.groupby('producto')['importe'].sum().reset_index()\n",
    "\n",
    "    # Unir los datos en un solo DataFrame\n",
    "    informe = pd.merge(precio_promedio, cantidad_vendida, on='producto')\n",
    "    informe = pd.merge(informe, importe_total, on='producto')\n",
    "\n",
    "    # Renombrar las columnas para mayor claridad\n",
    "    informe.columns = ['Producto', 'Precio Promedio', 'Cantidad Vendida', 'Importe Total']\n",
    "\n",
    "    # Ordenar los productos alfabéticamente\n",
    "    informe = informe.sort_values(by='Producto')\n",
    "\n",
    "    return informe\n",
    "\n",
    "# Cargar los datos y generar el informe general\n",
    "df = cargar_datos()\n",
    "informe = informe_general(df)\n",
    "\n",
    "print(informe)"
   ]
  },
  {
   "cell_type": "markdown",
   "metadata": {},
   "source": [
    "## `Resolver usando NumPy`\n",
    "## Resolver el ejercicio 2 del tp1 usando NumPy"
   ]
  },
  {
   "cell_type": "markdown",
   "metadata": {},
   "source": [
    "### Ejercicio 8\n",
    "\n",
    "Escribe una función en Python que encuentre los valores de `a`, `b`, y `c` para que la función cuadrática `f(x) = a x^2 + b x + c` pase exactamente por los siguientes puntos:\n",
    "\n",
    "| x  | y  |\n",
    "|---:|---:|\n",
    "|  0 |  0 |\n",
    "|  1 |  8 |\n",
    "|  2 | 12 |\n",
    "|  3 | 12 |\n",
    "|  5 |  0 |\n",
    "\n",
    "### Requisitos:\n",
    "- La función debe explorar posibles valores de `a`, `b`, y `c` utilizando un método de prueba y error.\n",
    "- Debe devolver los valores que hagan que la diferencia entre la función `f(x)` y los valores medidos `y` sea exactamente cero para cada punto.\n",
    "\n",
    "> **Pista**: Los valores de `a`, `b`, y `c` son números pequeños.\n",
    "\n",
    "La idea es implementar el mismo algoritmo que se uso en el TP1 pero usando NumPy en lugar de Python puro."
   ]
  },
  {
   "cell_type": "code",
   "execution_count": 14,
   "metadata": {},
   "outputs": [
    {
     "name": "stdout",
     "output_type": "stream",
     "text": [
      "Coeficientes encontrados: a = -2.0000000000000013, b = 10.000000000000007, c = -4.884981308350689e-15\n"
     ]
    }
   ],
   "source": [
    "import numpy as np\n",
    "\n",
    "def encontrar_coeficientes():\n",
    "    # Puntos dados\n",
    "    puntos = np.array([\n",
    "        [0, 0],\n",
    "        [1, 8],\n",
    "        [2, 12],\n",
    "        [3, 12],\n",
    "        [5, 0]\n",
    "    ])\n",
    "\n",
    "    # Matriz de coeficientes\n",
    "    A = np.array([\n",
    "        [0**2, 0, 1],\n",
    "        [1**2, 1, 1],\n",
    "        [2**2, 2, 1],\n",
    "        [3**2, 3, 1],\n",
    "        [5**2, 5, 1]\n",
    "    ])\n",
    "\n",
    "    # Vector de resultados\n",
    "    b = np.array([0, 8, 12, 12, 0])\n",
    "\n",
    "    # Usar el método de mínimos cuadrados para encontrar los coeficientes\n",
    "    coeficientes, _, _, _ = np.linalg.lstsq(A, b, rcond=None)\n",
    "    a, b, c = coeficientes\n",
    "\n",
    "    return a, b, c\n",
    "\n",
    "# Encontrar los coeficientes\n",
    "a, b, c = encontrar_coeficientes()\n",
    "print(f\"Coeficientes encontrados: a = {a}, b = {b}, c = {c}\")\n"
   ]
  },
  {
   "cell_type": "markdown",
   "metadata": {},
   "source": [
    "### Ejercicio 9: Resolver el ejercicio 3 del TP1 usando NumPy\n",
    "Buscar los coeficientes de la función que minimice la suma de los cuadrados de las diferencias entre los valores medidos y los valores de la función.\n",
    "\n",
    "1. Crear un array con los coeficientes elegidos al azar (usar `randint(-10,10,3)`).\n",
    "2. Calcular el valor de la función y el error correspondiente.\n",
    "3. Mientras que el error sea mayor a 1:\n",
    "    1. Definir nuevos coeficientes agregándoles un pequeño valor al azar a los coeficientes actuales (aprendizaje = 0.001).\n",
    "    2. Si el error para los nuevos coeficientes es menor que el anterior, reemplazar los coeficientes actuales por los nuevos.\n"
   ]
  },
  {
   "cell_type": "code",
   "execution_count": 15,
   "metadata": {},
   "outputs": [
    {
     "name": "stdout",
     "output_type": "stream",
     "text": [
      "Coeficientes encontrados: a = -1.8622819060724876, b = 9.17167847898258, c = 0.8561561793366076\n"
     ]
    }
   ],
   "source": [
    "import numpy as np\n",
    "\n",
    "# Puntos dados\n",
    "puntos = np.array([\n",
    "    [0, 0],\n",
    "    [1, 8],\n",
    "    [2, 12],\n",
    "    [3, 12],\n",
    "    [5, 0]\n",
    "])\n",
    "x = puntos[:, 0]\n",
    "y = puntos[:, 1]\n",
    "\n",
    "def calcular_error(coef, x, y):\n",
    "    # Calcula los valores de la función cuadrática\n",
    "    y_pred = coef[0] * x**2 + coef[1] * x + coef[2]\n",
    "    # Calcula el error como la suma de los cuadrados de las diferencias\n",
    "    error = np.sum((y - y_pred)**2)\n",
    "    return error\n",
    "\n",
    "def encontrar_coeficientes():\n",
    "    # Inicializar los coeficientes al azar\n",
    "    coef = np.random.randint(-10, 10, 3)\n",
    "    # Calcular el error inicial\n",
    "    error = calcular_error(coef, x, y)\n",
    "    aprendizaje = 0.001\n",
    "    \n",
    "    # Bucle de optimización\n",
    "    while error > 1:\n",
    "        # Definir nuevos coeficientes\n",
    "        nuevos_coef = coef + np.random.randn(3) * aprendizaje\n",
    "        # Calcular el nuevo error\n",
    "        nuevo_error = calcular_error(nuevos_coef, x, y)\n",
    "        \n",
    "        # Si el nuevo error es menor, actualizar los coeficientes y el error\n",
    "        if nuevo_error < error:\n",
    "            coef = nuevos_coef\n",
    "            error = nuevo_error\n",
    "\n",
    "    return coef\n",
    "\n",
    "# Encontrar los coeficientes\n",
    "coeficientes = encontrar_coeficientes()\n",
    "print(f\"Coeficientes encontrados: a = {coeficientes[0]}, b = {coeficientes[1]}, c = {coeficientes[2]}\")\n"
   ]
  }
 ],
 "metadata": {
  "kernelspec": {
   "display_name": "Python 3",
   "language": "python",
   "name": "python3"
  },
  "language_info": {
   "codemirror_mode": {
    "name": "ipython",
    "version": 3
   },
   "file_extension": ".py",
   "mimetype": "text/x-python",
   "name": "python",
   "nbconvert_exporter": "python",
   "pygments_lexer": "ipython3",
   "version": "3.11.9"
  }
 },
 "nbformat": 4,
 "nbformat_minor": 2
}
