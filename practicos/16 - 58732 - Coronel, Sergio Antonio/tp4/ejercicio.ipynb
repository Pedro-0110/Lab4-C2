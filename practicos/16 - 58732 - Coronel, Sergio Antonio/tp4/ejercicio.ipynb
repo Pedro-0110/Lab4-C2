{
 "cells": [
  {
   "cell_type": "markdown",
   "metadata": {},
   "source": [
    "# Simulación del Truco"
   ]
  },
  {
   "cell_type": "markdown",
   "metadata": {},
   "source": [
    "Las **cartas** deben registra el numero, palo y valor de la carta. \n",
    "El valor debe reflejar la jerarquía de las cartas en el juego del truco."
   ]
  },
  {
   "cell_type": "code",
   "execution_count": 2,
   "metadata": {},
   "outputs": [
    {
     "name": "stdout",
     "output_type": "stream",
     "text": [
      "1 de oro (Valor: 8)\n"
     ]
    }
   ],
   "source": [
    "# Función para calcular el valor de las cartas según el Truco\n",
    "def calcular_valor(numero, palo):\n",
    "    if numero == 1 and palo == \"espada\":\n",
    "        return 14\n",
    "    elif numero == 1 and palo == \"basto\":\n",
    "        return 13\n",
    "    elif numero == 7 and palo == \"espada\":\n",
    "        return 12\n",
    "    elif numero == 7 and palo == \"oro\":\n",
    "        return 11\n",
    "    elif numero == 3:\n",
    "        return 10\n",
    "    elif numero == 2:\n",
    "        return 9\n",
    "    elif numero == 1:\n",
    "        return 8\n",
    "    elif numero == 12:\n",
    "        return 7\n",
    "    elif numero == 11:\n",
    "        return 6\n",
    "    elif numero == 10:\n",
    "        return 5\n",
    "    elif numero == 7:\n",
    "        return 4\n",
    "    elif numero == 6:\n",
    "        return 3\n",
    "    elif numero == 5:\n",
    "        return 2\n",
    "    elif numero == 4:\n",
    "        return 1\n",
    "    return 0  \n",
    "\n",
    "# Clase Carta\n",
    "class Carta:\n",
    "    def __init__(self, numero, palo):\n",
    "        self.numero = numero\n",
    "        self.palo = palo\n",
    "        self.valor = calcular_valor(numero, palo)\n",
    "\n",
    "    def __str__(self):\n",
    "        return f\"{self.numero} de {self.palo} (Valor: {self.valor})\"\n",
    "\n",
    "c = Carta(1, \"oro\")\n",
    "print(c)\n"
   ]
  },
  {
   "cell_type": "markdown",
   "metadata": {},
   "source": [
    "**Mazo**: Representan las cartas españolas de 1 al 12, en los palos de oro, copa, espada y basto.\n",
    "\n",
    "Debe existir una función que permita barajar las cartas.\n",
    "y otra función que permita repartir las cartas a los jugadores."
   ]
  },
  {
   "cell_type": "code",
   "execution_count": 3,
   "metadata": {},
   "outputs": [
    {
     "name": "stdout",
     "output_type": "stream",
     "text": [
      "3 de espada (Valor: 10)\n",
      "10 de oro (Valor: 5)\n",
      "6 de espada (Valor: 3)\n"
     ]
    }
   ],
   "source": [
    "import random\n",
    "\n",
    "#Clase Mazo\n",
    "class Mazo:\n",
    "    palos = [\"oro\", \"copa\", \"espada\", \"basto\"]\n",
    "    numeros = list(range(1, 13))  \n",
    "\n",
    "    def __init__(self):\n",
    "        self.cartas = [Carta(numero, palo) for palo in self.palos for numero in self.numeros]\n",
    "    \n",
    "    def mezclar(self):\n",
    "        random.shuffle(self.cartas)\n",
    "\n",
    "    def repartir(self, cantidad):\n",
    "        \n",
    "        return [self.cartas.pop() for _ in range(cantidad)]\n",
    "\n",
    "m = Mazo()\n",
    "m.mezclar()\n",
    "cartas_repartidas = m.repartir(3)\n",
    "for carta in cartas_repartidas:\n",
    "    print(carta)\n"
   ]
  },
  {
   "cell_type": "markdown",
   "metadata": {},
   "source": [
    "**Jugador**: Deben tener un nombre y las cartas que tiene en la mano. Debe acumular los puntos ganados.\n",
    "\n",
    "Nota: Para simplificar el problema, el jugador elige la carta a jugar de forma aleatoria."
   ]
  },
  {
   "cell_type": "code",
   "execution_count": 5,
   "metadata": {},
   "outputs": [
    {
     "name": "stdout",
     "output_type": "stream",
     "text": [
      "3 de espada (Valor: 10)\n"
     ]
    }
   ],
   "source": [
    "import random\n",
    "\n",
    "# Clase Jugador\n",
    "class Jugador:\n",
    "    def __init__(self, nombre):\n",
    "        self.nombre = nombre\n",
    "        self.cartas = []\n",
    "        self.puntos = 0\n",
    "\n",
    "    def recibir_cartas(self, cartas):\n",
    "        self.cartas = cartas\n",
    "\n",
    "    def jugar_carta(self):\n",
    "        return self.cartas.pop(random.randint(0, len(self.cartas) - 1))\n",
    "\n",
    "    def __str__(self):\n",
    "        return f\"Jugador: {self.nombre} con {self.puntos} puntos\"\n",
    "\n",
    "j = Jugador(\"Juan\")\n",
    "j.recibir_cartas([Carta(3, \"espada\"), Carta(7, \"oro\"), Carta(1, \"copa\")])\n",
    "print(j.jugar_carta())\n"
   ]
  },
  {
   "cell_type": "markdown",
   "metadata": {},
   "source": [
    "**Partida**: Debe tener dos jugadores, un mazo de cartas y un puntaje. Debe permitir jugar una carta por ronda y definir el ganador de la ronda. Debe permitir jugar hasta que se terminen las cartas del mazo."
   ]
  },
  {
   "cell_type": "code",
   "execution_count": 7,
   "metadata": {},
   "outputs": [
    {
     "name": "stdout",
     "output_type": "stream",
     "text": [
      "Sanchez juega 1 de espada (Valor: 14)\n",
      "Antonio juega 3 de oro (Valor: 10)\n",
      "Gana la ronda Sanchez\n",
      "Sanchez juega 11 de oro (Valor: 6)\n",
      "Antonio juega 3 de basto (Valor: 10)\n",
      "Gana la ronda Antonio\n",
      "Sanchez juega 2 de copa (Valor: 9)\n",
      "Antonio juega 10 de espada (Valor: 5)\n",
      "Gana la ronda Sanchez\n",
      "Puntaje: Sanchez 2 - Antonio 1\n",
      "----------------------------------------\n",
      "Sanchez juega 12 de oro (Valor: 7)\n",
      "Antonio juega 11 de basto (Valor: 6)\n",
      "Gana la ronda Sanchez\n",
      "Sanchez juega 4 de basto (Valor: 1)\n",
      "Antonio juega 9 de espada (Valor: 0)\n",
      "Gana la ronda Sanchez\n",
      "Sanchez juega 3 de basto (Valor: 10)\n",
      "Antonio juega 2 de oro (Valor: 9)\n",
      "Gana la ronda Sanchez\n",
      "Puntaje: Sanchez 5 - Antonio 1\n",
      "----------------------------------------\n",
      "Sanchez juega 11 de espada (Valor: 6)\n",
      "Antonio juega 3 de oro (Valor: 10)\n",
      "Gana la ronda Antonio\n",
      "Sanchez juega 10 de copa (Valor: 5)\n",
      "Antonio juega 9 de oro (Valor: 0)\n",
      "Gana la ronda Sanchez\n",
      "Sanchez juega 10 de basto (Valor: 5)\n",
      "Antonio juega 4 de espada (Valor: 1)\n",
      "Gana la ronda Sanchez\n",
      "Puntaje: Sanchez 7 - Antonio 2\n",
      "----------------------------------------\n",
      "Sanchez juega 6 de basto (Valor: 3)\n",
      "Antonio juega 12 de espada (Valor: 7)\n",
      "Gana la ronda Antonio\n",
      "Sanchez juega 7 de copa (Valor: 4)\n",
      "Antonio juega 4 de oro (Valor: 1)\n",
      "Gana la ronda Sanchez\n",
      "Sanchez juega 10 de copa (Valor: 5)\n",
      "Antonio juega 8 de oro (Valor: 0)\n",
      "Gana la ronda Sanchez\n",
      "Puntaje: Sanchez 9 - Antonio 3\n",
      "----------------------------------------\n",
      "Sanchez juega 3 de basto (Valor: 10)\n",
      "Antonio juega 11 de copa (Valor: 6)\n",
      "Gana la ronda Sanchez\n",
      "Sanchez juega 5 de oro (Valor: 2)\n",
      "Antonio juega 8 de espada (Valor: 0)\n",
      "Gana la ronda Sanchez\n",
      "Sanchez juega 1 de basto (Valor: 13)\n",
      "Antonio juega 12 de oro (Valor: 7)\n",
      "Gana la ronda Sanchez\n",
      "Puntaje: Sanchez 12 - Antonio 3\n",
      "----------------------------------------\n",
      "Sanchez juega 6 de oro (Valor: 3)\n",
      "Antonio juega 9 de oro (Valor: 0)\n",
      "Gana la ronda Sanchez\n",
      "Sanchez juega 10 de espada (Valor: 5)\n",
      "Antonio juega 8 de copa (Valor: 0)\n",
      "Gana la ronda Sanchez\n",
      "Sanchez juega 7 de copa (Valor: 4)\n",
      "Antonio juega 1 de basto (Valor: 13)\n",
      "Gana la ronda Antonio\n",
      "Puntaje: Sanchez 14 - Antonio 4\n",
      "----------------------------------------\n",
      "Sanchez juega 11 de copa (Valor: 6)\n",
      "Antonio juega 10 de copa (Valor: 5)\n",
      "Gana la ronda Sanchez\n",
      "Sanchez juega 7 de oro (Valor: 11)\n",
      "Antonio juega 2 de espada (Valor: 9)\n",
      "Gana la ronda Sanchez\n",
      "Sanchez juega 5 de espada (Valor: 2)\n",
      "Antonio juega 12 de oro (Valor: 7)\n",
      "Gana la ronda Antonio\n",
      "Puntaje: Sanchez 16 - Antonio 5\n",
      "----------------------------------------\n",
      "Sanchez gana la partida!\n"
     ]
    }
   ],
   "source": [
    "# Clase Partida\n",
    "class Partida:\n",
    "    def __init__(self, jugador1, jugador2):\n",
    "        self.jugador1 = jugador1\n",
    "        self.jugador2 = jugador2\n",
    "        self.mazo = Mazo()\n",
    "        self.puntaje_maximo = 15\n",
    "\n",
    "    def jugar_ronda(self):\n",
    "        carta_jugador1 = self.jugador1.jugar_carta()\n",
    "        carta_jugador2 = self.jugador2.jugar_carta()\n",
    "        \n",
    "        print(f\"{self.jugador1.nombre} juega {carta_jugador1}\")\n",
    "        print(f\"{self.jugador2.nombre} juega {carta_jugador2}\")\n",
    "\n",
    "        if carta_jugador1.valor > carta_jugador2.valor:\n",
    "            print(f\"Gana la ronda {self.jugador1.nombre}\")\n",
    "            self.jugador1.puntos += 1\n",
    "        elif carta_jugador1.valor < carta_jugador2.valor:\n",
    "            print(f\"Gana la ronda {self.jugador2.nombre}\")\n",
    "            self.jugador2.puntos += 1\n",
    "        else:\n",
    "            print(\"Empate en la ronda\")\n",
    "\n",
    "    def jugar(self):\n",
    "        # Jugar hasta que un jugador acumule 15 puntos\n",
    "        while self.jugador1.puntos < self.puntaje_maximo and self.jugador2.puntos < self.puntaje_maximo:\n",
    "            # Mezclar el mazo y repartir cartas\n",
    "            self.mazo = Mazo()  # Nuevo mazo\n",
    "            self.mazo.mezclar()\n",
    "            self.jugador1.recibir_cartas(self.mazo.repartir(3))\n",
    "            self.jugador2.recibir_cartas(self.mazo.repartir(3))\n",
    "\n",
    "            for _ in range(3):\n",
    "                self.jugar_ronda()\n",
    "\n",
    "            print(f\"Puntaje: {self.jugador1.nombre} {self.jugador1.puntos} - {self.jugador2.nombre} {self.jugador2.puntos}\")\n",
    "            print(\"-\" * 40)\n",
    "\n",
    "        if self.jugador1.puntos >= self.puntaje_maximo:\n",
    "            print(f\"{self.jugador1.nombre} gana la partida!\")\n",
    "        else:\n",
    "            print(f\"{self.jugador2.nombre} gana la partida!\")\n",
    "\n",
    "p = Partida(Jugador(\"Sanchez\"), Jugador(\"Antonio\"))\n",
    "p.jugar()\n"
   ]
  }
 ],
 "metadata": {
  "kernelspec": {
   "display_name": "Python 3",
   "language": "python",
   "name": "python3"
  },
  "language_info": {
   "codemirror_mode": {
    "name": "ipython",
    "version": 3
   },
   "file_extension": ".py",
   "mimetype": "text/x-python",
   "name": "python",
   "nbconvert_exporter": "python",
   "pygments_lexer": "ipython3",
   "version": "3.12.5"
  }
 },
 "nbformat": 4,
 "nbformat_minor": 2
}
