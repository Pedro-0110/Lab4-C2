{
 "cells": [
  {
   "cell_type": "markdown",
   "metadata": {},
   "source": [
    "# TP6\n",
    "\n",
    "### `Resolver usando Pandas`\n",
    "\n",
    "Resolver los ejercicios del TP3 utilizando la librería Pandas."
   ]
  },
  {
   "cell_type": "markdown",
   "metadata": {},
   "source": [
    "### Ejercicio 1: Cargar Datos de ventas.\n",
    "\n",
    "El archivo datos.dat contiene el registro de las ventas realizadas.\n",
    "\n",
    "Tiene un formato de ancho fijo:\n",
    "- `fecha`:    10 lugares\n",
    "- `producto`: 30 lugares\n",
    "- `precio`:   10 lugares\n",
    "- `cantidad`:  5 lugares\n",
    "\n",
    "Hacer una funcion que cargue los datos en un DataFrame de Pandas."
   ]
  },
  {
   "cell_type": "code",
   "execution_count": 43,
   "metadata": {},
   "outputs": [
    {
     "name": "stdout",
     "output_type": "stream",
     "text": [
      "         fecha    producto  precio  cantidad\n",
      "0   2024-08-27     Mirinda    1510        14\n",
      "1   2024-08-27     Mirinda    1560        12\n",
      "2   2024-08-28     Torasso     940         8\n",
      "3   2024-08-29  Pepsi Cola    1210        10\n",
      "4   2024-08-30     Mirinda    1520         1\n",
      "5   2024-09-01     Mirinda    1550        15\n",
      "6   2024-09-01      Sprite     810         4\n",
      "7   2024-09-02   Coca Cola    1100         4\n",
      "8   2024-09-02  Pepsi Cola    1220        13\n",
      "9   2024-09-02     Torasso     910         5\n",
      "10  2024-09-02     Torasso     920         3\n",
      "11  2024-09-03   Coca Cola    1020         8\n",
      "12  2024-09-03     Mirinda    1570         7\n",
      "13  2024-09-03     Mirinda    1590         2\n",
      "14  2024-09-04  Pepsi Cola    1220        13\n",
      "15  2024-09-05     Mirinda    1500         3\n",
      "16  2024-09-05  Pepsi Cola    1300         5\n",
      "17  2024-09-06   Coca Cola    1080         1\n",
      "18  2024-09-06      Sprite     860        12\n",
      "19  2024-09-06     Torasso     930         3\n",
      "20  2024-09-07   Coca Cola    1080        14\n",
      "21  2024-09-07      Sprite     870        13\n",
      "22  2024-09-08   Coca Cola    1040        10\n",
      "23  2024-09-08     Mirinda    1580         2\n",
      "24  2024-09-08  Pepsi Cola    1240         9\n",
      "25  2024-09-09     Mirinda    1500         3\n",
      "26  2024-09-09      Sprite     850         9\n",
      "27  2024-09-10     Mirinda    1590         8\n",
      "28  2024-09-10  Pepsi Cola    1250        12\n",
      "29  2024-09-11      Sprite     810         6\n",
      "30  2024-09-11      Sprite     820        14\n",
      "31  2024-09-12   Coca Cola    1080         4\n",
      "32  2024-09-13     Mirinda    1580         5\n",
      "33  2024-09-13  Pepsi Cola    1250        13\n",
      "34  2024-09-14   Coca Cola    1080        15\n",
      "35  2024-09-14  Pepsi Cola    1270        14\n",
      "36  2024-09-15   Coca Cola    1100         1\n",
      "37  2024-09-15     Mirinda    1500        13\n",
      "38  2024-09-15      Sprite     870        14\n",
      "39  2024-09-15     Torasso     900        13\n"
     ]
    }
   ],
   "source": [
    "import pandas as pd\n",
    "\n",
    "def cargar_datos():\n",
    "    \n",
    "    colspecs = [(0, 10),  \n",
    "                (10, 40), \n",
    "                (40, 50), \n",
    "                (50, 55)] \n",
    "    \n",
    "    \n",
    "    nombres_columnas = ['fecha', 'producto', 'precio', 'cantidad']\n",
    "    \n",
    "   \n",
    "    df = pd.read_fwf('datos.dat', colspecs=colspecs, header=None, names=nombres_columnas)\n",
    "    \n",
    "  \n",
    "    df['precio'] = pd.to_numeric(df['precio'], errors='coerce')\n",
    "    df['cantidad'] = pd.to_numeric(df['cantidad'], errors='coerce')\n",
    "    \n",
    "    return df\n",
    "\n",
    "\n",
    "datos = cargar_datos()\n",
    "\n",
    "\n",
    "print(datos)"
   ]
  },
  {
   "cell_type": "markdown",
   "metadata": {},
   "source": [
    "### Ejercicio 2: Calcular el total de ventas.\n",
    "Hacer una función que sume los importes vendidos (precio * cantidad) y las cantidades.\n"
   ]
  },
  {
   "cell_type": "code",
   "execution_count": 44,
   "metadata": {},
   "outputs": [
    {
     "name": "stdout",
     "output_type": "stream",
     "text": [
      "Las ventas fueron de $392730.00 en 335 unidades\n"
     ]
    }
   ],
   "source": [
    "import pandas as pd\n",
    "\n",
    "def calcular_totales(datos):\n",
    "    datos['importe'] = datos['precio'] * datos['cantidad']\n",
    "    \n",
    "    total_importe = datos['importe'].sum()\n",
    "    total_cantidad = datos['cantidad'].sum()\n",
    "    \n",
    "    return total_importe, total_cantidad\n",
    "\n",
    "datos = cargar_datos()\n",
    "importe, cantidad = calcular_totales(datos)\n",
    "\n",
    "\n",
    "print(f\"Las ventas fueron de ${importe:.2f} en {cantidad} unidades\")\n"
   ]
  },
  {
   "cell_type": "markdown",
   "metadata": {},
   "source": [
    "### Ejercicio 3: Listar las unidades vendidas.\n",
    "Listar cuántas unidades se vendieron en total para cada producto\n"
   ]
  },
  {
   "cell_type": "code",
   "execution_count": 45,
   "metadata": {},
   "outputs": [
    {
     "name": "stdout",
     "output_type": "stream",
     "text": [
      "Unidades vendidas por producto:\n",
      "Coca Cola: 57 unidades\n",
      "Mirinda: 85 unidades\n",
      "Pepsi Cola: 89 unidades\n",
      "Sprite: 72 unidades\n",
      "Torasso: 32 unidades\n"
     ]
    }
   ],
   "source": [
    "import pandas as pd\n",
    "\n",
    "def unidades_vendidas(datos):\n",
    "   \n",
    "    ventas_por_producto = datos.groupby('producto')['cantidad'].sum()\n",
    "\n",
    "   \n",
    "    ventas_por_producto = ventas_por_producto.reset_index()\n",
    "\n",
    "    print(\"Unidades vendidas por producto:\")\n",
    "    for index, row in ventas_por_producto.iterrows():\n",
    "        print(f\"{row['producto']}: {row['cantidad']} unidades\")\n",
    "\n",
    "\n",
    "datos = cargar_datos()\n",
    "unidades_vendidas(datos)\n"
   ]
  },
  {
   "cell_type": "markdown",
   "metadata": {},
   "source": [
    "###  Ejercicio 4: Listar el precio promedio por producto.\n",
    "Hacer un listado del precio promedio por producto.\n"
   ]
  },
  {
   "cell_type": "code",
   "execution_count": 46,
   "metadata": {},
   "outputs": [
    {
     "name": "stdout",
     "output_type": "stream",
     "text": [
      "Precio promedio por producto:\n",
      "Coca Cola: $1072.50\n",
      "Mirinda: $1545.83\n",
      "Pepsi Cola: $1245.00\n",
      "Sprite: $841.43\n",
      "Torasso: $920.00\n"
     ]
    }
   ],
   "source": [
    "def precio_promedio(datos):\n",
    "    \n",
    "    promedio_por_producto = datos.groupby('producto')['precio'].mean()\n",
    "    \n",
    " \n",
    "    promedio_por_producto = promedio_por_producto.reset_index()\n",
    "\n",
    "   \n",
    "    print(\"Precio promedio por producto:\")\n",
    "    for index, row in promedio_por_producto.iterrows():\n",
    "        print(f\"{row['producto']}: ${row['precio']:.2f}\")\n",
    "\n",
    "datos = cargar_datos()\n",
    "precio_promedio(datos)\n"
   ]
  },
  {
   "cell_type": "markdown",
   "metadata": {},
   "source": [
    "### Ejercicio 5: Ranking de productos\n",
    "Realizar un listado de los 3 productos más vendidos ordenados por la cantidad de unidades vendidas (ordenadas de mayor a menor)\n"
   ]
  },
  {
   "cell_type": "code",
   "execution_count": 47,
   "metadata": {},
   "outputs": [
    {
     "name": "stdout",
     "output_type": "stream",
     "text": [
      "Los 3 productos más vendidos son:\n",
      "Mirinda: 14 unidades\n",
      "Pepsi Cola: 12 unidades\n",
      "Coca Cola: 10 unidades\n"
     ]
    }
   ],
   "source": [
    "import pandas as pd\n",
    "\n",
    "def cargar_datos():\n",
    "   \n",
    "    data = {\n",
    "        'producto': ['Mirinda', 'Pepsi Cola', 'Coca Cola', 'Torasso', 'Sprite'],\n",
    "        'unidades_vendidas': [14, 12, 10, 8, 6]\n",
    "    }\n",
    "    return pd.DataFrame(data)\n",
    "\n",
    "def productos_mas_vendidos(datos, top=3):\n",
    "  \n",
    "    top_productos = datos.sort_values(by='unidades_vendidas', ascending=False).head(top)\n",
    "    \n",
    "    print(\"Los 3 productos más vendidos son:\")\n",
    "    for index, row in top_productos.iterrows():\n",
    "        print(f\"{row['producto']}: {row['unidades_vendidas']} unidades\")\n",
    "\n",
    "\n",
    "datos = cargar_datos()\n",
    "productos_mas_vendidos(datos)\n"
   ]
  },
  {
   "cell_type": "markdown",
   "metadata": {},
   "source": [
    "### Ejercicio 6: Listar las ventas por mes\n",
    "Realizar un listado del total de unidades vendidas por producto separado por mes.\n"
   ]
  },
  {
   "cell_type": "code",
   "execution_count": 48,
   "metadata": {},
   "outputs": [
    {
     "name": "stdout",
     "output_type": "stream",
     "text": [
      "Total de unidades vendidas por producto separado por mes:\n",
      "   año_mes    producto  unidades_vendidas\n",
      "0  2024-08     Mirinda                 27\n",
      "1  2024-08  Pepsi Cola                 10\n",
      "2  2024-08     Torasso                  8\n",
      "3  2024-09   Coca Cola                 36\n",
      "4  2024-09     Mirinda                 48\n",
      "5  2024-09  Pepsi Cola                 49\n",
      "6  2024-09      Sprite                 26\n",
      "7  2024-09     Torasso                  5\n"
     ]
    }
   ],
   "source": [
    "import pandas as pd\n",
    "\n",
    "def cargar_datos():\n",
    "    \n",
    "    data = {\n",
    "        'fecha': [\n",
    "            '2024-08-27', '2024-08-27', '2024-08-28', '2024-08-29',\n",
    "            '2024-08-30', '2024-09-01', '2024-09-01', '2024-09-02',\n",
    "            '2024-09-02', '2024-09-02', '2024-09-03', '2024-09-03',\n",
    "            '2024-09-04', '2024-09-05', '2024-09-05', '2024-09-06',\n",
    "            '2024-09-07', '2024-09-08', '2024-09-08', '2024-09-09',\n",
    "            '2024-09-10', '2024-09-11', '2024-09-12', '2024-09-13',\n",
    "            '2024-09-14', '2024-09-15'\n",
    "        ],\n",
    "        'producto': [\n",
    "            'Mirinda', 'Mirinda', 'Torasso', 'Pepsi Cola',\n",
    "            'Mirinda', 'Mirinda', 'Sprite', 'Coca Cola',\n",
    "            'Pepsi Cola', 'Torasso', 'Coca Cola', 'Mirinda',\n",
    "            'Pepsi Cola', 'Mirinda', 'Pepsi Cola', 'Coca Cola',\n",
    "            'Coca Cola', 'Sprite', 'Mirinda', 'Pepsi Cola',\n",
    "            'Mirinda', 'Sprite', 'Coca Cola', 'Coca Cola',\n",
    "            'Pepsi Cola', 'Mirinda'\n",
    "        ],\n",
    "        'unidades_vendidas': [\n",
    "            14, 12, 8, 10, 1, 15, 4, 4, 13, 5,\n",
    "            8, 7, 13, 3, 5, 1, 14, 10, 2, 3,\n",
    "            8, 12, 4, 5, 15, 13\n",
    "        ]\n",
    "    }\n",
    "    return pd.DataFrame(data)\n",
    "\n",
    "def total_unidades_por_mes(datos):\n",
    "    \n",
    "    datos['fecha'] = pd.to_datetime(datos['fecha'])\n",
    "    \n",
    "   \n",
    "    datos['año_mes'] = datos['fecha'].dt.to_period('M')\n",
    "    \n",
    "  \n",
    "    total = datos.groupby(['año_mes', 'producto'])['unidades_vendidas'].sum().reset_index()\n",
    "    \n",
    "    return total\n",
    "\n",
    "\n",
    "datos = cargar_datos()\n",
    "resultado = total_unidades_por_mes(datos)\n",
    "\n",
    "print(\"Total de unidades vendidas por producto separado por mes:\")\n",
    "print(resultado)"
   ]
  },
  {
   "cell_type": "markdown",
   "metadata": {},
   "source": [
    "### Ejercicio 7: Informe general\n",
    "\n",
    "Mostrar un listado de productos ordenados alfabeticamente que contengan el precio promedio, la cantidad de unidades vendidas y el importe total vendido para cada producto"
   ]
  },
  {
   "cell_type": "code",
   "execution_count": 49,
   "metadata": {},
   "outputs": [
    {
     "name": "stdout",
     "output_type": "stream",
     "text": [
      "Resumen de ventas:\n",
      "     producto  precio_promedio  total_unidades_vendidas  importe_total\n",
      "0   Coca Cola            1.750                       10         17.500\n",
      "1     Mirinda            1.525                       19         28.975\n",
      "2  Pepsi Cola            1.825                       19         34.675\n",
      "3      Sprite            1.600                        6          9.600\n",
      "4     Torasso            2.000                        8         16.000\n"
     ]
    }
   ],
   "source": [
    "import pandas as pd\n",
    "\n",
    "def cargar_datos():\n",
    "    \n",
    "    data = {\n",
    "        'producto': ['Mirinda', 'Pepsi Cola', 'Coca Cola', 'Torasso', 'Sprite', 'Mirinda', 'Pepsi Cola'],\n",
    "        'precio': [1.50, 1.80, 1.75, 2.00, 1.60, 1.55, 1.85],\n",
    "        'unidades_vendidas': [14, 12, 10, 8, 6, 5, 7]\n",
    "    }\n",
    "    return pd.DataFrame(data)\n",
    "\n",
    "def resumen_ventas(datos):\n",
    "    \n",
    "    resumen = datos.groupby('producto').agg(\n",
    "        precio_promedio=('precio', 'mean'),\n",
    "        total_unidades_vendidas=('unidades_vendidas', 'sum')\n",
    "    ).reset_index()\n",
    "\n",
    "    \n",
    "    resumen['importe_total'] = resumen['precio_promedio'] * resumen['total_unidades_vendidas']\n",
    "    \n",
    "    \n",
    "    resumen = resumen.sort_values(by='producto')\n",
    "    \n",
    "    return resumen\n",
    "\n",
    "\n",
    "datos = cargar_datos()\n",
    "resultado = resumen_ventas(datos)\n",
    "\n",
    "print(\"Resumen de ventas:\")\n",
    "print(resultado)"
   ]
  },
  {
   "cell_type": "markdown",
   "metadata": {},
   "source": [
    "## `Resolver usando NumPy`\n",
    "## Resolver el ejercicio 2 del tp1 usando NumPy"
   ]
  },
  {
   "cell_type": "markdown",
   "metadata": {},
   "source": [
    "### Ejercicio 8\n",
    "\n",
    "Escribe una función en Python que encuentre los valores de `a`, `b`, y `c` para que la función cuadrática `f(x) = a x^2 + b x + c` pase exactamente por los siguientes puntos:\n",
    "\n",
    "| x  | y  |\n",
    "|---:|---:|\n",
    "|  0 |  0 |\n",
    "|  1 |  8 |\n",
    "|  2 | 12 |\n",
    "|  3 | 12 |\n",
    "|  5 |  0 |\n",
    "\n",
    "### Requisitos:\n",
    "- La función debe explorar posibles valores de `a`, `b`, y `c` utilizando un método de prueba y error.\n",
    "- Debe devolver los valores que hagan que la diferencia entre la función `f(x)` y los valores medidos `y` sea exactamente cero para cada punto.\n",
    "\n",
    "> **Pista**: Los valores de `a`, `b`, y `c` son números pequeños.\n",
    "\n",
    "La idea es implementar el mismo algoritmo que se uso en el TP1 pero usando NumPy en lugar de Python puro."
   ]
  },
  {
   "cell_type": "code",
   "execution_count": 50,
   "metadata": {},
   "outputs": [
    {
     "name": "stdout",
     "output_type": "stream",
     "text": [
      "Coeficientes encontrados: a = -2, b = 10, c = 0\n"
     ]
    }
   ],
   "source": [
    "import numpy as np\n",
    "\n",
    "def f(x, coeficientes):\n",
    "    a, b, c = coeficientes\n",
    "    return a * x**2 + b * x + c\n",
    "\n",
    "def encontrar_coeficientes():\n",
    "    \n",
    "    puntos_x = np.array([0, 1, 2, 3, 5])\n",
    "    puntos_y = np.array([0, 8, 12, 12, 0])\n",
    "    \n",
    "    rango = np.arange(-10, 11, 1) \n",
    "\n",
    "    for a in rango:\n",
    "        for b in rango:\n",
    "            for c in rango:\n",
    "                y_pred = f(puntos_x, [a, b, c])\n",
    "                if np.all(y_pred == puntos_y): \n",
    "                    return a, b, c\n",
    "\n",
    "    return None  \n",
    "\n",
    "\n",
    "coeficientes = encontrar_coeficientes()\n",
    "\n",
    "if coeficientes:\n",
    "    print(f\"Coeficientes encontrados: a = {coeficientes[0]}, b = {coeficientes[1]}, c = {coeficientes[2]}\")\n",
    "else:\n",
    "    print(\"No se encontraron coeficientes que cumplan la condición.\")"
   ]
  },
  {
   "cell_type": "markdown",
   "metadata": {},
   "source": [
    "### Ejercicio 9: Resolver el ejercicio 3 del TP1 usando NumPy\n",
    "Buscar los coeficientes de la función que minimice la suma de los cuadrados de las diferencias entre los valores medidos y los valores de la función.\n",
    "\n",
    "1. Crear un array con los coeficientes elegidos al azar (usar `randint(-10,10,3)`).\n",
    "2. Calcular el valor de la función y el error correspondiente.\n",
    "3. Mientras que el error sea mayor a 1:\n",
    "    1. Definir nuevos coeficientes agregándoles un pequeño valor al azar a los coeficientes actuales (aprendizaje = 0.001).\n",
    "    2. Si el error para los nuevos coeficientes es menor que el anterior, reemplazar los coeficientes actuales por los nuevos.\n"
   ]
  },
  {
   "cell_type": "code",
   "execution_count": 51,
   "metadata": {},
   "outputs": [
    {
     "name": "stdout",
     "output_type": "stream",
     "text": [
      "Coeficientes encontrados: a = -1.81, b = 9.22, c = 0.08\n"
     ]
    }
   ],
   "source": [
    "import numpy as np\n",
    "from numpy.random import randint\n",
    "\n",
    "def f(x, coeficientes):\n",
    "    a, b, c = coeficientes\n",
    "    return a * x**2 + b * x + c\n",
    "\n",
    "def error(y, y_pred):\n",
    "    return np.sum((y - y_pred)**2)\n",
    "\n",
    "X = np.array([0, 1, 2, 3, 5])\n",
    "Y = np.array([0, 8, 12, 11, 1])  \n",
    "\n",
    "def buscar_coeficientes():\n",
    "    \n",
    "    coeficientes = np.random.randint(-10, 10, 3).astype(float)\n",
    "    error_actual = error(Y, f(X, coeficientes))\n",
    "\n",
    "    aprendizaje = 0.001\n",
    "\n",
    "    while error_actual > 1:  \n",
    "       \n",
    "        nuevos_coeficientes = coeficientes + np.random.uniform(-aprendizaje, aprendizaje, 3)\n",
    "        \n",
    "       \n",
    "        error_nuevo = error(Y, f(X, nuevos_coeficientes))\n",
    "\n",
    "       \n",
    "        if error_nuevo < error_actual:\n",
    "            coeficientes = nuevos_coeficientes\n",
    "            error_actual = error_nuevo\n",
    "\n",
    "    return coeficientes\n",
    "\n",
    "\n",
    "coeficientes = buscar_coeficientes()\n",
    "print(f\"Coeficientes encontrados: a = {coeficientes[0]:.2f}, b = {coeficientes[1]:.2f}, c = {coeficientes[2]:.2f}\")\n",
    "\n"
   ]
  },
  {
   "cell_type": "code",
   "execution_count": 52,
   "metadata": {},
   "outputs": [
    {
     "name": "stdout",
     "output_type": "stream",
     "text": [
      "Coeficientes (a, b, c): [-1.92  9.55  0.18]\n"
     ]
    },
    {
     "data": {
      "image/png": "[encoded data removed]",
      "text/plain": [
       "<Figure size 640x480 with 1 Axes>"
      ]
     },
     "metadata": {},
     "output_type": "display_data"
    }
   ],
   "source": [
    "import numpy as np\n",
    "import matplotlib.pyplot as plt\n",
    "\n",
    "def f(x, coeficientes):\n",
    "    a, b, c = coeficientes\n",
    "    return a * x**2 + b * x + c\n",
    "\n",
    "X = np.array([0, 1, 2, 3, 5])\n",
    "Y = np.array([0, 8, 12, 11, 0])\n",
    "\n",
    "\n",
    "coeficientes = np.polyfit(X, Y, 2)\n",
    "g = np.poly1d(coeficientes)\n",
    "\n",
    "\n",
    "print(\"Coeficientes (a, b, c):\", np.round(coeficientes, 2))\n",
    "\n",
    "\n",
    "plt.plot(X, Y, 'rx', label='Datos originales')\n",
    "plt.grid()\n",
    "\n",
    "\n",
    "xr = np.linspace(min(X), max(X), 100)\n",
    "\n",
    "yr = g(xr)\n",
    "\n",
    "\n",
    "plt.plot(xr, yr, label='Curva ajustada', color='blue')\n",
    "\n",
    "\n",
    "plt.xlabel('X')\n",
    "plt.ylabel('Y')\n",
    "plt.title('Ajuste de Regresión Cuadrática')\n",
    "plt.legend()\n",
    "plt.show()\n"
   ]
  },
  {
   "cell_type": "code",
   "execution_count": 53,
   "metadata": {},
   "outputs": [
    {
     "name": "stdout",
     "output_type": "stream",
     "text": [
      "Coeficientes encontrados: a = -2, b = 10, c = 0\n"
     ]
    }
   ],
   "source": [
    "def f(x, coeficientes):\n",
    "    a, b, c = coeficientes\n",
    "    return a * x**2 + b * x + c\n",
    "\n",
    "X = [0, 1, 2, 3, 5]\n",
    "Y = [0, 8, 12, 12, 0]\n",
    "rango = range(-10, 11)\n",
    "\n",
    "\n",
    "encontrado = False\n",
    "\n",
    "for a in rango:\n",
    "    for b in rango:\n",
    "        for c in rango:\n",
    "            y = [f(x, [a, b, c]) for x in X]\n",
    "            if y == Y:\n",
    "                print(f\"Coeficientes encontrados: a = {a}, b = {b}, c = {c}\")\n",
    "                encontrado = True\n",
    "\n",
    "if not encontrado:\n",
    "    print(\"No se encontraron coeficientes que satisfagan la ecuación.\")\n"
   ]
  },
  {
   "cell_type": "code",
   "execution_count": 54,
   "metadata": {},
   "outputs": [
    {
     "name": "stdout",
     "output_type": "stream",
     "text": [
      "Coeficientes encontrados: a = -2.00, b = 10.00, c = -0.20\n",
      "Coeficientes usando np.polyfit: [-1.92  9.55  0.18]\n"
     ]
    },
    {
     "data": {
      "image/png": "[encoded data removed]",
      "text/plain": [
       "<Figure size 640x480 with 1 Axes>"
      ]
     },
     "metadata": {},
     "output_type": "display_data"
    }
   ],
   "source": [
    "import numpy as np\n",
    "import matplotlib.pyplot as plt\n",
    "\n",
    "def f(x, coeficientes):\n",
    "    a, b, c = coeficientes\n",
    "    return a * x**2 + b * x + c\n",
    "\n",
    "def error(y, yp):\n",
    "    return np.sum((y - yp)**2)\n",
    "\n",
    "X = np.array([0, 1, 2, 3, 5])\n",
    "Y = np.array([0, 8, 12, 11, 0])\n",
    "rango = np.arange(-10, 11, 0.2)\n",
    "\n",
    "e = np.inf\n",
    "coeficientes = [None, None, None]  \n",
    "\n",
    "for a in rango:\n",
    "    for b in rango:\n",
    "        for c in rango:\n",
    "            y = f(X, [a, b, c])\n",
    "            ne = error(Y, y)\n",
    "            if ne < e:\n",
    "                e = ne\n",
    "                coeficientes = [a, b, c]\n",
    "\n",
    "\n",
    "coeficientes_redondeados = np.round(coeficientes, 2)\n",
    "print(f\"Coeficientes encontrados: a = {coeficientes_redondeados[0]:.2f}, b = {coeficientes_redondeados[1]:.2f}, c = {coeficientes_redondeados[2]:.2f}\")\n",
    "\n",
    "\n",
    "coeficientes_polyfit = np.polyfit(X, Y, 2)\n",
    "print(\"Coeficientes usando np.polyfit:\", np.round(coeficientes_polyfit, 2))\n",
    "\n",
    "\n",
    "xr = np.linspace(min(X), max(X), 100)\n",
    "yr = f(xr, coeficientes)\n",
    "\n",
    "plt.plot(xr, yr, label='Curva ajustada', color='blue')\n",
    "plt.plot(X, Y, 'rx', label='Datos originales')\n",
    "plt.xlabel('X')\n",
    "plt.ylabel('Y')\n",
    "plt.title('Ajuste de Regresión Cuadrática')\n",
    "plt.legend()\n",
    "plt.grid()\n",
    "plt.show()"
   ]
  },
  {
   "cell_type": "code",
   "execution_count": 55,
   "metadata": {},
   "outputs": [
    {
     "name": "stdout",
     "output_type": "stream",
     "text": [
      "1000: Error = 12483.47, Coeficientes = [-2.38 -8.79  9.1 ]\n",
      "2000: Error = 1971.05, Coeficientes = [ 0.14 -8.31  9.2 ]\n",
      "3000: Error = 395.52, Coeficientes = [ 1.23 -6.95  9.58]\n",
      "4000: Error = 276.92, Coeficientes = [ 0.77 -4.85 10.1 ]\n",
      "5000: Error = 193.38, Coeficientes = [ 0.25 -2.63 10.24]\n",
      "6000: Error = 139.28, Coeficientes = [-0.18 -0.55  9.75]\n",
      "7000: Error = 98.63, Coeficientes = [-0.55  1.33  8.65]\n",
      "8000: Error = 69.67, Coeficientes = [-0.8   2.75  7.4 ]\n",
      "9000: Error = 48.08, Coeficientes = [-0.96  3.83  6.08]\n",
      "10000: Error = 28.99, Coeficientes = [-1.19  5.15  4.78]\n",
      "11000: Error = 15.60, Coeficientes = [-1.39  6.35  3.53]\n",
      "12000: Error = 7.36, Coeficientes = [-1.56  7.4   2.44]\n",
      "13000: Error = 2.82, Coeficientes = [-1.72  8.34  1.52]\n",
      "Coeficientes encontrados: a = -1.83, b = 9.00, c = 0.77\n",
      "Coeficientes usando np.polyfit: [-1.92  9.55  0.18]\n"
     ]
    },
    {
     "data": {
      "image/png": "[encoded data removed]",
      "text/plain": [
       "<Figure size 640x480 with 1 Axes>"
      ]
     },
     "metadata": {},
     "output_type": "display_data"
    }
   ],
   "source": [
    "import numpy as np\n",
    "import matplotlib.pyplot as plt\n",
    "\n",
    "def f(x, coeficientes):\n",
    "    a, b, c = coeficientes\n",
    "    return a * x**2 + b * x + c\n",
    "\n",
    "def error(y, yp):\n",
    "    return np.sum((y - yp)**2)\n",
    "\n",
    "X = np.array([0, 1, 2, 3, 5])\n",
    "Y = np.array([0, 8, 12, 11, 0])\n",
    "rango = np.arange(-10, 11, 0.2)\n",
    "\n",
    "\n",
    "e = np.inf\n",
    "coeficientes = np.random.randint(-10, 10, 3).astype(float)  \n",
    "aprendizaje = 0.01\n",
    "n = 0 \n",
    "\n",
    "while e > 1 and n < 100_000:\n",
    "    nuevos = coeficientes + aprendizaje * np.random.uniform(-1, 1, 3) \n",
    "    y = f(X, nuevos)\n",
    "    ne = error(Y, y)\n",
    "    if ne < e:\n",
    "        e = ne\n",
    "        coeficientes = nuevos\n",
    "    n += 1\n",
    "    if n % 1000 == 0:\n",
    "        print(f\"{n}: Error = {e:.2f}, Coeficientes = {np.round(coeficientes, 2)}\") \n",
    "\n",
    "\n",
    "print(f\"Coeficientes encontrados: a = {coeficientes[0]:.2f}, b = {coeficientes[1]:.2f}, c = {coeficientes[2]:.2f}\")\n",
    "print(\"Coeficientes usando np.polyfit:\", np.round(np.polyfit(X, Y, 2), 2))\n",
    "\n",
    "\n",
    "xr = np.linspace(min(X), max(X), 100)\n",
    "yr = f(xr, coeficientes)\n",
    "\n",
    "plt.plot(xr, yr, label='Curva ajustada', color='blue')\n",
    "plt.plot(X, Y, 'rx', label='Datos originales')\n",
    "plt.xlabel('X')\n",
    "plt.ylabel('Y')\n",
    "plt.title('Ajuste de Regresión Cuadrática')\n",
    "plt.legend()\n",
    "plt.grid()\n",
    "plt.show()"
   ]
  },
  {
   "cell_type": "code",
   "execution_count": 56,
   "metadata": {},
   "outputs": [
    {
     "name": "stdout",
     "output_type": "stream",
     "text": [
      "10000: Error = 0.59, Coeficientes = [-1.95  9.74 -0.02]\n",
      "20000: Error = 0.53, Coeficientes = [-1.92  9.56  0.17]\n",
      "30000: Error = 0.53, Coeficientes = [-1.92  9.55  0.18]\n",
      "40000: Error = 0.53, Coeficientes = [-1.92  9.55  0.18]\n",
      "50000: Error = 0.53, Coeficientes = [-1.92  9.55  0.18]\n",
      "60000: Error = 0.53, Coeficientes = [-1.92  9.55  0.18]\n",
      "70000: Error = 0.53, Coeficientes = [-1.92  9.55  0.18]\n",
      "80000: Error = 0.53, Coeficientes = [-1.92  9.55  0.18]\n",
      "90000: Error = 0.53, Coeficientes = [-1.92  9.55  0.18]\n",
      "100000: Error = 0.53, Coeficientes = [-1.92  9.55  0.18]\n",
      "Coeficientes encontrados: [-1.92  9.55  0.18], Error: 0.53\n",
      "Coeficientes usando np.polyfit: [-1.92  9.55  0.18]\n"
     ]
    },
    {
     "data": {
      "image/png": "[encoded data removed]",
      "text/plain": [
       "<Figure size 640x480 with 1 Axes>"
      ]
     },
     "metadata": {},
     "output_type": "display_data"
    }
   ],
   "source": [
    "import numpy as np\n",
    "import matplotlib.pyplot as plt\n",
    "\n",
    "def f(x, coeficientes):\n",
    "    a, b, c = coeficientes\n",
    "    return a * x**2 + b * x + c\n",
    "\n",
    "def error(y, yp):\n",
    "    return np.sum((y - yp)**2)\n",
    "\n",
    "X = np.array([0, 1, 2, 3, 5], dtype=float)\n",
    "Y = np.array([0, 8, 12, 11, 0], dtype=float)\n",
    "\n",
    "\n",
    "coeficientes = np.random.uniform(-10, 10, 3)  \n",
    "aprendizaje = 0.001  \n",
    "n = 0\n",
    "\n",
    "\n",
    "y = f(X, coeficientes)  \n",
    "\n",
    "while n < 100_000:\n",
    "   \n",
    "    ga = -2 * np.sum((Y - y) * X**2) / len(X)  \n",
    "    gb = -2 * np.sum((Y - y) * X) / len(X)     \n",
    "    gc = -2 * np.sum(Y - y) / len(X)            \n",
    "    gradientes = np.array([ga, gb, gc], dtype=float)  \n",
    "\n",
    "   \n",
    "    coeficientes -= gradientes * aprendizaje\n",
    "\n",
    "    y = f(X, coeficientes)\n",
    "    n += 1\n",
    "\n",
    "  \n",
    "    if n % 10_000 == 0:\n",
    "        print(f\"{n}: Error = {error(Y, y):.2f}, Coeficientes = {np.round(coeficientes, 2)}\")\n",
    "\n",
    "\n",
    "final_error = error(Y, y)\n",
    "print(f\"Coeficientes encontrados: {np.round(coeficientes, 2)}, Error: {final_error:.2f}\")\n",
    "print(\"Coeficientes usando np.polyfit:\", np.round(np.polyfit(X, Y, 2), 2))\n",
    "\n",
    "\n",
    "xr = np.linspace(min(X), max(X), 100)\n",
    "yr = f(xr, coeficientes)\n",
    "\n",
    "plt.plot(xr, yr, label='Curva ajustada', color='blue')\n",
    "plt.plot(X, Y, 'rx', label='Datos originales')\n",
    "plt.xlabel('X')\n",
    "plt.ylabel('Y')\n",
    "plt.title('Ajuste de Curva')\n",
    "plt.legend()\n",
    "plt.grid()\n",
    "plt.show()\n"
   ]
  }
 ],
 "metadata": {
  "kernelspec": {
   "display_name": "Python 3",
   "language": "python",
   "name": "python3"
  },
  "language_info": {
   "codemirror_mode": {
    "name": "ipython",
    "version": 3
   },
   "file_extension": ".py",
   "mimetype": "text/x-python",
   "name": "python",
   "nbconvert_exporter": "python",
   "pygments_lexer": "ipython3",
   "version": "3.12.5"
  }
 },
 "nbformat": 4,
 "nbformat_minor": 2
}
