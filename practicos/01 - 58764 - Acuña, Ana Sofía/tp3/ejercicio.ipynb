{
 "cells": [
  {
   "cell_type": "markdown",
   "metadata": {},
   "source": [
    "#TP3"
   ]
  },
  {
   "cell_type": "markdown",
   "metadata": {},
   "source": [
    "## Ejercicio 1: Cargar Datos de ventas.\n",
    "\n",
    "El archivo datos.dat contiene el registro de las ventas realizadas.\n",
    "\n",
    "Tiene un formato de ancho fijo:\n",
    "- fecha:    10 lugares\n",
    "- producto: 30 lugares\n",
    "- precio:   10 lugares\n",
    "- cantidad:  5 lugares\n",
    "\n",
    "hacer una funcion que carge los en una lista de diccionarios. \n",
    "\n",
    "nota: con \n",
    "```python\n",
    "lineas = open(\"datos.dat\", \"r\").readlines() \n",
    "```\n",
    "puede obtener la lista de string de todos los datos "
   ]
  },
  {
   "cell_type": "code",
   "execution_count": 37,
   "metadata": {},
   "outputs": [
    {
     "name": "stdout",
     "output_type": "stream",
     "text": [
      "{'fecha': '2024-08-27', 'producto': 'Mirinda', 'precio': 1510.0, 'cantidad': 14}\n",
      "{'fecha': '2024-08-27', 'producto': 'Mirinda', 'precio': 1560.0, 'cantidad': 12}\n",
      "{'fecha': '2024-08-28', 'producto': 'Torasso', 'precio': 940.0, 'cantidad': 8}\n",
      "{'fecha': '2024-08-29', 'producto': 'Pepsi Cola', 'precio': 1210.0, 'cantidad': 10}\n",
      "{'fecha': '2024-08-30', 'producto': 'Mirinda', 'precio': 1520.0, 'cantidad': 1}\n",
      "{'fecha': '2024-09-01', 'producto': 'Mirinda', 'precio': 1550.0, 'cantidad': 15}\n",
      "{'fecha': '2024-09-01', 'producto': 'Sprite', 'precio': 810.0, 'cantidad': 4}\n",
      "{'fecha': '2024-09-02', 'producto': 'Coca Cola', 'precio': 1100.0, 'cantidad': 4}\n",
      "{'fecha': '2024-09-02', 'producto': 'Pepsi Cola', 'precio': 1220.0, 'cantidad': 13}\n",
      "{'fecha': '2024-09-02', 'producto': 'Torasso', 'precio': 910.0, 'cantidad': 5}\n",
      "{'fecha': '2024-09-02', 'producto': 'Torasso', 'precio': 920.0, 'cantidad': 3}\n",
      "{'fecha': '2024-09-03', 'producto': 'Coca Cola', 'precio': 1020.0, 'cantidad': 8}\n",
      "{'fecha': '2024-09-03', 'producto': 'Mirinda', 'precio': 1570.0, 'cantidad': 7}\n",
      "{'fecha': '2024-09-03', 'producto': 'Mirinda', 'precio': 1590.0, 'cantidad': 2}\n",
      "{'fecha': '2024-09-04', 'producto': 'Pepsi Cola', 'precio': 1220.0, 'cantidad': 13}\n",
      "{'fecha': '2024-09-05', 'producto': 'Mirinda', 'precio': 1500.0, 'cantidad': 3}\n",
      "{'fecha': '2024-09-05', 'producto': 'Pepsi Cola', 'precio': 1300.0, 'cantidad': 5}\n",
      "{'fecha': '2024-09-06', 'producto': 'Coca Cola', 'precio': 1080.0, 'cantidad': 1}\n",
      "{'fecha': '2024-09-06', 'producto': 'Sprite', 'precio': 860.0, 'cantidad': 12}\n",
      "{'fecha': '2024-09-06', 'producto': 'Torasso', 'precio': 930.0, 'cantidad': 3}\n",
      "{'fecha': '2024-09-07', 'producto': 'Coca Cola', 'precio': 1080.0, 'cantidad': 14}\n",
      "{'fecha': '2024-09-07', 'producto': 'Sprite', 'precio': 870.0, 'cantidad': 13}\n",
      "{'fecha': '2024-09-08', 'producto': 'Coca Cola', 'precio': 1040.0, 'cantidad': 10}\n",
      "{'fecha': '2024-09-08', 'producto': 'Mirinda', 'precio': 1580.0, 'cantidad': 2}\n",
      "{'fecha': '2024-09-08', 'producto': 'Pepsi Cola', 'precio': 1240.0, 'cantidad': 9}\n",
      "{'fecha': '2024-09-09', 'producto': 'Mirinda', 'precio': 1500.0, 'cantidad': 3}\n",
      "{'fecha': '2024-09-09', 'producto': 'Sprite', 'precio': 850.0, 'cantidad': 9}\n",
      "{'fecha': '2024-09-10', 'producto': 'Mirinda', 'precio': 1590.0, 'cantidad': 8}\n",
      "{'fecha': '2024-09-10', 'producto': 'Pepsi Cola', 'precio': 1250.0, 'cantidad': 12}\n",
      "{'fecha': '2024-09-11', 'producto': 'Sprite', 'precio': 810.0, 'cantidad': 6}\n",
      "{'fecha': '2024-09-11', 'producto': 'Sprite', 'precio': 820.0, 'cantidad': 14}\n",
      "{'fecha': '2024-09-12', 'producto': 'Coca Cola', 'precio': 1080.0, 'cantidad': 4}\n",
      "{'fecha': '2024-09-13', 'producto': 'Mirinda', 'precio': 1580.0, 'cantidad': 5}\n",
      "{'fecha': '2024-09-13', 'producto': 'Pepsi Cola', 'precio': 1250.0, 'cantidad': 13}\n",
      "{'fecha': '2024-09-14', 'producto': 'Coca Cola', 'precio': 1080.0, 'cantidad': 15}\n",
      "{'fecha': '2024-09-14', 'producto': 'Pepsi Cola', 'precio': 1270.0, 'cantidad': 14}\n",
      "{'fecha': '2024-09-15', 'producto': 'Coca Cola', 'precio': 1100.0, 'cantidad': 1}\n",
      "{'fecha': '2024-09-15', 'producto': 'Mirinda', 'precio': 1500.0, 'cantidad': 13}\n",
      "{'fecha': '2024-09-15', 'producto': 'Sprite', 'precio': 870.0, 'cantidad': 14}\n",
      "{'fecha': '2024-09-15', 'producto': 'Torasso', 'precio': 900.0, 'cantidad': 13}\n"
     ]
    }
   ],
   "source": [
    "def cargar_datos():\n",
    "    lineas = open(\"datos.dat\", \"r\").readlines()\n",
    "    lista_datos = []\n",
    "    \n",
    "    for linea in lineas:\n",
    "        \n",
    "        registro = {\n",
    "            'fecha': linea[0:10].strip(),  \n",
    "            'producto': linea[10:40].strip(),  \n",
    "            'precio': float(linea[40:50].strip()),  \n",
    "            'cantidad': int(linea[50:55].strip())  \n",
    "        }\n",
    "        \n",
    "        lista_datos.append(registro)\n",
    "    \n",
    "    \n",
    "    return lista_datos\n",
    "\n",
    "datos= cargar_datos()\n",
    "\n",
    "for registro in datos:\n",
    "    print(registro)"
   ]
  },
  {
   "cell_type": "markdown",
   "metadata": {},
   "source": [
    "## Ejercicio 2: Calcular el total de ventas.\n",
    "\n",
    "Hacer una funcion que sume los importes vendidos (precio * cantidad) y las cantidades"
   ]
  },
  {
   "cell_type": "code",
   "execution_count": 38,
   "metadata": {},
   "outputs": [
    {
     "name": "stdout",
     "output_type": "stream",
     "text": [
      "Las ventas fueron de $23400.0 en 335 unidades\n"
     ]
    }
   ],
   "source": [
    "def calcular_totales(datos):\n",
    "\n",
    "    with open(\"datos.dat\", \"r\") as archivo:\n",
    "        lineas = archivo.readlines()\n",
    "        \n",
    "    \n",
    "    lista_datos = []\n",
    "\n",
    "    for linea in lineas:\n",
    "       \n",
    "        registro = {\n",
    "            'fecha': linea[:10].strip(),\n",
    "            'producto': linea[10:40].strip(),\n",
    "            'precio': float(linea[40:50].strip()),\n",
    "            'cantidad': int(linea[50:55].strip())\n",
    "        }\n",
    "        lista_datos.append(registro)\n",
    "\n",
    "    return lista_datos\n",
    "\n",
    "def calcular_totales(datos):\n",
    "    importe = 0\n",
    "    cantidad = 0\n",
    "\n",
    "    for registro in datos:\n",
    "       \n",
    "        importe = registro['precio'] * registro['cantidad']\n",
    "        importe += importe\n",
    "        cantidad += registro['cantidad']\n",
    "\n",
    "    return importe, cantidad\n",
    "\n",
    "\n",
    "importe, cantidad = calcular_totales(datos)\n",
    "print(f\"Las ventas fueron de ${importe} en {cantidad} unidades\")"
   ]
  },
  {
   "cell_type": "markdown",
   "metadata": {},
   "source": [
    "## Ejercicio 3: Listar las unidades vendidas.\n",
    "\n",
    "Listar cuantas unidades se vendieron en total para cada producto"
   ]
  },
  {
   "cell_type": "code",
   "execution_count": 39,
   "metadata": {},
   "outputs": [
    {
     "name": "stdout",
     "output_type": "stream",
     "text": [
      "85 unidades vendidas de Mirinda \n",
      "32 unidades vendidas de Torasso \n",
      "89 unidades vendidas de Pepsi Cola \n",
      "72 unidades vendidas de Sprite \n",
      "57 unidades vendidas de Coca Cola \n"
     ]
    }
   ],
   "source": [
    "def unidades_vendidas(datos):\n",
    "    \n",
    "    ventas = {}\n",
    "    for registro in datos:\n",
    "        producto = registro['producto']\n",
    "        cantidad = registro['cantidad']\n",
    "        \n",
    "        ventas[producto] = ventas.get(producto, 0) + cantidad\n",
    "    return ventas\n",
    "\n",
    "def listar_ventas(ventas):\n",
    "   \n",
    "    for producto, cantidad in ventas.items():\n",
    "        print(f\"{cantidad} unidades vendidas de {producto} \")\n",
    "\n",
    "ventas = unidades_vendidas(datos)\n",
    "\n",
    "listar_ventas(ventas)\n"
   ]
  },
  {
   "cell_type": "markdown",
   "metadata": {},
   "source": [
    "##  Ejercicio 4: Listar el precio promedio por producto.\n",
    "\n",
    "Hacer un listado del precio promedio por productos."
   ]
  },
  {
   "cell_type": "code",
   "execution_count": 40,
   "metadata": {},
   "outputs": [
    {
     "name": "stdout",
     "output_type": "stream",
     "text": [
      " Precio promedio para Mirinda: $1542.12\n",
      " Precio promedio para Torasso: $916.25\n",
      " Precio promedio para Pepsi Cola: $1241.69\n",
      " Precio promedio para Sprite: $847.78\n",
      " Precio promedio para Coca Cola: $1066.32\n"
     ]
    }
   ],
   "source": [
    "def precio_promedio(datos):\n",
    "    suma_precios = {}\n",
    "    conteo_cantidades = {}\n",
    "\n",
    "    \n",
    "    for registro in datos:\n",
    "        producto = registro['producto']\n",
    "        precio = registro['precio']\n",
    "        cantidad = registro['cantidad']\n",
    "\n",
    "        if producto in suma_precios:\n",
    "            suma_precios[producto] += precio * cantidad\n",
    "            conteo_cantidades[producto] += cantidad\n",
    "        else:\n",
    "            suma_precios[producto] = precio * cantidad\n",
    "            conteo_cantidades[producto] = cantidad\n",
    "    \n",
    "    \n",
    "    promedio_precios = {producto: suma_precios[producto] / conteo_cantidades[producto]\n",
    "                        for producto in suma_precios}\n",
    "    \n",
    "    return promedio_precios\n",
    "\n",
    "def listar_precios(precios):\n",
    "   \n",
    "    for producto, precio_promedio in precios.items():\n",
    "        print(f\" Precio promedio para {producto}: ${precio_promedio:.2f}\")\n",
    "\n",
    "\n",
    "precios = precio_promedio(datos)  \n",
    "\n",
    "\n",
    "listar_precios(precios)"
   ]
  },
  {
   "cell_type": "markdown",
   "metadata": {},
   "source": [
    "### Ejercicio 5: Ranking de productos\n",
    "\n",
    "Realizar un listado de los 3 productos mas vendidos ordenados la cantidad de unidades vendidas (ordenadas de mayor a menor)\n"
   ]
  },
  {
   "cell_type": "code",
   "execution_count": 41,
   "metadata": {},
   "outputs": [
    {
     "name": "stdout",
     "output_type": "stream",
     "text": [
      "1. Pepsi Cola: 89 unidades vendidas\n",
      "2. Mirinda: 85 unidades vendidas\n",
      "3. Sprite: 72 unidades vendidas\n"
     ]
    }
   ],
   "source": [
    "def ranking_productos(datos, top=3):\n",
    "\n",
    "    ventas = {}\n",
    "    for registro in datos:\n",
    "        producto = registro['producto']\n",
    "        cantidad = registro['cantidad']\n",
    "        \n",
    "        ventas[producto] = ventas.get(producto, 0) + cantidad\n",
    "\n",
    "   \n",
    "    ranking = sorted(ventas.items(), key=lambda x: x[1], reverse=True)\n",
    "\n",
    "    \n",
    "    return ranking[:top]\n",
    "\n",
    "def listar_ranking(ranking):\n",
    "    \n",
    "    for i, (producto, cantidad) in enumerate(ranking, start=1):\n",
    "        print(f\"{i}. {producto}: {cantidad} unidades vendidas\")\n",
    "\n",
    "ranking = ranking_productos(datos)\n",
    "\n",
    "listar_ranking(ranking)"
   ]
  },
  {
   "cell_type": "markdown",
   "metadata": {},
   "source": [
    "### Ejercicio 6: Listar las ventas por mes\n",
    "\n",
    "Realizar un listado del total de unidades vendidas por productos separada por mes."
   ]
  },
  {
   "cell_type": "code",
   "execution_count": 47,
   "metadata": {},
   "outputs": [
    {
     "ename": "TypeError",
     "evalue": "Ventas() takes no arguments",
     "output_type": "error",
     "traceback": [
      "\u001b[0;31m---------------------------------------------------------------------------\u001b[0m",
      "\u001b[0;31mTypeError\u001b[0m                                 Traceback (most recent call last)",
      "Cell \u001b[0;32mIn[47], line 47\u001b[0m\n\u001b[1;32m     42\u001b[0m             \u001b[38;5;28;01mfor\u001b[39;00m mes, cantidad \u001b[38;5;129;01min\u001b[39;00m meses\u001b[38;5;241m.\u001b[39mitems():\n\u001b[1;32m     43\u001b[0m                 \u001b[38;5;28mprint\u001b[39m(\u001b[38;5;124mf\u001b[39m\u001b[38;5;124m\"\u001b[39m\u001b[38;5;124m  Mes: \u001b[39m\u001b[38;5;132;01m{\u001b[39;00mmes\u001b[38;5;132;01m}\u001b[39;00m\u001b[38;5;124m, Cantidad: \u001b[39m\u001b[38;5;132;01m{\u001b[39;00mcantidad\u001b[38;5;132;01m}\u001b[39;00m\u001b[38;5;124m\"\u001b[39m)\n\u001b[0;32m---> 47\u001b[0m ventas \u001b[38;5;241m=\u001b[39m \u001b[43mVentas\u001b[49m\u001b[43m(\u001b[49m\u001b[38;5;124;43m\"\u001b[39;49m\u001b[38;5;124;43mdatos.dat\u001b[39;49m\u001b[38;5;124;43m\"\u001b[39;49m\u001b[43m)\u001b[49m\n\u001b[1;32m     48\u001b[0m datos \u001b[38;5;241m=\u001b[39m ventas\u001b[38;5;241m.\u001b[39mcargar_datos()\n\u001b[1;32m     49\u001b[0m ventas_por_producto_y_mes \u001b[38;5;241m=\u001b[39m ventas\u001b[38;5;241m.\u001b[39mventas_por_producto_y_mes(datos)\n",
      "\u001b[0;31mTypeError\u001b[0m: Ventas() takes no arguments"
     ]
    }
   ],
   "source": [
    "class Ventas:\n",
    "\n",
    "    def init(self, archivo):\n",
    "        self.archivo = archivo\n",
    "\n",
    "\n",
    "    def cargar_datos(self):\n",
    "        lineas = open(self.archivo, \"r\").readlines()\n",
    "        datos = []\n",
    "\n",
    "        for linea in lineas:\n",
    "            fecha = linea[:10].strip()\n",
    "            producto = linea[10:40].strip()\n",
    "            precio = int(linea[40:50].strip())\n",
    "            cantidad = int(linea[50:].strip())\n",
    "            datos.append({'fecha': fecha, 'producto': producto, 'precio': precio, 'cantidad': cantidad})\n",
    "\n",
    "        return datos\n",
    "\n",
    "    def ventas_por_producto_y_mes(self, datos):\n",
    "        ventas_por_producto_y_mes = {}\n",
    "\n",
    "        for dato in datos:\n",
    "            fecha = dato['fecha']\n",
    "            producto = dato['producto']\n",
    "            cantidad = dato['cantidad']\n",
    "            mes = fecha[3:5]\n",
    "\n",
    "            if producto not in ventas_por_producto_y_mes:\n",
    "                ventas_por_producto_y_mes[producto] = {}\n",
    "\n",
    "            if mes in ventas_por_producto_y_mes[producto]:\n",
    "                ventas_por_producto_y_mes[producto][mes] += cantidad\n",
    "            else:\n",
    "                ventas_por_producto_y_mes[producto][mes] = cantidad\n",
    "\n",
    "        return ventas_por_producto_y_mes\n",
    "\n",
    "    def listar_ventas_por_producto_y_mes(self, ventas):\n",
    "        for producto, meses in ventas.items():\n",
    "            print(f\"Producto: {producto}\")\n",
    "            for mes, cantidad in meses.items():\n",
    "                print(f\"  Mes: {mes}, Cantidad: {cantidad}\")\n",
    "\n",
    "\n",
    "\n",
    "ventas = Ventas(\"datos.dat\")\n",
    "datos = ventas.cargar_datos()\n",
    "ventas_por_producto_y_mes = ventas.ventas_por_producto_y_mes(datos)\n",
    "ventas.listar_ventas_por_producto_y_mes(ventas_por_producto_y_mes)"
   ]
  },
  {
   "cell_type": "markdown",
   "metadata": {},
   "source": [
    "### Ejercicio 7: Informe general\n",
    "\n",
    "Mostrar un listado de productos ordenados alfabeticamente que contengan el precio promedio, la cantidad de unidades vendidas y el importe total vendido para cada producto"
   ]
  },
  {
   "cell_type": "code",
   "execution_count": 44,
   "metadata": {},
   "outputs": [
    {
     "ename": "TypeError",
     "evalue": "Ventas() takes no arguments",
     "output_type": "error",
     "traceback": [
      "\u001b[0;31m---------------------------------------------------------------------------\u001b[0m",
      "\u001b[0;31mTypeError\u001b[0m                                 Traceback (most recent call last)",
      "Cell \u001b[0;32mIn[44], line 104\u001b[0m\n\u001b[1;32m    100\u001b[0m         \u001b[38;5;28mprint\u001b[39m(\u001b[38;5;124m\"\u001b[39m\u001b[38;5;124mPrecio promedio por producto:\u001b[39m\u001b[38;5;124m\"\u001b[39m)\n\u001b[1;32m    101\u001b[0m         listar_precios(datos[\u001b[38;5;124m'\u001b[39m\u001b[38;5;124mprecios\u001b[39m\u001b[38;5;124m'\u001b[39m])\n\u001b[0;32m--> 104\u001b[0m ventas \u001b[38;5;241m=\u001b[39m \u001b[43mVentas\u001b[49m\u001b[43m(\u001b[49m\u001b[38;5;124;43m\"\u001b[39;49m\u001b[38;5;124;43mdatos.dat\u001b[39;49m\u001b[38;5;124;43m\"\u001b[39;49m\u001b[43m)\u001b[49m\n\u001b[1;32m    105\u001b[0m resumen \u001b[38;5;241m=\u001b[39m ventas\u001b[38;5;241m.\u001b[39mresumen_ventas(ventas\u001b[38;5;241m.\u001b[39mdatos)\n\u001b[1;32m    106\u001b[0m ventas\u001b[38;5;241m.\u001b[39minforme_ventas(resumen)\n",
      "\u001b[0;31mTypeError\u001b[0m: Ventas() takes no arguments"
     ]
    }
   ],
   "source": [
    "def calcular_totales(datos):\n",
    "    total_importe = sum(d['precio'] * d['cantidad'] for d in datos)\n",
    "    total_unidades = sum(d['cantidad'] for d in datos)\n",
    "    return total_importe, total_unidades\n",
    "\n",
    "def unidades_vendidas(datos):\n",
    "    productos = {}\n",
    "    for dato in datos:\n",
    "        if dato['producto'] in productos:\n",
    "            productos[dato['producto']] += dato['cantidad']\n",
    "        else:\n",
    "            productos[dato['producto']] = dato['cantidad']\n",
    "    return productos\n",
    "\n",
    "def ventas_por_mes(datos):\n",
    "    ventas = {}\n",
    "    for dato in datos:\n",
    "        mes = dato['fecha'][5:7]\n",
    "        if mes in ventas:\n",
    "            ventas[mes] += dato['cantidad']\n",
    "        else:\n",
    "            ventas[mes] = dato['cantidad']\n",
    "    return ventas\n",
    "\n",
    "def ranking_productos(datos):\n",
    "    productos = unidades_vendidas(datos)\n",
    "    ranking = sorted(productos.items(), key=lambda x: x[1], reverse=True)\n",
    "    return ranking\n",
    "\n",
    "def precio_promedio(datos):\n",
    "    productos = {}\n",
    "    for dato in datos:\n",
    "        if dato['producto'] in productos:\n",
    "            productos[dato['producto']].append(dato['precio'])\n",
    "        else:\n",
    "            productos[dato['producto']] = [dato['precio']]\n",
    "    promedios = {k: sum(v) / len(v) for k, v in productos.items()}\n",
    "    return promedios\n",
    "def listar_ventas(unidades):\n",
    "    for producto, cantidad in unidades.items():\n",
    "        print(f\"{producto}: {cantidad} unidades\")\n",
    "\n",
    "def listar_ventas_mensuales(ventas):\n",
    "    for mes, cantidad in ventas.items():\n",
    "        print(f\"Mes {mes}: {cantidad} unidades\")\n",
    "\n",
    "def listar_ranking(ranking):\n",
    "    for producto, cantidad in ranking:\n",
    "        print(f\"{producto}: {cantidad} unidades\")\n",
    "\n",
    "def listar_precios(precios):\n",
    "    for producto, precio in precios.items():\n",
    "        print(f\"{producto}: ${precio:.2f}\")\n",
    "\n",
    "class Ventas:\n",
    "    def _init_(self, archivo):\n",
    "        self.archivo = archivo\n",
    "        self.datos = self.cargar_datos()\n",
    "\n",
    "    def cargar_datos(self):\n",
    "        lineas = open(self.archivo, \"r\").readlines()\n",
    "        datos = []\n",
    "        for linea in lineas:\n",
    "            fecha = linea[:10].strip()\n",
    "            producto = linea[10:40].strip()\n",
    "            precio = int(linea[40:50].strip())\n",
    "            cantidad = int(linea[50:].strip())\n",
    "            datos.append({'fecha': fecha, 'producto': producto, 'precio': precio, 'cantidad': cantidad})\n",
    "        return datos\n",
    "\n",
    "    def resumen_ventas(self, datos):\n",
    "        lineas = open(self.archivo, \"r\").readlines()\n",
    "        datos = []\n",
    "        for linea in lineas:\n",
    "            fecha = linea[:10].strip()\n",
    "            producto = linea[10:40].strip()\n",
    "            precio = int(linea[40:50].strip())\n",
    "            cantidad = int(linea[50:].strip())\n",
    "            datos.append({'fecha': fecha, 'producto': producto, 'precio': precio, 'cantidad': cantidad})\n",
    "\n",
    "        resumen = {}\n",
    "        resumen['totales'] = calcular_totales(datos)\n",
    "        resumen['unidades'] = unidades_vendidas(datos)\n",
    "        resumen['ventas'] = ventas_por_mes(datos)\n",
    "        resumen['ranking'] = ranking_productos(datos)\n",
    "        resumen['precios'] = precio_promedio(datos)\n",
    "        return resumen\n",
    "    \n",
    "    def informe_ventas(self, datos):\n",
    "        print(f\"Ventas totales: ${datos['totales'][0]:.2f} en {datos['totales'][1]} unidades\\n\")\n",
    "        print(\"Unidades vendidas por producto:\")\n",
    "        listar_ventas(datos['unidades'])\n",
    "        print(\"\\n\")\n",
    "        print(\"Ventas por mes:\")\n",
    "        listar_ventas_mensuales(datos['ventas'])\n",
    "        print(\"\\n\")\n",
    "        print(\"Ranking de productos:\")\n",
    "        listar_ranking(datos['ranking'])\n",
    "        print(\"\\n\")\n",
    "        print(\"Precio promedio por producto:\")\n",
    "        listar_precios(datos['precios'])\n",
    "\n",
    "\n",
    "ventas = Ventas(\"datos.dat\")\n",
    "resumen = ventas.resumen_ventas(ventas.datos)\n",
    "ventas.informe_ventas(resumen)"
   ]
  }
 ],
 "metadata": {
  "kernelspec": {
   "display_name": "Python 3",
   "language": "python",
   "name": "python3"
  },
  "language_info": {
   "codemirror_mode": {
    "name": "ipython",
    "version": 3
   },
   "file_extension": ".py",
   "mimetype": "text/x-python",
   "name": "python",
   "nbconvert_exporter": "python",
   "pygments_lexer": "ipython3",
   "version": "3.12.5"
  }
 },
 "nbformat": 4,
 "nbformat_minor": 2
}
