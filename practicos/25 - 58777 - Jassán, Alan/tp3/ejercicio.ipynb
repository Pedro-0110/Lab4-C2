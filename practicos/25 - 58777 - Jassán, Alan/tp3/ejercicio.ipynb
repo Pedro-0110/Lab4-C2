{
 "cells": [
  {
   "cell_type": "markdown",
   "metadata": {},
   "source": [
    "#TP3"
   ]
  },
  {
   "cell_type": "markdown",
   "metadata": {},
   "source": [
    "## Ejercicio 1: Cargar Datos de ventas.\n",
    "\n",
    "El archivo datos.dat contiene el registro de las ventas realizadas.\n",
    "\n",
    "Tiene un formato de ancho fijo:\n",
    "- fecha:    10 lugares\n",
    "- producto: 30 lugares\n",
    "- precio:   10 lugares\n",
    "- cantidad:  5 lugares\n",
    "\n",
    "hacer una funcion que carge los en una lista de diccionarios. \n",
    "\n",
    "nota: con \n",
    "```python\n",
    "lineas = open(\"datos.dat\", \"r\").readlines() \n",
    "```\n",
    "puede obtener la lista de string de todos los datos "
   ]
  },
  {
   "cell_type": "code",
   "execution_count": 35,
   "metadata": {},
   "outputs": [
    {
     "name": "stdout",
     "output_type": "stream",
     "text": [
      "[{'fecha': '2024-08-27', 'producto': 'Mirinda', 'precio': 1510.0, 'cantidad': 14}, {'fecha': '2024-08-27', 'producto': 'Mirinda', 'precio': 1560.0, 'cantidad': 12}, {'fecha': '2024-08-28', 'producto': 'Torasso', 'precio': 940.0, 'cantidad': 8}, {'fecha': '2024-08-29', 'producto': 'Pepsi Cola', 'precio': 1210.0, 'cantidad': 10}, {'fecha': '2024-08-30', 'producto': 'Mirinda', 'precio': 1520.0, 'cantidad': 1}, {'fecha': '2024-09-01', 'producto': 'Mirinda', 'precio': 1550.0, 'cantidad': 15}, {'fecha': '2024-09-01', 'producto': 'Sprite', 'precio': 810.0, 'cantidad': 4}, {'fecha': '2024-09-02', 'producto': 'Coca Cola', 'precio': 1100.0, 'cantidad': 4}, {'fecha': '2024-09-02', 'producto': 'Pepsi Cola', 'precio': 1220.0, 'cantidad': 13}, {'fecha': '2024-09-02', 'producto': 'Torasso', 'precio': 910.0, 'cantidad': 5}, {'fecha': '2024-09-02', 'producto': 'Torasso', 'precio': 920.0, 'cantidad': 3}, {'fecha': '2024-09-03', 'producto': 'Coca Cola', 'precio': 1020.0, 'cantidad': 8}, {'fecha': '2024-09-03', 'producto': 'Mirinda', 'precio': 1570.0, 'cantidad': 7}, {'fecha': '2024-09-03', 'producto': 'Mirinda', 'precio': 1590.0, 'cantidad': 2}, {'fecha': '2024-09-04', 'producto': 'Pepsi Cola', 'precio': 1220.0, 'cantidad': 13}, {'fecha': '2024-09-05', 'producto': 'Mirinda', 'precio': 1500.0, 'cantidad': 3}, {'fecha': '2024-09-05', 'producto': 'Pepsi Cola', 'precio': 1300.0, 'cantidad': 5}, {'fecha': '2024-09-06', 'producto': 'Coca Cola', 'precio': 1080.0, 'cantidad': 1}, {'fecha': '2024-09-06', 'producto': 'Sprite', 'precio': 860.0, 'cantidad': 12}, {'fecha': '2024-09-06', 'producto': 'Torasso', 'precio': 930.0, 'cantidad': 3}, {'fecha': '2024-09-07', 'producto': 'Coca Cola', 'precio': 1080.0, 'cantidad': 14}, {'fecha': '2024-09-07', 'producto': 'Sprite', 'precio': 870.0, 'cantidad': 13}, {'fecha': '2024-09-08', 'producto': 'Coca Cola', 'precio': 1040.0, 'cantidad': 10}, {'fecha': '2024-09-08', 'producto': 'Mirinda', 'precio': 1580.0, 'cantidad': 2}, {'fecha': '2024-09-08', 'producto': 'Pepsi Cola', 'precio': 1240.0, 'cantidad': 9}, {'fecha': '2024-09-09', 'producto': 'Mirinda', 'precio': 1500.0, 'cantidad': 3}, {'fecha': '2024-09-09', 'producto': 'Sprite', 'precio': 850.0, 'cantidad': 9}, {'fecha': '2024-09-10', 'producto': 'Mirinda', 'precio': 1590.0, 'cantidad': 8}, {'fecha': '2024-09-10', 'producto': 'Pepsi Cola', 'precio': 1250.0, 'cantidad': 12}, {'fecha': '2024-09-11', 'producto': 'Sprite', 'precio': 810.0, 'cantidad': 6}, {'fecha': '2024-09-11', 'producto': 'Sprite', 'precio': 820.0, 'cantidad': 14}, {'fecha': '2024-09-12', 'producto': 'Coca Cola', 'precio': 1080.0, 'cantidad': 4}, {'fecha': '2024-09-13', 'producto': 'Mirinda', 'precio': 1580.0, 'cantidad': 5}, {'fecha': '2024-09-13', 'producto': 'Pepsi Cola', 'precio': 1250.0, 'cantidad': 13}, {'fecha': '2024-09-14', 'producto': 'Coca Cola', 'precio': 1080.0, 'cantidad': 15}, {'fecha': '2024-09-14', 'producto': 'Pepsi Cola', 'precio': 1270.0, 'cantidad': 14}, {'fecha': '2024-09-15', 'producto': 'Coca Cola', 'precio': 1100.0, 'cantidad': 1}, {'fecha': '2024-09-15', 'producto': 'Mirinda', 'precio': 1500.0, 'cantidad': 13}, {'fecha': '2024-09-15', 'producto': 'Sprite', 'precio': 870.0, 'cantidad': 14}, {'fecha': '2024-09-15', 'producto': 'Torasso', 'precio': 900.0, 'cantidad': 13}]\n"
     ]
    }
   ],
   "source": [
    "def cargar_datos():\n",
    "    datos = []\n",
    "    lineas = open(\"datos.dat\", \"r\").readlines()\n",
    "\n",
    "    for linea in lineas:\n",
    "        fecha = linea[:10].strip()\n",
    "        producto = linea[10:40].strip()\n",
    "        precio = float(linea[40:50])\n",
    "        cantidad = int(linea[50:55])\n",
    "\n",
    "        diccionario = {\n",
    "            \"fecha\": fecha,\n",
    "            \"producto\": producto,\n",
    "            \"precio\": precio,\n",
    "            \"cantidad\": cantidad\n",
    "        }\n",
    "\n",
    "        datos.append(diccionario) # Añadir en \"lista de diccionarios\"\n",
    "    return datos\n",
    "\n",
    "datos = cargar_datos()\n",
    "print(datos)"
   ]
  },
  {
   "cell_type": "markdown",
   "metadata": {},
   "source": [
    "## Ejercicio 2: Calcular el total de ventas.\n",
    "\n",
    "Hacer una funcion que sume los importes vendidos (precio * cantidad) y las cantidades"
   ]
  },
  {
   "cell_type": "code",
   "execution_count": 86,
   "metadata": {},
   "outputs": [
    {
     "name": "stdout",
     "output_type": "stream",
     "text": [
      "Las ventas fueron de $392730.00 en 335 unidades\n"
     ]
    }
   ],
   "source": [
    "def calcular_totales(datos):\n",
    "    importe = 0\n",
    "    cantidad_total = 0\n",
    "\n",
    "    for dato in datos:\n",
    "        precio = dato[\"precio\"]\n",
    "        cantidad = dato[\"cantidad\"]\n",
    "        importe += precio * cantidad\n",
    "        cantidad_total += cantidad\n",
    "\n",
    "    return importe, cantidad_total\n",
    "\n",
    "importe, cantidad_total = calcular_totales(datos)\n",
    "\n",
    "print(f\"Las ventas fueron de ${importe:.2f} en {cantidad_total} unidades\")"
   ]
  },
  {
   "cell_type": "markdown",
   "metadata": {},
   "source": [
    "## Ejercicio 3: Listar las unidades vendidas.\n",
    "\n",
    "Listar cuantas unidades se vendieron en total para cada producto"
   ]
  },
  {
   "cell_type": "code",
   "execution_count": 36,
   "metadata": {},
   "outputs": [
    {
     "name": "stdout",
     "output_type": "stream",
     "text": [
      "Mirinda: 85 unidades\n",
      "Torasso: 32 unidades\n",
      "Pepsi Cola: 89 unidades\n",
      "Sprite: 72 unidades\n",
      "Coca Cola: 57 unidades\n"
     ]
    }
   ],
   "source": [
    "def unidades_vendidas(datos):\n",
    "    unidades = {}\n",
    "\n",
    "    for dato in datos:\n",
    "        producto = dato[\"producto\"]\n",
    "        cantidad = dato[\"cantidad\"]\n",
    "\n",
    "        if producto in unidades:\n",
    "            unidades[producto] += cantidad\n",
    "        else:\n",
    "            unidades[producto] = cantidad\n",
    "    return unidades\n",
    "\n",
    "def listar_ventas(unidades):\n",
    "    for producto in unidades.keys():\n",
    "        cantidad = unidades[producto]\n",
    "        print(f\"{producto}: {cantidad} unidades\")\n",
    "        \n",
    "unidades = unidades_vendidas(datos)\n",
    "listar_ventas(unidades)"
   ]
  },
  {
   "cell_type": "markdown",
   "metadata": {},
   "source": [
    "##  Ejercicio 4: Listar el precio promedio por producto.\n",
    "\n",
    "Hacer un listado del precio promedio por productos."
   ]
  },
  {
   "cell_type": "code",
   "execution_count": 55,
   "metadata": {},
   "outputs": [
    {
     "name": "stdout",
     "output_type": "stream",
     "text": [
      "Mirinda: $1542.12\n",
      "Torasso: $916.25\n",
      "Pepsi Cola: $1241.69\n",
      "Sprite: $847.78\n",
      "Coca Cola: $1066.32\n"
     ]
    }
   ],
   "source": [
    "def precio_promedio(datos):\n",
    "    precio_total = {}\n",
    "    cantidad_total = {}\n",
    "\n",
    "    for dato in datos:\n",
    "        producto = dato[\"producto\"]\n",
    "        precio = dato[\"precio\"]\n",
    "        cantidad = dato[\"cantidad\"]\n",
    "\n",
    "        if producto in precio_total:\n",
    "            precio_total[producto] += precio * cantidad\n",
    "            cantidad_total[producto] += cantidad\n",
    "        else:\n",
    "            precio_total[producto] = precio * cantidad\n",
    "            cantidad_total[producto] = cantidad\n",
    "\n",
    "    promedio = {producto: precio_total[producto] / cantidad_total[producto] for producto in precio_total}\n",
    "\n",
    "    return promedio\n",
    "\n",
    "def listar_precios(precios):\n",
    "    for producto in precios.keys():\n",
    "        precio_promedio = precios[producto]\n",
    "        print(f\"{producto}: ${precio_promedio:.2f}\")\n",
    "\n",
    "precios = precio_promedio(datos)\n",
    "listar_precios(precios)"
   ]
  },
  {
   "cell_type": "markdown",
   "metadata": {},
   "source": [
    "### Ejercicio 5: Ranking de productos\n",
    "\n",
    "Realizar un listado de los 3 productos mas vendidos ordenados la cantidad de unidades vendidas (ordenadas de mayor a menor)\n"
   ]
  },
  {
   "cell_type": "code",
   "execution_count": 71,
   "metadata": {},
   "outputs": [
    {
     "name": "stdout",
     "output_type": "stream",
     "text": [
      "[1] Pepsi Cola: 89 unidades\n",
      "[2] Mirinda: 85 unidades\n",
      "[3] Sprite: 72 unidades\n"
     ]
    }
   ],
   "source": [
    "def ranking_productos(datos, top=3):\n",
    "    unidades = {}\n",
    "\n",
    "    for dato in datos:\n",
    "        producto = dato[\"producto\"]\n",
    "        cantidad = dato[\"cantidad\"]\n",
    "\n",
    "        if producto in unidades:\n",
    "            unidades[producto] += cantidad\n",
    "        else:\n",
    "            unidades[producto] = cantidad\n",
    "\n",
    "    unidades_ordenadas = list(unidades.items())\n",
    "\n",
    "    n = len(unidades_ordenadas) # n es el total de productos (sin repetir) existentes\n",
    "    for i in range(n):\n",
    "        mayor = i\n",
    "        for j in range(i + 1, n):\n",
    "            if unidades_ordenadas[j][1] > unidades_ordenadas[mayor][1]: # En 1 se tiene la cantidad\n",
    "                mayor = j\n",
    "        # Intercambio las unidades para ordenarlas\n",
    "        unidades_ordenadas[i], unidades_ordenadas[mayor] = unidades_ordenadas[mayor], unidades_ordenadas[i]\n",
    "    return unidades_ordenadas[:top]\n",
    "\n",
    "def listar_ranking(ranking):\n",
    "    i = 1\n",
    "    for unidad in ranking:\n",
    "        producto, cantidad = unidad\n",
    "        print(f\"[{i}] {producto}: {cantidad} unidades\")\n",
    "        i += 1\n",
    "\n",
    "ranking = ranking_productos(datos)\n",
    "listar_ranking(ranking)"
   ]
  },
  {
   "cell_type": "markdown",
   "metadata": {},
   "source": [
    "### Ejercicio 6: Listar las ventas por mes\n",
    "\n",
    "Realizar un listado del total de unidades vendidas por productos separada por mes."
   ]
  },
  {
   "cell_type": "code",
   "execution_count": 85,
   "metadata": {},
   "outputs": [
    {
     "name": "stdout",
     "output_type": "stream",
     "text": [
      "Mes: 08\n",
      "Mirinda: 27 unidades\n",
      "Torasso: 8 unidades\n",
      "Pepsi Cola: 10 unidades\n",
      "\n",
      "Mes: 09\n",
      "Mirinda: 58 unidades\n",
      "Sprite: 72 unidades\n",
      "Coca Cola: 57 unidades\n",
      "Pepsi Cola: 79 unidades\n",
      "Torasso: 24 unidades\n",
      "\n"
     ]
    }
   ],
   "source": [
    "def ventas_por_mes(datos):\n",
    "    ventas = {}\n",
    "\n",
    "    for dato in datos:\n",
    "        fecha = dato[\"fecha\"]\n",
    "        producto = dato[\"producto\"]\n",
    "        cantidad = dato[\"cantidad\"]\n",
    "\n",
    "        separar_fecha = fecha.split(\"-\")\n",
    "        mes = separar_fecha[1]\n",
    "        # Aquí podría traducirse el mes creando un diccionario\n",
    "\n",
    "        if mes not in ventas:\n",
    "            ventas[mes] = {}\n",
    "\n",
    "        if producto in ventas[mes]:\n",
    "            ventas[mes][producto] += cantidad\n",
    "        else:\n",
    "            ventas[mes][producto] = cantidad\n",
    "            \n",
    "    return ventas\n",
    "\n",
    "def listar_ventas_mensuales(ventas):\n",
    "    for mes in ventas:\n",
    "        print(f\"Mes: {mes}\")\n",
    "        for producto in ventas[mes].keys():\n",
    "            cantidad = ventas[mes][producto]\n",
    "            print(f\"{producto}: {cantidad} unidades\")\n",
    "        print()\n",
    "ventas = ventas_por_mes(datos)\n",
    "listar_ventas_mensuales(ventas)"
   ]
  },
  {
   "cell_type": "markdown",
   "metadata": {},
   "source": [
    "### Ejercicio 7: Informe general\n",
    "\n",
    "Mostrar un listado de productos ordenados alfabeticamente que contengan el precio promedio, la cantidad de unidades vendidas y el importe total vendido para cada producto"
   ]
  },
  {
   "cell_type": "code",
   "execution_count": 135,
   "metadata": {},
   "outputs": [
    {
     "name": "stdout",
     "output_type": "stream",
     "text": [
      "Producto                       Precio Promedio      Cantidad unidades vendidas     Importe total       \n",
      "Coca Cola                          $150.53                     57                    $60780             \n",
      "Mirinda                            $218.24                     85                    $131080            \n",
      "Pepsi Cola                         $111.91                     89                    $110510            \n",
      "Sprite                             $81.81                      72                    $61040             \n",
      "Torasso                            $143.75                     32                    $29320             \n"
     ]
    }
   ],
   "source": [
    "def resumen_ventas(datos):\n",
    "    resumen = {}\n",
    "\n",
    "    for dato in datos:\n",
    "        producto = dato[\"producto\"]\n",
    "        precio = dato[\"precio\"]\n",
    "        cantidad = dato[\"cantidad\"]\n",
    "\n",
    "        if producto not in resumen: # Inicializa\n",
    "            resumen[producto] = {\n",
    "                \"precio_total\": 0,\n",
    "                \"cantidad_total\": 0,\n",
    "                \"importe\": 0\n",
    "            }\n",
    "        \n",
    "        importe = precio * cantidad\n",
    "        resumen[producto][\"precio_total\"] += precio\n",
    "        resumen[producto][\"cantidad_total\"] += cantidad\n",
    "        resumen[producto][\"importe\"] += importe\n",
    "\n",
    "    for producto in resumen: # Promedio\n",
    "        precio_total = resumen[producto][\"precio_total\"]\n",
    "        cantidad_total = resumen[producto][\"cantidad_total\"]\n",
    "        if cantidad_total > 0:\n",
    "            resumen[producto][\"promedio\"] = precio_total / cantidad_total\n",
    "    return resumen\n",
    "\n",
    "def informe_ventas(resumen):\n",
    "    productos_ordenados = sorted(resumen.keys()) # Ordenar alfabeticamente\n",
    "\n",
    "    # Utilizo format para acomodar visualmente la \"tabla\"\n",
    "    print(\"{:<30} {:<20} {:<30} {:<20}\".format(\"Producto\", \"Precio Promedio\", \"Cantidad unidades vendidas\", \"Importe total\"))\n",
    "    for producto in productos_ordenados:\n",
    "        datos_producto = resumen[producto]\n",
    "        promedio = datos_producto[\"promedio\"]\n",
    "        cantidad_total = datos_producto[\"cantidad_total\"]\n",
    "        importe = datos_producto[\"importe\"]\n",
    "        print(\"{:<34} ${:<26.2f} {:<21} ${:<18.0f}\".format(producto, promedio, cantidad_total, importe)) \n",
    "\n",
    "resumen = resumen_ventas(datos)\n",
    "informe_ventas(resumen)\n"
   ]
  }
 ],
 "metadata": {
  "kernelspec": {
   "display_name": "Python 3",
   "language": "python",
   "name": "python3"
  },
  "language_info": {
   "codemirror_mode": {
    "name": "ipython",
    "version": 3
   },
   "file_extension": ".py",
   "mimetype": "text/x-python",
   "name": "python",
   "nbconvert_exporter": "python",
   "pygments_lexer": "ipython3",
   "version": "3.12.5"
  }
 },
 "nbformat": 4,
 "nbformat_minor": 2
}
