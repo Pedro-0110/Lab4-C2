{
 "cells": [
  {
   "cell_type": "markdown",
   "metadata": {},
   "source": [
    "# Simulación del Truco"
   ]
  },
  {
   "cell_type": "markdown",
   "metadata": {},
   "source": [
    "Las **cartas** deben registra el numero, palo y valor de la carta. \n",
    "El valor debe reflejar la jerarquía de las cartas en el juego del truco."
   ]
  },
  {
   "cell_type": "code",
   "execution_count": 70,
   "metadata": {},
   "outputs": [
    {
     "name": "stdout",
     "output_type": "stream",
     "text": [
      "1 de oro vale = 8\n"
     ]
    }
   ],
   "source": [
    "def calcular_valor(numero, palo):\n",
    "    jerarquía = {\n",
    "    (1,\"espada\"): 14, (1,\"basto\"): 13, (7,\"espada\"): 12, (7,\"oro\"): 11, \n",
    "    (3,\"espada\"): 10, (3,\"basto\"): 10, (3,\"oro\"): 10, (3,\"copa\"): 10,\n",
    "    (2,\"espada\"): 9, (2,\"basto\"): 9, (2,\"oro\"): 9, (2,\"copa\"): 9,\n",
    "    (1,\"oro\"): 8, (1,\"copa\"): 8,\n",
    "    (12,\"espada\"): 7, (12,\"basto\"): 7, (12,\"oro\"): 7, (12,\"copa\"): 7,\n",
    "    (11,\"espada\"): 6, (11,\"basto\"): 6, (11,\"oro\"): 6, (11,\"copa\"): 6,\n",
    "    (10,\"espada\"): 5, (10,\"basto\"): 5, (10,\"oro\"): 5, (10,\"copa\"): 5,\n",
    "    (7,\"basto\"): 4, (7,\"copa\"): 4,\n",
    "    (6,\"espada\"): 3, (6,\"basto\"): 3, (6,\"oro\"): 3, (6,\"copa\"): 3,\n",
    "    (5,\"espada\"): 2, (5,\"basto\"): 2, (5,\"oro\"): 2, (5,\"copa\"): 2,\n",
    "    (4,\"espada\"): 1, (4,\"basto\"): 1, (4,\"oro\"): 1, (4,\"copa\"): 1,\n",
    "    }\n",
    "    return jerarquía.get((numero, palo), 0)\n",
    "\n",
    "class Carta:\n",
    "    def __init__(self, numero, palo):\n",
    "        self.numero = numero\n",
    "        self.palo = palo\n",
    "        self.valor = calcular_valor(numero, palo)\n",
    "\n",
    "    def __str__(self):\n",
    "        return f\"{self.numero} de {self.palo} vale = {self.valor}\"\n",
    "    \n",
    "c = Carta(1, \"oro\")\n",
    "print(c)"
   ]
  },
  {
   "cell_type": "markdown",
   "metadata": {},
   "source": [
    "**Mazo**: Representan las cartas españolas de 1 al 12, en los palos de oro, copa, espada y basto.\n",
    "\n",
    "Debe existir una función que permita barajar las cartas.\n",
    "y otra función que permita repartir las cartas a los jugadores."
   ]
  },
  {
   "cell_type": "code",
   "execution_count": 88,
   "metadata": {},
   "outputs": [
    {
     "name": "stdout",
     "output_type": "stream",
     "text": [
      "1 de espada vale = 14\n",
      "11 de copa vale = 6\n",
      "7 de oro vale = 11\n"
     ]
    }
   ],
   "source": [
    "import random\n",
    "\n",
    "class Mazo:\n",
    "    def __init__(self):\n",
    "        self.nuevo_mazo() # Para solucionar problema al faltar cartas para mezclar\n",
    "\n",
    "    def nuevo_mazo(self):\n",
    "        self.cartas = [Carta(numero, palo) \n",
    "                       for numero in range(1, 13) \n",
    "                       if numero != 8 and numero != 9\n",
    "                       for palo in [\"espada\", \"basto\", \"oro\", \"copa\"]]\n",
    "        \n",
    "    def mezclar(self):\n",
    "        random.shuffle(self.cartas)\n",
    "\n",
    "    def repartir(self, cantidad):\n",
    "        if len(self.cartas) < cantidad:\n",
    "            self.nuevo_mazo()\n",
    "            self.mezclar()\n",
    "        return [self.cartas.pop()\n",
    "                for _ in range(cantidad)]\n",
    "\n",
    "m = Mazo()\n",
    "m.mezclar()\n",
    "mano = m.repartir(3)\n",
    "\n",
    "for carta in mano:\n",
    "    print(carta)"
   ]
  },
  {
   "cell_type": "markdown",
   "metadata": {},
   "source": [
    "**Jugador**: Deben tener un nombre y las cartas que tiene en la mano. Debe acumular los puntos ganados.\n",
    "\n",
    "Nota: Para simplificar el problema, el jugador elige la carta a jugar de forma aleatoria."
   ]
  },
  {
   "cell_type": "code",
   "execution_count": 96,
   "metadata": {},
   "outputs": [
    {
     "name": "stdout",
     "output_type": "stream",
     "text": [
      "Juan jugó 5 de espada vale = 2\n"
     ]
    }
   ],
   "source": [
    "class Jugador:\n",
    "    def __init__(self, nombre):\n",
    "        self.nombre = nombre\n",
    "        self.cartas = []\n",
    "        self.puntos = 0\n",
    "        \n",
    "    def recibir_cartas(self, cartas):\n",
    "        self.cartas = cartas\n",
    "    \n",
    "    def jugar_carta(self):\n",
    "        mano_actual = random.choice(self.cartas)\n",
    "        self.cartas.remove(mano_actual)\n",
    "        self.puntos += mano_actual.valor\n",
    "        return mano_actual\n",
    "\n",
    "j = Jugador(\"Juan\")\n",
    "j.recibir_cartas(m.repartir(3))\n",
    "mano_actual = j.jugar_carta()\n",
    "print(f\"{j.nombre} jugó {mano_actual}\")"
   ]
  },
  {
   "cell_type": "markdown",
   "metadata": {},
   "source": [
    "**Partida**: Debe tener dos jugadores, un mazo de cartas y un puntaje. Debe permitir jugar una carta por ronda y definir el ganador de la ronda. Debe permitir jugar hasta que se terminen las cartas del mazo."
   ]
  },
  {
   "cell_type": "code",
   "execution_count": 157,
   "metadata": {},
   "outputs": [
    {
     "name": "stdout",
     "output_type": "stream",
     "text": [
      "Gana Juan por ser mano!\n",
      "Gana Pedro por ser mano!\n",
      "Gana Juan por ser mano!\n",
      "Gana Pedro por ser mano!\n",
      "Gana Pedro por ser mano!\n",
      "Gana Juan por ser mano!\n",
      "Pedro gana la ronda\n",
      "Gana Juan por ser mano!\n",
      "Gana Juan por ser mano!\n",
      "Gana Juan por ser mano!\n",
      "Juan gana la ronda\n",
      "Gana Juan por ser mano!\n",
      "Gana Pedro por ser mano!\n",
      "Gana Juan por ser mano!\n",
      "Gana Juan por ser mano!\n",
      "Gana Pedro por ser mano!\n",
      "Gana Pedro por ser mano!\n",
      "Juan gana la ronda\n",
      "Pedro gana la ronda\n",
      "Gana Juan por ser mano!\n",
      "Juan gana la ronda\n",
      "Pedro gana la ronda\n",
      "Gana Juan por ser mano!\n",
      "Juan gana la ronda\n",
      "El ganador de la partida es Juan\n"
     ]
    }
   ],
   "source": [
    "class Partida:\n",
    "    def __init__(self, jugador1, jugador2):\n",
    "        self.jugador1 = jugador1\n",
    "        self.jugador2 = jugador2\n",
    "        self.mazo = Mazo()\n",
    "        self.puntaje = {jugador1.nombre: 0, jugador2.nombre: 0}\n",
    "\n",
    "    def jugar_ronda(self):\n",
    "        self.mazo.mezclar()\n",
    "        self.jugador1.recibir_cartas(self.mazo.repartir(3))\n",
    "        self.jugador2.recibir_cartas(self.mazo.repartir(3))\n",
    "\n",
    "        mano_jugadores = {self.jugador1.nombre: [], self.jugador2.nombre: []} # Almacena las cartas de cada jugador\n",
    "        for jugador in (self.jugador1, self.jugador2):\n",
    "            mano_jugadores[jugador.nombre] = [jugador.jugar_carta() for _ in range(3)]\n",
    "        \n",
    "        # Contar cuantas cartas de un jugador son mayores a las cartas del otro jugador\n",
    "        gana_jugador1 = sum(carta.valor > max(carta.valor for carta in mano_jugadores[self.jugador2.nombre]) \n",
    "                                              for carta in mano_jugadores[self.jugador1.nombre])\n",
    "        gana_jugador2 = sum(carta.valor > max(carta.valor for carta in mano_jugadores[self.jugador1.nombre]) \n",
    "                                              for carta in mano_jugadores[self.jugador2.nombre])\n",
    "        \n",
    "        primer_jugador = random.choice([self.jugador1, self.jugador2])\n",
    "\n",
    "        if gana_jugador1 >= 2:\n",
    "            self.puntaje[self.jugador1.nombre] += 1\n",
    "            print(f\"{self.jugador1.nombre} gana la ronda\")\n",
    "        elif gana_jugador2 >= 2:\n",
    "            print(f\"{self.jugador2.nombre} gana la ronda\")\n",
    "        else:\n",
    "            # Debe ganar quien sea mano, decidí que sea random quien tirara para no complicar el código\n",
    "            self.puntaje[primer_jugador.nombre] += 1\n",
    "            print(f\"Gana {primer_jugador.nombre} por ser mano!\") \n",
    "\n",
    "    def jugar(self):\n",
    "        while self.puntaje[self.jugador1.nombre] < 15 and self.puntaje[self.jugador2.nombre] < 15:\n",
    "            self.jugar_ronda()\n",
    "\n",
    "        ganador = self.jugador1.nombre if self.puntaje[self.jugador1.nombre] >= 15 else self.jugador2.nombre\n",
    "        print(f\"El ganador de la partida es {ganador}\")\n",
    "\n",
    "p = Partida(Jugador(\"Juan\"), Jugador(\"Pedro\"))\n",
    "p.jugar()"
   ]
  }
 ],
 "metadata": {
  "kernelspec": {
   "display_name": "Python 3",
   "language": "python",
   "name": "python3"
  },
  "language_info": {
   "codemirror_mode": {
    "name": "ipython",
    "version": 3
   },
   "file_extension": ".py",
   "mimetype": "text/x-python",
   "name": "python",
   "nbconvert_exporter": "python",
   "pygments_lexer": "ipython3",
   "version": "3.12.5"
  }
 },
 "nbformat": 4,
 "nbformat_minor": 2
}
