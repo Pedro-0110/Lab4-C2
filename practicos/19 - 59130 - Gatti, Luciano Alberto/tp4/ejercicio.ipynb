{
 "cells": [
  {
   "cell_type": "markdown",
   "metadata": {},
   "source": [
    "# Simulación del Truco"
   ]
  },
  {
   "cell_type": "markdown",
   "metadata": {},
   "source": [
    "Las **cartas** deben registra el numero, palo y valor de la carta. \n",
    "El valor debe reflejar la jerarquía de las cartas en el juego del truco."
   ]
  },
  {
   "cell_type": "code",
   "execution_count": 286,
   "metadata": {},
   "outputs": [
    {
     "name": "stdout",
     "output_type": "stream",
     "text": [
      " El 1 de espada tiene un valor de: 14\n"
     ]
    }
   ],
   "source": [
    "def calcular_valor(numero, palo):\n",
    "    jerarquia = {\n",
    "        ('1', 'espada'): 14, ('1', 'basto'): 13, ('7', 'espada'): 12, ('7', 'oro'): 11,\n",
    "        ('3', 'oro'): 10, ('3', 'copa'): 10, ('3', 'espada'): 10, ('3', 'basto'): 10,\n",
    "        ('2', 'oro'): 9, ('2', 'copa'): 9, ('2', 'espada'): 9, ('2', 'basto'): 9,\n",
    "        ('1', 'oro'): 8, ('1', 'copa'): 8,\n",
    "        ('12', 'oro'): 7, ('12', 'copa'): 7, ('12', 'espada'): 7, ('12', 'basto'): 7,\n",
    "        ('11', 'oro'): 6, ('11', 'copa'): 6, ('11', 'espada'): 6, ('11', 'basto'): 6,\n",
    "        ('10', 'oro'): 5, ('10', 'copa'): 5, ('10', 'espada'): 5, ('10', 'basto'): 5,\n",
    "        ('7', 'copa'): 4, ('7', 'basto'): 4,\n",
    "        ('6', 'oro'): 3, ('6', 'copa'): 3, ('6', 'espada'): 3, ('6', 'basto'): 3,\n",
    "        ('5', 'oro'): 2, ('5', 'copa'): 2, ('5', 'espada'): 2, ('5', 'basto'): 2,\n",
    "        ('4', 'oro'): 1, ('4', 'copa'): 1, ('4', 'espada'): 1, ('4', 'basto'): 1\n",
    "    }\n",
    "    return jerarquia.get((str(numero), palo), 0)\n",
    "\n",
    "class Carta:\n",
    "    def __init__(self, numero, palo):\n",
    "        self.numero = numero\n",
    "        self.palo = palo\n",
    "        self.valor = calcular_valor(numero, palo)\n",
    "\n",
    "c = Carta(1, \"espada\")\n",
    "print(f\" El {c.numero} de {c.palo} tiene un valor de: {c.valor}\")  # Salida \n"
   ]
  },
  {
   "cell_type": "markdown",
   "metadata": {},
   "source": [
    "**Mazo**: Representan las cartas españolas de 1 al 12, en los palos de oro, copa, espada y basto.\n",
    "\n",
    "Debe existir una función que permita barajar las cartas.\n",
    "y otra función que permita repartir las cartas a los jugadores."
   ]
  },
  {
   "cell_type": "code",
   "execution_count": 285,
   "metadata": {},
   "outputs": [
    {
     "name": "stdout",
     "output_type": "stream",
     "text": [
      "[(11, 'copa'), (1, 'copa'), (3, 'copa')]\n"
     ]
    }
   ],
   "source": [
    "import random\n",
    "\n",
    "class Mazo:\n",
    "    def __init__(self):\n",
    "        self.cartas = [(numero, palo) \n",
    "                       for numero in list(range(1, 8)) + list(range(10, 13)) \n",
    "                       for palo in ['oro', 'copa', 'espada', 'basto']]\n",
    "    \n",
    "    def mezclar(self):\n",
    "        random.shuffle(self.cartas)\n",
    "    \n",
    "    def repartir(self, cantidad):\n",
    "        return [self.cartas.pop() for i in range(cantidad)]\n",
    "\n",
    "\n",
    "m = Mazo()\n",
    "m.mezclar()\n",
    "print(m.repartir(3))  "
   ]
  },
  {
   "cell_type": "markdown",
   "metadata": {},
   "source": [
    "**Jugador**: Deben tener un nombre y las cartas que tiene en la mano. Debe acumular los puntos ganados.\n",
    "\n",
    "Nota: Para simplificar el problema, el jugador elige la carta a jugar de forma aleatoria."
   ]
  },
  {
   "cell_type": "code",
   "execution_count": 276,
   "metadata": {},
   "outputs": [
    {
     "name": "stdout",
     "output_type": "stream",
     "text": [
      "Cartas en la mano: [(11, 'basto'), (7, 'copa'), (3, 'oro')]\n",
      "Puntos acumulados: 3\n",
      "Carta jugada: (11, 'basto')\n"
     ]
    }
   ],
   "source": [
    "import random\n",
    "\n",
    "class Jugador:\n",
    "    def __init__(self, nombre):\n",
    "        self.nombre = nombre\n",
    "        self.cartas = []\n",
    "        self.puntos = random.randint(0, 5)\n",
    "    \n",
    "    def recibir_cartas(self, cartas):\n",
    "        for carta in cartas:\n",
    "            self.cartas.append(carta)\n",
    "    \n",
    "    def jugar_carta(self):\n",
    "        if self.cartas:\n",
    "            carta = self.cartas.pop(random.randint(0, len(self.cartas) - 1))\n",
    "            return carta\n",
    "        else:\n",
    "            return None\n",
    "    \n",
    "    def mostrar_cartas(self):\n",
    "        return self.cartas\n",
    "    \n",
    "    def mostrar_puntos(self):\n",
    "        return self.puntos\n",
    "\n",
    "class Mazo:\n",
    "    def __init__(self):\n",
    "        self.cartas = [(numero, palo) \n",
    "                       for numero in list(range(1, 8)) + list(range(10, 13)) \n",
    "                       for palo in ['oro', 'copa', 'espada', 'basto']]\n",
    "    \n",
    "    def mezclar(self):\n",
    "        random.shuffle(self.cartas)\n",
    "    \n",
    "    def repartir(self, cantidad):\n",
    "        return [self.cartas.pop() for i in range(cantidad)]\n",
    "\n",
    "j = Jugador(\"Juan\")\n",
    "m = Mazo()\n",
    "m.mezclar()\n",
    "j.recibir_cartas(m.repartir(3))\n",
    "print(\"Cartas en la mano:\", j.mostrar_cartas())  \n",
    "print(\"Puntos acumulados:\", j.mostrar_puntos())  \n",
    "print(\"Carta jugada:\", j.jugar_carta())  "
   ]
  },
  {
   "cell_type": "markdown",
   "metadata": {},
   "source": [
    "**Partida**: Debe tener dos jugadores, un mazo de cartas y un puntaje. Debe permitir jugar una carta por ronda y definir el ganador de la ronda. Debe permitir jugar hasta que se terminen las cartas del mazo."
   ]
  },
  {
   "cell_type": "code",
   "execution_count": 261,
   "metadata": {},
   "outputs": [
    {
     "name": "stdout",
     "output_type": "stream",
     "text": [
      "Juan juega 4 de basto\n",
      "Pedro juega 11 de espada\n",
      "El ganador de la ronda es Pedro\n",
      "Rondas jugadas: 1\n",
      "Puntos de Juan: 0\n",
      "Puntos de Pedro: 1\n",
      "Juan juega 5 de oro\n",
      "Pedro juega 11 de basto\n",
      "El ganador de la ronda es Pedro\n",
      "Rondas jugadas: 2\n",
      "Puntos de Juan: 0\n",
      "Puntos de Pedro: 2\n",
      "Juan juega 1 de basto\n",
      "Pedro juega 4 de espada\n",
      "El ganador de la ronda es Pedro\n",
      "Rondas jugadas: 3\n",
      "Puntos de Juan: 0\n",
      "Puntos de Pedro: 3\n",
      "Juan juega 10 de oro\n",
      "Pedro juega 6 de espada\n",
      "El ganador de la ronda es Juan\n",
      "Rondas jugadas: 4\n",
      "Puntos de Juan: 1\n",
      "Puntos de Pedro: 3\n",
      "Juan juega 6 de copa\n",
      "Pedro juega 10 de basto\n",
      "El ganador de la ronda es Pedro\n",
      "Rondas jugadas: 5\n",
      "Puntos de Juan: 1\n",
      "Puntos de Pedro: 4\n",
      "Juan juega 7 de basto\n",
      "Pedro juega 2 de copa\n",
      "El ganador de la ronda es Juan\n",
      "Rondas jugadas: 6\n",
      "Puntos de Juan: 2\n",
      "Puntos de Pedro: 4\n",
      "No hay suficientes cartas para continuar la partida.\n",
      "El ganador de la partida es Pedro\n"
     ]
    }
   ],
   "source": [
    "import random\n",
    "\n",
    "class Carta:\n",
    "    def __init__(self, numero, palo):\n",
    "        self.numero = numero\n",
    "        self.palo = palo\n",
    "        self.valor = numero  \n",
    "\n",
    "    def __repr__(self):\n",
    "        return f\"{self.numero} de {self.palo}\"\n",
    "\n",
    "class Mazo:\n",
    "    def __init__(self):\n",
    "        self.cartas = [Carta(numero, palo) \n",
    "                       for numero in list(range(1, 8)) + list(range(10, 13)) \n",
    "                       for palo in ['oro', 'copa', 'espada', 'basto']]\n",
    "        random.shuffle(self.cartas)\n",
    "    \n",
    "    def mezclar(self):\n",
    "        random.shuffle(self.cartas)\n",
    "    \n",
    "    def repartir(self, cantidad):\n",
    "        if len(self.cartas) >= cantidad:\n",
    "            return [self.cartas.pop() for i in range(cantidad)]\n",
    "        else:\n",
    "            return []\n",
    "\n",
    "class Jugador:\n",
    "    def __init__(self, nombre):\n",
    "        self.nombre = nombre\n",
    "        self.cartas = []\n",
    "        self.puntos = 0\n",
    "    \n",
    "    def recibir_cartas(self, cartas):\n",
    "        self.cartas.extend(cartas)\n",
    "    \n",
    "    def jugar_carta(self):\n",
    "        if self.cartas:\n",
    "            return self.cartas.pop(random.randint(0, len(self.cartas) - 1))\n",
    "        else:\n",
    "            return None\n",
    "    \n",
    "    def mostrar_cartas(self):\n",
    "        return self.cartas\n",
    "    \n",
    "    def mostrar_puntos(self):\n",
    "        return self.puntos\n",
    "\n",
    "class Partida:\n",
    "    def __init__(self, jugador1, jugador2):\n",
    "        self.jugador1 = jugador1\n",
    "        self.jugador2 = jugador2\n",
    "        self.mazo = Mazo()\n",
    "        self.rondas = 0\n",
    "\n",
    "    def jugar_ronda(self):\n",
    "        carta_jugador1 = self.jugador1.jugar_carta()\n",
    "        carta_jugador2 = self.jugador2.jugar_carta()\n",
    "\n",
    "        if carta_jugador1 and carta_jugador2:\n",
    "            print(f\"{self.jugador1.nombre} juega {carta_jugador1}\")\n",
    "            print(f\"{self.jugador2.nombre} juega {carta_jugador2}\")\n",
    "\n",
    "            if carta_jugador1.valor > carta_jugador2.valor:\n",
    "                return self.jugador1\n",
    "            elif carta_jugador2.valor > carta_jugador1.valor:\n",
    "                return self.jugador2\n",
    "            else:\n",
    "                return None\n",
    "        else:\n",
    "            return None\n",
    "\n",
    "    def jugar(self):\n",
    "        while self.mazo.cartas and all([self.jugador1.puntos < 15, self.jugador2.puntos < 15]):\n",
    "            self.mazo.mezclar()\n",
    "            cartas_jugador1 = self.mazo.repartir(3)\n",
    "            cartas_jugador2 = self.mazo.repartir(3)\n",
    "\n",
    "            if len(cartas_jugador1) < 3 or len(cartas_jugador2) < 3:\n",
    "                print(\"No hay suficientes cartas para continuar la partida.\")\n",
    "                break\n",
    "\n",
    "            self.jugador1.recibir_cartas(cartas_jugador1)\n",
    "            self.jugador2.recibir_cartas(cartas_jugador2)\n",
    "            \n",
    "            ganador = self.jugar_ronda()\n",
    "\n",
    "            if ganador:\n",
    "                ganador.puntos += 1\n",
    "                print(f\"El ganador de la ronda es {ganador.nombre}\")\n",
    "            else:\n",
    "                print(\"Empate\")\n",
    "            \n",
    "            self.rondas += 1\n",
    "            print(f\"Rondas jugadas: {self.rondas}\")\n",
    "            print(f\"Puntos de {self.jugador1.nombre}: {self.jugador1.puntos}\")\n",
    "            print(f\"Puntos de {self.jugador2.nombre}: {self.jugador2.puntos}\")\n",
    "\n",
    "        if self.jugador1.puntos > self.jugador2.puntos:\n",
    "            print(f\"El ganador de la partida es {self.jugador1.nombre}\")\n",
    "        elif self.jugador2.puntos > self.jugador1.puntos:\n",
    "            print(f\"El ganador de la partida es {self.jugador2.nombre}\")\n",
    "        else:\n",
    "            print(\"La partida terminó en empate\")\n",
    "\n",
    "p = Partida(Jugador(\"Luciano\"), Jugador(\"Ramiro\"))\n",
    "p.jugar()"
   ]
  }
 ],
 "metadata": {
  "kernelspec": {
   "display_name": "Python 3",
   "language": "python",
   "name": "python3"
  },
  "language_info": {
   "codemirror_mode": {
    "name": "ipython",
    "version": 3
   },
   "file_extension": ".py",
   "mimetype": "text/x-python",
   "name": "python",
   "nbconvert_exporter": "python",
   "pygments_lexer": "ipython3",
   "version": "3.12.5"
  }
 },
 "nbformat": 4,
 "nbformat_minor": 2
}
