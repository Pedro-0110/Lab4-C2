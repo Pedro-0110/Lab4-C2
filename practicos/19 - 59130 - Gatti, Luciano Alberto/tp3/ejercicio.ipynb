{
 "cells": [
  {
   "cell_type": "markdown",
   "metadata": {},
   "source": [
    "#TP3"
   ]
  },
  {
   "cell_type": "markdown",
   "metadata": {},
   "source": [
    "## Ejercicio 1: Cargar Datos de ventas.\n",
    "\n",
    "El archivo datos.dat contiene el registro de las ventas realizadas.\n",
    "\n",
    "Tiene un formato de ancho fijo:\n",
    "- fecha:    10 lugares\n",
    "- producto: 30 lugares\n",
    "- precio:   10 lugares\n",
    "- cantidad:  5 lugares\n",
    "\n",
    "hacer una funcion que carge los en una lista de diccionarios. \n",
    "\n",
    "nota: con \n",
    "```python\n",
    "lineas = open(\"datos.dat\", \"r\").readlines() \n",
    "```\n",
    "puede obtener la lista de string de todos los datos "
   ]
  },
  {
   "cell_type": "code",
   "execution_count": 6,
   "metadata": {},
   "outputs": [
    {
     "name": "stdout",
     "output_type": "stream",
     "text": [
      "{'fecha': '2024-08-27', 'producto': 'Mirinda', 'precio': 1510, 'cantidad': 14}\n",
      "{'fecha': '2024-08-27', 'producto': 'Mirinda', 'precio': 1560, 'cantidad': 12}\n",
      "{'fecha': '2024-08-28', 'producto': 'Torasso', 'precio': 940, 'cantidad': 8}\n",
      "{'fecha': '2024-08-29', 'producto': 'Pepsi Cola', 'precio': 1210, 'cantidad': 10}\n",
      "{'fecha': '2024-08-30', 'producto': 'Mirinda', 'precio': 1520, 'cantidad': 1}\n",
      "{'fecha': '2024-09-01', 'producto': 'Mirinda', 'precio': 1550, 'cantidad': 15}\n",
      "{'fecha': '2024-09-01', 'producto': 'Sprite', 'precio': 810, 'cantidad': 4}\n",
      "{'fecha': '2024-09-02', 'producto': 'Coca Cola', 'precio': 1100, 'cantidad': 4}\n",
      "{'fecha': '2024-09-02', 'producto': 'Pepsi Cola', 'precio': 1220, 'cantidad': 13}\n",
      "{'fecha': '2024-09-02', 'producto': 'Torasso', 'precio': 910, 'cantidad': 5}\n",
      "{'fecha': '2024-09-02', 'producto': 'Torasso', 'precio': 920, 'cantidad': 3}\n",
      "{'fecha': '2024-09-03', 'producto': 'Coca Cola', 'precio': 1020, 'cantidad': 8}\n",
      "{'fecha': '2024-09-03', 'producto': 'Mirinda', 'precio': 1570, 'cantidad': 7}\n",
      "{'fecha': '2024-09-03', 'producto': 'Mirinda', 'precio': 1590, 'cantidad': 2}\n",
      "{'fecha': '2024-09-04', 'producto': 'Pepsi Cola', 'precio': 1220, 'cantidad': 13}\n",
      "{'fecha': '2024-09-05', 'producto': 'Mirinda', 'precio': 1500, 'cantidad': 3}\n",
      "{'fecha': '2024-09-05', 'producto': 'Pepsi Cola', 'precio': 1300, 'cantidad': 5}\n",
      "{'fecha': '2024-09-06', 'producto': 'Coca Cola', 'precio': 1080, 'cantidad': 1}\n",
      "{'fecha': '2024-09-06', 'producto': 'Sprite', 'precio': 860, 'cantidad': 12}\n",
      "{'fecha': '2024-09-06', 'producto': 'Torasso', 'precio': 930, 'cantidad': 3}\n",
      "{'fecha': '2024-09-07', 'producto': 'Coca Cola', 'precio': 1080, 'cantidad': 14}\n",
      "{'fecha': '2024-09-07', 'producto': 'Sprite', 'precio': 870, 'cantidad': 13}\n",
      "{'fecha': '2024-09-08', 'producto': 'Coca Cola', 'precio': 1040, 'cantidad': 10}\n",
      "{'fecha': '2024-09-08', 'producto': 'Mirinda', 'precio': 1580, 'cantidad': 2}\n",
      "{'fecha': '2024-09-08', 'producto': 'Pepsi Cola', 'precio': 1240, 'cantidad': 9}\n",
      "{'fecha': '2024-09-09', 'producto': 'Mirinda', 'precio': 1500, 'cantidad': 3}\n",
      "{'fecha': '2024-09-09', 'producto': 'Sprite', 'precio': 850, 'cantidad': 9}\n",
      "{'fecha': '2024-09-10', 'producto': 'Mirinda', 'precio': 1590, 'cantidad': 8}\n",
      "{'fecha': '2024-09-10', 'producto': 'Pepsi Cola', 'precio': 1250, 'cantidad': 12}\n",
      "{'fecha': '2024-09-11', 'producto': 'Sprite', 'precio': 810, 'cantidad': 6}\n",
      "{'fecha': '2024-09-11', 'producto': 'Sprite', 'precio': 820, 'cantidad': 14}\n",
      "{'fecha': '2024-09-12', 'producto': 'Coca Cola', 'precio': 1080, 'cantidad': 4}\n",
      "{'fecha': '2024-09-13', 'producto': 'Mirinda', 'precio': 1580, 'cantidad': 5}\n",
      "{'fecha': '2024-09-13', 'producto': 'Pepsi Cola', 'precio': 1250, 'cantidad': 13}\n",
      "{'fecha': '2024-09-14', 'producto': 'Coca Cola', 'precio': 1080, 'cantidad': 15}\n",
      "{'fecha': '2024-09-14', 'producto': 'Pepsi Cola', 'precio': 1270, 'cantidad': 14}\n",
      "{'fecha': '2024-09-15', 'producto': 'Coca Cola', 'precio': 1100, 'cantidad': 1}\n",
      "{'fecha': '2024-09-15', 'producto': 'Mirinda', 'precio': 1500, 'cantidad': 13}\n",
      "{'fecha': '2024-09-15', 'producto': 'Sprite', 'precio': 870, 'cantidad': 14}\n",
      "{'fecha': '2024-09-15', 'producto': 'Torasso', 'precio': 900, 'cantidad': 13}\n"
     ]
    }
   ],
   "source": [
    "class Ventas:\n",
    "    def __init__(self, archivo):\n",
    "        self.archivo = archivo\n",
    "        self.datos = self.cargar_datos()\n",
    "\n",
    "    def cargar_datos(self):\n",
    "        lineas = open(self.archivo, \"r\").readlines()\n",
    "        datos = []\n",
    "\n",
    "        for linea in lineas:\n",
    "            datos.append({\n",
    "                'fecha': linea[:10].strip(),\n",
    "                'producto': linea[10:40].strip(),\n",
    "                'precio': int(linea[40:50].strip()),\n",
    "                'cantidad': int(linea[50:].strip())\n",
    "            })\n",
    "\n",
    "        for dato in datos:\n",
    "            print(dato)\n",
    "        return datos\n",
    "\n",
    "ventas = Ventas(\"datos.dat\")\n",
    "datos = ventas.datos"
   ]
  },
  {
   "cell_type": "markdown",
   "metadata": {},
   "source": [
    "## Ejercicio 2: Calcular el total de ventas.\n",
    "\n",
    "Hacer una funcion que sume los importes vendidos (precio * cantidad) y las cantidades"
   ]
  },
  {
   "cell_type": "code",
   "execution_count": 7,
   "metadata": {},
   "outputs": [
    {
     "name": "stdout",
     "output_type": "stream",
     "text": [
      "Las ventas fueron de $392730.00 en 335 unidades\n"
     ]
    },
    {
     "data": {
      "text/plain": [
       "(392730, 335)"
      ]
     },
     "execution_count": 7,
     "metadata": {},
     "output_type": "execute_result"
    }
   ],
   "source": [
    "def calcular_totales(datos):\n",
    "    importe = 0\n",
    "    cantidad = 0\n",
    "\n",
    "    for venta in datos:\n",
    "        importe += venta['precio'] * venta['cantidad']\n",
    "        cantidad += venta['cantidad']\n",
    "\n",
    "    return importe, cantidad\n",
    "\n",
    "importe, cantidad = calcular_totales(datos)\n",
    "\n",
    "print(f\"Las ventas fueron de ${importe:.2f} en {cantidad} unidades\")\n",
    "\n",
    "calcular_totales(datos)"
   ]
  },
  {
   "cell_type": "markdown",
   "metadata": {},
   "source": [
    "## Ejercicio 3: Listar las unidades vendidas.\n",
    "\n",
    "Listar cuantas unidades se vendieron en total para cada producto"
   ]
  },
  {
   "cell_type": "code",
   "execution_count": 8,
   "metadata": {},
   "outputs": [
    {
     "name": "stdout",
     "output_type": "stream",
     "text": [
      "Mirinda: 85\n",
      "Torasso: 32\n",
      "Pepsi Cola: 89\n",
      "Sprite: 72\n",
      "Coca Cola: 57\n"
     ]
    }
   ],
   "source": [
    "def unidades_vendidas(datos):\n",
    "    ventas = {}\n",
    "\n",
    "    for venta in datos:\n",
    "        productos = venta['producto']\n",
    "        cantidad = venta['cantidad']\n",
    "\n",
    "        if productos in ventas:\n",
    "            ventas[productos] += cantidad\n",
    "        else:\n",
    "            ventas[productos] = cantidad\n",
    "\n",
    "    return ventas\n",
    "\n",
    "def listar_ventas(datos):\n",
    "    for productos, cantidad in datos.items():\n",
    "        print(f\"{productos}: {cantidad}\")\n",
    "\n",
    "\n",
    "ventas = unidades_vendidas(datos)\n",
    "listar_ventas(ventas)\n"
   ]
  },
  {
   "cell_type": "markdown",
   "metadata": {},
   "source": [
    "##  Ejercicio 4: Listar el precio promedio por producto.\n",
    "\n",
    "Hacer un listado del precio promedio por productos."
   ]
  },
  {
   "cell_type": "code",
   "execution_count": 9,
   "metadata": {},
   "outputs": [
    {
     "name": "stdout",
     "output_type": "stream",
     "text": [
      "Mirinda: $218.235\n",
      "Torasso: $143.750\n",
      "Pepsi Cola: $111.910\n",
      "Sprite: $81.806\n",
      "Coca Cola: $150.526\n"
     ]
    }
   ],
   "source": [
    "def precio_promedio(datos):\n",
    "    precios = {}\n",
    "\n",
    "    for venta in datos:\n",
    "        productos = venta['producto']\n",
    "        precio = venta['precio']\n",
    "        cantidad = venta['cantidad']\n",
    "\n",
    "        if productos in precios:\n",
    "            precios[productos]['precio'] += precio\n",
    "            precios[productos]['cantidad'] += cantidad\n",
    "        else:\n",
    "            precios[productos] = {'precio': precio, 'cantidad': cantidad}\n",
    "\n",
    "    for productos, valor in precios.items():\n",
    "        precio = valor['precio']\n",
    "        cantidad = valor['cantidad']\n",
    "        precios[productos] = precio / cantidad\n",
    "\n",
    "    return precios\n",
    "def listar_precios(datos):\n",
    "    for productos, precio in datos.items():\n",
    "        print(f\"{productos}: ${precio:.3f}\")\n",
    "\n",
    "precios = precio_promedio(datos)\n",
    "\n",
    "listar_precios(precios)"
   ]
  },
  {
   "cell_type": "markdown",
   "metadata": {},
   "source": [
    "### Ejercicio 5: Ranking de productos\n",
    "\n",
    "Realizar un listado de los 3 productos mas vendidos ordenados la cantidad de unidades vendidas (ordenadas de mayor a menor)\n"
   ]
  },
  {
   "cell_type": "code",
   "execution_count": 10,
   "metadata": {},
   "outputs": [
    {
     "name": "stdout",
     "output_type": "stream",
     "text": [
      "Pepsi Cola: 89\n",
      "Mirinda: 85\n",
      "Sprite: 72\n",
      "Coca Cola: 57\n",
      "Torasso: 32\n"
     ]
    }
   ],
   "source": [
    "def ranking_productos(datos):\n",
    "    ventas = {}\n",
    "\n",
    "    for venta in datos:\n",
    "        productos = venta['producto']\n",
    "        cantidad = venta['cantidad']\n",
    "\n",
    "        if productos in ventas:\n",
    "            ventas[productos] += cantidad\n",
    "        else:\n",
    "            ventas[productos] = cantidad\n",
    "\n",
    "    ventas_lista = list(ventas.items())\n",
    "\n",
    "    n = len(ventas_lista)\n",
    "    for i in range(n):\n",
    "        for j in range(0, n-i-1):\n",
    "            if ventas_lista[j][1] < ventas_lista[j+1][1]:\n",
    "                ventas_lista[j], ventas_lista[j+1] = ventas_lista[j+1], ventas_lista[j]\n",
    "\n",
    "    return ventas_lista\n",
    "\n",
    "\n",
    "def mas_vendidos(ranking):\n",
    "    for productos, cantidad in ranking:\n",
    "        print(f\"{productos}: {cantidad}\")\n",
    "\n",
    "ranking = ranking_productos(datos)\n",
    "\n",
    "mas_vendidos(ranking)"
   ]
  },
  {
   "cell_type": "markdown",
   "metadata": {},
   "source": [
    "### Ejercicio 6: Listar las ventas por mes\n",
    "\n",
    "Realizar un listado del total de unidades vendidas por productos separada por mes."
   ]
  },
  {
   "cell_type": "code",
   "execution_count": 55,
   "metadata": {},
   "outputs": [
    {
     "name": "stdout",
     "output_type": "stream",
     "text": [
      "En el mes 4 se vendieron 335 unidades\n"
     ]
    }
   ],
   "source": [
    "def ventas_por_mes(datos):\n",
    "    ventas = {}\n",
    "\n",
    "    for venta in datos:\n",
    "        fecha = venta['fecha']\n",
    "        cantidad = venta['cantidad']\n",
    "\n",
    "        mes = fecha[3:4]\n",
    "\n",
    "        if mes in ventas:\n",
    "            ventas[mes] += cantidad\n",
    "        else:\n",
    "            ventas[mes] = cantidad\n",
    "\n",
    "    return ventas\n",
    "\n",
    "def lista_ventas_men(ventas):\n",
    "    for mes, cantidad in ventas.items():\n",
    "        print(f\"En el mes {mes} se vendieron {cantidad} unidades\")\n",
    "ventas = ventas_por_mes(datos)\n",
    "lista_ventas_men(ventas)"
   ]
  },
  {
   "cell_type": "markdown",
   "metadata": {},
   "source": [
    "### Ejercicio 7: Informe general\n",
    "\n",
    "Mostrar un listado de productos ordenados alfabeticamente que contengan el precio promedio, la cantidad de unidades vendidas y el importe total vendido para cada producto"
   ]
  },
  {
   "cell_type": "code",
   "execution_count": 63,
   "metadata": {},
   "outputs": [
    {
     "name": "stdout",
     "output_type": "stream",
     "text": [
      "Las ventas fueron de $392730.00 en 335 unidades\n",
      "Unidades vendidas por producto:\n",
      "Coca Cola: 57\n",
      "Mirinda: 85\n",
      "Pepsi Cola: 89\n",
      "Sprite: 72\n",
      "Torasso: 32\n",
      "Precio promedio por producto:\n",
      "Coca Cola: $150.526\n",
      "Mirinda: $218.235\n",
      "Pepsi Cola: $111.910\n",
      "Sprite: $81.806\n",
      "Torasso: $143.750\n",
      "Ranking de productos más vendidos:\n",
      "Pepsi Cola: 89\n",
      "Mirinda: 85\n",
      "Sprite: 72\n",
      "Coca Cola: 57\n",
      "Torasso: 32\n",
      "Ventas por mes:\n",
      "En el mes 4 se vendieron 335 unidades\n"
     ]
    }
   ],
   "source": [
    "def ordenar_diccionario(diccionario):\n",
    "    return dict(sorted(diccionario.items()))\n",
    "\n",
    "def resumen_ventas(datos):\n",
    "    importe, cantidad = calcular_totales(datos)\n",
    "    ventas = ordenar_diccionario(unidades_vendidas(datos))\n",
    "    precios = ordenar_diccionario(precio_promedio(datos))\n",
    "    ranking = ranking_productos(datos)  \n",
    "    ventas_mes = ordenar_diccionario(ventas_por_mes(datos))\n",
    "\n",
    "    return importe, cantidad, ventas, precios, ranking, ventas_mes\n",
    "\n",
    "def informe_ventas(datos):\n",
    "    importe, cantidad, ventas, precios, ranking, ventas_mes = datos\n",
    "\n",
    "    print(f\"Las ventas fueron de ${importe:.2f} en {cantidad} unidades\")\n",
    "    print(\"Unidades vendidas por producto:\")\n",
    "    listar_ventas(ventas)\n",
    "    print(\"Precio promedio por producto:\")\n",
    "    listar_precios(precios)\n",
    "    print(\"Ranking de productos más vendidos:\")\n",
    "    mas_vendidos(ranking)\n",
    "    print(\"Ventas por mes:\")\n",
    "    lista_ventas_men(ventas_mes)\n",
    "\n",
    "resumen = resumen_ventas(datos)\n",
    "informe_ventas(resumen)\n"
   ]
  }
 ],
 "metadata": {
  "kernelspec": {
   "display_name": "Python 3",
   "language": "python",
   "name": "python3"
  },
  "language_info": {
   "codemirror_mode": {
    "name": "ipython",
    "version": 3
   },
   "file_extension": ".py",
   "mimetype": "text/x-python",
   "name": "python",
   "nbconvert_exporter": "python",
   "pygments_lexer": "ipython3",
   "version": "3.12.5"
  }
 },
 "nbformat": 4,
 "nbformat_minor": 2
}
