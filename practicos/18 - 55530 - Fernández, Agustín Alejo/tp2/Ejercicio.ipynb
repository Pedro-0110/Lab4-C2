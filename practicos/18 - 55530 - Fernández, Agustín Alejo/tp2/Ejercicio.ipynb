{
 "cells": [
  {
   "cell_type": "markdown",
   "metadata": {},
   "source": [
    "# Practica de colecciones y estructura de control"
   ]
  },
  {
   "cell_type": "markdown",
   "metadata": {},
   "source": [
    "## 1. Extraer token\n",
    "\n",
    "Escribe una función en Python que, dado un string que representa una expresión matemática (por ejemplo, \"(1 + 23 * 34 + (15 + 10))\"), convierta la expresión en una lista de sus componentes. La lista debe incluir cada número, operador y paréntesis como elementos separados. Recorre la expresión carácter por carácter utilizando un bucle for y utiliza condicionales if para manejar cada caso (números, operadores, paréntesis y espacios).\n",
    "\n",
    "Por ejemplo, dada la expresión \"(1 + 23 * 34 + (15 + 10))\", la función debe devolver la lista:\n",
    "\n",
    "```python\n",
    "[\"(\", \"1\", \"+\", \"23\", \"*\", \"34\", \"+\", \"(\", \"15\", \"+\", \"10\", \")\", \")\"]\n",
    "```"
   ]
  },
  {
   "cell_type": "code",
   "execution_count": 1,
   "metadata": {},
   "outputs": [
    {
     "name": "stdout",
     "output_type": "stream",
     "text": [
      "['(', '1', '+', '23', '*', '34', '+', '(', '15', '+', '10', ')', ')']\n"
     ]
    },
    {
     "ename": "AssertionError",
     "evalue": "",
     "output_type": "error",
     "traceback": [
      "\u001b[1;31m---------------------------------------------------------------------------\u001b[0m",
      "\u001b[1;31mAssertionError\u001b[0m                            Traceback (most recent call last)",
      "Cell \u001b[1;32mIn[1], line 22\u001b[0m\n\u001b[0;32m     18\u001b[0m \u001b[38;5;28mprint\u001b[39m(resultado)\n\u001b[0;32m     21\u001b[0m \u001b[38;5;66;03m# Casos de prueba\u001b[39;00m\n\u001b[1;32m---> 22\u001b[0m \u001b[38;5;28;01massert\u001b[39;00m dividir_expresion(\u001b[38;5;124m\"\u001b[39m\u001b[38;5;124m3 + 5\u001b[39m\u001b[38;5;124m\"\u001b[39m) \u001b[38;5;241m==\u001b[39m [\u001b[38;5;124m\"\u001b[39m\u001b[38;5;124m3\u001b[39m\u001b[38;5;124m\"\u001b[39m, \u001b[38;5;124m\"\u001b[39m\u001b[38;5;124m+\u001b[39m\u001b[38;5;124m\"\u001b[39m, \u001b[38;5;124m\"\u001b[39m\u001b[38;5;124m5\u001b[39m\u001b[38;5;124m\"\u001b[39m]\n\u001b[0;32m     23\u001b[0m \u001b[38;5;28;01massert\u001b[39;00m dividir_expresion(\u001b[38;5;124m\"\u001b[39m\u001b[38;5;124m(1 + 2) * 3\u001b[39m\u001b[38;5;124m\"\u001b[39m) \u001b[38;5;241m==\u001b[39m [\u001b[38;5;124m\"\u001b[39m\u001b[38;5;124m(\u001b[39m\u001b[38;5;124m\"\u001b[39m, \u001b[38;5;124m\"\u001b[39m\u001b[38;5;124m1\u001b[39m\u001b[38;5;124m\"\u001b[39m, \u001b[38;5;124m\"\u001b[39m\u001b[38;5;124m+\u001b[39m\u001b[38;5;124m\"\u001b[39m, \u001b[38;5;124m\"\u001b[39m\u001b[38;5;124m2\u001b[39m\u001b[38;5;124m\"\u001b[39m, \u001b[38;5;124m\"\u001b[39m\u001b[38;5;124m)\u001b[39m\u001b[38;5;124m\"\u001b[39m, \u001b[38;5;124m\"\u001b[39m\u001b[38;5;124m*\u001b[39m\u001b[38;5;124m\"\u001b[39m, \u001b[38;5;124m\"\u001b[39m\u001b[38;5;124m3\u001b[39m\u001b[38;5;124m\"\u001b[39m]\n\u001b[0;32m     24\u001b[0m \u001b[38;5;28;01massert\u001b[39;00m dividir_expresion(\u001b[38;5;124m\"\u001b[39m\u001b[38;5;124m10 / (5 - 3)\u001b[39m\u001b[38;5;124m\"\u001b[39m) \u001b[38;5;241m==\u001b[39m [\u001b[38;5;124m\"\u001b[39m\u001b[38;5;124m10\u001b[39m\u001b[38;5;124m\"\u001b[39m, \u001b[38;5;124m\"\u001b[39m\u001b[38;5;124m/\u001b[39m\u001b[38;5;124m\"\u001b[39m, \u001b[38;5;124m\"\u001b[39m\u001b[38;5;124m(\u001b[39m\u001b[38;5;124m\"\u001b[39m, \u001b[38;5;124m\"\u001b[39m\u001b[38;5;124m5\u001b[39m\u001b[38;5;124m\"\u001b[39m, \u001b[38;5;124m\"\u001b[39m\u001b[38;5;124m-\u001b[39m\u001b[38;5;124m\"\u001b[39m, \u001b[38;5;124m\"\u001b[39m\u001b[38;5;124m3\u001b[39m\u001b[38;5;124m\"\u001b[39m, \u001b[38;5;124m\"\u001b[39m\u001b[38;5;124m)\u001b[39m\u001b[38;5;124m\"\u001b[39m]\n",
      "\u001b[1;31mAssertionError\u001b[0m: "
     ]
    }
   ],
   "source": [
    "def dividir_expresion(expresion):\n",
    "    componentes = []\n",
    "    numero = \"\"\n",
    "\n",
    "    for char in expresion:\n",
    "        if char.isdigit():  \n",
    "            numero += char\n",
    "        else:\n",
    "            if numero:  \n",
    "                componentes.append(numero)\n",
    "                numero = \"\"  \n",
    "            if char in \"+-*/()\": \n",
    "                componentes.append(char)\n",
    "    return componentes\n",
    "\n",
    "expresion = \"(1 + 23 * 34 + (15 + 10))\"\n",
    "resultado = dividir_expresion(expresion)\n",
    "print(resultado)\n",
    "\n",
    "\n",
    "# Casos de prueba\n",
    "assert dividir_expresion(\"3 + 5\") == [\"3\", \"+\", \"5\"]\n",
    "assert dividir_expresion(\"(1 + 2) * 3\") == [\"(\", \"1\", \"+\", \"2\", \")\", \"*\", \"3\"]\n",
    "assert dividir_expresion(\"10 / (5 - 3)\") == [\"10\", \"/\", \"(\", \"5\", \"-\", \"3\", \")\"]\n",
    "assert dividir_expresion(\"4 * (2 + 3) / 5\") == [\"4\", \"*\", \"(\", \"2\", \"+\", \"3\", \")\", \"/\", \"5\"]\n",
    "assert dividir_expresion(\"7 - 2 * (3 + 4)\") == [\"7\", \"-\", \"2\", \"*\", \"(\", \"3\", \"+\", \"4\", \")\"]\n",
    "assert dividir_expresion(\"\") == []\n",
    "\n",
    "print(\"¡Todos los casos de prueba pasaron!\")"
   ]
  },
  {
   "cell_type": "markdown",
   "metadata": {},
   "source": [
    "## 2. Comprobar parentesis\n",
    "\n",
    "Enunciado:\n",
    "\n",
    "Escribe una función en Python que verifique si los paréntesis en una lista de tokens están correctamente balanceados. La lista puede contener números, operadores y paréntesis. Unos paréntesis están balanceados si:\n",
    "\n",
    "1. Cada paréntesis de apertura ( tiene un paréntesis de cierre ) correspondiente.\n",
    "1. Los paréntesis de cierre no aparecen antes de haberse abierto.\n",
    "\n",
    "La función debe recorrer la lista utilizando un contador que se incremente al encontrar un paréntesis de apertura y se decremente al encontrar uno de cierre. Si en algún momento el contador es negativo, o si al final no es cero, los paréntesis no están balanceados.\n",
    "\n",
    "Ejemplos:\n",
    "* Para la lista [\"(\", \"1\", \"+\", \"2\", \"+\", \"(\", \"3\", \"*\", \"4\", \")\", \"+\", \"(\", \"5\", \"*\", \"6\", \")\", \")\"], la función debe devolver True (balance correcto).\n",
    "* Para la lista [\"(\", \"(\", \"1\", \"+\", \"2\", \")\", \"+\", \"3\"], la función debe devolver False (falta un paréntesis de cierre).\n",
    "* Para la lista [\"(\", \"1\", \"+\", \"3\", \")\", \"*\", \"4\", \")\"], la función debe devolver False (hay un paréntesis de cierre de más)."
   ]
  },
  {
   "cell_type": "code",
   "execution_count": 2,
   "metadata": {},
   "outputs": [
    {
     "name": "stdout",
     "output_type": "stream",
     "text": [
      "True\n",
      "False\n",
      "False\n",
      "¡Todos los casos de prueba pasaron!\n"
     ]
    }
   ],
   "source": [
    "def comprobar_parenteis (tokenS):\n",
    "    contador_tokens = 0\n",
    "    for token in tokenS:\n",
    "        if token==\"(\":\n",
    "            contador_tokens +=1\n",
    "        elif token==\")\":\n",
    "            contador_tokens -=1\n",
    "          \n",
    "       \n",
    "    return contador_tokens==0\n",
    "\n",
    "    \n",
    "\n",
    "\n",
    "print(comprobar_parenteis([\"(\", \"1\", \"+\", \"2\", \"+\", \"(\", \"3\", \"\", \"4\", \")\", \"+\", \"(\", \"5\", \"\", \"6\", \")\", \")\"]))\n",
    "print(comprobar_parenteis([\"(\", \"(\", \"1\", \"+\", \"2\", \")\", \"+\", \"3\"]))\n",
    "print(comprobar_parenteis([\"(\", \"1\", \"+\", \"3\", \")\", \"*\", \"4\", \")\"]))\n",
    "\n",
    "# Casos de prueba\n",
    "\n",
    "assert comprobar_parenteis([\"(\", \"1\", \"+\", \"2\", \"+\", \"(\", \"3\", \"*\", \"4\", \")\", \"+\", \"(\", \"5\", \"*\", \"6\", \")\", \")\"]) == True\n",
    "assert comprobar_parenteis([\"(\", \"(\", \"1\", \"+\", \"2\", \")\", \"+\", \"3\"]) == False\n",
    "assert comprobar_parenteis([\"(\", \"1\", \"+\", \"3\", \")\", \"*\", \"4\", \")\"]) == False\n",
    "assert comprobar_parenteis([]) == True\n",
    "assert comprobar_parenteis([\"(\", \"(\", \"(\", \"1\", \"+\", \"2\"]) == False\n",
    "assert comprobar_parenteis([\")\", \"1\", \"+\", \"2\", \")\"]) == False\n",
    "\n",
    "print(\"¡Todos los casos de prueba pasaron!\")"
   ]
  },
  {
   "cell_type": "markdown",
   "metadata": {},
   "source": [
    "## Ejericio 3: Comprobar expresion valida\n",
    "\n",
    "Escribe una función en Python que verifique si una lista de tokens que representa una expresión matemática simple está correctamente escrita. La expresión puede contener números, operadores aritméticos (+, -, *, /) y paréntesis, y se considera válida si cumple las siguientes reglas:\n",
    "\n",
    "1. Un número por sí solo es una expresión válida.\n",
    "1. Una expresión entre paréntesis es válida si lo que está dentro también es una expresión válida.\n",
    "1. Después de una expresión válida, puede haber un operador (+, -, *, /) seguido de otra expresión válida.\n",
    "1. No puede haber operadores seguidos sin una expresión válida entre ellos.\n",
    "\n",
    "La función debe devolver True si la expresión es válida y False si es incorrecta.\n",
    "\n",
    "#### Pistas:\n",
    "1. Considere que la funcion tiene parentesis corretamente balanceados ya que tenemos una funcion para verificarlo.\n",
    "\n",
    "Ejemplos:\n",
    "\n",
    "- Para la lista [\"(\", \"1\", \"+\", \"2\", \")\", \"*\", \"3\"], la función debe devolver True (expresión válida).\n",
    "- Para la lista [\"1\", \"+\", \"(\", \")\"], la función debe devolver False (los paréntesis están vacíos).\n",
    "- Para la lista [\"1\", \"*\", \"*\", \"2\"], la función debe devolver False (dos operadores seguidos no son válidos).\n"
   ]
  },
  {
   "cell_type": "code",
   "execution_count": 5,
   "metadata": {},
   "outputs": [
    {
     "name": "stdout",
     "output_type": "stream",
     "text": [
      "¡Todos los casos de prueba pasaron!\n"
     ]
    }
   ],
   "source": [
    "def validar_expresion(tokens):\n",
    "    contador = 0  \n",
    "    for index, token in enumerate(tokens):\n",
    "        if token == \"(\":\n",
    "            contador += 1\n",
    "            if index < len(tokens) -1 and tokens[index + 1] == \")\":\n",
    "                return False\n",
    "        elif token == \")\":\n",
    "            contador -= 1\n",
    "            if contador < 0:\n",
    "                return False\n",
    "        \n",
    "        if token in \"+-*/\":\n",
    "            if index == 0 or index == len(tokens) - 1:\n",
    "                return False\n",
    "            if index > 0 and tokens[index - 1] in \"+-*/\":\n",
    "                return False\n",
    "            if index < len(tokens) - 1 and tokens[index + 1] in \"+-*/\":\n",
    "                return False\n",
    "    return contador == 0\n",
    "\n",
    "\n",
    "# Casos de prueba\n",
    "assert validar_expresion([\"(\", \"1\", \"+\", \"2\", \")\", \"*\", \"3\"]) == True\n",
    "assert validar_expresion([\"1\", \"+\", \"(\", \")\"]) == False\n",
    "assert validar_expresion([\"1\", \"*\", \"*\", \"2\"]) == False\n",
    "assert validar_expresion([\"(\", \"1\", \"+\", \"2\", \")\", \"/\", \"(\", \"3\", \"-\", \"4\", \")\"]) == True\n",
    "assert validar_expresion([\"(\", \"1\", \"+\", \"(\", \"2\", \"*\", \"3\", \")\", \"-\", \"4\", \")\"]) == True\n",
    "assert validar_expresion([\"1\", \"+\", \"2\", \"*\", \"3\", \"/\", \"4\"]) == True\n",
    "assert validar_expresion([\"1\", \"+\", \"+\", \"2\"]) == False\n",
    "assert validar_expresion([\"(\", \"1\", \"+\", \"2\", \"*\", \"3\"]) == False\n",
    "assert validar_expresion([\"1\", \"+\", \"2\", \")\", \"*\", \"3\"]) == False\n",
    "assert validar_expresion([\"(\", \"1\", \"+\", \"2\", \")\", \"*\", \"(\", \"3\", \"/\", \"4\", \")\"]) == True\n",
    "\n",
    "print(\"¡Todos los casos de prueba pasaron!\")"
   ]
  },
  {
   "cell_type": "markdown",
   "metadata": {},
   "source": [
    "## Ejercicio 4: Evaluar una expresión:\n",
    "### Enunciado:\n",
    "\n",
    "Escribe una función en Python que evalúe una expresión matemática representada como una lista de tokens. La expresión puede contener números, operadores de suma (`+`), multiplicación (`*`), y paréntesis (`(` y `)`). La función debe seguir estas reglas:\n",
    "\n",
    "1. **Los paréntesis** se evalúan primero, resolviendo las expresiones más internas antes de continuar.\n",
    "1. **Las multiplicaciones** (`*`) tienen prioridad sobre las sumas (`+`) y se deben resolver antes.\n",
    "1. **Las sumas** (`+`) se resuelven después de las multiplicaciones, siguiendo el orden de izquierda a derecha.\n",
    "\n",
    "#### Pistas:\n",
    "- Puedes crear **funciones separadas** para:\n",
    "  - Evaluar las expresiones dentro de los paréntesis.\n",
    "  - Resolver las multiplicaciones una vez que no queden paréntesis.\n",
    "  - Resolver las sumas una vez que las multiplicaciones estén resueltas.\n",
    "  \n",
    "- **Convierte la lista de tokens a una nueva lista** a medida que evalúas los paréntesis o los operadores, reemplazando las subexpresiones ya resueltas por su valor.\n",
    "\n",
    "#### Pistas adicionales:\n",
    "1. Considere que la lista tiene una expresion bien formada ya que disponemos de una funcion para verificar la misma.\n",
    "1. **Evaluar paréntesis interiores**: Para resolver los paréntesis, recorre la lista de tokens mientras haya paréntesis. Cuando encuentres un paréntesis de apertura `\"(\"`, registra su posición inicial. Cuando encuentres un paréntesis de cierre `\")\"`, registra la posición final. La sublista entre estas posiciones debe pasarse recursivamente a la función `evaluar`. El resultado debe reemplazar la subexpresión dentro de la lista.\n",
    "\n",
    "1. **Evaluar multiplicaciones**: Una vez que hayas resuelto los paréntesis, ya no quedarán paréntesis en la expresión. Al evaluar las multiplicaciones, siempre habrá un número antes y otro después del operador `\"*\"`. Simplemente recorre la lista, reemplaza el token `\"*\"` y los números adyacentes con su producto.\n",
    "\n",
    "1. **Evaluar sumas**: Al evaluar las sumas, la lista solo contendrá números y el operador `\"+\"`. El resultado será el primer número, y luego, cada vez que encuentres un `\"+\"`, suma el siguiente número al resultado. Continúa así avanzando por la lista de dos tokens a la vez (número, operador, número).\n",
    "\n",
    "#### Ejemplos:\n",
    "\n",
    "- Para la lista `[\"(\", \"1\", \"+\", \"2\", \")\", \"*\", \"3\"]`, la función debe devolver `9`.\n",
    "- Para la lista `[\"1\", \"+\", \"(\", \"2\", \"*\", \"3\", \"+\", \"4\", \")\", \"*\", \"5\"]`, la función debe devolver `36`.\n",
    "- Para la lista `[\"(\", \"5\", \"*\", \"6\", \"+\", \"7\", \")\", \"*\", \"(\", \"8\", \"+\", \"9\", \")\"]`, la función debe devolver `204`.\n",
    "\n"
   ]
  },
  {
   "cell_type": "code",
   "execution_count": 7,
   "metadata": {},
   "outputs": [
    {
     "name": "stdout",
     "output_type": "stream",
     "text": [
      "15\n",
      "¡Todos los casos de prueba pasaron!\n"
     ]
    }
   ],
   "source": [
    "def resolver_parentesis(expresion):\n",
    "    while \"(\" in expresion:\n",
    "        pos_par_apertura = None\n",
    "        pos_par_cierre = None\n",
    "        i = 0\n",
    "\n",
    "        while i < len(expresion):\n",
    "            token = expresion[i]\n",
    "            if token == \"(\":\n",
    "                pos_par_apertura = i\n",
    "            elif token == \")\" and pos_par_apertura is not None:\n",
    "                pos_par_cierre = i\n",
    "                subexpresion = expresion[pos_par_apertura + 1: pos_par_cierre]\n",
    "                resultado_subexpresion = evaluar(subexpresion)\n",
    "                expresion = expresion[:pos_par_apertura] + [str(resultado_subexpresion)] + expresion[pos_par_cierre + 1:]\n",
    "                break\n",
    "            i += 1\n",
    "    return expresion\n",
    "\n",
    "def resolver_multiplicaciones(expresion):\n",
    "    i = 0\n",
    "    while i < len(expresion):\n",
    "        if expresion[i] == \"*\":\n",
    "            resultado = int(expresion[i - 1]) * int(expresion[i + 1])\n",
    "            expresion = expresion[:i - 1] + [str(resultado)] + expresion[i + 2:]\n",
    "        else:\n",
    "            i += 1\n",
    "    return expresion\n",
    "\n",
    "def resolver_sumas(expresion):\n",
    "    resultado = int(expresion[0])\n",
    "    i = 1\n",
    "    while i < len(expresion):\n",
    "        if expresion[i] == \"+\":\n",
    "            resultado += int(expresion[i + 1])\n",
    "        i += 2\n",
    "    return resultado\n",
    "def evaluar(expresion):\n",
    "   expresion = resolver_parentesis(expresion)\n",
    "   expresion = resolver_multiplicaciones(expresion)\n",
    "   return resolver_sumas(expresion)\n",
    "\n",
    "print(evaluar([\"(\", \"1\", \"+\", \"2\", \")\", \"*\", \"5\"]) )#15\n",
    "\n",
    "# Casos de prueba\n",
    "assert evaluar([\"(\", \"1\", \"+\", \"2\", \")\", \"*\", \"3\"]) == 9\n",
    "assert evaluar([\"1\", \"+\", \"2\", \"*\", \"3\"]) == 7\n",
    "assert evaluar([\"(\", \"1\", \"+\", \"2\", \")\", \"+\", \"(\", \"3\", \"*\", \"4\", \")\"]) == 15\n",
    "assert evaluar([\"10\", \"+\", \"(\", \"5\", \"*\", \"3\", \")\", \"+\", \"2\"]) == 27\n",
    "assert evaluar([\"(\", \"2\", \"+\", \"3\", \")\", \"*\", \"(\", \"4\", \"+\", \"1\", \")\"]) == 25\n",
    "\n",
    "print(\"¡Todos los casos de prueba pasaron!\")"
   ]
  }
 ],
 "metadata": {
  "kernelspec": {
   "display_name": "Python 3",
   "language": "python",
   "name": "python3"
  },
  "language_info": {
   "codemirror_mode": {
    "name": "ipython",
    "version": 3
   },
   "file_extension": ".py",
   "mimetype": "text/x-python",
   "name": "python",
   "nbconvert_exporter": "python",
   "pygments_lexer": "ipython3",
   "version": "3.12.5"
  }
 },
 "nbformat": 4,
 "nbformat_minor": 2
}
