{
 "cells": [
  {
   "cell_type": "markdown",
   "metadata": {},
   "source": [
    "# Trabajo práctico 1\n",
    "\n"
   ]
  },
  {
   "cell_type": "markdown",
   "metadata": {},
   "source": [
    "## Ejercicio 1 \n",
    "\n",
    "Escribe una función en Python que procese una lista de cadenas de texto y realice las siguientes acciones:\n",
    "\n",
    "1. Tomar una lista de frases y convertir cada frase en una lista de palabras.\n",
    "1. Luego, debe crear una nueva lista que contenga la cantidad de palabras en cada frase.\n",
    "1. Tambien debe crear un lista que contenga la cantidad de caracteres en cada frase.\n",
    "1. Finalmente, debe imprimir cada frase original junto con la cantidad de palabras que contiene.\n",
    "Ejemplo de uso:\n",
    "```python\n",
    "    frases = [\n",
    "        \"Python es un lenguaje de programación\",\n",
    "        \"Me gusta resolver problemas con código\",\n",
    "        \"Las listas y los bucles son muy útiles\"\n",
    "    ]\n",
    "\n",
    "    procesar_frases(frases)\n",
    "```\n",
    "\n",
    "ejemplo de salida:\n",
    "```bash\n",
    "    La frase: \"Python es un...\"\n",
    "    tiene 6 palabras y 38 caracteres\n",
    "```\n"
   ]
  },
  {
   "cell_type": "code",
   "execution_count": 8,
   "metadata": {},
   "outputs": [
    {
     "name": "stdout",
     "output_type": "stream",
     "text": [
      "La frase 'Hola me llamo agustin y me gusta programar' tiene 42 caracteres y 8 palabras\n",
      "La frase 'Tambien soy hincha de boca juniors' tiene 34 caracteres y 6 palabras\n",
      "La frase 'Mi pelicula favorita es matrix' tiene 30 caracteres y 5 palabras\n",
      "La frase 'Me gusta mucho el helado' tiene 24 caracteres y 5 palabras\n"
     ]
    }
   ],
   "source": [
    "# Implementar\n",
    "\n",
    "frases = [\"Hola me llamo agustin y me gusta programar\",\n",
    "          \"Tambien soy hincha de boca juniors\",\n",
    "          \"Mi pelicula favorita es matrix\",\n",
    "          \"Me gusta mucho el helado\",\n",
    "          ]\n",
    "\n",
    "palabras = []\n",
    "caracteres = []\n",
    "\n",
    "for i in frases:\n",
    "    palabras.append(i.split())\n",
    "    caracteres.append(len(i))\n",
    "    print(f\"La frase '{i}' tiene {len(i)} caracteres y {len(i.split())} palabras\")"
   ]
  },
  {
   "cell_type": "markdown",
   "metadata": {},
   "source": [
    "## Ejercicio 2\n",
    "\n",
    "Escribe una función en Python que encuentre los valores de `a`, `b`, y `c` para que la función cuadrática `f(x) = aX^2 + bX + c` pase exactamente por los siguientes puntos:\n",
    "\n",
    "| x  | y  |\n",
    "|---:|---:|\n",
    "|  0 |  0 |\n",
    "|  1 |  8 |\n",
    "|  2 | 12 |\n",
    "|  3 | 12 |\n",
    "|  5 |  0 |\n",
    "\n",
    "### Requisitos:\n",
    "- La función debe explorar posibles valores de `a`, `b`, y `c` utilizando un método de prueba y error.\n",
    "- Debe devolver los valores que hagan que la diferencia entre la función `f(x)` y los valores medidos `y` sea exactamente cero para cada punto.\n",
    "\n",
    "> **Pista**: Los valores de `a`, `b`, y `c` son números pequeños."
   ]
  },
  {
   "cell_type": "code",
   "execution_count": 10,
   "metadata": {},
   "outputs": [
    {
     "name": "stdout",
     "output_type": "stream",
     "text": [
      "Los coeficientes que hacen que la función cuadrática pase por los puntos son: a=-2, b=10, c=0\n"
     ]
    }
   ],
   "source": [
    "# Implementar\n",
    "def encuentra_coeficientes():\n",
    "    rango = range(-10, 11)\n",
    "    puntos = [(0, 0), (1, 8), (2, 12), (3, 12), (5, 0)]\n",
    "    for a in rango:\n",
    "        for b in rango:\n",
    "            for c in rango:\n",
    "                coincidencia = True\n",
    "                for x, y_real in puntos:\n",
    "                    y_calculado = a * x**2 + b * x + c\n",
    "                    if y_calculado != y_real:\n",
    "                        coincidencia = False\n",
    "                        break\n",
    "                if coincidencia:\n",
    "                    return a, b, c\n",
    "    return None\n",
    "\n",
    "coeficientes = encuentra_coeficientes()\n",
    "if coeficientes:\n",
    "    print(f\"Los coeficientes que hacen que la función cuadrática pase por los puntos son: a={coeficientes[0]}, b={coeficientes[1]}, c={coeficientes[2]}\")\n",
    "else:\n",
    "    print(\"No se encontraron coeficientes que satisfagan la condición exacta.\")\n",
    "\n",
    "    \n",
    "    "
   ]
  }
 ],
 "metadata": {
  "kernelspec": {
   "display_name": "Python 3",
   "language": "python",
   "name": "python3"
  },
  "language_info": {
   "codemirror_mode": {
    "name": "ipython",
    "version": 3
   },
   "file_extension": ".py",
   "mimetype": "text/x-python",
   "name": "python",
   "nbconvert_exporter": "python",
   "pygments_lexer": "ipython3",
   "version": "3.12.5"
  }
 },
 "nbformat": 4,
 "nbformat_minor": 2
}
