{
 "cells": [
  {
   "cell_type": "markdown",
   "metadata": {},
   "source": [
    "# Simulación del Truco"
   ]
  },
  {
   "cell_type": "markdown",
   "metadata": {},
   "source": [
    "Las **cartas** deben registra el numero, palo y valor de la carta. \n",
    "El valor debe reflejar la jerarquía de las cartas en el juego del truco."
   ]
  },
  {
   "cell_type": "code",
   "execution_count": 25,
   "metadata": {},
   "outputs": [
    {
     "name": "stdout",
     "output_type": "stream",
     "text": [
      "1 de Oros (Valor Truco: 8)\n",
      "7 de Espadas (Valor Truco: 12)\n",
      "3 de Copas (Valor Truco: 10)\n"
     ]
    }
   ],
   "source": [
    "def calcular_valor(numero, palo):\n",
    "    \n",
    "    if numero == 1 and palo == \"Espadas\":\n",
    "        return 14\n",
    "    elif numero == 1 and palo == \"Bastos\":\n",
    "        return 13\n",
    "    elif numero == 7 and palo == \"Espadas\":\n",
    "        return 12\n",
    "    elif numero == 7 and palo == \"Oros\":\n",
    "        return 11\n",
    "    elif numero == 3:\n",
    "        return 10\n",
    "    elif numero == 2:\n",
    "        return 9\n",
    "    elif numero == 1:\n",
    "        return 8\n",
    "    elif numero == 12:\n",
    "        return 7\n",
    "    elif numero == 11:\n",
    "        return 6\n",
    "    elif numero == 10:\n",
    "        return 5\n",
    "    elif numero == 7:\n",
    "        return 4\n",
    "    elif numero == 6:\n",
    "        return 3\n",
    "    elif numero == 5:\n",
    "        return 2\n",
    "    elif numero == 4:\n",
    "        return 1\n",
    "    else:\n",
    "        return 0\n",
    "    \n",
    "     \n",
    "class Carta:\n",
    "    def __init__(self, numero, palo):\n",
    "        self.numero = numero\n",
    "        self.palo = palo\n",
    "        self.valor_truco = calcular_valor(numero,palo)\n",
    "        \n",
    "    def __repr__(self):\n",
    "        return f\"{self.numero} de {self.palo} (Valor Truco: {self.valor_truco})\"    \n",
    "\n",
    "carta1 = Carta(1, \"Oros\")\n",
    "carta2 = Carta(7, \"Espadas\")\n",
    "carta3 = Carta(3, \"Copas\")\n",
    "\n",
    "print(carta1)\n",
    "print(carta2)\n",
    "print(carta3)\n",
    "\n"
   ]
  },
  {
   "cell_type": "markdown",
   "metadata": {},
   "source": [
    "**Mazo**: Representan las cartas españolas de 1 al 12, en los palos de oro, copa, espada y basto.\n",
    "\n",
    "Debe existir una función que permita barajar las cartas.\n",
    "y otra función que permita repartir las cartas a los jugadores."
   ]
  },
  {
   "cell_type": "code",
   "execution_count": 26,
   "metadata": {},
   "outputs": [
    {
     "name": "stdout",
     "output_type": "stream",
     "text": [
      "[5 de Bastos, 10 de Copas, 6 de Copas]\n"
     ]
    }
   ],
   "source": [
    "import random\n",
    "\n",
    "class Carta:\n",
    "    def __init__(self, numero, palo):\n",
    "        self.numero = numero\n",
    "        self.palo = palo\n",
    "        self.valor_truco = calcular_valor(numero,palo)\n",
    "        \n",
    "    def __repr__(self):\n",
    "        return f\"{self.numero} de {self.palo}\"    \n",
    "\n",
    "\n",
    "class Mazo:\n",
    "    def __init__(self):\n",
    "        numeros = [\"1\", \"2\", \"3\", \"4\", \"5\", \"6\", \"7\", \"10\", \"11\", \"12\"]\n",
    "        palos = [\"Espadas\", \"Bastos\", \"Oros\", \"Copas\"]\n",
    "        self.cartas = [Carta(numero,palo,) for numero in numeros for palo in palos]\n",
    "        \n",
    "            \n",
    "    def mezclar(self):\n",
    "        random.shuffle(self.cartas)\n",
    "    \n",
    "    def repartir(self, cantidad):\n",
    "        mano = self.cartas[:cantidad]\n",
    "        self.cartas = self.cartas[cantidad:]\n",
    "        return mano\n",
    "\n",
    "m = Mazo()\n",
    "m.mezclar()\n",
    "mano = m.repartir(3)\n",
    "print(mano)"
   ]
  },
  {
   "cell_type": "markdown",
   "metadata": {},
   "source": [
    "**Jugador**: Deben tener un nombre y las cartas que tiene en la mano. Debe acumular los puntos ganados.\n",
    "\n",
    "Nota: Para simplificar el problema, el jugador elige la carta a jugar de forma aleatoria."
   ]
  },
  {
   "cell_type": "code",
   "execution_count": 27,
   "metadata": {},
   "outputs": [
    {
     "name": "stdout",
     "output_type": "stream",
     "text": [
      "Cartas en la mano de Juan: [4 de Copas, 2 de Bastos, 7 de Espadas]\n",
      "Juan juega la carta: 2 de Bastos\n",
      "Cartas restantes en la mano de Juan: [4 de Copas, 7 de Espadas]\n"
     ]
    }
   ],
   "source": [
    "class Jugador:\n",
    "    \n",
    "    def __init__(self, nombre):\n",
    "        self.nombre = nombre\n",
    "        self.cartas = []\n",
    "        self.puntos = 0\n",
    "    \n",
    "    \n",
    "    def recibir_cartas(self, cartas):\n",
    "        self.cartas = cartas\n",
    "    \n",
    "    def jugar_carta(self):\n",
    "        if not self.cartas:\n",
    "            return None\n",
    "        carta_jugada = random.choice(self.cartas)\n",
    "        self.cartas.remove(carta_jugada)\n",
    "        return carta_jugada\n",
    "    \n",
    "    def ganar_puntos(self, puntos):\n",
    "        self.puntos += puntos\n",
    "        \n",
    "        \n",
    "\n",
    "j = Jugador(\"Juan\")\n",
    "j.recibir_cartas(m.repartir(3))\n",
    "\n",
    "print(f\"Cartas en la mano de {j.nombre}: {j.cartas}\")\n",
    "print(f\"{j.nombre} juega la carta: {j.jugar_carta()}\")\n",
    "print(f\"Cartas restantes en la mano de {j.nombre}: {j.cartas}\")"
   ]
  },
  {
   "cell_type": "markdown",
   "metadata": {},
   "source": [
    "**Partida**: Debe tener dos jugadores, un mazo de cartas y un puntaje. Debe permitir jugar una carta por ronda y definir el ganador de la ronda. Debe permitir jugar hasta que se terminen las cartas del mazo."
   ]
  },
  {
   "cell_type": "code",
   "execution_count": 28,
   "metadata": {},
   "outputs": [
    {
     "name": "stdout",
     "output_type": "stream",
     "text": [
      "\n",
      "--- Nueva Ronda ---\n",
      "Juan juega: 1 de Oros\n",
      "Pedro juega: 2 de Bastos\n",
      "Empate en la ronda\n",
      "\n",
      "--- Nueva Ronda ---\n",
      "Juan juega: 11 de Bastos\n",
      "Pedro juega: 12 de Espadas\n",
      "Empate en la ronda\n",
      "\n",
      "--- Nueva Ronda ---\n",
      "Juan juega: 4 de Oros\n",
      "Pedro juega: 5 de Bastos\n",
      "Empate en la ronda\n",
      "\n",
      "--- Nueva Ronda ---\n",
      "Juan juega: 3 de Oros\n",
      "Pedro juega: 11 de Oros\n",
      "Empate en la ronda\n",
      "\n",
      "--- Nueva Ronda ---\n",
      "Juan juega: 7 de Espadas\n",
      "Pedro juega: 5 de Espadas\n",
      "Empate en la ronda\n",
      "\n",
      "--- Nueva Ronda ---\n",
      "Juan juega: 7 de Bastos\n",
      "Pedro juega: 6 de Copas\n",
      "Empate en la ronda\n",
      "\n",
      "--- Nueva Ronda ---\n",
      "Juan juega: 6 de Espadas\n",
      "Pedro juega: 3 de Espadas\n",
      "Empate en la ronda\n",
      "Se han acabado las cartas del mazo.\n",
      "Puntos finales: Juan: 0, Pedro: 0\n"
     ]
    }
   ],
   "source": [
    "class Partida:\n",
    "    def __init__(self, jugador1, jugador2):\n",
    "        self.jugador1 = jugador1\n",
    "        self.jugador2 = jugador2\n",
    "        self.mazo = Mazo()\n",
    "        self.mazo.mezclar()\n",
    "        \n",
    "\n",
    "    # Método para jugar una ronda\n",
    "    def jugar_ronda(self):\n",
    "        # Ambos jugadores juegan una carta\n",
    "        carta_j1 = self.jugador1.jugar_carta()\n",
    "        carta_j2 = self.jugador2.jugar_carta()\n",
    "\n",
    "        if carta_j1 is None or carta_j2 is None:\n",
    "            return \"No hay más cartas para jugar.\"\n",
    "\n",
    "        print(f\"{self.jugador1.nombre} juega: {carta_j1}\")\n",
    "        print(f\"{self.jugador2.nombre} juega: {carta_j2}\")\n",
    "\n",
    "        # Determinar quién gana la ronda\n",
    "        if carta_j1.valor_truco > carta_j2.valor_truco:\n",
    "            self.jugador1.ganar_puntos(1)\n",
    "            print(f\"{self.jugador1.nombre} gana la ronda\")\n",
    "        elif carta_j2.valor_truco > carta_j1.valor_truco:\n",
    "            self.jugador2.ganar_puntos(1)\n",
    "            print(f\"{self.jugador2.nombre} gana la ronda\")\n",
    "        else:\n",
    "            print(\"Empate en la ronda\")\n",
    "\n",
    "    # Método para jugar la partida completa\n",
    "    def jugar(self):\n",
    "        while self.jugador1.puntos < 15 and self.jugador2.puntos < 15:\n",
    "            # Repartir 3 cartas a cada jugador al inicio de cada ronda\n",
    "            self.jugador1.recibir_cartas(self.mazo.repartir(3))\n",
    "            self.jugador2.recibir_cartas(self.mazo.repartir(3))\n",
    "\n",
    "            print(f\"\\n--- Nueva Ronda ---\")\n",
    "            self.jugar_ronda()\n",
    "\n",
    "            # Revisar si se alcanzaron los 15 puntos\n",
    "            if self.jugador1.puntos >= 15:\n",
    "                print(f\"{self.jugador1.nombre} ha ganado la partida con {self.jugador1.puntos} puntos.\")\n",
    "                break\n",
    "            elif self.jugador2.puntos >= 15:\n",
    "                print(f\"{self.jugador2.nombre} ha ganado la partida con {self.jugador2.puntos} puntos.\")\n",
    "                break\n",
    "\n",
    "            # Si el mazo se queda sin cartas, termina la partida\n",
    "            if len(self.mazo.cartas) == 0:\n",
    "                print(\"Se han acabado las cartas del mazo.\")\n",
    "                break\n",
    "\n",
    "        # Mostrar el resultado final\n",
    "        print(f\"Puntos finales: {self.jugador1.nombre}: {self.jugador1.puntos}, {self.jugador2.nombre}: {self.jugador2.puntos}\")\n",
    "\n",
    "# Ejemplo de uso\n",
    "p = Partida(Jugador(\"Juan\"), Jugador(\"Pedro\"))\n",
    "p.jugar()"
   ]
  }
 ],
 "metadata": {
  "kernelspec": {
   "display_name": "Python 3",
   "language": "python",
   "name": "python3"
  },
  "language_info": {
   "codemirror_mode": {
    "name": "ipython",
    "version": 3
   },
   "file_extension": ".py",
   "mimetype": "text/x-python",
   "name": "python",
   "nbconvert_exporter": "python",
   "pygments_lexer": "ipython3",
   "version": "3.12.5"
  }
 },
 "nbformat": 4,
 "nbformat_minor": 2
}
