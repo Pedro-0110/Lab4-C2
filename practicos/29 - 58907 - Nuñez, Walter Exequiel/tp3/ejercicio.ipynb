{
 "cells": [
  {
   "cell_type": "markdown",
   "metadata": {},
   "source": [
    "#TP3"
   ]
  },
  {
   "cell_type": "markdown",
   "metadata": {},
   "source": [
    "## Ejercicio 1: Cargar Datos de ventas.\n",
    "\n",
    "El archivo datos.dat contiene el registro de las ventas realizadas.\n",
    "\n",
    "Tiene un formato de ancho fijo:\n",
    "- fecha:    10 lugares\n",
    "- producto: 30 lugares\n",
    "- precio:   10 lugares\n",
    "- cantidad:  5 lugares\n",
    "\n",
    "hacer una funcion que carge los en una lista de diccionarios. \n",
    "\n",
    "nota: con \n",
    "```python\n",
    "lineas = open(\"datos.dat\", \"r\").readlines() \n",
    "```\n",
    "puede obtener la lista de string de todos los datos "
   ]
  },
  {
   "cell_type": "code",
   "execution_count": 201,
   "metadata": {},
   "outputs": [
    {
     "name": "stdout",
     "output_type": "stream",
     "text": [
      "{'fecha': '2024-08-27', 'producto': 'Mirinda', 'precio': 1510.0, 'cantidad': 14}\n",
      "{'fecha': '2024-08-27', 'producto': 'Mirinda', 'precio': 1560.0, 'cantidad': 12}\n",
      "{'fecha': '2024-08-28', 'producto': 'Torasso', 'precio': 940.0, 'cantidad': 8}\n",
      "{'fecha': '2024-08-29', 'producto': 'Pepsi Cola', 'precio': 1210.0, 'cantidad': 10}\n",
      "{'fecha': '2024-08-30', 'producto': 'Mirinda', 'precio': 1520.0, 'cantidad': 1}\n",
      "{'fecha': '2024-09-01', 'producto': 'Mirinda', 'precio': 1550.0, 'cantidad': 15}\n",
      "{'fecha': '2024-09-01', 'producto': 'Sprite', 'precio': 810.0, 'cantidad': 4}\n",
      "{'fecha': '2024-09-02', 'producto': 'Coca Cola', 'precio': 1100.0, 'cantidad': 4}\n",
      "{'fecha': '2024-09-02', 'producto': 'Pepsi Cola', 'precio': 1220.0, 'cantidad': 13}\n",
      "{'fecha': '2024-09-02', 'producto': 'Torasso', 'precio': 910.0, 'cantidad': 5}\n",
      "{'fecha': '2024-09-02', 'producto': 'Torasso', 'precio': 920.0, 'cantidad': 3}\n",
      "{'fecha': '2024-09-03', 'producto': 'Coca Cola', 'precio': 1020.0, 'cantidad': 8}\n",
      "{'fecha': '2024-09-03', 'producto': 'Mirinda', 'precio': 1570.0, 'cantidad': 7}\n",
      "{'fecha': '2024-09-03', 'producto': 'Mirinda', 'precio': 1590.0, 'cantidad': 2}\n",
      "{'fecha': '2024-09-04', 'producto': 'Pepsi Cola', 'precio': 1220.0, 'cantidad': 13}\n",
      "{'fecha': '2024-09-05', 'producto': 'Mirinda', 'precio': 1500.0, 'cantidad': 3}\n",
      "{'fecha': '2024-09-05', 'producto': 'Pepsi Cola', 'precio': 1300.0, 'cantidad': 5}\n",
      "{'fecha': '2024-09-06', 'producto': 'Coca Cola', 'precio': 1080.0, 'cantidad': 1}\n",
      "{'fecha': '2024-09-06', 'producto': 'Sprite', 'precio': 860.0, 'cantidad': 12}\n",
      "{'fecha': '2024-09-06', 'producto': 'Torasso', 'precio': 930.0, 'cantidad': 3}\n",
      "{'fecha': '2024-09-07', 'producto': 'Coca Cola', 'precio': 1080.0, 'cantidad': 14}\n",
      "{'fecha': '2024-09-07', 'producto': 'Sprite', 'precio': 870.0, 'cantidad': 13}\n",
      "{'fecha': '2024-09-08', 'producto': 'Coca Cola', 'precio': 1040.0, 'cantidad': 10}\n",
      "{'fecha': '2024-09-08', 'producto': 'Mirinda', 'precio': 1580.0, 'cantidad': 2}\n",
      "{'fecha': '2024-09-08', 'producto': 'Pepsi Cola', 'precio': 1240.0, 'cantidad': 9}\n",
      "{'fecha': '2024-09-09', 'producto': 'Mirinda', 'precio': 1500.0, 'cantidad': 3}\n",
      "{'fecha': '2024-09-09', 'producto': 'Sprite', 'precio': 850.0, 'cantidad': 9}\n",
      "{'fecha': '2024-09-10', 'producto': 'Mirinda', 'precio': 1590.0, 'cantidad': 8}\n",
      "{'fecha': '2024-09-10', 'producto': 'Pepsi Cola', 'precio': 1250.0, 'cantidad': 12}\n",
      "{'fecha': '2024-09-11', 'producto': 'Sprite', 'precio': 810.0, 'cantidad': 6}\n",
      "{'fecha': '2024-09-11', 'producto': 'Sprite', 'precio': 820.0, 'cantidad': 14}\n",
      "{'fecha': '2024-09-12', 'producto': 'Coca Cola', 'precio': 1080.0, 'cantidad': 4}\n",
      "{'fecha': '2024-09-13', 'producto': 'Mirinda', 'precio': 1580.0, 'cantidad': 5}\n",
      "{'fecha': '2024-09-13', 'producto': 'Pepsi Cola', 'precio': 1250.0, 'cantidad': 13}\n",
      "{'fecha': '2024-09-14', 'producto': 'Coca Cola', 'precio': 1080.0, 'cantidad': 15}\n",
      "{'fecha': '2024-09-14', 'producto': 'Pepsi Cola', 'precio': 1270.0, 'cantidad': 14}\n",
      "{'fecha': '2024-09-15', 'producto': 'Coca Cola', 'precio': 1100.0, 'cantidad': 1}\n",
      "{'fecha': '2024-09-15', 'producto': 'Mirinda', 'precio': 1500.0, 'cantidad': 13}\n",
      "{'fecha': '2024-09-15', 'producto': 'Sprite', 'precio': 870.0, 'cantidad': 14}\n",
      "{'fecha': '2024-09-15', 'producto': 'Torasso', 'precio': 900.0, 'cantidad': 13}\n"
     ]
    }
   ],
   "source": [
    "def cargar_datos(ruta_arhivo):\n",
    "    \n",
    "    lineas = open(ruta_archivo, \"r\").readlines()\n",
    "    \n",
    "    ventas = []\n",
    "    \n",
    "    for linea in lineas:\n",
    "        \n",
    "        fecha = linea[:10].strip()\n",
    "        producto = linea[10:40].strip()\n",
    "        precio = float(linea[40:50].strip())\n",
    "        cantidad = int(linea[50:55].strip())\n",
    "        \n",
    "        venta = {\n",
    "            \"fecha\": fecha,\n",
    "            \"producto\": producto,\n",
    "            \"precio\": precio,\n",
    "            \"cantidad\": cantidad\n",
    "        }\n",
    "        \n",
    "        ventas.append(venta)\n",
    "        \n",
    "    return ventas        \n",
    "\n",
    "ruta_archivo = \"datos.dat\"\n",
    "datos = cargar_datos(ruta_archivo)\n",
    "\n",
    "for venta in datos:\n",
    "    print(venta)\n"
   ]
  },
  {
   "cell_type": "markdown",
   "metadata": {},
   "source": [
    "## Ejercicio 2: Calcular el total de ventas.\n",
    "\n",
    "Hacer una funcion que sume los importes vendidos (precio * cantidad) y las cantidades"
   ]
  },
  {
   "cell_type": "code",
   "execution_count": 202,
   "metadata": {},
   "outputs": [
    {
     "name": "stdout",
     "output_type": "stream",
     "text": [
      "Las ventas fueron de $392730.00\n",
      "Total de cantidad vendida: 335\n"
     ]
    }
   ],
   "source": [
    "def calcular_totales(datos):\n",
    "    total_importe = 0.0\n",
    "    total_cantidad = 0\n",
    "    \n",
    "    for venta in datos:\n",
    "        importe_venta = venta[\"precio\"] * venta[\"cantidad\"]\n",
    "        \n",
    "        total_importe += importe_venta\n",
    "        total_cantidad += venta[\"cantidad\"]\n",
    "        \n",
    "    return total_importe,total_cantidad    \n",
    "\n",
    "total_importe, total_cantidad = calcular_totales(datos)\n",
    "\n",
    "print(f\"Las ventas fueron de ${total_importe:.2f}\")\n",
    "print(f\"Total de cantidad vendida: {total_cantidad}\")"
   ]
  },
  {
   "cell_type": "markdown",
   "metadata": {},
   "source": [
    "## Ejercicio 3: Listar las unidades vendidas.\n",
    "\n",
    "Listar cuantas unidades se vendieron en total para cada producto"
   ]
  },
  {
   "cell_type": "code",
   "execution_count": 203,
   "metadata": {},
   "outputs": [
    {
     "name": "stdout",
     "output_type": "stream",
     "text": [
      "Producto: Mirinda, Unidades vendidas: 85\n",
      "Producto: Torasso, Unidades vendidas: 32\n",
      "Producto: Pepsi Cola, Unidades vendidas: 89\n",
      "Producto: Sprite, Unidades vendidas: 72\n",
      "Producto: Coca Cola, Unidades vendidas: 57\n"
     ]
    }
   ],
   "source": [
    "def unidades_vendidas(datos):\n",
    "    \n",
    "    ventas_por_producto = {}\n",
    "    \n",
    "    for venta in datos:\n",
    "        producto = venta[\"producto\"]\n",
    "        total_cantidad = venta[\"cantidad\"]\n",
    "        \n",
    "        if producto in ventas_por_producto:\n",
    "            ventas_por_producto[producto] += total_cantidad\n",
    "        else: \n",
    "            ventas_por_producto[producto] = total_cantidad\n",
    "            \n",
    "    return ventas_por_producto\n",
    "\n",
    "unidades_vendidas_por_producto = unidades_vendidas(datos)\n",
    "\n",
    "for producto, total_cantidad in unidades_vendidas_por_producto.items():\n",
    "    print(f\"Producto: {producto}, Unidades vendidas: {total_cantidad}\")          \n",
    "\n",
    "def listar_ventas(datos):\n",
    "    pass\n",
    "\n",
    "ventas = unidades_vendidas(datos)\n",
    "listar_ventas(ventas)\n"
   ]
  },
  {
   "cell_type": "markdown",
   "metadata": {},
   "source": [
    "##  Ejercicio 4: Listar el precio promedio por producto.\n",
    "\n",
    "Hacer un listado del precio promedio por productos."
   ]
  },
  {
   "cell_type": "code",
   "execution_count": 204,
   "metadata": {},
   "outputs": [
    {
     "name": "stdout",
     "output_type": "stream",
     "text": [
      "Producto: Mirinda, Precio promedio: 1545.83\n",
      "Producto: Torasso, Precio promedio: 920.00\n",
      "Producto: Pepsi Cola, Precio promedio: 1245.00\n",
      "Producto: Sprite, Precio promedio: 841.43\n",
      "Producto: Coca Cola, Precio promedio: 1072.50\n"
     ]
    }
   ],
   "source": [
    "def precio_promedio(datos):\n",
    "    \n",
    "    precios_y_ventas_por_producto = {}\n",
    "    \n",
    "    for venta in datos:\n",
    "        producto = venta[\"producto\"]\n",
    "        precio = venta[\"precio\"]\n",
    "        \n",
    "        if producto in precios_y_ventas_por_producto:\n",
    "            precios_y_ventas_por_producto[producto][\"suma_precios\"] += precio\n",
    "            precios_y_ventas_por_producto[producto][\"num_ventas\"] += 1\n",
    "        else:\n",
    "            precios_y_ventas_por_producto[producto] ={\n",
    "                \"suma_precios\": precio,\n",
    "                \"num_ventas\": 1\n",
    "            }           \n",
    "    \n",
    "    precios_promedio_por_producto = {}\n",
    "    for producto, datos in precios_y_ventas_por_producto.items():\n",
    "        precios_promedio_por_producto[producto] = datos[\"suma_precios\"] / datos[\"num_ventas\"]\n",
    "        \n",
    "    return precios_promedio_por_producto\n",
    "\n",
    "precio_promedio_por_producto = precio_promedio(datos)\n",
    "\n",
    "for producto, precio_promedio in precio_promedio_por_producto.items():\n",
    "    print(f\"Producto: {producto}, Precio promedio: {precio_promedio:.2f}\")    \n",
    "    \n"
   ]
  },
  {
   "cell_type": "markdown",
   "metadata": {},
   "source": [
    "### Ejercicio 5: Ranking de productos\n",
    "\n",
    "Realizar un listado de los 3 productos mas vendidos ordenados la cantidad de unidades vendidas (ordenadas de mayor a menor)\n"
   ]
  },
  {
   "cell_type": "code",
   "execution_count": 205,
   "metadata": {},
   "outputs": [
    {
     "name": "stdout",
     "output_type": "stream",
     "text": [
      "Ranking de los 3 productos más vendidos:\n",
      "1. Producto: Pepsi Cola, Unidades vendidas: 89\n",
      "2. Producto: Mirinda, Unidades vendidas: 85\n",
      "3. Producto: Sprite, Unidades vendidas: 72\n"
     ]
    }
   ],
   "source": [
    "def ranking_productos(datos, top=3):\n",
    "    \n",
    "    ventas_por_producto = {}\n",
    "\n",
    "    \n",
    "    for venta in datos:\n",
    "        producto = venta[\"producto\"]\n",
    "        cantidad = venta[\"cantidad\"]\n",
    "\n",
    "       \n",
    "        if producto in ventas_por_producto:\n",
    "            ventas_por_producto[producto] += cantidad\n",
    "        else:\n",
    "            ventas_por_producto[producto] = cantidad\n",
    "     \n",
    "    ventas_ordenadas = sorted(ventas_por_producto.items(), key=lambda x: x[1], reverse=True)\n",
    "    \n",
    "   \n",
    "    return ventas_ordenadas[:top]\n",
    "\n",
    "def listar_ranking(ranking):\n",
    "    \n",
    "    print(f\"Ranking de los {len(ranking)} productos más vendidos:\")\n",
    "    for i, (producto, cantidad) in enumerate(ranking, 1):\n",
    "        print(f\"{i}. Producto: {producto}, Unidades vendidas: {cantidad}\")\n",
    "\n",
    "\n",
    "ranking = ranking_productos(datos)\n",
    "listar_ranking(ranking)          "
   ]
  },
  {
   "cell_type": "markdown",
   "metadata": {},
   "source": [
    "### Ejercicio 6: Listar las ventas por mes\n",
    "\n",
    "Realizar un listado del total de unidades vendidas por productos separada por mes."
   ]
  },
  {
   "cell_type": "code",
   "execution_count": 206,
   "metadata": {},
   "outputs": [
    {
     "name": "stdout",
     "output_type": "stream",
     "text": [
      "Ventas en 2024-08:\n",
      "  Producto: Mirinda, Unidades vendidas: 27\n",
      "  Producto: Torasso, Unidades vendidas: 8\n",
      "  Producto: Pepsi Cola, Unidades vendidas: 10\n",
      "\n",
      "Ventas en 2024-09:\n",
      "  Producto: Mirinda, Unidades vendidas: 58\n",
      "  Producto: Sprite, Unidades vendidas: 72\n",
      "  Producto: Coca Cola, Unidades vendidas: 57\n",
      "  Producto: Pepsi Cola, Unidades vendidas: 79\n",
      "  Producto: Torasso, Unidades vendidas: 24\n",
      "\n"
     ]
    }
   ],
   "source": [
    "from collections import defaultdict\n",
    "from datetime import datetime\n",
    "\n",
    "def ventas_por_mes(datos):\n",
    "   \n",
    "    ventas_mensuales = defaultdict(lambda: defaultdict(int))\n",
    "\n",
    "   \n",
    "    for venta in datos:\n",
    "      \n",
    "        fecha = venta[\"fecha\"]\n",
    "        mes = datetime.strptime(fecha, \"%Y-%m-%d\").strftime(\"%Y-%m\")\n",
    "        \n",
    "   \n",
    "        producto = venta[\"producto\"]\n",
    "        cantidad = venta[\"cantidad\"]\n",
    "        \n",
    "       \n",
    "        ventas_mensuales[mes][producto] += cantidad\n",
    "\n",
    "    return ventas_mensuales\n",
    "\n",
    "def listar_ventas_mensuales(ventas):\n",
    "  \n",
    "    for mes, productos in ventas.items():\n",
    "        print(f\"Ventas en {mes}:\")\n",
    "        for producto, cantidad in productos.items():\n",
    "            print(f\"  Producto: {producto}, Unidades vendidas: {cantidad}\")\n",
    "        print()  \n",
    "\n",
    "\n",
    "ventas = ventas_por_mes(datos)\n",
    "listar_ventas_mensuales(ventas)"
   ]
  },
  {
   "cell_type": "markdown",
   "metadata": {},
   "source": [
    "### Ejercicio 7: Informe general\n",
    "\n",
    "Mostrar un listado de productos ordenados alfabeticamente que contengan el precio promedio, la cantidad de unidades vendidas y el importe total vendido para cada producto"
   ]
  },
  {
   "cell_type": "code",
   "execution_count": 207,
   "metadata": {},
   "outputs": [
    {
     "name": "stdout",
     "output_type": "stream",
     "text": [
      "Informe general de productos:\n",
      "Producto: Coca Cola\n",
      "  Precio promedio: 1072.50\n",
      "  Cantidad vendida: 57\n",
      "  Importe total: 60780.00\n",
      "\n",
      "Producto: Mirinda\n",
      "  Precio promedio: 1545.83\n",
      "  Cantidad vendida: 85\n",
      "  Importe total: 131080.00\n",
      "\n",
      "Producto: Pepsi Cola\n",
      "  Precio promedio: 1245.00\n",
      "  Cantidad vendida: 89\n",
      "  Importe total: 110510.00\n",
      "\n",
      "Producto: Sprite\n",
      "  Precio promedio: 841.43\n",
      "  Cantidad vendida: 72\n",
      "  Importe total: 61040.00\n",
      "\n",
      "Producto: Torasso\n",
      "  Precio promedio: 920.00\n",
      "  Cantidad vendida: 32\n",
      "  Importe total: 29320.00\n",
      "\n"
     ]
    }
   ],
   "source": [
    "def resumen_ventas(datos):\n",
    "    # Diccionario para almacenar la información por producto\n",
    "    info_productos = {}\n",
    "\n",
    "    # Recorremos cada venta\n",
    "    for venta in datos:\n",
    "        producto = venta[\"producto\"]\n",
    "        precio = venta[\"precio\"]\n",
    "        cantidad = venta[\"cantidad\"]\n",
    "        importe_total = precio * cantidad\n",
    "\n",
    "        # Si el producto ya está en el diccionario, actualizamos la información\n",
    "        if producto in info_productos:\n",
    "            info_productos[producto][\"suma_precios\"] += precio\n",
    "            info_productos[producto][\"cantidad_vendida\"] += cantidad\n",
    "            info_productos[producto][\"importe_total\"] += importe_total\n",
    "            info_productos[producto][\"num_ventas\"] += 1\n",
    "        else:\n",
    "            # Si es la primera vez que vemos el producto, lo agregamos\n",
    "            info_productos[producto] = {\n",
    "                \"suma_precios\": precio,\n",
    "                \"cantidad_vendida\": cantidad,\n",
    "                \"importe_total\": importe_total,\n",
    "                \"num_ventas\": 1\n",
    "            }\n",
    "\n",
    "    # Crear el informe final con el precio promedio\n",
    "    informe_final = []\n",
    "    for producto, datos in info_productos.items():\n",
    "        precio_promedio = datos[\"suma_precios\"] / datos[\"num_ventas\"]\n",
    "        informe_final.append({\n",
    "            \"producto\": producto,\n",
    "            \"precio_promedio\": precio_promedio,\n",
    "            \"cantidad_vendida\": datos[\"cantidad_vendida\"],\n",
    "            \"importe_total\": datos[\"importe_total\"]\n",
    "        })\n",
    "\n",
    "    # Ordenamos los productos alfabéticamente\n",
    "    informe_final.sort(key=lambda x: x[\"producto\"])\n",
    "\n",
    "    return informe_final\n",
    "\n",
    "def informe_ventas(informe):\n",
    "    # Imprimir el informe general formateado\n",
    "    print(\"Informe general de productos:\")\n",
    "    for producto in informe:\n",
    "        print(f\"Producto: {producto['producto']}\")\n",
    "        print(f\"  Precio promedio: {producto['precio_promedio']:.2f}\")\n",
    "        print(f\"  Cantidad vendida: {producto['cantidad_vendida']}\")\n",
    "        print(f\"  Importe total: {producto['importe_total']:.2f}\")\n",
    "        print()\n",
    "\n",
    "# Ejemplo de uso\n",
    "informe = resumen_ventas(datos)\n",
    "informe_ventas(informe)\n"
   ]
  }
 ],
 "metadata": {
  "kernelspec": {
   "display_name": "Python 3",
   "language": "python",
   "name": "python3"
  },
  "language_info": {
   "codemirror_mode": {
    "name": "ipython",
    "version": 3
   },
   "file_extension": ".py",
   "mimetype": "text/x-python",
   "name": "python",
   "nbconvert_exporter": "python",
   "pygments_lexer": "ipython3",
   "version": "3.12.5"
  }
 },
 "nbformat": 4,
 "nbformat_minor": 2
}
