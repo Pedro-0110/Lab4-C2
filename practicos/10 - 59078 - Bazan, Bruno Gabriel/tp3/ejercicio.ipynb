{
 "cells": [
  {
   "cell_type": "markdown",
   "metadata": {},
   "source": [
    "#TP3"
   ]
  },
  {
   "cell_type": "markdown",
   "metadata": {},
   "source": [
    "## Ejercicio 1: Cargar Datos de ventas.\n",
    "\n",
    "El archivo datos.dat contiene el registro de las ventas realizadas.\n",
    "\n",
    "Tiene un formato de ancho fijo:\n",
    "- fecha:    10 lugares\n",
    "- producto: 30 lugares\n",
    "- precio:   10 lugares\n",
    "- cantidad:  5 lugares\n",
    "\n",
    "hacer una funcion que carge los en una lista de diccionarios. \n",
    "\n",
    "nota: con \n",
    "```python\n",
    "lineas = open(\"datos.dat\", \"r\").readlines() \n",
    "```\n",
    "puede obtener la lista de string de todos los datos "
   ]
  },
  {
   "cell_type": "code",
   "execution_count": 13,
   "metadata": {},
   "outputs": [
    {
     "name": "stdout",
     "output_type": "stream",
     "text": [
      "[{'fecha': '2024-08-27', 'producto': 'Mirinda', 'precio': 1510, 'cantidad': 14}, {'fecha': '2024-08-27', 'producto': 'Mirinda', 'precio': 1560, 'cantidad': 12}, {'fecha': '2024-08-28', 'producto': 'Torasso', 'precio': 940, 'cantidad': 8}, {'fecha': '2024-08-29', 'producto': 'Pepsi Cola', 'precio': 1210, 'cantidad': 10}, {'fecha': '2024-08-30', 'producto': 'Mirinda', 'precio': 1520, 'cantidad': 1}, {'fecha': '2024-09-01', 'producto': 'Mirinda', 'precio': 1550, 'cantidad': 15}, {'fecha': '2024-09-01', 'producto': 'Sprite', 'precio': 810, 'cantidad': 4}, {'fecha': '2024-09-02', 'producto': 'Coca Cola', 'precio': 1100, 'cantidad': 4}, {'fecha': '2024-09-02', 'producto': 'Pepsi Cola', 'precio': 1220, 'cantidad': 13}, {'fecha': '2024-09-02', 'producto': 'Torasso', 'precio': 910, 'cantidad': 5}, {'fecha': '2024-09-02', 'producto': 'Torasso', 'precio': 920, 'cantidad': 3}, {'fecha': '2024-09-03', 'producto': 'Coca Cola', 'precio': 1020, 'cantidad': 8}, {'fecha': '2024-09-03', 'producto': 'Mirinda', 'precio': 1570, 'cantidad': 7}, {'fecha': '2024-09-03', 'producto': 'Mirinda', 'precio': 1590, 'cantidad': 2}, {'fecha': '2024-09-04', 'producto': 'Pepsi Cola', 'precio': 1220, 'cantidad': 13}, {'fecha': '2024-09-05', 'producto': 'Mirinda', 'precio': 1500, 'cantidad': 3}, {'fecha': '2024-09-05', 'producto': 'Pepsi Cola', 'precio': 1300, 'cantidad': 5}, {'fecha': '2024-09-06', 'producto': 'Coca Cola', 'precio': 1080, 'cantidad': 1}, {'fecha': '2024-09-06', 'producto': 'Sprite', 'precio': 860, 'cantidad': 12}, {'fecha': '2024-09-06', 'producto': 'Torasso', 'precio': 930, 'cantidad': 3}, {'fecha': '2024-09-07', 'producto': 'Coca Cola', 'precio': 1080, 'cantidad': 14}, {'fecha': '2024-09-07', 'producto': 'Sprite', 'precio': 870, 'cantidad': 13}, {'fecha': '2024-09-08', 'producto': 'Coca Cola', 'precio': 1040, 'cantidad': 10}, {'fecha': '2024-09-08', 'producto': 'Mirinda', 'precio': 1580, 'cantidad': 2}, {'fecha': '2024-09-08', 'producto': 'Pepsi Cola', 'precio': 1240, 'cantidad': 9}, {'fecha': '2024-09-09', 'producto': 'Mirinda', 'precio': 1500, 'cantidad': 3}, {'fecha': '2024-09-09', 'producto': 'Sprite', 'precio': 850, 'cantidad': 9}, {'fecha': '2024-09-10', 'producto': 'Mirinda', 'precio': 1590, 'cantidad': 8}, {'fecha': '2024-09-10', 'producto': 'Pepsi Cola', 'precio': 1250, 'cantidad': 12}, {'fecha': '2024-09-11', 'producto': 'Sprite', 'precio': 810, 'cantidad': 6}, {'fecha': '2024-09-11', 'producto': 'Sprite', 'precio': 820, 'cantidad': 14}, {'fecha': '2024-09-12', 'producto': 'Coca Cola', 'precio': 1080, 'cantidad': 4}, {'fecha': '2024-09-13', 'producto': 'Mirinda', 'precio': 1580, 'cantidad': 5}, {'fecha': '2024-09-13', 'producto': 'Pepsi Cola', 'precio': 1250, 'cantidad': 13}, {'fecha': '2024-09-14', 'producto': 'Coca Cola', 'precio': 1080, 'cantidad': 15}, {'fecha': '2024-09-14', 'producto': 'Pepsi Cola', 'precio': 1270, 'cantidad': 14}, {'fecha': '2024-09-15', 'producto': 'Coca Cola', 'precio': 1100, 'cantidad': 1}, {'fecha': '2024-09-15', 'producto': 'Mirinda', 'precio': 1500, 'cantidad': 13}, {'fecha': '2024-09-15', 'producto': 'Sprite', 'precio': 870, 'cantidad': 14}, {'fecha': '2024-09-15', 'producto': 'Torasso', 'precio': 900, 'cantidad': 13}]\n"
     ]
    }
   ],
   "source": [
    "def cargar_datos():\n",
    "    # Abrimos el archivo y leemos las líneas\n",
    "    lineas = open(\"datos.dat\", \"r\").readlines()\n",
    "    \n",
    "    # Lista que almacenará los diccionarios de ventas\n",
    "    ventas = []\n",
    "    \n",
    "    # Procesamos cada línea\n",
    "    for linea in lineas:\n",
    "        # Extraemos los valores basados en las posiciones de ancho fijo\n",
    "        fecha = linea[0:10].strip()          # Fecha en los primeros 10 caracteres\n",
    "        producto = linea[10:40].strip()      # Producto entre el índice 10 y 40\n",
    "        precio = int(linea[40:50].strip())   # Precio entre el índice 40 y 50\n",
    "        cantidad = int(linea[50:55].strip()) # Cantidad entre el índice 50 y 55\n",
    "            \n",
    "        # Creamos un diccionario con los datos de la venta\n",
    "        venta = {\n",
    "            'fecha': fecha,\n",
    "            'producto': producto,\n",
    "            'precio': precio,\n",
    "            'cantidad': cantidad\n",
    "            }\n",
    "            \n",
    "        # Añadimos el diccionario a la lista de ventas\n",
    "        ventas.append(venta)\n",
    "    \n",
    "    return ventas\n",
    "\n",
    "# Ejemplo de uso\n",
    "datos = cargar_datos()\n",
    "print(datos)\n"
   ]
  },
  {
   "cell_type": "markdown",
   "metadata": {},
   "source": [
    "## Ejercicio 2: Calcular el total de ventas.\n",
    "\n",
    "Hacer una funcion que sume los importes vendidos (precio * cantidad) y las cantidades"
   ]
  },
  {
   "cell_type": "code",
   "execution_count": 14,
   "metadata": {},
   "outputs": [
    {
     "name": "stdout",
     "output_type": "stream",
     "text": [
      "Total Importe Vendido: 392730, Total Unidades Vendidas: 335\n"
     ]
    }
   ],
   "source": [
    "def calcular_total_ventas(ventas):\n",
    "    total_importe = 0\n",
    "    total_cantidad = 0\n",
    "    \n",
    "    for venta in ventas:\n",
    "        total_importe += venta['precio'] * venta['cantidad']\n",
    "        total_cantidad += venta['cantidad']\n",
    "    \n",
    "    return total_importe, total_cantidad\n",
    "\n",
    "# Ejemplo de uso:\n",
    "total_importe, total_cantidad = calcular_total_ventas(datos)\n",
    "\n",
    "print(f\"Total Importe Vendido: {total_importe}, Total Unidades Vendidas: {total_cantidad}\")\n"
   ]
  },
  {
   "cell_type": "markdown",
   "metadata": {},
   "source": [
    "## Ejercicio 3: Listar las unidades vendidas.\n",
    "\n",
    "Listar cuantas unidades se vendieron en total para cada producto"
   ]
  },
  {
   "cell_type": "code",
   "execution_count": 15,
   "metadata": {},
   "outputs": [
    {
     "name": "stdout",
     "output_type": "stream",
     "text": [
      "Unidades vendidas por producto:\n",
      "Mirinda: 85 unidades\n",
      "Torasso: 32 unidades\n",
      "Pepsi Cola: 89 unidades\n",
      "Sprite: 72 unidades\n",
      "Coca Cola: 57 unidades\n"
     ]
    }
   ],
   "source": [
    "def listar_unidades_vendidas(ventas):\n",
    "    # Creamos un diccionario vacío\n",
    "    unidades_por_producto = {}\n",
    "    \n",
    "    # Recorremos la lista de ventas y sumamos las cantidades por producto\n",
    "    for venta in ventas:\n",
    "        producto = venta['producto']\n",
    "        \n",
    "        # Si el producto ya está en el diccionario, sumamos la cantidad\n",
    "        if producto in unidades_por_producto:\n",
    "            unidades_por_producto[producto] += venta['cantidad']\n",
    "        else:\n",
    "            # Si el producto no está en el diccionario, lo inicializamos con la cantidad actual\n",
    "            unidades_por_producto[producto] = venta['cantidad']\n",
    "    \n",
    "    return unidades_por_producto\n",
    "\n",
    "# Ejemplo de uso:\n",
    "unidades_vendidas = listar_unidades_vendidas(datos)\n",
    "print(\"Unidades vendidas por producto:\")\n",
    "for producto, cantidad in unidades_vendidas.items():\n",
    "    print(f\"{producto}: {cantidad} unidades\")\n"
   ]
  },
  {
   "cell_type": "markdown",
   "metadata": {},
   "source": [
    "##  Ejercicio 4: Listar el precio promedio por producto.\n",
    "\n",
    "Hacer un listado del precio promedio por productos."
   ]
  },
  {
   "cell_type": "code",
   "execution_count": 17,
   "metadata": {},
   "outputs": [
    {
     "name": "stdout",
     "output_type": "stream",
     "text": [
      "Precio promedio por producto:\n",
      "Mirinda: 1542\n",
      "Torasso: 916\n",
      "Pepsi Cola: 1242\n",
      "Sprite: 848\n",
      "Coca Cola: 1066\n"
     ]
    }
   ],
   "source": [
    "def precio_promedio(datos):\n",
    "    # Diccionarios para almacenar la suma de precios y la cantidad de productos vendidos\n",
    "    suma_precios = {}\n",
    "    cantidad_precios = {}\n",
    "\n",
    "    # Recorremos cada venta en los datos\n",
    "    for venta in datos:\n",
    "        producto = venta['producto']\n",
    "        precio = venta['precio']\n",
    "        cantidad = venta['cantidad']\n",
    "\n",
    "        # Si el producto ya está en el diccionario, actualizamos la suma de precios y la cantidad\n",
    "        if producto in suma_precios:\n",
    "            suma_precios[producto] += precio * cantidad\n",
    "            cantidad_precios[producto] += cantidad\n",
    "        else:\n",
    "            # Si el producto no está en el diccionario, lo inicializamos con el precio y la cantidad actual\n",
    "            suma_precios[producto] = precio * cantidad\n",
    "            cantidad_precios[producto] = cantidad\n",
    "\n",
    "    # Calculamos el precio promedio dividiendo la suma de precios por la cantidad de productos vendidos\n",
    "    precio_promedio = {producto: suma_precios[producto] / cantidad_precios[producto] for producto in suma_precios}\n",
    "\n",
    "    return precio_promedio\n",
    "\n",
    "def listar_precios(datos):\n",
    "    print(\"Precio promedio por producto:\")\n",
    "    # Imprimimos el precio promedio de cada producto\n",
    "    for producto, precio in datos.items():\n",
    "        print(f\"{producto}: {precio:.0f}\")\n",
    "\n",
    "# Calculamos el precio promedio de los datos\n",
    "precios = precio_promedio(datos)\n",
    "\n",
    "# Listamos los precios promedio\n",
    "listar_precios(precios)"
   ]
  },
  {
   "cell_type": "markdown",
   "metadata": {},
   "source": [
    "### Ejercicio 5: Ranking de productos\n",
    "\n",
    "Realizar un listado de los 3 productos mas vendidos ordenados la cantidad de unidades vendidas (ordenadas de mayor a menor)\n"
   ]
  },
  {
   "cell_type": "code",
   "execution_count": 18,
   "metadata": {},
   "outputs": [
    {
     "name": "stdout",
     "output_type": "stream",
     "text": [
      "Ranking de productos más vendidos:\n",
      "Pepsi Cola: 89 unidades\n",
      "Mirinda: 85 unidades\n",
      "Sprite: 72 unidades\n"
     ]
    }
   ],
   "source": [
    "def ranking_productos(datos, top=3):\n",
    "    # Creamos un diccionario vacío\n",
    "    unidades_por_producto = {}\n",
    "    \n",
    "    # Recorremos la lista de ventas y sumamos las cantidades por producto\n",
    "    for venta in datos:\n",
    "        producto = venta['producto']\n",
    "        \n",
    "        # Si el producto ya está en el diccionario, sumamos la cantidad\n",
    "        if producto in unidades_por_producto:\n",
    "            unidades_por_producto[producto] += venta['cantidad']\n",
    "        else:\n",
    "            # Si el producto no está en el diccionario, lo inicializamos con la cantidad actual\n",
    "            unidades_por_producto[producto] = venta['cantidad']\n",
    "    \n",
    "    # Ordenamos los productos por cantidad vendida en orden descendente\n",
    "    ranking = sorted(unidades_por_producto.items(), key=lambda x: x[1], reverse=True)\n",
    "    \n",
    "    # Retornamos solo los 'top' productos más vendidos\n",
    "    return ranking[:top]\n",
    "\n",
    "def listar_ranking(ranking):\n",
    "    print(\"Ranking de productos más vendidos:\")\n",
    "    for producto, cantidad in ranking:\n",
    "        print(f\"{producto}: {cantidad} unidades\")\n",
    "\n",
    "\n",
    "\n",
    "ranking = ranking_productos(datos)\n",
    "\n",
    "listar_ranking(ranking)"
   ]
  },
  {
   "cell_type": "markdown",
   "metadata": {},
   "source": [
    "### Ejercicio 6: Listar las ventas por mes\n",
    "\n",
    "Realizar un listado del total de unidades vendidas por productos separada por mes."
   ]
  },
  {
   "cell_type": "code",
   "execution_count": 25,
   "metadata": {},
   "outputs": [
    {
     "name": "stdout",
     "output_type": "stream",
     "text": [
      "Ventas mensuales:\n",
      "Mes 08: 45 unidades\n",
      "Mes 09: 290 unidades\n"
     ]
    }
   ],
   "source": [
    "def ventas_por_mes(datos):\n",
    "    # Diccionario para almacenar las ventas por mes\n",
    "    ventas_por_mes = {}\n",
    "    \n",
    "    # Recorremos cada venta en los datos\n",
    "    for venta in datos:\n",
    "        # Extraemos el mes en formato 'YYYY-MM'\n",
    "        mes = venta['fecha'][5:7]  # Extrae los primeros 7 caracteres (YYYY-MM)\n",
    "\n",
    "        \n",
    "        # Si el mes ya está en el diccionario, actualizamos la cantidad de ventas\n",
    "        if mes in ventas_por_mes:\n",
    "            ventas_por_mes[mes] += venta['cantidad']\n",
    "        else:\n",
    "            # Si el mes no está en el diccionario, lo inicializamos con la cantidad actual\n",
    "            ventas_por_mes[mes] = venta['cantidad']\n",
    "    \n",
    "    return ventas_por_mes\n",
    "\n",
    "def listar_ventas_mensuales(ventas):\n",
    "    print(\"Ventas mensuales:\")\n",
    "    # Iteramos sobre los items del diccionario\n",
    "    for mes, cantidad in ventas.items():\n",
    "        print(f\"Mes {mes}: {cantidad} unidades\")\n",
    "\n",
    "# Ejemplo de uso\n",
    "ventas = ventas_por_mes(datos)\n",
    "listar_ventas_mensuales(ventas)\n"
   ]
  },
  {
   "cell_type": "markdown",
   "metadata": {},
   "source": [
    "### Ejercicio 7: Informe general\n",
    "\n",
    "Mostrar un listado de productos ordenados alfabeticamente que contengan el precio promedio, la cantidad de unidades vendidas y el importe total vendido para cada producto"
   ]
  },
  {
   "cell_type": "code",
   "execution_count": 28,
   "metadata": {},
   "outputs": [
    {
     "name": "stdout",
     "output_type": "stream",
     "text": [
      "Producto: Coca Cola\n",
      "  Precio promedio: $1066.32\n",
      "  Unidades vendidas: 57\n",
      "  Importe total: $60780.00\n",
      "\n",
      "Producto: Mirinda\n",
      "  Precio promedio: $1542.12\n",
      "  Unidades vendidas: 85\n",
      "  Importe total: $131080.00\n",
      "\n",
      "Producto: Pepsi Cola\n",
      "  Precio promedio: $1241.69\n",
      "  Unidades vendidas: 89\n",
      "  Importe total: $110510.00\n",
      "\n",
      "Producto: Sprite\n",
      "  Precio promedio: $847.78\n",
      "  Unidades vendidas: 72\n",
      "  Importe total: $61040.00\n",
      "\n",
      "Producto: Torasso\n",
      "  Precio promedio: $916.25\n",
      "  Unidades vendidas: 32\n",
      "  Importe total: $29320.00\n",
      "\n"
     ]
    }
   ],
   "source": [
    "def informe_general(datos):\n",
    "    # Obtener las unidades vendidas por producto\n",
    "    unidades_por_producto = listar_unidades_vendidas(datos)\n",
    "    \n",
    "    # Obtener los precios promedio por producto\n",
    "    precios_promedio = precio_promedio(datos)\n",
    "    \n",
    "    # Obtener el importe total vendido por producto\n",
    "    importe_por_producto = {}\n",
    "    for venta in datos:\n",
    "        producto = venta['producto']\n",
    "        precio = venta['precio']\n",
    "        cantidad = venta['cantidad']\n",
    "        if producto in importe_por_producto:\n",
    "            importe_por_producto[producto] += precio * cantidad\n",
    "        else:\n",
    "            importe_por_producto[producto] = precio * cantidad\n",
    "\n",
    "    # Preparar la lista de productos ordenados alfabéticamente\n",
    "    productos_ordenados = sorted(unidades_por_producto.keys())\n",
    "\n",
    "    # Crear el informe\n",
    "    informe = []\n",
    "    for producto in productos_ordenados:\n",
    "        informe.append({\n",
    "            'producto': producto,\n",
    "            'precio_promedio': precios_promedio[producto],\n",
    "            'unidades_vendidas': unidades_por_producto[producto],\n",
    "            'importe_total': importe_por_producto[producto]\n",
    "        })\n",
    "\n",
    "    return informe\n",
    "\n",
    "def listar_informe(informe):\n",
    "    # Mostrar el informe general\n",
    "    for item in informe:\n",
    "        print(f\"Producto: {item['producto']}\")\n",
    "        print(f\"  Precio promedio: ${item['precio_promedio']:.2f}\")\n",
    "        print(f\"  Unidades vendidas: {item['unidades_vendidas']}\")\n",
    "        print(f\"  Importe total: ${item['importe_total']:.2f}\")\n",
    "        print()\n",
    "\n",
    "# Ejemplo de uso reutilizando las funciones previas\n",
    "informe = informe_general(datos)\n",
    "listar_informe(informe)\n"
   ]
  }
 ],
 "metadata": {
  "kernelspec": {
   "display_name": "Python 3",
   "language": "python",
   "name": "python3"
  },
  "language_info": {
   "codemirror_mode": {
    "name": "ipython",
    "version": 3
   },
   "file_extension": ".py",
   "mimetype": "text/x-python",
   "name": "python",
   "nbconvert_exporter": "python",
   "pygments_lexer": "ipython3",
   "version": "3.12.5"
  }
 },
 "nbformat": 4,
 "nbformat_minor": 2
}
