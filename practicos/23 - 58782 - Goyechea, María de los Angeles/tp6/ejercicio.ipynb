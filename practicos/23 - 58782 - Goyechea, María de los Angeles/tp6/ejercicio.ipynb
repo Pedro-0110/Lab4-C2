{
 "cells": [
  {
   "cell_type": "markdown",
   "metadata": {},
   "source": [
    "# TP6\n",
    "\n",
    "### `Resolver usando Pandas`\n",
    "\n",
    "Resolver los ejercicios del TP3 utilizando la librería Pandas."
   ]
  },
  {
   "cell_type": "markdown",
   "metadata": {},
   "source": [
    "### Ejercicio 1: Cargar Datos de ventas.\n",
    "\n",
    "El archivo datos.dat contiene el registro de las ventas realizadas.\n",
    "\n",
    "Tiene un formato de ancho fijo:\n",
    "- `fecha`:    10 lugares\n",
    "- `producto`: 30 lugares\n",
    "- `precio`:   10 lugares\n",
    "- `cantidad`:  5 lugares\n",
    "\n",
    "Hacer una funcion que cargue los datos en un DataFrame de Pandas."
   ]
  },
  {
   "cell_type": "code",
   "execution_count": 1,
   "metadata": {},
   "outputs": [
    {
     "name": "stdout",
     "output_type": "stream",
     "text": [
      "        fecha    producto  precio  cantidad\n",
      "0  2024-08-27     Mirinda  1510.0        14\n",
      "1  2024-08-27     Mirinda  1560.0        12\n",
      "2  2024-08-28     Torasso   940.0         8\n",
      "3  2024-08-29  Pepsi Cola  1210.0        10\n",
      "4  2024-08-30     Mirinda  1520.0         1\n",
      "5  2024-09-01     Mirinda  1550.0        15\n",
      "6  2024-09-01      Sprite   810.0         4\n",
      "7  2024-09-02   Coca Cola  1100.0         4\n",
      "8  2024-09-02  Pepsi Cola  1220.0        13\n",
      "9  2024-09-02     Torasso   910.0         5\n",
      "10 2024-09-02     Torasso   920.0         3\n",
      "11 2024-09-03   Coca Cola  1020.0         8\n",
      "12 2024-09-03     Mirinda  1570.0         7\n",
      "13 2024-09-03     Mirinda  1590.0         2\n",
      "14 2024-09-04  Pepsi Cola  1220.0        13\n",
      "15 2024-09-05     Mirinda  1500.0         3\n",
      "16 2024-09-05  Pepsi Cola  1300.0         5\n",
      "17 2024-09-06   Coca Cola  1080.0         1\n",
      "18 2024-09-06      Sprite   860.0        12\n",
      "19 2024-09-06     Torasso   930.0         3\n",
      "20 2024-09-07   Coca Cola  1080.0        14\n",
      "21 2024-09-07      Sprite   870.0        13\n",
      "22 2024-09-08   Coca Cola  1040.0        10\n",
      "23 2024-09-08     Mirinda  1580.0         2\n",
      "24 2024-09-08  Pepsi Cola  1240.0         9\n",
      "25 2024-09-09     Mirinda  1500.0         3\n",
      "26 2024-09-09      Sprite   850.0         9\n",
      "27 2024-09-10     Mirinda  1590.0         8\n",
      "28 2024-09-10  Pepsi Cola  1250.0        12\n",
      "29 2024-09-11      Sprite   810.0         6\n",
      "30 2024-09-11      Sprite   820.0        14\n",
      "31 2024-09-12   Coca Cola  1080.0         4\n",
      "32 2024-09-13     Mirinda  1580.0         5\n",
      "33 2024-09-13  Pepsi Cola  1250.0        13\n",
      "34 2024-09-14   Coca Cola  1080.0        15\n",
      "35 2024-09-14  Pepsi Cola  1270.0        14\n",
      "36 2024-09-15   Coca Cola  1100.0         1\n",
      "37 2024-09-15     Mirinda  1500.0        13\n",
      "38 2024-09-15      Sprite   870.0        14\n",
      "39 2024-09-15     Torasso   900.0        13\n"
     ]
    }
   ],
   "source": [
    "import pandas as pd\n",
    "\n",
    "def cargar_datos():\n",
    "    column_names = ['fecha', 'producto', 'precio', 'cantidad']\n",
    "    \n",
    "    colspecs = [(0, 10), (10, 40), (40, 50), (50, 55)] \n",
    "\n",
    "    datos = pd.read_fwf('datos.dat', colspecs=colspecs, header=None, names=column_names)\n",
    "    \n",
    "    datos['fecha'] = pd.to_datetime(datos['fecha'].str.strip())  \n",
    "    datos['producto'] = datos['producto'].str.strip()  \n",
    "    datos['precio'] = datos['precio'].astype(float)  \n",
    "    datos['cantidad'] = datos['cantidad'].astype(int)  \n",
    "    \n",
    "    return datos\n",
    "\n",
    "datos = cargar_datos()\n",
    "print(datos)\n"
   ]
  },
  {
   "cell_type": "markdown",
   "metadata": {},
   "source": [
    "### Ejercicio 2: Calcular el total de ventas.\n",
    "Hacer una función que sume los importes vendidos (precio * cantidad) y las cantidades.\n"
   ]
  },
  {
   "cell_type": "code",
   "execution_count": 2,
   "metadata": {},
   "outputs": [
    {
     "name": "stdout",
     "output_type": "stream",
     "text": [
      "Las ventas fueron de $392730.00 en 335 unidades\n"
     ]
    }
   ],
   "source": [
    "def calcular_totales(datos):\n",
    "    datos['importe'] = datos['precio'] * datos['cantidad']\n",
    "    \n",
    "    total_importe = datos['importe'].sum()\n",
    "    total_cantidad = datos['cantidad'].sum()\n",
    "    \n",
    "    return total_importe, total_cantidad\n",
    "\n",
    "importe, cantidad = calcular_totales(datos)\n",
    "\n",
    "print(f\"Las ventas fueron de ${importe:.2f} en {cantidad} unidades\")\n"
   ]
  },
  {
   "cell_type": "markdown",
   "metadata": {},
   "source": [
    "### Ejercicio 3: Listar las unidades vendidas.\n",
    "Listar cuántas unidades se vendieron en total para cada producto\n"
   ]
  },
  {
   "cell_type": "code",
   "execution_count": 3,
   "metadata": {},
   "outputs": [
    {
     "name": "stdout",
     "output_type": "stream",
     "text": [
      "     producto  total_unidades\n",
      "0   Coca Cola              57\n",
      "1     Mirinda              85\n",
      "2  Pepsi Cola              89\n",
      "3      Sprite              72\n",
      "4     Torasso              32\n"
     ]
    }
   ],
   "source": [
    "def unidades_vendidas(datos):\n",
    "    resumen = datos.groupby('producto')['cantidad'].sum().reset_index()\n",
    "    resumen.columns = ['producto', 'total_unidades']\n",
    "    \n",
    "    return resumen\n",
    "\n",
    "unidades_totales = unidades_vendidas(datos)\n",
    "\n",
    "print(unidades_totales)\n"
   ]
  },
  {
   "cell_type": "markdown",
   "metadata": {},
   "source": [
    "###  Ejercicio 4: Listar el precio promedio por producto.\n",
    "Hacer un listado del precio promedio por producto.\n"
   ]
  },
  {
   "cell_type": "code",
   "execution_count": 4,
   "metadata": {},
   "outputs": [
    {
     "name": "stdout",
     "output_type": "stream",
     "text": [
      "     producto  precio_promedio\n",
      "0   Coca Cola      1072.500000\n",
      "1     Mirinda      1545.833333\n",
      "2  Pepsi Cola      1245.000000\n",
      "3      Sprite       841.428571\n",
      "4     Torasso       920.000000\n"
     ]
    }
   ],
   "source": [
    "def precio_promedio(datos):\n",
    "    # Agrupar por producto y calcular el precio promedio\n",
    "    resumen = datos.groupby('producto')['precio'].mean().reset_index()\n",
    "    resumen.columns = ['producto', 'precio_promedio']\n",
    "    \n",
    "    return resumen\n",
    "\n",
    "precios_promedio = precio_promedio(datos)\n",
    "\n",
    "print(precios_promedio)\n"
   ]
  },
  {
   "cell_type": "markdown",
   "metadata": {},
   "source": [
    "### Ejercicio 5: Ranking de productos\n",
    "Realizar un listado de los 3 productos más vendidos ordenados por la cantidad de unidades vendidas (ordenadas de mayor a menor)\n"
   ]
  },
  {
   "cell_type": "code",
   "execution_count": 5,
   "metadata": {},
   "outputs": [
    {
     "name": "stdout",
     "output_type": "stream",
     "text": [
      "     producto  total_unidades\n",
      "2  Pepsi Cola              89\n",
      "1     Mirinda              85\n",
      "3      Sprite              72\n"
     ]
    }
   ],
   "source": [
    "def ranking_productos(datos, top=3):\n",
    "    ranking = datos.groupby('producto')['cantidad'].sum().reset_index()\n",
    "    \n",
    "    ranking.columns = ['producto', 'total_unidades']\n",
    "    \n",
    "    ranking = ranking.sort_values(by='total_unidades', ascending=False)\n",
    "    \n",
    "    return ranking.head(top)\n",
    "\n",
    "top_productos = ranking_productos(datos)\n",
    "\n",
    "print(top_productos)\n"
   ]
  },
  {
   "cell_type": "markdown",
   "metadata": {},
   "source": [
    "### Ejercicio 6: Listar las ventas por mes\n",
    "Realizar un listado del total de unidades vendidas por producto separado por mes.\n"
   ]
  },
  {
   "cell_type": "code",
   "execution_count": 6,
   "metadata": {},
   "outputs": [
    {
     "name": "stdout",
     "output_type": "stream",
     "text": [
      "     producto      mes  total_unidades\n",
      "0   Coca Cola  2024-09              57\n",
      "1     Mirinda  2024-08              27\n",
      "2     Mirinda  2024-09              58\n",
      "3  Pepsi Cola  2024-08              10\n",
      "4  Pepsi Cola  2024-09              79\n",
      "5      Sprite  2024-09              72\n",
      "6     Torasso  2024-08               8\n",
      "7     Torasso  2024-09              24\n"
     ]
    }
   ],
   "source": [
    "def ventas_por_mes(datos):\n",
    "    # Añadir una columna de mes para agrupar\n",
    "    datos['mes'] = datos['fecha'].dt.to_period('M')\n",
    "    \n",
    "    resumen = datos.groupby(['producto', 'mes'])['cantidad'].sum().reset_index()\n",
    "    \n",
    "    resumen.columns = ['producto', 'mes', 'total_unidades']\n",
    "    \n",
    "    return resumen\n",
    "\n",
    "ventas_mensuales = ventas_por_mes(datos)\n",
    "\n",
    "print(ventas_mensuales)\n"
   ]
  },
  {
   "cell_type": "markdown",
   "metadata": {},
   "source": [
    "### Ejercicio 7: Informe general\n",
    "\n",
    "Mostrar un listado de productos ordenados alfabeticamente que contengan el precio promedio, la cantidad de unidades vendidas y el importe total vendido para cada producto"
   ]
  },
  {
   "cell_type": "code",
   "execution_count": 7,
   "metadata": {},
   "outputs": [
    {
     "name": "stdout",
     "output_type": "stream",
     "text": [
      "     producto  precio_promedio  total_unidades  importe_total\n",
      "0   Coca Cola      1072.500000              57        60780.0\n",
      "1     Mirinda      1545.833333              85       131080.0\n",
      "2  Pepsi Cola      1245.000000              89       110510.0\n",
      "3      Sprite       841.428571              72        61040.0\n",
      "4     Torasso       920.000000              32        29320.0\n"
     ]
    }
   ],
   "source": [
    "def resumen_ventas(datos):\n",
    "    precios_promedio = datos.groupby('producto')['precio'].mean().reset_index()\n",
    "    precios_promedio.columns = ['producto', 'precio_promedio']\n",
    "    \n",
    "    total_unidades = datos.groupby('producto')['cantidad'].sum().reset_index()\n",
    "    total_unidades.columns = ['producto', 'total_unidades']\n",
    "    \n",
    "    datos['importe'] = datos['precio'] * datos['cantidad']  \n",
    "    total_importe = datos.groupby('producto')['importe'].sum().reset_index()\n",
    "    total_importe.columns = ['producto', 'importe_total']\n",
    "    \n",
    "    resumen = pd.merge(precios_promedio, total_unidades, on='producto')\n",
    "    resumen = pd.merge(resumen, total_importe, on='producto')\n",
    "    \n",
    "    resumen = resumen.sort_values(by='producto').reset_index(drop=True)\n",
    "    \n",
    "    return resumen\n",
    "\n",
    "informe_general = resumen_ventas(datos)\n",
    "\n",
    "print(informe_general)\n"
   ]
  },
  {
   "cell_type": "markdown",
   "metadata": {},
   "source": [
    "## `Resolver usando NumPy`\n",
    "## Resolver el ejercicio 2 del tp1 usando NumPy"
   ]
  },
  {
   "cell_type": "markdown",
   "metadata": {},
   "source": [
    "### Ejercicio 8\n",
    "\n",
    "Escribe una función en Python que encuentre los valores de `a`, `b`, y `c` para que la función cuadrática `f(x) = a x^2 + b x + c` pase exactamente por los siguientes puntos:\n",
    "\n",
    "| x  | y  |\n",
    "|---:|---:|\n",
    "|  0 |  0 |\n",
    "|  1 |  8 |\n",
    "|  2 | 12 |\n",
    "|  3 | 12 |\n",
    "|  5 |  0 |\n",
    "\n",
    "### Requisitos:\n",
    "- La función debe explorar posibles valores de `a`, `b`, y `c` utilizando un método de prueba y error.\n",
    "- Debe devolver los valores que hagan que la diferencia entre la función `f(x)` y los valores medidos `y` sea exactamente cero para cada punto.\n",
    "\n",
    "> **Pista**: Los valores de `a`, `b`, y `c` son números pequeños.\n",
    "\n",
    "La idea es implementar el mismo algoritmo que se uso en el TP1 pero usando NumPy en lugar de Python puro."
   ]
  },
  {
   "cell_type": "code",
   "execution_count": 12,
   "metadata": {},
   "outputs": [
    {
     "name": "stdout",
     "output_type": "stream",
     "text": [
      "(-2, 10, 0)\n"
     ]
    }
   ],
   "source": [
    "import numpy as np\n",
    "\n",
    "def f(x, coeficientes):\n",
    "    a, b, c = coeficientes\n",
    "    return a * x**2 + b * x + c\n",
    "\n",
    "def buscar_coeficientes():\n",
    "    valores_a = np.arange(-10, 11, 1)  \n",
    "    valores_b = np.arange(-10, 11, 1)  \n",
    "    valores_c = np.arange(-10, 11, 1) \n",
    "    \n",
    "    coeficientes_validos = []\n",
    "\n",
    "    X = np.array([0, 1, 2, 3, 5])\n",
    "    Y = np.array([0, 8, 12, 12, 0])\n",
    "    \n",
    "    for a in valores_a:\n",
    "        for b in valores_b:\n",
    "            for c in valores_c:\n",
    "                Y_pred = f(X, (a, b, c))\n",
    "                \n",
    "                if np.all(Y_pred == Y): \n",
    "                    coeficientes_validos.append((int(a), int(b), int(c)))\n",
    "    \n",
    "    return coeficientes_validos\n",
    "\n",
    "coeficientes = buscar_coeficientes()\n",
    "if coeficientes:\n",
    "    resultado = coeficientes[0]\n",
    "    print(resultado) \n"
   ]
  },
  {
   "cell_type": "markdown",
   "metadata": {},
   "source": [
    "### Ejercicio 9: Resolver el ejercicio 3 del TP1 usando NumPy\n",
    "Buscar los coeficientes de la función que minimice la suma de los cuadrados de las diferencias entre los valores medidos y los valores de la función.\n",
    "\n",
    "1. Crear un array con los coeficientes elegidos al azar (usar `randint(-10,10,3)`).\n",
    "2. Calcular el valor de la función y el error correspondiente.\n",
    "3. Mientras que el error sea mayor a 1:\n",
    "    1. Definir nuevos coeficientes agregándoles un pequeño valor al azar a los coeficientes actuales (aprendizaje = 0.001).\n",
    "    2. Si el error para los nuevos coeficientes es menor que el anterior, reemplazar los coeficientes actuales por los nuevos.\n"
   ]
  },
  {
   "cell_type": "code",
   "execution_count": 11,
   "metadata": {},
   "outputs": [
    {
     "name": "stdout",
     "output_type": "stream",
     "text": [
      "[-1.78013311  8.96030852  0.62367986]\n"
     ]
    }
   ],
   "source": [
    "import numpy as np\n",
    "from numpy.random import randint\n",
    "\n",
    "def f(x, coeficientes):\n",
    "    a, b, c = coeficientes\n",
    "    return a * x**2 + b * x + c\n",
    "\n",
    "def error(y, y_pred):\n",
    "    return np.sum((y - y_pred) ** 2)\n",
    "\n",
    "def buscar_coeficientes():\n",
    "    coeficientes = randint(-10, 10, 3)\n",
    "    learning_rate = 0.001\n",
    "    \n",
    "    Y_pred = f(X, coeficientes)\n",
    "    current_error = error(Y, Y_pred)\n",
    "\n",
    "    while current_error > 1: \n",
    "        nuevos_coeficientes = coeficientes + np.random.uniform(-learning_rate, learning_rate, 3)\n",
    "        \n",
    "        Y_pred_nuevos = f(X, nuevos_coeficientes)\n",
    "        nuevo_error = error(Y, Y_pred_nuevos)\n",
    "        \n",
    "        if nuevo_error < current_error:\n",
    "            coeficientes = nuevos_coeficientes\n",
    "            current_error = nuevo_error\n",
    "            \n",
    "    return coeficientes\n",
    "\n",
    "X = np.array([0, 1, 2, 3, 5])\n",
    "Y = np.array([0, 8, 12, 11, 1])  \n",
    "\n",
    "coeficientes = buscar_coeficientes()\n",
    "print(coeficientes)\n"
   ]
  }
 ],
 "metadata": {
  "kernelspec": {
   "display_name": "Python 3",
   "language": "python",
   "name": "python3"
  },
  "language_info": {
   "codemirror_mode": {
    "name": "ipython",
    "version": 3
   },
   "file_extension": ".py",
   "mimetype": "text/x-python",
   "name": "python",
   "nbconvert_exporter": "python",
   "pygments_lexer": "ipython3",
   "version": "3.12.5"
  }
 },
 "nbformat": 4,
 "nbformat_minor": 2
}
