{
 "cells": [
  {
   "cell_type": "markdown",
   "metadata": {},
   "source": [
    "# Simulación del Truco"
   ]
  },
  {
   "cell_type": "markdown",
   "metadata": {},
   "source": [
    "Las **cartas** deben registra el numero, palo y valor de la carta. \n",
    "El valor debe reflejar la jerarquía de las cartas en el juego del truco."
   ]
  },
  {
   "cell_type": "code",
   "execution_count": 1,
   "metadata": {},
   "outputs": [],
   "source": [
    "def calcular_valor(numero, palo):\n",
    "\n",
    "    jerarquia = {\n",
    "\n",
    "        (1, \"espada\"): 14,\n",
    "        (1, \"basto\"): 13,\n",
    "        (7, \"espada\"): 12,\n",
    "        (7, \"oro\"): 11,\n",
    "        (3, ): 10,\n",
    "        (2, ): 9,\n",
    "        (1, ): 8,\n",
    "        (12, ): 7,\n",
    "        (11, ): 6,\n",
    "        (10, ): 5,\n",
    "        (7, ): 4,\n",
    "        (6, ): 3,\n",
    "        (5, ): 2,\n",
    "        (4, ): 1,\n",
    "}\n",
    "    \n",
    "    return jerarquia.get((numero, palo), jerarquia.get((numero,), 0))\n",
    "\n",
    "class Carta:\n",
    "\n",
    "    def __init__(self, numero, palo):\n",
    "\n",
    "        self.numero = numero\n",
    "        self.palo = palo\n",
    "        self.valor = calcular_valor(numero, palo)\n",
    "\n",
    "    def __repr__(self):\n",
    "        return f\"{self.numero} de {self.palo}\"\n",
    "\n",
    "c = Carta(1, \"oro\")\n"
   ]
  },
  {
   "cell_type": "markdown",
   "metadata": {},
   "source": [
    "**Mazo**: Representan las cartas españolas de 1 al 12, en los palos de oro, copa, espada y basto.\n",
    "\n",
    "Debe existir una función que permita barajar las cartas.\n",
    "y otra función que permita repartir las cartas a los jugadores."
   ]
  },
  {
   "cell_type": "code",
   "execution_count": 2,
   "metadata": {},
   "outputs": [
    {
     "name": "stdout",
     "output_type": "stream",
     "text": [
      "[1 de basto, 3 de espada, 4 de copa]\n"
     ]
    }
   ],
   "source": [
    "import random\n",
    "\n",
    "numeros = [1, 2, 3, 4, 5, 6, 7, 10, 11, 12]\n",
    "palos = [\"oro\", \"copa\", \"espada\", \"basto\"]\n",
    "\n",
    "class Mazo:\n",
    "\n",
    "    def __init__(self):\n",
    "\n",
    "        self.cartas = [Carta(numero, palo) for numero in numeros for palo in palos]\n",
    "        \n",
    "    def mezclar(self):\n",
    "\n",
    "        random.shuffle(self.cartas)\n",
    "\n",
    "    def repartir(self, cantidad):\n",
    "        return [self.cartas.pop() for _ in range(cantidad)]\n",
    "\n",
    "m = Mazo()\n",
    "m.mezclar()\n",
    "print(m.repartir(3))"
   ]
  },
  {
   "cell_type": "markdown",
   "metadata": {},
   "source": [
    "**Jugador**: Deben tener un nombre y las cartas que tiene en la mano. Debe acumular los puntos ganados.\n",
    "\n",
    "Nota: Para simplificar el problema, el jugador elige la carta a jugar de forma aleatoria."
   ]
  },
  {
   "cell_type": "code",
   "execution_count": 5,
   "metadata": {},
   "outputs": [
    {
     "name": "stdout",
     "output_type": "stream",
     "text": [
      "Juan recibió [1 de espada, 7 de copa, 4 de basto] y tiene 19 puntos\n",
      "4 de basto\n"
     ]
    }
   ],
   "source": [
    "class Jugador:\n",
    "    \n",
    "    def __init__(self, nombre):\n",
    "\n",
    "        self.nombre = nombre\n",
    "        self.puntos = 0\n",
    "        self.cartas = []\n",
    "\n",
    "    def recibir_cartas(self, cartas):\n",
    "\n",
    "        self.cartas = cartas\n",
    "        puntos = 0\n",
    "\n",
    "        for carta in cartas:\n",
    "\n",
    "            puntos += carta.valor\n",
    "\n",
    "        print(f\"{self.nombre} recibió {cartas} y tiene {puntos} puntos\")\n",
    "    \n",
    "    def jugar_carta(self):\n",
    "\n",
    "        return self.cartas.pop()\n",
    "\n",
    "j = Jugador(\"Juan\")\n",
    "j.recibir_cartas(m.repartir(3))\n",
    "print(j.jugar_carta())"
   ]
  },
  {
   "cell_type": "markdown",
   "metadata": {},
   "source": [
    "**Partida**: Debe tener dos jugadores, un mazo de cartas y un puntaje. Debe permitir jugar una carta por ronda y definir el ganador de la ronda. Debe permitir jugar hasta que se terminen las cartas del mazo."
   ]
  },
  {
   "cell_type": "code",
   "execution_count": null,
   "metadata": {},
   "outputs": [],
   "source": [
    "class Partida:\n",
    "    def __init__(self, jugador1, jugador2):\n",
    "\n",
    "        self.jugador1 = jugador1\n",
    "        self.jugador2 = jugador2\n",
    "        self.rondas = 0\n",
    "\n",
    "    def jugar_ronda(self):\n",
    "\n",
    "        valor_jugador1 = sum(carta.valor for carta in self.jugador1.cartas)\n",
    "        valor_jugador2 = sum(carta.valor for carta in self.jugador2.cartas)\n",
    "\n",
    "        if valor_jugador1 > valor_jugador2:\n",
    "\n",
    "            return self.jugador1\n",
    "        \n",
    "        elif valor_jugador2 > valor_jugador1:\n",
    "\n",
    "            return self.jugador2\n",
    "        \n",
    "        else:\n",
    "\n",
    "            return None\n",
    "\n",
    "    def jugar(self):\n",
    "\n",
    "        while self.rondas < 3 and all([self.jugador1.puntos < 15, self.jugador2.puntos < 15]):\n",
    "\n",
    "            m = Mazo()\n",
    "\n",
    "            m.mezclar()\n",
    "\n",
    "            self.jugador1.recibir_cartas(m.repartir(3))\n",
    "\n",
    "            self.jugador2.recibir_cartas(m.repartir(3))\n",
    "            \n",
    "            ganador = self.jugar_ronda()\n",
    "\n",
    "            if ganador:\n",
    "\n",
    "                ganador.puntos += 1\n",
    "\n",
    "                print(f\"El ganador de la ronda es {ganador.nombre}\")\n",
    "\n",
    "            else:\n",
    "\n",
    "                print(\"Empate\")\n",
    "\n",
    "            self.rondas += 1\n",
    "\n",
    "            print(f\"Rondas jugadas: {self.rondas}\")\n",
    "\n",
    "            print(f\"Puntos de {self.jugador1.nombre}: {self.jugador1.puntos}\")\n",
    "            \n",
    "            print(f\"Puntos de {self.jugador2.nombre}: {self.jugador2.puntos}\")\n",
    "\n",
    "p = Partida(Jugador(\"Juan\"), Jugador(\"Pedro\"))\n",
    "p.jugar()"
   ]
  }
 ],
 "metadata": {
  "kernelspec": {
   "display_name": "Python 3",
   "language": "python",
   "name": "python3"
  },
  "language_info": {
   "codemirror_mode": {
    "name": "ipython",
    "version": 3
   },
   "file_extension": ".py",
   "mimetype": "text/x-python",
   "name": "python",
   "nbconvert_exporter": "python",
   "pygments_lexer": "ipython3",
   "version": "3.12.6"
  }
 },
 "nbformat": 4,
 "nbformat_minor": 2
}
