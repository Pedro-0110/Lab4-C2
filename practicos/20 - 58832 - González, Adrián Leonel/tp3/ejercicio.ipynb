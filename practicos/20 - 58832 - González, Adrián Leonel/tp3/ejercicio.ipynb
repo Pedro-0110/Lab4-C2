{
 "cells": [
  {
   "cell_type": "markdown",
   "metadata": {},
   "source": [
    "#TP3"
   ]
  },
  {
   "cell_type": "markdown",
   "metadata": {},
   "source": [
    "## Ejercicio 1: Cargar Datos de ventas.\n",
    "\n",
    "El archivo datos.dat contiene el registro de las ventas realizadas.\n",
    "\n",
    "Tiene un formato de ancho fijo:\n",
    "- fecha:    10 lugares\n",
    "- producto: 30 lugares\n",
    "- precio:   10 lugares\n",
    "- cantidad:  5 lugares\n",
    "\n",
    "hacer una funcion que carge los en una lista de diccionarios. \n",
    "\n",
    "nota: con \n",
    "```python\n",
    "lineas = open(\"datos.dat\", \"r\").readlines() \n",
    "```\n",
    "puede obtener la lista de string de todos los datos "
   ]
  },
  {
   "cell_type": "code",
   "execution_count": 1,
   "metadata": {},
   "outputs": [
    {
     "name": "stdout",
     "output_type": "stream",
     "text": [
      "[{'fecha': '2024-08-27', 'producto': 'Mirinda', 'precio': 1510, 'cantidad': 14}, {'fecha': '2024-08-27', 'producto': 'Mirinda', 'precio': 1560, 'cantidad': 12}, {'fecha': '2024-08-28', 'producto': 'Torasso', 'precio': 940, 'cantidad': 8}, {'fecha': '2024-08-29', 'producto': 'Pepsi Cola', 'precio': 1210, 'cantidad': 10}, {'fecha': '2024-08-30', 'producto': 'Mirinda', 'precio': 1520, 'cantidad': 1}, {'fecha': '2024-09-01', 'producto': 'Mirinda', 'precio': 1550, 'cantidad': 15}, {'fecha': '2024-09-01', 'producto': 'Sprite', 'precio': 810, 'cantidad': 4}, {'fecha': '2024-09-02', 'producto': 'Coca Cola', 'precio': 1100, 'cantidad': 4}, {'fecha': '2024-09-02', 'producto': 'Pepsi Cola', 'precio': 1220, 'cantidad': 13}, {'fecha': '2024-09-02', 'producto': 'Torasso', 'precio': 910, 'cantidad': 5}, {'fecha': '2024-09-02', 'producto': 'Torasso', 'precio': 920, 'cantidad': 3}, {'fecha': '2024-09-03', 'producto': 'Coca Cola', 'precio': 1020, 'cantidad': 8}, {'fecha': '2024-09-03', 'producto': 'Mirinda', 'precio': 1570, 'cantidad': 7}, {'fecha': '2024-09-03', 'producto': 'Mirinda', 'precio': 1590, 'cantidad': 2}, {'fecha': '2024-09-04', 'producto': 'Pepsi Cola', 'precio': 1220, 'cantidad': 13}, {'fecha': '2024-09-05', 'producto': 'Mirinda', 'precio': 1500, 'cantidad': 3}, {'fecha': '2024-09-05', 'producto': 'Pepsi Cola', 'precio': 1300, 'cantidad': 5}, {'fecha': '2024-09-06', 'producto': 'Coca Cola', 'precio': 1080, 'cantidad': 1}, {'fecha': '2024-09-06', 'producto': 'Sprite', 'precio': 860, 'cantidad': 12}, {'fecha': '2024-09-06', 'producto': 'Torasso', 'precio': 930, 'cantidad': 3}, {'fecha': '2024-09-07', 'producto': 'Coca Cola', 'precio': 1080, 'cantidad': 14}, {'fecha': '2024-09-07', 'producto': 'Sprite', 'precio': 870, 'cantidad': 13}, {'fecha': '2024-09-08', 'producto': 'Coca Cola', 'precio': 1040, 'cantidad': 10}, {'fecha': '2024-09-08', 'producto': 'Mirinda', 'precio': 1580, 'cantidad': 2}, {'fecha': '2024-09-08', 'producto': 'Pepsi Cola', 'precio': 1240, 'cantidad': 9}, {'fecha': '2024-09-09', 'producto': 'Mirinda', 'precio': 1500, 'cantidad': 3}, {'fecha': '2024-09-09', 'producto': 'Sprite', 'precio': 850, 'cantidad': 9}, {'fecha': '2024-09-10', 'producto': 'Mirinda', 'precio': 1590, 'cantidad': 8}, {'fecha': '2024-09-10', 'producto': 'Pepsi Cola', 'precio': 1250, 'cantidad': 12}, {'fecha': '2024-09-11', 'producto': 'Sprite', 'precio': 810, 'cantidad': 6}, {'fecha': '2024-09-11', 'producto': 'Sprite', 'precio': 820, 'cantidad': 14}, {'fecha': '2024-09-12', 'producto': 'Coca Cola', 'precio': 1080, 'cantidad': 4}, {'fecha': '2024-09-13', 'producto': 'Mirinda', 'precio': 1580, 'cantidad': 5}, {'fecha': '2024-09-13', 'producto': 'Pepsi Cola', 'precio': 1250, 'cantidad': 13}, {'fecha': '2024-09-14', 'producto': 'Coca Cola', 'precio': 1080, 'cantidad': 15}, {'fecha': '2024-09-14', 'producto': 'Pepsi Cola', 'precio': 1270, 'cantidad': 14}, {'fecha': '2024-09-15', 'producto': 'Coca Cola', 'precio': 1100, 'cantidad': 1}, {'fecha': '2024-09-15', 'producto': 'Mirinda', 'precio': 1500, 'cantidad': 13}, {'fecha': '2024-09-15', 'producto': 'Sprite', 'precio': 870, 'cantidad': 14}, {'fecha': '2024-09-15', 'producto': 'Torasso', 'precio': 900, 'cantidad': 13}]\n"
     ]
    }
   ],
   "source": [
    "def cargar_datos():\n",
    "\n",
    "    lineas = open(\"datos.dat\", \"r\").readlines()\n",
    "    datos = []\n",
    "\n",
    "    for liena in lineas:\n",
    "        fecha = liena[:10].strip()\n",
    "        producto = liena[10:40].strip()\n",
    "        precio = int(liena[40:50].strip())\n",
    "        cantidad = int(liena[50:].strip())\n",
    "        datos.append({'fecha': fecha, 'producto': producto, 'precio': precio, 'cantidad': cantidad})\n",
    "\n",
    "    print(datos)\n",
    "    \n",
    "    return(datos)\n",
    "\n",
    "datos = cargar_datos()"
   ]
  },
  {
   "cell_type": "markdown",
   "metadata": {},
   "source": [
    "## Ejercicio 2: Calcular el total de ventas.\n",
    "\n",
    "Hacer una funcion que sume los importes vendidos (precio * cantidad) y las cantidades"
   ]
  },
  {
   "cell_type": "code",
   "execution_count": 16,
   "metadata": {},
   "outputs": [
    {
     "name": "stdout",
     "output_type": "stream",
     "text": [
      "Las ventas fueron de $21140.00 en 28 unidades\n"
     ]
    }
   ],
   "source": [
    "def calcular_totales(datos):\n",
    "    lineas = open(\"datos.dat\", \"r\").readlines()\n",
    "\n",
    "    importe = 0\n",
    "    cantidad = 0\n",
    "\n",
    "    for linea in lineas:\n",
    "        precio = int(linea[40:50].strip())\n",
    "        cantidad = int(linea[50:].strip())\n",
    "\n",
    "        importe += precio * cantidad\n",
    "        cantidad += cantidad\n",
    "\n",
    "        return importe, cantidad\n",
    "\n",
    "\n",
    "importe, cantidad = calcular_totales(datos)\n",
    "\n",
    "print(f\"Las ventas fueron de ${importe:.2f} en {cantidad} unidades\")"
   ]
  },
  {
   "cell_type": "markdown",
   "metadata": {},
   "source": [
    "## Ejercicio 3: Listar las unidades vendidas.\n",
    "\n",
    "Listar cuantas unidades se vendieron en total para cada producto"
   ]
  },
  {
   "cell_type": "code",
   "execution_count": 8,
   "metadata": {},
   "outputs": [
    {
     "name": "stdout",
     "output_type": "stream",
     "text": [
      "Mirinda: 85 unidades\n",
      "Torasso: 32 unidades\n",
      "Pepsi Cola: 89 unidades\n",
      "Sprite: 72 unidades\n",
      "Coca Cola: 57 unidades\n"
     ]
    }
   ],
   "source": [
    "def unidades_vendidas(datos):\n",
    "\n",
    "    unidades = {}\n",
    "\n",
    "    for venta in datos:\n",
    "\n",
    "        producto = venta[\"producto\"]\n",
    "        cantidad = venta[\"cantidad\"]\n",
    "\n",
    "        if producto in unidades:\n",
    "\n",
    "            unidades[producto] += cantidad\n",
    "        else: \n",
    "             \n",
    "             unidades[producto] = cantidad\n",
    "\n",
    "    return unidades\n",
    "\n",
    "\n",
    "def listar_ventas(ventas):\n",
    "   \n",
    "   for producto, cantidad in ventas.items():\n",
    "        \n",
    "        print(f\"{producto}: {cantidad} unidades\")\n",
    "\n",
    "ventas = unidades_vendidas(datos)\n",
    "listar_ventas(ventas)\n"
   ]
  },
  {
   "cell_type": "markdown",
   "metadata": {},
   "source": [
    "##  Ejercicio 4: Listar el precio promedio por producto.\n",
    "\n",
    "Hacer un listado del precio promedio por productos."
   ]
  },
  {
   "cell_type": "code",
   "execution_count": 11,
   "metadata": {},
   "outputs": [
    {
     "name": "stdout",
     "output_type": "stream",
     "text": [
      "Precio promedio\n",
      "Mirinda: 1542.12\n",
      "Torasso: 916.25\n",
      "Pepsi Cola: 1241.69\n",
      "Sprite: 847.78\n",
      "Coca Cola: 1066.32\n"
     ]
    }
   ],
   "source": [
    "def precio_promedio(datos):\n",
    "\n",
    "    sumar_precios = {}\n",
    "    cantidad_precios = {}\n",
    "\n",
    "    for venta in datos:\n",
    "        producto = venta['producto']\n",
    "        precio = venta['precio']\n",
    "        cantidad = venta['cantidad']\n",
    "        if producto in sumar_precios:\n",
    "            sumar_precios[producto] += precio * cantidad\n",
    "            cantidad_precios[producto] += cantidad\n",
    "        else:\n",
    "             sumar_precios[producto] = precio * cantidad\n",
    "             cantidad_precios[producto] = cantidad\n",
    "    precio_promedio = {\n",
    "        producto: sumar_precios[producto] / cantidad_precios[producto]\n",
    "        for producto in sumar_precios\n",
    "    }\n",
    "\n",
    "    return precio_promedio\n",
    "\n",
    "def listar_precios(datos):\n",
    "    print(\"Precio promedio\")\n",
    "    for producto, precio in datos.items():\n",
    "        print(f\"{producto}: {precio:.2f}\")\n",
    "\n",
    "precios = precio_promedio(datos)\n",
    "listar_precios(precios)"
   ]
  },
  {
   "cell_type": "markdown",
   "metadata": {},
   "source": [
    "### Ejercicio 5: Ranking de productos\n",
    "\n",
    "Realizar un listado de los 3 productos mas vendidos ordenados la cantidad de unidades vendidas (ordenadas de mayor a menor)\n"
   ]
  },
  {
   "cell_type": "code",
   "execution_count": 18,
   "metadata": {},
   "outputs": [
    {
     "name": "stdout",
     "output_type": "stream",
     "text": [
      "Top 3 mejores productos de el primer lugar al tercero\n",
      "Producto: Pepsi Cola, Unidades vendidas: 89\n",
      "Producto: Mirinda, Unidades vendidas: 85\n",
      "Producto: Sprite, Unidades vendidas: 72\n"
     ]
    }
   ],
   "source": [
    "def ranking_productos(datos, top=3):\n",
    "\n",
    "    total_vendidos = {}\n",
    "\n",
    "    for linea in datos:\n",
    "        producto = linea[10:40].strip()\n",
    "        cantidad = int(linea[50:55].strip())\n",
    "\n",
    "        if producto in total_vendidos:\n",
    "            total_vendidos[producto] += cantidad\n",
    "        else:\n",
    "            total_vendidos[producto] = cantidad\n",
    "\n",
    "    ranking = list(total_vendidos.items())\n",
    "    \n",
    "    for a in range(len(ranking)):\n",
    "        for b in range(a + 1, len(ranking)):\n",
    "            if ranking[a][1] < ranking[b][1]:\n",
    "                ranking[a], ranking[b] = ranking[b], ranking[a]\n",
    "    \n",
    "    return ranking[:top]\n",
    "\n",
    "\n",
    "def listar_ranking(ranking):\n",
    "    \n",
    "    for producto, cantidad in ranking:\n",
    "        print(f\"Producto: {producto}, Unidades vendidas: {cantidad}\")\n",
    "\n",
    "Datos = open(\"datos.dat\", \"r\").readlines()\n",
    "\n",
    "print(\"Top 3 mejores productos de el primer lugar al tercero\")\n",
    "\n",
    "ranking = ranking_productos(Datos)\n",
    "listar_ranking(ranking)"
   ]
  },
  {
   "cell_type": "markdown",
   "metadata": {},
   "source": [
    "### Ejercicio 6: Listar las ventas por mes\n",
    "\n",
    "Realizar un listado del total de unidades vendidas por productos separada por mes."
   ]
  },
  {
   "cell_type": "code",
   "execution_count": 15,
   "metadata": {},
   "outputs": [
    {
     "name": "stdout",
     "output_type": "stream",
     "text": [
      "Mes: 2024-08\n",
      "  Mirinda: 27 unidades\n",
      "  Torasso: 8 unidades\n",
      "  Pepsi Cola: 10 unidades\n",
      "Mes: 2024-09\n",
      "  Mirinda: 58 unidades\n",
      "  Sprite: 72 unidades\n",
      "  Coca Cola: 57 unidades\n",
      "  Pepsi Cola: 79 unidades\n",
      "  Torasso: 24 unidades\n"
     ]
    }
   ],
   "source": [
    "def ventas_por_mes(datos):\n",
    "    ventas_mensuales = {}\n",
    "\n",
    "    for venta in datos:\n",
    "\n",
    "        mes = venta['fecha'][:7]\n",
    "\n",
    "        \n",
    "        if mes in ventas_mensuales:\n",
    "\n",
    "            productos = ventas_mensuales[mes]\n",
    "\n",
    "        else:\n",
    "            productos = {}\n",
    "            ventas_mensuales[mes] = productos\n",
    "        \n",
    "       \n",
    "        if venta['producto'] in productos:\n",
    "\n",
    "            productos[venta['producto']] += venta['cantidad']\n",
    "\n",
    "        else:\n",
    "\n",
    "            productos[venta['producto']] = venta['cantidad']\n",
    "\n",
    "    return ventas_mensuales\n",
    "\n",
    "def listar_ventas_mensuales(ventas):\n",
    "\n",
    "    for mes, productos in ventas.items():\n",
    "\n",
    "        print(f\"Mes: {mes}\")\n",
    "\n",
    "        for producto, cantidad in productos.items():\n",
    "\n",
    "            print(f\"  {producto}: {cantidad} unidades\")\n",
    "\n",
    "ventas = ventas_por_mes(datos)\n",
    "listar_ventas_mensuales(ventas)"
   ]
  },
  {
   "cell_type": "markdown",
   "metadata": {},
   "source": [
    "### Ejercicio 7: Informe general\n",
    "\n",
    "Mostrar un listado de productos ordenados alfabeticamente que contengan el precio promedio, la cantidad de unidades vendidas y el importe total vendido para cada producto"
   ]
  },
  {
   "cell_type": "code",
   "execution_count": 19,
   "metadata": {},
   "outputs": [
    {
     "name": "stdout",
     "output_type": "stream",
     "text": [
      "Producto 1: Coca Cola: Precio Promedio: $1066.32, Cantidad Vendida: 57, Precio Total: $60780.00\n",
      "Producto 2: Mirinda: Precio Promedio: $1542.12, Cantidad Vendida: 85, Precio Total: $131080.00\n",
      "Producto 3: Pepsi Cola: Precio Promedio: $1241.69, Cantidad Vendida: 89, Precio Total: $110510.00\n",
      "Producto 4: Sprite: Precio Promedio: $847.78, Cantidad Vendida: 72, Precio Total: $61040.00\n",
      "Producto 5: Torasso: Precio Promedio: $916.25, Cantidad Vendida: 32, Precio Total: $29320.00\n"
     ]
    }
   ],
   "source": [
    "def resumen_ventas(datos):\n",
    "    resumen = {}\n",
    "\n",
    "    for linea in datos:\n",
    "        producto = linea[10:40].strip()\n",
    "        precio = float(linea[40:50].strip())\n",
    "        cantidad = int(linea[50:55].strip())\n",
    "\n",
    "        if producto in resumen:\n",
    "            resumen[producto][\"cantidad\"] += cantidad\n",
    "            resumen[producto][\"precio_total\"] += precio * cantidad\n",
    "        else:\n",
    "            resumen[producto] = {\"cantidad\": cantidad, \"precio_total\": precio * cantidad}\n",
    "\n",
    "    return resumen\n",
    "\n",
    "\n",
    "def informe_ventas(resumen):\n",
    "    contador = 0\n",
    "    resumen_ordenado = dict(sorted(resumen.items()))\n",
    "\n",
    "    for producto, datos in resumen_ordenado.items():\n",
    "        contador += 1\n",
    "        cantidad = datos[\"cantidad\"]\n",
    "        precio_total = datos[\"precio_total\"]\n",
    "        precio_promedio = precio_total / cantidad\n",
    "\n",
    "        print(f\"Producto {contador}: {producto}: Precio Promedio: ${precio_promedio:.2f}, \"f\"Cantidad Vendida: {cantidad}, Precio Total: ${precio_total:.2f}\")\n",
    "\n",
    "datos = open(\"datos.dat\", \"r\").readlines()\n",
    "\n",
    "resumen = resumen_ventas(datos)\n",
    "informe_ventas(resumen)"
   ]
  }
 ],
 "metadata": {
  "kernelspec": {
   "display_name": "Python 3",
   "language": "python",
   "name": "python3"
  },
  "language_info": {
   "codemirror_mode": {
    "name": "ipython",
    "version": 3
   },
   "file_extension": ".py",
   "mimetype": "text/x-python",
   "name": "python",
   "nbconvert_exporter": "python",
   "pygments_lexer": "ipython3",
   "version": "3.12.6"
  }
 },
 "nbformat": 4,
 "nbformat_minor": 2
}
