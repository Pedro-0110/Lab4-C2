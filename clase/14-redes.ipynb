{
 "cells": [
  {
   "cell_type": "code",
   "execution_count": 13,
   "metadata": {},
   "outputs": [
    {
     "name": "stdout",
     "output_type": "stream",
     "text": [
      "Pesos finales:  [0.01, 0.01] -7.528699885739343e-16\n"
     ]
    }
   ],
   "source": [
    "def percepton(x, w, b):\n",
    "    z = 0\n",
    "    for i in range(len(x)):\n",
    "        z += x[i] * w[i]\n",
    "    z += b\n",
    "    return 1 if z > 0 else 0\n",
    "\n",
    "\n",
    "X = [[0, 0], [0, 1], [1, 0], [1, 1]]\n",
    "y = [0, 1, 1, 1] #or \n",
    "\n",
    "aprendiendo = 0.01 #learning rate\n",
    "\n",
    "w = [0, 0]; b = 1\n",
    "for r in range(1000):\n",
    "    for i in range(len(X)):\n",
    "        # avanzar  (dato los pesos calculo el valor)\n",
    "        yp = percepton(X[i], w, b) # Estima el valor de y\n",
    "\n",
    "        # retrocede (dato el valor calculo los pesos)\n",
    "        e = y[i] - yp # Calcula el error\n",
    "\n",
    "        for j in range(len(w)): # Actualiza los pesos\n",
    "            w[j] += aprendiendo * e * X[i][j]\n",
    "        b += aprendiendo * e\n",
    "\n",
    "print(\"Pesos finales: \", w, b)\n"
   ]
  },
  {
   "cell_type": "code",
   "execution_count": 14,
   "metadata": {},
   "outputs": [],
   "source": [
    "import matplotlib.pyplot as plt\n",
    "def mostrarResultado(X, y, w, b):\n",
    "    for i in range(len(X)):\n",
    "        yp = percepton(X[i], w, b)\n",
    "        print(X[i], yp, '😄' if y[i] == yp else '😡')\n",
    "def mostrar(X, y, w, b):\n",
    "\n",
    "    plt.xlabel('x1')\n",
    "    plt.ylabel('x2')\n",
    "    plt.xlim(-0.2, 1.2)\n",
    "    plt.ylim(-0.2, 1.2)\n",
    "    plt.xticks([0, 1])\n",
    "    plt.yticks([0, 1])\n",
    "\n",
    "    plt.grid()\n",
    "    for x,y in zip(X,y):\n",
    "        plt.plot(x[0], x[1], 'bo' if y else 'ro', markersize=20)\n",
    "        plt.text(x[0], x[1], f'{y}', fontsize=40)\n",
    "        # Define the line equation based on weights and bias\n",
    "    x_vals = np.linspace(-0.2, 1.2, 100)\n",
    "    y_vals = -(w[0] * x_vals + b) / w[1]\n",
    "\n",
    "    # Plot the line\n",
    "    plt.plot(x_vals, y_vals, 'g--')\n",
    "    plt.show()"
   ]
  },
  {
   "cell_type": "code",
   "execution_count": 32,
   "metadata": {},
   "outputs": [],
   "source": [
    "class Perceptron:\n",
    "    def __init__(self, aprendizaje, epocas):\n",
    "        self.aprendizaje = aprendizaje\n",
    "        self.epocas = epocas\n",
    "        self.w = None  # Inicializar los pesos\n",
    "        self.b = 0\n",
    "\n",
    "    def ajustar(self, X, y):\n",
    "        self.w = [0.0] * len(X[0])  # Inicializar los pesos con ceros\n",
    "        self.b = 0\n",
    "        for r in range(self.epocas):\n",
    "            for i in range(len(X)):\n",
    "                # avanzar  (dato los pesos calculo el valor)\n",
    "                yp = self.avanzar(X[i])  # Estima el valor de y\n",
    "\n",
    "                # retrocede (dato el valor calculo los pesos)\n",
    "                e = y[i] - yp  # Calcula el error\n",
    "\n",
    "                for j in range(len(self.w)):  # Actualiza los pesos\n",
    "                    self.w[j] += self.aprendizaje * e * X[i][j]\n",
    "                self.b += self.aprendizaje * e\n",
    "\n",
    "    def avanzar(self, x):\n",
    "        suma = sum(w * xi for w, xi in zip(self.w, x)) + self.b\n",
    "        return self.activacion(suma)\n",
    "    \n",
    "    def activacion(self, x):\n",
    "        return 1 if x > 0 else 0\n",
    "\n",
    "    def predecir(self, x):\n",
    "        return self.avanzar(x)\n",
    "\n",
    "class PerceptronLinea(Perceptron):\n",
    "    def activacion(self, x):\n",
    "        return x\n"
   ]
  },
  {
   "cell_type": "code",
   "execution_count": 29,
   "metadata": {},
   "outputs": [
    {
     "name": "stdout",
     "output_type": "stream",
     "text": [
      "[0.1, 0.1] -0.1\n",
      "1\n"
     ]
    }
   ],
   "source": [
    "X = [[0, 0], [0, 1], [1, 0], [1, 1]]\n",
    "y = [0, 1, 1, 1] #or \n",
    "\n",
    "p = Perceptron(0.1, 100)\n",
    "p.ajustar(X, y)\n",
    "\n",
    "print(p.w, p.b)\n",
    "print(p.predecir([1, 0]))"
   ]
  },
  {
   "cell_type": "code",
   "execution_count": 17,
   "metadata": {},
   "outputs": [],
   "source": [
    "import pandas as pd\n",
    "def cargar(tipo='Iris-setosa'):\n",
    "    datos = pd.read_csv('iris.csv')\n",
    "    X = datos[['SepalLength', 'SepalWidth', 'PetalLength','PetalWidth' ]].values.tolist()\n",
    "    tipos = datos['Name'].values.tolist()\n",
    "    y = [1 if t == tipo else 0 for t in tipos]\n",
    "    return X, y "
   ]
  },
  {
   "cell_type": "code",
   "execution_count": 33,
   "metadata": {},
   "outputs": [
    {
     "name": "stdout",
     "output_type": "stream",
     "text": [
      "1 1\n",
      "1 1\n",
      "0 0\n",
      "0 0\n",
      "0 0\n"
     ]
    }
   ],
   "source": [
    "X, y = cargar()\n",
    "\n",
    "p = Perceptron(0.001, 1000)\n",
    "p.ajustar(X, y)\n",
    "\n",
    "for e in [20, 30, 60, 100, 120]:\n",
    "    print(p.predecir(X[e]), y[e])"
   ]
  },
  {
   "cell_type": "code",
   "execution_count": 44,
   "metadata": {},
   "outputs": [
    {
     "name": "stdout",
     "output_type": "stream",
     "text": [
      "Para 30 las ventas son de 653.7078002305275\n"
     ]
    },
    {
     "data": {
      "text/plain": [
       "[<matplotlib.lines.Line2D at 0x13f215670>]"
      ]
     },
     "execution_count": 44,
     "metadata": {},
     "output_type": "execute_result"
    },
    {
     "data": {
      "image/png": "[encoded data removed]",
      "text/plain": [
       "<Figure size 640x480 with 1 Axes>"
      ]
     },
     "metadata": {},
     "output_type": "display_data"
    }
   ],
   "source": [
    "import numpy as np\n",
    "def cargarHelado():\n",
    "    datos = pd.read_csv('helados.csv')\n",
    "    X = datos[['temperatura']].values.tolist()\n",
    "    y = datos['ventas'].values.tolist()\n",
    "    return X, y\n",
    "\n",
    "X, y = cargarHelado()\n",
    "p = PerceptronLinea(0.0001, 1000)\n",
    "p.ajustar(X, y)\n",
    "\n",
    "grado = 30\n",
    "print(f\"Para {grado} las ventas son de {p.predecir([grado])}\")\n",
    "plt.plot(X, y, 'ro')\n",
    "\n",
    "x_vals = np.linspace(20, 40, 100)\n",
    "y_vals = [p.predecir([x]) for x in x_vals]\n",
    "plt.plot(x_vals, y_vals, 'g--')"
   ]
  },
  {
   "cell_type": "code",
   "execution_count": null,
   "metadata": {},
   "outputs": [],
   "source": []
  }
 ],
 "metadata": {
  "kernelspec": {
   "display_name": "Python 3",
   "language": "python",
   "name": "python3"
  },
  "language_info": {
   "codemirror_mode": {
    "name": "ipython",
    "version": 3
   },
   "file_extension": ".py",
   "mimetype": "text/x-python",
   "name": "python",
   "nbconvert_exporter": "python",
   "pygments_lexer": "ipython3",
   "version": "3.12.5"
  }
 },
 "nbformat": 4,
 "nbformat_minor": 2
}
