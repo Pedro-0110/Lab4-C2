{
 "cells": [
  {
   "cell_type": "markdown",
   "metadata": {},
   "source": [
    "# Numpy\n",
    "Numeric python, o Numpy, es una biblioteca que proporciona soporte para grandes matrices y arreglos multidimensionales, junto con una colección de funciones matemáticas para operar en estos arreglos. Es el paquete fundamental para la computación científica con Python. Es tan importante que muchas de las otras bibliotecas en el ecosistema de ciencia de datos de Python dependen de Numpy como uno de sus principales componentes."
   ]
  },
  {
   "cell_type": "code",
   "execution_count": 7,
   "metadata": {},
   "outputs": [],
   "source": [
    "# !pip3 install numpy\n",
    "import numpy as np "
   ]
  },
  {
   "cell_type": "code",
   "execution_count": 31,
   "metadata": {},
   "outputs": [
    {
     "name": "stdout",
     "output_type": "stream",
     "text": [
      "a [1, 2, 3] 3\n",
      "x [1 2 3] 3\n",
      "[  8.8  40.  299.6]\n",
      "1\n"
     ]
    }
   ],
   "source": [
    "a = [1, 2, 3]\n",
    "b = [4, 5, 6]\n",
    "\n",
    "x = np.array(a)\n",
    "x = np.array(b)\n",
    "\n",
    "print('a',a, a[-1])\n",
    "print('x',x, x[-1])\n",
    "# print(a * b)\n",
    "print(x ** (2 + 3) * x /5 + 8)\n",
    "print(np.min(x))"
   ]
  },
  {
   "cell_type": "code",
   "execution_count": 38,
   "metadata": {},
   "outputs": [
    {
     "name": "stdout",
     "output_type": "stream",
     "text": [
      "[1, 2, 3, 4, 5, 6, 7, 8, 9]\n",
      "[1, 2, 3, 4, 5, 6, 7, 8, 9]\n",
      "[1, 2, 3, 4, 5, 6, 7, 8, 9]\n",
      "[1, 2, 3, 4, 5, 6, 7, 8, 9]\n",
      "['h', 'o', 'l', 'a', 'm', 'u', 'n', 'd', 'o']\n"
     ]
    }
   ],
   "source": [
    "a = [1, 2, 3, 4, 5, 6, 7, 8, 9]\n",
    "print(a)\n",
    "\n",
    "a=[]\n",
    "for i in range(1, 10):\n",
    "    a.append(i)\n",
    "print(a)\n",
    "\n",
    "b = [i for i in range(1, 10)]\n",
    "print(b)\n",
    "\n",
    "c = list(range(1, 10))\n",
    "print(c)\n",
    "\n",
    "print(list(\"holamundo\"))"
   ]
  },
  {
   "cell_type": "code",
   "execution_count": 42,
   "metadata": {},
   "outputs": [
    {
     "name": "stdout",
     "output_type": "stream",
     "text": [
      "[1 2 3 4 5 6 7 8 9]\n",
      "[1 3 5 7 9]\n"
     ]
    }
   ],
   "source": [
    "a = list(range(1, 10))\n",
    "x = np.array(a)\n",
    "print(x)\n",
    "x = np.arange(1, 10, 2 )\n",
    "print(x)"
   ]
  },
  {
   "cell_type": "code",
   "execution_count": 61,
   "metadata": {},
   "outputs": [
    {
     "data": {
      "image/png": "[encoded data removed]",
      "text/plain": [
       "<Figure size 640x480 with 1 Axes>"
      ]
     },
     "metadata": {},
     "output_type": "display_data"
    }
   ],
   "source": [
    "import matplotlib.pyplot as plt\n",
    "\n",
    "x = np.linspace(-np.pi, np.pi, 100)\n",
    "x = 4 * x ** 3 - 3 * x ** 2 + 2 * x - 1\n",
    "# plt.scatter(x, y)\n",
    "\n",
    "t = np.linspace(0, 2 * np.pi, 100)\n",
    "x_heart = 16 * np.sin(t)**3\n",
    "y_heart = 13 * np.cos(t) - 5 * np.cos(2*t) - 2 * np.cos(3*t) - np.cos(4*t)\n",
    "\n",
    "plt.plot(x_heart, y_heart, color='red')\n",
    "plt.title('Heart Shape')\n",
    "plt.show()"
   ]
  },
  {
   "cell_type": "code",
   "execution_count": 113,
   "metadata": {},
   "outputs": [
    {
     "name": "stdout",
     "output_type": "stream",
     "text": [
      "[1 2 3 4 5 6 7 8 9]\n",
      "[5 5 5 5 5 5 5 5 5]\n",
      "[144 147 164 167 167 109 183 121 136]\n"
     ]
    }
   ],
   "source": [
    "x = np.arange(1, 10)\n",
    "print(x)\n",
    "y = np.full(9, 5)\n",
    "print(y)\n",
    "np.random.seed(0)\n",
    "z = np.random.randint(100, 200, 9)\n",
    "print(z)"
   ]
  },
  {
   "cell_type": "code",
   "execution_count": 123,
   "metadata": {},
   "outputs": [
    {
     "name": "stdout",
     "output_type": "stream",
     "text": [
      "6\n",
      "[[1, 2, 3], [4, 5, 6], [7, 8, 9]]\n",
      "[[1 2 3]\n",
      " [4 5 6]\n",
      " [7 8 9]] (3, 3)\n",
      "6\n",
      "[[  1   2   3]\n",
      " [100 100 100]\n",
      " [  7   8   9]]\n"
     ]
    }
   ],
   "source": [
    "a = [[1, 2, 3], \n",
    "     [4, 5, 6], \n",
    "     [7, 8, 9]]\n",
    "print(a[1][2])\n",
    "print(a)\n",
    "x = np.array(a)\n",
    "print(x, x.shape)\n",
    "print(x[1, 2])\n",
    "x[1] = 100\n",
    "print(x)"
   ]
  },
  {
   "cell_type": "code",
   "execution_count": 140,
   "metadata": {},
   "outputs": [
    {
     "name": "stdout",
     "output_type": "stream",
     "text": [
      "[1 2 3 4 5 6 7 8] (8,)\n",
      "[[[1 2]\n",
      "  [3 4]]\n",
      "\n",
      " [[5 6]\n",
      "  [7 8]]] (2, 2, 2)\n",
      "8\n"
     ]
    }
   ],
   "source": [
    "x = np.arange(1, 9)\n",
    "print(x, x.shape)\n",
    "# y = x.reshape(2, 4)\n",
    "# print(y, y.shape)\n",
    "z = x.reshape(2,2,-1)\n",
    "print(z, z.shape)\n",
    "print(z[1, 1, 1])"
   ]
  },
  {
   "cell_type": "code",
   "execution_count": 149,
   "metadata": {},
   "outputs": [
    {
     "name": "stdout",
     "output_type": "stream",
     "text": [
      "[7, 6, 5, 4, 3, 2, 1]\n"
     ]
    }
   ],
   "source": [
    "a = [1, 2, 3, 4, 5, 6, 7 ]\n",
    "print(a[::-1])"
   ]
  },
  {
   "cell_type": "code",
   "execution_count": 160,
   "metadata": {},
   "outputs": [
    {
     "name": "stdout",
     "output_type": "stream",
     "text": [
      "[[ 1  2  3  4  5]\n",
      " [ 6  7  8  9 10]\n",
      " [11 12 13 14 15]\n",
      " [16 17 18 19 20]\n",
      " [21 22 23 24 25]]\n",
      "---\n",
      "[[13 14]\n",
      " [18 19]]\n",
      "[[  1   2   3   4   5]\n",
      " [  6   7   8   9  10]\n",
      " [ 11  12 100 100  15]\n",
      " [ 16  17 100 100  20]\n",
      " [ 21  22  23  24  25]]\n"
     ]
    }
   ],
   "source": [
    "x = np.arange(1, 26).reshape(5, 5)\n",
    "print(x)\n",
    "print('---')\n",
    "print(x[2:4, 2:4])\n",
    "x[2:4, 2:4] = 100\n",
    "print(x)"
   ]
  },
  {
   "cell_type": "code",
   "execution_count": null,
   "metadata": {},
   "outputs": [],
   "source": []
  },
  {
   "cell_type": "code",
   "execution_count": 179,
   "metadata": {},
   "outputs": [
    {
     "name": "stdout",
     "output_type": "stream",
     "text": [
      "[1 2 3 4 5 6 7 8 9]\n",
      "[False False  True False False  True False False  True]\n",
      "[0 0 3 0 0 6 0 0 9]\n",
      "[5 6 7]\n"
     ]
    }
   ],
   "source": [
    "x = np.arange(1, 10)\n",
    "print(x)\n",
    "y = x % 3 == 0\n",
    "print(y)\n",
    "print(x * y)\n",
    "print(x[(x > 4) & (x < 8)])\n",
    "\n"
   ]
  },
  {
   "cell_type": "code",
   "execution_count": 211,
   "metadata": {},
   "outputs": [
    {
     "data": {
      "text/plain": [
       "<matplotlib.image.AxesImage at 0x16bce2c90>"
      ]
     },
     "execution_count": 211,
     "metadata": {},
     "output_type": "execute_result"
    },
    {
     "data": {
      "image/png": "[encoded data removed]",
      "text/plain": [
       "<Figure size 640x480 with 1 Axes>"
      ]
     },
     "metadata": {},
     "output_type": "display_data"
    }
   ],
   "source": [
    "from PIL import Image\n",
    "import matplotlib.pyplot as plt\n",
    "\n",
    "# Cargar la imagen\n",
    "image = Image.open('../../señal.png')\n",
    "\n",
    "x = np.array(image)\n",
    "\n",
    "# fig, [r,g,b,a] = plt.subplots(1, 4, figsize=(15, 10))\n",
    "\n",
    "# Mostrar el canal R\n",
    "# r.imshow(x[:, :, 0], cmap='Reds')\n",
    "# g.imshow(x[:, :, 1], cmap='Greens')\n",
    "# b.imshow(x[:, :, 2], cmap='Blues')\n",
    "# a.imshow(x[:, :, 3], cmap='gray')\n",
    "\n",
    "# plt.show()\n",
    "centro = x[::10, ::10]\n",
    "plt.imshow(centro)\n",
    "# x[150:300, 150:300] = 0\n",
    "# plt.imshow(x)"
   ]
  },
  {
   "cell_type": "code",
   "execution_count": 229,
   "metadata": {},
   "outputs": [
    {
     "name": "stdout",
     "output_type": "stream",
     "text": [
      "[   3.18953903   -1.80930445  -12.78331581 -163.89061343]\n"
     ]
    },
    {
     "data": {
      "text/plain": [
       "[<matplotlib.lines.Line2D at 0x1750b24e0>]"
      ]
     },
     "execution_count": 229,
     "metadata": {},
     "output_type": "execute_result"
    },
    {
     "data": {
      "image/png": "[encoded data removed]",
      "text/plain": [
       "<Figure size 640x480 with 1 Axes>"
      ]
     },
     "metadata": {},
     "output_type": "display_data"
    }
   ],
   "source": [
    "x = np.linspace(-10, 10, 20)\n",
    "y = 3 * x ** 3 - 2 * x ** 2 + 5 * x - 7\n",
    "yr = y + np.random.normal(0, 400, 20)\n",
    "c = np.polyfit(x, yr, 3)\n",
    "print(c)\n",
    "polinomio = np.poly1d(c)\n",
    "\n",
    "plt.scatter(x, yr)\n",
    "plt.plot(x, y, color='red', linewidth=20)\n",
    "plt.plot(x, polinomio(x), color='green', linewidth=10)"
   ]
  },
  {
   "cell_type": "code",
   "execution_count": null,
   "metadata": {},
   "outputs": [],
   "source": []
  }
 ],
 "metadata": {
  "kernelspec": {
   "display_name": "Python 3",
   "language": "python",
   "name": "python3"
  },
  "language_info": {
   "codemirror_mode": {
    "name": "ipython",
    "version": 3
   },
   "file_extension": ".py",
   "mimetype": "text/x-python",
   "name": "python",
   "nbconvert_exporter": "python",
   "pygments_lexer": "ipython3",
   "version": "3.12.5"
  }
 },
 "nbformat": 4,
 "nbformat_minor": 2
}
