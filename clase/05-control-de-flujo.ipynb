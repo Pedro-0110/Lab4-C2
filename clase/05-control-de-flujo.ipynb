{
 "cells": [
  {
   "cell_type": "code",
   "execution_count": 1,
   "metadata": {},
   "outputs": [
    {
     "name": "stdout",
     "output_type": "stream",
     "text": [
      "5\n",
      "12\n"
     ]
    }
   ],
   "source": [
    "# En python se ejecuta de arriba hacía abajo linea por linea\n",
    "def suma(a,b):  # Define la función suma\n",
    "    r = a + b   \n",
    "    return r\n",
    "\n",
    "a, b = 2, 3\n",
    "print(suma(a,b)) # volver a la 8\n",
    "print(suma(5,7)) # volver a la 9 \n"
   ]
  },
  {
   "cell_type": "code",
   "execution_count": 5,
   "metadata": {},
   "outputs": [
    {
     "name": "stdout",
     "output_type": "stream",
     "text": [
      "a >= 10\n"
     ]
    }
   ],
   "source": [
    "# La función se puede definir en cualquier parte del código\n",
    "a = 20\n",
    "if a < 10:\n",
    "    def f():\n",
    "        print(\"a < 10\")\n",
    "else:\n",
    "    def f():\n",
    "        print(\"a >= 10\")\n",
    "a = 20\n",
    "\n",
    "f() #> a >= 10\n",
    "a = 5\n",
    "f() #> a >= 10"
   ]
  },
  {
   "cell_type": "code",
   "execution_count": 6,
   "metadata": {},
   "outputs": [],
   "source": [
    "# sintaxis \n",
    "# if <condicion> :\n",
    "#     <bloque>\n",
    "# [else:\n",
    "#     <bloque>]\n",
    "\n",
    "a = 10\n",
    "b =  5 \n",
    "\n",
    "# if anidados (por el else)\n",
    "if a < b:\n",
    "    menor = a \n",
    "else:\n",
    "    if b < a:\n",
    "        menor = b \n",
    "    else:\n",
    "        menor = a\n",
    "\n",
    "# if encadenados (probando todas las condiciones)\n",
    "if a < b:\n",
    "    menor = a \n",
    "elif b < a:     # innecesario por que ya se sabe que not a < b (a >= b)\n",
    "    menor = b \n",
    "else:       \n",
    "    menor = b   # innecesario por que ya se sabe que a == b\n",
    "\n",
    "# if en secuencia (probando una a una las condiciones)\n",
    "if a < b:\n",
    "    menor = a \n",
    "\n",
    "if b < a:\n",
    "    menor = b\n",
    "\n",
    "if a == b:\n",
    "    menor = a \n",
    "\n",
    "# if simple (solo una condición)\n",
    "if a < b:\n",
    "    menor = a \n",
    "else:\n",
    "    menor = b \n"
   ]
  },
  {
   "cell_type": "code",
   "execution_count": 7,
   "metadata": {},
   "outputs": [],
   "source": [
    "a =  5\n",
    "b = 10\n",
    "c =  7\n",
    "\n",
    "# if anidados\n",
    "if a < b:\n",
    "    if a < c:       # a < b y a < c\n",
    "        menor = a\n",
    "    else:           # c <= a < b\n",
    "        menor = c\n",
    "else:    # b <= a\n",
    "    if b < c:       # b < c <= a\n",
    "        menor = b\n",
    "    else:           # b <= c <= a\n",
    "        menor = c\n",
    "\n",
    "        "
   ]
  },
  {
   "cell_type": "code",
   "execution_count": 8,
   "metadata": {},
   "outputs": [],
   "source": [
    "a =  5\n",
    "b = 10\n",
    "c =  7\n",
    "d =  9\n",
    "\n",
    "# if anidados (4 variables == 3 niveles de anidación)\n",
    "if a < b:\n",
    "    if a < c:\n",
    "        if a < d:\n",
    "            menor = a\n",
    "        else:\n",
    "            menor = d\n",
    "    else:\n",
    "        if c < d:\n",
    "            menor = c\n",
    "        else:\n",
    "            menor = d\n",
    "else:\n",
    "    if b < c:\n",
    "        if b < d:\n",
    "            menor = b\n",
    "        else:\n",
    "            menor = d\n",
    "    else:\n",
    "        if c < d:\n",
    "            menor = c\n",
    "        else:\n",
    "            menor = d"
   ]
  },
  {
   "cell_type": "code",
   "execution_count": 10,
   "metadata": {},
   "outputs": [],
   "source": [
    "d = 20\n",
    "\n",
    "if a < b and a < c and a < d:\n",
    "    menor = a\n",
    "\n",
    "if b < a and b < c and b < d:\n",
    "    menor = b\n",
    "\n",
    "if c < a and c < b and c < d:\n",
    "    menor = c\n",
    "\n",
    "if d < a and d < b and d < c:\n",
    "    menor = d"
   ]
  },
  {
   "cell_type": "code",
   "execution_count": 11,
   "metadata": {},
   "outputs": [],
   "source": [
    "menor = a \n",
    "\n",
    "if b < menor:\n",
    "    menor = b\n",
    "\n",
    "if c < menor:\n",
    "    menor = c\n",
    "\n",
    "if d < menor:\n",
    "    menor = d"
   ]
  },
  {
   "cell_type": "code",
   "execution_count": 13,
   "metadata": {},
   "outputs": [],
   "source": [
    "# while <condicion>:\n",
    "#   <bloque>\n",
    "#   [break]\n",
    "#   [continue]\n",
    "# [else:\n",
    "#     <bloque>\n",
    "# ]\n"
   ]
  },
  {
   "cell_type": "code",
   "execution_count": 15,
   "metadata": {},
   "outputs": [
    {
     "name": "stdout",
     "output_type": "stream",
     "text": [
      "5050\n"
     ]
    }
   ],
   "source": [
    "# Sumar los numeros del 1 al 100\n",
    "suma = 0\n",
    "i = 1\n",
    "while i <= 100:\n",
    "    suma += i # s = s + i\n",
    "    i += 1    # i = i + 1\n",
    "\n",
    "print(suma)"
   ]
  },
  {
   "cell_type": "code",
   "execution_count": 25,
   "metadata": {},
   "outputs": [
    {
     "name": "stdout",
     "output_type": "stream",
     "text": [
      "402387260077093773543702433923003985719374864210714632543799910429938512398629020592044208486969404800479988610197196058631666872994808558901323829669944590997424504087073759918823627727188732519779505950995276120874975462497043601418278094646496291056393887437886487337119181045825783647849977012476632889835955735432513185323958463075557409114262417474349347553428646576611667797396668820291207379143853719588249808126867838374559731746136085379534524221586593201928090878297308431392844403281231558611036976801357304216168747609675871348312025478589320767169132448426236131412508780208000261683151027341827977704784635868170164365024153691398281264810213092761244896359928705114964975419909342221566832572080821333186116811553615836546984046708975602900950537616475847728421889679646244945160765353408198901385442487984959953319101723355556602139450399736280750137837615307127761926849034352625200015888535147331611702103968175921510907788019393178114194545257223865541461062892187960223838971476088506276862967146674697562911234082439208160153780889893964518263243671616762179168909779911903754031274622289988005195444414282012187361745992642956581746628302955570299024324153181617210465832036786906117260158783520751516284225540265170483304226143974286933061690897968482590125458327168226458066526769958652682272807075781391858178889652208164348344825993266043367660176999612831860788386150279465955131156552036093988180612138558600301435694527224206344631797460594682573103790084024432438465657245014402821885252470935190620929023136493273497565513958720559654228749774011413346962715422845862377387538230483865688976461927383814900140767310446640259899490222221765904339901886018566526485061799702356193897017860040811889729918311021171229845901641921068884387121855646124960798722908519296819372388642614839657382291123125024186649353143970137428531926649875337218940694281434118520158014123344828015051399694290153483077644569099073152433278288269864602789864321139083506217095002597389863554277196742822248757586765752344220207573630569498825087968928162753848863396909959826280956121450994871701244516461260379029309120889086942028510640182154399457156805941872748998094254742173582401063677404595741785160829230135358081840096996372524230560855903700624271243416909004153690105933983835777939410970027753472000000000000000000000000000000000000000000000000000000000000000000000000000000000000000000000000000000000000000000000000000000000000000000000000000000000000000000000000000000000000000000000000000000000000000000000000000000000000000000000000000000000\n"
     ]
    }
   ],
   "source": [
    "fac = 1\n",
    "i = 1\n",
    "while i <= 1000:\n",
    "    fac *= i \n",
    "    i += 1\n",
    "\n",
    "print(fac)"
   ]
  },
  {
   "cell_type": "code",
   "execution_count": 27,
   "metadata": {},
   "outputs": [
    {
     "name": "stdout",
     "output_type": "stream",
     "text": [
      "112\n"
     ]
    }
   ],
   "source": [
    "l = [12, 10, 17, 25, 40, 8]\n",
    "suma = 0\n",
    "i = 0\n",
    "while i < len(l):\n",
    "    suma += l[i]\n",
    "    i += 1\n",
    "\n",
    "print(suma)"
   ]
  },
  {
   "cell_type": "code",
   "execution_count": 28,
   "metadata": {},
   "outputs": [
    {
     "name": "stdout",
     "output_type": "stream",
     "text": [
      "ok\n"
     ]
    }
   ],
   "source": [
    "# Buscar un numero en una lista (usando una bandera)\n",
    "\n",
    "l = [12, 10, 17, 25, 40, 8]\n",
    "encontrado = False\n",
    "i = 0\n",
    "n = 25\n",
    "while i < len(l):\n",
    "    if  l[i] == n:\n",
    "        encontrado = True \n",
    "        break\n",
    "    i += 1\n",
    "\n",
    "if encontrado:\n",
    "    print(\"ok\")\n",
    "else:\n",
    "    print(\":(\")\n"
   ]
  },
  {
   "cell_type": "code",
   "execution_count": 30,
   "metadata": {},
   "outputs": [
    {
     "name": "stdout",
     "output_type": "stream",
     "text": [
      "ok\n"
     ]
    }
   ],
   "source": [
    "# Buscar un numero en una lista (usando un else)\n",
    "l = [12, 10, 17, 25, 40, 8]\n",
    "\n",
    "i = 0\n",
    "n = 25\n",
    "while i < len(l):\n",
    "    if  l[i] == n:\n",
    "        print(\"ok\") \n",
    "        break\n",
    "    i += 1\n",
    "else:\n",
    "    print(\":(\")\n"
   ]
  },
  {
   "cell_type": "code",
   "execution_count": 31,
   "metadata": {},
   "outputs": [],
   "source": [
    "i = 10 \n",
    "s = 0\n",
    "\n",
    "while i < 100:\n",
    "    i += 1\n",
    "    if i % 2 != 0:\n",
    "        continue\n",
    "    s += i\n",
    "    if s > 100:\n",
    "        break\n"
   ]
  },
  {
   "cell_type": "code",
   "execution_count": 32,
   "metadata": {},
   "outputs": [
    {
     "name": "stdout",
     "output_type": "stream",
     "text": [
      "ok\n"
     ]
    }
   ],
   "source": [
    "l = [12, 10, 17, 25, 40, 8]\n",
    "\n",
    "for i in range(1, len(l), 2):\n",
    "    if l[i] == 25:\n",
    "        print(\"ok\")\n",
    "        break\n",
    "else:\n",
    "    print(\":(\")\n"
   ]
  },
  {
   "cell_type": "code",
   "execution_count": 35,
   "metadata": {},
   "outputs": [
    {
     "name": "stdout",
     "output_type": "stream",
     "text": [
      "ok en  3\n",
      "(0, 12)\n",
      "(1, 10)\n",
      "(2, 17)\n",
      "(3, 25)\n",
      "ok en  3\n"
     ]
    }
   ],
   "source": [
    "l = [12, 10, 17, 25, 40, 8]\n",
    "\n",
    "i = 0\n",
    "for x in l:\n",
    "    if x == 25:\n",
    "        print(\"ok en \", i)\n",
    "        break\n",
    "    i += 1\n",
    "else:\n",
    "    print(\":(\")\n",
    "\n",
    "for par in enumerate(l):\n",
    "    print(par)\n",
    "    i, x = par \n",
    "    if x == 25:\n",
    "        print(\"ok en \", i)\n",
    "        break\n",
    "else:\n",
    "    print(\":(\")"
   ]
  },
  {
   "cell_type": "code",
   "execution_count": 37,
   "metadata": {},
   "outputs": [
    {
     "name": "stdout",
     "output_type": "stream",
     "text": [
      "(0, 5)\n",
      "(1, 7)\n",
      "(2, 9)\n",
      "(3, 11)\n",
      "(4, 13)\n",
      "(5, 15)\n",
      "(6, 17)\n",
      "(7, 19)\n",
      "(8, 21)\n",
      "(9, 23)\n",
      "(10, 25)\n",
      "(11, 27)\n",
      "(12, 29)\n",
      "(13, 31)\n",
      "(14, 33)\n",
      "(15, 35)\n",
      "(16, 37)\n",
      "(17, 39)\n",
      "(18, 41)\n",
      "(19, 43)\n",
      "(20, 45)\n",
      "(21, 47)\n",
      "(22, 49)\n"
     ]
    }
   ],
   "source": [
    "for par in enumerate(range(5,50,2)):\n",
    "    print(par)"
   ]
  },
  {
   "cell_type": "code",
   "execution_count": null,
   "metadata": {},
   "outputs": [],
   "source": [
    "a = 10\n",
    "b = 20\n",
    "# if como sentencia\n",
    "if a < b:\n",
    "    r = a\n",
    "else:\n",
    "    r = b \n",
    "\n",
    "# if ternario (expreciones condicionales)\n",
    "r = a if a < b else b \n"
   ]
  }
 ],
 "metadata": {
  "kernelspec": {
   "display_name": "Python 3",
   "language": "python",
   "name": "python3"
  },
  "language_info": {
   "codemirror_mode": {
    "name": "ipython",
    "version": 3
   },
   "file_extension": ".py",
   "mimetype": "text/x-python",
   "name": "python",
   "nbconvert_exporter": "python",
   "pygments_lexer": "ipython3",
   "version": "3.12.5"
  }
 },
 "nbformat": 4,
 "nbformat_minor": 2
}
