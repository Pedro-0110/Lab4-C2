{
 "cells": [
  {
   "cell_type": "code",
   "execution_count": 5,
   "metadata": {},
   "outputs": [
    {
     "name": "stdout",
     "output_type": "stream",
     "text": [
      "(0, 3) + (2, 1) = (2, 4)\n",
      "(0, 0) es el origen\n"
     ]
    }
   ],
   "source": [
    "class Punto2D:\n",
    "    def __init__(self, x, y):\n",
    "        self.x = x\n",
    "        self.y = y\n",
    "    \n",
    "    def __str__(self):\n",
    "        return f\"({self.x}, {self.y})\"\n",
    "    \n",
    "    def __bool__(self):\n",
    "        return self.x != 0 or self.y != 0\n",
    "    \n",
    "    def __eq__(self, otro):\n",
    "        return self.x == otro.x and self.y == otro.y    \n",
    "    \n",
    "    def __add__(self,otro):\n",
    "        return Punto2D(self.x + otro.x, self.y + otro.y)\n",
    "    \n",
    "o = Punto2D(0, 0)\n",
    "a = Punto2D(0, 3)\n",
    "b = Punto2D(2, 1)\n",
    "c = a + b\n",
    "print(f\"{a} + {b} = {a + b}\")\n",
    "if not o:\n",
    "    print(f\"{o} es el origen\")"
   ]
  },
  {
   "cell_type": "code",
   "execution_count": 6,
   "metadata": {},
   "outputs": [
    {
     "name": "stdout",
     "output_type": "stream",
     "text": [
      "Perez, Juan (23)\n",
      "Perez, Juan\n"
     ]
    }
   ],
   "source": [
    "\n",
    "class Persona:\n",
    "    def __init__(self, nombre, apellido, edad):\n",
    "        self.nombre = nombre\n",
    "        self.apellido = apellido\n",
    "        self.edad = edad\n",
    "    @property\n",
    "    def nombreCompleto(self):\n",
    "        return f\"{self.apellido}, {self.nombre}\"\n",
    "    \n",
    "    def __bool__(self):\n",
    "        return self.nombre != \"\" or self.apellido != \"\"\n",
    "    \n",
    "    def __eq__(self, otro):\n",
    "        return self.nombreCompleto == otro.nombreCompleto\n",
    "    \n",
    "    def __str__(self):\n",
    "        return f\"{self.nombreCompleto} ({self.edad})\"\n",
    "\n",
    "p1 = Persona(\"Juan\", \"Perez\", 23)\n",
    "p2 = Persona(\"Maria\", \"Gomez\", 23)\n",
    "\n",
    "if p1 == p2:\n",
    "    print(\"Son la misma persona\")\n",
    "    \n",
    "print(p1)\n",
    "print(p1.nombreCompleto)"
   ]
  },
  {
   "cell_type": "code",
   "execution_count": 13,
   "metadata": {},
   "outputs": [
    {
     "name": "stdout",
     "output_type": "stream",
     "text": [
      "Perez, Juan\n",
      "Perez, Juan (23) - $50000\n",
      "Perez, Juan (23) - $55000\n"
     ]
    }
   ],
   "source": [
    "\n",
    "class Empleado(Persona):\n",
    "    def __init__(self, nombre, apellido, edad, sueldo):\n",
    "        super().__init__(nombre, apellido, edad)\n",
    "        self.sueldo = sueldo\n",
    "        \n",
    "    def __str__(self):\n",
    "        return f\"{super().__str__()} - ${self.sueldo:.0f}\"\n",
    "    \n",
    "    @property\n",
    "    def sueldoAnual(self):\n",
    "        return self.sueldo * 12\n",
    "    \n",
    "    def aumento(self, porcentaje):\n",
    "        self.sueldo *= 1 + porcentaje / 100\n",
    "\n",
    "e1 = Empleado(\"Juan\", \"Perez\", 23, 50000)\n",
    "e2 = Empleado(\"Josefa\", \"Lopez\", 23, 60000)\n",
    "print(e1.nombreCompleto)\n",
    "print(e1)\n",
    "e1.aumento(10)\n",
    "print(e1)"
   ]
  },
  {
   "cell_type": "code",
   "execution_count": 8,
   "metadata": {},
   "outputs": [],
   "source": [
    "class Jefe(Empleado):\n",
    "    def __init__(self, nombre, apellido, edad, sueldo, bono):\n",
    "        super().__init__(nombre, apellido, edad, sueldo)\n",
    "        self.bono = bono\n",
    "        self.empleados = []\n",
    "        \n",
    "    def __str__(self):\n",
    "        return f\"{super().__str__()} - ${self.bono:.0f}\"\n",
    "    \n",
    "    def aumento(self, porcentaje):\n",
    "        super().aumento(porcentaje)\n",
    "        self.bono *= 1 + porcentaje / 100\n",
    "        for e in self.empleados:\n",
    "            e.aumento(porcentaje/2)\n",
    "    \n",
    "    def __len__(self):\n",
    "        return len(self.empleados)\n",
    "    \n",
    "    @property\n",
    "    def sueldoAnual(self):\n",
    "        return super().sueldoAnual + self.bono * 12\n",
    "    def contratar(self, empleado):\n",
    "        self.empleados.append(empleado)\n",
    "\n",
    "    def despedir(self, empleado):\n",
    "        self.empleados.remove(empleado)"
   ]
  },
  {
   "cell_type": "code",
   "execution_count": 9,
   "metadata": {},
   "outputs": [],
   "source": [
    "j1 = Jefe(\"Franco\", \"Di Battista\", 20, 50000, 10000)\n",
    "e1 = Empleado(\"Juan\", \"Perez\", 23, 50000)\n",
    "e2 = Empleado(\"Josefa\", \"Lopez\", 23, 60000)\n",
    "j1.contratar(e1)\n",
    "j1.contratar(e2)"
   ]
  },
  {
   "cell_type": "code",
   "execution_count": 10,
   "metadata": {},
   "outputs": [],
   "source": [
    "gj = Jefe(\"Alejandro\", \"Di Battista\", 56, 150000, 10000)\n",
    "gj.contratar(j1)\n",
    "gj.contratar( Empleado('Ana', 'Diaz', 30, 80000) )\n"
   ]
  },
  {
   "cell_type": "code",
   "execution_count": null,
   "metadata": {},
   "outputs": [],
   "source": []
  }
 ],
 "metadata": {
  "kernelspec": {
   "display_name": "Python 3",
   "language": "python",
   "name": "python3"
  },
  "language_info": {
   "codemirror_mode": {
    "name": "ipython",
    "version": 3
   },
   "file_extension": ".py",
   "mimetype": "text/x-python",
   "name": "python",
   "nbconvert_exporter": "python",
   "pygments_lexer": "ipython3",
   "version": "3.12.5"
  }
 },
 "nbformat": 4,
 "nbformat_minor": 2
}
