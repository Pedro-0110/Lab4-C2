{
 "cells": [
  {
   "cell_type": "code",
   "execution_count": 53,
   "metadata": {},
   "outputs": [
    {
     "name": "stdout",
     "output_type": "stream",
     "text": [
      "2021-01-01 Coca Cola            $100.00 *  10 = $1000.00\n",
      "2021-01-01 Coca Cola            $100.00 *   5 = $500.00\n",
      "Se invoca el metodo __bool__\n",
      "No tiene stock\n",
      "Se invoca el metodo __bool__\n",
      "2021-01-01 Coca Cola            $100.00 *   0 = $  0.00\n"
     ]
    },
    {
     "data": {
      "text/plain": [
       "{'__bool__', 'importe', 'precio', 'toDat', 'vender'}"
      ]
     },
     "execution_count": 53,
     "metadata": {},
     "output_type": "execute_result"
    }
   ],
   "source": [
    "class Venta:\n",
    "    def __init__(self, fecha, producto, precio, cantidad):\n",
    "        self.fecha = fecha\n",
    "        self.producto = producto\n",
    "        self.precio = precio\n",
    "        self.cantidad = cantidad\n",
    "\n",
    "    def vender(self, cantidad):\n",
    "        if cantidad > self.cantidad:\n",
    "            raise ValueError(\"Trata de vender mas de lo que tiene\")\n",
    "        self.cantidad -= cantidad\n",
    "\n",
    "    @property\n",
    "    def precio(self):\n",
    "        return self.__precio    \n",
    "    \n",
    "    @precio.setter\n",
    "    def precio(self, precio):\n",
    "        if precio > 0:\n",
    "            self.__precio = precio\n",
    "        else:\n",
    "            self.__precio = 0\n",
    "\n",
    "    @property\n",
    "    def importe(self):\n",
    "        return self.precio * self.cantidad\n",
    "    \n",
    "    def toDat(self):\n",
    "        return f\"{self.fecha:10}{self.producto:40}{self.precio:10}{self.cantidad:5}\"\n",
    "\n",
    "    def __eq__(self, other):\n",
    "        return self.producto == other.producto \n",
    "    \n",
    "    def __str__(self):\n",
    "        return f\"{self.fecha:10} {self.producto:20} ${self.precio:6.2f} * {self.cantidad:3} = ${self.importe:6.2f}\"\n",
    "    \n",
    "    def __bool__(self):\n",
    "        print(\"Se invoca el metodo __bool__\")\n",
    "        return self.cantidad > 0\n",
    "    \n",
    "\n",
    "v1 = Venta('2021-01-01', 'Coca Cola', 100, 10)  \n",
    "\n",
    "print(v1)\n",
    "v1.vender(5)\n",
    "print(v1)\n",
    "v1.cantidad = 0\n",
    "if v1:\n",
    "    print(\"Tiene stock\")\n",
    "else:\n",
    "    print(\"No tiene stock\")\n",
    "\n",
    "a = v1 and True and 1 > 3 \n",
    "print(v1)\n",
    "\n",
    "class Base:\n",
    "    pass \n",
    "set(dir(Venta)) - set(dir(Base))\n"
   ]
  },
  {
   "cell_type": "code",
   "execution_count": 55,
   "metadata": {},
   "outputs": [
    {
     "name": "stdout",
     "output_type": "stream",
     "text": [
      "Son diferentes\n"
     ]
    },
    {
     "data": {
      "text/plain": [
       "['_Venta__precio',\n",
       " '__annotations__',\n",
       " '__bool__',\n",
       " '__class__',\n",
       " '__delattr__',\n",
       " '__dict__',\n",
       " '__dir__',\n",
       " '__doc__',\n",
       " '__eq__',\n",
       " '__format__',\n",
       " '__ge__',\n",
       " '__getattribute__',\n",
       " '__getstate__',\n",
       " '__gt__',\n",
       " '__hash__',\n",
       " '__init__',\n",
       " '__init_subclass__',\n",
       " '__le__',\n",
       " '__lt__',\n",
       " '__module__',\n",
       " '__ne__',\n",
       " '__new__',\n",
       " '__reduce__',\n",
       " '__reduce_ex__',\n",
       " '__repr__',\n",
       " '__setattr__',\n",
       " '__sizeof__',\n",
       " '__str__',\n",
       " '__subclasshook__',\n",
       " '__weakref__',\n",
       " 'cantidad',\n",
       " 'fecha',\n",
       " 'importe',\n",
       " 'precio',\n",
       " 'producto',\n",
       " 'toDat',\n",
       " 'vender']"
      ]
     },
     "execution_count": 55,
     "metadata": {},
     "output_type": "execute_result"
    }
   ],
   "source": [
    "c1 = Venta('2021-01-01', 'Coca Cola', 100, 10)  \n",
    "pc = Venta('2021-01-01', 'Pepsi Cola', 90, 10)\n",
    "c2 = Venta('2021-01-01', 'Coca Cola', 120, 10)\n",
    "if c1 == c2:\n",
    "    print(\"Son iguales\")\n",
    "else:\n",
    "    print(\"Son diferentes\")\n",
    "\n",
    "\n",
    "dir(c1)"
   ]
  },
  {
   "cell_type": "code",
   "execution_count": 61,
   "metadata": {},
   "outputs": [
    {
     "name": "stdout",
     "output_type": "stream",
     "text": [
      "{'__weakref__', '__bool__', '__annotations__', 'vender', 'toDat', '__module__', '__dict__', 'precio', 'importe'}\n"
     ]
    }
   ],
   "source": [
    "a = set(dir(Venta)) -  set(dir(list))\n",
    "print(a)"
   ]
  },
  {
   "cell_type": "code",
   "execution_count": 58,
   "metadata": {},
   "outputs": [
    {
     "data": {
      "text/plain": [
       "'ABABCDDDDD'"
      ]
     },
     "execution_count": 58,
     "metadata": {},
     "output_type": "execute_result"
    }
   ],
   "source": [
    "((\"A\" + \"B\") * 2 ) + (\"C\" + \"D\" * 5)"
   ]
  }
 ],
 "metadata": {
  "kernelspec": {
   "display_name": "Python 3",
   "language": "python",
   "name": "python3"
  },
  "language_info": {
   "codemirror_mode": {
    "name": "ipython",
    "version": 3
   },
   "file_extension": ".py",
   "mimetype": "text/x-python",
   "name": "python",
   "nbconvert_exporter": "python",
   "pygments_lexer": "ipython3",
   "version": "3.12.5"
  }
 },
 "nbformat": 4,
 "nbformat_minor": 2
}
