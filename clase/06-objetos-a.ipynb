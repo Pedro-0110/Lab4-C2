{
 "cells": [
  {
   "cell_type": "code",
   "execution_count": 5,
   "metadata": {},
   "outputs": [
    {
     "name": "stdout",
     "output_type": "stream",
     "text": [
      "primero\n",
      "segundo\n",
      "tercero\n",
      "cuarto\n"
     ]
    }
   ],
   "source": [
    "def Stack():\n",
    "    return {'cantidad': 0, 'items': [None] * 10}\n",
    "\n",
    "def push(pila, valor):\n",
    "    pila['items'][pila['cantidad']] = valor \n",
    "    pila['cantidad'] += 1\n",
    "\n",
    "def pop(pila):\n",
    "    pila['cantidad'] -=1\n",
    "    return pila['items'][pila['cantidad']]\n",
    "\n",
    "def empty(pila):\n",
    "    return pila['cantidad'] == 0\n",
    "\n",
    "a = Stack()\n",
    "b = Stack()\n",
    "\n",
    "push(a, 'primero')\n",
    "push(a, 'segundo')\n",
    "push(a, 'tercero')\n",
    "push(a, 'cuarto')\n",
    "\n",
    "while not empty(a):\n",
    "    push(b, pop(a))\n",
    "\n",
    "while not empty(b):\n",
    "    print(pop(b))"
   ]
  },
  {
   "cell_type": "code",
   "execution_count": 7,
   "metadata": {},
   "outputs": [
    {
     "name": "stdout",
     "output_type": "stream",
     "text": [
      "primero\n",
      "segundo\n",
      "tercero\n",
      "cuarto\n"
     ]
    }
   ],
   "source": [
    "def Stack():\n",
    "    return []\n",
    "\n",
    "def push(pila, valor):\n",
    "    pila.append(valor)\n",
    "\n",
    "def pop(pila):\n",
    "    return pila.pop()\n",
    "\n",
    "def empty(pila):\n",
    "    return len(pila) == 0\n",
    "\n",
    "a = Stack()\n",
    "b = Stack()\n",
    "\n",
    "push(a, 'primero')\n",
    "push(a, 'segundo')\n",
    "push(a, 'tercero')\n",
    "push(a, 'cuarto')\n",
    "\n",
    "while not empty(a):\n",
    "    push(b, pop(a))\n",
    "\n",
    "while not empty(b):\n",
    "    print(pop(b))"
   ]
  },
  {
   "cell_type": "code",
   "execution_count": 11,
   "metadata": {},
   "outputs": [
    {
     "name": "stdout",
     "output_type": "stream",
     "text": [
      "tercero\n",
      "segundo\n",
      "primero\n"
     ]
    }
   ],
   "source": [
    "class Pila:\n",
    "    def __init__(self):\n",
    "        self.items = []\n",
    "\n",
    "    def push(self, valor):\n",
    "        self.items.append(valor)\n",
    "\n",
    "    def pop(self):\n",
    "        return self.items.pop()\n",
    "\n",
    "    def empty(self):\n",
    "        return len(self.items) == 0\n",
    "\n",
    "a = Pila()\n",
    "a.push('primero') # Pila.push(a, 'primero')\n",
    "a.push('segundo') # Pila.push(a, 'segundo')\n",
    "a.push('tercero') # Pila.push(a, 'tercero')\n",
    "\n",
    "while not a.empty():\n",
    "    print(a.pop())\n",
    "    \n"
   ]
  },
  {
   "cell_type": "code",
   "execution_count": 34,
   "metadata": {},
   "outputs": [
    {
     "name": "stdout",
     "output_type": "stream",
     "text": [
      "primero\n",
      "segundo\n",
      "tercero\n",
      "<class '__main__.Cola'>\n",
      "Cola(['tercero', 'segundo', 'primero'])\n",
      "La cola tiene elementos\n",
      "['__abs__', '__add__', '__and__', '__bool__', '__ceil__', '__class__', '__delattr__', '__dir__', '__divmod__', '__doc__', '__eq__', '__float__', '__floor__', '__floordiv__', '__format__', '__ge__', '__getattribute__', '__getnewargs__', '__getstate__', '__gt__', '__hash__', '__index__', '__init__', '__init_subclass__', '__int__', '__invert__', '__le__', '__lshift__', '__lt__', '__mod__', '__mul__', '__ne__', '__neg__', '__new__', '__or__', '__pos__', '__pow__', '__radd__', '__rand__', '__rdivmod__', '__reduce__', '__reduce_ex__', '__repr__', '__rfloordiv__', '__rlshift__', '__rmod__', '__rmul__', '__ror__', '__round__', '__rpow__', '__rrshift__', '__rshift__', '__rsub__', '__rtruediv__', '__rxor__', '__setattr__', '__sizeof__', '__str__', '__sub__', '__subclasshook__', '__truediv__', '__trunc__', '__xor__', 'as_integer_ratio', 'bit_count', 'bit_length', 'conjugate', 'denominator', 'from_bytes', 'imag', 'is_integer', 'numerator', 'real', 'to_bytes']\n"
     ]
    }
   ],
   "source": [
    "class Cola(Pila):\n",
    "    def __init__(self):\n",
    "        self.items = []\n",
    "\n",
    "    def push(self, valor):\n",
    "        self.items.insert(0, valor)\n",
    "\n",
    "    def __str__(self):\n",
    "        return f'Cola({(self.items)})'\n",
    "    \n",
    "    def __bool__(self):\n",
    "        return len(self.items) > 0\n",
    "    \n",
    "    def __add__(self, otro):\n",
    "        self.push(otro)\n",
    "        return self\n",
    "    \n",
    "    \n",
    "a = Cola()\n",
    "a.push('primero') # Pila.push(a, 'primero')\n",
    "a.push('segundo') # Pila.push(a, 'segundo')\n",
    "a.push('tercero') # Pila.push(a, 'tercero')\n",
    "while not a.empty():\n",
    "    print(a.pop())\n",
    "    \n",
    "print(type(a))\n",
    "# dir(a)\n",
    "dir(a)\n",
    "a.nombre = 'Cola'\n",
    "a.push('primero')\n",
    "a.push('segundo')\n",
    "\n",
    "a = a + 'tercero'\n",
    "\n",
    "\n",
    "print(a)\n",
    "if a:\n",
    "    print('La cola tiene elementos')\n",
    "else:\n",
    "    print('La cola esta vacia')\n",
    "print(dir(10))"
   ]
  },
  {
   "cell_type": "code",
   "execution_count": 16,
   "metadata": {},
   "outputs": [
    {
     "data": {
      "text/plain": [
       "False"
      ]
     },
     "execution_count": 16,
     "metadata": {},
     "output_type": "execute_result"
    }
   ],
   "source": [
    "a = str(100)\n",
    "\n",
    "a\n",
    "bool([])"
   ]
  }
 ],
 "metadata": {
  "kernelspec": {
   "display_name": "Python 3",
   "language": "python",
   "name": "python3"
  },
  "language_info": {
   "codemirror_mode": {
    "name": "ipython",
    "version": 3
   },
   "file_extension": ".py",
   "mimetype": "text/x-python",
   "name": "python",
   "nbconvert_exporter": "python",
   "pygments_lexer": "ipython3",
   "version": "3.12.5"
  }
 },
 "nbformat": 4,
 "nbformat_minor": 2
}
