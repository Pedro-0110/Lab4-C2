{
 "cells": [
  {
   "cell_type": "markdown",
   "metadata": {},
   "source": [
    "# TP6\n",
    "\n",
    "### `Resolver usando Pandas`\n",
    "\n",
    "Resolver los ejercicios del TP3 utilizando la librería Pandas."
   ]
  },
  {
   "cell_type": "markdown",
   "metadata": {},
   "source": [
    "### Ejercicio 1: Cargar Datos de ventas.\n",
    "\n",
    "El archivo datos.dat contiene el registro de las ventas realizadas.\n",
    "\n",
    "Tiene un formato de ancho fijo:\n",
    "- `fecha`:    10 lugares\n",
    "- `producto`: 30 lugares\n",
    "- `precio`:   10 lugares\n",
    "- `cantidad`:  5 lugares\n",
    "\n",
    "Hacer una funcion que cargue los datos en un DataFrame de Pandas."
   ]
  },
  {
   "cell_type": "code",
   "execution_count": null,
   "metadata": {},
   "outputs": [],
   "source": [
    "def cargar_datos():\n",
    "    pass # Implementar la función cargar_datos\n",
    "\n",
    "datos = cargar_datos()\n",
    "datos "
   ]
  },
  {
   "cell_type": "markdown",
   "metadata": {},
   "source": [
    "### Ejercicio 2: Calcular el total de ventas.\n",
    "Hacer una función que sume los importes vendidos (precio * cantidad) y las cantidades.\n"
   ]
  },
  {
   "cell_type": "code",
   "execution_count": null,
   "metadata": {},
   "outputs": [],
   "source": [
    "def calcular_totales(datos):\n",
    "    pass # implementar\n",
    "\n",
    "importe, cantidad = calcular_totales(datos)\n",
    "\n",
    "print(f\"Las ventas fueron de ${importe:2.f} en {cantidad} unidades\")"
   ]
  },
  {
   "cell_type": "markdown",
   "metadata": {},
   "source": [
    "### Ejercicio 3: Listar las unidades vendidas.\n",
    "Listar cuántas unidades se vendieron en total para cada producto\n"
   ]
  },
  {
   "cell_type": "code",
   "execution_count": null,
   "metadata": {},
   "outputs": [],
   "source": [
    "def unidades_vendidas(datos):\n",
    "    pass\n",
    "\n",
    "unidades_vendidas(datos)"
   ]
  },
  {
   "cell_type": "markdown",
   "metadata": {},
   "source": [
    "###  Ejercicio 4: Listar el precio promedio por producto.\n",
    "Hacer un listado del precio promedio por producto.\n"
   ]
  },
  {
   "cell_type": "code",
   "execution_count": null,
   "metadata": {},
   "outputs": [],
   "source": [
    "def precio_promedio(datos):\n",
    "    pass # Implementar\n",
    "\n",
    "precio_promedio(datos)"
   ]
  },
  {
   "cell_type": "markdown",
   "metadata": {},
   "source": [
    "### Ejercicio 5: Ranking de productos\n",
    "Realizar un listado de los 3 productos más vendidos ordenados por la cantidad de unidades vendidas (ordenadas de mayor a menor)\n"
   ]
  },
  {
   "cell_type": "code",
   "execution_count": null,
   "metadata": {},
   "outputs": [],
   "source": [
    "def ranking_productos(datos, top=3):\n",
    "    pass # Implementar\n",
    "\n",
    "ranking_productos(datos)"
   ]
  },
  {
   "cell_type": "markdown",
   "metadata": {},
   "source": [
    "### Ejercicio 6: Listar las ventas por mes\n",
    "Realizar un listado del total de unidades vendidas por producto separado por mes.\n"
   ]
  },
  {
   "cell_type": "code",
   "execution_count": null,
   "metadata": {},
   "outputs": [],
   "source": [
    "def ventas_por_mes(datos):\n",
    "    pass # Implementar\n",
    "\n",
    "ventas_por_mes(datos)"
   ]
  },
  {
   "cell_type": "markdown",
   "metadata": {},
   "source": [
    "### Ejercicio 7: Informe general\n",
    "\n",
    "Mostrar un listado de productos ordenados alfabeticamente que contengan el precio promedio, la cantidad de unidades vendidas y el importe total vendido para cada producto"
   ]
  },
  {
   "cell_type": "code",
   "execution_count": null,
   "metadata": {},
   "outputs": [],
   "source": [
    "def resumen_ventas(datos):\n",
    "    pass # Implementar\n",
    "\n",
    "resumen_ventas(datos)"
   ]
  },
  {
   "cell_type": "markdown",
   "metadata": {},
   "source": [
    "## `Resolver usando NumPy`\n",
    "## Resolver el ejercicio 2 del tp1 usando NumPy"
   ]
  },
  {
   "cell_type": "markdown",
   "metadata": {},
   "source": [
    "### Ejercicio 8\n",
    "\n",
    "Escribe una función en Python que encuentre los valores de `a`, `b`, y `c` para que la función cuadrática `f(x) = a x^2 + b x + c` pase exactamente por los siguientes puntos:\n",
    "\n",
    "| x  | y  |\n",
    "|---:|---:|\n",
    "|  0 |  0 |\n",
    "|  1 |  8 |\n",
    "|  2 | 12 |\n",
    "|  3 | 12 |\n",
    "|  5 |  0 |\n",
    "\n",
    "### Requisitos:\n",
    "- La función debe explorar posibles valores de `a`, `b`, y `c` utilizando un método de prueba y error.\n",
    "- Debe devolver los valores que hagan que la diferencia entre la función `f(x)` y los valores medidos `y` sea exactamente cero para cada punto.\n",
    "\n",
    "> **Pista**: Los valores de `a`, `b`, y `c` son números pequeños.\n",
    "\n",
    "La idea es implementar el mismo algoritmo que se uso en el TP1 pero usando NumPy en lugar de Python puro."
   ]
  },
  {
   "cell_type": "code",
   "execution_count": 4,
   "metadata": {},
   "outputs": [
    {
     "data": {
      "text/plain": [
       "(-2, 10, 0)"
      ]
     },
     "execution_count": 4,
     "metadata": {},
     "output_type": "execute_result"
    }
   ],
   "source": [
    "import numpy as np\n",
    "def f(x, coeficientes):\n",
    "    a,b,c = coeficientes\n",
    "    return a*x**2 + b*x + c\n",
    "\n",
    "def error(y, y_pred):\n",
    "    return y - y_pred\n",
    "\n",
    "X = np.array([0,1,2,3,5])\n",
    "Y = np.array([0,8,12,12,0])\n",
    "\n",
    "def buscar_coeficientes():\n",
    "    pass # Implementar\n",
    "\n",
    "coeficientes = buscar_coeficientes()\n",
    "coeficientes"
   ]
  },
  {
   "cell_type": "markdown",
   "metadata": {},
   "source": [
    "### Ejercicio 9: Resolver el ejercicio 3 del TP1 usando NumPy\n",
    "Buscar los coeficientes de la función que minimice la suma de los cuadrados de las diferencias entre los valores medidos y los valores de la función.\n",
    "\n",
    "1. Crear un array con los coeficientes elegidos al azar (usar `randint(-10,10,3)`).\n",
    "2. Calcular el valor de la función y el error correspondiente.\n",
    "3. Mientras que el error sea mayor a 1:\n",
    "    1. Definir nuevos coeficientes agregándoles un pequeño valor al azar a los coeficientes actuales (aprendizaje = 0.001).\n",
    "    2. Si el error para los nuevos coeficientes es menor que el anterior, reemplazar los coeficientes actuales por los nuevos.\n"
   ]
  },
  {
   "cell_type": "code",
   "execution_count": 121,
   "metadata": {},
   "outputs": [
    {
     "name": "stdout",
     "output_type": "stream",
     "text": [
      "Los coeficientes son [-1.781  8.961  0.615] y el error es 0.9958049999998968\n"
     ]
    },
    {
     "data": {
      "text/plain": [
       "array([-1.781,  8.961,  0.615])"
      ]
     },
     "execution_count": 121,
     "metadata": {},
     "output_type": "execute_result"
    }
   ],
   "source": [
    "import numpy as np\n",
    "from numpy.random import randint\n",
    "\n",
    "def f(x, coeficientes):\n",
    "    a,b,c = coeficientes\n",
    "    return a*x**2 + b*x + c\n",
    "\n",
    "def error(y, y_pred):\n",
    "    return np.sum((y - y_pred)**2)\n",
    "\n",
    "X = np.array([0, 1, 2, 3, 5])\n",
    "Y = np.array([0, 8,12,11, 1]) # Observar que no son los mismos valores que en el ejemplo anterior\n",
    "\n",
    "def buscar_coeficientes():\n",
    "    pass # Implementar\n",
    "\n",
    "\n",
    "coeficientes = buscar_coeficientes()\n",
    "coeficientes"
   ]
  },
  {
   "cell_type": "code",
   "execution_count": 35,
   "metadata": {},
   "outputs": [
    {
     "name": "stdout",
     "output_type": "stream",
     "text": [
      "[-1.92  9.55  0.18]\n"
     ]
    },
    {
     "data": {
      "text/plain": [
       "[<matplotlib.lines.Line2D at 0x14550c6b0>]"
      ]
     },
     "execution_count": 35,
     "metadata": {},
     "output_type": "execute_result"
    },
    {
     "data": {
      "image/png": "[encoded data removed]",
      "text/plain": [
       "<Figure size 640x480 with 1 Axes>"
      ]
     },
     "metadata": {},
     "output_type": "display_data"
    }
   ],
   "source": [
    "import numpy as np\n",
    "import matplotlib.pyplot as plt\n",
    "\n",
    "def f(x, coeficientes):\n",
    "    a,b,c = coeficientes\n",
    "    return a*x**2 + b*x + c\n",
    "\n",
    "X = np.array([0,1,2,3,5])\n",
    "Y = np.array([0,8,12,11,0])\n",
    "\n",
    "coeficientes = np.polyfit(X, Y, 2)\n",
    "g = np.poly1d(coeficientes)\n",
    "\n",
    "print(np.round(coeficientes, 2))\n",
    "plt.plot(X, Y, 'rx')\n",
    "plt.grid()\n",
    "xr = np.linspace(min(X), max(X), 100)\n",
    "yr = g(xr)\n",
    "plt.plot(xr,yr)"
   ]
  },
  {
   "cell_type": "code",
   "execution_count": 24,
   "metadata": {},
   "outputs": [
    {
     "name": "stdout",
     "output_type": "stream",
     "text": [
      "-2 10 0\n"
     ]
    }
   ],
   "source": [
    "def f(x, coeficientes):\n",
    "    a,b,c = coeficientes\n",
    "    return a*x**2 + b*x + c\n",
    "\n",
    "X = [0,1,2,3,5]\n",
    "Y = [0,8,12,12,0]\n",
    "rango = range(-10,11)\n",
    "for a in rango:\n",
    "    for b in rango:\n",
    "        for c in rango:\n",
    "            y = [f(x, [a,b,c]) for x in X]\n",
    "            if y == Y:\n",
    "                print(a,b,c)"
   ]
  },
  {
   "cell_type": "code",
   "execution_count": 47,
   "metadata": {},
   "outputs": [
    {
     "name": "stdout",
     "output_type": "stream",
     "text": [
      "[-2.0000000000000284, 9.999999999999929, -0.20000000000003482]\n",
      "[-1.92194404  9.54933726  0.1826215 ]\n"
     ]
    },
    {
     "data": {
      "text/plain": [
       "[<matplotlib.lines.Line2D at 0x145275220>]"
      ]
     },
     "execution_count": 47,
     "metadata": {},
     "output_type": "execute_result"
    },
    {
     "data": {
      "image/png": "[encoded data removed]",
      "text/plain": [
       "<Figure size 640x480 with 1 Axes>"
      ]
     },
     "metadata": {},
     "output_type": "display_data"
    }
   ],
   "source": [
    "def error(y,yp):\n",
    "    return np.sum((y - yp)**2)\n",
    "\n",
    "X = np.array([0,1,2,3,5])\n",
    "Y = np.array([0,8,12,11,0])\n",
    "rango = np.arange(-10,11, 0.2)\n",
    "e = np.inf\n",
    "c = [None, None, None]\n",
    "for a in rango:\n",
    "    for b in rango:\n",
    "        for c in rango:\n",
    "            y = f(X, [a,b,c])\n",
    "            ne = error(Y, y)\n",
    "            if ne < e:\n",
    "                e = ne\n",
    "                coeficientes = [a,b,c]\n",
    "print(coeficientes)\n",
    "print(np.polyfit(X, Y, 2))\n",
    "xr = np.linspace(min(X), max(X), 100)\n",
    "yr = f(xr, coeficientes)\n",
    "plt.plot(xr,yr)\n",
    "plt.plot(X,Y,'rx')"
   ]
  },
  {
   "cell_type": "code",
   "execution_count": 61,
   "metadata": {},
   "outputs": [
    {
     "name": "stdout",
     "output_type": "stream",
     "text": [
      "1000 34 [-2  9  4]\n",
      "2000 34 [-2  9  4]\n",
      "3000 14 [-2  9  2]\n",
      "4000 14 [-2  9  2]\n",
      "5000 14 [-2  9  2]\n",
      "6000 14 [-2  9  2]\n",
      "7000 14 [-2  9  2]\n",
      "8000 14 [-2  9  2]\n",
      "9000 14 [-2  9  2]\n",
      "10000 14 [-2  9  2]\n",
      "11000 14 [-2  9  2]\n",
      "12000 4 [-2 10 -1]\n",
      "13000 4 [-2 10 -1]\n",
      "14000 4 [-2 10 -1]\n",
      "15000 4 [-2 10 -1]\n",
      "16000 4 [-2 10 -1]\n",
      "17000 4 [-2 10 -1]\n",
      "18000 4 [-2 10 -1]\n",
      "19000 4 [-2 10 -1]\n",
      "20000 4 [-2 10 -1]\n",
      "21000 4 [-2 10 -1]\n",
      "22000 4 [-2 10 -1]\n",
      "23000 4 [-2 10 -1]\n",
      "24000 4 [-2 10 -1]\n",
      "25000 4 [-2 10 -1]\n",
      "26000 4 [-2 10 -1]\n",
      "27000 4 [-2 10 -1]\n",
      "28000 4 [-2 10 -1]\n",
      "29000 4 [-2 10 -1]\n",
      "[-2 10  0]\n",
      "[-1.92194404  9.54933726  0.1826215 ]\n"
     ]
    },
    {
     "data": {
      "text/plain": [
       "[<matplotlib.lines.Line2D at 0x14452e900>]"
      ]
     },
     "execution_count": 61,
     "metadata": {},
     "output_type": "execute_result"
    },
    {
     "data": {
      "image/png": "[encoded data removed]",
      "text/plain": [
       "<Figure size 640x480 with 1 Axes>"
      ]
     },
     "metadata": {},
     "output_type": "display_data"
    }
   ],
   "source": [
    "def error(y,yp):\n",
    "    return np.sum((y - yp)**2)\n",
    "\n",
    "X = np.array([0,1,2,3,5])\n",
    "Y = np.array([0,8,12,11,0])\n",
    "rango = np.arange(-10,11, 0.2)\n",
    "e = np.inf\n",
    "coeficientes = np.random.randint(-10, 10, 3)\n",
    "aprendizaje = 0.01\n",
    "n = 0 \n",
    "while e > 1 and n < 100_000:\n",
    "    nuevos = coeficientes + aprendizaje * np.random.randint(-10, 10, 3)\n",
    "    y = f(X, nuevos)\n",
    "    ne = error(Y, y)\n",
    "    if ne < e:\n",
    "        e = ne\n",
    "        coeficientes = nuevos\n",
    "    n += 1\n",
    "    if n % 1000 == 0:\n",
    "        print(n, e, coeficientes)\n",
    "print(coeficientes)\n",
    "print(np.polyfit(X, Y, 2))\n",
    "xr = np.linspace(min(X), max(X), 100)\n",
    "yr = f(xr, coeficientes)\n",
    "plt.plot(xr,yr)\n",
    "plt.plot(X,Y,'rx')"
   ]
  },
  {
   "cell_type": "code",
   "execution_count": 69,
   "metadata": {},
   "outputs": [
    {
     "name": "stdout",
     "output_type": "stream",
     "text": [
      "10000 0.5331369661330629 [-1.92194438  9.54933934  0.18261932]\n",
      "20000 0.5331369661266572 [-1.92194404  9.54933726  0.1826215 ]\n",
      "30000 0.5331369661266568 [-1.92194404  9.54933726  0.1826215 ]\n",
      "40000 0.5331369661266568 [-1.92194404  9.54933726  0.1826215 ]\n",
      "50000 0.5331369661266568 [-1.92194404  9.54933726  0.1826215 ]\n",
      "60000 0.5331369661266568 [-1.92194404  9.54933726  0.1826215 ]\n",
      "70000 0.5331369661266568 [-1.92194404  9.54933726  0.1826215 ]\n",
      "80000 0.5331369661266568 [-1.92194404  9.54933726  0.1826215 ]\n",
      "90000 0.5331369661266568 [-1.92194404  9.54933726  0.1826215 ]\n",
      "100000 0.5331369661266568 [-1.92194404  9.54933726  0.1826215 ]\n",
      "[-1.92194404  9.54933726  0.1826215 ] 0.5331369661266568\n",
      "[-1.92194404  9.54933726  0.1826215 ]\n"
     ]
    },
    {
     "data": {
      "image/png": "[encoded data removed]",
      "text/plain": [
       "<Figure size 640x480 with 1 Axes>"
      ]
     },
     "metadata": {},
     "output_type": "display_data"
    }
   ],
   "source": [
    "import numpy as np\n",
    "import matplotlib.pyplot as plt\n",
    "\n",
    "def f(x, coeficientes):\n",
    "    a, b, c = coeficientes\n",
    "    return a * x**2 + b * x + c*1\n",
    "\n",
    "def error(y, yp):\n",
    "    return np.sum((y - yp)**2)\n",
    "\n",
    "X = np.array([0, 1, 2, 3, 5], dtype=float)\n",
    "Y = np.array([0, 8, 12, 11, 0], dtype=float)\n",
    "\n",
    "coeficientes = np.random.uniform(-10, 10, 3)  # Usar float en lugar de int para evitar problemas de casting\n",
    "aprendizaje = 0.001  # Reducir la tasa de aprendizaje para una convergencia adecuada\n",
    "n = 0\n",
    "y = f(X, coeficientes)  # Asegurarse de que y esté definido antes del bucle\n",
    "\n",
    "while n < 100_000:\n",
    "    ga = -2. * np.sum((Y - y) * X**2)\n",
    "    gb = -2. * np.sum((Y - y) * X)\n",
    "    gc = -2. * np.sum(Y - y)\n",
    "    gradientes = np.array([ga, gb, gc], dtype=float)  # Asegurar que los gradientes sean float\n",
    "    coeficientes -= gradientes * aprendizaje\n",
    "    y = f(X, coeficientes)\n",
    "    n += 1\n",
    "    if n % 10000 == 0:\n",
    "        print(n, error(Y, y), coeficientes)\n",
    "\n",
    "print(coeficientes, error(Y, y))\n",
    "print(np.polyfit(X, Y, 2))\n",
    "\n",
    "xr = np.linspace(min(X), max(X), 100)\n",
    "yr = f(xr, coeficientes)\n",
    "plt.plot(xr, yr)\n",
    "plt.plot(X, Y, 'rx')\n",
    "plt.xlabel('X')\n",
    "plt.ylabel('Y')\n",
    "plt.title('Ajuste de Curva')\n",
    "plt.show()"
   ]
  }
 ],
 "metadata": {
  "kernelspec": {
   "display_name": "Python 3",
   "language": "python",
   "name": "python3"
  },
  "language_info": {
   "codemirror_mode": {
    "name": "ipython",
    "version": 3
   },
   "file_extension": ".py",
   "mimetype": "text/x-python",
   "name": "python",
   "nbconvert_exporter": "python",
   "pygments_lexer": "ipython3",
   "version": "3.12.5"
  }
 },
 "nbformat": 4,
 "nbformat_minor": 2
}
